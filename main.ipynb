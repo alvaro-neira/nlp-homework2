{
  "nbformat": 4,
  "nbformat_minor": 0,
  "metadata": {
    "colab": {
      "name": "Tarea 2  NLP -  Grupo 3",
      "provenance": [],
      "collapsed_sections": [
        "mRSEUuUJHlOe"
      ],
      "machine_shape": "hm"
    },
    "kernelspec": {
      "name": "python3",
      "display_name": "Python 3"
    },
    "language_info": {
      "name": "python"
    },
    "widgets": {
      "application/vnd.jupyter.widget-state+json": {
        "476c10618d5b4aff816df4bde445fe51": {
          "model_module": "@jupyter-widgets/controls",
          "model_name": "HBoxModel",
          "model_module_version": "1.5.0",
          "state": {
            "_view_name": "HBoxView",
            "_dom_classes": [],
            "_model_name": "HBoxModel",
            "_view_module": "@jupyter-widgets/controls",
            "_model_module_version": "1.5.0",
            "_view_count": null,
            "_view_module_version": "1.5.0",
            "box_style": "",
            "layout": "IPY_MODEL_1c6eaa19d6194911bec5fe1090a3219a",
            "_model_module": "@jupyter-widgets/controls",
            "children": [
              "IPY_MODEL_2acfc5c6476c4287aacc1e95ec1f3516",
              "IPY_MODEL_5fd0483eb9154fa89c84b635c189068e",
              "IPY_MODEL_6846d202c1cc44e5b3aa2e615129f15d"
            ]
          }
        },
        "1c6eaa19d6194911bec5fe1090a3219a": {
          "model_module": "@jupyter-widgets/base",
          "model_name": "LayoutModel",
          "model_module_version": "1.2.0",
          "state": {
            "_view_name": "LayoutView",
            "grid_template_rows": null,
            "right": null,
            "justify_content": null,
            "_view_module": "@jupyter-widgets/base",
            "overflow": null,
            "_model_module_version": "1.2.0",
            "_view_count": null,
            "flex_flow": null,
            "width": null,
            "min_width": null,
            "border": null,
            "align_items": null,
            "bottom": null,
            "_model_module": "@jupyter-widgets/base",
            "top": null,
            "grid_column": null,
            "overflow_y": null,
            "overflow_x": null,
            "grid_auto_flow": null,
            "grid_area": null,
            "grid_template_columns": null,
            "flex": null,
            "_model_name": "LayoutModel",
            "justify_items": null,
            "grid_row": null,
            "max_height": null,
            "align_content": null,
            "visibility": null,
            "align_self": null,
            "height": null,
            "min_height": null,
            "padding": null,
            "grid_auto_rows": null,
            "grid_gap": null,
            "max_width": null,
            "order": null,
            "_view_module_version": "1.2.0",
            "grid_template_areas": null,
            "object_position": null,
            "object_fit": null,
            "grid_auto_columns": null,
            "margin": null,
            "display": null,
            "left": null
          }
        },
        "2acfc5c6476c4287aacc1e95ec1f3516": {
          "model_module": "@jupyter-widgets/controls",
          "model_name": "HTMLModel",
          "model_module_version": "1.5.0",
          "state": {
            "_view_name": "HTMLView",
            "style": "IPY_MODEL_1a7a7cfd1dc74cc988939cd087d69302",
            "_dom_classes": [],
            "description": "",
            "_model_name": "HTMLModel",
            "placeholder": "​",
            "_view_module": "@jupyter-widgets/controls",
            "_model_module_version": "1.5.0",
            "value": "Downloading: 100%",
            "_view_count": null,
            "_view_module_version": "1.5.0",
            "description_tooltip": null,
            "_model_module": "@jupyter-widgets/controls",
            "layout": "IPY_MODEL_6c4e6e60a7414769a3c5d64a571dbdd9"
          }
        },
        "5fd0483eb9154fa89c84b635c189068e": {
          "model_module": "@jupyter-widgets/controls",
          "model_name": "FloatProgressModel",
          "model_module_version": "1.5.0",
          "state": {
            "_view_name": "ProgressView",
            "style": "IPY_MODEL_63ff596db51e43e09caeac9255ce343f",
            "_dom_classes": [],
            "description": "",
            "_model_name": "FloatProgressModel",
            "bar_style": "success",
            "max": 465,
            "_view_module": "@jupyter-widgets/controls",
            "_model_module_version": "1.5.0",
            "value": 465,
            "_view_count": null,
            "_view_module_version": "1.5.0",
            "orientation": "horizontal",
            "min": 0,
            "description_tooltip": null,
            "_model_module": "@jupyter-widgets/controls",
            "layout": "IPY_MODEL_5b6568a5143a4d4aa0582a00e9d92e15"
          }
        },
        "6846d202c1cc44e5b3aa2e615129f15d": {
          "model_module": "@jupyter-widgets/controls",
          "model_name": "HTMLModel",
          "model_module_version": "1.5.0",
          "state": {
            "_view_name": "HTMLView",
            "style": "IPY_MODEL_b5aa36e2272e4efcb6e48f10a7996046",
            "_dom_classes": [],
            "description": "",
            "_model_name": "HTMLModel",
            "placeholder": "​",
            "_view_module": "@jupyter-widgets/controls",
            "_model_module_version": "1.5.0",
            "value": " 465/465 [00:00&lt;00:00, 14.6kB/s]",
            "_view_count": null,
            "_view_module_version": "1.5.0",
            "description_tooltip": null,
            "_model_module": "@jupyter-widgets/controls",
            "layout": "IPY_MODEL_f3a9b6dc3a8b4252ae8ef5f27133b35f"
          }
        },
        "1a7a7cfd1dc74cc988939cd087d69302": {
          "model_module": "@jupyter-widgets/controls",
          "model_name": "DescriptionStyleModel",
          "model_module_version": "1.5.0",
          "state": {
            "_view_name": "StyleView",
            "_model_name": "DescriptionStyleModel",
            "description_width": "",
            "_view_module": "@jupyter-widgets/base",
            "_model_module_version": "1.5.0",
            "_view_count": null,
            "_view_module_version": "1.2.0",
            "_model_module": "@jupyter-widgets/controls"
          }
        },
        "6c4e6e60a7414769a3c5d64a571dbdd9": {
          "model_module": "@jupyter-widgets/base",
          "model_name": "LayoutModel",
          "model_module_version": "1.2.0",
          "state": {
            "_view_name": "LayoutView",
            "grid_template_rows": null,
            "right": null,
            "justify_content": null,
            "_view_module": "@jupyter-widgets/base",
            "overflow": null,
            "_model_module_version": "1.2.0",
            "_view_count": null,
            "flex_flow": null,
            "width": null,
            "min_width": null,
            "border": null,
            "align_items": null,
            "bottom": null,
            "_model_module": "@jupyter-widgets/base",
            "top": null,
            "grid_column": null,
            "overflow_y": null,
            "overflow_x": null,
            "grid_auto_flow": null,
            "grid_area": null,
            "grid_template_columns": null,
            "flex": null,
            "_model_name": "LayoutModel",
            "justify_items": null,
            "grid_row": null,
            "max_height": null,
            "align_content": null,
            "visibility": null,
            "align_self": null,
            "height": null,
            "min_height": null,
            "padding": null,
            "grid_auto_rows": null,
            "grid_gap": null,
            "max_width": null,
            "order": null,
            "_view_module_version": "1.2.0",
            "grid_template_areas": null,
            "object_position": null,
            "object_fit": null,
            "grid_auto_columns": null,
            "margin": null,
            "display": null,
            "left": null
          }
        },
        "63ff596db51e43e09caeac9255ce343f": {
          "model_module": "@jupyter-widgets/controls",
          "model_name": "ProgressStyleModel",
          "model_module_version": "1.5.0",
          "state": {
            "_view_name": "StyleView",
            "_model_name": "ProgressStyleModel",
            "description_width": "",
            "_view_module": "@jupyter-widgets/base",
            "_model_module_version": "1.5.0",
            "_view_count": null,
            "_view_module_version": "1.2.0",
            "bar_color": null,
            "_model_module": "@jupyter-widgets/controls"
          }
        },
        "5b6568a5143a4d4aa0582a00e9d92e15": {
          "model_module": "@jupyter-widgets/base",
          "model_name": "LayoutModel",
          "model_module_version": "1.2.0",
          "state": {
            "_view_name": "LayoutView",
            "grid_template_rows": null,
            "right": null,
            "justify_content": null,
            "_view_module": "@jupyter-widgets/base",
            "overflow": null,
            "_model_module_version": "1.2.0",
            "_view_count": null,
            "flex_flow": null,
            "width": null,
            "min_width": null,
            "border": null,
            "align_items": null,
            "bottom": null,
            "_model_module": "@jupyter-widgets/base",
            "top": null,
            "grid_column": null,
            "overflow_y": null,
            "overflow_x": null,
            "grid_auto_flow": null,
            "grid_area": null,
            "grid_template_columns": null,
            "flex": null,
            "_model_name": "LayoutModel",
            "justify_items": null,
            "grid_row": null,
            "max_height": null,
            "align_content": null,
            "visibility": null,
            "align_self": null,
            "height": null,
            "min_height": null,
            "padding": null,
            "grid_auto_rows": null,
            "grid_gap": null,
            "max_width": null,
            "order": null,
            "_view_module_version": "1.2.0",
            "grid_template_areas": null,
            "object_position": null,
            "object_fit": null,
            "grid_auto_columns": null,
            "margin": null,
            "display": null,
            "left": null
          }
        },
        "b5aa36e2272e4efcb6e48f10a7996046": {
          "model_module": "@jupyter-widgets/controls",
          "model_name": "DescriptionStyleModel",
          "model_module_version": "1.5.0",
          "state": {
            "_view_name": "StyleView",
            "_model_name": "DescriptionStyleModel",
            "description_width": "",
            "_view_module": "@jupyter-widgets/base",
            "_model_module_version": "1.5.0",
            "_view_count": null,
            "_view_module_version": "1.2.0",
            "_model_module": "@jupyter-widgets/controls"
          }
        },
        "f3a9b6dc3a8b4252ae8ef5f27133b35f": {
          "model_module": "@jupyter-widgets/base",
          "model_name": "LayoutModel",
          "model_module_version": "1.2.0",
          "state": {
            "_view_name": "LayoutView",
            "grid_template_rows": null,
            "right": null,
            "justify_content": null,
            "_view_module": "@jupyter-widgets/base",
            "overflow": null,
            "_model_module_version": "1.2.0",
            "_view_count": null,
            "flex_flow": null,
            "width": null,
            "min_width": null,
            "border": null,
            "align_items": null,
            "bottom": null,
            "_model_module": "@jupyter-widgets/base",
            "top": null,
            "grid_column": null,
            "overflow_y": null,
            "overflow_x": null,
            "grid_auto_flow": null,
            "grid_area": null,
            "grid_template_columns": null,
            "flex": null,
            "_model_name": "LayoutModel",
            "justify_items": null,
            "grid_row": null,
            "max_height": null,
            "align_content": null,
            "visibility": null,
            "align_self": null,
            "height": null,
            "min_height": null,
            "padding": null,
            "grid_auto_rows": null,
            "grid_gap": null,
            "max_width": null,
            "order": null,
            "_view_module_version": "1.2.0",
            "grid_template_areas": null,
            "object_position": null,
            "object_fit": null,
            "grid_auto_columns": null,
            "margin": null,
            "display": null,
            "left": null
          }
        },
        "2f9cfb54aeb94e68b5afd9167318d412": {
          "model_module": "@jupyter-widgets/controls",
          "model_name": "HBoxModel",
          "model_module_version": "1.5.0",
          "state": {
            "_view_name": "HBoxView",
            "_dom_classes": [],
            "_model_name": "HBoxModel",
            "_view_module": "@jupyter-widgets/controls",
            "_model_module_version": "1.5.0",
            "_view_count": null,
            "_view_module_version": "1.5.0",
            "box_style": "",
            "layout": "IPY_MODEL_0a1a3d8d63fe4ee491685f7ab6b84715",
            "_model_module": "@jupyter-widgets/controls",
            "children": [
              "IPY_MODEL_4cd6d5f158c64698b6f250e321632947",
              "IPY_MODEL_7f725411afca4440b38310fd8848d4c4",
              "IPY_MODEL_bfc8c49e6b6b4ee69279df53c02ba805"
            ]
          }
        },
        "0a1a3d8d63fe4ee491685f7ab6b84715": {
          "model_module": "@jupyter-widgets/base",
          "model_name": "LayoutModel",
          "model_module_version": "1.2.0",
          "state": {
            "_view_name": "LayoutView",
            "grid_template_rows": null,
            "right": null,
            "justify_content": null,
            "_view_module": "@jupyter-widgets/base",
            "overflow": null,
            "_model_module_version": "1.2.0",
            "_view_count": null,
            "flex_flow": null,
            "width": null,
            "min_width": null,
            "border": null,
            "align_items": null,
            "bottom": null,
            "_model_module": "@jupyter-widgets/base",
            "top": null,
            "grid_column": null,
            "overflow_y": null,
            "overflow_x": null,
            "grid_auto_flow": null,
            "grid_area": null,
            "grid_template_columns": null,
            "flex": null,
            "_model_name": "LayoutModel",
            "justify_items": null,
            "grid_row": null,
            "max_height": null,
            "align_content": null,
            "visibility": null,
            "align_self": null,
            "height": null,
            "min_height": null,
            "padding": null,
            "grid_auto_rows": null,
            "grid_gap": null,
            "max_width": null,
            "order": null,
            "_view_module_version": "1.2.0",
            "grid_template_areas": null,
            "object_position": null,
            "object_fit": null,
            "grid_auto_columns": null,
            "margin": null,
            "display": null,
            "left": null
          }
        },
        "4cd6d5f158c64698b6f250e321632947": {
          "model_module": "@jupyter-widgets/controls",
          "model_name": "HTMLModel",
          "model_module_version": "1.5.0",
          "state": {
            "_view_name": "HTMLView",
            "style": "IPY_MODEL_2a2375d36493435fa29df0272d26b543",
            "_dom_classes": [],
            "description": "",
            "_model_name": "HTMLModel",
            "placeholder": "​",
            "_view_module": "@jupyter-widgets/controls",
            "_model_module_version": "1.5.0",
            "value": "Downloading: 100%",
            "_view_count": null,
            "_view_module_version": "1.5.0",
            "description_tooltip": null,
            "_model_module": "@jupyter-widgets/controls",
            "layout": "IPY_MODEL_eb83ff0afca34fb9a3e100ac57640794"
          }
        },
        "7f725411afca4440b38310fd8848d4c4": {
          "model_module": "@jupyter-widgets/controls",
          "model_name": "FloatProgressModel",
          "model_module_version": "1.5.0",
          "state": {
            "_view_name": "ProgressView",
            "style": "IPY_MODEL_092c5d7973b344b9b99439cf19a32a67",
            "_dom_classes": [],
            "description": "",
            "_model_name": "FloatProgressModel",
            "bar_style": "success",
            "max": 439457860,
            "_view_module": "@jupyter-widgets/controls",
            "_model_module_version": "1.5.0",
            "value": 439457860,
            "_view_count": null,
            "_view_module_version": "1.5.0",
            "orientation": "horizontal",
            "min": 0,
            "description_tooltip": null,
            "_model_module": "@jupyter-widgets/controls",
            "layout": "IPY_MODEL_66ee064e5d0b49ec9d8c1e22f9fce842"
          }
        },
        "bfc8c49e6b6b4ee69279df53c02ba805": {
          "model_module": "@jupyter-widgets/controls",
          "model_name": "HTMLModel",
          "model_module_version": "1.5.0",
          "state": {
            "_view_name": "HTMLView",
            "style": "IPY_MODEL_b2204ff2a1c5413195eb6b3c4ad320bf",
            "_dom_classes": [],
            "description": "",
            "_model_name": "HTMLModel",
            "placeholder": "​",
            "_view_module": "@jupyter-widgets/controls",
            "_model_module_version": "1.5.0",
            "value": " 419M/419M [00:10&lt;00:00, 47.9MB/s]",
            "_view_count": null,
            "_view_module_version": "1.5.0",
            "description_tooltip": null,
            "_model_module": "@jupyter-widgets/controls",
            "layout": "IPY_MODEL_1437c0a485de43ce85c3574d6ff562e6"
          }
        },
        "2a2375d36493435fa29df0272d26b543": {
          "model_module": "@jupyter-widgets/controls",
          "model_name": "DescriptionStyleModel",
          "model_module_version": "1.5.0",
          "state": {
            "_view_name": "StyleView",
            "_model_name": "DescriptionStyleModel",
            "description_width": "",
            "_view_module": "@jupyter-widgets/base",
            "_model_module_version": "1.5.0",
            "_view_count": null,
            "_view_module_version": "1.2.0",
            "_model_module": "@jupyter-widgets/controls"
          }
        },
        "eb83ff0afca34fb9a3e100ac57640794": {
          "model_module": "@jupyter-widgets/base",
          "model_name": "LayoutModel",
          "model_module_version": "1.2.0",
          "state": {
            "_view_name": "LayoutView",
            "grid_template_rows": null,
            "right": null,
            "justify_content": null,
            "_view_module": "@jupyter-widgets/base",
            "overflow": null,
            "_model_module_version": "1.2.0",
            "_view_count": null,
            "flex_flow": null,
            "width": null,
            "min_width": null,
            "border": null,
            "align_items": null,
            "bottom": null,
            "_model_module": "@jupyter-widgets/base",
            "top": null,
            "grid_column": null,
            "overflow_y": null,
            "overflow_x": null,
            "grid_auto_flow": null,
            "grid_area": null,
            "grid_template_columns": null,
            "flex": null,
            "_model_name": "LayoutModel",
            "justify_items": null,
            "grid_row": null,
            "max_height": null,
            "align_content": null,
            "visibility": null,
            "align_self": null,
            "height": null,
            "min_height": null,
            "padding": null,
            "grid_auto_rows": null,
            "grid_gap": null,
            "max_width": null,
            "order": null,
            "_view_module_version": "1.2.0",
            "grid_template_areas": null,
            "object_position": null,
            "object_fit": null,
            "grid_auto_columns": null,
            "margin": null,
            "display": null,
            "left": null
          }
        },
        "092c5d7973b344b9b99439cf19a32a67": {
          "model_module": "@jupyter-widgets/controls",
          "model_name": "ProgressStyleModel",
          "model_module_version": "1.5.0",
          "state": {
            "_view_name": "StyleView",
            "_model_name": "ProgressStyleModel",
            "description_width": "",
            "_view_module": "@jupyter-widgets/base",
            "_model_module_version": "1.5.0",
            "_view_count": null,
            "_view_module_version": "1.2.0",
            "bar_color": null,
            "_model_module": "@jupyter-widgets/controls"
          }
        },
        "66ee064e5d0b49ec9d8c1e22f9fce842": {
          "model_module": "@jupyter-widgets/base",
          "model_name": "LayoutModel",
          "model_module_version": "1.2.0",
          "state": {
            "_view_name": "LayoutView",
            "grid_template_rows": null,
            "right": null,
            "justify_content": null,
            "_view_module": "@jupyter-widgets/base",
            "overflow": null,
            "_model_module_version": "1.2.0",
            "_view_count": null,
            "flex_flow": null,
            "width": null,
            "min_width": null,
            "border": null,
            "align_items": null,
            "bottom": null,
            "_model_module": "@jupyter-widgets/base",
            "top": null,
            "grid_column": null,
            "overflow_y": null,
            "overflow_x": null,
            "grid_auto_flow": null,
            "grid_area": null,
            "grid_template_columns": null,
            "flex": null,
            "_model_name": "LayoutModel",
            "justify_items": null,
            "grid_row": null,
            "max_height": null,
            "align_content": null,
            "visibility": null,
            "align_self": null,
            "height": null,
            "min_height": null,
            "padding": null,
            "grid_auto_rows": null,
            "grid_gap": null,
            "max_width": null,
            "order": null,
            "_view_module_version": "1.2.0",
            "grid_template_areas": null,
            "object_position": null,
            "object_fit": null,
            "grid_auto_columns": null,
            "margin": null,
            "display": null,
            "left": null
          }
        },
        "b2204ff2a1c5413195eb6b3c4ad320bf": {
          "model_module": "@jupyter-widgets/controls",
          "model_name": "DescriptionStyleModel",
          "model_module_version": "1.5.0",
          "state": {
            "_view_name": "StyleView",
            "_model_name": "DescriptionStyleModel",
            "description_width": "",
            "_view_module": "@jupyter-widgets/base",
            "_model_module_version": "1.5.0",
            "_view_count": null,
            "_view_module_version": "1.2.0",
            "_model_module": "@jupyter-widgets/controls"
          }
        },
        "1437c0a485de43ce85c3574d6ff562e6": {
          "model_module": "@jupyter-widgets/base",
          "model_name": "LayoutModel",
          "model_module_version": "1.2.0",
          "state": {
            "_view_name": "LayoutView",
            "grid_template_rows": null,
            "right": null,
            "justify_content": null,
            "_view_module": "@jupyter-widgets/base",
            "overflow": null,
            "_model_module_version": "1.2.0",
            "_view_count": null,
            "flex_flow": null,
            "width": null,
            "min_width": null,
            "border": null,
            "align_items": null,
            "bottom": null,
            "_model_module": "@jupyter-widgets/base",
            "top": null,
            "grid_column": null,
            "overflow_y": null,
            "overflow_x": null,
            "grid_auto_flow": null,
            "grid_area": null,
            "grid_template_columns": null,
            "flex": null,
            "_model_name": "LayoutModel",
            "justify_items": null,
            "grid_row": null,
            "max_height": null,
            "align_content": null,
            "visibility": null,
            "align_self": null,
            "height": null,
            "min_height": null,
            "padding": null,
            "grid_auto_rows": null,
            "grid_gap": null,
            "max_width": null,
            "order": null,
            "_view_module_version": "1.2.0",
            "grid_template_areas": null,
            "object_position": null,
            "object_fit": null,
            "grid_auto_columns": null,
            "margin": null,
            "display": null,
            "left": null
          }
        },
        "c42a5c6250724181bdc983df66ea9db5": {
          "model_module": "@jupyter-widgets/controls",
          "model_name": "HBoxModel",
          "model_module_version": "1.5.0",
          "state": {
            "_view_name": "HBoxView",
            "_dom_classes": [],
            "_model_name": "HBoxModel",
            "_view_module": "@jupyter-widgets/controls",
            "_model_module_version": "1.5.0",
            "_view_count": null,
            "_view_module_version": "1.5.0",
            "box_style": "",
            "layout": "IPY_MODEL_cdb81cccdf034b89b0566f8869a1cb9d",
            "_model_module": "@jupyter-widgets/controls",
            "children": [
              "IPY_MODEL_45bbb19914d84967bc4a6378cb903583",
              "IPY_MODEL_e499302dbbd84adcaa2c276ef3c16f8b",
              "IPY_MODEL_67b831942216444b811477e891f5059e"
            ]
          }
        },
        "cdb81cccdf034b89b0566f8869a1cb9d": {
          "model_module": "@jupyter-widgets/base",
          "model_name": "LayoutModel",
          "model_module_version": "1.2.0",
          "state": {
            "_view_name": "LayoutView",
            "grid_template_rows": null,
            "right": null,
            "justify_content": null,
            "_view_module": "@jupyter-widgets/base",
            "overflow": null,
            "_model_module_version": "1.2.0",
            "_view_count": null,
            "flex_flow": null,
            "width": null,
            "min_width": null,
            "border": null,
            "align_items": null,
            "bottom": null,
            "_model_module": "@jupyter-widgets/base",
            "top": null,
            "grid_column": null,
            "overflow_y": null,
            "overflow_x": null,
            "grid_auto_flow": null,
            "grid_area": null,
            "grid_template_columns": null,
            "flex": null,
            "_model_name": "LayoutModel",
            "justify_items": null,
            "grid_row": null,
            "max_height": null,
            "align_content": null,
            "visibility": null,
            "align_self": null,
            "height": null,
            "min_height": null,
            "padding": null,
            "grid_auto_rows": null,
            "grid_gap": null,
            "max_width": null,
            "order": null,
            "_view_module_version": "1.2.0",
            "grid_template_areas": null,
            "object_position": null,
            "object_fit": null,
            "grid_auto_columns": null,
            "margin": null,
            "display": null,
            "left": null
          }
        },
        "45bbb19914d84967bc4a6378cb903583": {
          "model_module": "@jupyter-widgets/controls",
          "model_name": "HTMLModel",
          "model_module_version": "1.5.0",
          "state": {
            "_view_name": "HTMLView",
            "style": "IPY_MODEL_b3378b7e48424d9f9a176a456f095bc8",
            "_dom_classes": [],
            "description": "",
            "_model_name": "HTMLModel",
            "placeholder": "​",
            "_view_module": "@jupyter-widgets/controls",
            "_model_module_version": "1.5.0",
            "value": "Downloading: 100%",
            "_view_count": null,
            "_view_module_version": "1.5.0",
            "description_tooltip": null,
            "_model_module": "@jupyter-widgets/controls",
            "layout": "IPY_MODEL_33a4572a25a74187a49ea83c0fd574d6"
          }
        },
        "e499302dbbd84adcaa2c276ef3c16f8b": {
          "model_module": "@jupyter-widgets/controls",
          "model_name": "FloatProgressModel",
          "model_module_version": "1.5.0",
          "state": {
            "_view_name": "ProgressView",
            "style": "IPY_MODEL_0da14ad5464d4f22b2d5e608c9ae92d3",
            "_dom_classes": [],
            "description": "",
            "_model_name": "FloatProgressModel",
            "bar_style": "success",
            "max": 135,
            "_view_module": "@jupyter-widgets/controls",
            "_model_module_version": "1.5.0",
            "value": 135,
            "_view_count": null,
            "_view_module_version": "1.5.0",
            "orientation": "horizontal",
            "min": 0,
            "description_tooltip": null,
            "_model_module": "@jupyter-widgets/controls",
            "layout": "IPY_MODEL_996a2ce5d6664649bfc2e222f9a45ea8"
          }
        },
        "67b831942216444b811477e891f5059e": {
          "model_module": "@jupyter-widgets/controls",
          "model_name": "HTMLModel",
          "model_module_version": "1.5.0",
          "state": {
            "_view_name": "HTMLView",
            "style": "IPY_MODEL_c9ac0608acf8464398307eaf96e439aa",
            "_dom_classes": [],
            "description": "",
            "_model_name": "HTMLModel",
            "placeholder": "​",
            "_view_module": "@jupyter-widgets/controls",
            "_model_module_version": "1.5.0",
            "value": " 135/135 [00:00&lt;00:00, 5.36kB/s]",
            "_view_count": null,
            "_view_module_version": "1.5.0",
            "description_tooltip": null,
            "_model_module": "@jupyter-widgets/controls",
            "layout": "IPY_MODEL_0463974e9d3b441ea9f211659c2ad436"
          }
        },
        "b3378b7e48424d9f9a176a456f095bc8": {
          "model_module": "@jupyter-widgets/controls",
          "model_name": "DescriptionStyleModel",
          "model_module_version": "1.5.0",
          "state": {
            "_view_name": "StyleView",
            "_model_name": "DescriptionStyleModel",
            "description_width": "",
            "_view_module": "@jupyter-widgets/base",
            "_model_module_version": "1.5.0",
            "_view_count": null,
            "_view_module_version": "1.2.0",
            "_model_module": "@jupyter-widgets/controls"
          }
        },
        "33a4572a25a74187a49ea83c0fd574d6": {
          "model_module": "@jupyter-widgets/base",
          "model_name": "LayoutModel",
          "model_module_version": "1.2.0",
          "state": {
            "_view_name": "LayoutView",
            "grid_template_rows": null,
            "right": null,
            "justify_content": null,
            "_view_module": "@jupyter-widgets/base",
            "overflow": null,
            "_model_module_version": "1.2.0",
            "_view_count": null,
            "flex_flow": null,
            "width": null,
            "min_width": null,
            "border": null,
            "align_items": null,
            "bottom": null,
            "_model_module": "@jupyter-widgets/base",
            "top": null,
            "grid_column": null,
            "overflow_y": null,
            "overflow_x": null,
            "grid_auto_flow": null,
            "grid_area": null,
            "grid_template_columns": null,
            "flex": null,
            "_model_name": "LayoutModel",
            "justify_items": null,
            "grid_row": null,
            "max_height": null,
            "align_content": null,
            "visibility": null,
            "align_self": null,
            "height": null,
            "min_height": null,
            "padding": null,
            "grid_auto_rows": null,
            "grid_gap": null,
            "max_width": null,
            "order": null,
            "_view_module_version": "1.2.0",
            "grid_template_areas": null,
            "object_position": null,
            "object_fit": null,
            "grid_auto_columns": null,
            "margin": null,
            "display": null,
            "left": null
          }
        },
        "0da14ad5464d4f22b2d5e608c9ae92d3": {
          "model_module": "@jupyter-widgets/controls",
          "model_name": "ProgressStyleModel",
          "model_module_version": "1.5.0",
          "state": {
            "_view_name": "StyleView",
            "_model_name": "ProgressStyleModel",
            "description_width": "",
            "_view_module": "@jupyter-widgets/base",
            "_model_module_version": "1.5.0",
            "_view_count": null,
            "_view_module_version": "1.2.0",
            "bar_color": null,
            "_model_module": "@jupyter-widgets/controls"
          }
        },
        "996a2ce5d6664649bfc2e222f9a45ea8": {
          "model_module": "@jupyter-widgets/base",
          "model_name": "LayoutModel",
          "model_module_version": "1.2.0",
          "state": {
            "_view_name": "LayoutView",
            "grid_template_rows": null,
            "right": null,
            "justify_content": null,
            "_view_module": "@jupyter-widgets/base",
            "overflow": null,
            "_model_module_version": "1.2.0",
            "_view_count": null,
            "flex_flow": null,
            "width": null,
            "min_width": null,
            "border": null,
            "align_items": null,
            "bottom": null,
            "_model_module": "@jupyter-widgets/base",
            "top": null,
            "grid_column": null,
            "overflow_y": null,
            "overflow_x": null,
            "grid_auto_flow": null,
            "grid_area": null,
            "grid_template_columns": null,
            "flex": null,
            "_model_name": "LayoutModel",
            "justify_items": null,
            "grid_row": null,
            "max_height": null,
            "align_content": null,
            "visibility": null,
            "align_self": null,
            "height": null,
            "min_height": null,
            "padding": null,
            "grid_auto_rows": null,
            "grid_gap": null,
            "max_width": null,
            "order": null,
            "_view_module_version": "1.2.0",
            "grid_template_areas": null,
            "object_position": null,
            "object_fit": null,
            "grid_auto_columns": null,
            "margin": null,
            "display": null,
            "left": null
          }
        },
        "c9ac0608acf8464398307eaf96e439aa": {
          "model_module": "@jupyter-widgets/controls",
          "model_name": "DescriptionStyleModel",
          "model_module_version": "1.5.0",
          "state": {
            "_view_name": "StyleView",
            "_model_name": "DescriptionStyleModel",
            "description_width": "",
            "_view_module": "@jupyter-widgets/base",
            "_model_module_version": "1.5.0",
            "_view_count": null,
            "_view_module_version": "1.2.0",
            "_model_module": "@jupyter-widgets/controls"
          }
        },
        "0463974e9d3b441ea9f211659c2ad436": {
          "model_module": "@jupyter-widgets/base",
          "model_name": "LayoutModel",
          "model_module_version": "1.2.0",
          "state": {
            "_view_name": "LayoutView",
            "grid_template_rows": null,
            "right": null,
            "justify_content": null,
            "_view_module": "@jupyter-widgets/base",
            "overflow": null,
            "_model_module_version": "1.2.0",
            "_view_count": null,
            "flex_flow": null,
            "width": null,
            "min_width": null,
            "border": null,
            "align_items": null,
            "bottom": null,
            "_model_module": "@jupyter-widgets/base",
            "top": null,
            "grid_column": null,
            "overflow_y": null,
            "overflow_x": null,
            "grid_auto_flow": null,
            "grid_area": null,
            "grid_template_columns": null,
            "flex": null,
            "_model_name": "LayoutModel",
            "justify_items": null,
            "grid_row": null,
            "max_height": null,
            "align_content": null,
            "visibility": null,
            "align_self": null,
            "height": null,
            "min_height": null,
            "padding": null,
            "grid_auto_rows": null,
            "grid_gap": null,
            "max_width": null,
            "order": null,
            "_view_module_version": "1.2.0",
            "grid_template_areas": null,
            "object_position": null,
            "object_fit": null,
            "grid_auto_columns": null,
            "margin": null,
            "display": null,
            "left": null
          }
        },
        "05aac1a92eb64282af59e7bfaeab7a56": {
          "model_module": "@jupyter-widgets/controls",
          "model_name": "HBoxModel",
          "model_module_version": "1.5.0",
          "state": {
            "_view_name": "HBoxView",
            "_dom_classes": [],
            "_model_name": "HBoxModel",
            "_view_module": "@jupyter-widgets/controls",
            "_model_module_version": "1.5.0",
            "_view_count": null,
            "_view_module_version": "1.5.0",
            "box_style": "",
            "layout": "IPY_MODEL_f404f1aba15c4b45950f7746924ff16a",
            "_model_module": "@jupyter-widgets/controls",
            "children": [
              "IPY_MODEL_fd26e19f2c364952862b434296905e06",
              "IPY_MODEL_eb66b33cd42f4d55818f6527d56251a2",
              "IPY_MODEL_596386f1ca894a4e8cced98ded23d9d2"
            ]
          }
        },
        "f404f1aba15c4b45950f7746924ff16a": {
          "model_module": "@jupyter-widgets/base",
          "model_name": "LayoutModel",
          "model_module_version": "1.2.0",
          "state": {
            "_view_name": "LayoutView",
            "grid_template_rows": null,
            "right": null,
            "justify_content": null,
            "_view_module": "@jupyter-widgets/base",
            "overflow": null,
            "_model_module_version": "1.2.0",
            "_view_count": null,
            "flex_flow": null,
            "width": null,
            "min_width": null,
            "border": null,
            "align_items": null,
            "bottom": null,
            "_model_module": "@jupyter-widgets/base",
            "top": null,
            "grid_column": null,
            "overflow_y": null,
            "overflow_x": null,
            "grid_auto_flow": null,
            "grid_area": null,
            "grid_template_columns": null,
            "flex": null,
            "_model_name": "LayoutModel",
            "justify_items": null,
            "grid_row": null,
            "max_height": null,
            "align_content": null,
            "visibility": null,
            "align_self": null,
            "height": null,
            "min_height": null,
            "padding": null,
            "grid_auto_rows": null,
            "grid_gap": null,
            "max_width": null,
            "order": null,
            "_view_module_version": "1.2.0",
            "grid_template_areas": null,
            "object_position": null,
            "object_fit": null,
            "grid_auto_columns": null,
            "margin": null,
            "display": null,
            "left": null
          }
        },
        "fd26e19f2c364952862b434296905e06": {
          "model_module": "@jupyter-widgets/controls",
          "model_name": "HTMLModel",
          "model_module_version": "1.5.0",
          "state": {
            "_view_name": "HTMLView",
            "style": "IPY_MODEL_4faf177c924f4e13b58a9ffb646b6b1c",
            "_dom_classes": [],
            "description": "",
            "_model_name": "HTMLModel",
            "placeholder": "​",
            "_view_module": "@jupyter-widgets/controls",
            "_model_module_version": "1.5.0",
            "value": "Downloading: 100%",
            "_view_count": null,
            "_view_module_version": "1.5.0",
            "description_tooltip": null,
            "_model_module": "@jupyter-widgets/controls",
            "layout": "IPY_MODEL_4f4fb32eb82d43d1a608b591aa68aa66"
          }
        },
        "eb66b33cd42f4d55818f6527d56251a2": {
          "model_module": "@jupyter-widgets/controls",
          "model_name": "FloatProgressModel",
          "model_module_version": "1.5.0",
          "state": {
            "_view_name": "ProgressView",
            "style": "IPY_MODEL_c1806a93990e4a90ad51e2cf037f2d9c",
            "_dom_classes": [],
            "description": "",
            "_model_name": "FloatProgressModel",
            "bar_style": "success",
            "max": 242349,
            "_view_module": "@jupyter-widgets/controls",
            "_model_module_version": "1.5.0",
            "value": 242349,
            "_view_count": null,
            "_view_module_version": "1.5.0",
            "orientation": "horizontal",
            "min": 0,
            "description_tooltip": null,
            "_model_module": "@jupyter-widgets/controls",
            "layout": "IPY_MODEL_989af07eba274d52a7f0e07963c34b00"
          }
        },
        "596386f1ca894a4e8cced98ded23d9d2": {
          "model_module": "@jupyter-widgets/controls",
          "model_name": "HTMLModel",
          "model_module_version": "1.5.0",
          "state": {
            "_view_name": "HTMLView",
            "style": "IPY_MODEL_8a2809481d2541c0b98bdcbf1fe9daca",
            "_dom_classes": [],
            "description": "",
            "_model_name": "HTMLModel",
            "placeholder": "​",
            "_view_module": "@jupyter-widgets/controls",
            "_model_module_version": "1.5.0",
            "value": " 237k/237k [00:00&lt;00:00, 872kB/s]",
            "_view_count": null,
            "_view_module_version": "1.5.0",
            "description_tooltip": null,
            "_model_module": "@jupyter-widgets/controls",
            "layout": "IPY_MODEL_5e00ea216cc247bf93b89a04aa79bb5a"
          }
        },
        "4faf177c924f4e13b58a9ffb646b6b1c": {
          "model_module": "@jupyter-widgets/controls",
          "model_name": "DescriptionStyleModel",
          "model_module_version": "1.5.0",
          "state": {
            "_view_name": "StyleView",
            "_model_name": "DescriptionStyleModel",
            "description_width": "",
            "_view_module": "@jupyter-widgets/base",
            "_model_module_version": "1.5.0",
            "_view_count": null,
            "_view_module_version": "1.2.0",
            "_model_module": "@jupyter-widgets/controls"
          }
        },
        "4f4fb32eb82d43d1a608b591aa68aa66": {
          "model_module": "@jupyter-widgets/base",
          "model_name": "LayoutModel",
          "model_module_version": "1.2.0",
          "state": {
            "_view_name": "LayoutView",
            "grid_template_rows": null,
            "right": null,
            "justify_content": null,
            "_view_module": "@jupyter-widgets/base",
            "overflow": null,
            "_model_module_version": "1.2.0",
            "_view_count": null,
            "flex_flow": null,
            "width": null,
            "min_width": null,
            "border": null,
            "align_items": null,
            "bottom": null,
            "_model_module": "@jupyter-widgets/base",
            "top": null,
            "grid_column": null,
            "overflow_y": null,
            "overflow_x": null,
            "grid_auto_flow": null,
            "grid_area": null,
            "grid_template_columns": null,
            "flex": null,
            "_model_name": "LayoutModel",
            "justify_items": null,
            "grid_row": null,
            "max_height": null,
            "align_content": null,
            "visibility": null,
            "align_self": null,
            "height": null,
            "min_height": null,
            "padding": null,
            "grid_auto_rows": null,
            "grid_gap": null,
            "max_width": null,
            "order": null,
            "_view_module_version": "1.2.0",
            "grid_template_areas": null,
            "object_position": null,
            "object_fit": null,
            "grid_auto_columns": null,
            "margin": null,
            "display": null,
            "left": null
          }
        },
        "c1806a93990e4a90ad51e2cf037f2d9c": {
          "model_module": "@jupyter-widgets/controls",
          "model_name": "ProgressStyleModel",
          "model_module_version": "1.5.0",
          "state": {
            "_view_name": "StyleView",
            "_model_name": "ProgressStyleModel",
            "description_width": "",
            "_view_module": "@jupyter-widgets/base",
            "_model_module_version": "1.5.0",
            "_view_count": null,
            "_view_module_version": "1.2.0",
            "bar_color": null,
            "_model_module": "@jupyter-widgets/controls"
          }
        },
        "989af07eba274d52a7f0e07963c34b00": {
          "model_module": "@jupyter-widgets/base",
          "model_name": "LayoutModel",
          "model_module_version": "1.2.0",
          "state": {
            "_view_name": "LayoutView",
            "grid_template_rows": null,
            "right": null,
            "justify_content": null,
            "_view_module": "@jupyter-widgets/base",
            "overflow": null,
            "_model_module_version": "1.2.0",
            "_view_count": null,
            "flex_flow": null,
            "width": null,
            "min_width": null,
            "border": null,
            "align_items": null,
            "bottom": null,
            "_model_module": "@jupyter-widgets/base",
            "top": null,
            "grid_column": null,
            "overflow_y": null,
            "overflow_x": null,
            "grid_auto_flow": null,
            "grid_area": null,
            "grid_template_columns": null,
            "flex": null,
            "_model_name": "LayoutModel",
            "justify_items": null,
            "grid_row": null,
            "max_height": null,
            "align_content": null,
            "visibility": null,
            "align_self": null,
            "height": null,
            "min_height": null,
            "padding": null,
            "grid_auto_rows": null,
            "grid_gap": null,
            "max_width": null,
            "order": null,
            "_view_module_version": "1.2.0",
            "grid_template_areas": null,
            "object_position": null,
            "object_fit": null,
            "grid_auto_columns": null,
            "margin": null,
            "display": null,
            "left": null
          }
        },
        "8a2809481d2541c0b98bdcbf1fe9daca": {
          "model_module": "@jupyter-widgets/controls",
          "model_name": "DescriptionStyleModel",
          "model_module_version": "1.5.0",
          "state": {
            "_view_name": "StyleView",
            "_model_name": "DescriptionStyleModel",
            "description_width": "",
            "_view_module": "@jupyter-widgets/base",
            "_model_module_version": "1.5.0",
            "_view_count": null,
            "_view_module_version": "1.2.0",
            "_model_module": "@jupyter-widgets/controls"
          }
        },
        "5e00ea216cc247bf93b89a04aa79bb5a": {
          "model_module": "@jupyter-widgets/base",
          "model_name": "LayoutModel",
          "model_module_version": "1.2.0",
          "state": {
            "_view_name": "LayoutView",
            "grid_template_rows": null,
            "right": null,
            "justify_content": null,
            "_view_module": "@jupyter-widgets/base",
            "overflow": null,
            "_model_module_version": "1.2.0",
            "_view_count": null,
            "flex_flow": null,
            "width": null,
            "min_width": null,
            "border": null,
            "align_items": null,
            "bottom": null,
            "_model_module": "@jupyter-widgets/base",
            "top": null,
            "grid_column": null,
            "overflow_y": null,
            "overflow_x": null,
            "grid_auto_flow": null,
            "grid_area": null,
            "grid_template_columns": null,
            "flex": null,
            "_model_name": "LayoutModel",
            "justify_items": null,
            "grid_row": null,
            "max_height": null,
            "align_content": null,
            "visibility": null,
            "align_self": null,
            "height": null,
            "min_height": null,
            "padding": null,
            "grid_auto_rows": null,
            "grid_gap": null,
            "max_width": null,
            "order": null,
            "_view_module_version": "1.2.0",
            "grid_template_areas": null,
            "object_position": null,
            "object_fit": null,
            "grid_auto_columns": null,
            "margin": null,
            "display": null,
            "left": null
          }
        },
        "b16c1a55587741b8a30387758c781ae1": {
          "model_module": "@jupyter-widgets/controls",
          "model_name": "HBoxModel",
          "model_module_version": "1.5.0",
          "state": {
            "_view_name": "HBoxView",
            "_dom_classes": [],
            "_model_name": "HBoxModel",
            "_view_module": "@jupyter-widgets/controls",
            "_model_module_version": "1.5.0",
            "_view_count": null,
            "_view_module_version": "1.5.0",
            "box_style": "",
            "layout": "IPY_MODEL_97235b160f7443958422dc1d18e8429b",
            "_model_module": "@jupyter-widgets/controls",
            "children": [
              "IPY_MODEL_7f0387d596cf461ab0e430c99c6c7838",
              "IPY_MODEL_d639756fc05e4318b2cd4189df4540d4",
              "IPY_MODEL_3e96bb51d7e347f5b028e6e264bcb18e"
            ]
          }
        },
        "97235b160f7443958422dc1d18e8429b": {
          "model_module": "@jupyter-widgets/base",
          "model_name": "LayoutModel",
          "model_module_version": "1.2.0",
          "state": {
            "_view_name": "LayoutView",
            "grid_template_rows": null,
            "right": null,
            "justify_content": null,
            "_view_module": "@jupyter-widgets/base",
            "overflow": null,
            "_model_module_version": "1.2.0",
            "_view_count": null,
            "flex_flow": null,
            "width": null,
            "min_width": null,
            "border": null,
            "align_items": null,
            "bottom": null,
            "_model_module": "@jupyter-widgets/base",
            "top": null,
            "grid_column": null,
            "overflow_y": null,
            "overflow_x": null,
            "grid_auto_flow": null,
            "grid_area": null,
            "grid_template_columns": null,
            "flex": null,
            "_model_name": "LayoutModel",
            "justify_items": null,
            "grid_row": null,
            "max_height": null,
            "align_content": null,
            "visibility": null,
            "align_self": null,
            "height": null,
            "min_height": null,
            "padding": null,
            "grid_auto_rows": null,
            "grid_gap": null,
            "max_width": null,
            "order": null,
            "_view_module_version": "1.2.0",
            "grid_template_areas": null,
            "object_position": null,
            "object_fit": null,
            "grid_auto_columns": null,
            "margin": null,
            "display": null,
            "left": null
          }
        },
        "7f0387d596cf461ab0e430c99c6c7838": {
          "model_module": "@jupyter-widgets/controls",
          "model_name": "HTMLModel",
          "model_module_version": "1.5.0",
          "state": {
            "_view_name": "HTMLView",
            "style": "IPY_MODEL_de283064a21448ef81ab2678becc3974",
            "_dom_classes": [],
            "description": "",
            "_model_name": "HTMLModel",
            "placeholder": "​",
            "_view_module": "@jupyter-widgets/controls",
            "_model_module_version": "1.5.0",
            "value": "Downloading: 100%",
            "_view_count": null,
            "_view_module_version": "1.5.0",
            "description_tooltip": null,
            "_model_module": "@jupyter-widgets/controls",
            "layout": "IPY_MODEL_6c67e8393bc24e34823cbbfd1b187237"
          }
        },
        "d639756fc05e4318b2cd4189df4540d4": {
          "model_module": "@jupyter-widgets/controls",
          "model_name": "FloatProgressModel",
          "model_module_version": "1.5.0",
          "state": {
            "_view_name": "ProgressView",
            "style": "IPY_MODEL_5da5dca30c234a4699088392ad439541",
            "_dom_classes": [],
            "description": "",
            "_model_name": "FloatProgressModel",
            "bar_style": "success",
            "max": 112,
            "_view_module": "@jupyter-widgets/controls",
            "_model_module_version": "1.5.0",
            "value": 112,
            "_view_count": null,
            "_view_module_version": "1.5.0",
            "orientation": "horizontal",
            "min": 0,
            "description_tooltip": null,
            "_model_module": "@jupyter-widgets/controls",
            "layout": "IPY_MODEL_b9659823505547eeab0198969e99e70c"
          }
        },
        "3e96bb51d7e347f5b028e6e264bcb18e": {
          "model_module": "@jupyter-widgets/controls",
          "model_name": "HTMLModel",
          "model_module_version": "1.5.0",
          "state": {
            "_view_name": "HTMLView",
            "style": "IPY_MODEL_d7c9603cdada4e26930707124bbcaa5b",
            "_dom_classes": [],
            "description": "",
            "_model_name": "HTMLModel",
            "placeholder": "​",
            "_view_module": "@jupyter-widgets/controls",
            "_model_module_version": "1.5.0",
            "value": " 112/112 [00:00&lt;00:00, 4.14kB/s]",
            "_view_count": null,
            "_view_module_version": "1.5.0",
            "description_tooltip": null,
            "_model_module": "@jupyter-widgets/controls",
            "layout": "IPY_MODEL_9ae3414b0bac478e8bd45767f025f966"
          }
        },
        "de283064a21448ef81ab2678becc3974": {
          "model_module": "@jupyter-widgets/controls",
          "model_name": "DescriptionStyleModel",
          "model_module_version": "1.5.0",
          "state": {
            "_view_name": "StyleView",
            "_model_name": "DescriptionStyleModel",
            "description_width": "",
            "_view_module": "@jupyter-widgets/base",
            "_model_module_version": "1.5.0",
            "_view_count": null,
            "_view_module_version": "1.2.0",
            "_model_module": "@jupyter-widgets/controls"
          }
        },
        "6c67e8393bc24e34823cbbfd1b187237": {
          "model_module": "@jupyter-widgets/base",
          "model_name": "LayoutModel",
          "model_module_version": "1.2.0",
          "state": {
            "_view_name": "LayoutView",
            "grid_template_rows": null,
            "right": null,
            "justify_content": null,
            "_view_module": "@jupyter-widgets/base",
            "overflow": null,
            "_model_module_version": "1.2.0",
            "_view_count": null,
            "flex_flow": null,
            "width": null,
            "min_width": null,
            "border": null,
            "align_items": null,
            "bottom": null,
            "_model_module": "@jupyter-widgets/base",
            "top": null,
            "grid_column": null,
            "overflow_y": null,
            "overflow_x": null,
            "grid_auto_flow": null,
            "grid_area": null,
            "grid_template_columns": null,
            "flex": null,
            "_model_name": "LayoutModel",
            "justify_items": null,
            "grid_row": null,
            "max_height": null,
            "align_content": null,
            "visibility": null,
            "align_self": null,
            "height": null,
            "min_height": null,
            "padding": null,
            "grid_auto_rows": null,
            "grid_gap": null,
            "max_width": null,
            "order": null,
            "_view_module_version": "1.2.0",
            "grid_template_areas": null,
            "object_position": null,
            "object_fit": null,
            "grid_auto_columns": null,
            "margin": null,
            "display": null,
            "left": null
          }
        },
        "5da5dca30c234a4699088392ad439541": {
          "model_module": "@jupyter-widgets/controls",
          "model_name": "ProgressStyleModel",
          "model_module_version": "1.5.0",
          "state": {
            "_view_name": "StyleView",
            "_model_name": "ProgressStyleModel",
            "description_width": "",
            "_view_module": "@jupyter-widgets/base",
            "_model_module_version": "1.5.0",
            "_view_count": null,
            "_view_module_version": "1.2.0",
            "bar_color": null,
            "_model_module": "@jupyter-widgets/controls"
          }
        },
        "b9659823505547eeab0198969e99e70c": {
          "model_module": "@jupyter-widgets/base",
          "model_name": "LayoutModel",
          "model_module_version": "1.2.0",
          "state": {
            "_view_name": "LayoutView",
            "grid_template_rows": null,
            "right": null,
            "justify_content": null,
            "_view_module": "@jupyter-widgets/base",
            "overflow": null,
            "_model_module_version": "1.2.0",
            "_view_count": null,
            "flex_flow": null,
            "width": null,
            "min_width": null,
            "border": null,
            "align_items": null,
            "bottom": null,
            "_model_module": "@jupyter-widgets/base",
            "top": null,
            "grid_column": null,
            "overflow_y": null,
            "overflow_x": null,
            "grid_auto_flow": null,
            "grid_area": null,
            "grid_template_columns": null,
            "flex": null,
            "_model_name": "LayoutModel",
            "justify_items": null,
            "grid_row": null,
            "max_height": null,
            "align_content": null,
            "visibility": null,
            "align_self": null,
            "height": null,
            "min_height": null,
            "padding": null,
            "grid_auto_rows": null,
            "grid_gap": null,
            "max_width": null,
            "order": null,
            "_view_module_version": "1.2.0",
            "grid_template_areas": null,
            "object_position": null,
            "object_fit": null,
            "grid_auto_columns": null,
            "margin": null,
            "display": null,
            "left": null
          }
        },
        "d7c9603cdada4e26930707124bbcaa5b": {
          "model_module": "@jupyter-widgets/controls",
          "model_name": "DescriptionStyleModel",
          "model_module_version": "1.5.0",
          "state": {
            "_view_name": "StyleView",
            "_model_name": "DescriptionStyleModel",
            "description_width": "",
            "_view_module": "@jupyter-widgets/base",
            "_model_module_version": "1.5.0",
            "_view_count": null,
            "_view_module_version": "1.2.0",
            "_model_module": "@jupyter-widgets/controls"
          }
        },
        "9ae3414b0bac478e8bd45767f025f966": {
          "model_module": "@jupyter-widgets/base",
          "model_name": "LayoutModel",
          "model_module_version": "1.2.0",
          "state": {
            "_view_name": "LayoutView",
            "grid_template_rows": null,
            "right": null,
            "justify_content": null,
            "_view_module": "@jupyter-widgets/base",
            "overflow": null,
            "_model_module_version": "1.2.0",
            "_view_count": null,
            "flex_flow": null,
            "width": null,
            "min_width": null,
            "border": null,
            "align_items": null,
            "bottom": null,
            "_model_module": "@jupyter-widgets/base",
            "top": null,
            "grid_column": null,
            "overflow_y": null,
            "overflow_x": null,
            "grid_auto_flow": null,
            "grid_area": null,
            "grid_template_columns": null,
            "flex": null,
            "_model_name": "LayoutModel",
            "justify_items": null,
            "grid_row": null,
            "max_height": null,
            "align_content": null,
            "visibility": null,
            "align_self": null,
            "height": null,
            "min_height": null,
            "padding": null,
            "grid_auto_rows": null,
            "grid_gap": null,
            "max_width": null,
            "order": null,
            "_view_module_version": "1.2.0",
            "grid_template_areas": null,
            "object_position": null,
            "object_fit": null,
            "grid_auto_columns": null,
            "margin": null,
            "display": null,
            "left": null
          }
        }
      }
    },
    "accelerator": "GPU"
  },
  "cells": [
    {
      "cell_type": "markdown",
      "metadata": {
        "id": "93-Rg2V5Q__d"
      },
      "source": [
        "# Tarea 2: Procesamiento de Lenguaje Natural\n",
        "\n"
      ]
    },
    {
      "cell_type": "markdown",
      "source": [
        "Integrantes:\n",
        "\n",
        "* Sebastián Alday (Rut: 18294095-K)\n",
        "* Paula Canales G. (Rut: 18845155-1)\n",
        "* Álvaro Neira R. (Rut: 13757209-5)\n",
        "* Matias Rodriguez U. (Rut: 18362815-1)"
      ],
      "metadata": {
        "id": "bV8mxLYPE5EC"
      }
    },
    {
      "cell_type": "markdown",
      "source": [
        "# Introducción"
      ],
      "metadata": {
        "id": "VtPPoj2_FLJ8"
      }
    },
    {
      "cell_type": "markdown",
      "source": [
        "El siguiente trabajo consiste en el desarrollo de un bot que conteste las preguntas de los clientes de una empresa de servicios. En este caso, se ha escogido la empresa Chilexpress. El bot 'Eva' ha sido entrenado de dos formas distintas, con un embedding (como Word2Vec o Elmo) y mediante un transformer."
      ],
      "metadata": {
        "id": "gIOMHqd7fzh7"
      }
    },
    {
      "cell_type": "markdown",
      "source": [
        "# 1. Creación y limpieza de la base de datos "
      ],
      "metadata": {
        "id": "NnIrZRjoFO3a"
      }
    },
    {
      "cell_type": "markdown",
      "source": [
        "## 1.1 Elija una organización que cuenta con una lista de preguntas y respuestas"
      ],
      "metadata": {
        "id": "5ZYeSc93FyGX"
      }
    },
    {
      "cell_type": "markdown",
      "source": [
        "La compañía escogida para realizar este trabajo es Chilexpress. Su sección de preguntas y respuestas se muestra en el siguiente enlace:\n",
        "\n",
        "Chilexpress\n",
        "https://centrodeayuda.chilexpress.cl/home"
      ],
      "metadata": {
        "id": "pk0QdTdzUETd"
      }
    },
    {
      "cell_type": "markdown",
      "source": [
        "## 1.2 Genere una tabla (tablaQA.xls) con las preguntas y respuestas de la organización seleccionada."
      ],
      "metadata": {
        "id": "cih2PxSMF0J9"
      }
    },
    {
      "cell_type": "markdown",
      "source": [
        "La tabla 'tablaQA.csv' consiste en una columna con pregunta y otra con respuestas. Como se observa en esta sección, la tabla consiste en 46 preguntas y sus respectivas respuestas.  "
      ],
      "metadata": {
        "id": "eSz2Yj9iiK9e"
      }
    },
    {
      "cell_type": "code",
      "source": [
        "!wget https://www.dropbox.com/s/9zty4fuh8boofda/tablaQA.csv"
      ],
      "metadata": {
        "colab": {
          "base_uri": "https://localhost:8080/"
        },
        "id": "b_fdDPowbPzD",
        "outputId": "f3e1924f-9c03-4d70-f67c-1384187dc9f3"
      },
      "execution_count": 1,
      "outputs": [
        {
          "output_type": "stream",
          "name": "stdout",
          "text": [
            "--2021-12-30 12:33:48--  https://www.dropbox.com/s/9zty4fuh8boofda/tablaQA.csv\n",
            "Resolving www.dropbox.com (www.dropbox.com)... 162.125.1.18, 2620:100:6022:18::a27d:4212\n",
            "Connecting to www.dropbox.com (www.dropbox.com)|162.125.1.18|:443... connected.\n",
            "HTTP request sent, awaiting response... 301 Moved Permanently\n",
            "Location: /s/raw/9zty4fuh8boofda/tablaQA.csv [following]\n",
            "--2021-12-30 12:33:48--  https://www.dropbox.com/s/raw/9zty4fuh8boofda/tablaQA.csv\n",
            "Reusing existing connection to www.dropbox.com:443.\n",
            "HTTP request sent, awaiting response... 302 Found\n",
            "Location: https://ucb07ed3db9ea0a34df38eb750a9.dl.dropboxusercontent.com/cd/0/inline/Bc25ELpyB1kj8LVjxZc8pUDqE5foaVx74zkgEHdfS7jOnUuF80vV0ZKkfVaWMrBPFBAZbaZGvPmhALmId9NRSN-OX5uojg7WwP01IEXdNksiwzg_SUG7u7e_pAFlm4hnJpGcvg6AH-NLTg4skDgA4UT9/file# [following]\n",
            "--2021-12-30 12:33:48--  https://ucb07ed3db9ea0a34df38eb750a9.dl.dropboxusercontent.com/cd/0/inline/Bc25ELpyB1kj8LVjxZc8pUDqE5foaVx74zkgEHdfS7jOnUuF80vV0ZKkfVaWMrBPFBAZbaZGvPmhALmId9NRSN-OX5uojg7WwP01IEXdNksiwzg_SUG7u7e_pAFlm4hnJpGcvg6AH-NLTg4skDgA4UT9/file\n",
            "Resolving ucb07ed3db9ea0a34df38eb750a9.dl.dropboxusercontent.com (ucb07ed3db9ea0a34df38eb750a9.dl.dropboxusercontent.com)... 162.125.1.15, 2620:100:6016:15::a27d:10f\n",
            "Connecting to ucb07ed3db9ea0a34df38eb750a9.dl.dropboxusercontent.com (ucb07ed3db9ea0a34df38eb750a9.dl.dropboxusercontent.com)|162.125.1.15|:443... connected.\n",
            "HTTP request sent, awaiting response... 200 OK\n",
            "Length: 14811 (14K) [text/plain]\n",
            "Saving to: ‘tablaQA.csv.1’\n",
            "\n",
            "tablaQA.csv.1       100%[===================>]  14.46K  --.-KB/s    in 0s      \n",
            "\n",
            "2021-12-30 12:33:49 (345 MB/s) - ‘tablaQA.csv.1’ saved [14811/14811]\n",
            "\n"
          ]
        }
      ]
    },
    {
      "cell_type": "code",
      "source": [
        "import pandas as pd\n",
        "qa = pd.read_csv('/content/tablaQA.csv', sep=';')\n",
        "qa.head()"
      ],
      "metadata": {
        "colab": {
          "base_uri": "https://localhost:8080/",
          "height": 206
        },
        "id": "Bw2lQ44cbjYa",
        "outputId": "16fb7569-1992-44f7-8553-77f7be0286b1"
      },
      "execution_count": 2,
      "outputs": [
        {
          "output_type": "execute_result",
          "data": {
            "text/html": [
              "\n",
              "  <div id=\"df-ab8ecd30-1466-457e-918d-0c66b37dc32c\">\n",
              "    <div class=\"colab-df-container\">\n",
              "      <div>\n",
              "<style scoped>\n",
              "    .dataframe tbody tr th:only-of-type {\n",
              "        vertical-align: middle;\n",
              "    }\n",
              "\n",
              "    .dataframe tbody tr th {\n",
              "        vertical-align: top;\n",
              "    }\n",
              "\n",
              "    .dataframe thead th {\n",
              "        text-align: right;\n",
              "    }\n",
              "</style>\n",
              "<table border=\"1\" class=\"dataframe\">\n",
              "  <thead>\n",
              "    <tr style=\"text-align: right;\">\n",
              "      <th></th>\n",
              "      <th>Pregunta</th>\n",
              "      <th>Respuesta</th>\n",
              "    </tr>\n",
              "  </thead>\n",
              "  <tbody>\n",
              "    <tr>\n",
              "      <th>0</th>\n",
              "      <td>¿Qué es la Orden de Transporte (OT)?</td>\n",
              "      <td>La Orden de Transporte (OT) es el número asoci...</td>\n",
              "    </tr>\n",
              "    <tr>\n",
              "      <th>1</th>\n",
              "      <td>¿Cuál es el plazo para retirar un envío desde ...</td>\n",
              "      <td>El plazo para retirar un envío desde una sucur...</td>\n",
              "    </tr>\n",
              "    <tr>\n",
              "      <th>2</th>\n",
              "      <td>¿Puede otra persona retirar mi envío de una su...</td>\n",
              "      <td>Para que una persona que no es el destinatario...</td>\n",
              "    </tr>\n",
              "    <tr>\n",
              "      <th>3</th>\n",
              "      <td>¿Se puede modificar la dirección de envío?</td>\n",
              "      <td>Sí, el cambio puede ser solicitado por el remi...</td>\n",
              "    </tr>\n",
              "    <tr>\n",
              "      <th>4</th>\n",
              "      <td>¿Puedo cambiar el destino del envío desde una ...</td>\n",
              "      <td>Sí, el cambio puede ser solicitado por el remi...</td>\n",
              "    </tr>\n",
              "  </tbody>\n",
              "</table>\n",
              "</div>\n",
              "      <button class=\"colab-df-convert\" onclick=\"convertToInteractive('df-ab8ecd30-1466-457e-918d-0c66b37dc32c')\"\n",
              "              title=\"Convert this dataframe to an interactive table.\"\n",
              "              style=\"display:none;\">\n",
              "        \n",
              "  <svg xmlns=\"http://www.w3.org/2000/svg\" height=\"24px\"viewBox=\"0 0 24 24\"\n",
              "       width=\"24px\">\n",
              "    <path d=\"M0 0h24v24H0V0z\" fill=\"none\"/>\n",
              "    <path d=\"M18.56 5.44l.94 2.06.94-2.06 2.06-.94-2.06-.94-.94-2.06-.94 2.06-2.06.94zm-11 1L8.5 8.5l.94-2.06 2.06-.94-2.06-.94L8.5 2.5l-.94 2.06-2.06.94zm10 10l.94 2.06.94-2.06 2.06-.94-2.06-.94-.94-2.06-.94 2.06-2.06.94z\"/><path d=\"M17.41 7.96l-1.37-1.37c-.4-.4-.92-.59-1.43-.59-.52 0-1.04.2-1.43.59L10.3 9.45l-7.72 7.72c-.78.78-.78 2.05 0 2.83L4 21.41c.39.39.9.59 1.41.59.51 0 1.02-.2 1.41-.59l7.78-7.78 2.81-2.81c.8-.78.8-2.07 0-2.86zM5.41 20L4 18.59l7.72-7.72 1.47 1.35L5.41 20z\"/>\n",
              "  </svg>\n",
              "      </button>\n",
              "      \n",
              "  <style>\n",
              "    .colab-df-container {\n",
              "      display:flex;\n",
              "      flex-wrap:wrap;\n",
              "      gap: 12px;\n",
              "    }\n",
              "\n",
              "    .colab-df-convert {\n",
              "      background-color: #E8F0FE;\n",
              "      border: none;\n",
              "      border-radius: 50%;\n",
              "      cursor: pointer;\n",
              "      display: none;\n",
              "      fill: #1967D2;\n",
              "      height: 32px;\n",
              "      padding: 0 0 0 0;\n",
              "      width: 32px;\n",
              "    }\n",
              "\n",
              "    .colab-df-convert:hover {\n",
              "      background-color: #E2EBFA;\n",
              "      box-shadow: 0px 1px 2px rgba(60, 64, 67, 0.3), 0px 1px 3px 1px rgba(60, 64, 67, 0.15);\n",
              "      fill: #174EA6;\n",
              "    }\n",
              "\n",
              "    [theme=dark] .colab-df-convert {\n",
              "      background-color: #3B4455;\n",
              "      fill: #D2E3FC;\n",
              "    }\n",
              "\n",
              "    [theme=dark] .colab-df-convert:hover {\n",
              "      background-color: #434B5C;\n",
              "      box-shadow: 0px 1px 3px 1px rgba(0, 0, 0, 0.15);\n",
              "      filter: drop-shadow(0px 1px 2px rgba(0, 0, 0, 0.3));\n",
              "      fill: #FFFFFF;\n",
              "    }\n",
              "  </style>\n",
              "\n",
              "      <script>\n",
              "        const buttonEl =\n",
              "          document.querySelector('#df-ab8ecd30-1466-457e-918d-0c66b37dc32c button.colab-df-convert');\n",
              "        buttonEl.style.display =\n",
              "          google.colab.kernel.accessAllowed ? 'block' : 'none';\n",
              "\n",
              "        async function convertToInteractive(key) {\n",
              "          const element = document.querySelector('#df-ab8ecd30-1466-457e-918d-0c66b37dc32c');\n",
              "          const dataTable =\n",
              "            await google.colab.kernel.invokeFunction('convertToInteractive',\n",
              "                                                     [key], {});\n",
              "          if (!dataTable) return;\n",
              "\n",
              "          const docLinkHtml = 'Like what you see? Visit the ' +\n",
              "            '<a target=\"_blank\" href=https://colab.research.google.com/notebooks/data_table.ipynb>data table notebook</a>'\n",
              "            + ' to learn more about interactive tables.';\n",
              "          element.innerHTML = '';\n",
              "          dataTable['output_type'] = 'display_data';\n",
              "          await google.colab.output.renderOutput(dataTable, element);\n",
              "          const docLink = document.createElement('div');\n",
              "          docLink.innerHTML = docLinkHtml;\n",
              "          element.appendChild(docLink);\n",
              "        }\n",
              "      </script>\n",
              "    </div>\n",
              "  </div>\n",
              "  "
            ],
            "text/plain": [
              "                                            Pregunta                                          Respuesta\n",
              "0               ¿Qué es la Orden de Transporte (OT)?  La Orden de Transporte (OT) es el número asoci...\n",
              "1  ¿Cuál es el plazo para retirar un envío desde ...  El plazo para retirar un envío desde una sucur...\n",
              "2  ¿Puede otra persona retirar mi envío de una su...  Para que una persona que no es el destinatario...\n",
              "3         ¿Se puede modificar la dirección de envío?  Sí, el cambio puede ser solicitado por el remi...\n",
              "4  ¿Puedo cambiar el destino del envío desde una ...  Sí, el cambio puede ser solicitado por el remi..."
            ]
          },
          "metadata": {},
          "execution_count": 2
        }
      ]
    },
    {
      "cell_type": "code",
      "source": [
        "qa.info()"
      ],
      "metadata": {
        "colab": {
          "base_uri": "https://localhost:8080/"
        },
        "id": "BdgNtDGyb608",
        "outputId": "2da4799f-d782-4d06-82ee-a9aec66a3648"
      },
      "execution_count": 3,
      "outputs": [
        {
          "output_type": "stream",
          "name": "stdout",
          "text": [
            "<class 'pandas.core.frame.DataFrame'>\n",
            "RangeIndex: 46 entries, 0 to 45\n",
            "Data columns (total 2 columns):\n",
            " #   Column     Non-Null Count  Dtype \n",
            "---  ------     --------------  ----- \n",
            " 0   Pregunta   46 non-null     object\n",
            " 1   Respuesta  46 non-null     object\n",
            "dtypes: object(2)\n",
            "memory usage: 864.0+ bytes\n"
          ]
        }
      ]
    },
    {
      "cell_type": "markdown",
      "source": [
        "## 1.3 Genere una tabla (tiposmensajes.xls) con ejemplos de las siguientes clases de mensaje: \"saludo\", \"despedida\", \"nombre\", \"informacion\""
      ],
      "metadata": {
        "id": "Dxd1ZhwnGBzn"
      }
    },
    {
      "cell_type": "markdown",
      "source": [
        "La siguiente tabla corresponde a las preguntas de la sección QA de Chilexpress con la clase \"información\" y se han inventado los ejemplos de las clases \"saludo\", \"despedida\" y \"nombre\"."
      ],
      "metadata": {
        "id": "tsoGoFPcN6bb"
      }
    },
    {
      "cell_type": "markdown",
      "source": [
        "<font color='red'>**NOTA: Elegir el metodo de uso de los csv que nos resulte mas comodo**: dropbox/github/otro</font> (el -O es para que siempre sobreescriba el archivo aunque se vuelva a correr). Lo mismo para todos los csv."
      ],
      "metadata": {
        "id": "S7mWzyvl-fVp"
      }
    },
    {
      "cell_type": "code",
      "source": [
        "#!wget https://www.dropbox.com/s/wqmpjpdin6jmp3a/tiposmensajes.csv\n",
        "!wget https://raw.githubusercontent.com/alvaro-neira/nlp-homework2/main/tiposmensajes.csv -O /content/tiposmensajes.csv"
      ],
      "metadata": {
        "colab": {
          "base_uri": "https://localhost:8080/"
        },
        "id": "igsR0QmXN3d8",
        "outputId": "632509bb-7a37-4576-f7d5-301386632032"
      },
      "execution_count": 4,
      "outputs": [
        {
          "output_type": "stream",
          "name": "stdout",
          "text": [
            "--2021-12-30 12:34:09--  https://raw.githubusercontent.com/alvaro-neira/nlp-homework2/main/tiposmensajes.csv\n",
            "Resolving raw.githubusercontent.com (raw.githubusercontent.com)... 185.199.108.133, 185.199.109.133, 185.199.110.133, ...\n",
            "Connecting to raw.githubusercontent.com (raw.githubusercontent.com)|185.199.108.133|:443... connected.\n",
            "HTTP request sent, awaiting response... 200 OK\n",
            "Length: 4842 (4.7K) [text/plain]\n",
            "Saving to: ‘/content/tiposmensajes.csv’\n",
            "\n",
            "\r          /content/   0%[                    ]       0  --.-KB/s               \r/content/tiposmensa 100%[===================>]   4.73K  --.-KB/s    in 0s      \n",
            "\n",
            "2021-12-30 12:34:09 (68.1 MB/s) - ‘/content/tiposmensajes.csv’ saved [4842/4842]\n",
            "\n"
          ]
        }
      ]
    },
    {
      "cell_type": "code",
      "source": [
        "messages = pd.read_csv('/content/tiposmensajes.csv', sep=';')\n",
        "messages.head(40)"
      ],
      "metadata": {
        "colab": {
          "base_uri": "https://localhost:8080/",
          "height": 1000
        },
        "id": "SfaFFiPLOD85",
        "outputId": "957f5182-7cf8-46fa-e2de-9b2c02ed4d9d"
      },
      "execution_count": 5,
      "outputs": [
        {
          "output_type": "execute_result",
          "data": {
            "text/html": [
              "\n",
              "  <div id=\"df-586ec377-37ab-4347-ad20-a9653dc1054f\">\n",
              "    <div class=\"colab-df-container\">\n",
              "      <div>\n",
              "<style scoped>\n",
              "    .dataframe tbody tr th:only-of-type {\n",
              "        vertical-align: middle;\n",
              "    }\n",
              "\n",
              "    .dataframe tbody tr th {\n",
              "        vertical-align: top;\n",
              "    }\n",
              "\n",
              "    .dataframe thead th {\n",
              "        text-align: right;\n",
              "    }\n",
              "</style>\n",
              "<table border=\"1\" class=\"dataframe\">\n",
              "  <thead>\n",
              "    <tr style=\"text-align: right;\">\n",
              "      <th></th>\n",
              "      <th>Clase</th>\n",
              "      <th>Mensaje</th>\n",
              "    </tr>\n",
              "  </thead>\n",
              "  <tbody>\n",
              "    <tr>\n",
              "      <th>0</th>\n",
              "      <td>saludo</td>\n",
              "      <td>Hola</td>\n",
              "    </tr>\n",
              "    <tr>\n",
              "      <th>1</th>\n",
              "      <td>saludo</td>\n",
              "      <td>Buenas noches</td>\n",
              "    </tr>\n",
              "    <tr>\n",
              "      <th>2</th>\n",
              "      <td>saludo</td>\n",
              "      <td>Buenos días</td>\n",
              "    </tr>\n",
              "    <tr>\n",
              "      <th>3</th>\n",
              "      <td>saludo</td>\n",
              "      <td>Buen día</td>\n",
              "    </tr>\n",
              "    <tr>\n",
              "      <th>4</th>\n",
              "      <td>saludo</td>\n",
              "      <td>Buenas tardes</td>\n",
              "    </tr>\n",
              "    <tr>\n",
              "      <th>5</th>\n",
              "      <td>saludo</td>\n",
              "      <td>Buena tarde</td>\n",
              "    </tr>\n",
              "    <tr>\n",
              "      <th>6</th>\n",
              "      <td>saludo</td>\n",
              "      <td>¿Cómo estás?</td>\n",
              "    </tr>\n",
              "    <tr>\n",
              "      <th>7</th>\n",
              "      <td>saludo</td>\n",
              "      <td>¿Cómo está?</td>\n",
              "    </tr>\n",
              "    <tr>\n",
              "      <th>8</th>\n",
              "      <td>saludo</td>\n",
              "      <td>¿Cómo se encuentra hoy?</td>\n",
              "    </tr>\n",
              "    <tr>\n",
              "      <th>9</th>\n",
              "      <td>saludo</td>\n",
              "      <td>¿Cómo te encuentras hoy?</td>\n",
              "    </tr>\n",
              "    <tr>\n",
              "      <th>10</th>\n",
              "      <td>saludo</td>\n",
              "      <td>¡Hola en este hermoso día!</td>\n",
              "    </tr>\n",
              "    <tr>\n",
              "      <th>11</th>\n",
              "      <td>saludo</td>\n",
              "      <td>¡Hola hola!</td>\n",
              "    </tr>\n",
              "    <tr>\n",
              "      <th>12</th>\n",
              "      <td>saludo</td>\n",
              "      <td>Un gusto saludar</td>\n",
              "    </tr>\n",
              "    <tr>\n",
              "      <th>13</th>\n",
              "      <td>saludo</td>\n",
              "      <td>Un gusto</td>\n",
              "    </tr>\n",
              "    <tr>\n",
              "      <th>14</th>\n",
              "      <td>despedida</td>\n",
              "      <td>Chao</td>\n",
              "    </tr>\n",
              "    <tr>\n",
              "      <th>15</th>\n",
              "      <td>despedida</td>\n",
              "      <td>Adiós</td>\n",
              "    </tr>\n",
              "    <tr>\n",
              "      <th>16</th>\n",
              "      <td>despedida</td>\n",
              "      <td>Hasta luego</td>\n",
              "    </tr>\n",
              "    <tr>\n",
              "      <th>17</th>\n",
              "      <td>despedida</td>\n",
              "      <td>Nos vemos</td>\n",
              "    </tr>\n",
              "    <tr>\n",
              "      <th>18</th>\n",
              "      <td>despedida</td>\n",
              "      <td>Que tenga buen día</td>\n",
              "    </tr>\n",
              "    <tr>\n",
              "      <th>19</th>\n",
              "      <td>despedida</td>\n",
              "      <td>Que tenga un buen día</td>\n",
              "    </tr>\n",
              "    <tr>\n",
              "      <th>20</th>\n",
              "      <td>despedida</td>\n",
              "      <td>Que tengas buen día</td>\n",
              "    </tr>\n",
              "    <tr>\n",
              "      <th>21</th>\n",
              "      <td>despedida</td>\n",
              "      <td>Que tengas un buen día</td>\n",
              "    </tr>\n",
              "    <tr>\n",
              "      <th>22</th>\n",
              "      <td>despedida</td>\n",
              "      <td>¡Que esté bien!</td>\n",
              "    </tr>\n",
              "    <tr>\n",
              "      <th>23</th>\n",
              "      <td>despedida</td>\n",
              "      <td>¡Que esté muy bien!</td>\n",
              "    </tr>\n",
              "    <tr>\n",
              "      <th>24</th>\n",
              "      <td>despedida</td>\n",
              "      <td>¡Que estés bien!</td>\n",
              "    </tr>\n",
              "    <tr>\n",
              "      <th>25</th>\n",
              "      <td>despedida</td>\n",
              "      <td>¡Que estés muy bien!</td>\n",
              "    </tr>\n",
              "    <tr>\n",
              "      <th>26</th>\n",
              "      <td>despedida</td>\n",
              "      <td>Un saludo</td>\n",
              "    </tr>\n",
              "    <tr>\n",
              "      <th>27</th>\n",
              "      <td>nombre</td>\n",
              "      <td>Mi nombre es</td>\n",
              "    </tr>\n",
              "    <tr>\n",
              "      <th>28</th>\n",
              "      <td>nombre</td>\n",
              "      <td>Mi usuario es</td>\n",
              "    </tr>\n",
              "    <tr>\n",
              "      <th>29</th>\n",
              "      <td>nombre</td>\n",
              "      <td>Yo soy</td>\n",
              "    </tr>\n",
              "    <tr>\n",
              "      <th>30</th>\n",
              "      <td>nombre</td>\n",
              "      <td>Me llamo</td>\n",
              "    </tr>\n",
              "    <tr>\n",
              "      <th>31</th>\n",
              "      <td>nombre</td>\n",
              "      <td>Soy</td>\n",
              "    </tr>\n",
              "    <tr>\n",
              "      <th>32</th>\n",
              "      <td>nombre</td>\n",
              "      <td>Permítame presentarme, soy</td>\n",
              "    </tr>\n",
              "    <tr>\n",
              "      <th>33</th>\n",
              "      <td>nombre</td>\n",
              "      <td>Permíteme presentarme, soy</td>\n",
              "    </tr>\n",
              "    <tr>\n",
              "      <th>34</th>\n",
              "      <td>nombre</td>\n",
              "      <td>Soy conocida como</td>\n",
              "    </tr>\n",
              "    <tr>\n",
              "      <th>35</th>\n",
              "      <td>nombre</td>\n",
              "      <td>Me conocen como</td>\n",
              "    </tr>\n",
              "    <tr>\n",
              "      <th>36</th>\n",
              "      <td>información</td>\n",
              "      <td>¿Qué es la Orden de Transporte (OT)?</td>\n",
              "    </tr>\n",
              "    <tr>\n",
              "      <th>37</th>\n",
              "      <td>información</td>\n",
              "      <td>¿Cuál es el plazo para retirar un envío desde ...</td>\n",
              "    </tr>\n",
              "    <tr>\n",
              "      <th>38</th>\n",
              "      <td>información</td>\n",
              "      <td>¿Puede otra persona retirar mi envío de una su...</td>\n",
              "    </tr>\n",
              "    <tr>\n",
              "      <th>39</th>\n",
              "      <td>información</td>\n",
              "      <td>¿Se puede modificar la dirección de envío?</td>\n",
              "    </tr>\n",
              "  </tbody>\n",
              "</table>\n",
              "</div>\n",
              "      <button class=\"colab-df-convert\" onclick=\"convertToInteractive('df-586ec377-37ab-4347-ad20-a9653dc1054f')\"\n",
              "              title=\"Convert this dataframe to an interactive table.\"\n",
              "              style=\"display:none;\">\n",
              "        \n",
              "  <svg xmlns=\"http://www.w3.org/2000/svg\" height=\"24px\"viewBox=\"0 0 24 24\"\n",
              "       width=\"24px\">\n",
              "    <path d=\"M0 0h24v24H0V0z\" fill=\"none\"/>\n",
              "    <path d=\"M18.56 5.44l.94 2.06.94-2.06 2.06-.94-2.06-.94-.94-2.06-.94 2.06-2.06.94zm-11 1L8.5 8.5l.94-2.06 2.06-.94-2.06-.94L8.5 2.5l-.94 2.06-2.06.94zm10 10l.94 2.06.94-2.06 2.06-.94-2.06-.94-.94-2.06-.94 2.06-2.06.94z\"/><path d=\"M17.41 7.96l-1.37-1.37c-.4-.4-.92-.59-1.43-.59-.52 0-1.04.2-1.43.59L10.3 9.45l-7.72 7.72c-.78.78-.78 2.05 0 2.83L4 21.41c.39.39.9.59 1.41.59.51 0 1.02-.2 1.41-.59l7.78-7.78 2.81-2.81c.8-.78.8-2.07 0-2.86zM5.41 20L4 18.59l7.72-7.72 1.47 1.35L5.41 20z\"/>\n",
              "  </svg>\n",
              "      </button>\n",
              "      \n",
              "  <style>\n",
              "    .colab-df-container {\n",
              "      display:flex;\n",
              "      flex-wrap:wrap;\n",
              "      gap: 12px;\n",
              "    }\n",
              "\n",
              "    .colab-df-convert {\n",
              "      background-color: #E8F0FE;\n",
              "      border: none;\n",
              "      border-radius: 50%;\n",
              "      cursor: pointer;\n",
              "      display: none;\n",
              "      fill: #1967D2;\n",
              "      height: 32px;\n",
              "      padding: 0 0 0 0;\n",
              "      width: 32px;\n",
              "    }\n",
              "\n",
              "    .colab-df-convert:hover {\n",
              "      background-color: #E2EBFA;\n",
              "      box-shadow: 0px 1px 2px rgba(60, 64, 67, 0.3), 0px 1px 3px 1px rgba(60, 64, 67, 0.15);\n",
              "      fill: #174EA6;\n",
              "    }\n",
              "\n",
              "    [theme=dark] .colab-df-convert {\n",
              "      background-color: #3B4455;\n",
              "      fill: #D2E3FC;\n",
              "    }\n",
              "\n",
              "    [theme=dark] .colab-df-convert:hover {\n",
              "      background-color: #434B5C;\n",
              "      box-shadow: 0px 1px 3px 1px rgba(0, 0, 0, 0.15);\n",
              "      filter: drop-shadow(0px 1px 2px rgba(0, 0, 0, 0.3));\n",
              "      fill: #FFFFFF;\n",
              "    }\n",
              "  </style>\n",
              "\n",
              "      <script>\n",
              "        const buttonEl =\n",
              "          document.querySelector('#df-586ec377-37ab-4347-ad20-a9653dc1054f button.colab-df-convert');\n",
              "        buttonEl.style.display =\n",
              "          google.colab.kernel.accessAllowed ? 'block' : 'none';\n",
              "\n",
              "        async function convertToInteractive(key) {\n",
              "          const element = document.querySelector('#df-586ec377-37ab-4347-ad20-a9653dc1054f');\n",
              "          const dataTable =\n",
              "            await google.colab.kernel.invokeFunction('convertToInteractive',\n",
              "                                                     [key], {});\n",
              "          if (!dataTable) return;\n",
              "\n",
              "          const docLinkHtml = 'Like what you see? Visit the ' +\n",
              "            '<a target=\"_blank\" href=https://colab.research.google.com/notebooks/data_table.ipynb>data table notebook</a>'\n",
              "            + ' to learn more about interactive tables.';\n",
              "          element.innerHTML = '';\n",
              "          dataTable['output_type'] = 'display_data';\n",
              "          await google.colab.output.renderOutput(dataTable, element);\n",
              "          const docLink = document.createElement('div');\n",
              "          docLink.innerHTML = docLinkHtml;\n",
              "          element.appendChild(docLink);\n",
              "        }\n",
              "      </script>\n",
              "    </div>\n",
              "  </div>\n",
              "  "
            ],
            "text/plain": [
              "          Clase                                            Mensaje\n",
              "0        saludo                                               Hola\n",
              "1        saludo                                      Buenas noches\n",
              "2        saludo                                        Buenos días\n",
              "3        saludo                                           Buen día\n",
              "4        saludo                                      Buenas tardes\n",
              "5        saludo                                        Buena tarde\n",
              "6        saludo                                       ¿Cómo estás?\n",
              "7        saludo                                        ¿Cómo está?\n",
              "8        saludo                            ¿Cómo se encuentra hoy?\n",
              "9        saludo                           ¿Cómo te encuentras hoy?\n",
              "10       saludo                         ¡Hola en este hermoso día!\n",
              "11       saludo                                        ¡Hola hola!\n",
              "12       saludo                                   Un gusto saludar\n",
              "13       saludo                                           Un gusto\n",
              "14    despedida                                               Chao\n",
              "15    despedida                                              Adiós\n",
              "16    despedida                                        Hasta luego\n",
              "17    despedida                                          Nos vemos\n",
              "18    despedida                                 Que tenga buen día\n",
              "19    despedida                              Que tenga un buen día\n",
              "20    despedida                                Que tengas buen día\n",
              "21    despedida                             Que tengas un buen día\n",
              "22    despedida                                    ¡Que esté bien!\n",
              "23    despedida                                ¡Que esté muy bien!\n",
              "24    despedida                                   ¡Que estés bien!\n",
              "25    despedida                               ¡Que estés muy bien!\n",
              "26    despedida                                          Un saludo\n",
              "27       nombre                                       Mi nombre es\n",
              "28       nombre                                      Mi usuario es\n",
              "29       nombre                                             Yo soy\n",
              "30       nombre                                           Me llamo\n",
              "31       nombre                                                Soy\n",
              "32       nombre                         Permítame presentarme, soy\n",
              "33       nombre                         Permíteme presentarme, soy\n",
              "34       nombre                                  Soy conocida como\n",
              "35       nombre                                    Me conocen como\n",
              "36  información               ¿Qué es la Orden de Transporte (OT)?\n",
              "37  información  ¿Cuál es el plazo para retirar un envío desde ...\n",
              "38  información  ¿Puede otra persona retirar mi envío de una su...\n",
              "39  información         ¿Se puede modificar la dirección de envío?"
            ]
          },
          "metadata": {},
          "execution_count": 5
        }
      ]
    },
    {
      "cell_type": "markdown",
      "source": [
        "## 1.4 Genere respuestas predeterminadas (respuestasDefecto.xls) para los mensajes de tipo \"saludo\", \"despedida\", \"nombre\""
      ],
      "metadata": {
        "id": "ozGp6P_TGU0r"
      }
    },
    {
      "cell_type": "markdown",
      "source": [
        "Se generan respuestas por defecto para cada clase que hemos inventado, de esta forma, Eva puede responder a una pregunta de esta clase con una de las respuestas de esta lista. "
      ],
      "metadata": {
        "id": "n8152WqnQWdh"
      }
    },
    {
      "cell_type": "code",
      "source": [
        "#!wget https://www.dropbox.com/s/kukxrqpjxi0l4ei/respuestasDefecto.csv\n",
        "!wget https://raw.githubusercontent.com/alvaro-neira/nlp-homework2/main/respuestasDefecto.csv -O /content/respuestasDefecto.csv"
      ],
      "metadata": {
        "colab": {
          "base_uri": "https://localhost:8080/"
        },
        "id": "bXuKEL2SP8PT",
        "outputId": "4d9664b4-6a6d-479a-d843-81deebcf623e"
      },
      "execution_count": 6,
      "outputs": [
        {
          "output_type": "stream",
          "name": "stdout",
          "text": [
            "--2021-12-30 12:34:56--  https://raw.githubusercontent.com/alvaro-neira/nlp-homework2/main/respuestasDefecto.csv\n",
            "Resolving raw.githubusercontent.com (raw.githubusercontent.com)... 185.199.108.133, 185.199.109.133, 185.199.110.133, ...\n",
            "Connecting to raw.githubusercontent.com (raw.githubusercontent.com)|185.199.108.133|:443... connected.\n",
            "HTTP request sent, awaiting response... 200 OK\n",
            "Length: 2280 (2.2K) [text/plain]\n",
            "Saving to: ‘/content/respuestasDefecto.csv’\n",
            "\n",
            "\r          /content/   0%[                    ]       0  --.-KB/s               \r/content/respuestas 100%[===================>]   2.23K  --.-KB/s    in 0s      \n",
            "\n",
            "2021-12-30 12:34:56 (38.6 MB/s) - ‘/content/respuestasDefecto.csv’ saved [2280/2280]\n",
            "\n"
          ]
        }
      ]
    },
    {
      "cell_type": "code",
      "source": [
        "answers = pd.read_csv('/content/respuestasDefecto.csv', sep=';')\n",
        "answers.tail(43)"
      ],
      "metadata": {
        "colab": {
          "base_uri": "https://localhost:8080/",
          "height": 1000
        },
        "id": "FsGsYLnTQ9Ya",
        "outputId": "07c5c4b0-8c81-4d9c-a5d8-1df1126ea6f4"
      },
      "execution_count": 8,
      "outputs": [
        {
          "output_type": "execute_result",
          "data": {
            "text/html": [
              "\n",
              "  <div id=\"df-c3ce52ea-259c-4371-b625-20dc3c0625d2\">\n",
              "    <div class=\"colab-df-container\">\n",
              "      <div>\n",
              "<style scoped>\n",
              "    .dataframe tbody tr th:only-of-type {\n",
              "        vertical-align: middle;\n",
              "    }\n",
              "\n",
              "    .dataframe tbody tr th {\n",
              "        vertical-align: top;\n",
              "    }\n",
              "\n",
              "    .dataframe thead th {\n",
              "        text-align: right;\n",
              "    }\n",
              "</style>\n",
              "<table border=\"1\" class=\"dataframe\">\n",
              "  <thead>\n",
              "    <tr style=\"text-align: right;\">\n",
              "      <th></th>\n",
              "      <th>Clase</th>\n",
              "      <th>Mensaje</th>\n",
              "    </tr>\n",
              "  </thead>\n",
              "  <tbody>\n",
              "    <tr>\n",
              "      <th>1</th>\n",
              "      <td>saludo</td>\n",
              "      <td>Hola, ¿en qué puedo ayudarlo?</td>\n",
              "    </tr>\n",
              "    <tr>\n",
              "      <th>2</th>\n",
              "      <td>saludo</td>\n",
              "      <td>Hola, cuéntame qué necesitas</td>\n",
              "    </tr>\n",
              "    <tr>\n",
              "      <th>3</th>\n",
              "      <td>saludo</td>\n",
              "      <td>Hola, cuénteme qué necesita</td>\n",
              "    </tr>\n",
              "    <tr>\n",
              "      <th>4</th>\n",
              "      <td>saludo</td>\n",
              "      <td>Hola, cuéntame en qué puedo ayudarte</td>\n",
              "    </tr>\n",
              "    <tr>\n",
              "      <th>5</th>\n",
              "      <td>saludo</td>\n",
              "      <td>Hola, cuénteme en qué puedo ayudarlo</td>\n",
              "    </tr>\n",
              "    <tr>\n",
              "      <th>6</th>\n",
              "      <td>saludo</td>\n",
              "      <td>Hola, cuéntame en qué te puedo ayudar</td>\n",
              "    </tr>\n",
              "    <tr>\n",
              "      <th>7</th>\n",
              "      <td>saludo</td>\n",
              "      <td>Hola, cuénteme en qué lo puedo ayudar</td>\n",
              "    </tr>\n",
              "    <tr>\n",
              "      <th>8</th>\n",
              "      <td>saludo</td>\n",
              "      <td>Buenos días, ¿en qué puedo ayudarte?</td>\n",
              "    </tr>\n",
              "    <tr>\n",
              "      <th>9</th>\n",
              "      <td>saludo</td>\n",
              "      <td>Buenos días, ¿en qué puedo ayudarlo?</td>\n",
              "    </tr>\n",
              "    <tr>\n",
              "      <th>10</th>\n",
              "      <td>saludo</td>\n",
              "      <td>Buenos días, ¿en qué te puedo te ayudar?</td>\n",
              "    </tr>\n",
              "    <tr>\n",
              "      <th>11</th>\n",
              "      <td>saludo</td>\n",
              "      <td>Buenos días, ¿en qué lo puedo lo ayudar?</td>\n",
              "    </tr>\n",
              "    <tr>\n",
              "      <th>12</th>\n",
              "      <td>saludo</td>\n",
              "      <td>Buen día, ¿en qué te puedo ayudar?</td>\n",
              "    </tr>\n",
              "    <tr>\n",
              "      <th>13</th>\n",
              "      <td>saludo</td>\n",
              "      <td>Buen día, ¿en qué lo puedo ayudar?</td>\n",
              "    </tr>\n",
              "    <tr>\n",
              "      <th>14</th>\n",
              "      <td>saludo</td>\n",
              "      <td>Buenas tardes, ¿en qué lo puedo ayudar?</td>\n",
              "    </tr>\n",
              "    <tr>\n",
              "      <th>15</th>\n",
              "      <td>saludo</td>\n",
              "      <td>Buenas tardes, ¿en qué lo puedo ayudar?</td>\n",
              "    </tr>\n",
              "    <tr>\n",
              "      <th>16</th>\n",
              "      <td>saludo</td>\n",
              "      <td>Buena tarde, ¿en qué te puedo ayudar?</td>\n",
              "    </tr>\n",
              "    <tr>\n",
              "      <th>17</th>\n",
              "      <td>saludo</td>\n",
              "      <td>Buena tarde, ¿en qué lo puedo ayudar?</td>\n",
              "    </tr>\n",
              "    <tr>\n",
              "      <th>18</th>\n",
              "      <td>saludo</td>\n",
              "      <td>Buenas noches, ¿en qué te puedo ayudar?</td>\n",
              "    </tr>\n",
              "    <tr>\n",
              "      <th>19</th>\n",
              "      <td>saludo</td>\n",
              "      <td>Buenas noches, ¿en qué lo puedo ayudar?</td>\n",
              "    </tr>\n",
              "    <tr>\n",
              "      <th>20</th>\n",
              "      <td>saludo</td>\n",
              "      <td>Un gusto saludar, ¿en qué puedo ayudarte?</td>\n",
              "    </tr>\n",
              "    <tr>\n",
              "      <th>21</th>\n",
              "      <td>saludo</td>\n",
              "      <td>¿Te puedo ayudar en algo?</td>\n",
              "    </tr>\n",
              "    <tr>\n",
              "      <th>22</th>\n",
              "      <td>saludo</td>\n",
              "      <td>¿Lo puedo ayudar en algo?</td>\n",
              "    </tr>\n",
              "    <tr>\n",
              "      <th>23</th>\n",
              "      <td>despedida</td>\n",
              "      <td>Gracias por contactarte con nosotros</td>\n",
              "    </tr>\n",
              "    <tr>\n",
              "      <th>24</th>\n",
              "      <td>despedida</td>\n",
              "      <td>Adiós, que esté muy bien</td>\n",
              "    </tr>\n",
              "    <tr>\n",
              "      <th>25</th>\n",
              "      <td>despedida</td>\n",
              "      <td>Hasta luego, gracias por tu tiempo</td>\n",
              "    </tr>\n",
              "    <tr>\n",
              "      <th>26</th>\n",
              "      <td>despedida</td>\n",
              "      <td>Adiós, espero hayamos resuelto tu inquietud</td>\n",
              "    </tr>\n",
              "    <tr>\n",
              "      <th>27</th>\n",
              "      <td>despedida</td>\n",
              "      <td>Gracias por tu tiempo, ¡hasta luego!</td>\n",
              "    </tr>\n",
              "    <tr>\n",
              "      <th>28</th>\n",
              "      <td>despedida</td>\n",
              "      <td>Si no tiene más dudas, me despido. ¡Hasta luego!</td>\n",
              "    </tr>\n",
              "    <tr>\n",
              "      <th>29</th>\n",
              "      <td>despedida</td>\n",
              "      <td>Si no tienes más inquietudes, me despido. ¡Has...</td>\n",
              "    </tr>\n",
              "    <tr>\n",
              "      <th>30</th>\n",
              "      <td>despedida</td>\n",
              "      <td>Si no tienes más dudas, me despido. ¡Hasta luego!</td>\n",
              "    </tr>\n",
              "    <tr>\n",
              "      <th>31</th>\n",
              "      <td>despedida</td>\n",
              "      <td>Si no tiene más inquietudes, me despido. ¡Hast...</td>\n",
              "    </tr>\n",
              "    <tr>\n",
              "      <th>32</th>\n",
              "      <td>nombre</td>\n",
              "      <td>Mi nombre es Eva, estoy aquí para ayudarte</td>\n",
              "    </tr>\n",
              "    <tr>\n",
              "      <th>33</th>\n",
              "      <td>nombre</td>\n",
              "      <td>Permítame presentarme, soy Eva y estoy aquí pa...</td>\n",
              "    </tr>\n",
              "    <tr>\n",
              "      <th>34</th>\n",
              "      <td>nombre</td>\n",
              "      <td>Permíteme presentarme, soy Eva y estoy aquí pa...</td>\n",
              "    </tr>\n",
              "    <tr>\n",
              "      <th>35</th>\n",
              "      <td>nombre</td>\n",
              "      <td>Soy Eva, ¿En qué puedo ayudar?</td>\n",
              "    </tr>\n",
              "    <tr>\n",
              "      <th>36</th>\n",
              "      <td>nombre</td>\n",
              "      <td>Soy Eva, ¿En qué puedo ayudarte?</td>\n",
              "    </tr>\n",
              "    <tr>\n",
              "      <th>37</th>\n",
              "      <td>nombre</td>\n",
              "      <td>Soy Eva, ¿En qué puedo ayudarlo?</td>\n",
              "    </tr>\n",
              "    <tr>\n",
              "      <th>38</th>\n",
              "      <td>nombre</td>\n",
              "      <td>Soy Eva, tu asistente virtual y estoy aquí par...</td>\n",
              "    </tr>\n",
              "    <tr>\n",
              "      <th>39</th>\n",
              "      <td>nombre</td>\n",
              "      <td>Soy Eva, su asistente virtual y estoy aquí par...</td>\n",
              "    </tr>\n",
              "    <tr>\n",
              "      <th>40</th>\n",
              "      <td>nombre</td>\n",
              "      <td>Soy conocida como Eva, tu asistente virtual</td>\n",
              "    </tr>\n",
              "    <tr>\n",
              "      <th>41</th>\n",
              "      <td>nombre</td>\n",
              "      <td>Soy conocida como Eva, su asistente virtual</td>\n",
              "    </tr>\n",
              "    <tr>\n",
              "      <th>42</th>\n",
              "      <td>nombre</td>\n",
              "      <td>Soy su asistente virtual y mi nombre es Eva. ¿...</td>\n",
              "    </tr>\n",
              "    <tr>\n",
              "      <th>43</th>\n",
              "      <td>nombre</td>\n",
              "      <td>Soy tu asistente virtual y mi nombre es Eva. ¿...</td>\n",
              "    </tr>\n",
              "  </tbody>\n",
              "</table>\n",
              "</div>\n",
              "      <button class=\"colab-df-convert\" onclick=\"convertToInteractive('df-c3ce52ea-259c-4371-b625-20dc3c0625d2')\"\n",
              "              title=\"Convert this dataframe to an interactive table.\"\n",
              "              style=\"display:none;\">\n",
              "        \n",
              "  <svg xmlns=\"http://www.w3.org/2000/svg\" height=\"24px\"viewBox=\"0 0 24 24\"\n",
              "       width=\"24px\">\n",
              "    <path d=\"M0 0h24v24H0V0z\" fill=\"none\"/>\n",
              "    <path d=\"M18.56 5.44l.94 2.06.94-2.06 2.06-.94-2.06-.94-.94-2.06-.94 2.06-2.06.94zm-11 1L8.5 8.5l.94-2.06 2.06-.94-2.06-.94L8.5 2.5l-.94 2.06-2.06.94zm10 10l.94 2.06.94-2.06 2.06-.94-2.06-.94-.94-2.06-.94 2.06-2.06.94z\"/><path d=\"M17.41 7.96l-1.37-1.37c-.4-.4-.92-.59-1.43-.59-.52 0-1.04.2-1.43.59L10.3 9.45l-7.72 7.72c-.78.78-.78 2.05 0 2.83L4 21.41c.39.39.9.59 1.41.59.51 0 1.02-.2 1.41-.59l7.78-7.78 2.81-2.81c.8-.78.8-2.07 0-2.86zM5.41 20L4 18.59l7.72-7.72 1.47 1.35L5.41 20z\"/>\n",
              "  </svg>\n",
              "      </button>\n",
              "      \n",
              "  <style>\n",
              "    .colab-df-container {\n",
              "      display:flex;\n",
              "      flex-wrap:wrap;\n",
              "      gap: 12px;\n",
              "    }\n",
              "\n",
              "    .colab-df-convert {\n",
              "      background-color: #E8F0FE;\n",
              "      border: none;\n",
              "      border-radius: 50%;\n",
              "      cursor: pointer;\n",
              "      display: none;\n",
              "      fill: #1967D2;\n",
              "      height: 32px;\n",
              "      padding: 0 0 0 0;\n",
              "      width: 32px;\n",
              "    }\n",
              "\n",
              "    .colab-df-convert:hover {\n",
              "      background-color: #E2EBFA;\n",
              "      box-shadow: 0px 1px 2px rgba(60, 64, 67, 0.3), 0px 1px 3px 1px rgba(60, 64, 67, 0.15);\n",
              "      fill: #174EA6;\n",
              "    }\n",
              "\n",
              "    [theme=dark] .colab-df-convert {\n",
              "      background-color: #3B4455;\n",
              "      fill: #D2E3FC;\n",
              "    }\n",
              "\n",
              "    [theme=dark] .colab-df-convert:hover {\n",
              "      background-color: #434B5C;\n",
              "      box-shadow: 0px 1px 3px 1px rgba(0, 0, 0, 0.15);\n",
              "      filter: drop-shadow(0px 1px 2px rgba(0, 0, 0, 0.3));\n",
              "      fill: #FFFFFF;\n",
              "    }\n",
              "  </style>\n",
              "\n",
              "      <script>\n",
              "        const buttonEl =\n",
              "          document.querySelector('#df-c3ce52ea-259c-4371-b625-20dc3c0625d2 button.colab-df-convert');\n",
              "        buttonEl.style.display =\n",
              "          google.colab.kernel.accessAllowed ? 'block' : 'none';\n",
              "\n",
              "        async function convertToInteractive(key) {\n",
              "          const element = document.querySelector('#df-c3ce52ea-259c-4371-b625-20dc3c0625d2');\n",
              "          const dataTable =\n",
              "            await google.colab.kernel.invokeFunction('convertToInteractive',\n",
              "                                                     [key], {});\n",
              "          if (!dataTable) return;\n",
              "\n",
              "          const docLinkHtml = 'Like what you see? Visit the ' +\n",
              "            '<a target=\"_blank\" href=https://colab.research.google.com/notebooks/data_table.ipynb>data table notebook</a>'\n",
              "            + ' to learn more about interactive tables.';\n",
              "          element.innerHTML = '';\n",
              "          dataTable['output_type'] = 'display_data';\n",
              "          await google.colab.output.renderOutput(dataTable, element);\n",
              "          const docLink = document.createElement('div');\n",
              "          docLink.innerHTML = docLinkHtml;\n",
              "          element.appendChild(docLink);\n",
              "        }\n",
              "      </script>\n",
              "    </div>\n",
              "  </div>\n",
              "  "
            ],
            "text/plain": [
              "        Clase                                            Mensaje\n",
              "1      saludo                      Hola, ¿en qué puedo ayudarlo?\n",
              "2      saludo                       Hola, cuéntame qué necesitas\n",
              "3      saludo                        Hola, cuénteme qué necesita\n",
              "4      saludo               Hola, cuéntame en qué puedo ayudarte\n",
              "5      saludo               Hola, cuénteme en qué puedo ayudarlo\n",
              "6      saludo              Hola, cuéntame en qué te puedo ayudar\n",
              "7      saludo              Hola, cuénteme en qué lo puedo ayudar\n",
              "8      saludo               Buenos días, ¿en qué puedo ayudarte?\n",
              "9      saludo               Buenos días, ¿en qué puedo ayudarlo?\n",
              "10     saludo           Buenos días, ¿en qué te puedo te ayudar?\n",
              "11     saludo           Buenos días, ¿en qué lo puedo lo ayudar?\n",
              "12     saludo                 Buen día, ¿en qué te puedo ayudar?\n",
              "13     saludo                 Buen día, ¿en qué lo puedo ayudar?\n",
              "14     saludo            Buenas tardes, ¿en qué lo puedo ayudar?\n",
              "15     saludo            Buenas tardes, ¿en qué lo puedo ayudar?\n",
              "16     saludo              Buena tarde, ¿en qué te puedo ayudar?\n",
              "17     saludo              Buena tarde, ¿en qué lo puedo ayudar?\n",
              "18     saludo            Buenas noches, ¿en qué te puedo ayudar?\n",
              "19     saludo            Buenas noches, ¿en qué lo puedo ayudar?\n",
              "20     saludo          Un gusto saludar, ¿en qué puedo ayudarte?\n",
              "21     saludo                          ¿Te puedo ayudar en algo?\n",
              "22     saludo                          ¿Lo puedo ayudar en algo?\n",
              "23  despedida               Gracias por contactarte con nosotros\n",
              "24  despedida                           Adiós, que esté muy bien\n",
              "25  despedida                 Hasta luego, gracias por tu tiempo\n",
              "26  despedida        Adiós, espero hayamos resuelto tu inquietud\n",
              "27  despedida               Gracias por tu tiempo, ¡hasta luego!\n",
              "28  despedida   Si no tiene más dudas, me despido. ¡Hasta luego!\n",
              "29  despedida  Si no tienes más inquietudes, me despido. ¡Has...\n",
              "30  despedida  Si no tienes más dudas, me despido. ¡Hasta luego!\n",
              "31  despedida  Si no tiene más inquietudes, me despido. ¡Hast...\n",
              "32     nombre         Mi nombre es Eva, estoy aquí para ayudarte\n",
              "33     nombre  Permítame presentarme, soy Eva y estoy aquí pa...\n",
              "34     nombre  Permíteme presentarme, soy Eva y estoy aquí pa...\n",
              "35     nombre                     Soy Eva, ¿En qué puedo ayudar?\n",
              "36     nombre                   Soy Eva, ¿En qué puedo ayudarte?\n",
              "37     nombre                   Soy Eva, ¿En qué puedo ayudarlo?\n",
              "38     nombre  Soy Eva, tu asistente virtual y estoy aquí par...\n",
              "39     nombre  Soy Eva, su asistente virtual y estoy aquí par...\n",
              "40     nombre        Soy conocida como Eva, tu asistente virtual\n",
              "41     nombre        Soy conocida como Eva, su asistente virtual\n",
              "42     nombre  Soy su asistente virtual y mi nombre es Eva. ¿...\n",
              "43     nombre  Soy tu asistente virtual y mi nombre es Eva. ¿..."
            ]
          },
          "metadata": {},
          "execution_count": 8
        }
      ]
    },
    {
      "cell_type": "markdown",
      "source": [
        "## 1.5 Describa en términos generales las tablas que construyó."
      ],
      "metadata": {
        "id": "kjLZLGDTGvZ6"
      }
    },
    {
      "cell_type": "markdown",
      "source": [
        "\n",
        "\n",
        "*   Tabla QA: Se construyó en base a las preguntas y respuestas del centro de ayuda de Chilexpress https://centrodeayuda.chilexpress.cl/home . Se extrajo cada pregunta y respuesta de cada categoría (Envíos Nacionales, Envíos y retiros en App, Envíos internacionales, Giros en Chile y el mundo, Atención en sucursal, Cuenta empresa) y se eliminaron las preguntas repetidas. \n",
        "*   Tipos de mensajes: se construyó con mensajes tipo de saludo, despedida y nombre. Para la información se utilizó las preguntas obtenidas en la Tabla QA.\n",
        "*   Respuestas por defecto: se construyó con respuestas tipo de saludo, despedida y nombre de nuestro bot Eva.\n",
        "\n"
      ],
      "metadata": {
        "id": "DFkQxa-iRYcr"
      }
    },
    {
      "cell_type": "markdown",
      "source": [
        "# 2. Análisis de distancia"
      ],
      "metadata": {
        "id": "kQCgD-fNFWZ3"
      }
    },
    {
      "cell_type": "markdown",
      "source": [
        "Para el primer chatbot utilizará una métrica de su elección para responder\n",
        "a cada pregunta/texto del usuario."
      ],
      "metadata": {
        "id": "I9aCVeAjG6-j"
      }
    },
    {
      "cell_type": "markdown",
      "source": [
        "## 2.1 Utilice algún embeddings utilizado en el curso para codificar el texto de entrada"
      ],
      "metadata": {
        "id": "lJat6tmEG-_g"
      }
    },
    {
      "cell_type": "markdown",
      "source": [
        "### 2.1.1 Word2Vec"
      ],
      "metadata": {
        "id": "QkpU-dumwfg9"
      }
    },
    {
      "cell_type": "markdown",
      "source": [
        "El embedding utilizado para codificar el texto de entrada es Wor2Vec. Para ello, primero se preprocesa con un normalizador y un tokenizador. "
      ],
      "metadata": {
        "id": "4AWmpjo8RUVM"
      }
    },
    {
      "cell_type": "code",
      "source": [
        "import nltk\n",
        "import gensim\n",
        "import re\n",
        "import pandas as pd\n",
        "import sklearn\n",
        "import numpy as np\n",
        "\n",
        "import sklearn.linear_model\n",
        "import sklearn.model_selection\n",
        "from sklearn.svm import LinearSVC\n",
        "from sklearn.pipeline import make_pipeline\n",
        "from sklearn.preprocessing import StandardScaler"
      ],
      "metadata": {
        "id": "bwY8pldbS2_u"
      },
      "execution_count": 9,
      "outputs": []
    },
    {
      "cell_type": "code",
      "source": [
        "def normalizer(text): #normalizes a given string to lowercase and changes all vowels to their base form\n",
        "    text = text.lower() #string lowering\n",
        "    text = re.sub(r'[^A-Za-zñáéíóú]', ' ', text) #replaces every punctuation with a space\n",
        "    text = re.sub('á', 'a', text) #replaces special vowels to their base forms\n",
        "    text = re.sub('é', 'e', text)\n",
        "    text = re.sub('í', 'i', text)\n",
        "    text = re.sub('ó', 'o', text)\n",
        "    text = re.sub('ú', 'u', text)\n",
        "    return text\n",
        "\n",
        "def preprocessor(text):\n",
        "  text = normalizer(text)\n",
        "  tokens = nltk.tokenize.casual_tokenize(text)\n",
        "  #if len(tokens)==1:\n",
        "  #  tokens=text\n",
        "  return tokens\n",
        "\n",
        "def vectorizer(text, model): #returns a vector representation from a list of words and a given model\n",
        "    vectors = []\n",
        "    for i in text:\n",
        "        try:\n",
        "            vectors.append(model.wv[i])\n",
        "        except:\n",
        "            pass\n",
        "    return(np.nan_to_num(np.mean(vectors,axis=0)))"
      ],
      "metadata": {
        "id": "QJJ5MgBsS8Ca"
      },
      "execution_count": 12,
      "outputs": []
    },
    {
      "cell_type": "code",
      "source": [
        "corpus = messages.Mensaje.tolist()\n",
        "corpus_preprocessed = list(map(preprocessor,corpus))\n"
      ],
      "metadata": {
        "id": "NfZYkhRoU0-F"
      },
      "execution_count": 13,
      "outputs": []
    },
    {
      "cell_type": "code",
      "source": [
        "word2vec_model = gensim.models.word2vec.Word2Vec(sentences = corpus_preprocessed, min_count=1)"
      ],
      "metadata": {
        "id": "EaEAIqHFbMF0"
      },
      "execution_count": 14,
      "outputs": []
    },
    {
      "cell_type": "markdown",
      "source": [
        "## 2.2 Con el texto de entrada codificado y usando embeddings proponga una manera de identificar la clase del texto de entrada."
      ],
      "metadata": {
        "id": "acCU7jNxHFUN"
      }
    },
    {
      "cell_type": "markdown",
      "source": [
        "Se define la función para predecir la clase del texto de entrada. "
      ],
      "metadata": {
        "id": "jfbC9lB9X2NA"
      }
    },
    {
      "cell_type": "code",
      "source": [
        "def predict_class(question):\n",
        "  tokens = preprocessor(question)\n",
        "  vector = vectorizer(tokens, word2vec_model).reshape(1, -1)\n",
        "  return clf.predict(vector)"
      ],
      "metadata": {
        "id": "W89Jfer1xd4D"
      },
      "execution_count": 15,
      "outputs": []
    },
    {
      "cell_type": "markdown",
      "source": [
        "### 2.2.1 Word2Vec"
      ],
      "metadata": {
        "id": "oc9gAcTAnL-x"
      }
    },
    {
      "cell_type": "markdown",
      "source": [
        "Se ajusta el modelo con los mensajes preprocesados. "
      ],
      "metadata": {
        "id": "kPEv9q58YNoX"
      }
    },
    {
      "cell_type": "code",
      "source": [
        "features = np.zeros(shape=(len(messages), word2vec_model.wv.vectors.shape[1]))\n",
        "for i,msg in enumerate(messages.Mensaje):\n",
        "  features[i,:] = vectorizer(preprocessor(msg), word2vec_model)\n",
        "\n",
        "cv_results = sklearn.model_selection.cross_validate(sklearn.linear_model.LogisticRegression(max_iter=10000),features,messages.Clase)\n",
        "cv_results[\"test_score\"].mean()"
      ],
      "metadata": {
        "colab": {
          "base_uri": "https://localhost:8080/"
        },
        "id": "NIRKBuHyVV8k",
        "outputId": "f3b52995-3a54-46c8-fc3b-161f2cf913ff"
      },
      "execution_count": 16,
      "outputs": [
        {
          "output_type": "execute_result",
          "data": {
            "text/plain": [
              "0.5610294117647059"
            ]
          },
          "metadata": {},
          "execution_count": 16
        }
      ]
    },
    {
      "cell_type": "code",
      "source": [
        "clf = make_pipeline(StandardScaler(),LinearSVC(random_state=0, tol=1e-5))\n",
        "clf.fit(features,np.array(messages.Clase))"
      ],
      "metadata": {
        "colab": {
          "base_uri": "https://localhost:8080/"
        },
        "id": "gPDU514jYCkB",
        "outputId": "3eecec2f-3108-434b-e6de-bf6545d08958"
      },
      "execution_count": 17,
      "outputs": [
        {
          "output_type": "stream",
          "name": "stderr",
          "text": [
            "/usr/local/lib/python3.7/dist-packages/sklearn/svm/_base.py:1208: ConvergenceWarning: Liblinear failed to converge, increase the number of iterations.\n",
            "  ConvergenceWarning,\n"
          ]
        },
        {
          "output_type": "execute_result",
          "data": {
            "text/plain": [
              "Pipeline(steps=[('standardscaler', StandardScaler()),\n",
              "                ('linearsvc', LinearSVC(random_state=0, tol=1e-05))])"
            ]
          },
          "metadata": {},
          "execution_count": 17
        }
      ]
    },
    {
      "cell_type": "markdown",
      "source": [
        "Ejemplo de las preguntas y las clases obtenidas para cada una de ellas con el modelo. "
      ],
      "metadata": {
        "id": "llcuMh-HZSgP"
      }
    },
    {
      "cell_type": "code",
      "source": [
        "print(predict_class('¿Sólo las empresas pueden tener una cuenta con Chilexpress?'))\n",
        "print(predict_class('Mi nombre es'))\n",
        "print(predict_class('hola buenas'))\n",
        "print(predict_class('hola'))\n",
        "print(predict_class('¿puedo retirar un giro de dinero?'))\n",
        "print(predict_class('Puede otra persona retirar mi pedido'))\n",
        "print(predict_class('hasta luego'))\n",
        "print(predict_class('adios'))"
      ],
      "metadata": {
        "colab": {
          "base_uri": "https://localhost:8080/"
        },
        "id": "FCXJ9dgVYZtF",
        "outputId": "f9cf9295-76cf-4020-ae7c-9a6e243e1e35"
      },
      "execution_count": 18,
      "outputs": [
        {
          "output_type": "stream",
          "name": "stdout",
          "text": [
            "['información']\n",
            "['nombre']\n",
            "['saludo']\n",
            "['saludo']\n",
            "['información']\n",
            "['información']\n",
            "['despedida']\n",
            "['despedida']\n"
          ]
        }
      ]
    },
    {
      "cell_type": "markdown",
      "source": [
        "## 2.3 Si el texto de entrada es del tipo \"información”, busque ahora la pregunta mas similar y retorne la respuesta asociada."
      ],
      "metadata": {
        "id": "PXxNCsxwHKKi"
      }
    },
    {
      "cell_type": "markdown",
      "source": [
        "Primero, se preprocesa el texto de la misma forma que en el punto anterior, pero se agrega la eliminación de stopwords. "
      ],
      "metadata": {
        "id": "IHjSd69QZeNY"
      }
    },
    {
      "cell_type": "code",
      "source": [
        "import nltk\n",
        "\n",
        "nltk.download('punkt')\n",
        "nltk.download('stopwords')"
      ],
      "metadata": {
        "colab": {
          "base_uri": "https://localhost:8080/"
        },
        "id": "bdfwR9NXFP_n",
        "outputId": "b7e76f88-32bf-4167-8122-3705f316fea9"
      },
      "execution_count": 19,
      "outputs": [
        {
          "output_type": "stream",
          "name": "stdout",
          "text": [
            "[nltk_data] Downloading package punkt to /root/nltk_data...\n",
            "[nltk_data]   Package punkt is already up-to-date!\n",
            "[nltk_data] Downloading package stopwords to /root/nltk_data...\n",
            "[nltk_data]   Package stopwords is already up-to-date!\n"
          ]
        },
        {
          "output_type": "execute_result",
          "data": {
            "text/plain": [
              "True"
            ]
          },
          "metadata": {},
          "execution_count": 19
        }
      ]
    },
    {
      "cell_type": "code",
      "source": [
        "pattern = r\"\"\"(?x)                   # set flag to allow verbose regexps\n",
        "              (?:[A-Z]\\.)+           # abbreviations, e.g. U.S.A.\n",
        "              |\\$?\\d+(?:[.,]\\d+)?%?  # numbers, incl. currency and percentages\n",
        "              |\\w+(?:[-']\\w+)*       # words w/ optional internal hyphens/apostrophe\n",
        "              |(?:[+/\\-@&*¡!.,])     # special characters with meanings\n",
        "            \"\"\"\n",
        "\n",
        "def normalizer(text, remove_tildes = True): #normalizes a given string to lowercase and changes all vowels to their base form\n",
        "    text = text.lower() #string lowering\n",
        "    text = re.sub(r'[^A-Za-zñáéíóú]', ' ', text) #replaces every punctuation with a space\n",
        "    text = nltk.regexp_tokenize(text, pattern)\n",
        "    text = ' '.join(text)\n",
        "    if remove_tildes:\n",
        "        text = re.sub('á', 'a', text) #replaces special vowels to their base forms\n",
        "        text = re.sub('é', 'e', text)\n",
        "        text = re.sub('í', 'i', text)\n",
        "        text = re.sub('ó', 'o', text)\n",
        "        text = re.sub('ú', 'u', text)\n",
        "    return text"
      ],
      "metadata": {
        "id": "w6K8S1c2FTta"
      },
      "execution_count": 20,
      "outputs": []
    },
    {
      "cell_type": "code",
      "source": [
        "nltk_stopwords = nltk.corpus.stopwords.words('spanish')\n",
        "stopwords_normalized = [normalizer(word) for word in nltk_stopwords]\n",
        "\n",
        "def no_stopwords(processed):\n",
        "  '''\n",
        "  Función para eliminar las stopwords de un texto\n",
        "  '''\n",
        "  result = []\n",
        "  for w in processed:\n",
        "    if w not in stopwords_normalized:\n",
        "      result.append(w)\n",
        "\n",
        "  return result"
      ],
      "metadata": {
        "id": "wN1jmmTLFV-1"
      },
      "execution_count": 21,
      "outputs": []
    },
    {
      "cell_type": "code",
      "source": [
        "corpus_question = qa.Pregunta.tolist()\n",
        "questions_processed = []\n",
        "for question in corpus_question:\n",
        "  pre = preprocessor(question)\n",
        "  pre = no_stopwords(pre)\n",
        "  questions_processed.append(' '.join(pre))"
      ],
      "metadata": {
        "id": "tM67W7T_FYM7"
      },
      "execution_count": 22,
      "outputs": []
    },
    {
      "cell_type": "markdown",
      "source": [
        "Ejemplo de las preguntas preprocesadas."
      ],
      "metadata": {
        "id": "KEGXhxBwa10P"
      }
    },
    {
      "cell_type": "code",
      "source": [
        "questions_processed[:5]"
      ],
      "metadata": {
        "colab": {
          "base_uri": "https://localhost:8080/"
        },
        "id": "OfPhj4aqL6B0",
        "outputId": "df3ce605-7008-4fb0-e639-242ab5f65fb6"
      },
      "execution_count": 23,
      "outputs": [
        {
          "output_type": "execute_result",
          "data": {
            "text/plain": [
              "['orden transporte ot',\n",
              " 'plazo retirar envio sucursal chilexpress',\n",
              " 'puede persona retirar envio sucursal chilexpress',\n",
              " 'puede modificar direccion envio',\n",
              " 'puedo cambiar destino envio direccion particular sucursal chilexpress']"
            ]
          },
          "metadata": {},
          "execution_count": 23
        }
      ]
    },
    {
      "cell_type": "markdown",
      "source": [
        "En esta sección se realiza una modificación del modelo Word2Vec para utilizar Doc2Vec para identificar la pregunta en la base de datos que sea más similar a la que se ha preguntado.\n",
        "\n",
        "ref: https://www.linkedin.com/pulse/how-find-semantic-similar-sentences-from-your-dataset-jayaraman/"
      ],
      "metadata": {
        "id": "e6WE5mvJFk_E"
      }
    },
    {
      "cell_type": "code",
      "source": [
        "# <1 min\n",
        "from gensim.models.doc2vec import Doc2Vec, TaggedDocument\n",
        "from nltk.tokenize import word_tokenize\n",
        "\n",
        "tagged_data = [TaggedDocument(words=word_tokenize(_d.lower()), tags=[str(i)]) for i, _d in enumerate(questions_processed)]\n",
        "\n",
        "# hyper parameters\n",
        "max_epochs = 2000\n",
        "vec_size = 200\n",
        "alpha = 0.1\n",
        "minimum_alpha = 0.025\n",
        "reduce_alpha = 0.002\n",
        "\n",
        "model = Doc2Vec(vector_size=vec_size,\n",
        "                alpha=alpha, \n",
        "                min_alpha=minimum_alpha,\n",
        "                dm =1)\n",
        "model.build_vocab(tagged_data)\n",
        "\n",
        "# Train the model based on epochs parameter\n",
        "for epoch in range(max_epochs):\n",
        "    model.train(tagged_data,\n",
        "                total_examples=model.corpus_count,\n",
        "                epochs=model.iter)\n",
        "\n",
        "# Save model. \n",
        "model.save(\"similar_sentence.model3\")"
      ],
      "metadata": {
        "colab": {
          "base_uri": "https://localhost:8080/"
        },
        "id": "gYAF66wrFi2F",
        "outputId": "60b893ea-cd25-4836-f681-a0d900d23e3b"
      },
      "execution_count": 24,
      "outputs": [
        {
          "output_type": "stream",
          "name": "stderr",
          "text": [
            "/usr/local/lib/python3.7/dist-packages/ipykernel_launcher.py:24: DeprecationWarning: Call to deprecated `iter` (Attribute will be removed in 4.0.0, use self.epochs instead).\n"
          ]
        }
      ]
    },
    {
      "cell_type": "code",
      "source": [
        "model= Doc2Vec.load(\"similar_sentence.model3\")\n",
        "\n",
        "def best_five_answers(question):\n",
        "  tokens = preprocessor(question)\n",
        "  tokens = no_stopwords(tokens)\n",
        "  vector = model.infer_vector(tokens)\n",
        "  most_similar = model.docvecs.most_similar([vector]) \n",
        "  answers = qa.Respuesta.tolist()\n",
        "  print(tokens)\n",
        "  for index,value in most_similar[:5]:\n",
        "    print('---------')\n",
        "    print(corpus_question[int(index)])\n",
        "    print(questions_processed[int(index)])\n",
        "    print(answers[int(index)])\n",
        "    print('---------')\n",
        "\n",
        "def best_answers(question):\n",
        "  tokens = preprocessor(question)\n",
        "  tokens = no_stopwords(tokens)\n",
        "  vector = model.infer_vector(tokens)\n",
        "  most_similar = model.docvecs.most_similar([vector]) \n",
        "  answers = qa.Respuesta.tolist()\n",
        "  for index,value in most_similar[:1]:\n",
        "    print(corpus_question[int(index)])\n",
        "    print(answers[int(index)])"
      ],
      "metadata": {
        "id": "tdb-cRQcFovJ"
      },
      "execution_count": 25,
      "outputs": []
    },
    {
      "cell_type": "markdown",
      "source": [
        "Algunos ejemplos de las preguntas realizadas y las 5 primeras identificaciones en la base de datos (par pregunta-respuesta). "
      ],
      "metadata": {
        "id": "LEPN0IIpGhTt"
      }
    },
    {
      "cell_type": "code",
      "source": [
        "best_five_answers('¿Qué es la Orden de Transporte (OT)?')"
      ],
      "metadata": {
        "colab": {
          "base_uri": "https://localhost:8080/"
        },
        "id": "xj45VnaqFu5Q",
        "outputId": "9c66f9ef-6fae-468c-fa6a-1057e4486693"
      },
      "execution_count": 26,
      "outputs": [
        {
          "output_type": "stream",
          "name": "stdout",
          "text": [
            "['orden', 'transporte', 'ot']\n",
            "---------\n",
            "Si soy menor de edad, ¿puedo retirar un giro de dinero?\n",
            "menor edad puedo retirar giro dinero\n",
            "Sí, puedes hacerlo si cumples con la siguiente condición: los hombres desde los 14 años y las mujeres desde los 12 años, ambos hasta los 18 años, pueden cobrar y enviar giros con un poder notarial, sin la necesidad de estar acompañados de un adulto. En dicho poder, los padres, tutores o curadores legales, deben dejar constancia que autorizan el cobro o envío del giro.\n",
            "\n",
            "---------\n",
            "---------\n",
            "¿En cuánto tiempo está disponible un giro para retiro?\n",
            "cuanto tiempo disponible giro retiro\n",
            "El dinero podrá ser retirado por su destinatario en un plazo máximo de 24 horas. Con el servicio Dinero en Minutos, un giro puede cobrarse en 15 minutos.\n",
            "\n",
            "---------\n",
            "---------\n",
            "Si me envían un giro en dólares ¿en qué moneda lo retiro?\n",
            "envian giro dolares moneda retiro\n",
            "Los giros en dólares pueden retirarse en moneda del país de destino o en dólares. Si eres el destinatario del giro, debes preguntar en la sucursal de Chilexpress donde estás retirando tu giro si está habilitado el pago en dólares.\n",
            "\n",
            "---------\n",
            "---------\n",
            "Si hice un Giro online y no he recibido el MTCN, ¿puedo solicitarlo por teléfono?\n",
            "hice giro online recibido mtcn puedo solicitarlo telefono\n",
            "Si no recibiste tu MTCN vía SMS o por correo electrónico ahora puedes conocer el estado, historial y número de MTCN de todos tus envíos de dinero en la sección Mis Giros en www.chilexpress.cl\n",
            "\n",
            "---------\n",
            "---------\n",
            "Hice un giro online pero ingresé mal el nombre del destinatario ¿cómo puedo corregirlo?\n",
            "hice giro online ingrese mal nombre destinatario puedo corregirlo\n",
            "Para corregir el nombre del destinatario de un giro online ,debes ingresar a https://te-ayudamos.chilexpress.cl/. Luego seleccionar \"ingresa un reclamo\", posteriormente seleccionar \"envíos de dinero\" y luego \"quiero modificar los datos de mi envío de dinero\".\n",
            "\n",
            "---------\n"
          ]
        }
      ]
    },
    {
      "cell_type": "code",
      "source": [
        "best_five_answers('¿Qué es un envío sobredimensionado?')"
      ],
      "metadata": {
        "colab": {
          "base_uri": "https://localhost:8080/"
        },
        "id": "7SlEeQ5jFw6L",
        "outputId": "9eceb78b-6f12-4894-ba79-f5367d6d40a5"
      },
      "execution_count": 27,
      "outputs": [
        {
          "output_type": "stream",
          "name": "stdout",
          "text": [
            "['envio', 'sobredimensionado']\n",
            "---------\n",
            "Si el destinatario no se encuentra en la dirección de envío, ¿puede recibirlo otra persona?\n",
            "destinatario encuentra direccion envio puede recibirlo persona\n",
            "Sí, puede recibirlo cualquier persona adulta que esté en el domicilio, indicando su Rut y su nombre.\n",
            "\n",
            "---------\n",
            "---------\n",
            "¿El destinatario puede cambiar la dirección del envío?\n",
            "destinatario puede cambiar direccion envio\n",
            "No es posible. Sin embargo, si un envío no puede ser entregado en la dirección de destino original, el destinatario podrá solicitar que sea derivado a una sucursal Chilexpress ubicada en la misma comuna del despacho original.\n",
            "\n",
            "---------\n",
            "---------\n",
            "¿Qué pasa si el destinatario no puede recibir el envío en su dirección?\n",
            "pasa destinatario puede recibir envio direccion\n",
            "Chilexpress realiza dos intentos de entrega en el domicilio, en dos días hábiles y horarios distintos, los que son notificados al destinatario mediante un email. Si no se puede efectuar la entrega, el envío será devuelto al remitente.\n",
            "\n",
            "---------\n",
            "---------\n",
            "¿Cuáles son los plazos de entrega asociados a un envío internacional?\n",
            "cuales plazos entrega asociados envio internacional\n",
            "Los plazos de entrega varían según el lugar de destino. Estos varían de entre 4 días hábiles, a 8 días hábiles dependiendo del país y ciudad al que se desee exportar o importar. Es importante también considerar, que las retenciones asociadas a falta de información, documentación o condiciones aduaneras, podrían extender estos plazos.\n",
            "\n",
            "---------\n",
            "---------\n",
            "¿Qué es un envío sobredimensionado?\n",
            "envio sobredimensionado\n",
            "Es toda encomienda que no cumpla el estándar establecido por Chilexpress, ya que posee una o más de las siguientes características: tiene un embalaje irregular, pesa más de 50 kilos y sobrepasa alguna de estas tres medidas: 1,2 metros (largo) x 0,8 metros (ancho) x 0,8 metros (alto). Puedes revisar las sucursales disponibles para estos envíos en la sección Sucursales en www.chilexpress.cl\n",
            "\n",
            "---------\n"
          ]
        }
      ]
    },
    {
      "cell_type": "markdown",
      "source": [
        "## 2.4 Reporte el resultado con textos de prueba."
      ],
      "metadata": {
        "id": "ccIjPIjmHSwx"
      }
    },
    {
      "cell_type": "markdown",
      "source": [
        "Se indican los siguientes ejemplos utilizando el modelo Doc2Vec (modificación de Word2Vec)."
      ],
      "metadata": {
        "id": "3JVJavMmGw9W"
      }
    },
    {
      "cell_type": "code",
      "source": [
        "print('¿Sólo las empresas pueden tener una cuenta con Chilexpress?')\n",
        "print(best_answers('¿Sólo las empresas pueden tener una cuenta con Chilexpress?'))\n",
        "print('¿puedo retirar un giro de dinero?')\n",
        "print(best_answers('¿puedo retirar un giro de dinero?'))\n",
        "print('Puede otra persona retirar mi pedido')\n",
        "print(best_answers('Puede otra persona retirar mi pedido'))\n",
        "print('¿Qué es la Orden de Transporte (OT)?')\n",
        "print(best_answers('¿Qué es la Orden de Transporte (OT)?'))\n",
        "print('¿Qué es un envío sobredimensionado?')\n",
        "print(best_answers('¿Qué es un envío sobredimensionado?'))\n",
        "print('¿Quién ganará la próxima elección?')\n",
        "print(best_answers('¿Quién ganará la próxima elección?'))"
      ],
      "metadata": {
        "colab": {
          "base_uri": "https://localhost:8080/"
        },
        "id": "IHG6xHecjw3Q",
        "outputId": "ea2debc4-2345-49b1-f4bd-66fab18328c8"
      },
      "execution_count": 28,
      "outputs": [
        {
          "output_type": "stream",
          "name": "stdout",
          "text": [
            "¿Sólo las empresas pueden tener una cuenta con Chilexpress?\n",
            "¿Puedo enviar un documento o encomienda a otro país a través de Chilexpress?\n",
            "Sí, Chilexpress recibe tus envíos para hacerlos llegar a los distintos lugares del mundo. Puedes enviar tanto documentos como muestras al extranjero; esta última corresponde a todo aquello que no es considerado como documento y que se encuentre en el rango de 2,5 kilos a 50 kilos. Toda muestra debe venir valorada comercialmente por el remitente mediante el uso de una “Factura Comercial” expresada en dólares. Revisa más detalles en la Guía de Servicio.\n",
            "\n",
            "None\n",
            "¿puedo retirar un giro de dinero?\n",
            "Si hice un Giro online y no he recibido el MTCN, ¿puedo solicitarlo por teléfono?\n",
            "Si no recibiste tu MTCN vía SMS o por correo electrónico ahora puedes conocer el estado, historial y número de MTCN de todos tus envíos de dinero en la sección Mis Giros en www.chilexpress.cl\n",
            "\n",
            "None\n",
            "Puede otra persona retirar mi pedido\n",
            "¿Cuánto tiempo tarda en ser habilitada mi cuenta empresa Chilexpress?\n",
            "La cuenta Chilexpress se habilita, aproximadamente, después de 4 días hábiles.\n",
            "\n",
            "None\n",
            "¿Qué es la Orden de Transporte (OT)?\n",
            "Si soy menor de edad, ¿puedo retirar un giro de dinero?\n",
            "Sí, puedes hacerlo si cumples con la siguiente condición: los hombres desde los 14 años y las mujeres desde los 12 años, ambos hasta los 18 años, pueden cobrar y enviar giros con un poder notarial, sin la necesidad de estar acompañados de un adulto. En dicho poder, los padres, tutores o curadores legales, deben dejar constancia que autorizan el cobro o envío del giro.\n",
            "\n",
            "None\n",
            "¿Qué es un envío sobredimensionado?\n",
            "¿Cómo obtengo mi usuario y contraseña de cliente empresa Chilexpress?\n",
            "Para obtener el usuario debes registrarte con el RUT de la empresa, así el administrador habilita tu usuario. Cuando eso ocurra, te enviaremos un correo electrónico con tu contraseña. Si olvidas tu contraseña, puedes solicitar una nueva en el Portal Empresas en www.chilexpress.cl\n",
            "\n",
            "None\n",
            "¿Quién ganará la próxima elección?\n",
            "¿En cuánto tiempo está disponible un giro para retiro?\n",
            "El dinero podrá ser retirado por su destinatario en un plazo máximo de 24 horas. Con el servicio Dinero en Minutos, un giro puede cobrarse en 15 minutos.\n",
            "\n",
            "None\n"
          ]
        }
      ]
    },
    {
      "cell_type": "markdown",
      "source": [
        "# 3. Análisis transformer "
      ],
      "metadata": {
        "id": "6Iqr3LsaFezF"
      }
    },
    {
      "cell_type": "markdown",
      "source": [
        "Para el segundo chatbot utilice un transformer (por ejemplo BERT)."
      ],
      "metadata": {
        "id": "iv-Oe3aiGA9H"
      }
    },
    {
      "cell_type": "code",
      "source": [
        "!pip install transformers\n",
        "from transformers import pipeline, AutoTokenizer, Trainer, TrainingArguments, AutoModel, AutoModelForSequenceClassification"
      ],
      "metadata": {
        "colab": {
          "base_uri": "https://localhost:8080/"
        },
        "id": "9LAo5hNNQV7P",
        "outputId": "9b0b40ee-7239-4294-9ef8-59df55932fe9"
      },
      "execution_count": 29,
      "outputs": [
        {
          "output_type": "stream",
          "name": "stdout",
          "text": [
            "Requirement already satisfied: transformers in /usr/local/lib/python3.7/dist-packages (4.15.0)\n",
            "Requirement already satisfied: requests in /usr/local/lib/python3.7/dist-packages (from transformers) (2.23.0)\n",
            "Requirement already satisfied: pyyaml>=5.1 in /usr/local/lib/python3.7/dist-packages (from transformers) (6.0)\n",
            "Requirement already satisfied: numpy>=1.17 in /usr/local/lib/python3.7/dist-packages (from transformers) (1.19.5)\n",
            "Requirement already satisfied: filelock in /usr/local/lib/python3.7/dist-packages (from transformers) (3.4.0)\n",
            "Requirement already satisfied: tqdm>=4.27 in /usr/local/lib/python3.7/dist-packages (from transformers) (4.62.3)\n",
            "Requirement already satisfied: tokenizers<0.11,>=0.10.1 in /usr/local/lib/python3.7/dist-packages (from transformers) (0.10.3)\n",
            "Requirement already satisfied: huggingface-hub<1.0,>=0.1.0 in /usr/local/lib/python3.7/dist-packages (from transformers) (0.2.1)\n",
            "Requirement already satisfied: sacremoses in /usr/local/lib/python3.7/dist-packages (from transformers) (0.0.46)\n",
            "Requirement already satisfied: importlib-metadata in /usr/local/lib/python3.7/dist-packages (from transformers) (4.8.2)\n",
            "Requirement already satisfied: regex!=2019.12.17 in /usr/local/lib/python3.7/dist-packages (from transformers) (2019.12.20)\n",
            "Requirement already satisfied: packaging>=20.0 in /usr/local/lib/python3.7/dist-packages (from transformers) (21.3)\n",
            "Requirement already satisfied: typing-extensions>=3.7.4.3 in /usr/local/lib/python3.7/dist-packages (from huggingface-hub<1.0,>=0.1.0->transformers) (3.10.0.2)\n",
            "Requirement already satisfied: pyparsing!=3.0.5,>=2.0.2 in /usr/local/lib/python3.7/dist-packages (from packaging>=20.0->transformers) (3.0.6)\n",
            "Requirement already satisfied: zipp>=0.5 in /usr/local/lib/python3.7/dist-packages (from importlib-metadata->transformers) (3.6.0)\n",
            "Requirement already satisfied: certifi>=2017.4.17 in /usr/local/lib/python3.7/dist-packages (from requests->transformers) (2021.10.8)\n",
            "Requirement already satisfied: urllib3!=1.25.0,!=1.25.1,<1.26,>=1.21.1 in /usr/local/lib/python3.7/dist-packages (from requests->transformers) (1.25.10)\n",
            "Requirement already satisfied: chardet<4,>=3.0.2 in /usr/local/lib/python3.7/dist-packages (from requests->transformers) (3.0.4)\n",
            "Requirement already satisfied: idna<3,>=2.5 in /usr/local/lib/python3.7/dist-packages (from requests->transformers) (2.10)\n",
            "Requirement already satisfied: six in /usr/local/lib/python3.7/dist-packages (from sacremoses->transformers) (1.15.0)\n",
            "Requirement already satisfied: joblib in /usr/local/lib/python3.7/dist-packages (from sacremoses->transformers) (1.1.0)\n",
            "Requirement already satisfied: click in /usr/local/lib/python3.7/dist-packages (from sacremoses->transformers) (7.1.2)\n"
          ]
        }
      ]
    },
    {
      "cell_type": "markdown",
      "source": [
        "## 3.1 Utilice el modelo transformer para clasificar el texto de entrada, y para extraer la respuesta de la tabla de preguntas y respuestas cuando el mensaje sea del tipo “información”."
      ],
      "metadata": {
        "id": "imXEWWfaHdCI"
      }
    },
    {
      "cell_type": "markdown",
      "source": [
        "### 3.1.1 Clasificador"
      ],
      "metadata": {
        "id": "dzWlnz4R3RPa"
      }
    },
    {
      "cell_type": "markdown",
      "source": [
        "ref: https://benjad.github.io/2020/08/04/clasificador-sentimiento-BERT/"
      ],
      "metadata": {
        "id": "eXFrT1szHASg"
      }
    },
    {
      "cell_type": "code",
      "source": [
        "import torch\n",
        "from transformers import  BertTokenizer\n",
        "from torch.utils.data import TensorDataset\n",
        "from torch.utils.data import DataLoader, SequentialSampler\n",
        "from transformers import BertForSequenceClassification, AdamW\n",
        "from transformers import get_linear_schedule_with_warmup\n",
        "from sklearn.model_selection import train_test_split\n",
        "import torch.optim\n",
        "import numpy as np\n",
        "import pandas as pd\n",
        "import time\n",
        "import datetime\n",
        "import random\n",
        "from sklearn.metrics import confusion_matrix\n"
      ],
      "metadata": {
        "id": "xCB4EQ-qjuxi"
      },
      "execution_count": 30,
      "outputs": []
    },
    {
      "cell_type": "code",
      "source": [
        "# Select cpu or cuda\n",
        "run_on = 'cpu'\n",
        "device = torch.device(run_on)\n",
        "\n",
        "# Load the dataset into a pandas dataframe.\n",
        "messages['class'] = messages['Clase'].map({'información':0, 'nombre':1, 'saludo':2, 'despedida':3,})\n",
        "clase = messages['class']\n",
        "mensaje = messages['Mensaje']\n",
        "\n",
        "# Split dataset\n",
        "X_train, X_val, y_train, y_val = train_test_split(mensaje, \n",
        "clase, stratify=clase, test_size=0.2, random_state=42)\n",
        "\n",
        "# Report datasets lenghts\n",
        "print('Training set length : {}'.format(len(X_train)))\n",
        "print('Validation set length : {}'.format(len(X_val)))"
      ],
      "metadata": {
        "colab": {
          "base_uri": "https://localhost:8080/"
        },
        "id": "gxjYePsJxAEO",
        "outputId": "db1719ea-9177-4639-e808-49d87b8e67aa"
      },
      "execution_count": 31,
      "outputs": [
        {
          "output_type": "stream",
          "name": "stdout",
          "text": [
            "Training set length : 65\n",
            "Validation set length : 17\n"
          ]
        }
      ]
    },
    {
      "cell_type": "code",
      "source": [
        "# < 2 min\n",
        "# Tokenization  \n",
        "!pip install urllib3==1.25.10\n",
        "!rm -rf transformers\n",
        "!git clone https://github.com/huggingface/transformers \\\n",
        "&& cd transformers \\\n",
        "&& git checkout a3085020ed0d81d4903c50967687192e3101e770\n",
        "\n",
        "!pip install transformers\n",
        "!wget https://users.dcc.uchile.cl/~jperez/beto/cased_2M/pytorch_weights.tar.gz \n",
        "!wget https://users.dcc.uchile.cl/~jperez/beto/cased_2M/vocab.txt \n",
        "!wget https://users.dcc.uchile.cl/~jperez/beto/cased_2M/config.json \n",
        "!tar -xzvf pytorch_weights.tar.gz\n",
        "!mv config.json pytorch/.\n",
        "!mv vocab.txt pytorch/.\n",
        "\n",
        "tokenizer = BertTokenizer.from_pretrained(\"pytorch/\", do_lower_case=True)\n",
        "\n",
        "# tokenizer = BertTokenizer.from_pretrained(\"pytorch/\",\n",
        "#             do_lower_case=True)\n",
        "# tokenizer=('mrm8488/distill-bert-base-spanish-wwm-cased-finetuned-spa-squad2-es', {\"use_fast\": False})\n",
        "\n",
        "def preprocessing(dataset):\n",
        "    input_ids = []\n",
        "    attention_mask = []\n",
        "    for doc in dataset:\n",
        "        encoded_doc = tokenizer.encode_plus(doc,\n",
        "                   add_special_tokens=True, max_length=115,\n",
        "                   truncation=True,pad_to_max_length=True)\n",
        "        input_ids.append(encoded_doc['input_ids'])\n",
        "        attention_mask.append(encoded_doc['attention_mask'])\n",
        "    return (torch.tensor(input_ids),\n",
        "           torch.tensor(attention_mask))\n",
        "\n",
        "# Apply preprocessing to dataset\n",
        "X_train_inputs, X_train_masks = preprocessing(X_train)\n",
        "X_val_inputs, X_val_masks = preprocessing(X_val)\n",
        "\n",
        "# Report max n° tokens in a sentence\n",
        "max_len = max([torch.sum(sen) for sen in X_train_masks])\n",
        "print('Max n°tokens in a sentence: {0}'.format(max_len))"
      ],
      "metadata": {
        "colab": {
          "base_uri": "https://localhost:8080/"
        },
        "id": "rLbHp0dHB5Nj",
        "outputId": "c8a41c4c-d8ba-4487-eacb-a6c292fe0753"
      },
      "execution_count": 34,
      "outputs": [
        {
          "output_type": "stream",
          "name": "stdout",
          "text": [
            "Requirement already satisfied: urllib3==1.25.10 in /usr/local/lib/python3.7/dist-packages (1.25.10)\n",
            "Cloning into 'transformers'...\n",
            "remote: Enumerating objects: 94685, done.\u001b[K\n",
            "remote: Total 94685 (delta 0), reused 0 (delta 0), pack-reused 94685\u001b[K\n",
            "Receiving objects: 100% (94685/94685), 80.08 MiB | 29.75 MiB/s, done.\n",
            "Resolving deltas: 100% (68764/68764), done.\n",
            "Note: checking out 'a3085020ed0d81d4903c50967687192e3101e770'.\n",
            "\n",
            "You are in 'detached HEAD' state. You can look around, make experimental\n",
            "changes and commit them, and you can discard any commits you make in this\n",
            "state without impacting any branches by performing another checkout.\n",
            "\n",
            "If you want to create a new branch to retain commits you create, you may\n",
            "do so (now or later) by using -b with the checkout command again. Example:\n",
            "\n",
            "  git checkout -b <new-branch-name>\n",
            "\n",
            "HEAD is now at a3085020e Added repetition penalty to PPLM example (#2436)\n",
            "Requirement already satisfied: transformers in /usr/local/lib/python3.7/dist-packages (4.15.0)\n",
            "Requirement already satisfied: tqdm>=4.27 in /usr/local/lib/python3.7/dist-packages (from transformers) (4.62.3)\n",
            "Requirement already satisfied: requests in /usr/local/lib/python3.7/dist-packages (from transformers) (2.23.0)\n",
            "Requirement already satisfied: pyyaml>=5.1 in /usr/local/lib/python3.7/dist-packages (from transformers) (6.0)\n",
            "Requirement already satisfied: regex!=2019.12.17 in /usr/local/lib/python3.7/dist-packages (from transformers) (2019.12.20)\n",
            "Requirement already satisfied: sacremoses in /usr/local/lib/python3.7/dist-packages (from transformers) (0.0.46)\n",
            "Requirement already satisfied: filelock in /usr/local/lib/python3.7/dist-packages (from transformers) (3.4.0)\n",
            "Requirement already satisfied: numpy>=1.17 in /usr/local/lib/python3.7/dist-packages (from transformers) (1.19.5)\n",
            "Requirement already satisfied: importlib-metadata in /usr/local/lib/python3.7/dist-packages (from transformers) (4.8.2)\n",
            "Requirement already satisfied: huggingface-hub<1.0,>=0.1.0 in /usr/local/lib/python3.7/dist-packages (from transformers) (0.2.1)\n",
            "Requirement already satisfied: packaging>=20.0 in /usr/local/lib/python3.7/dist-packages (from transformers) (21.3)\n",
            "Requirement already satisfied: tokenizers<0.11,>=0.10.1 in /usr/local/lib/python3.7/dist-packages (from transformers) (0.10.3)\n",
            "Requirement already satisfied: typing-extensions>=3.7.4.3 in /usr/local/lib/python3.7/dist-packages (from huggingface-hub<1.0,>=0.1.0->transformers) (3.10.0.2)\n",
            "Requirement already satisfied: pyparsing!=3.0.5,>=2.0.2 in /usr/local/lib/python3.7/dist-packages (from packaging>=20.0->transformers) (3.0.6)\n",
            "Requirement already satisfied: zipp>=0.5 in /usr/local/lib/python3.7/dist-packages (from importlib-metadata->transformers) (3.6.0)\n",
            "Requirement already satisfied: idna<3,>=2.5 in /usr/local/lib/python3.7/dist-packages (from requests->transformers) (2.10)\n",
            "Requirement already satisfied: certifi>=2017.4.17 in /usr/local/lib/python3.7/dist-packages (from requests->transformers) (2021.10.8)\n",
            "Requirement already satisfied: urllib3!=1.25.0,!=1.25.1,<1.26,>=1.21.1 in /usr/local/lib/python3.7/dist-packages (from requests->transformers) (1.25.10)\n",
            "Requirement already satisfied: chardet<4,>=3.0.2 in /usr/local/lib/python3.7/dist-packages (from requests->transformers) (3.0.4)\n",
            "Requirement already satisfied: six in /usr/local/lib/python3.7/dist-packages (from sacremoses->transformers) (1.15.0)\n",
            "Requirement already satisfied: click in /usr/local/lib/python3.7/dist-packages (from sacremoses->transformers) (7.1.2)\n",
            "Requirement already satisfied: joblib in /usr/local/lib/python3.7/dist-packages (from sacremoses->transformers) (1.1.0)\n",
            "--2021-12-30 12:47:11--  https://users.dcc.uchile.cl/~jperez/beto/cased_2M/pytorch_weights.tar.gz\n",
            "Resolving users.dcc.uchile.cl (users.dcc.uchile.cl)... 192.80.24.4, 200.9.99.211\n",
            "Connecting to users.dcc.uchile.cl (users.dcc.uchile.cl)|192.80.24.4|:443... connected.\n",
            "HTTP request sent, awaiting response... 200 OK\n",
            "Length: 409871727 (391M) [application/x-gzip]\n",
            "Saving to: ‘pytorch_weights.tar.gz.2’\n",
            "\n",
            "pytorch_weights.tar 100%[===================>] 390.88M  7.29MB/s    in 63s     \n",
            "\n",
            "2021-12-30 12:48:14 (6.23 MB/s) - ‘pytorch_weights.tar.gz.2’ saved [409871727/409871727]\n",
            "\n",
            "--2021-12-30 12:48:15--  https://users.dcc.uchile.cl/~jperez/beto/cased_2M/vocab.txt\n",
            "Resolving users.dcc.uchile.cl (users.dcc.uchile.cl)... 200.9.99.211, 192.80.24.4\n",
            "Connecting to users.dcc.uchile.cl (users.dcc.uchile.cl)|200.9.99.211|:443... connected.\n",
            "HTTP request sent, awaiting response... 200 OK\n",
            "Length: 242120 (236K) [text/plain]\n",
            "Saving to: ‘vocab.txt’\n",
            "\n",
            "vocab.txt           100%[===================>] 236.45K   388KB/s    in 0.6s    \n",
            "\n",
            "2021-12-30 12:48:16 (388 KB/s) - ‘vocab.txt’ saved [242120/242120]\n",
            "\n",
            "--2021-12-30 12:48:16--  https://users.dcc.uchile.cl/~jperez/beto/cased_2M/config.json\n",
            "Resolving users.dcc.uchile.cl (users.dcc.uchile.cl)... 200.9.99.211, 192.80.24.4\n",
            "Connecting to users.dcc.uchile.cl (users.dcc.uchile.cl)|200.9.99.211|:443... connected.\n",
            "HTTP request sent, awaiting response... 200 OK\n",
            "Length: 313 [application/json]\n",
            "Saving to: ‘config.json’\n",
            "\n",
            "config.json         100%[===================>]     313  --.-KB/s    in 0s      \n",
            "\n",
            "2021-12-30 12:48:17 (80.5 MB/s) - ‘config.json’ saved [313/313]\n",
            "\n",
            "pytorch/\n",
            "pytorch/pytorch_model.bin\n",
            "Max n°tokens in a sentence: 29\n"
          ]
        },
        {
          "output_type": "stream",
          "name": "stderr",
          "text": [
            "/usr/local/lib/python3.7/dist-packages/transformers/tokenization_utils_base.py:2232: FutureWarning: The `pad_to_max_length` argument is deprecated and will be removed in a future version, use `padding=True` or `padding='longest'` to pad to the longest sequence in the batch, or use `padding='max_length'` to pad to a max length. In this case, you can give a specific length with `max_length` (e.g. `max_length=45`) or leave max_length to None to pad to the maximal input size of the model (e.g. 512 for Bert).\n",
            "  FutureWarning,\n"
          ]
        }
      ]
    },
    {
      "cell_type": "code",
      "source": [
        "# Data loaders\n",
        "batch_size = 2\n",
        "\n",
        "y_train_labels = torch.tensor(y_train.values)\n",
        "y_val_labels = torch.tensor(y_val.values)\n",
        "\n",
        "\n",
        "def dataloader(x_inputs, x_masks, y_labels):\n",
        "    data = TensorDataset(x_inputs, x_masks, y_labels)\n",
        "    sampler = SequentialSampler(data)\n",
        "    dataloader = DataLoader(data, sampler=sampler,\n",
        "                 batch_size=batch_size,\n",
        "                 num_workers=0)\n",
        "    return dataloader\n",
        "\n",
        "train_dataloader = dataloader(X_train_inputs, X_train_masks,\n",
        "                   y_train_labels)\n",
        "val_dataloader = dataloader(X_val_inputs, X_val_masks, \n",
        "                 y_val_labels)"
      ],
      "metadata": {
        "id": "48vnLdqiCAzQ"
      },
      "execution_count": 35,
      "outputs": []
    },
    {
      "cell_type": "code",
      "source": [
        "# set random seed\n",
        "def set_seed(value):\n",
        "    random.seed(value)\n",
        "    np.random.seed(value)\n",
        "    torch.manual_seed(value)\n",
        "    torch.cuda.manual_seed_all(value)\n",
        "set_seed(42)\n",
        "\n",
        "# Create model and optimizer\n",
        "model = BertForSequenceClassification.from_pretrained(\n",
        "        \"pytorch/\", num_labels=4, output_attentions=False,\n",
        "         output_hidden_states=False)\n",
        "\n",
        "optimizer = AdamW(model.parameters(),\n",
        "                  lr = 4e-5,\n",
        "                  eps = 1e-6\n",
        "                  )\n",
        "\n",
        "if run_on == 'cuda':\n",
        "    model.cuda()\n",
        "\n",
        "# Define number of epochs\n",
        "epochs = 3\n",
        "\n",
        "total_steps = len(train_dataloader) * epochs\n",
        "\n",
        "# Create the learning rate scheduler.\n",
        "scheduler = get_linear_schedule_with_warmup(optimizer,\n",
        "            num_warmup_steps = 0, \n",
        "            num_training_steps = total_steps)"
      ],
      "metadata": {
        "colab": {
          "base_uri": "https://localhost:8080/"
        },
        "id": "YCL0ybvPCITv",
        "outputId": "c922b600-cf50-418e-db9b-ecc353b7746c"
      },
      "execution_count": 36,
      "outputs": [
        {
          "output_type": "stream",
          "name": "stderr",
          "text": [
            "Some weights of the model checkpoint at pytorch/ were not used when initializing BertForSequenceClassification: ['cls.predictions.transform.dense.bias', 'cls.predictions.transform.LayerNorm.weight', 'cls.predictions.bias', 'cls.predictions.decoder.weight', 'cls.seq_relationship.bias', 'cls.seq_relationship.weight', 'cls.predictions.transform.dense.weight', 'cls.predictions.transform.LayerNorm.bias']\n",
            "- This IS expected if you are initializing BertForSequenceClassification from the checkpoint of a model trained on another task or with another architecture (e.g. initializing a BertForSequenceClassification model from a BertForPreTraining model).\n",
            "- This IS NOT expected if you are initializing BertForSequenceClassification from the checkpoint of a model that you expect to be exactly identical (initializing a BertForSequenceClassification model from a BertForSequenceClassification model).\n",
            "Some weights of BertForSequenceClassification were not initialized from the model checkpoint at pytorch/ and are newly initialized: ['classifier.bias', 'classifier.weight']\n",
            "You should probably TRAIN this model on a down-stream task to be able to use it for predictions and inference.\n"
          ]
        }
      ]
    },
    {
      "cell_type": "code",
      "source": [
        "#fuction to format time\n",
        "def format_time(elapsed):\n",
        "    elapsed_rounded = int(round((elapsed)))\n",
        "    return str(datetime.timedelta(seconds=elapsed_rounded))\n",
        "\n",
        "#function to compute accuracy\n",
        "def flat_accuracy(preds, labels):\n",
        "    pred_flat = np.argmax(preds, axis=1).flatten()\n",
        "    labels_flat = labels.flatten()\n",
        "    return np.sum(pred_flat == labels_flat) / len(labels_flat)"
      ],
      "metadata": {
        "id": "x-eygpRFz1Me"
      },
      "execution_count": 37,
      "outputs": []
    },
    {
      "cell_type": "code",
      "source": [
        "# ~3 min\n",
        "#function to train the model\n",
        "def training(n_epochs, training_dataloader,\n",
        "             validation_dataloader):\n",
        "    # ========================================\n",
        "    #               Training \n",
        "    # ========================================\n",
        "    print('======= Training =======')\n",
        "    for epoch_i in range(0,n_epochs):\n",
        "        # Perform one full pass over the training set\n",
        "        print(\"\")\n",
        "        print('======= Epoch {:} / {:} ======='.format(\n",
        "             epoch_i + 1, epochs))\n",
        "        # Measure how long the training epoch takes.\n",
        "        t0 = time.time()\n",
        "        # Reset the total loss for this epoch.\n",
        "        total_loss = 0\n",
        "        # Put the model into training mode.\n",
        "        model.train()\n",
        "        # For each batch of training data\n",
        "        for step, batch in enumerate(training_dataloader):\n",
        "            batch_loss = 0\n",
        "            # Unpack this training batch from dataloader\n",
        "            #   [0]: input ids, [1]: attention masks, \n",
        "            #   [2]: labels\n",
        "            b_input_ids,b_input_mask, b_labels = tuple(\n",
        "                                t.to(device) for t in batch)\n",
        "\n",
        "            # Clear any previously calculated gradients\n",
        "            model.zero_grad()\n",
        "\n",
        "            # Perform a forward pass \n",
        "            outputs = model(b_input_ids,\n",
        "                            token_type_ids=None,\n",
        "                            attention_mask=b_input_mask,\n",
        "                            labels=b_labels)\n",
        "\n",
        "            # pull loss value out of the output tuple\n",
        "            loss = outputs[0]\n",
        "            batch_loss += loss.item()\n",
        "            total_loss += loss.item()\n",
        "\n",
        "            # Perform a backward pass \n",
        "            loss.backward()\n",
        "\n",
        "            # Clip the norm of the gradients to 1.0.\n",
        "            torch.nn.utils.clip_grad_norm_(model.parameters(),\n",
        "                                            1.0)\n",
        "\n",
        "            # Update parameters\n",
        "            # ¿take a step using the computed gradient\n",
        "            optimizer.step()\n",
        "            scheduler.step()\n",
        "\n",
        "            print('batch loss: {0} | avg loss: {1}'.format(\n",
        "                  batch_loss, total_loss/(step+1)))\n",
        "        # Calculate the average loss over the training data.\n",
        "        avg_train_loss = total_loss / len(train_dataloader)\n",
        "\n",
        "\n",
        "        print(\"\")\n",
        "        print(\"  Average training loss: {0:.2f}\".\n",
        "             format(avg_train_loss))\n",
        "        print(\"  Training epoch took: {:}\".format(\n",
        "              format_time(time.time() - t0)))\n",
        "\n",
        "        # ========================================\n",
        "        #               Validation\n",
        "        # ========================================\n",
        "        # After the completion of each training epoch, \n",
        "        # measure accuracy on the validation set.\n",
        "\n",
        "        print(\"\")\n",
        "        print(\"======= Validation =======\")\n",
        "\n",
        "        t0 = time.time()\n",
        "\n",
        "        # Put the model in evaluation mode\n",
        "        model.eval()\n",
        "\n",
        "        # Tracking variables\n",
        "        eval_loss, eval_accuracy = 0, 0\n",
        "        all_logits = []\n",
        "        all_labels = []\n",
        "        # Evaluate data for one epoch\n",
        "        for step, batch in enumerate(validation_dataloader):\n",
        "            # Add batch to device\n",
        "            # Unpack this training batch from our dataloader.\n",
        "            #   [0]: input ids, [1]: attention masks,\n",
        "            #   [2]: labels\n",
        "            b_input_ids, b_input_mask, b_labels = tuple(\n",
        "                                t.to(device) for t in batch)\n",
        "\n",
        "\n",
        "            # Model will not to compute gradients\n",
        "            with torch.no_grad():\n",
        "                # Forward pass \n",
        "                # This will return the logits \n",
        "                outputs = model(b_input_ids,\n",
        "                                token_type_ids=None,\n",
        "                                attention_mask=b_input_mask)\n",
        "\n",
        "            # The \"logits\" are the output values \n",
        "            # prior to applying an activation function \n",
        "            logits = outputs[0]\n",
        "\n",
        "            # Move logits and labels to CPU\n",
        "            logits = logits.detach().cpu().numpy()\n",
        "            b_labels = b_labels.to('cpu').numpy()\n",
        "\n",
        "            # Save batch logits and labels \n",
        "            # We will use thoses in the confusion matrix\n",
        "            predict_labels = np.argmax(\n",
        "                             logits, axis=1).flatten()\n",
        "            all_logits.extend(predict_labels.tolist())\n",
        "            all_labels.extend(b_labels.tolist())\n",
        "\n",
        "            # Calculate the accuracy for this batch\n",
        "            tmp_eval_accuracy = flat_accuracy(\n",
        "                                logits, b_labels)\n",
        "            # Accumulate the total accuracy.\n",
        "            eval_accuracy += tmp_eval_accuracy\n",
        "\n",
        "        # Report the final accuracy for this validation run.\n",
        "        print(\"  Accuracy: {0:.2f}\".\n",
        "              format(eval_accuracy / (step+1)))\n",
        "        print(\"  Validation took: {:}\".format(\n",
        "             format_time(time.time() - t0)))\n",
        "\n",
        "    #print the confusion matrix\"\n",
        "    conf = confusion_matrix(\n",
        "           all_labels, all_logits, normalize='true')\n",
        "    print(conf)\n",
        "    print(\"\")\n",
        "    print(\"Training complete\")\n",
        "\n",
        "#call function to train the model\n",
        "training(epochs, train_dataloader, val_dataloader)"
      ],
      "metadata": {
        "id": "UiFWup0dz2nW",
        "colab": {
          "base_uri": "https://localhost:8080/"
        },
        "outputId": "18eca3c5-aecc-4869-889f-8a23456184f3"
      },
      "execution_count": 38,
      "outputs": [
        {
          "output_type": "stream",
          "name": "stdout",
          "text": [
            "======= Training =======\n",
            "\n",
            "======= Epoch 1 / 3 =======\n",
            "batch loss: 1.3928308486938477 | avg loss: 1.3928308486938477\n",
            "batch loss: 1.6065250635147095 | avg loss: 1.4996779561042786\n",
            "batch loss: 1.0582787990570068 | avg loss: 1.352544903755188\n",
            "batch loss: 0.9907763004302979 | avg loss: 1.2621027529239655\n",
            "batch loss: 1.6077320575714111 | avg loss: 1.3312286138534546\n",
            "batch loss: 1.1243644952774048 | avg loss: 1.2967512607574463\n",
            "batch loss: 0.7382314205169678 | avg loss: 1.2169627121516637\n",
            "batch loss: 1.537952184677124 | avg loss: 1.2570863962173462\n",
            "batch loss: 1.2416388988494873 | avg loss: 1.2553700076209173\n",
            "batch loss: 0.3716028332710266 | avg loss: 1.1669932901859283\n",
            "batch loss: 0.34947219491004944 | avg loss: 1.092673190615394\n",
            "batch loss: 1.933866262435913 | avg loss: 1.162772613267104\n",
            "batch loss: 1.4284125566482544 | avg loss: 1.1832064550656538\n",
            "batch loss: 0.2204378843307495 | avg loss: 1.114437271441732\n",
            "batch loss: 1.2416787147521973 | avg loss: 1.1229200343290964\n",
            "batch loss: 0.17599955201148987 | avg loss: 1.063737504184246\n",
            "batch loss: 0.1266096830368042 | avg loss: 1.0086123382343966\n",
            "batch loss: 1.07573401927948 | avg loss: 1.012341320514679\n",
            "batch loss: 1.7707793712615967 | avg loss: 1.0522591126592535\n",
            "batch loss: 0.7682092785835266 | avg loss: 1.0380566209554671\n",
            "batch loss: 0.8308392763137817 | avg loss: 1.0281891283534823\n",
            "batch loss: 0.7236891984939575 | avg loss: 1.0143482224507765\n",
            "batch loss: 0.8160439133644104 | avg loss: 1.0057262959687605\n",
            "batch loss: 0.6779634952545166 | avg loss: 0.9920695126056671\n",
            "batch loss: 0.05420944094657898 | avg loss: 0.9545551097393036\n",
            "batch loss: 0.603480339050293 | avg loss: 0.9410522339435724\n",
            "batch loss: 0.855542778968811 | avg loss: 0.9378852170926554\n",
            "batch loss: 0.7200152277946472 | avg loss: 0.9301041460462979\n",
            "batch loss: 0.612014651298523 | avg loss: 0.9191355427791332\n",
            "batch loss: 0.03646131604909897 | avg loss: 0.8897130685547988\n",
            "batch loss: 0.458148330450058 | avg loss: 0.8757916253901297\n",
            "batch loss: 0.03512999415397644 | avg loss: 0.8495209494139999\n",
            "batch loss: 0.7761630415916443 | avg loss: 0.8472979825102922\n",
            "\n",
            "  Average training loss: 0.85\n",
            "  Training epoch took: 0:00:53\n",
            "\n",
            "======= Validation =======\n",
            "  Accuracy: 0.78\n",
            "  Validation took: 0:00:03\n",
            "\n",
            "======= Epoch 2 / 3 =======\n",
            "batch loss: 0.3201866149902344 | avg loss: 0.3201866149902344\n",
            "batch loss: 0.4917246699333191 | avg loss: 0.40595564246177673\n",
            "batch loss: 0.4351675510406494 | avg loss: 0.41569294532140094\n",
            "batch loss: 0.3426772654056549 | avg loss: 0.39743902534246445\n",
            "batch loss: 0.5515321493148804 | avg loss: 0.4282576501369476\n",
            "batch loss: 0.724071204662323 | avg loss: 0.4775599092245102\n",
            "batch loss: 0.016238167881965637 | avg loss: 0.4116568033184324\n",
            "batch loss: 0.7863953113555908 | avg loss: 0.4584991168230772\n",
            "batch loss: 0.36620861291885376 | avg loss: 0.4482446163892746\n",
            "batch loss: 0.012973124161362648 | avg loss: 0.4047174671664834\n",
            "batch loss: 0.01388844195753336 | avg loss: 0.3691875557838516\n",
            "batch loss: 1.1383272409439087 | avg loss: 0.43328252954718965\n",
            "batch loss: 0.532217800617218 | avg loss: 0.4408929350141149\n",
            "batch loss: 0.011761453002691269 | avg loss: 0.4102406862990132\n",
            "batch loss: 0.38349494338035583 | avg loss: 0.40845763677110275\n",
            "batch loss: 0.012005931697785854 | avg loss: 0.38367940520402044\n",
            "batch loss: 0.009708665311336517 | avg loss: 0.3616811263868037\n",
            "batch loss: 0.38900357484817505 | avg loss: 0.36319904019021326\n",
            "batch loss: 0.4483923316001892 | avg loss: 0.36768289763284356\n",
            "batch loss: 0.35825836658477783 | avg loss: 0.3672116710804403\n",
            "batch loss: 0.39046114683151245 | avg loss: 0.36831878897334847\n",
            "batch loss: 0.13521866500377655 | avg loss: 0.3577233287929134\n",
            "batch loss: 0.247075617313385 | avg loss: 0.35291255872858607\n",
            "batch loss: 0.4178786873817444 | avg loss: 0.355619480755801\n",
            "batch loss: 0.010668152011930943 | avg loss: 0.3418214276060462\n",
            "batch loss: 0.5482275485992432 | avg loss: 0.349760124567323\n",
            "batch loss: 0.6385299563407898 | avg loss: 0.36045530352189586\n",
            "batch loss: 0.16874901950359344 | avg loss: 0.3536086505212422\n",
            "batch loss: 0.08528341352939606 | avg loss: 0.34435605614221304\n",
            "batch loss: 0.0063269780948758125 | avg loss: 0.3330884202073018\n",
            "batch loss: 0.2681933343410492 | avg loss: 0.3309950303406485\n",
            "batch loss: 0.008938048034906387 | avg loss: 0.320930749643594\n",
            "batch loss: 0.20568619668483734 | avg loss: 0.31743849046302564\n",
            "\n",
            "  Average training loss: 0.32\n",
            "  Training epoch took: 0:00:51\n",
            "\n",
            "======= Validation =======\n",
            "  Accuracy: 0.83\n",
            "  Validation took: 0:00:03\n",
            "\n",
            "======= Epoch 3 / 3 =======\n",
            "batch loss: 0.08606462925672531 | avg loss: 0.08606462925672531\n",
            "batch loss: 0.566253125667572 | avg loss: 0.32615887746214867\n",
            "batch loss: 0.11075286567211151 | avg loss: 0.25435687353213626\n",
            "batch loss: 0.08582739531993866 | avg loss: 0.21222450397908688\n",
            "batch loss: 0.17856387794017792 | avg loss: 0.20549237877130508\n",
            "batch loss: 0.22059394419193268 | avg loss: 0.20800930634140968\n",
            "batch loss: 0.004758476745337248 | avg loss: 0.17897347354197077\n",
            "batch loss: 0.28495001792907715 | avg loss: 0.19222054159035906\n",
            "batch loss: 0.09182807803153992 | avg loss: 0.18106582341715693\n",
            "batch loss: 0.00476977601647377 | avg loss: 0.16343621867708863\n",
            "batch loss: 0.005122915841639042 | avg loss: 0.14904410023750228\n",
            "batch loss: 0.8460935950279236 | avg loss: 0.20713155813670406\n",
            "batch loss: 0.17389512062072754 | avg loss: 0.20457490909701356\n",
            "batch loss: 0.004933453164994717 | avg loss: 0.19031480510186935\n",
            "batch loss: 0.13774871826171875 | avg loss: 0.186810399312526\n",
            "batch loss: 0.007107071112841368 | avg loss: 0.1755789413000457\n",
            "batch loss: 0.0048568714410066605 | avg loss: 0.16553646660245516\n",
            "batch loss: 0.1530514806509018 | avg loss: 0.1648428562718133\n",
            "batch loss: 0.1669287234544754 | avg loss: 0.16495263875511132\n",
            "batch loss: 0.28872790932655334 | avg loss: 0.1711414022836834\n",
            "batch loss: 0.10904631018638611 | avg loss: 0.16818449313619308\n",
            "batch loss: 0.06548061221837997 | avg loss: 0.16351613491265612\n",
            "batch loss: 0.1629367172718048 | avg loss: 0.16349094284131474\n",
            "batch loss: 0.26927411556243896 | avg loss: 0.16789857503802827\n",
            "batch loss: 0.004357513971626759 | avg loss: 0.1613569325953722\n",
            "batch loss: 0.3598310947418213 | avg loss: 0.16899055421638948\n",
            "batch loss: 0.5114836096763611 | avg loss: 0.18167548219638843\n",
            "batch loss: 0.08305968344211578 | avg loss: 0.17815348938373582\n",
            "batch loss: 0.033165205270051956 | avg loss: 0.17315389337981568\n",
            "batch loss: 0.005175179801881313 | avg loss: 0.16755460292721788\n",
            "batch loss: 0.09088022261857986 | avg loss: 0.16508123582048762\n",
            "batch loss: 0.0043256268836557865 | avg loss: 0.16005762304121163\n",
            "batch loss: 0.08669839054346085 | avg loss: 0.15783461599582524\n",
            "\n",
            "  Average training loss: 0.16\n",
            "  Training epoch took: 0:00:52\n",
            "\n",
            "======= Validation =======\n",
            "  Accuracy: 0.83\n",
            "  Validation took: 0:00:03\n",
            "[[1.         0.         0.         0.        ]\n",
            " [0.         1.         0.         0.        ]\n",
            " [0.         0.         0.33333333 0.66666667]\n",
            " [0.         0.         0.33333333 0.66666667]]\n",
            "\n",
            "Training complete\n"
          ]
        }
      ]
    },
    {
      "cell_type": "markdown",
      "source": [
        "### 3.1.2 Extraccion de respuestas para el caso \"informacion\""
      ],
      "metadata": {
        "id": "KE0I3oiY4RZj"
      }
    },
    {
      "cell_type": "code",
      "source": [
        "# Transformer QA\n",
        "beto_qa = pipeline('question-answering', \n",
        "        model='mrm8488/distill-bert-base-spanish-wwm-cased-finetuned-spa-squad2-es',\n",
        "        tokenizer=('mrm8488/distill-bert-base-spanish-wwm-cased-finetuned-spa-squad2-es', {\"use_fast\": False})\n",
        "    )\n"
      ],
      "metadata": {
        "id": "DwFUWjcuKbrF",
        "colab": {
          "base_uri": "https://localhost:8080/",
          "height": 177,
          "referenced_widgets": [
            "476c10618d5b4aff816df4bde445fe51",
            "1c6eaa19d6194911bec5fe1090a3219a",
            "2acfc5c6476c4287aacc1e95ec1f3516",
            "5fd0483eb9154fa89c84b635c189068e",
            "6846d202c1cc44e5b3aa2e615129f15d",
            "1a7a7cfd1dc74cc988939cd087d69302",
            "6c4e6e60a7414769a3c5d64a571dbdd9",
            "63ff596db51e43e09caeac9255ce343f",
            "5b6568a5143a4d4aa0582a00e9d92e15",
            "b5aa36e2272e4efcb6e48f10a7996046",
            "f3a9b6dc3a8b4252ae8ef5f27133b35f",
            "2f9cfb54aeb94e68b5afd9167318d412",
            "0a1a3d8d63fe4ee491685f7ab6b84715",
            "4cd6d5f158c64698b6f250e321632947",
            "7f725411afca4440b38310fd8848d4c4",
            "bfc8c49e6b6b4ee69279df53c02ba805",
            "2a2375d36493435fa29df0272d26b543",
            "eb83ff0afca34fb9a3e100ac57640794",
            "092c5d7973b344b9b99439cf19a32a67",
            "66ee064e5d0b49ec9d8c1e22f9fce842",
            "b2204ff2a1c5413195eb6b3c4ad320bf",
            "1437c0a485de43ce85c3574d6ff562e6",
            "c42a5c6250724181bdc983df66ea9db5",
            "cdb81cccdf034b89b0566f8869a1cb9d",
            "45bbb19914d84967bc4a6378cb903583",
            "e499302dbbd84adcaa2c276ef3c16f8b",
            "67b831942216444b811477e891f5059e",
            "b3378b7e48424d9f9a176a456f095bc8",
            "33a4572a25a74187a49ea83c0fd574d6",
            "0da14ad5464d4f22b2d5e608c9ae92d3",
            "996a2ce5d6664649bfc2e222f9a45ea8",
            "c9ac0608acf8464398307eaf96e439aa",
            "0463974e9d3b441ea9f211659c2ad436",
            "05aac1a92eb64282af59e7bfaeab7a56",
            "f404f1aba15c4b45950f7746924ff16a",
            "fd26e19f2c364952862b434296905e06",
            "eb66b33cd42f4d55818f6527d56251a2",
            "596386f1ca894a4e8cced98ded23d9d2",
            "4faf177c924f4e13b58a9ffb646b6b1c",
            "4f4fb32eb82d43d1a608b591aa68aa66",
            "c1806a93990e4a90ad51e2cf037f2d9c",
            "989af07eba274d52a7f0e07963c34b00",
            "8a2809481d2541c0b98bdcbf1fe9daca",
            "5e00ea216cc247bf93b89a04aa79bb5a",
            "b16c1a55587741b8a30387758c781ae1",
            "97235b160f7443958422dc1d18e8429b",
            "7f0387d596cf461ab0e430c99c6c7838",
            "d639756fc05e4318b2cd4189df4540d4",
            "3e96bb51d7e347f5b028e6e264bcb18e",
            "de283064a21448ef81ab2678becc3974",
            "6c67e8393bc24e34823cbbfd1b187237",
            "5da5dca30c234a4699088392ad439541",
            "b9659823505547eeab0198969e99e70c",
            "d7c9603cdada4e26930707124bbcaa5b",
            "9ae3414b0bac478e8bd45767f025f966"
          ]
        },
        "outputId": "38b9b0ca-f9ec-4a8c-91e0-79c6b29de3b9"
      },
      "execution_count": 39,
      "outputs": [
        {
          "output_type": "display_data",
          "data": {
            "application/vnd.jupyter.widget-view+json": {
              "model_id": "476c10618d5b4aff816df4bde445fe51",
              "version_minor": 0,
              "version_major": 2
            },
            "text/plain": [
              "Downloading:   0%|          | 0.00/465 [00:00<?, ?B/s]"
            ]
          },
          "metadata": {}
        },
        {
          "output_type": "display_data",
          "data": {
            "application/vnd.jupyter.widget-view+json": {
              "model_id": "2f9cfb54aeb94e68b5afd9167318d412",
              "version_minor": 0,
              "version_major": 2
            },
            "text/plain": [
              "Downloading:   0%|          | 0.00/419M [00:00<?, ?B/s]"
            ]
          },
          "metadata": {}
        },
        {
          "output_type": "display_data",
          "data": {
            "application/vnd.jupyter.widget-view+json": {
              "model_id": "c42a5c6250724181bdc983df66ea9db5",
              "version_minor": 0,
              "version_major": 2
            },
            "text/plain": [
              "Downloading:   0%|          | 0.00/135 [00:00<?, ?B/s]"
            ]
          },
          "metadata": {}
        },
        {
          "output_type": "display_data",
          "data": {
            "application/vnd.jupyter.widget-view+json": {
              "model_id": "05aac1a92eb64282af59e7bfaeab7a56",
              "version_minor": 0,
              "version_major": 2
            },
            "text/plain": [
              "Downloading:   0%|          | 0.00/237k [00:00<?, ?B/s]"
            ]
          },
          "metadata": {}
        },
        {
          "output_type": "display_data",
          "data": {
            "application/vnd.jupyter.widget-view+json": {
              "model_id": "b16c1a55587741b8a30387758c781ae1",
              "version_minor": 0,
              "version_major": 2
            },
            "text/plain": [
              "Downloading:   0%|          | 0.00/112 [00:00<?, ?B/s]"
            ]
          },
          "metadata": {}
        }
      ]
    },
    {
      "cell_type": "code",
      "source": [
        "context_text = \"\"\n",
        "for index, row in qa.iterrows():\n",
        "  context_text = context_text + \". \" + row['Respuesta']"
      ],
      "metadata": {
        "id": "Y8UqM2IvQPt5"
      },
      "execution_count": 40,
      "outputs": []
    },
    {
      "cell_type": "code",
      "source": [
        "def beto_get_answer(question):\n",
        "  respuesta = beto_qa({'question': question, 'context': context_text})\n",
        "  if respuesta['score'] < 0.01:\n",
        "    return \"Perdón, pero no tengo respuesta para esa pregunta.\"\n",
        "  else:\n",
        "    return respuesta['answer']"
      ],
      "metadata": {
        "id": "gcAONrwZBpAM"
      },
      "execution_count": 41,
      "outputs": []
    },
    {
      "cell_type": "markdown",
      "source": [
        "## 3.2 Reporte el tipo de red, y las métricas de entrenamiento usadas"
      ],
      "metadata": {
        "id": "mRSEUuUJHlOe"
      }
    },
    {
      "cell_type": "markdown",
      "source": [
        "## 3.3 Reporte el resultado con los textos de prueba."
      ],
      "metadata": {
        "id": "Gr5t043nHs4o"
      }
    },
    {
      "cell_type": "code",
      "source": [
        "print('¿Sólo las empresas pueden tener una cuenta con Chilexpress?')\n",
        "print(beto_get_answer('¿Sólo las empresas pueden tener una cuenta con Chilexpress?')+\"\\n\")\n",
        "print('¿puedo retirar un giro de dinero?')\n",
        "print(beto_get_answer('¿puedo retirar un giro de dinero?')+\"\\n\")\n",
        "print('Puede otra persona retirar mi pedido')\n",
        "print(beto_get_answer('Puede otra persona retirar mi pedido')+\"\\n\")\n",
        "print('¿Qué es la Orden de Transporte (OT)?')\n",
        "print(beto_get_answer('¿Qué es la Orden de Transporte (OT)?')+\"\\n\")\n",
        "print('¿Qué es un envío sobredimensionado?')\n",
        "print(beto_get_answer('¿Qué es un envío sobredimensionado?')+\"\\n\")\n",
        "print('¿Quién ganará la próxima elección?')\n",
        "print(beto_get_answer('¿Quién ganará la próxima elección?')+\"\\n\")"
      ],
      "metadata": {
        "colab": {
          "base_uri": "https://localhost:8080/"
        },
        "id": "r0tRjpyEAZVX",
        "outputId": "d8c6970a-9e14-4c45-e4d6-1b995adb4f61"
      },
      "execution_count": 42,
      "outputs": [
        {
          "output_type": "stream",
          "name": "stdout",
          "text": [
            "¿Sólo las empresas pueden tener una cuenta con Chilexpress?\n",
            "Sí,\n",
            "\n",
            "¿puedo retirar un giro de dinero?\n",
            "Perdón, pero no tengo respuesta para esa pregunta.\n",
            "\n",
            "Puede otra persona retirar mi pedido\n",
            "Una tercera persona puede retirar un envío por pagar\n",
            "\n",
            "¿Qué es la Orden de Transporte (OT)?\n",
            "el número asociado al envío.\n",
            "\n",
            "¿Qué es un envío sobredimensionado?\n",
            "embalaje irregular,\n",
            "\n",
            "¿Quién ganará la próxima elección?\n",
            "Perdón, pero no tengo respuesta para esa pregunta.\n",
            "\n"
          ]
        }
      ]
    },
    {
      "cell_type": "markdown",
      "source": [
        "# Conclusión"
      ],
      "metadata": {
        "id": "2JwboiqsFaoS"
      }
    }
  ]
}