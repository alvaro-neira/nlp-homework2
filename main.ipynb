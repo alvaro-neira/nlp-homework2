{
  "nbformat": 4,
  "nbformat_minor": 0,
  "metadata": {
    "colab": {
      "name": "main.ipynb",
      "provenance": [],
      "collapsed_sections": [
        "mRSEUuUJHlOe"
      ],
      "machine_shape": "hm"
    },
    "kernelspec": {
      "name": "python3",
      "display_name": "Python 3"
    },
    "language_info": {
      "name": "python"
    },
    "widgets": {
      "application/vnd.jupyter.widget-state+json": {
        "e6e53af44aac4a89b8d436529dd163ad": {
          "model_module": "@jupyter-widgets/controls",
          "model_name": "HBoxModel",
          "model_module_version": "1.5.0",
          "state": {
            "_view_name": "HBoxView",
            "_dom_classes": [],
            "_model_name": "HBoxModel",
            "_view_module": "@jupyter-widgets/controls",
            "_model_module_version": "1.5.0",
            "_view_count": null,
            "_view_module_version": "1.5.0",
            "box_style": "",
            "layout": "IPY_MODEL_47e6c89a9d364876adbc03ac929bb1cb",
            "_model_module": "@jupyter-widgets/controls",
            "children": [
              "IPY_MODEL_664f010858c94abbb641254be90939a9",
              "IPY_MODEL_2fc9ecca17c447acb8a454603e4e280d",
              "IPY_MODEL_37cf1b89381a41359bc5b81a1075708d"
            ]
          }
        },
        "47e6c89a9d364876adbc03ac929bb1cb": {
          "model_module": "@jupyter-widgets/base",
          "model_name": "LayoutModel",
          "model_module_version": "1.2.0",
          "state": {
            "_view_name": "LayoutView",
            "grid_template_rows": null,
            "right": null,
            "justify_content": null,
            "_view_module": "@jupyter-widgets/base",
            "overflow": null,
            "_model_module_version": "1.2.0",
            "_view_count": null,
            "flex_flow": null,
            "width": null,
            "min_width": null,
            "border": null,
            "align_items": null,
            "bottom": null,
            "_model_module": "@jupyter-widgets/base",
            "top": null,
            "grid_column": null,
            "overflow_y": null,
            "overflow_x": null,
            "grid_auto_flow": null,
            "grid_area": null,
            "grid_template_columns": null,
            "flex": null,
            "_model_name": "LayoutModel",
            "justify_items": null,
            "grid_row": null,
            "max_height": null,
            "align_content": null,
            "visibility": null,
            "align_self": null,
            "height": null,
            "min_height": null,
            "padding": null,
            "grid_auto_rows": null,
            "grid_gap": null,
            "max_width": null,
            "order": null,
            "_view_module_version": "1.2.0",
            "grid_template_areas": null,
            "object_position": null,
            "object_fit": null,
            "grid_auto_columns": null,
            "margin": null,
            "display": null,
            "left": null
          }
        },
        "664f010858c94abbb641254be90939a9": {
          "model_module": "@jupyter-widgets/controls",
          "model_name": "HTMLModel",
          "model_module_version": "1.5.0",
          "state": {
            "_view_name": "HTMLView",
            "style": "IPY_MODEL_0a2d98627b04429bb83f6df3eed64d70",
            "_dom_classes": [],
            "description": "",
            "_model_name": "HTMLModel",
            "placeholder": "​",
            "_view_module": "@jupyter-widgets/controls",
            "_model_module_version": "1.5.0",
            "value": "Downloading: 100%",
            "_view_count": null,
            "_view_module_version": "1.5.0",
            "description_tooltip": null,
            "_model_module": "@jupyter-widgets/controls",
            "layout": "IPY_MODEL_f3581df75022443fbc2b899d10d0a790"
          }
        },
        "2fc9ecca17c447acb8a454603e4e280d": {
          "model_module": "@jupyter-widgets/controls",
          "model_name": "FloatProgressModel",
          "model_module_version": "1.5.0",
          "state": {
            "_view_name": "ProgressView",
            "style": "IPY_MODEL_e32f7c73804e40cba174e0ada791bba0",
            "_dom_classes": [],
            "description": "",
            "_model_name": "FloatProgressModel",
            "bar_style": "success",
            "max": 465,
            "_view_module": "@jupyter-widgets/controls",
            "_model_module_version": "1.5.0",
            "value": 465,
            "_view_count": null,
            "_view_module_version": "1.5.0",
            "orientation": "horizontal",
            "min": 0,
            "description_tooltip": null,
            "_model_module": "@jupyter-widgets/controls",
            "layout": "IPY_MODEL_34ee50ff3939410ea26c6d76c90b1944"
          }
        },
        "37cf1b89381a41359bc5b81a1075708d": {
          "model_module": "@jupyter-widgets/controls",
          "model_name": "HTMLModel",
          "model_module_version": "1.5.0",
          "state": {
            "_view_name": "HTMLView",
            "style": "IPY_MODEL_120915e3e68e4a12a2da88b843f9019a",
            "_dom_classes": [],
            "description": "",
            "_model_name": "HTMLModel",
            "placeholder": "​",
            "_view_module": "@jupyter-widgets/controls",
            "_model_module_version": "1.5.0",
            "value": " 465/465 [00:00&lt;00:00, 18.1kB/s]",
            "_view_count": null,
            "_view_module_version": "1.5.0",
            "description_tooltip": null,
            "_model_module": "@jupyter-widgets/controls",
            "layout": "IPY_MODEL_32952eb8099848ea8006752722e4c6ee"
          }
        },
        "0a2d98627b04429bb83f6df3eed64d70": {
          "model_module": "@jupyter-widgets/controls",
          "model_name": "DescriptionStyleModel",
          "model_module_version": "1.5.0",
          "state": {
            "_view_name": "StyleView",
            "_model_name": "DescriptionStyleModel",
            "description_width": "",
            "_view_module": "@jupyter-widgets/base",
            "_model_module_version": "1.5.0",
            "_view_count": null,
            "_view_module_version": "1.2.0",
            "_model_module": "@jupyter-widgets/controls"
          }
        },
        "f3581df75022443fbc2b899d10d0a790": {
          "model_module": "@jupyter-widgets/base",
          "model_name": "LayoutModel",
          "model_module_version": "1.2.0",
          "state": {
            "_view_name": "LayoutView",
            "grid_template_rows": null,
            "right": null,
            "justify_content": null,
            "_view_module": "@jupyter-widgets/base",
            "overflow": null,
            "_model_module_version": "1.2.0",
            "_view_count": null,
            "flex_flow": null,
            "width": null,
            "min_width": null,
            "border": null,
            "align_items": null,
            "bottom": null,
            "_model_module": "@jupyter-widgets/base",
            "top": null,
            "grid_column": null,
            "overflow_y": null,
            "overflow_x": null,
            "grid_auto_flow": null,
            "grid_area": null,
            "grid_template_columns": null,
            "flex": null,
            "_model_name": "LayoutModel",
            "justify_items": null,
            "grid_row": null,
            "max_height": null,
            "align_content": null,
            "visibility": null,
            "align_self": null,
            "height": null,
            "min_height": null,
            "padding": null,
            "grid_auto_rows": null,
            "grid_gap": null,
            "max_width": null,
            "order": null,
            "_view_module_version": "1.2.0",
            "grid_template_areas": null,
            "object_position": null,
            "object_fit": null,
            "grid_auto_columns": null,
            "margin": null,
            "display": null,
            "left": null
          }
        },
        "e32f7c73804e40cba174e0ada791bba0": {
          "model_module": "@jupyter-widgets/controls",
          "model_name": "ProgressStyleModel",
          "model_module_version": "1.5.0",
          "state": {
            "_view_name": "StyleView",
            "_model_name": "ProgressStyleModel",
            "description_width": "",
            "_view_module": "@jupyter-widgets/base",
            "_model_module_version": "1.5.0",
            "_view_count": null,
            "_view_module_version": "1.2.0",
            "bar_color": null,
            "_model_module": "@jupyter-widgets/controls"
          }
        },
        "34ee50ff3939410ea26c6d76c90b1944": {
          "model_module": "@jupyter-widgets/base",
          "model_name": "LayoutModel",
          "model_module_version": "1.2.0",
          "state": {
            "_view_name": "LayoutView",
            "grid_template_rows": null,
            "right": null,
            "justify_content": null,
            "_view_module": "@jupyter-widgets/base",
            "overflow": null,
            "_model_module_version": "1.2.0",
            "_view_count": null,
            "flex_flow": null,
            "width": null,
            "min_width": null,
            "border": null,
            "align_items": null,
            "bottom": null,
            "_model_module": "@jupyter-widgets/base",
            "top": null,
            "grid_column": null,
            "overflow_y": null,
            "overflow_x": null,
            "grid_auto_flow": null,
            "grid_area": null,
            "grid_template_columns": null,
            "flex": null,
            "_model_name": "LayoutModel",
            "justify_items": null,
            "grid_row": null,
            "max_height": null,
            "align_content": null,
            "visibility": null,
            "align_self": null,
            "height": null,
            "min_height": null,
            "padding": null,
            "grid_auto_rows": null,
            "grid_gap": null,
            "max_width": null,
            "order": null,
            "_view_module_version": "1.2.0",
            "grid_template_areas": null,
            "object_position": null,
            "object_fit": null,
            "grid_auto_columns": null,
            "margin": null,
            "display": null,
            "left": null
          }
        },
        "120915e3e68e4a12a2da88b843f9019a": {
          "model_module": "@jupyter-widgets/controls",
          "model_name": "DescriptionStyleModel",
          "model_module_version": "1.5.0",
          "state": {
            "_view_name": "StyleView",
            "_model_name": "DescriptionStyleModel",
            "description_width": "",
            "_view_module": "@jupyter-widgets/base",
            "_model_module_version": "1.5.0",
            "_view_count": null,
            "_view_module_version": "1.2.0",
            "_model_module": "@jupyter-widgets/controls"
          }
        },
        "32952eb8099848ea8006752722e4c6ee": {
          "model_module": "@jupyter-widgets/base",
          "model_name": "LayoutModel",
          "model_module_version": "1.2.0",
          "state": {
            "_view_name": "LayoutView",
            "grid_template_rows": null,
            "right": null,
            "justify_content": null,
            "_view_module": "@jupyter-widgets/base",
            "overflow": null,
            "_model_module_version": "1.2.0",
            "_view_count": null,
            "flex_flow": null,
            "width": null,
            "min_width": null,
            "border": null,
            "align_items": null,
            "bottom": null,
            "_model_module": "@jupyter-widgets/base",
            "top": null,
            "grid_column": null,
            "overflow_y": null,
            "overflow_x": null,
            "grid_auto_flow": null,
            "grid_area": null,
            "grid_template_columns": null,
            "flex": null,
            "_model_name": "LayoutModel",
            "justify_items": null,
            "grid_row": null,
            "max_height": null,
            "align_content": null,
            "visibility": null,
            "align_self": null,
            "height": null,
            "min_height": null,
            "padding": null,
            "grid_auto_rows": null,
            "grid_gap": null,
            "max_width": null,
            "order": null,
            "_view_module_version": "1.2.0",
            "grid_template_areas": null,
            "object_position": null,
            "object_fit": null,
            "grid_auto_columns": null,
            "margin": null,
            "display": null,
            "left": null
          }
        },
        "acd699d3825f468ab15be2f6fa01c8f2": {
          "model_module": "@jupyter-widgets/controls",
          "model_name": "HBoxModel",
          "model_module_version": "1.5.0",
          "state": {
            "_view_name": "HBoxView",
            "_dom_classes": [],
            "_model_name": "HBoxModel",
            "_view_module": "@jupyter-widgets/controls",
            "_model_module_version": "1.5.0",
            "_view_count": null,
            "_view_module_version": "1.5.0",
            "box_style": "",
            "layout": "IPY_MODEL_70278d97734d4c48a80951fba7ae430c",
            "_model_module": "@jupyter-widgets/controls",
            "children": [
              "IPY_MODEL_7766748802cf4134916655f1b13520a5",
              "IPY_MODEL_28711943525d4fdf9fc2ef9081e74765",
              "IPY_MODEL_538da85e92bb4cfdb68a3107e0d3e0dc"
            ]
          }
        },
        "70278d97734d4c48a80951fba7ae430c": {
          "model_module": "@jupyter-widgets/base",
          "model_name": "LayoutModel",
          "model_module_version": "1.2.0",
          "state": {
            "_view_name": "LayoutView",
            "grid_template_rows": null,
            "right": null,
            "justify_content": null,
            "_view_module": "@jupyter-widgets/base",
            "overflow": null,
            "_model_module_version": "1.2.0",
            "_view_count": null,
            "flex_flow": null,
            "width": null,
            "min_width": null,
            "border": null,
            "align_items": null,
            "bottom": null,
            "_model_module": "@jupyter-widgets/base",
            "top": null,
            "grid_column": null,
            "overflow_y": null,
            "overflow_x": null,
            "grid_auto_flow": null,
            "grid_area": null,
            "grid_template_columns": null,
            "flex": null,
            "_model_name": "LayoutModel",
            "justify_items": null,
            "grid_row": null,
            "max_height": null,
            "align_content": null,
            "visibility": null,
            "align_self": null,
            "height": null,
            "min_height": null,
            "padding": null,
            "grid_auto_rows": null,
            "grid_gap": null,
            "max_width": null,
            "order": null,
            "_view_module_version": "1.2.0",
            "grid_template_areas": null,
            "object_position": null,
            "object_fit": null,
            "grid_auto_columns": null,
            "margin": null,
            "display": null,
            "left": null
          }
        },
        "7766748802cf4134916655f1b13520a5": {
          "model_module": "@jupyter-widgets/controls",
          "model_name": "HTMLModel",
          "model_module_version": "1.5.0",
          "state": {
            "_view_name": "HTMLView",
            "style": "IPY_MODEL_280150ea3c644f8584fe2c603bdd84a1",
            "_dom_classes": [],
            "description": "",
            "_model_name": "HTMLModel",
            "placeholder": "​",
            "_view_module": "@jupyter-widgets/controls",
            "_model_module_version": "1.5.0",
            "value": "Downloading: 100%",
            "_view_count": null,
            "_view_module_version": "1.5.0",
            "description_tooltip": null,
            "_model_module": "@jupyter-widgets/controls",
            "layout": "IPY_MODEL_8cf3d0d3e49f491880c0c868af8f928e"
          }
        },
        "28711943525d4fdf9fc2ef9081e74765": {
          "model_module": "@jupyter-widgets/controls",
          "model_name": "FloatProgressModel",
          "model_module_version": "1.5.0",
          "state": {
            "_view_name": "ProgressView",
            "style": "IPY_MODEL_50e12632bb7846099a5037f68ac41181",
            "_dom_classes": [],
            "description": "",
            "_model_name": "FloatProgressModel",
            "bar_style": "success",
            "max": 439457860,
            "_view_module": "@jupyter-widgets/controls",
            "_model_module_version": "1.5.0",
            "value": 439457860,
            "_view_count": null,
            "_view_module_version": "1.5.0",
            "orientation": "horizontal",
            "min": 0,
            "description_tooltip": null,
            "_model_module": "@jupyter-widgets/controls",
            "layout": "IPY_MODEL_173ce5ccc0294c6496c5d289a5ba4d26"
          }
        },
        "538da85e92bb4cfdb68a3107e0d3e0dc": {
          "model_module": "@jupyter-widgets/controls",
          "model_name": "HTMLModel",
          "model_module_version": "1.5.0",
          "state": {
            "_view_name": "HTMLView",
            "style": "IPY_MODEL_d9326c4eef064e758a349cce8abd7bcd",
            "_dom_classes": [],
            "description": "",
            "_model_name": "HTMLModel",
            "placeholder": "​",
            "_view_module": "@jupyter-widgets/controls",
            "_model_module_version": "1.5.0",
            "value": " 419M/419M [00:07&lt;00:00, 62.5MB/s]",
            "_view_count": null,
            "_view_module_version": "1.5.0",
            "description_tooltip": null,
            "_model_module": "@jupyter-widgets/controls",
            "layout": "IPY_MODEL_3190b1aba236465280b6e1c91192b6e6"
          }
        },
        "280150ea3c644f8584fe2c603bdd84a1": {
          "model_module": "@jupyter-widgets/controls",
          "model_name": "DescriptionStyleModel",
          "model_module_version": "1.5.0",
          "state": {
            "_view_name": "StyleView",
            "_model_name": "DescriptionStyleModel",
            "description_width": "",
            "_view_module": "@jupyter-widgets/base",
            "_model_module_version": "1.5.0",
            "_view_count": null,
            "_view_module_version": "1.2.0",
            "_model_module": "@jupyter-widgets/controls"
          }
        },
        "8cf3d0d3e49f491880c0c868af8f928e": {
          "model_module": "@jupyter-widgets/base",
          "model_name": "LayoutModel",
          "model_module_version": "1.2.0",
          "state": {
            "_view_name": "LayoutView",
            "grid_template_rows": null,
            "right": null,
            "justify_content": null,
            "_view_module": "@jupyter-widgets/base",
            "overflow": null,
            "_model_module_version": "1.2.0",
            "_view_count": null,
            "flex_flow": null,
            "width": null,
            "min_width": null,
            "border": null,
            "align_items": null,
            "bottom": null,
            "_model_module": "@jupyter-widgets/base",
            "top": null,
            "grid_column": null,
            "overflow_y": null,
            "overflow_x": null,
            "grid_auto_flow": null,
            "grid_area": null,
            "grid_template_columns": null,
            "flex": null,
            "_model_name": "LayoutModel",
            "justify_items": null,
            "grid_row": null,
            "max_height": null,
            "align_content": null,
            "visibility": null,
            "align_self": null,
            "height": null,
            "min_height": null,
            "padding": null,
            "grid_auto_rows": null,
            "grid_gap": null,
            "max_width": null,
            "order": null,
            "_view_module_version": "1.2.0",
            "grid_template_areas": null,
            "object_position": null,
            "object_fit": null,
            "grid_auto_columns": null,
            "margin": null,
            "display": null,
            "left": null
          }
        },
        "50e12632bb7846099a5037f68ac41181": {
          "model_module": "@jupyter-widgets/controls",
          "model_name": "ProgressStyleModel",
          "model_module_version": "1.5.0",
          "state": {
            "_view_name": "StyleView",
            "_model_name": "ProgressStyleModel",
            "description_width": "",
            "_view_module": "@jupyter-widgets/base",
            "_model_module_version": "1.5.0",
            "_view_count": null,
            "_view_module_version": "1.2.0",
            "bar_color": null,
            "_model_module": "@jupyter-widgets/controls"
          }
        },
        "173ce5ccc0294c6496c5d289a5ba4d26": {
          "model_module": "@jupyter-widgets/base",
          "model_name": "LayoutModel",
          "model_module_version": "1.2.0",
          "state": {
            "_view_name": "LayoutView",
            "grid_template_rows": null,
            "right": null,
            "justify_content": null,
            "_view_module": "@jupyter-widgets/base",
            "overflow": null,
            "_model_module_version": "1.2.0",
            "_view_count": null,
            "flex_flow": null,
            "width": null,
            "min_width": null,
            "border": null,
            "align_items": null,
            "bottom": null,
            "_model_module": "@jupyter-widgets/base",
            "top": null,
            "grid_column": null,
            "overflow_y": null,
            "overflow_x": null,
            "grid_auto_flow": null,
            "grid_area": null,
            "grid_template_columns": null,
            "flex": null,
            "_model_name": "LayoutModel",
            "justify_items": null,
            "grid_row": null,
            "max_height": null,
            "align_content": null,
            "visibility": null,
            "align_self": null,
            "height": null,
            "min_height": null,
            "padding": null,
            "grid_auto_rows": null,
            "grid_gap": null,
            "max_width": null,
            "order": null,
            "_view_module_version": "1.2.0",
            "grid_template_areas": null,
            "object_position": null,
            "object_fit": null,
            "grid_auto_columns": null,
            "margin": null,
            "display": null,
            "left": null
          }
        },
        "d9326c4eef064e758a349cce8abd7bcd": {
          "model_module": "@jupyter-widgets/controls",
          "model_name": "DescriptionStyleModel",
          "model_module_version": "1.5.0",
          "state": {
            "_view_name": "StyleView",
            "_model_name": "DescriptionStyleModel",
            "description_width": "",
            "_view_module": "@jupyter-widgets/base",
            "_model_module_version": "1.5.0",
            "_view_count": null,
            "_view_module_version": "1.2.0",
            "_model_module": "@jupyter-widgets/controls"
          }
        },
        "3190b1aba236465280b6e1c91192b6e6": {
          "model_module": "@jupyter-widgets/base",
          "model_name": "LayoutModel",
          "model_module_version": "1.2.0",
          "state": {
            "_view_name": "LayoutView",
            "grid_template_rows": null,
            "right": null,
            "justify_content": null,
            "_view_module": "@jupyter-widgets/base",
            "overflow": null,
            "_model_module_version": "1.2.0",
            "_view_count": null,
            "flex_flow": null,
            "width": null,
            "min_width": null,
            "border": null,
            "align_items": null,
            "bottom": null,
            "_model_module": "@jupyter-widgets/base",
            "top": null,
            "grid_column": null,
            "overflow_y": null,
            "overflow_x": null,
            "grid_auto_flow": null,
            "grid_area": null,
            "grid_template_columns": null,
            "flex": null,
            "_model_name": "LayoutModel",
            "justify_items": null,
            "grid_row": null,
            "max_height": null,
            "align_content": null,
            "visibility": null,
            "align_self": null,
            "height": null,
            "min_height": null,
            "padding": null,
            "grid_auto_rows": null,
            "grid_gap": null,
            "max_width": null,
            "order": null,
            "_view_module_version": "1.2.0",
            "grid_template_areas": null,
            "object_position": null,
            "object_fit": null,
            "grid_auto_columns": null,
            "margin": null,
            "display": null,
            "left": null
          }
        },
        "ab9da06168c1426a914b5e901fc5aeed": {
          "model_module": "@jupyter-widgets/controls",
          "model_name": "HBoxModel",
          "model_module_version": "1.5.0",
          "state": {
            "_view_name": "HBoxView",
            "_dom_classes": [],
            "_model_name": "HBoxModel",
            "_view_module": "@jupyter-widgets/controls",
            "_model_module_version": "1.5.0",
            "_view_count": null,
            "_view_module_version": "1.5.0",
            "box_style": "",
            "layout": "IPY_MODEL_5744226a3a3c4d518a27bfb873df7142",
            "_model_module": "@jupyter-widgets/controls",
            "children": [
              "IPY_MODEL_63e937fca51542c7950e04b88fdda087",
              "IPY_MODEL_d9935157851742658f337753d617d27f",
              "IPY_MODEL_ab035ff26e844f508e551ec9aec6f2cd"
            ]
          }
        },
        "5744226a3a3c4d518a27bfb873df7142": {
          "model_module": "@jupyter-widgets/base",
          "model_name": "LayoutModel",
          "model_module_version": "1.2.0",
          "state": {
            "_view_name": "LayoutView",
            "grid_template_rows": null,
            "right": null,
            "justify_content": null,
            "_view_module": "@jupyter-widgets/base",
            "overflow": null,
            "_model_module_version": "1.2.0",
            "_view_count": null,
            "flex_flow": null,
            "width": null,
            "min_width": null,
            "border": null,
            "align_items": null,
            "bottom": null,
            "_model_module": "@jupyter-widgets/base",
            "top": null,
            "grid_column": null,
            "overflow_y": null,
            "overflow_x": null,
            "grid_auto_flow": null,
            "grid_area": null,
            "grid_template_columns": null,
            "flex": null,
            "_model_name": "LayoutModel",
            "justify_items": null,
            "grid_row": null,
            "max_height": null,
            "align_content": null,
            "visibility": null,
            "align_self": null,
            "height": null,
            "min_height": null,
            "padding": null,
            "grid_auto_rows": null,
            "grid_gap": null,
            "max_width": null,
            "order": null,
            "_view_module_version": "1.2.0",
            "grid_template_areas": null,
            "object_position": null,
            "object_fit": null,
            "grid_auto_columns": null,
            "margin": null,
            "display": null,
            "left": null
          }
        },
        "63e937fca51542c7950e04b88fdda087": {
          "model_module": "@jupyter-widgets/controls",
          "model_name": "HTMLModel",
          "model_module_version": "1.5.0",
          "state": {
            "_view_name": "HTMLView",
            "style": "IPY_MODEL_a57ef9b8fdbf43b9a119cea7fd143b78",
            "_dom_classes": [],
            "description": "",
            "_model_name": "HTMLModel",
            "placeholder": "​",
            "_view_module": "@jupyter-widgets/controls",
            "_model_module_version": "1.5.0",
            "value": "Downloading: 100%",
            "_view_count": null,
            "_view_module_version": "1.5.0",
            "description_tooltip": null,
            "_model_module": "@jupyter-widgets/controls",
            "layout": "IPY_MODEL_11be0b5b52524050a37e5ab5756fe633"
          }
        },
        "d9935157851742658f337753d617d27f": {
          "model_module": "@jupyter-widgets/controls",
          "model_name": "FloatProgressModel",
          "model_module_version": "1.5.0",
          "state": {
            "_view_name": "ProgressView",
            "style": "IPY_MODEL_29bd838938aa48a3bbee9a2119001a71",
            "_dom_classes": [],
            "description": "",
            "_model_name": "FloatProgressModel",
            "bar_style": "success",
            "max": 135,
            "_view_module": "@jupyter-widgets/controls",
            "_model_module_version": "1.5.0",
            "value": 135,
            "_view_count": null,
            "_view_module_version": "1.5.0",
            "orientation": "horizontal",
            "min": 0,
            "description_tooltip": null,
            "_model_module": "@jupyter-widgets/controls",
            "layout": "IPY_MODEL_bfa13951af1b4372935a0017b4708315"
          }
        },
        "ab035ff26e844f508e551ec9aec6f2cd": {
          "model_module": "@jupyter-widgets/controls",
          "model_name": "HTMLModel",
          "model_module_version": "1.5.0",
          "state": {
            "_view_name": "HTMLView",
            "style": "IPY_MODEL_cb2a835676024d7598d7f472d3a2d8c0",
            "_dom_classes": [],
            "description": "",
            "_model_name": "HTMLModel",
            "placeholder": "​",
            "_view_module": "@jupyter-widgets/controls",
            "_model_module_version": "1.5.0",
            "value": " 135/135 [00:00&lt;00:00, 6.06kB/s]",
            "_view_count": null,
            "_view_module_version": "1.5.0",
            "description_tooltip": null,
            "_model_module": "@jupyter-widgets/controls",
            "layout": "IPY_MODEL_12679819e6a943ce8e039fa8778325d1"
          }
        },
        "a57ef9b8fdbf43b9a119cea7fd143b78": {
          "model_module": "@jupyter-widgets/controls",
          "model_name": "DescriptionStyleModel",
          "model_module_version": "1.5.0",
          "state": {
            "_view_name": "StyleView",
            "_model_name": "DescriptionStyleModel",
            "description_width": "",
            "_view_module": "@jupyter-widgets/base",
            "_model_module_version": "1.5.0",
            "_view_count": null,
            "_view_module_version": "1.2.0",
            "_model_module": "@jupyter-widgets/controls"
          }
        },
        "11be0b5b52524050a37e5ab5756fe633": {
          "model_module": "@jupyter-widgets/base",
          "model_name": "LayoutModel",
          "model_module_version": "1.2.0",
          "state": {
            "_view_name": "LayoutView",
            "grid_template_rows": null,
            "right": null,
            "justify_content": null,
            "_view_module": "@jupyter-widgets/base",
            "overflow": null,
            "_model_module_version": "1.2.0",
            "_view_count": null,
            "flex_flow": null,
            "width": null,
            "min_width": null,
            "border": null,
            "align_items": null,
            "bottom": null,
            "_model_module": "@jupyter-widgets/base",
            "top": null,
            "grid_column": null,
            "overflow_y": null,
            "overflow_x": null,
            "grid_auto_flow": null,
            "grid_area": null,
            "grid_template_columns": null,
            "flex": null,
            "_model_name": "LayoutModel",
            "justify_items": null,
            "grid_row": null,
            "max_height": null,
            "align_content": null,
            "visibility": null,
            "align_self": null,
            "height": null,
            "min_height": null,
            "padding": null,
            "grid_auto_rows": null,
            "grid_gap": null,
            "max_width": null,
            "order": null,
            "_view_module_version": "1.2.0",
            "grid_template_areas": null,
            "object_position": null,
            "object_fit": null,
            "grid_auto_columns": null,
            "margin": null,
            "display": null,
            "left": null
          }
        },
        "29bd838938aa48a3bbee9a2119001a71": {
          "model_module": "@jupyter-widgets/controls",
          "model_name": "ProgressStyleModel",
          "model_module_version": "1.5.0",
          "state": {
            "_view_name": "StyleView",
            "_model_name": "ProgressStyleModel",
            "description_width": "",
            "_view_module": "@jupyter-widgets/base",
            "_model_module_version": "1.5.0",
            "_view_count": null,
            "_view_module_version": "1.2.0",
            "bar_color": null,
            "_model_module": "@jupyter-widgets/controls"
          }
        },
        "bfa13951af1b4372935a0017b4708315": {
          "model_module": "@jupyter-widgets/base",
          "model_name": "LayoutModel",
          "model_module_version": "1.2.0",
          "state": {
            "_view_name": "LayoutView",
            "grid_template_rows": null,
            "right": null,
            "justify_content": null,
            "_view_module": "@jupyter-widgets/base",
            "overflow": null,
            "_model_module_version": "1.2.0",
            "_view_count": null,
            "flex_flow": null,
            "width": null,
            "min_width": null,
            "border": null,
            "align_items": null,
            "bottom": null,
            "_model_module": "@jupyter-widgets/base",
            "top": null,
            "grid_column": null,
            "overflow_y": null,
            "overflow_x": null,
            "grid_auto_flow": null,
            "grid_area": null,
            "grid_template_columns": null,
            "flex": null,
            "_model_name": "LayoutModel",
            "justify_items": null,
            "grid_row": null,
            "max_height": null,
            "align_content": null,
            "visibility": null,
            "align_self": null,
            "height": null,
            "min_height": null,
            "padding": null,
            "grid_auto_rows": null,
            "grid_gap": null,
            "max_width": null,
            "order": null,
            "_view_module_version": "1.2.0",
            "grid_template_areas": null,
            "object_position": null,
            "object_fit": null,
            "grid_auto_columns": null,
            "margin": null,
            "display": null,
            "left": null
          }
        },
        "cb2a835676024d7598d7f472d3a2d8c0": {
          "model_module": "@jupyter-widgets/controls",
          "model_name": "DescriptionStyleModel",
          "model_module_version": "1.5.0",
          "state": {
            "_view_name": "StyleView",
            "_model_name": "DescriptionStyleModel",
            "description_width": "",
            "_view_module": "@jupyter-widgets/base",
            "_model_module_version": "1.5.0",
            "_view_count": null,
            "_view_module_version": "1.2.0",
            "_model_module": "@jupyter-widgets/controls"
          }
        },
        "12679819e6a943ce8e039fa8778325d1": {
          "model_module": "@jupyter-widgets/base",
          "model_name": "LayoutModel",
          "model_module_version": "1.2.0",
          "state": {
            "_view_name": "LayoutView",
            "grid_template_rows": null,
            "right": null,
            "justify_content": null,
            "_view_module": "@jupyter-widgets/base",
            "overflow": null,
            "_model_module_version": "1.2.0",
            "_view_count": null,
            "flex_flow": null,
            "width": null,
            "min_width": null,
            "border": null,
            "align_items": null,
            "bottom": null,
            "_model_module": "@jupyter-widgets/base",
            "top": null,
            "grid_column": null,
            "overflow_y": null,
            "overflow_x": null,
            "grid_auto_flow": null,
            "grid_area": null,
            "grid_template_columns": null,
            "flex": null,
            "_model_name": "LayoutModel",
            "justify_items": null,
            "grid_row": null,
            "max_height": null,
            "align_content": null,
            "visibility": null,
            "align_self": null,
            "height": null,
            "min_height": null,
            "padding": null,
            "grid_auto_rows": null,
            "grid_gap": null,
            "max_width": null,
            "order": null,
            "_view_module_version": "1.2.0",
            "grid_template_areas": null,
            "object_position": null,
            "object_fit": null,
            "grid_auto_columns": null,
            "margin": null,
            "display": null,
            "left": null
          }
        },
        "5adc4cfd72fa4f32b352354dff6e4fb5": {
          "model_module": "@jupyter-widgets/controls",
          "model_name": "HBoxModel",
          "model_module_version": "1.5.0",
          "state": {
            "_view_name": "HBoxView",
            "_dom_classes": [],
            "_model_name": "HBoxModel",
            "_view_module": "@jupyter-widgets/controls",
            "_model_module_version": "1.5.0",
            "_view_count": null,
            "_view_module_version": "1.5.0",
            "box_style": "",
            "layout": "IPY_MODEL_67faef2362fe4f7cbac80c883a269958",
            "_model_module": "@jupyter-widgets/controls",
            "children": [
              "IPY_MODEL_e04e1a4e276446a2a6bd427ad9a5c029",
              "IPY_MODEL_f82c6bcb9c4f4af98bec19a845c4330e",
              "IPY_MODEL_d6c013af373f48ae8a8172c2ffff00ed"
            ]
          }
        },
        "67faef2362fe4f7cbac80c883a269958": {
          "model_module": "@jupyter-widgets/base",
          "model_name": "LayoutModel",
          "model_module_version": "1.2.0",
          "state": {
            "_view_name": "LayoutView",
            "grid_template_rows": null,
            "right": null,
            "justify_content": null,
            "_view_module": "@jupyter-widgets/base",
            "overflow": null,
            "_model_module_version": "1.2.0",
            "_view_count": null,
            "flex_flow": null,
            "width": null,
            "min_width": null,
            "border": null,
            "align_items": null,
            "bottom": null,
            "_model_module": "@jupyter-widgets/base",
            "top": null,
            "grid_column": null,
            "overflow_y": null,
            "overflow_x": null,
            "grid_auto_flow": null,
            "grid_area": null,
            "grid_template_columns": null,
            "flex": null,
            "_model_name": "LayoutModel",
            "justify_items": null,
            "grid_row": null,
            "max_height": null,
            "align_content": null,
            "visibility": null,
            "align_self": null,
            "height": null,
            "min_height": null,
            "padding": null,
            "grid_auto_rows": null,
            "grid_gap": null,
            "max_width": null,
            "order": null,
            "_view_module_version": "1.2.0",
            "grid_template_areas": null,
            "object_position": null,
            "object_fit": null,
            "grid_auto_columns": null,
            "margin": null,
            "display": null,
            "left": null
          }
        },
        "e04e1a4e276446a2a6bd427ad9a5c029": {
          "model_module": "@jupyter-widgets/controls",
          "model_name": "HTMLModel",
          "model_module_version": "1.5.0",
          "state": {
            "_view_name": "HTMLView",
            "style": "IPY_MODEL_50aafd2976644ba6a438dfd14da31069",
            "_dom_classes": [],
            "description": "",
            "_model_name": "HTMLModel",
            "placeholder": "​",
            "_view_module": "@jupyter-widgets/controls",
            "_model_module_version": "1.5.0",
            "value": "Downloading: 100%",
            "_view_count": null,
            "_view_module_version": "1.5.0",
            "description_tooltip": null,
            "_model_module": "@jupyter-widgets/controls",
            "layout": "IPY_MODEL_2aff73af26144abb92150af55c091942"
          }
        },
        "f82c6bcb9c4f4af98bec19a845c4330e": {
          "model_module": "@jupyter-widgets/controls",
          "model_name": "FloatProgressModel",
          "model_module_version": "1.5.0",
          "state": {
            "_view_name": "ProgressView",
            "style": "IPY_MODEL_14ba6be0233a4a7f8035366bc3a49fb9",
            "_dom_classes": [],
            "description": "",
            "_model_name": "FloatProgressModel",
            "bar_style": "success",
            "max": 242349,
            "_view_module": "@jupyter-widgets/controls",
            "_model_module_version": "1.5.0",
            "value": 242349,
            "_view_count": null,
            "_view_module_version": "1.5.0",
            "orientation": "horizontal",
            "min": 0,
            "description_tooltip": null,
            "_model_module": "@jupyter-widgets/controls",
            "layout": "IPY_MODEL_ed6a32ee6ae1402883aed3296d6e5638"
          }
        },
        "d6c013af373f48ae8a8172c2ffff00ed": {
          "model_module": "@jupyter-widgets/controls",
          "model_name": "HTMLModel",
          "model_module_version": "1.5.0",
          "state": {
            "_view_name": "HTMLView",
            "style": "IPY_MODEL_f55af503b37d44b185c43c1df271a45c",
            "_dom_classes": [],
            "description": "",
            "_model_name": "HTMLModel",
            "placeholder": "​",
            "_view_module": "@jupyter-widgets/controls",
            "_model_module_version": "1.5.0",
            "value": " 237k/237k [00:00&lt;00:00, 332kB/s]",
            "_view_count": null,
            "_view_module_version": "1.5.0",
            "description_tooltip": null,
            "_model_module": "@jupyter-widgets/controls",
            "layout": "IPY_MODEL_836b5800429e4bfeaec18f7fa5d87d61"
          }
        },
        "50aafd2976644ba6a438dfd14da31069": {
          "model_module": "@jupyter-widgets/controls",
          "model_name": "DescriptionStyleModel",
          "model_module_version": "1.5.0",
          "state": {
            "_view_name": "StyleView",
            "_model_name": "DescriptionStyleModel",
            "description_width": "",
            "_view_module": "@jupyter-widgets/base",
            "_model_module_version": "1.5.0",
            "_view_count": null,
            "_view_module_version": "1.2.0",
            "_model_module": "@jupyter-widgets/controls"
          }
        },
        "2aff73af26144abb92150af55c091942": {
          "model_module": "@jupyter-widgets/base",
          "model_name": "LayoutModel",
          "model_module_version": "1.2.0",
          "state": {
            "_view_name": "LayoutView",
            "grid_template_rows": null,
            "right": null,
            "justify_content": null,
            "_view_module": "@jupyter-widgets/base",
            "overflow": null,
            "_model_module_version": "1.2.0",
            "_view_count": null,
            "flex_flow": null,
            "width": null,
            "min_width": null,
            "border": null,
            "align_items": null,
            "bottom": null,
            "_model_module": "@jupyter-widgets/base",
            "top": null,
            "grid_column": null,
            "overflow_y": null,
            "overflow_x": null,
            "grid_auto_flow": null,
            "grid_area": null,
            "grid_template_columns": null,
            "flex": null,
            "_model_name": "LayoutModel",
            "justify_items": null,
            "grid_row": null,
            "max_height": null,
            "align_content": null,
            "visibility": null,
            "align_self": null,
            "height": null,
            "min_height": null,
            "padding": null,
            "grid_auto_rows": null,
            "grid_gap": null,
            "max_width": null,
            "order": null,
            "_view_module_version": "1.2.0",
            "grid_template_areas": null,
            "object_position": null,
            "object_fit": null,
            "grid_auto_columns": null,
            "margin": null,
            "display": null,
            "left": null
          }
        },
        "14ba6be0233a4a7f8035366bc3a49fb9": {
          "model_module": "@jupyter-widgets/controls",
          "model_name": "ProgressStyleModel",
          "model_module_version": "1.5.0",
          "state": {
            "_view_name": "StyleView",
            "_model_name": "ProgressStyleModel",
            "description_width": "",
            "_view_module": "@jupyter-widgets/base",
            "_model_module_version": "1.5.0",
            "_view_count": null,
            "_view_module_version": "1.2.0",
            "bar_color": null,
            "_model_module": "@jupyter-widgets/controls"
          }
        },
        "ed6a32ee6ae1402883aed3296d6e5638": {
          "model_module": "@jupyter-widgets/base",
          "model_name": "LayoutModel",
          "model_module_version": "1.2.0",
          "state": {
            "_view_name": "LayoutView",
            "grid_template_rows": null,
            "right": null,
            "justify_content": null,
            "_view_module": "@jupyter-widgets/base",
            "overflow": null,
            "_model_module_version": "1.2.0",
            "_view_count": null,
            "flex_flow": null,
            "width": null,
            "min_width": null,
            "border": null,
            "align_items": null,
            "bottom": null,
            "_model_module": "@jupyter-widgets/base",
            "top": null,
            "grid_column": null,
            "overflow_y": null,
            "overflow_x": null,
            "grid_auto_flow": null,
            "grid_area": null,
            "grid_template_columns": null,
            "flex": null,
            "_model_name": "LayoutModel",
            "justify_items": null,
            "grid_row": null,
            "max_height": null,
            "align_content": null,
            "visibility": null,
            "align_self": null,
            "height": null,
            "min_height": null,
            "padding": null,
            "grid_auto_rows": null,
            "grid_gap": null,
            "max_width": null,
            "order": null,
            "_view_module_version": "1.2.0",
            "grid_template_areas": null,
            "object_position": null,
            "object_fit": null,
            "grid_auto_columns": null,
            "margin": null,
            "display": null,
            "left": null
          }
        },
        "f55af503b37d44b185c43c1df271a45c": {
          "model_module": "@jupyter-widgets/controls",
          "model_name": "DescriptionStyleModel",
          "model_module_version": "1.5.0",
          "state": {
            "_view_name": "StyleView",
            "_model_name": "DescriptionStyleModel",
            "description_width": "",
            "_view_module": "@jupyter-widgets/base",
            "_model_module_version": "1.5.0",
            "_view_count": null,
            "_view_module_version": "1.2.0",
            "_model_module": "@jupyter-widgets/controls"
          }
        },
        "836b5800429e4bfeaec18f7fa5d87d61": {
          "model_module": "@jupyter-widgets/base",
          "model_name": "LayoutModel",
          "model_module_version": "1.2.0",
          "state": {
            "_view_name": "LayoutView",
            "grid_template_rows": null,
            "right": null,
            "justify_content": null,
            "_view_module": "@jupyter-widgets/base",
            "overflow": null,
            "_model_module_version": "1.2.0",
            "_view_count": null,
            "flex_flow": null,
            "width": null,
            "min_width": null,
            "border": null,
            "align_items": null,
            "bottom": null,
            "_model_module": "@jupyter-widgets/base",
            "top": null,
            "grid_column": null,
            "overflow_y": null,
            "overflow_x": null,
            "grid_auto_flow": null,
            "grid_area": null,
            "grid_template_columns": null,
            "flex": null,
            "_model_name": "LayoutModel",
            "justify_items": null,
            "grid_row": null,
            "max_height": null,
            "align_content": null,
            "visibility": null,
            "align_self": null,
            "height": null,
            "min_height": null,
            "padding": null,
            "grid_auto_rows": null,
            "grid_gap": null,
            "max_width": null,
            "order": null,
            "_view_module_version": "1.2.0",
            "grid_template_areas": null,
            "object_position": null,
            "object_fit": null,
            "grid_auto_columns": null,
            "margin": null,
            "display": null,
            "left": null
          }
        },
        "fbbc6a9f3c1e4372b52526c8d7b36952": {
          "model_module": "@jupyter-widgets/controls",
          "model_name": "HBoxModel",
          "model_module_version": "1.5.0",
          "state": {
            "_view_name": "HBoxView",
            "_dom_classes": [],
            "_model_name": "HBoxModel",
            "_view_module": "@jupyter-widgets/controls",
            "_model_module_version": "1.5.0",
            "_view_count": null,
            "_view_module_version": "1.5.0",
            "box_style": "",
            "layout": "IPY_MODEL_5073c32eeab64959bd3779911f97d939",
            "_model_module": "@jupyter-widgets/controls",
            "children": [
              "IPY_MODEL_dcc73aef66ba4cbf9163dbdbfcc64755",
              "IPY_MODEL_5620cbb853d84984bb809d15ed90a2d3",
              "IPY_MODEL_79a2b37dc74e47449b9af7b6876c82d7"
            ]
          }
        },
        "5073c32eeab64959bd3779911f97d939": {
          "model_module": "@jupyter-widgets/base",
          "model_name": "LayoutModel",
          "model_module_version": "1.2.0",
          "state": {
            "_view_name": "LayoutView",
            "grid_template_rows": null,
            "right": null,
            "justify_content": null,
            "_view_module": "@jupyter-widgets/base",
            "overflow": null,
            "_model_module_version": "1.2.0",
            "_view_count": null,
            "flex_flow": null,
            "width": null,
            "min_width": null,
            "border": null,
            "align_items": null,
            "bottom": null,
            "_model_module": "@jupyter-widgets/base",
            "top": null,
            "grid_column": null,
            "overflow_y": null,
            "overflow_x": null,
            "grid_auto_flow": null,
            "grid_area": null,
            "grid_template_columns": null,
            "flex": null,
            "_model_name": "LayoutModel",
            "justify_items": null,
            "grid_row": null,
            "max_height": null,
            "align_content": null,
            "visibility": null,
            "align_self": null,
            "height": null,
            "min_height": null,
            "padding": null,
            "grid_auto_rows": null,
            "grid_gap": null,
            "max_width": null,
            "order": null,
            "_view_module_version": "1.2.0",
            "grid_template_areas": null,
            "object_position": null,
            "object_fit": null,
            "grid_auto_columns": null,
            "margin": null,
            "display": null,
            "left": null
          }
        },
        "dcc73aef66ba4cbf9163dbdbfcc64755": {
          "model_module": "@jupyter-widgets/controls",
          "model_name": "HTMLModel",
          "model_module_version": "1.5.0",
          "state": {
            "_view_name": "HTMLView",
            "style": "IPY_MODEL_08a68a93abef41a1ac8e4fe77ac0df46",
            "_dom_classes": [],
            "description": "",
            "_model_name": "HTMLModel",
            "placeholder": "​",
            "_view_module": "@jupyter-widgets/controls",
            "_model_module_version": "1.5.0",
            "value": "Downloading: 100%",
            "_view_count": null,
            "_view_module_version": "1.5.0",
            "description_tooltip": null,
            "_model_module": "@jupyter-widgets/controls",
            "layout": "IPY_MODEL_ca979476a7d449a9ab2c859f1a42ad98"
          }
        },
        "5620cbb853d84984bb809d15ed90a2d3": {
          "model_module": "@jupyter-widgets/controls",
          "model_name": "FloatProgressModel",
          "model_module_version": "1.5.0",
          "state": {
            "_view_name": "ProgressView",
            "style": "IPY_MODEL_0ab23512a90c42b1b61ebdf959f4be83",
            "_dom_classes": [],
            "description": "",
            "_model_name": "FloatProgressModel",
            "bar_style": "success",
            "max": 112,
            "_view_module": "@jupyter-widgets/controls",
            "_model_module_version": "1.5.0",
            "value": 112,
            "_view_count": null,
            "_view_module_version": "1.5.0",
            "orientation": "horizontal",
            "min": 0,
            "description_tooltip": null,
            "_model_module": "@jupyter-widgets/controls",
            "layout": "IPY_MODEL_85a6c2627ad04bb3a24f074ead4d9aa9"
          }
        },
        "79a2b37dc74e47449b9af7b6876c82d7": {
          "model_module": "@jupyter-widgets/controls",
          "model_name": "HTMLModel",
          "model_module_version": "1.5.0",
          "state": {
            "_view_name": "HTMLView",
            "style": "IPY_MODEL_23a1fb0994094dbdba6d63a77ee102bd",
            "_dom_classes": [],
            "description": "",
            "_model_name": "HTMLModel",
            "placeholder": "​",
            "_view_module": "@jupyter-widgets/controls",
            "_model_module_version": "1.5.0",
            "value": " 112/112 [00:00&lt;00:00, 4.80kB/s]",
            "_view_count": null,
            "_view_module_version": "1.5.0",
            "description_tooltip": null,
            "_model_module": "@jupyter-widgets/controls",
            "layout": "IPY_MODEL_f724d2de3dc74a159a0833ca864ff45e"
          }
        },
        "08a68a93abef41a1ac8e4fe77ac0df46": {
          "model_module": "@jupyter-widgets/controls",
          "model_name": "DescriptionStyleModel",
          "model_module_version": "1.5.0",
          "state": {
            "_view_name": "StyleView",
            "_model_name": "DescriptionStyleModel",
            "description_width": "",
            "_view_module": "@jupyter-widgets/base",
            "_model_module_version": "1.5.0",
            "_view_count": null,
            "_view_module_version": "1.2.0",
            "_model_module": "@jupyter-widgets/controls"
          }
        },
        "ca979476a7d449a9ab2c859f1a42ad98": {
          "model_module": "@jupyter-widgets/base",
          "model_name": "LayoutModel",
          "model_module_version": "1.2.0",
          "state": {
            "_view_name": "LayoutView",
            "grid_template_rows": null,
            "right": null,
            "justify_content": null,
            "_view_module": "@jupyter-widgets/base",
            "overflow": null,
            "_model_module_version": "1.2.0",
            "_view_count": null,
            "flex_flow": null,
            "width": null,
            "min_width": null,
            "border": null,
            "align_items": null,
            "bottom": null,
            "_model_module": "@jupyter-widgets/base",
            "top": null,
            "grid_column": null,
            "overflow_y": null,
            "overflow_x": null,
            "grid_auto_flow": null,
            "grid_area": null,
            "grid_template_columns": null,
            "flex": null,
            "_model_name": "LayoutModel",
            "justify_items": null,
            "grid_row": null,
            "max_height": null,
            "align_content": null,
            "visibility": null,
            "align_self": null,
            "height": null,
            "min_height": null,
            "padding": null,
            "grid_auto_rows": null,
            "grid_gap": null,
            "max_width": null,
            "order": null,
            "_view_module_version": "1.2.0",
            "grid_template_areas": null,
            "object_position": null,
            "object_fit": null,
            "grid_auto_columns": null,
            "margin": null,
            "display": null,
            "left": null
          }
        },
        "0ab23512a90c42b1b61ebdf959f4be83": {
          "model_module": "@jupyter-widgets/controls",
          "model_name": "ProgressStyleModel",
          "model_module_version": "1.5.0",
          "state": {
            "_view_name": "StyleView",
            "_model_name": "ProgressStyleModel",
            "description_width": "",
            "_view_module": "@jupyter-widgets/base",
            "_model_module_version": "1.5.0",
            "_view_count": null,
            "_view_module_version": "1.2.0",
            "bar_color": null,
            "_model_module": "@jupyter-widgets/controls"
          }
        },
        "85a6c2627ad04bb3a24f074ead4d9aa9": {
          "model_module": "@jupyter-widgets/base",
          "model_name": "LayoutModel",
          "model_module_version": "1.2.0",
          "state": {
            "_view_name": "LayoutView",
            "grid_template_rows": null,
            "right": null,
            "justify_content": null,
            "_view_module": "@jupyter-widgets/base",
            "overflow": null,
            "_model_module_version": "1.2.0",
            "_view_count": null,
            "flex_flow": null,
            "width": null,
            "min_width": null,
            "border": null,
            "align_items": null,
            "bottom": null,
            "_model_module": "@jupyter-widgets/base",
            "top": null,
            "grid_column": null,
            "overflow_y": null,
            "overflow_x": null,
            "grid_auto_flow": null,
            "grid_area": null,
            "grid_template_columns": null,
            "flex": null,
            "_model_name": "LayoutModel",
            "justify_items": null,
            "grid_row": null,
            "max_height": null,
            "align_content": null,
            "visibility": null,
            "align_self": null,
            "height": null,
            "min_height": null,
            "padding": null,
            "grid_auto_rows": null,
            "grid_gap": null,
            "max_width": null,
            "order": null,
            "_view_module_version": "1.2.0",
            "grid_template_areas": null,
            "object_position": null,
            "object_fit": null,
            "grid_auto_columns": null,
            "margin": null,
            "display": null,
            "left": null
          }
        },
        "23a1fb0994094dbdba6d63a77ee102bd": {
          "model_module": "@jupyter-widgets/controls",
          "model_name": "DescriptionStyleModel",
          "model_module_version": "1.5.0",
          "state": {
            "_view_name": "StyleView",
            "_model_name": "DescriptionStyleModel",
            "description_width": "",
            "_view_module": "@jupyter-widgets/base",
            "_model_module_version": "1.5.0",
            "_view_count": null,
            "_view_module_version": "1.2.0",
            "_model_module": "@jupyter-widgets/controls"
          }
        },
        "f724d2de3dc74a159a0833ca864ff45e": {
          "model_module": "@jupyter-widgets/base",
          "model_name": "LayoutModel",
          "model_module_version": "1.2.0",
          "state": {
            "_view_name": "LayoutView",
            "grid_template_rows": null,
            "right": null,
            "justify_content": null,
            "_view_module": "@jupyter-widgets/base",
            "overflow": null,
            "_model_module_version": "1.2.0",
            "_view_count": null,
            "flex_flow": null,
            "width": null,
            "min_width": null,
            "border": null,
            "align_items": null,
            "bottom": null,
            "_model_module": "@jupyter-widgets/base",
            "top": null,
            "grid_column": null,
            "overflow_y": null,
            "overflow_x": null,
            "grid_auto_flow": null,
            "grid_area": null,
            "grid_template_columns": null,
            "flex": null,
            "_model_name": "LayoutModel",
            "justify_items": null,
            "grid_row": null,
            "max_height": null,
            "align_content": null,
            "visibility": null,
            "align_self": null,
            "height": null,
            "min_height": null,
            "padding": null,
            "grid_auto_rows": null,
            "grid_gap": null,
            "max_width": null,
            "order": null,
            "_view_module_version": "1.2.0",
            "grid_template_areas": null,
            "object_position": null,
            "object_fit": null,
            "grid_auto_columns": null,
            "margin": null,
            "display": null,
            "left": null
          }
        }
      }
    },
    "accelerator": "GPU"
  },
  "cells": [
    {
      "cell_type": "markdown",
      "metadata": {
        "id": "93-Rg2V5Q__d"
      },
      "source": [
        "# Tarea 2: Procesamiento de Lenguaje Natural\n",
        "\n"
      ]
    },
    {
      "cell_type": "markdown",
      "source": [
        "Integrantes:\n",
        "\n",
        "* Sebastián Alday (Rut: 18294095-K)\n",
        "* Paula Canales G. (Rut: 18845155-1)\n",
        "* Álvaro Neira R. (Rut: 13757209-5)\n",
        "* Matias Rodriguez U. (Rut: 18362815-1)"
      ],
      "metadata": {
        "id": "bV8mxLYPE5EC"
      }
    },
    {
      "cell_type": "markdown",
      "source": [
        "# Introducción"
      ],
      "metadata": {
        "id": "VtPPoj2_FLJ8"
      }
    },
    {
      "cell_type": "markdown",
      "source": [
        "El siguiente trabajo consiste en el desarrollo de un bot que conteste las preguntas de los clientes de una empresa de servicios. En este caso, se ha escogido la empresa Chilexpress. El bot 'Eva' ha sido entrenado de dos formas distintas, con un embedding (como Word2Vec o Elmo) y mediante un transformer."
      ],
      "metadata": {
        "id": "gIOMHqd7fzh7"
      }
    },
    {
      "cell_type": "markdown",
      "source": [
        "# 1. Creación y limpieza de la base de datos "
      ],
      "metadata": {
        "id": "NnIrZRjoFO3a"
      }
    },
    {
      "cell_type": "markdown",
      "source": [
        "## 1.1 Elija una organización que cuenta con una lista de preguntas y respuestas"
      ],
      "metadata": {
        "id": "5ZYeSc93FyGX"
      }
    },
    {
      "cell_type": "markdown",
      "source": [
        "La compañía escogida para realizar este trabajo es Chilexpress. Su sección de preguntas y respuestas se muestra en el siguiente enlace:\n",
        "\n",
        "Chilexpress\n",
        "https://centrodeayuda.chilexpress.cl/home"
      ],
      "metadata": {
        "id": "pk0QdTdzUETd"
      }
    },
    {
      "cell_type": "markdown",
      "source": [
        "## 1.2 Genere una tabla (tablaQA.xls) con las preguntas y respuestas de la organización seleccionada."
      ],
      "metadata": {
        "id": "cih2PxSMF0J9"
      }
    },
    {
      "cell_type": "markdown",
      "source": [
        "La tabla 'tablaQA.csv' consiste en una columna con pregunta y otra con respuestas. Como se observa en esta sección, la tabla consiste en 46 preguntas y sus respectivas respuestas.  "
      ],
      "metadata": {
        "id": "eSz2Yj9iiK9e"
      }
    },
    {
      "cell_type": "markdown",
      "source": [
        "<font color='red'>**NOTA: Elegir el metodo de uso de los csv que nos resulte mas comodo**: dropbox/github/otro</font> (el -O es para que siempre sobreescriba el archivo aunque se vuelva a correr). Lo mismo para todos los csv."
      ],
      "metadata": {
        "id": "S7mWzyvl-fVp"
      }
    },
    {
      "cell_type": "code",
      "source": [
        "#!wget https://www.dropbox.com/s/9zty4fuh8boofda/tablaQA.csv\n",
        "!wget https://raw.githubusercontent.com/alvaro-neira/nlp-homework2/main/tablaQA.csv -O /content/tablaQA.csv"
      ],
      "metadata": {
        "colab": {
          "base_uri": "https://localhost:8080/"
        },
        "id": "b_fdDPowbPzD",
        "outputId": "18c176cc-d9ac-4c16-f8e6-6c81e5d05ca8"
      },
      "execution_count": 13,
      "outputs": [
        {
          "output_type": "stream",
          "name": "stdout",
          "text": [
            "--2021-12-30 16:57:08--  https://raw.githubusercontent.com/alvaro-neira/nlp-homework2/main/tablaQA.csv\n",
            "Resolving raw.githubusercontent.com (raw.githubusercontent.com)... 185.199.110.133, 185.199.108.133, 185.199.109.133, ...\n",
            "Connecting to raw.githubusercontent.com (raw.githubusercontent.com)|185.199.110.133|:443... connected.\n",
            "HTTP request sent, awaiting response... 200 OK\n",
            "Length: 14591 (14K) [text/plain]\n",
            "Saving to: ‘/content/tablaQA.csv’\n",
            "\n",
            "\r/content/tablaQA.cs   0%[                    ]       0  --.-KB/s               \r/content/tablaQA.cs 100%[===================>]  14.25K  --.-KB/s    in 0s      \n",
            "\n",
            "2021-12-30 16:57:08 (79.6 MB/s) - ‘/content/tablaQA.csv’ saved [14591/14591]\n",
            "\n"
          ]
        }
      ]
    },
    {
      "cell_type": "code",
      "source": [
        "import pandas as pd\n",
        "qa = pd.read_csv('/content/tablaQA.csv', sep='\\t')\n",
        "qa.head()"
      ],
      "metadata": {
        "colab": {
          "base_uri": "https://localhost:8080/",
          "height": 206
        },
        "id": "Bw2lQ44cbjYa",
        "outputId": "092c39a6-2019-43d8-c0a2-8d21a26602fe"
      },
      "execution_count": 14,
      "outputs": [
        {
          "output_type": "execute_result",
          "data": {
            "text/html": [
              "\n",
              "  <div id=\"df-94c8b863-fd8c-4703-84d3-69d0833063ed\">\n",
              "    <div class=\"colab-df-container\">\n",
              "      <div>\n",
              "<style scoped>\n",
              "    .dataframe tbody tr th:only-of-type {\n",
              "        vertical-align: middle;\n",
              "    }\n",
              "\n",
              "    .dataframe tbody tr th {\n",
              "        vertical-align: top;\n",
              "    }\n",
              "\n",
              "    .dataframe thead th {\n",
              "        text-align: right;\n",
              "    }\n",
              "</style>\n",
              "<table border=\"1\" class=\"dataframe\">\n",
              "  <thead>\n",
              "    <tr style=\"text-align: right;\">\n",
              "      <th></th>\n",
              "      <th>Pregunta</th>\n",
              "      <th>Respuesta</th>\n",
              "    </tr>\n",
              "  </thead>\n",
              "  <tbody>\n",
              "    <tr>\n",
              "      <th>0</th>\n",
              "      <td>¿Qué es la Orden de Transporte (OT)?</td>\n",
              "      <td>La Orden de Transporte (OT) es el número asoci...</td>\n",
              "    </tr>\n",
              "    <tr>\n",
              "      <th>1</th>\n",
              "      <td>¿Cuál es el plazo para retirar un envío desde ...</td>\n",
              "      <td>El plazo para retirar un envío desde una sucur...</td>\n",
              "    </tr>\n",
              "    <tr>\n",
              "      <th>2</th>\n",
              "      <td>¿Puede otra persona retirar mi envío de una su...</td>\n",
              "      <td>Para que una persona que no es el destinatario...</td>\n",
              "    </tr>\n",
              "    <tr>\n",
              "      <th>3</th>\n",
              "      <td>¿Se puede modificar la dirección de envío?</td>\n",
              "      <td>Sí, el cambio puede ser solicitado por el remi...</td>\n",
              "    </tr>\n",
              "    <tr>\n",
              "      <th>4</th>\n",
              "      <td>¿Puedo cambiar el destino del envío desde una ...</td>\n",
              "      <td>Sí, el cambio puede ser solicitado por el remi...</td>\n",
              "    </tr>\n",
              "  </tbody>\n",
              "</table>\n",
              "</div>\n",
              "      <button class=\"colab-df-convert\" onclick=\"convertToInteractive('df-94c8b863-fd8c-4703-84d3-69d0833063ed')\"\n",
              "              title=\"Convert this dataframe to an interactive table.\"\n",
              "              style=\"display:none;\">\n",
              "        \n",
              "  <svg xmlns=\"http://www.w3.org/2000/svg\" height=\"24px\"viewBox=\"0 0 24 24\"\n",
              "       width=\"24px\">\n",
              "    <path d=\"M0 0h24v24H0V0z\" fill=\"none\"/>\n",
              "    <path d=\"M18.56 5.44l.94 2.06.94-2.06 2.06-.94-2.06-.94-.94-2.06-.94 2.06-2.06.94zm-11 1L8.5 8.5l.94-2.06 2.06-.94-2.06-.94L8.5 2.5l-.94 2.06-2.06.94zm10 10l.94 2.06.94-2.06 2.06-.94-2.06-.94-.94-2.06-.94 2.06-2.06.94z\"/><path d=\"M17.41 7.96l-1.37-1.37c-.4-.4-.92-.59-1.43-.59-.52 0-1.04.2-1.43.59L10.3 9.45l-7.72 7.72c-.78.78-.78 2.05 0 2.83L4 21.41c.39.39.9.59 1.41.59.51 0 1.02-.2 1.41-.59l7.78-7.78 2.81-2.81c.8-.78.8-2.07 0-2.86zM5.41 20L4 18.59l7.72-7.72 1.47 1.35L5.41 20z\"/>\n",
              "  </svg>\n",
              "      </button>\n",
              "      \n",
              "  <style>\n",
              "    .colab-df-container {\n",
              "      display:flex;\n",
              "      flex-wrap:wrap;\n",
              "      gap: 12px;\n",
              "    }\n",
              "\n",
              "    .colab-df-convert {\n",
              "      background-color: #E8F0FE;\n",
              "      border: none;\n",
              "      border-radius: 50%;\n",
              "      cursor: pointer;\n",
              "      display: none;\n",
              "      fill: #1967D2;\n",
              "      height: 32px;\n",
              "      padding: 0 0 0 0;\n",
              "      width: 32px;\n",
              "    }\n",
              "\n",
              "    .colab-df-convert:hover {\n",
              "      background-color: #E2EBFA;\n",
              "      box-shadow: 0px 1px 2px rgba(60, 64, 67, 0.3), 0px 1px 3px 1px rgba(60, 64, 67, 0.15);\n",
              "      fill: #174EA6;\n",
              "    }\n",
              "\n",
              "    [theme=dark] .colab-df-convert {\n",
              "      background-color: #3B4455;\n",
              "      fill: #D2E3FC;\n",
              "    }\n",
              "\n",
              "    [theme=dark] .colab-df-convert:hover {\n",
              "      background-color: #434B5C;\n",
              "      box-shadow: 0px 1px 3px 1px rgba(0, 0, 0, 0.15);\n",
              "      filter: drop-shadow(0px 1px 2px rgba(0, 0, 0, 0.3));\n",
              "      fill: #FFFFFF;\n",
              "    }\n",
              "  </style>\n",
              "\n",
              "      <script>\n",
              "        const buttonEl =\n",
              "          document.querySelector('#df-94c8b863-fd8c-4703-84d3-69d0833063ed button.colab-df-convert');\n",
              "        buttonEl.style.display =\n",
              "          google.colab.kernel.accessAllowed ? 'block' : 'none';\n",
              "\n",
              "        async function convertToInteractive(key) {\n",
              "          const element = document.querySelector('#df-94c8b863-fd8c-4703-84d3-69d0833063ed');\n",
              "          const dataTable =\n",
              "            await google.colab.kernel.invokeFunction('convertToInteractive',\n",
              "                                                     [key], {});\n",
              "          if (!dataTable) return;\n",
              "\n",
              "          const docLinkHtml = 'Like what you see? Visit the ' +\n",
              "            '<a target=\"_blank\" href=https://colab.research.google.com/notebooks/data_table.ipynb>data table notebook</a>'\n",
              "            + ' to learn more about interactive tables.';\n",
              "          element.innerHTML = '';\n",
              "          dataTable['output_type'] = 'display_data';\n",
              "          await google.colab.output.renderOutput(dataTable, element);\n",
              "          const docLink = document.createElement('div');\n",
              "          docLink.innerHTML = docLinkHtml;\n",
              "          element.appendChild(docLink);\n",
              "        }\n",
              "      </script>\n",
              "    </div>\n",
              "  </div>\n",
              "  "
            ],
            "text/plain": [
              "                                            Pregunta                                          Respuesta\n",
              "0               ¿Qué es la Orden de Transporte (OT)?  La Orden de Transporte (OT) es el número asoci...\n",
              "1  ¿Cuál es el plazo para retirar un envío desde ...  El plazo para retirar un envío desde una sucur...\n",
              "2  ¿Puede otra persona retirar mi envío de una su...  Para que una persona que no es el destinatario...\n",
              "3         ¿Se puede modificar la dirección de envío?  Sí, el cambio puede ser solicitado por el remi...\n",
              "4  ¿Puedo cambiar el destino del envío desde una ...  Sí, el cambio puede ser solicitado por el remi..."
            ]
          },
          "metadata": {},
          "execution_count": 14
        }
      ]
    },
    {
      "cell_type": "code",
      "source": [
        "qa.info()"
      ],
      "metadata": {
        "colab": {
          "base_uri": "https://localhost:8080/"
        },
        "id": "BdgNtDGyb608",
        "outputId": "c8f511bc-4b84-4780-b6e0-6839a753573f"
      },
      "execution_count": 15,
      "outputs": [
        {
          "output_type": "stream",
          "name": "stdout",
          "text": [
            "<class 'pandas.core.frame.DataFrame'>\n",
            "RangeIndex: 46 entries, 0 to 45\n",
            "Data columns (total 2 columns):\n",
            " #   Column     Non-Null Count  Dtype \n",
            "---  ------     --------------  ----- \n",
            " 0   Pregunta   46 non-null     object\n",
            " 1   Respuesta  46 non-null     object\n",
            "dtypes: object(2)\n",
            "memory usage: 864.0+ bytes\n"
          ]
        }
      ]
    },
    {
      "cell_type": "markdown",
      "source": [
        "## 1.3 Genere una tabla (tiposmensajes.xls) con ejemplos de las siguientes clases de mensaje: \"saludo\", \"despedida\", \"nombre\", \"informacion\""
      ],
      "metadata": {
        "id": "Dxd1ZhwnGBzn"
      }
    },
    {
      "cell_type": "markdown",
      "source": [
        "La siguiente tabla corresponde a las preguntas de la sección QA de Chilexpress con la clase \"informacion\" y se han inventado los ejemplos de las clases \"saludo\", \"despedida\" y \"nombre\"."
      ],
      "metadata": {
        "id": "tsoGoFPcN6bb"
      }
    },
    {
      "cell_type": "code",
      "source": [
        "#!wget https://www.dropbox.com/s/wqmpjpdin6jmp3a/tiposmensajes.csv\n",
        "!wget https://raw.githubusercontent.com/alvaro-neira/nlp-homework2/main/tiposmensajes.csv -O /content/tiposmensajes.csv"
      ],
      "metadata": {
        "colab": {
          "base_uri": "https://localhost:8080/"
        },
        "id": "igsR0QmXN3d8",
        "outputId": "342dde77-2778-4313-e68a-a6810c33501a"
      },
      "execution_count": 16,
      "outputs": [
        {
          "output_type": "stream",
          "name": "stdout",
          "text": [
            "--2021-12-30 16:57:08--  https://raw.githubusercontent.com/alvaro-neira/nlp-homework2/main/tiposmensajes.csv\n",
            "Resolving raw.githubusercontent.com (raw.githubusercontent.com)... 185.199.108.133, 185.199.109.133, 185.199.110.133, ...\n",
            "Connecting to raw.githubusercontent.com (raw.githubusercontent.com)|185.199.108.133|:443... connected.\n",
            "HTTP request sent, awaiting response... 200 OK\n",
            "Length: 4983 (4.9K) [text/plain]\n",
            "Saving to: ‘/content/tiposmensajes.csv’\n",
            "\n",
            "/content/tiposmensa 100%[===================>]   4.87K  --.-KB/s    in 0s      \n",
            "\n",
            "2021-12-30 16:57:08 (60.4 MB/s) - ‘/content/tiposmensajes.csv’ saved [4983/4983]\n",
            "\n"
          ]
        }
      ]
    },
    {
      "cell_type": "code",
      "source": [
        "messages = pd.read_csv('/content/tiposmensajes.csv', sep=';')\n",
        "messages.head(50)"
      ],
      "metadata": {
        "colab": {
          "base_uri": "https://localhost:8080/",
          "height": 1000
        },
        "id": "SfaFFiPLOD85",
        "outputId": "79f17985-a8d3-479d-804c-7e522ba2ebd4"
      },
      "execution_count": 17,
      "outputs": [
        {
          "output_type": "execute_result",
          "data": {
            "text/html": [
              "\n",
              "  <div id=\"df-1c2fa780-e3c5-4e39-ab7c-0045a43deaa0\">\n",
              "    <div class=\"colab-df-container\">\n",
              "      <div>\n",
              "<style scoped>\n",
              "    .dataframe tbody tr th:only-of-type {\n",
              "        vertical-align: middle;\n",
              "    }\n",
              "\n",
              "    .dataframe tbody tr th {\n",
              "        vertical-align: top;\n",
              "    }\n",
              "\n",
              "    .dataframe thead th {\n",
              "        text-align: right;\n",
              "    }\n",
              "</style>\n",
              "<table border=\"1\" class=\"dataframe\">\n",
              "  <thead>\n",
              "    <tr style=\"text-align: right;\">\n",
              "      <th></th>\n",
              "      <th>Clase</th>\n",
              "      <th>Mensaje</th>\n",
              "    </tr>\n",
              "  </thead>\n",
              "  <tbody>\n",
              "    <tr>\n",
              "      <th>0</th>\n",
              "      <td>saludo</td>\n",
              "      <td>Hola</td>\n",
              "    </tr>\n",
              "    <tr>\n",
              "      <th>1</th>\n",
              "      <td>saludo</td>\n",
              "      <td>Buenas noches</td>\n",
              "    </tr>\n",
              "    <tr>\n",
              "      <th>2</th>\n",
              "      <td>saludo</td>\n",
              "      <td>Buenos días</td>\n",
              "    </tr>\n",
              "    <tr>\n",
              "      <th>3</th>\n",
              "      <td>saludo</td>\n",
              "      <td>Buen día</td>\n",
              "    </tr>\n",
              "    <tr>\n",
              "      <th>4</th>\n",
              "      <td>saludo</td>\n",
              "      <td>Buenas tardes</td>\n",
              "    </tr>\n",
              "    <tr>\n",
              "      <th>5</th>\n",
              "      <td>saludo</td>\n",
              "      <td>Buena tarde</td>\n",
              "    </tr>\n",
              "    <tr>\n",
              "      <th>6</th>\n",
              "      <td>saludo</td>\n",
              "      <td>¿Cómo estás?</td>\n",
              "    </tr>\n",
              "    <tr>\n",
              "      <th>7</th>\n",
              "      <td>saludo</td>\n",
              "      <td>¿Cómo está?</td>\n",
              "    </tr>\n",
              "    <tr>\n",
              "      <th>8</th>\n",
              "      <td>saludo</td>\n",
              "      <td>¿Cómo se encuentra hoy?</td>\n",
              "    </tr>\n",
              "    <tr>\n",
              "      <th>9</th>\n",
              "      <td>saludo</td>\n",
              "      <td>¿Cómo te encuentras hoy?</td>\n",
              "    </tr>\n",
              "    <tr>\n",
              "      <th>10</th>\n",
              "      <td>saludo</td>\n",
              "      <td>Hola, robot</td>\n",
              "    </tr>\n",
              "    <tr>\n",
              "      <th>11</th>\n",
              "      <td>saludo</td>\n",
              "      <td>Encantado</td>\n",
              "    </tr>\n",
              "    <tr>\n",
              "      <th>12</th>\n",
              "      <td>saludo</td>\n",
              "      <td>Un gusto saludar</td>\n",
              "    </tr>\n",
              "    <tr>\n",
              "      <th>13</th>\n",
              "      <td>saludo</td>\n",
              "      <td>Un gusto</td>\n",
              "    </tr>\n",
              "    <tr>\n",
              "      <th>14</th>\n",
              "      <td>despedida</td>\n",
              "      <td>Chao</td>\n",
              "    </tr>\n",
              "    <tr>\n",
              "      <th>15</th>\n",
              "      <td>despedida</td>\n",
              "      <td>Adiós</td>\n",
              "    </tr>\n",
              "    <tr>\n",
              "      <th>16</th>\n",
              "      <td>despedida</td>\n",
              "      <td>Hasta luego</td>\n",
              "    </tr>\n",
              "    <tr>\n",
              "      <th>17</th>\n",
              "      <td>despedida</td>\n",
              "      <td>Nos vemos</td>\n",
              "    </tr>\n",
              "    <tr>\n",
              "      <th>18</th>\n",
              "      <td>despedida</td>\n",
              "      <td>Que tenga buen día</td>\n",
              "    </tr>\n",
              "    <tr>\n",
              "      <th>19</th>\n",
              "      <td>despedida</td>\n",
              "      <td>Que tenga un buen día</td>\n",
              "    </tr>\n",
              "    <tr>\n",
              "      <th>20</th>\n",
              "      <td>despedida</td>\n",
              "      <td>Que tengas buen día</td>\n",
              "    </tr>\n",
              "    <tr>\n",
              "      <th>21</th>\n",
              "      <td>despedida</td>\n",
              "      <td>Que tengas un buen día</td>\n",
              "    </tr>\n",
              "    <tr>\n",
              "      <th>22</th>\n",
              "      <td>despedida</td>\n",
              "      <td>¡Que esté bien!</td>\n",
              "    </tr>\n",
              "    <tr>\n",
              "      <th>23</th>\n",
              "      <td>despedida</td>\n",
              "      <td>¡Que esté muy bien!</td>\n",
              "    </tr>\n",
              "    <tr>\n",
              "      <th>24</th>\n",
              "      <td>despedida</td>\n",
              "      <td>¡Que estés bien!</td>\n",
              "    </tr>\n",
              "    <tr>\n",
              "      <th>25</th>\n",
              "      <td>despedida</td>\n",
              "      <td>¡Que estés muy bien!</td>\n",
              "    </tr>\n",
              "    <tr>\n",
              "      <th>26</th>\n",
              "      <td>despedida</td>\n",
              "      <td>Un saludo</td>\n",
              "    </tr>\n",
              "    <tr>\n",
              "      <th>27</th>\n",
              "      <td>despedida</td>\n",
              "      <td>Gracias!</td>\n",
              "    </tr>\n",
              "    <tr>\n",
              "      <th>28</th>\n",
              "      <td>despedida</td>\n",
              "      <td>Ha sido un gusto</td>\n",
              "    </tr>\n",
              "    <tr>\n",
              "      <th>29</th>\n",
              "      <td>nombre</td>\n",
              "      <td>Mi nombre es</td>\n",
              "    </tr>\n",
              "    <tr>\n",
              "      <th>30</th>\n",
              "      <td>nombre</td>\n",
              "      <td>Mi usuario es</td>\n",
              "    </tr>\n",
              "    <tr>\n",
              "      <th>31</th>\n",
              "      <td>nombre</td>\n",
              "      <td>Yo soy</td>\n",
              "    </tr>\n",
              "    <tr>\n",
              "      <th>32</th>\n",
              "      <td>nombre</td>\n",
              "      <td>Me llamo</td>\n",
              "    </tr>\n",
              "    <tr>\n",
              "      <th>33</th>\n",
              "      <td>nombre</td>\n",
              "      <td>Soy</td>\n",
              "    </tr>\n",
              "    <tr>\n",
              "      <th>34</th>\n",
              "      <td>nombre</td>\n",
              "      <td>Permítame presentarme, soy</td>\n",
              "    </tr>\n",
              "    <tr>\n",
              "      <th>35</th>\n",
              "      <td>nombre</td>\n",
              "      <td>Permíteme presentarme, soy</td>\n",
              "    </tr>\n",
              "    <tr>\n",
              "      <th>36</th>\n",
              "      <td>nombre</td>\n",
              "      <td>Uso el nombre</td>\n",
              "    </tr>\n",
              "    <tr>\n",
              "      <th>37</th>\n",
              "      <td>nombre</td>\n",
              "      <td>Puede llamarme</td>\n",
              "    </tr>\n",
              "    <tr>\n",
              "      <th>38</th>\n",
              "      <td>nombre</td>\n",
              "      <td>Me llaman</td>\n",
              "    </tr>\n",
              "    <tr>\n",
              "      <th>39</th>\n",
              "      <td>nombre</td>\n",
              "      <td>Mi dato nombre es</td>\n",
              "    </tr>\n",
              "    <tr>\n",
              "      <th>40</th>\n",
              "      <td>nombre</td>\n",
              "      <td>Mi nombre completo es</td>\n",
              "    </tr>\n",
              "    <tr>\n",
              "      <th>41</th>\n",
              "      <td>nombre</td>\n",
              "      <td>Mi seudonimo es</td>\n",
              "    </tr>\n",
              "    <tr>\n",
              "      <th>42</th>\n",
              "      <td>nombre</td>\n",
              "      <td>Mi pseudonimo es</td>\n",
              "    </tr>\n",
              "    <tr>\n",
              "      <th>43</th>\n",
              "      <td>nombre</td>\n",
              "      <td>Mi apellido es</td>\n",
              "    </tr>\n",
              "    <tr>\n",
              "      <th>44</th>\n",
              "      <td>nombre</td>\n",
              "      <td>Mi nombre y apellido son</td>\n",
              "    </tr>\n",
              "    <tr>\n",
              "      <th>45</th>\n",
              "      <td>nombre</td>\n",
              "      <td>Mi nombre y apellido es</td>\n",
              "    </tr>\n",
              "    <tr>\n",
              "      <th>46</th>\n",
              "      <td>información</td>\n",
              "      <td>¿Qué es la Orden de Transporte (OT)?</td>\n",
              "    </tr>\n",
              "    <tr>\n",
              "      <th>47</th>\n",
              "      <td>información</td>\n",
              "      <td>¿Cuál es el plazo para retirar un envío desde ...</td>\n",
              "    </tr>\n",
              "    <tr>\n",
              "      <th>48</th>\n",
              "      <td>información</td>\n",
              "      <td>¿Puede otra persona retirar mi envío de una su...</td>\n",
              "    </tr>\n",
              "    <tr>\n",
              "      <th>49</th>\n",
              "      <td>información</td>\n",
              "      <td>¿Se puede modificar la dirección de envío?</td>\n",
              "    </tr>\n",
              "  </tbody>\n",
              "</table>\n",
              "</div>\n",
              "      <button class=\"colab-df-convert\" onclick=\"convertToInteractive('df-1c2fa780-e3c5-4e39-ab7c-0045a43deaa0')\"\n",
              "              title=\"Convert this dataframe to an interactive table.\"\n",
              "              style=\"display:none;\">\n",
              "        \n",
              "  <svg xmlns=\"http://www.w3.org/2000/svg\" height=\"24px\"viewBox=\"0 0 24 24\"\n",
              "       width=\"24px\">\n",
              "    <path d=\"M0 0h24v24H0V0z\" fill=\"none\"/>\n",
              "    <path d=\"M18.56 5.44l.94 2.06.94-2.06 2.06-.94-2.06-.94-.94-2.06-.94 2.06-2.06.94zm-11 1L8.5 8.5l.94-2.06 2.06-.94-2.06-.94L8.5 2.5l-.94 2.06-2.06.94zm10 10l.94 2.06.94-2.06 2.06-.94-2.06-.94-.94-2.06-.94 2.06-2.06.94z\"/><path d=\"M17.41 7.96l-1.37-1.37c-.4-.4-.92-.59-1.43-.59-.52 0-1.04.2-1.43.59L10.3 9.45l-7.72 7.72c-.78.78-.78 2.05 0 2.83L4 21.41c.39.39.9.59 1.41.59.51 0 1.02-.2 1.41-.59l7.78-7.78 2.81-2.81c.8-.78.8-2.07 0-2.86zM5.41 20L4 18.59l7.72-7.72 1.47 1.35L5.41 20z\"/>\n",
              "  </svg>\n",
              "      </button>\n",
              "      \n",
              "  <style>\n",
              "    .colab-df-container {\n",
              "      display:flex;\n",
              "      flex-wrap:wrap;\n",
              "      gap: 12px;\n",
              "    }\n",
              "\n",
              "    .colab-df-convert {\n",
              "      background-color: #E8F0FE;\n",
              "      border: none;\n",
              "      border-radius: 50%;\n",
              "      cursor: pointer;\n",
              "      display: none;\n",
              "      fill: #1967D2;\n",
              "      height: 32px;\n",
              "      padding: 0 0 0 0;\n",
              "      width: 32px;\n",
              "    }\n",
              "\n",
              "    .colab-df-convert:hover {\n",
              "      background-color: #E2EBFA;\n",
              "      box-shadow: 0px 1px 2px rgba(60, 64, 67, 0.3), 0px 1px 3px 1px rgba(60, 64, 67, 0.15);\n",
              "      fill: #174EA6;\n",
              "    }\n",
              "\n",
              "    [theme=dark] .colab-df-convert {\n",
              "      background-color: #3B4455;\n",
              "      fill: #D2E3FC;\n",
              "    }\n",
              "\n",
              "    [theme=dark] .colab-df-convert:hover {\n",
              "      background-color: #434B5C;\n",
              "      box-shadow: 0px 1px 3px 1px rgba(0, 0, 0, 0.15);\n",
              "      filter: drop-shadow(0px 1px 2px rgba(0, 0, 0, 0.3));\n",
              "      fill: #FFFFFF;\n",
              "    }\n",
              "  </style>\n",
              "\n",
              "      <script>\n",
              "        const buttonEl =\n",
              "          document.querySelector('#df-1c2fa780-e3c5-4e39-ab7c-0045a43deaa0 button.colab-df-convert');\n",
              "        buttonEl.style.display =\n",
              "          google.colab.kernel.accessAllowed ? 'block' : 'none';\n",
              "\n",
              "        async function convertToInteractive(key) {\n",
              "          const element = document.querySelector('#df-1c2fa780-e3c5-4e39-ab7c-0045a43deaa0');\n",
              "          const dataTable =\n",
              "            await google.colab.kernel.invokeFunction('convertToInteractive',\n",
              "                                                     [key], {});\n",
              "          if (!dataTable) return;\n",
              "\n",
              "          const docLinkHtml = 'Like what you see? Visit the ' +\n",
              "            '<a target=\"_blank\" href=https://colab.research.google.com/notebooks/data_table.ipynb>data table notebook</a>'\n",
              "            + ' to learn more about interactive tables.';\n",
              "          element.innerHTML = '';\n",
              "          dataTable['output_type'] = 'display_data';\n",
              "          await google.colab.output.renderOutput(dataTable, element);\n",
              "          const docLink = document.createElement('div');\n",
              "          docLink.innerHTML = docLinkHtml;\n",
              "          element.appendChild(docLink);\n",
              "        }\n",
              "      </script>\n",
              "    </div>\n",
              "  </div>\n",
              "  "
            ],
            "text/plain": [
              "          Clase                                            Mensaje\n",
              "0        saludo                                               Hola\n",
              "1        saludo                                      Buenas noches\n",
              "2        saludo                                        Buenos días\n",
              "3        saludo                                           Buen día\n",
              "4        saludo                                      Buenas tardes\n",
              "5        saludo                                        Buena tarde\n",
              "6        saludo                                       ¿Cómo estás?\n",
              "7        saludo                                        ¿Cómo está?\n",
              "8        saludo                            ¿Cómo se encuentra hoy?\n",
              "9        saludo                           ¿Cómo te encuentras hoy?\n",
              "10       saludo                                        Hola, robot\n",
              "11       saludo                                          Encantado\n",
              "12       saludo                                   Un gusto saludar\n",
              "13       saludo                                           Un gusto\n",
              "14    despedida                                               Chao\n",
              "15    despedida                                              Adiós\n",
              "16    despedida                                        Hasta luego\n",
              "17    despedida                                          Nos vemos\n",
              "18    despedida                                 Que tenga buen día\n",
              "19    despedida                              Que tenga un buen día\n",
              "20    despedida                                Que tengas buen día\n",
              "21    despedida                             Que tengas un buen día\n",
              "22    despedida                                    ¡Que esté bien!\n",
              "23    despedida                                ¡Que esté muy bien!\n",
              "24    despedida                                   ¡Que estés bien!\n",
              "25    despedida                               ¡Que estés muy bien!\n",
              "26    despedida                                          Un saludo\n",
              "27    despedida                                           Gracias!\n",
              "28    despedida                                   Ha sido un gusto\n",
              "29       nombre                                       Mi nombre es\n",
              "30       nombre                                      Mi usuario es\n",
              "31       nombre                                             Yo soy\n",
              "32       nombre                                           Me llamo\n",
              "33       nombre                                                Soy\n",
              "34       nombre                         Permítame presentarme, soy\n",
              "35       nombre                         Permíteme presentarme, soy\n",
              "36       nombre                                      Uso el nombre\n",
              "37       nombre                                     Puede llamarme\n",
              "38       nombre                                          Me llaman\n",
              "39       nombre                                  Mi dato nombre es\n",
              "40       nombre                              Mi nombre completo es\n",
              "41       nombre                                    Mi seudonimo es\n",
              "42       nombre                                   Mi pseudonimo es\n",
              "43       nombre                                     Mi apellido es\n",
              "44       nombre                           Mi nombre y apellido son\n",
              "45       nombre                            Mi nombre y apellido es\n",
              "46  información               ¿Qué es la Orden de Transporte (OT)?\n",
              "47  información  ¿Cuál es el plazo para retirar un envío desde ...\n",
              "48  información  ¿Puede otra persona retirar mi envío de una su...\n",
              "49  información         ¿Se puede modificar la dirección de envío?"
            ]
          },
          "metadata": {},
          "execution_count": 17
        }
      ]
    },
    {
      "cell_type": "markdown",
      "source": [
        "## 1.4 Genere respuestas predeterminadas (respuestasDefecto.xls) para los mensajes de tipo \"saludo\", \"despedida\", \"nombre\""
      ],
      "metadata": {
        "id": "ozGp6P_TGU0r"
      }
    },
    {
      "cell_type": "markdown",
      "source": [
        "Se generan respuestas por defecto para cada clase que hemos inventado, de esta forma, Eva puede responder a una pregunta de esta clase con una de las respuestas de esta lista. "
      ],
      "metadata": {
        "id": "n8152WqnQWdh"
      }
    },
    {
      "cell_type": "code",
      "source": [
        "#!wget https://www.dropbox.com/s/kukxrqpjxi0l4ei/respuestasDefecto.csv\n",
        "!wget https://raw.githubusercontent.com/alvaro-neira/nlp-homework2/main/respuestasDefecto.csv -O /content/respuestasDefecto.csv"
      ],
      "metadata": {
        "colab": {
          "base_uri": "https://localhost:8080/"
        },
        "id": "bXuKEL2SP8PT",
        "outputId": "1f153db3-c2d1-4c4d-de7f-45c8e8f2f5c2"
      },
      "execution_count": 18,
      "outputs": [
        {
          "output_type": "stream",
          "name": "stdout",
          "text": [
            "--2021-12-30 16:57:08--  https://raw.githubusercontent.com/alvaro-neira/nlp-homework2/main/respuestasDefecto.csv\n",
            "Resolving raw.githubusercontent.com (raw.githubusercontent.com)... 185.199.110.133, 185.199.109.133, 185.199.108.133, ...\n",
            "Connecting to raw.githubusercontent.com (raw.githubusercontent.com)|185.199.110.133|:443... connected.\n",
            "HTTP request sent, awaiting response... 200 OK\n",
            "Length: 2281 (2.2K) [text/plain]\n",
            "Saving to: ‘/content/respuestasDefecto.csv’\n",
            "\n",
            "\r          /content/   0%[                    ]       0  --.-KB/s               \r/content/respuestas 100%[===================>]   2.23K  --.-KB/s    in 0s      \n",
            "\n",
            "2021-12-30 16:57:09 (49.4 MB/s) - ‘/content/respuestasDefecto.csv’ saved [2281/2281]\n",
            "\n"
          ]
        }
      ]
    },
    {
      "cell_type": "code",
      "source": [
        "answers = pd.read_csv('/content/respuestasDefecto.csv', sep=';')\n",
        "answers.head()"
      ],
      "metadata": {
        "colab": {
          "base_uri": "https://localhost:8080/",
          "height": 206
        },
        "id": "FsGsYLnTQ9Ya",
        "outputId": "0880867c-917f-45c9-f274-36dc36367763"
      },
      "execution_count": 19,
      "outputs": [
        {
          "output_type": "execute_result",
          "data": {
            "text/html": [
              "\n",
              "  <div id=\"df-ee27b2c6-9491-4427-9aad-cfa2c2cb82ce\">\n",
              "    <div class=\"colab-df-container\">\n",
              "      <div>\n",
              "<style scoped>\n",
              "    .dataframe tbody tr th:only-of-type {\n",
              "        vertical-align: middle;\n",
              "    }\n",
              "\n",
              "    .dataframe tbody tr th {\n",
              "        vertical-align: top;\n",
              "    }\n",
              "\n",
              "    .dataframe thead th {\n",
              "        text-align: right;\n",
              "    }\n",
              "</style>\n",
              "<table border=\"1\" class=\"dataframe\">\n",
              "  <thead>\n",
              "    <tr style=\"text-align: right;\">\n",
              "      <th></th>\n",
              "      <th>Clase</th>\n",
              "      <th>Mensaje</th>\n",
              "    </tr>\n",
              "  </thead>\n",
              "  <tbody>\n",
              "    <tr>\n",
              "      <th>0</th>\n",
              "      <td>saludo</td>\n",
              "      <td>Hola, ¿en qué puedo ayudarte?</td>\n",
              "    </tr>\n",
              "    <tr>\n",
              "      <th>1</th>\n",
              "      <td>saludo</td>\n",
              "      <td>Hola, ¿en qué puedo ayudarlo?</td>\n",
              "    </tr>\n",
              "    <tr>\n",
              "      <th>2</th>\n",
              "      <td>saludo</td>\n",
              "      <td>Hola, cuéntame qué necesitas</td>\n",
              "    </tr>\n",
              "    <tr>\n",
              "      <th>3</th>\n",
              "      <td>saludo</td>\n",
              "      <td>Hola, cuénteme qué necesita</td>\n",
              "    </tr>\n",
              "    <tr>\n",
              "      <th>4</th>\n",
              "      <td>saludo</td>\n",
              "      <td>Hola, cuéntame en qué puedo ayudarte</td>\n",
              "    </tr>\n",
              "  </tbody>\n",
              "</table>\n",
              "</div>\n",
              "      <button class=\"colab-df-convert\" onclick=\"convertToInteractive('df-ee27b2c6-9491-4427-9aad-cfa2c2cb82ce')\"\n",
              "              title=\"Convert this dataframe to an interactive table.\"\n",
              "              style=\"display:none;\">\n",
              "        \n",
              "  <svg xmlns=\"http://www.w3.org/2000/svg\" height=\"24px\"viewBox=\"0 0 24 24\"\n",
              "       width=\"24px\">\n",
              "    <path d=\"M0 0h24v24H0V0z\" fill=\"none\"/>\n",
              "    <path d=\"M18.56 5.44l.94 2.06.94-2.06 2.06-.94-2.06-.94-.94-2.06-.94 2.06-2.06.94zm-11 1L8.5 8.5l.94-2.06 2.06-.94-2.06-.94L8.5 2.5l-.94 2.06-2.06.94zm10 10l.94 2.06.94-2.06 2.06-.94-2.06-.94-.94-2.06-.94 2.06-2.06.94z\"/><path d=\"M17.41 7.96l-1.37-1.37c-.4-.4-.92-.59-1.43-.59-.52 0-1.04.2-1.43.59L10.3 9.45l-7.72 7.72c-.78.78-.78 2.05 0 2.83L4 21.41c.39.39.9.59 1.41.59.51 0 1.02-.2 1.41-.59l7.78-7.78 2.81-2.81c.8-.78.8-2.07 0-2.86zM5.41 20L4 18.59l7.72-7.72 1.47 1.35L5.41 20z\"/>\n",
              "  </svg>\n",
              "      </button>\n",
              "      \n",
              "  <style>\n",
              "    .colab-df-container {\n",
              "      display:flex;\n",
              "      flex-wrap:wrap;\n",
              "      gap: 12px;\n",
              "    }\n",
              "\n",
              "    .colab-df-convert {\n",
              "      background-color: #E8F0FE;\n",
              "      border: none;\n",
              "      border-radius: 50%;\n",
              "      cursor: pointer;\n",
              "      display: none;\n",
              "      fill: #1967D2;\n",
              "      height: 32px;\n",
              "      padding: 0 0 0 0;\n",
              "      width: 32px;\n",
              "    }\n",
              "\n",
              "    .colab-df-convert:hover {\n",
              "      background-color: #E2EBFA;\n",
              "      box-shadow: 0px 1px 2px rgba(60, 64, 67, 0.3), 0px 1px 3px 1px rgba(60, 64, 67, 0.15);\n",
              "      fill: #174EA6;\n",
              "    }\n",
              "\n",
              "    [theme=dark] .colab-df-convert {\n",
              "      background-color: #3B4455;\n",
              "      fill: #D2E3FC;\n",
              "    }\n",
              "\n",
              "    [theme=dark] .colab-df-convert:hover {\n",
              "      background-color: #434B5C;\n",
              "      box-shadow: 0px 1px 3px 1px rgba(0, 0, 0, 0.15);\n",
              "      filter: drop-shadow(0px 1px 2px rgba(0, 0, 0, 0.3));\n",
              "      fill: #FFFFFF;\n",
              "    }\n",
              "  </style>\n",
              "\n",
              "      <script>\n",
              "        const buttonEl =\n",
              "          document.querySelector('#df-ee27b2c6-9491-4427-9aad-cfa2c2cb82ce button.colab-df-convert');\n",
              "        buttonEl.style.display =\n",
              "          google.colab.kernel.accessAllowed ? 'block' : 'none';\n",
              "\n",
              "        async function convertToInteractive(key) {\n",
              "          const element = document.querySelector('#df-ee27b2c6-9491-4427-9aad-cfa2c2cb82ce');\n",
              "          const dataTable =\n",
              "            await google.colab.kernel.invokeFunction('convertToInteractive',\n",
              "                                                     [key], {});\n",
              "          if (!dataTable) return;\n",
              "\n",
              "          const docLinkHtml = 'Like what you see? Visit the ' +\n",
              "            '<a target=\"_blank\" href=https://colab.research.google.com/notebooks/data_table.ipynb>data table notebook</a>'\n",
              "            + ' to learn more about interactive tables.';\n",
              "          element.innerHTML = '';\n",
              "          dataTable['output_type'] = 'display_data';\n",
              "          await google.colab.output.renderOutput(dataTable, element);\n",
              "          const docLink = document.createElement('div');\n",
              "          docLink.innerHTML = docLinkHtml;\n",
              "          element.appendChild(docLink);\n",
              "        }\n",
              "      </script>\n",
              "    </div>\n",
              "  </div>\n",
              "  "
            ],
            "text/plain": [
              "    Clase                               Mensaje\n",
              "0  saludo         Hola, ¿en qué puedo ayudarte?\n",
              "1  saludo         Hola, ¿en qué puedo ayudarlo?\n",
              "2  saludo          Hola, cuéntame qué necesitas\n",
              "3  saludo           Hola, cuénteme qué necesita\n",
              "4  saludo  Hola, cuéntame en qué puedo ayudarte"
            ]
          },
          "metadata": {},
          "execution_count": 19
        }
      ]
    },
    {
      "cell_type": "markdown",
      "source": [
        "## 1.5 Describa en términos generales las tablas que construyó."
      ],
      "metadata": {
        "id": "kjLZLGDTGvZ6"
      }
    },
    {
      "cell_type": "markdown",
      "source": [
        "\n",
        "\n",
        "*   Tabla QA: Se construyó en base a las preguntas y respuestas del centro de ayuda de Chilexpress https://centrodeayuda.chilexpress.cl/home . Se extrajo cada pregunta y respuesta de cada categoría (Envíos Nacionales, Envíos y retiros en App, Envíos internacionales, Giros en Chile y el mundo, Atención en sucursal, Cuenta empresa) y se eliminaron las preguntas repetidas. \n",
        "*   Tipos de mensajes: se construyó con mensajes tipo de saludo, despedida y nombre. Para la informacion se utilizó las preguntas obtenidas en la Tabla QA.\n",
        "*   Respuestas por defecto: se construyó con respuestas tipo de saludo, despedida y nombre de nuestro bot Eva.\n",
        "\n"
      ],
      "metadata": {
        "id": "DFkQxa-iRYcr"
      }
    },
    {
      "cell_type": "markdown",
      "source": [
        "# 2. Análisis de distancia"
      ],
      "metadata": {
        "id": "kQCgD-fNFWZ3"
      }
    },
    {
      "cell_type": "markdown",
      "source": [
        "Para el primer chatbot utilizará una métrica de su elección para responder\n",
        "a cada pregunta/texto del usuario."
      ],
      "metadata": {
        "id": "I9aCVeAjG6-j"
      }
    },
    {
      "cell_type": "markdown",
      "source": [
        "## 2.1 Utilice algún embeddings utilizado en el curso para codificar el texto de entrada"
      ],
      "metadata": {
        "id": "lJat6tmEG-_g"
      }
    },
    {
      "cell_type": "markdown",
      "source": [
        "### 2.1.1 Word2Vec"
      ],
      "metadata": {
        "id": "QkpU-dumwfg9"
      }
    },
    {
      "cell_type": "markdown",
      "source": [
        "El embedding utilizado para codificar el texto de entrada es Wor2Vec. Para ello, primero se preprocesa con un normalizador y un tokenizador. "
      ],
      "metadata": {
        "id": "4AWmpjo8RUVM"
      }
    },
    {
      "cell_type": "code",
      "source": [
        "import nltk\n",
        "import gensim\n",
        "import re\n",
        "import pandas as pd\n",
        "import sklearn\n",
        "import numpy as np\n",
        "\n",
        "import sklearn.linear_model\n",
        "import sklearn.model_selection\n",
        "from sklearn.svm import LinearSVC\n",
        "from sklearn.pipeline import make_pipeline\n",
        "from sklearn.preprocessing import StandardScaler"
      ],
      "metadata": {
        "id": "bwY8pldbS2_u"
      },
      "execution_count": 20,
      "outputs": []
    },
    {
      "cell_type": "code",
      "source": [
        "def normalizer(text): #normalizes a given string to lowercase and changes all vowels to their base form\n",
        "    text = text.lower() #string lowering\n",
        "    text = re.sub(r'[^A-Za-zñáéíóú]', ' ', text) #replaces every punctuation with a space\n",
        "    text = re.sub('á', 'a', text) #replaces special vowels to their base forms\n",
        "    text = re.sub('é', 'e', text)\n",
        "    text = re.sub('í', 'i', text)\n",
        "    text = re.sub('ó', 'o', text)\n",
        "    text = re.sub('ú', 'u', text)\n",
        "    return text\n",
        "\n",
        "def preprocessor(text):\n",
        "  text = normalizer(text)\n",
        "  tokens = nltk.tokenize.casual_tokenize(text)\n",
        "  #if len(tokens)==1:\n",
        "  #  tokens=text\n",
        "  return tokens\n",
        "\n",
        "def vectorizer(text, model): #returns a vector representation from a list of words and a given model\n",
        "    vectors = []\n",
        "    for i in text:\n",
        "        try:\n",
        "            vectors.append(model.wv[i])\n",
        "        except:\n",
        "            pass\n",
        "    return(np.nan_to_num(np.mean(vectors,axis=0)))"
      ],
      "metadata": {
        "id": "QJJ5MgBsS8Ca"
      },
      "execution_count": 21,
      "outputs": []
    },
    {
      "cell_type": "code",
      "source": [
        "corpus = messages.Mensaje.tolist()\n",
        "corpus_preprocessed = list(map(preprocessor,corpus))\n"
      ],
      "metadata": {
        "id": "NfZYkhRoU0-F"
      },
      "execution_count": 22,
      "outputs": []
    },
    {
      "cell_type": "code",
      "source": [
        "word2vec_model = gensim.models.word2vec.Word2Vec(sentences = corpus_preprocessed, min_count=1)"
      ],
      "metadata": {
        "id": "EaEAIqHFbMF0"
      },
      "execution_count": 23,
      "outputs": []
    },
    {
      "cell_type": "markdown",
      "source": [
        "## 2.2 Con el texto de entrada codificado y usando embeddings proponga una manera de identificar la clase del texto de entrada."
      ],
      "metadata": {
        "id": "acCU7jNxHFUN"
      }
    },
    {
      "cell_type": "markdown",
      "source": [
        "Se define la función para predecir la clase del texto de entrada. "
      ],
      "metadata": {
        "id": "jfbC9lB9X2NA"
      }
    },
    {
      "cell_type": "code",
      "source": [
        "def predict_class(question):\n",
        "  tokens = preprocessor(question)\n",
        "  vector = vectorizer(tokens, word2vec_model).reshape(1, -1)\n",
        "  return clf.predict(vector)"
      ],
      "metadata": {
        "id": "W89Jfer1xd4D"
      },
      "execution_count": 24,
      "outputs": []
    },
    {
      "cell_type": "markdown",
      "source": [
        "### 2.2.1 Word2Vec"
      ],
      "metadata": {
        "id": "oc9gAcTAnL-x"
      }
    },
    {
      "cell_type": "markdown",
      "source": [
        "Se ajusta el modelo con los mensajes preprocesados. "
      ],
      "metadata": {
        "id": "kPEv9q58YNoX"
      }
    },
    {
      "cell_type": "code",
      "source": [
        "features = np.zeros(shape=(len(messages), word2vec_model.wv.vectors.shape[1]))\n",
        "for i,msg in enumerate(messages.Mensaje):\n",
        "  features[i,:] = vectorizer(preprocessor(msg), word2vec_model)\n",
        "\n",
        "cv_results = sklearn.model_selection.cross_validate(sklearn.linear_model.LogisticRegression(max_iter=10000),features,messages.Clase)\n",
        "cv_results[\"test_score\"].mean()"
      ],
      "metadata": {
        "colab": {
          "base_uri": "https://localhost:8080/"
        },
        "id": "NIRKBuHyVV8k",
        "outputId": "98b7253e-5389-4535-cf11-dbf5a8439ce7"
      },
      "execution_count": 25,
      "outputs": [
        {
          "output_type": "execute_result",
          "data": {
            "text/plain": [
              "0.5"
            ]
          },
          "metadata": {},
          "execution_count": 25
        }
      ]
    },
    {
      "cell_type": "code",
      "source": [
        "clf = make_pipeline(StandardScaler(),LinearSVC(random_state=0, tol=1e-5))\n",
        "clf.fit(features,np.array(messages.Clase))"
      ],
      "metadata": {
        "colab": {
          "base_uri": "https://localhost:8080/"
        },
        "id": "gPDU514jYCkB",
        "outputId": "e6915609-2ae9-4898-8d2c-971163feaf94"
      },
      "execution_count": 26,
      "outputs": [
        {
          "output_type": "execute_result",
          "data": {
            "text/plain": [
              "Pipeline(steps=[('standardscaler', StandardScaler()),\n",
              "                ('linearsvc', LinearSVC(random_state=0, tol=1e-05))])"
            ]
          },
          "metadata": {},
          "execution_count": 26
        }
      ]
    },
    {
      "cell_type": "markdown",
      "source": [
        "Ejemplo de las preguntas y las clases obtenidas para cada una de ellas con el modelo. "
      ],
      "metadata": {
        "id": "llcuMh-HZSgP"
      }
    },
    {
      "cell_type": "code",
      "source": [
        "print(predict_class('¿Sólo las empresas pueden tener una cuenta con Chilexpress?'))\n",
        "print(predict_class('Mi nombre es'))\n",
        "print(predict_class('hola buenas'))\n",
        "print(predict_class('hola'))\n",
        "print(predict_class('¿puedo retirar un giro de dinero?'))\n",
        "print(predict_class('Puede otra persona retirar mi pedido'))\n",
        "print(predict_class('hasta luego'))\n",
        "print(predict_class('adios'))"
      ],
      "metadata": {
        "colab": {
          "base_uri": "https://localhost:8080/"
        },
        "id": "FCXJ9dgVYZtF",
        "outputId": "0d1dd99e-4c47-4c6c-86d6-bc4b698bf920"
      },
      "execution_count": 27,
      "outputs": [
        {
          "output_type": "stream",
          "name": "stdout",
          "text": [
            "['información']\n",
            "['nombre']\n",
            "['saludo']\n",
            "['saludo']\n",
            "['información']\n",
            "['información']\n",
            "['despedida']\n",
            "['despedida']\n"
          ]
        }
      ]
    },
    {
      "cell_type": "markdown",
      "source": [
        "## 2.3 Si el texto de entrada es del tipo \"informacion”, busque ahora la pregunta mas similar y retorne la respuesta asociada."
      ],
      "metadata": {
        "id": "PXxNCsxwHKKi"
      }
    },
    {
      "cell_type": "markdown",
      "source": [
        "Primero, se preprocesa el texto de la misma forma que en el punto anterior, pero se agrega la eliminación de stopwords. "
      ],
      "metadata": {
        "id": "IHjSd69QZeNY"
      }
    },
    {
      "cell_type": "code",
      "source": [
        "import nltk\n",
        "\n",
        "nltk.download('punkt')\n",
        "nltk.download('stopwords')"
      ],
      "metadata": {
        "colab": {
          "base_uri": "https://localhost:8080/"
        },
        "id": "bdfwR9NXFP_n",
        "outputId": "484286ec-4a24-4ba3-cfa5-218922ea01a5"
      },
      "execution_count": null,
      "outputs": [
        {
          "output_type": "stream",
          "name": "stdout",
          "text": [
            "[nltk_data] Downloading package punkt to /root/nltk_data...\n",
            "[nltk_data]   Unzipping tokenizers/punkt.zip.\n",
            "[nltk_data] Downloading package stopwords to /root/nltk_data...\n",
            "[nltk_data]   Unzipping corpora/stopwords.zip.\n"
          ]
        },
        {
          "output_type": "execute_result",
          "data": {
            "text/plain": [
              "True"
            ]
          },
          "metadata": {},
          "execution_count": 20
        }
      ]
    },
    {
      "cell_type": "code",
      "source": [
        "pattern = r\"\"\"(?x)                   # set flag to allow verbose regexps\n",
        "              (?:[A-Z]\\.)+           # abbreviations, e.g. U.S.A.\n",
        "              |\\$?\\d+(?:[.,]\\d+)?%?  # numbers, incl. currency and percentages\n",
        "              |\\w+(?:[-']\\w+)*       # words w/ optional internal hyphens/apostrophe\n",
        "              |(?:[+/\\-@&*¡!.,])     # special characters with meanings\n",
        "            \"\"\"\n",
        "\n",
        "def normalizer(text, remove_tildes = True): #normalizes a given string to lowercase and changes all vowels to their base form\n",
        "    text = text.lower() #string lowering\n",
        "    text = re.sub(r'[^A-Za-zñáéíóú]', ' ', text) #replaces every punctuation with a space\n",
        "    text = nltk.regexp_tokenize(text, pattern)\n",
        "    text = ' '.join(text)\n",
        "    if remove_tildes:\n",
        "        text = re.sub('á', 'a', text) #replaces special vowels to their base forms\n",
        "        text = re.sub('é', 'e', text)\n",
        "        text = re.sub('í', 'i', text)\n",
        "        text = re.sub('ó', 'o', text)\n",
        "        text = re.sub('ú', 'u', text)\n",
        "    return text"
      ],
      "metadata": {
        "id": "w6K8S1c2FTta"
      },
      "execution_count": null,
      "outputs": []
    },
    {
      "cell_type": "code",
      "source": [
        "nltk_stopwords = nltk.corpus.stopwords.words('spanish')\n",
        "stopwords_normalized = [normalizer(word) for word in nltk_stopwords]\n",
        "\n",
        "def no_stopwords(processed):\n",
        "  '''\n",
        "  Función para eliminar las stopwords de un texto\n",
        "  '''\n",
        "  result = []\n",
        "  for w in processed:\n",
        "    if w not in stopwords_normalized:\n",
        "      result.append(w)\n",
        "\n",
        "  return result"
      ],
      "metadata": {
        "id": "wN1jmmTLFV-1"
      },
      "execution_count": null,
      "outputs": []
    },
    {
      "cell_type": "code",
      "source": [
        "corpus_question = qa.Pregunta.tolist()\n",
        "questions_processed = []\n",
        "for question in corpus_question:\n",
        "  pre = preprocessor(question)\n",
        "  pre = no_stopwords(pre)\n",
        "  questions_processed.append(' '.join(pre))"
      ],
      "metadata": {
        "id": "tM67W7T_FYM7"
      },
      "execution_count": null,
      "outputs": []
    },
    {
      "cell_type": "markdown",
      "source": [
        "Ejemplo de las preguntas preprocesadas."
      ],
      "metadata": {
        "id": "KEGXhxBwa10P"
      }
    },
    {
      "cell_type": "code",
      "source": [
        "questions_processed[:5]"
      ],
      "metadata": {
        "colab": {
          "base_uri": "https://localhost:8080/"
        },
        "id": "OfPhj4aqL6B0",
        "outputId": "b89f4761-f9e9-4874-cb3d-44b2a7dc3607"
      },
      "execution_count": null,
      "outputs": [
        {
          "output_type": "execute_result",
          "data": {
            "text/plain": [
              "['orden transporte ot',\n",
              " 'plazo retirar envio sucursal chilexpress',\n",
              " 'puede persona retirar envio sucursal chilexpress',\n",
              " 'puede modificar direccion envio',\n",
              " 'puedo cambiar destino envio direccion particular sucursal chilexpress']"
            ]
          },
          "metadata": {},
          "execution_count": 24
        }
      ]
    },
    {
      "cell_type": "markdown",
      "source": [
        "En esta sección se realiza una modificación del modelo Word2Vec para utilizar Doc2Vec para identificar la pregunta en la base de datos que sea más similar a la que se ha preguntado.\n",
        "\n",
        "ref: https://www.linkedin.com/pulse/how-find-semantic-similar-sentences-from-your-dataset-jayaraman/"
      ],
      "metadata": {
        "id": "e6WE5mvJFk_E"
      }
    },
    {
      "cell_type": "code",
      "source": [
        "# <1 min\n",
        "from gensim.models.doc2vec import Doc2Vec, TaggedDocument\n",
        "from nltk.tokenize import word_tokenize\n",
        "\n",
        "tagged_data = [TaggedDocument(words=word_tokenize(_d.lower()), tags=[str(i)]) for i, _d in enumerate(questions_processed)]\n",
        "\n",
        "# hyper parameters\n",
        "max_epochs = 2000\n",
        "vec_size = 200\n",
        "alpha = 0.1\n",
        "minimum_alpha = 0.025\n",
        "reduce_alpha = 0.002\n",
        "\n",
        "model = Doc2Vec(vector_size=vec_size,\n",
        "                alpha=alpha, \n",
        "                min_alpha=minimum_alpha,\n",
        "                dm =1)\n",
        "model.build_vocab(tagged_data)\n",
        "\n",
        "# Train the model based on epochs parameter\n",
        "for epoch in range(max_epochs):\n",
        "    model.train(tagged_data,\n",
        "                total_examples=model.corpus_count,\n",
        "                epochs=model.iter)\n",
        "\n",
        "# Save model. \n",
        "model.save(\"similar_sentence.model3\")"
      ],
      "metadata": {
        "colab": {
          "base_uri": "https://localhost:8080/"
        },
        "id": "gYAF66wrFi2F",
        "outputId": "3908182a-98f3-4fca-8fad-1d278f6184b7"
      },
      "execution_count": null,
      "outputs": [
        {
          "output_type": "stream",
          "name": "stderr",
          "text": [
            "/usr/local/lib/python3.7/dist-packages/ipykernel_launcher.py:24: DeprecationWarning: Call to deprecated `iter` (Attribute will be removed in 4.0.0, use self.epochs instead).\n"
          ]
        }
      ]
    },
    {
      "cell_type": "code",
      "source": [
        "model= Doc2Vec.load(\"similar_sentence.model3\")\n",
        "\n",
        "def best_five_answers(question):\n",
        "  tokens = preprocessor(question)\n",
        "  tokens = no_stopwords(tokens)\n",
        "  vector = model.infer_vector(tokens)\n",
        "  most_similar = model.docvecs.most_similar([vector]) \n",
        "  answers = qa.Respuesta.tolist()\n",
        "  print(tokens)\n",
        "  for index,value in most_similar[:5]:\n",
        "    print('---------')\n",
        "    print(corpus_question[int(index)])\n",
        "    print(questions_processed[int(index)])\n",
        "    print(answers[int(index)])\n",
        "    print('---------')\n",
        "\n",
        "def best_answers(question):\n",
        "  tokens = preprocessor(question)\n",
        "  tokens = no_stopwords(tokens)\n",
        "  vector = model.infer_vector(tokens)\n",
        "  most_similar = model.docvecs.most_similar([vector]) \n",
        "  answers = qa.Respuesta.tolist()\n",
        "  for index,value in most_similar[:1]:\n",
        "    print(corpus_question[int(index)])\n",
        "    print(answers[int(index)])"
      ],
      "metadata": {
        "id": "tdb-cRQcFovJ"
      },
      "execution_count": null,
      "outputs": []
    },
    {
      "cell_type": "markdown",
      "source": [
        "Algunos ejemplos de las preguntas realizadas y las 5 primeras identificaciones en la base de datos (par pregunta-respuesta). "
      ],
      "metadata": {
        "id": "LEPN0IIpGhTt"
      }
    },
    {
      "cell_type": "code",
      "source": [
        "best_five_answers('¿Qué es la Orden de Transporte (OT)?')"
      ],
      "metadata": {
        "colab": {
          "base_uri": "https://localhost:8080/"
        },
        "id": "xj45VnaqFu5Q",
        "outputId": "b2cae1ad-56b1-4804-f812-4b61d111a428"
      },
      "execution_count": null,
      "outputs": [
        {
          "output_type": "stream",
          "name": "stdout",
          "text": [
            "['orden', 'transporte', 'ot']\n",
            "---------\n",
            "¿Cuál es el costo mínimo mensual de la cuenta empresa Chilexpress?\n",
            "costo minimo mensual cuenta empresa chilexpress\n",
            "La cuenta empresa Chilexpress no tiene costo, sólo debes tener un movimiento mínimo de 1 UF mensual. En caso contrario, se facturará dicha cantidad.\n",
            "---------\n",
            "---------\n",
            "¿Cómo puedo abrir una cuenta empresa con Chilexpress?\n",
            "puedo abrir cuenta empresa chilexpress\n",
            "Para abrir una cuenta empresa debes registrarte completando el formulario en la sección Quiero Ser Cliente de nuestro Portal Empresas. La cuenta no tiene costo, sólo debes tener un movimiento mínimo de 1 UF mensual, en caso contrario se facturará esa cantidad.\n",
            "---------\n",
            "---------\n",
            "¿Cómo obtengo mi usuario y contraseña de cliente empresa Chilexpress?\n",
            "obtengo usuario contraseña cliente empresa chilexpress\n",
            "Para obtener el usuario debes registrarte con el RUT de la empresa, así el administrador habilita tu usuario. Cuando eso ocurra, te enviaremos un correo electrónico con tu contraseña. Si olvidas tu contraseña, puedes solicitar una nueva en el Portal Empresas en www.chilexpress.cl\n",
            "---------\n",
            "---------\n",
            "¿Cuánto tiempo tarda en ser habilitada mi cuenta empresa Chilexpress?\n",
            "cuanto tiempo tarda ser habilitada cuenta empresa chilexpress\n",
            "La cuenta Chilexpress se habilita, aproximadamente, después de 4 días hábiles.\n",
            "---------\n",
            "---------\n",
            "¿Cuántas veces al mes se facturan los envíos realizados a través de la cuenta empresa Chilexpress?\n",
            "cuantas veces mes facturan envios realizados traves cuenta empresa chilexpress\n",
            "Los envíos se facturan una vez al mes el primer día hábil del mes siguiente. La factura y el detalle estará cargado a través del Portal Empresa a partir del tercer día hábil del mes.\n",
            "---------\n"
          ]
        }
      ]
    },
    {
      "cell_type": "code",
      "source": [
        "best_five_answers('¿Qué es un envío sobredimensionado?')"
      ],
      "metadata": {
        "colab": {
          "base_uri": "https://localhost:8080/"
        },
        "id": "7SlEeQ5jFw6L",
        "outputId": "a2515104-81d4-4e3e-8152-ec53fa47cd30"
      },
      "execution_count": null,
      "outputs": [
        {
          "output_type": "stream",
          "name": "stdout",
          "text": [
            "['envio', 'sobredimensionado']\n",
            "---------\n",
            "Si el destinatario no se encuentra en la dirección de envío, ¿puede recibirlo otra persona?\n",
            "destinatario encuentra direccion envio puede recibirlo persona\n",
            "Sí, puede recibirlo cualquier persona adulta que esté en el domicilio, indicando su Rut y su nombre.\n",
            "---------\n",
            "---------\n",
            "¿El destinatario puede cambiar la dirección del envío?\n",
            "destinatario puede cambiar direccion envio\n",
            "No es posible. Sin embargo, si un envío no puede ser entregado en la dirección de destino original, el destinatario podrá solicitar que sea derivado a una sucursal Chilexpress ubicada en la misma comuna del despacho original.\n",
            "---------\n",
            "---------\n",
            "¿Qué pasa si el destinatario no puede recibir el envío en su dirección?\n",
            "pasa destinatario puede recibir envio direccion\n",
            "Chilexpress realiza dos intentos de entrega en el domicilio, en dos días hábiles y horarios distintos, los que son notificados al destinatario mediante un email. Si no se puede efectuar la entrega, el envío será devuelto al remitente.\n",
            "---------\n",
            "---------\n",
            "¿Cuáles son los plazos de entrega asociados a un envío internacional?\n",
            "cuales plazos entrega asociados envio internacional\n",
            "Los plazos de entrega varían según el lugar de destino. Estos varían de entre 4 días hábiles, a 8 días hábiles dependiendo del país y ciudad al que se desee exportar o importar. Es importante también considerar, que las retenciones asociadas a falta de información, documentación o condiciones aduaneras, podrían extender estos plazos.\n",
            "---------\n",
            "---------\n",
            "¿Qué es un envío sobredimensionado?\n",
            "envio sobredimensionado\n",
            "Es toda encomienda que no cumpla el estándar establecido por Chilexpress, ya que posee una o más de las siguientes características: tiene un embalaje irregular, pesa más de 50 kilos y sobrepasa alguna de estas tres medidas: 1,2 metros (largo) x 0,8 metros (ancho) x 0,8 metros (alto). Puedes revisar las sucursales disponibles para estos envíos en la sección Sucursales en www.chilexpress.cl\n",
            "---------\n"
          ]
        }
      ]
    },
    {
      "cell_type": "markdown",
      "source": [
        "## 2.4 Reporte el resultado con textos de prueba."
      ],
      "metadata": {
        "id": "ccIjPIjmHSwx"
      }
    },
    {
      "cell_type": "markdown",
      "source": [
        "Se indican los siguientes ejemplos utilizando el modelo Doc2Vec (modificación de Word2Vec)."
      ],
      "metadata": {
        "id": "3JVJavMmGw9W"
      }
    },
    {
      "cell_type": "code",
      "source": [
        "print('¿Sólo las empresas pueden tener una cuenta con Chilexpress?')\n",
        "print(best_answers('¿Sólo las empresas pueden tener una cuenta con Chilexpress?'))\n",
        "print('¿puedo retirar un giro de dinero?')\n",
        "print(best_answers('¿puedo retirar un giro de dinero?'))\n",
        "print('Puede otra persona retirar mi pedido')\n",
        "print(best_answers('Puede otra persona retirar mi pedido'))\n",
        "print('¿Qué es la Orden de Transporte (OT)?')\n",
        "print(best_answers('¿Qué es la Orden de Transporte (OT)?'))\n",
        "print('¿Qué es un envío sobredimensionado?')\n",
        "print(best_answers('¿Qué es un envío sobredimensionado?'))\n",
        "print('¿Quién ganará la próxima elección?')\n",
        "print(best_answers('¿Quién ganará la próxima elección?'))"
      ],
      "metadata": {
        "colab": {
          "base_uri": "https://localhost:8080/"
        },
        "id": "IHG6xHecjw3Q",
        "outputId": "2eced8f8-d3c4-48a2-e3d0-9c7f92ab9461"
      },
      "execution_count": null,
      "outputs": [
        {
          "output_type": "stream",
          "name": "stdout",
          "text": [
            "¿Sólo las empresas pueden tener una cuenta con Chilexpress?\n",
            "¿Cómo obtengo mi usuario y contraseña de cliente empresa Chilexpress?\n",
            "Para obtener el usuario debes registrarte con el RUT de la empresa, así el administrador habilita tu usuario. Cuando eso ocurra, te enviaremos un correo electrónico con tu contraseña. Si olvidas tu contraseña, puedes solicitar una nueva en el Portal Empresas en www.chilexpress.cl\n",
            "None\n",
            "¿puedo retirar un giro de dinero?\n",
            "Si hice un Giro online y no he recibido el MTCN, ¿puedo solicitarlo por teléfono?\n",
            "Si no recibiste tu MTCN vía SMS o por correo electrónico ahora puedes conocer el estado, historial y número de MTCN de todos tus envíos de dinero en la sección Mis Giros en www.chilexpress.cl\n",
            "None\n",
            "Puede otra persona retirar mi pedido\n",
            "¿Cuánto tiempo tarda en ser habilitada mi cuenta empresa Chilexpress?\n",
            "La cuenta Chilexpress se habilita, aproximadamente, después de 4 días hábiles.\n",
            "None\n",
            "¿Qué es la Orden de Transporte (OT)?\n",
            "¿Cuál es el costo mínimo mensual de la cuenta empresa Chilexpress?\n",
            "La cuenta empresa Chilexpress no tiene costo, sólo debes tener un movimiento mínimo de 1 UF mensual. En caso contrario, se facturará dicha cantidad.\n",
            "None\n",
            "¿Qué es un envío sobredimensionado?\n",
            "¿Puedo cobrar un giro en cualquier sucursal de Chilexpress?\n",
            "No, sólo en las sucursales Chilexpress con sistema Western Union. Si eres el destinatario, deberás presentar tu documento de identificación junto al número de MTCN. Puedes revisar las sucursales que tienen el servicio giros disponible en www.chilexpress.cl\n",
            "None\n",
            "¿Quién ganará la próxima elección?\n",
            "¿Cuáles son los medios de pago de los servicios online?\n",
            "Cuando utilizas un servicio online en www.chilexpress.cl, puedes pagar con tarjetas de crédito, débito o transferencia electrónica.\n",
            "None\n"
          ]
        }
      ]
    },
    {
      "cell_type": "markdown",
      "source": [
        "# 3. Análisis transformer "
      ],
      "metadata": {
        "id": "6Iqr3LsaFezF"
      }
    },
    {
      "cell_type": "markdown",
      "source": [
        "Para el segundo chatbot utilice un transformer (por ejemplo BERT)."
      ],
      "metadata": {
        "id": "iv-Oe3aiGA9H"
      }
    },
    {
      "cell_type": "code",
      "source": [
        "!pip install transformers\n",
        "from transformers import pipeline, AutoTokenizer, Trainer, TrainingArguments, AutoModel, AutoModelForSequenceClassification"
      ],
      "metadata": {
        "colab": {
          "base_uri": "https://localhost:8080/"
        },
        "id": "9LAo5hNNQV7P",
        "outputId": "72cbb4f0-5d52-4afc-c0b8-ac7d1dc732c9"
      },
      "execution_count": null,
      "outputs": [
        {
          "output_type": "stream",
          "name": "stdout",
          "text": [
            "Collecting transformers\n",
            "  Downloading transformers-4.15.0-py3-none-any.whl (3.4 MB)\n",
            "\u001b[K     |████████████████████████████████| 3.4 MB 4.2 MB/s \n",
            "\u001b[?25hCollecting pyyaml>=5.1\n",
            "  Downloading PyYAML-6.0-cp37-cp37m-manylinux_2_5_x86_64.manylinux1_x86_64.manylinux_2_12_x86_64.manylinux2010_x86_64.whl (596 kB)\n",
            "\u001b[K     |████████████████████████████████| 596 kB 56.4 MB/s \n",
            "\u001b[?25hRequirement already satisfied: packaging>=20.0 in /usr/local/lib/python3.7/dist-packages (from transformers) (21.3)\n",
            "Requirement already satisfied: tqdm>=4.27 in /usr/local/lib/python3.7/dist-packages (from transformers) (4.62.3)\n",
            "Collecting tokenizers<0.11,>=0.10.1\n",
            "  Downloading tokenizers-0.10.3-cp37-cp37m-manylinux_2_5_x86_64.manylinux1_x86_64.manylinux_2_12_x86_64.manylinux2010_x86_64.whl (3.3 MB)\n",
            "\u001b[K     |████████████████████████████████| 3.3 MB 77.5 MB/s \n",
            "\u001b[?25hRequirement already satisfied: numpy>=1.17 in /usr/local/lib/python3.7/dist-packages (from transformers) (1.19.5)\n",
            "Collecting sacremoses\n",
            "  Downloading sacremoses-0.0.46-py3-none-any.whl (895 kB)\n",
            "\u001b[K     |████████████████████████████████| 895 kB 70.9 MB/s \n",
            "\u001b[?25hRequirement already satisfied: requests in /usr/local/lib/python3.7/dist-packages (from transformers) (2.23.0)\n",
            "Collecting huggingface-hub<1.0,>=0.1.0\n",
            "  Downloading huggingface_hub-0.2.1-py3-none-any.whl (61 kB)\n",
            "\u001b[K     |████████████████████████████████| 61 kB 625 kB/s \n",
            "\u001b[?25hRequirement already satisfied: importlib-metadata in /usr/local/lib/python3.7/dist-packages (from transformers) (4.8.2)\n",
            "Requirement already satisfied: filelock in /usr/local/lib/python3.7/dist-packages (from transformers) (3.4.0)\n",
            "Requirement already satisfied: regex!=2019.12.17 in /usr/local/lib/python3.7/dist-packages (from transformers) (2019.12.20)\n",
            "Requirement already satisfied: typing-extensions>=3.7.4.3 in /usr/local/lib/python3.7/dist-packages (from huggingface-hub<1.0,>=0.1.0->transformers) (3.10.0.2)\n",
            "Requirement already satisfied: pyparsing!=3.0.5,>=2.0.2 in /usr/local/lib/python3.7/dist-packages (from packaging>=20.0->transformers) (3.0.6)\n",
            "Requirement already satisfied: zipp>=0.5 in /usr/local/lib/python3.7/dist-packages (from importlib-metadata->transformers) (3.6.0)\n",
            "Requirement already satisfied: idna<3,>=2.5 in /usr/local/lib/python3.7/dist-packages (from requests->transformers) (2.10)\n",
            "Requirement already satisfied: chardet<4,>=3.0.2 in /usr/local/lib/python3.7/dist-packages (from requests->transformers) (3.0.4)\n",
            "Requirement already satisfied: certifi>=2017.4.17 in /usr/local/lib/python3.7/dist-packages (from requests->transformers) (2021.10.8)\n",
            "Requirement already satisfied: urllib3!=1.25.0,!=1.25.1,<1.26,>=1.21.1 in /usr/local/lib/python3.7/dist-packages (from requests->transformers) (1.24.3)\n",
            "Requirement already satisfied: six in /usr/local/lib/python3.7/dist-packages (from sacremoses->transformers) (1.15.0)\n",
            "Requirement already satisfied: joblib in /usr/local/lib/python3.7/dist-packages (from sacremoses->transformers) (1.1.0)\n",
            "Requirement already satisfied: click in /usr/local/lib/python3.7/dist-packages (from sacremoses->transformers) (7.1.2)\n",
            "Installing collected packages: pyyaml, tokenizers, sacremoses, huggingface-hub, transformers\n",
            "  Attempting uninstall: pyyaml\n",
            "    Found existing installation: PyYAML 3.13\n",
            "    Uninstalling PyYAML-3.13:\n",
            "      Successfully uninstalled PyYAML-3.13\n",
            "Successfully installed huggingface-hub-0.2.1 pyyaml-6.0 sacremoses-0.0.46 tokenizers-0.10.3 transformers-4.15.0\n"
          ]
        }
      ]
    },
    {
      "cell_type": "markdown",
      "source": [
        "## 3.1 Utilice el modelo transformer para clasificar el texto de entrada, y para extraer la respuesta de la tabla de preguntas y respuestas cuando el mensaje sea del tipo “informacion”."
      ],
      "metadata": {
        "id": "imXEWWfaHdCI"
      }
    },
    {
      "cell_type": "markdown",
      "source": [
        "### 3.1.1 Clasificador"
      ],
      "metadata": {
        "id": "dzWlnz4R3RPa"
      }
    },
    {
      "cell_type": "markdown",
      "source": [
        "ref: https://benjad.github.io/2020/08/04/clasificador-sentimiento-BERT/"
      ],
      "metadata": {
        "id": "eXFrT1szHASg"
      }
    },
    {
      "cell_type": "code",
      "source": [
        "import torch\n",
        "from transformers import  BertTokenizer\n",
        "from torch.utils.data import TensorDataset\n",
        "from torch.utils.data import DataLoader, SequentialSampler\n",
        "from transformers import BertForSequenceClassification, AdamW\n",
        "from transformers import get_linear_schedule_with_warmup\n",
        "from sklearn.model_selection import train_test_split\n",
        "import torch.optim\n",
        "import numpy as np\n",
        "import pandas as pd\n",
        "import time\n",
        "import datetime\n",
        "import random\n",
        "from sklearn.metrics import confusion_matrix\n"
      ],
      "metadata": {
        "id": "xCB4EQ-qjuxi"
      },
      "execution_count": null,
      "outputs": []
    },
    {
      "cell_type": "code",
      "source": [
        "# Select cpu or cuda\n",
        "run_on = 'cpu'\n",
        "device = torch.device(run_on)\n",
        "\n",
        "# Load the dataset into a pandas dataframe.\n",
        "messages['class'] = messages['Clase'].map({'informacion':0, 'nombre':1, 'saludo':2, 'despedida':3,})\n",
        "clase = messages['class']\n",
        "mensaje = messages['Mensaje']\n",
        "\n",
        "# Split dataset\n",
        "X_train, X_val, y_train, y_val = train_test_split(mensaje, \n",
        "clase, stratify=clase, test_size=0.2, random_state=42)\n",
        "\n",
        "# Report datasets lenghts\n",
        "print('Training set length : {}'.format(len(X_train)))\n",
        "print('Validation set length : {}'.format(len(X_val)))"
      ],
      "metadata": {
        "colab": {
          "base_uri": "https://localhost:8080/"
        },
        "id": "gxjYePsJxAEO",
        "outputId": "7f5c3f2c-4ba9-431e-848c-7bc9d16b3bc5"
      },
      "execution_count": null,
      "outputs": [
        {
          "output_type": "stream",
          "name": "stdout",
          "text": [
            "Training set length : 65\n",
            "Validation set length : 17\n"
          ]
        }
      ]
    },
    {
      "cell_type": "code",
      "source": [
        "# < 2 min\n",
        "# Tokenization  \n",
        "!pip install urllib3==1.25.10\n",
        "!rm -rf transformers\n",
        "!git clone https://github.com/huggingface/transformers \\\n",
        "&& cd transformers \\\n",
        "&& git checkout a3085020ed0d81d4903c50967687192e3101e770\n",
        "\n",
        "!pip install transformers\n",
        "!wget https://users.dcc.uchile.cl/~jperez/beto/cased_2M/pytorch_weights.tar.gz \n",
        "!wget https://users.dcc.uchile.cl/~jperez/beto/cased_2M/vocab.txt \n",
        "!wget https://users.dcc.uchile.cl/~jperez/beto/cased_2M/config.json \n",
        "!tar -xzvf pytorch_weights.tar.gz\n",
        "!mv config.json pytorch/.\n",
        "!mv vocab.txt pytorch/.\n",
        "\n",
        "tokenizer = BertTokenizer.from_pretrained(\"pytorch/\", do_lower_case=True)\n",
        "\n",
        "# tokenizer = BertTokenizer.from_pretrained(\"pytorch/\",\n",
        "#             do_lower_case=True)\n",
        "# tokenizer=('mrm8488/distill-bert-base-spanish-wwm-cased-finetuned-spa-squad2-es', {\"use_fast\": False})\n",
        "\n",
        "def preprocessing(dataset):\n",
        "    input_ids = []\n",
        "    attention_mask = []\n",
        "    for doc in dataset:\n",
        "        encoded_doc = tokenizer.encode_plus(doc,\n",
        "                   add_special_tokens=True, max_length=115,\n",
        "                   truncation=True,pad_to_max_length=True)\n",
        "        input_ids.append(encoded_doc['input_ids'])\n",
        "        attention_mask.append(encoded_doc['attention_mask'])\n",
        "    return (torch.tensor(input_ids),\n",
        "           torch.tensor(attention_mask))\n",
        "\n",
        "# Apply preprocessing to dataset\n",
        "X_train_inputs, X_train_masks = preprocessing(X_train)\n",
        "X_val_inputs, X_val_masks = preprocessing(X_val)\n",
        "\n",
        "# Report max n° tokens in a sentence\n",
        "max_len = max([torch.sum(sen) for sen in X_train_masks])\n",
        "print('Max n°tokens in a sentence: {0}'.format(max_len))"
      ],
      "metadata": {
        "colab": {
          "base_uri": "https://localhost:8080/",
          "height": 1000
        },
        "id": "rLbHp0dHB5Nj",
        "outputId": "b1cf979e-6c28-4a98-8527-df1f51a617d1"
      },
      "execution_count": null,
      "outputs": [
        {
          "output_type": "stream",
          "name": "stdout",
          "text": [
            "Collecting urllib3==1.25.10\n",
            "  Downloading urllib3-1.25.10-py2.py3-none-any.whl (127 kB)\n",
            "\u001b[?25l\r\u001b[K     |██▋                             | 10 kB 28.1 MB/s eta 0:00:01\r\u001b[K     |█████▏                          | 20 kB 8.2 MB/s eta 0:00:01\r\u001b[K     |███████▊                        | 30 kB 7.7 MB/s eta 0:00:01\r\u001b[K     |██████████▎                     | 40 kB 7.3 MB/s eta 0:00:01\r\u001b[K     |████████████▉                   | 51 kB 4.1 MB/s eta 0:00:01\r\u001b[K     |███████████████▍                | 61 kB 4.3 MB/s eta 0:00:01\r\u001b[K     |██████████████████              | 71 kB 4.5 MB/s eta 0:00:01\r\u001b[K     |████████████████████▌           | 81 kB 5.1 MB/s eta 0:00:01\r\u001b[K     |███████████████████████         | 92 kB 5.2 MB/s eta 0:00:01\r\u001b[K     |█████████████████████████▊      | 102 kB 4.3 MB/s eta 0:00:01\r\u001b[K     |████████████████████████████▎   | 112 kB 4.3 MB/s eta 0:00:01\r\u001b[K     |██████████████████████████████▉ | 122 kB 4.3 MB/s eta 0:00:01\r\u001b[K     |████████████████████████████████| 127 kB 4.3 MB/s \n",
            "\u001b[?25hInstalling collected packages: urllib3\n",
            "  Attempting uninstall: urllib3\n",
            "    Found existing installation: urllib3 1.24.3\n",
            "    Uninstalling urllib3-1.24.3:\n",
            "      Successfully uninstalled urllib3-1.24.3\n",
            "\u001b[31mERROR: pip's dependency resolver does not currently take into account all the packages that are installed. This behaviour is the source of the following dependency conflicts.\n",
            "datascience 0.10.6 requires folium==0.2.1, but you have folium 0.8.3 which is incompatible.\u001b[0m\n",
            "Successfully installed urllib3-1.25.10\n"
          ]
        },
        {
          "output_type": "display_data",
          "data": {
            "application/vnd.colab-display-data+json": {
              "pip_warning": {
                "packages": [
                  "urllib3"
                ]
              }
            }
          },
          "metadata": {}
        },
        {
          "output_type": "stream",
          "name": "stdout",
          "text": [
            "Cloning into 'transformers'...\n",
            "remote: Enumerating objects: 94693, done.\u001b[K\n",
            "remote: Counting objects: 100% (8/8), done.\u001b[K\n",
            "remote: Compressing objects: 100% (7/7), done.\u001b[K\n",
            "remote: Total 94693 (delta 0), reused 3 (delta 0), pack-reused 94685\u001b[K\n",
            "Receiving objects: 100% (94693/94693), 80.03 MiB | 13.59 MiB/s, done.\n",
            "Resolving deltas: 100% (68752/68752), done.\n",
            "Note: checking out 'a3085020ed0d81d4903c50967687192e3101e770'.\n",
            "\n",
            "You are in 'detached HEAD' state. You can look around, make experimental\n",
            "changes and commit them, and you can discard any commits you make in this\n",
            "state without impacting any branches by performing another checkout.\n",
            "\n",
            "If you want to create a new branch to retain commits you create, you may\n",
            "do so (now or later) by using -b with the checkout command again. Example:\n",
            "\n",
            "  git checkout -b <new-branch-name>\n",
            "\n",
            "HEAD is now at a3085020e Added repetition penalty to PPLM example (#2436)\n",
            "Requirement already satisfied: transformers in /usr/local/lib/python3.7/dist-packages (4.15.0)\n",
            "Requirement already satisfied: numpy>=1.17 in /usr/local/lib/python3.7/dist-packages (from transformers) (1.19.5)\n",
            "Requirement already satisfied: tokenizers<0.11,>=0.10.1 in /usr/local/lib/python3.7/dist-packages (from transformers) (0.10.3)\n",
            "Requirement already satisfied: huggingface-hub<1.0,>=0.1.0 in /usr/local/lib/python3.7/dist-packages (from transformers) (0.2.1)\n",
            "Requirement already satisfied: tqdm>=4.27 in /usr/local/lib/python3.7/dist-packages (from transformers) (4.62.3)\n",
            "Requirement already satisfied: requests in /usr/local/lib/python3.7/dist-packages (from transformers) (2.23.0)\n",
            "Requirement already satisfied: filelock in /usr/local/lib/python3.7/dist-packages (from transformers) (3.4.0)\n",
            "Requirement already satisfied: packaging>=20.0 in /usr/local/lib/python3.7/dist-packages (from transformers) (21.3)\n",
            "Requirement already satisfied: importlib-metadata in /usr/local/lib/python3.7/dist-packages (from transformers) (4.8.2)\n",
            "Requirement already satisfied: regex!=2019.12.17 in /usr/local/lib/python3.7/dist-packages (from transformers) (2019.12.20)\n",
            "Requirement already satisfied: pyyaml>=5.1 in /usr/local/lib/python3.7/dist-packages (from transformers) (6.0)\n",
            "Requirement already satisfied: sacremoses in /usr/local/lib/python3.7/dist-packages (from transformers) (0.0.46)\n",
            "Requirement already satisfied: typing-extensions>=3.7.4.3 in /usr/local/lib/python3.7/dist-packages (from huggingface-hub<1.0,>=0.1.0->transformers) (3.10.0.2)\n",
            "Requirement already satisfied: pyparsing!=3.0.5,>=2.0.2 in /usr/local/lib/python3.7/dist-packages (from packaging>=20.0->transformers) (3.0.6)\n",
            "Requirement already satisfied: zipp>=0.5 in /usr/local/lib/python3.7/dist-packages (from importlib-metadata->transformers) (3.6.0)\n",
            "Requirement already satisfied: idna<3,>=2.5 in /usr/local/lib/python3.7/dist-packages (from requests->transformers) (2.10)\n",
            "Requirement already satisfied: urllib3!=1.25.0,!=1.25.1,<1.26,>=1.21.1 in /usr/local/lib/python3.7/dist-packages (from requests->transformers) (1.25.10)\n",
            "Requirement already satisfied: certifi>=2017.4.17 in /usr/local/lib/python3.7/dist-packages (from requests->transformers) (2021.10.8)\n",
            "Requirement already satisfied: chardet<4,>=3.0.2 in /usr/local/lib/python3.7/dist-packages (from requests->transformers) (3.0.4)\n",
            "Requirement already satisfied: six in /usr/local/lib/python3.7/dist-packages (from sacremoses->transformers) (1.15.0)\n",
            "Requirement already satisfied: joblib in /usr/local/lib/python3.7/dist-packages (from sacremoses->transformers) (1.1.0)\n",
            "Requirement already satisfied: click in /usr/local/lib/python3.7/dist-packages (from sacremoses->transformers) (7.1.2)\n",
            "--2021-12-30 15:28:53--  https://users.dcc.uchile.cl/~jperez/beto/cased_2M/pytorch_weights.tar.gz\n",
            "Resolving users.dcc.uchile.cl (users.dcc.uchile.cl)... 192.80.24.4, 200.9.99.211\n",
            "Connecting to users.dcc.uchile.cl (users.dcc.uchile.cl)|192.80.24.4|:443... connected.\n",
            "HTTP request sent, awaiting response... 200 OK\n",
            "Length: 409871727 (391M) [application/x-gzip]\n",
            "Saving to: ‘pytorch_weights.tar.gz’\n",
            "\n",
            "pytorch_weights.tar 100%[===================>] 390.88M  7.22MB/s    in 55s     \n",
            "\n",
            "2021-12-30 15:29:50 (7.05 MB/s) - ‘pytorch_weights.tar.gz’ saved [409871727/409871727]\n",
            "\n",
            "--2021-12-30 15:29:50--  https://users.dcc.uchile.cl/~jperez/beto/cased_2M/vocab.txt\n",
            "Resolving users.dcc.uchile.cl (users.dcc.uchile.cl)... 192.80.24.4, 200.9.99.211\n",
            "Connecting to users.dcc.uchile.cl (users.dcc.uchile.cl)|192.80.24.4|:443... connected.\n",
            "HTTP request sent, awaiting response... 200 OK\n",
            "Length: 242120 (236K) [text/plain]\n",
            "Saving to: ‘vocab.txt’\n",
            "\n",
            "vocab.txt           100%[===================>] 236.45K   253KB/s    in 0.9s    \n",
            "\n",
            "2021-12-30 15:29:52 (253 KB/s) - ‘vocab.txt’ saved [242120/242120]\n",
            "\n",
            "--2021-12-30 15:29:52--  https://users.dcc.uchile.cl/~jperez/beto/cased_2M/config.json\n",
            "Resolving users.dcc.uchile.cl (users.dcc.uchile.cl)... 200.9.99.211, 192.80.24.4\n",
            "Connecting to users.dcc.uchile.cl (users.dcc.uchile.cl)|200.9.99.211|:443... connected.\n",
            "HTTP request sent, awaiting response... 200 OK\n",
            "Length: 313 [application/json]\n",
            "Saving to: ‘config.json’\n",
            "\n",
            "config.json         100%[===================>]     313  --.-KB/s    in 0s      \n",
            "\n",
            "2021-12-30 15:29:54 (85.8 MB/s) - ‘config.json’ saved [313/313]\n",
            "\n",
            "pytorch/\n",
            "pytorch/pytorch_model.bin\n",
            "Max n°tokens in a sentence: 29\n"
          ]
        },
        {
          "output_type": "stream",
          "name": "stderr",
          "text": [
            "/usr/local/lib/python3.7/dist-packages/transformers/tokenization_utils_base.py:2232: FutureWarning: The `pad_to_max_length` argument is deprecated and will be removed in a future version, use `padding=True` or `padding='longest'` to pad to the longest sequence in the batch, or use `padding='max_length'` to pad to a max length. In this case, you can give a specific length with `max_length` (e.g. `max_length=45`) or leave max_length to None to pad to the maximal input size of the model (e.g. 512 for Bert).\n",
            "  FutureWarning,\n"
          ]
        }
      ]
    },
    {
      "cell_type": "code",
      "source": [
        "# Data loaders\n",
        "batch_size = 2\n",
        "\n",
        "y_train_labels = torch.tensor(y_train.values)\n",
        "y_val_labels = torch.tensor(y_val.values)\n",
        "\n",
        "\n",
        "def dataloader(x_inputs, x_masks, y_labels):\n",
        "    data = TensorDataset(x_inputs, x_masks, y_labels)\n",
        "    sampler = SequentialSampler(data)\n",
        "    dataloader = DataLoader(data, sampler=sampler,\n",
        "                 batch_size=batch_size,\n",
        "                 num_workers=0)\n",
        "    return dataloader\n",
        "\n",
        "train_dataloader = dataloader(X_train_inputs, X_train_masks,\n",
        "                   y_train_labels)\n",
        "val_dataloader = dataloader(X_val_inputs, X_val_masks, \n",
        "                 y_val_labels)"
      ],
      "metadata": {
        "id": "48vnLdqiCAzQ"
      },
      "execution_count": null,
      "outputs": []
    },
    {
      "cell_type": "code",
      "source": [
        "# set random seed\n",
        "def set_seed(value):\n",
        "    random.seed(value)\n",
        "    np.random.seed(value)\n",
        "    torch.manual_seed(value)\n",
        "    torch.cuda.manual_seed_all(value)\n",
        "set_seed(42)\n",
        "\n",
        "# Create model and optimizer\n",
        "model = BertForSequenceClassification.from_pretrained(\n",
        "        \"pytorch/\", num_labels=4, output_attentions=False,\n",
        "         output_hidden_states=False)\n",
        "\n",
        "optimizer = AdamW(model.parameters(),\n",
        "                  lr = 4e-5,\n",
        "                  eps = 1e-6\n",
        "                  )\n",
        "\n",
        "if run_on == 'cuda':\n",
        "    model.cuda()\n",
        "\n",
        "# Define number of epochs\n",
        "epochs = 3\n",
        "\n",
        "total_steps = len(train_dataloader) * epochs\n",
        "\n",
        "# Create the learning rate scheduler.\n",
        "scheduler = get_linear_schedule_with_warmup(optimizer,\n",
        "            num_warmup_steps = 0, \n",
        "            num_training_steps = total_steps)"
      ],
      "metadata": {
        "colab": {
          "base_uri": "https://localhost:8080/"
        },
        "id": "YCL0ybvPCITv",
        "outputId": "2a190f1d-9b40-4144-c759-e516139b36af"
      },
      "execution_count": null,
      "outputs": [
        {
          "output_type": "stream",
          "name": "stderr",
          "text": [
            "Some weights of the model checkpoint at pytorch/ were not used when initializing BertForSequenceClassification: ['cls.predictions.transform.dense.bias', 'cls.predictions.transform.LayerNorm.weight', 'cls.seq_relationship.weight', 'cls.predictions.transform.dense.weight', 'cls.predictions.transform.LayerNorm.bias', 'cls.predictions.decoder.weight', 'cls.seq_relationship.bias', 'cls.predictions.bias']\n",
            "- This IS expected if you are initializing BertForSequenceClassification from the checkpoint of a model trained on another task or with another architecture (e.g. initializing a BertForSequenceClassification model from a BertForPreTraining model).\n",
            "- This IS NOT expected if you are initializing BertForSequenceClassification from the checkpoint of a model that you expect to be exactly identical (initializing a BertForSequenceClassification model from a BertForSequenceClassification model).\n",
            "Some weights of BertForSequenceClassification were not initialized from the model checkpoint at pytorch/ and are newly initialized: ['classifier.weight', 'classifier.bias']\n",
            "You should probably TRAIN this model on a down-stream task to be able to use it for predictions and inference.\n"
          ]
        }
      ]
    },
    {
      "cell_type": "code",
      "source": [
        "#fuction to format time\n",
        "def format_time(elapsed):\n",
        "    elapsed_rounded = int(round((elapsed)))\n",
        "    return str(datetime.timedelta(seconds=elapsed_rounded))\n",
        "\n",
        "#function to compute accuracy\n",
        "def flat_accuracy(preds, labels):\n",
        "    pred_flat = np.argmax(preds, axis=1).flatten()\n",
        "    labels_flat = labels.flatten()\n",
        "    return np.sum(pred_flat == labels_flat) / len(labels_flat)"
      ],
      "metadata": {
        "id": "x-eygpRFz1Me"
      },
      "execution_count": null,
      "outputs": []
    },
    {
      "cell_type": "code",
      "source": [
        "# ~3 min\n",
        "#function to train the model\n",
        "def training(n_epochs, training_dataloader,\n",
        "             validation_dataloader):\n",
        "    # ========================================\n",
        "    #               Training \n",
        "    # ========================================\n",
        "    print('======= Training =======')\n",
        "    for epoch_i in range(0,n_epochs):\n",
        "        # Perform one full pass over the training set\n",
        "        print(\"\")\n",
        "        print('======= Epoch {:} / {:} ======='.format(\n",
        "             epoch_i + 1, epochs))\n",
        "        # Measure how long the training epoch takes.\n",
        "        t0 = time.time()\n",
        "        # Reset the total loss for this epoch.\n",
        "        total_loss = 0\n",
        "        # Put the model into training mode.\n",
        "        model.train()\n",
        "        # For each batch of training data\n",
        "        for step, batch in enumerate(training_dataloader):\n",
        "            batch_loss = 0\n",
        "            # Unpack this training batch from dataloader\n",
        "            #   [0]: input ids, [1]: attention masks, \n",
        "            #   [2]: labels\n",
        "            b_input_ids,b_input_mask, b_labels = tuple(\n",
        "                                t.to(device) for t in batch)\n",
        "\n",
        "            # Clear any previously calculated gradients\n",
        "            model.zero_grad()\n",
        "\n",
        "            # Perform a forward pass \n",
        "            outputs = model(b_input_ids,\n",
        "                            token_type_ids=None,\n",
        "                            attention_mask=b_input_mask,\n",
        "                            labels=b_labels)\n",
        "\n",
        "            # pull loss value out of the output tuple\n",
        "            loss = outputs[0]\n",
        "            batch_loss += loss.item()\n",
        "            total_loss += loss.item()\n",
        "\n",
        "            # Perform a backward pass \n",
        "            loss.backward()\n",
        "\n",
        "            # Clip the norm of the gradients to 1.0.\n",
        "            torch.nn.utils.clip_grad_norm_(model.parameters(),\n",
        "                                            1.0)\n",
        "\n",
        "            # Update parameters\n",
        "            # ¿take a step using the computed gradient\n",
        "            optimizer.step()\n",
        "            scheduler.step()\n",
        "\n",
        "            print('batch loss: {0} | avg loss: {1}'.format(\n",
        "                  batch_loss, total_loss/(step+1)))\n",
        "        # Calculate the average loss over the training data.\n",
        "        avg_train_loss = total_loss / len(train_dataloader)\n",
        "\n",
        "\n",
        "        print(\"\")\n",
        "        print(\"  Average training loss: {0:.2f}\".\n",
        "             format(avg_train_loss))\n",
        "        print(\"  Training epoch took: {:}\".format(\n",
        "              format_time(time.time() - t0)))\n",
        "\n",
        "        # ========================================\n",
        "        #               Validation\n",
        "        # ========================================\n",
        "        # After the completion of each training epoch, \n",
        "        # measure accuracy on the validation set.\n",
        "\n",
        "        print(\"\")\n",
        "        print(\"======= Validation =======\")\n",
        "\n",
        "        t0 = time.time()\n",
        "\n",
        "        # Put the model in evaluation mode\n",
        "        model.eval()\n",
        "\n",
        "        # Tracking variables\n",
        "        eval_loss, eval_accuracy = 0, 0\n",
        "        all_logits = []\n",
        "        all_labels = []\n",
        "        # Evaluate data for one epoch\n",
        "        for step, batch in enumerate(validation_dataloader):\n",
        "            # Add batch to device\n",
        "            # Unpack this training batch from our dataloader.\n",
        "            #   [0]: input ids, [1]: attention masks,\n",
        "            #   [2]: labels\n",
        "            b_input_ids, b_input_mask, b_labels = tuple(\n",
        "                                t.to(device) for t in batch)\n",
        "\n",
        "\n",
        "            # Model will not to compute gradients\n",
        "            with torch.no_grad():\n",
        "                # Forward pass \n",
        "                # This will return the logits \n",
        "                outputs = model(b_input_ids,\n",
        "                                token_type_ids=None,\n",
        "                                attention_mask=b_input_mask)\n",
        "\n",
        "            # The \"logits\" are the output values \n",
        "            # prior to applying an activation function \n",
        "            logits = outputs[0]\n",
        "\n",
        "            # Move logits and labels to CPU\n",
        "            logits = logits.detach().cpu().numpy()\n",
        "            b_labels = b_labels.to('cpu').numpy()\n",
        "\n",
        "            # Save batch logits and labels \n",
        "            # We will use thoses in the confusion matrix\n",
        "            predict_labels = np.argmax(\n",
        "                             logits, axis=1).flatten()\n",
        "            all_logits.extend(predict_labels.tolist())\n",
        "            all_labels.extend(b_labels.tolist())\n",
        "\n",
        "            # Calculate the accuracy for this batch\n",
        "            tmp_eval_accuracy = flat_accuracy(\n",
        "                                logits, b_labels)\n",
        "            # Accumulate the total accuracy.\n",
        "            eval_accuracy += tmp_eval_accuracy\n",
        "\n",
        "        # Report the final accuracy for this validation run.\n",
        "        print(\"  Accuracy: {0:.2f}\".\n",
        "              format(eval_accuracy / (step+1)))\n",
        "        print(\"  Validation took: {:}\".format(\n",
        "             format_time(time.time() - t0)))\n",
        "\n",
        "    #print the confusion matrix\"\n",
        "    conf = confusion_matrix(\n",
        "           all_labels, all_logits, normalize='true')\n",
        "    print(conf)\n",
        "    print(\"\")\n",
        "    print(\"Training complete\")\n",
        "\n",
        "#call function to train the model\n",
        "training(epochs, train_dataloader, val_dataloader)"
      ],
      "metadata": {
        "id": "UiFWup0dz2nW",
        "colab": {
          "base_uri": "https://localhost:8080/"
        },
        "outputId": "69018586-13ec-44ba-f909-0ff37fb43ebe"
      },
      "execution_count": null,
      "outputs": [
        {
          "output_type": "stream",
          "name": "stdout",
          "text": [
            "======= Training =======\n",
            "\n",
            "======= Epoch 1 / 3 =======\n",
            "batch loss: 1.3928308486938477 | avg loss: 1.3928308486938477\n",
            "batch loss: 1.6065250635147095 | avg loss: 1.4996779561042786\n",
            "batch loss: 1.0582787990570068 | avg loss: 1.352544903755188\n",
            "batch loss: 0.9907763004302979 | avg loss: 1.2621027529239655\n",
            "batch loss: 1.6077320575714111 | avg loss: 1.3312286138534546\n",
            "batch loss: 1.1243644952774048 | avg loss: 1.2967512607574463\n",
            "batch loss: 0.7382314205169678 | avg loss: 1.2169627121516637\n",
            "batch loss: 1.537952184677124 | avg loss: 1.2570863962173462\n",
            "batch loss: 1.2416388988494873 | avg loss: 1.2553700076209173\n",
            "batch loss: 0.3716028332710266 | avg loss: 1.1669932901859283\n",
            "batch loss: 0.34947219491004944 | avg loss: 1.092673190615394\n",
            "batch loss: 1.933866262435913 | avg loss: 1.162772613267104\n",
            "batch loss: 1.4284125566482544 | avg loss: 1.1832064550656538\n",
            "batch loss: 0.2204378843307495 | avg loss: 1.114437271441732\n",
            "batch loss: 1.2416787147521973 | avg loss: 1.1229200343290964\n",
            "batch loss: 0.17599955201148987 | avg loss: 1.063737504184246\n",
            "batch loss: 0.1266096830368042 | avg loss: 1.0086123382343966\n",
            "batch loss: 1.07573401927948 | avg loss: 1.012341320514679\n",
            "batch loss: 1.7707793712615967 | avg loss: 1.0522591126592535\n",
            "batch loss: 0.7682092785835266 | avg loss: 1.0380566209554671\n",
            "batch loss: 0.8308392763137817 | avg loss: 1.0281891283534823\n",
            "batch loss: 0.7236891984939575 | avg loss: 1.0143482224507765\n",
            "batch loss: 0.8160439133644104 | avg loss: 1.0057262959687605\n",
            "batch loss: 0.6779634952545166 | avg loss: 0.9920695126056671\n",
            "batch loss: 0.05420944094657898 | avg loss: 0.9545551097393036\n",
            "batch loss: 0.603480339050293 | avg loss: 0.9410522339435724\n",
            "batch loss: 0.855542778968811 | avg loss: 0.9378852170926554\n",
            "batch loss: 0.7200152277946472 | avg loss: 0.9301041460462979\n",
            "batch loss: 0.612014651298523 | avg loss: 0.9191355427791332\n",
            "batch loss: 0.03646131604909897 | avg loss: 0.8897130685547988\n",
            "batch loss: 0.458148330450058 | avg loss: 0.8757916253901297\n",
            "batch loss: 0.03512999415397644 | avg loss: 0.8495209494139999\n",
            "batch loss: 0.7761630415916443 | avg loss: 0.8472979825102922\n",
            "\n",
            "  Average training loss: 0.85\n",
            "  Training epoch took: 0:00:53\n",
            "\n",
            "======= Validation =======\n",
            "  Accuracy: 0.78\n",
            "  Validation took: 0:00:03\n",
            "\n",
            "======= Epoch 2 / 3 =======\n",
            "batch loss: 0.3201866149902344 | avg loss: 0.3201866149902344\n",
            "batch loss: 0.4917246699333191 | avg loss: 0.40595564246177673\n",
            "batch loss: 0.4351675510406494 | avg loss: 0.41569294532140094\n",
            "batch loss: 0.3426772654056549 | avg loss: 0.39743902534246445\n",
            "batch loss: 0.5515321493148804 | avg loss: 0.4282576501369476\n",
            "batch loss: 0.724071204662323 | avg loss: 0.4775599092245102\n",
            "batch loss: 0.016238167881965637 | avg loss: 0.4116568033184324\n",
            "batch loss: 0.7863953113555908 | avg loss: 0.4584991168230772\n",
            "batch loss: 0.36620861291885376 | avg loss: 0.4482446163892746\n",
            "batch loss: 0.012973124161362648 | avg loss: 0.4047174671664834\n",
            "batch loss: 0.01388844195753336 | avg loss: 0.3691875557838516\n",
            "batch loss: 1.1383272409439087 | avg loss: 0.43328252954718965\n",
            "batch loss: 0.532217800617218 | avg loss: 0.4408929350141149\n",
            "batch loss: 0.011761453002691269 | avg loss: 0.4102406862990132\n",
            "batch loss: 0.38349494338035583 | avg loss: 0.40845763677110275\n",
            "batch loss: 0.012005931697785854 | avg loss: 0.38367940520402044\n",
            "batch loss: 0.009708665311336517 | avg loss: 0.3616811263868037\n",
            "batch loss: 0.38900357484817505 | avg loss: 0.36319904019021326\n",
            "batch loss: 0.4483923316001892 | avg loss: 0.36768289763284356\n",
            "batch loss: 0.35825836658477783 | avg loss: 0.3672116710804403\n",
            "batch loss: 0.39046114683151245 | avg loss: 0.36831878897334847\n",
            "batch loss: 0.13521866500377655 | avg loss: 0.3577233287929134\n",
            "batch loss: 0.247075617313385 | avg loss: 0.35291255872858607\n",
            "batch loss: 0.4178786873817444 | avg loss: 0.355619480755801\n",
            "batch loss: 0.010668152011930943 | avg loss: 0.3418214276060462\n",
            "batch loss: 0.5482275485992432 | avg loss: 0.349760124567323\n",
            "batch loss: 0.6385299563407898 | avg loss: 0.36045530352189586\n",
            "batch loss: 0.16874901950359344 | avg loss: 0.3536086505212422\n",
            "batch loss: 0.08528341352939606 | avg loss: 0.34435605614221304\n",
            "batch loss: 0.0063269780948758125 | avg loss: 0.3330884202073018\n",
            "batch loss: 0.2681933343410492 | avg loss: 0.3309950303406485\n",
            "batch loss: 0.008938048034906387 | avg loss: 0.320930749643594\n",
            "batch loss: 0.20568619668483734 | avg loss: 0.31743849046302564\n",
            "\n",
            "  Average training loss: 0.32\n",
            "  Training epoch took: 0:00:51\n",
            "\n",
            "======= Validation =======\n",
            "  Accuracy: 0.83\n",
            "  Validation took: 0:00:03\n",
            "\n",
            "======= Epoch 3 / 3 =======\n",
            "batch loss: 0.08606462925672531 | avg loss: 0.08606462925672531\n",
            "batch loss: 0.566253125667572 | avg loss: 0.32615887746214867\n",
            "batch loss: 0.11075286567211151 | avg loss: 0.25435687353213626\n",
            "batch loss: 0.08582739531993866 | avg loss: 0.21222450397908688\n",
            "batch loss: 0.17856387794017792 | avg loss: 0.20549237877130508\n",
            "batch loss: 0.22059394419193268 | avg loss: 0.20800930634140968\n",
            "batch loss: 0.004758476745337248 | avg loss: 0.17897347354197077\n",
            "batch loss: 0.28495001792907715 | avg loss: 0.19222054159035906\n",
            "batch loss: 0.09182807803153992 | avg loss: 0.18106582341715693\n",
            "batch loss: 0.00476977601647377 | avg loss: 0.16343621867708863\n",
            "batch loss: 0.005122915841639042 | avg loss: 0.14904410023750228\n",
            "batch loss: 0.8460935950279236 | avg loss: 0.20713155813670406\n",
            "batch loss: 0.17389512062072754 | avg loss: 0.20457490909701356\n",
            "batch loss: 0.004933453164994717 | avg loss: 0.19031480510186935\n",
            "batch loss: 0.13774871826171875 | avg loss: 0.186810399312526\n",
            "batch loss: 0.007107071112841368 | avg loss: 0.1755789413000457\n",
            "batch loss: 0.0048568714410066605 | avg loss: 0.16553646660245516\n",
            "batch loss: 0.1530514806509018 | avg loss: 0.1648428562718133\n",
            "batch loss: 0.1669287234544754 | avg loss: 0.16495263875511132\n",
            "batch loss: 0.28872790932655334 | avg loss: 0.1711414022836834\n",
            "batch loss: 0.10904631018638611 | avg loss: 0.16818449313619308\n",
            "batch loss: 0.06548061221837997 | avg loss: 0.16351613491265612\n",
            "batch loss: 0.1629367172718048 | avg loss: 0.16349094284131474\n",
            "batch loss: 0.26927411556243896 | avg loss: 0.16789857503802827\n",
            "batch loss: 0.004357513971626759 | avg loss: 0.1613569325953722\n",
            "batch loss: 0.3598310947418213 | avg loss: 0.16899055421638948\n",
            "batch loss: 0.5114836096763611 | avg loss: 0.18167548219638843\n",
            "batch loss: 0.08305968344211578 | avg loss: 0.17815348938373582\n",
            "batch loss: 0.033165205270051956 | avg loss: 0.17315389337981568\n",
            "batch loss: 0.005175179801881313 | avg loss: 0.16755460292721788\n",
            "batch loss: 0.09088022261857986 | avg loss: 0.16508123582048762\n",
            "batch loss: 0.0043256268836557865 | avg loss: 0.16005762304121163\n",
            "batch loss: 0.08669839054346085 | avg loss: 0.15783461599582524\n",
            "\n",
            "  Average training loss: 0.16\n",
            "  Training epoch took: 0:00:53\n",
            "\n",
            "======= Validation =======\n",
            "  Accuracy: 0.83\n",
            "  Validation took: 0:00:03\n",
            "[[1.         0.         0.         0.        ]\n",
            " [0.         1.         0.         0.        ]\n",
            " [0.         0.         0.33333333 0.66666667]\n",
            " [0.         0.         0.33333333 0.66666667]]\n",
            "\n",
            "Training complete\n"
          ]
        }
      ]
    },
    {
      "cell_type": "markdown",
      "source": [
        "### 3.1.2 Extraccion de respuestas para el caso \"informacion\""
      ],
      "metadata": {
        "id": "KE0I3oiY4RZj"
      }
    },
    {
      "cell_type": "code",
      "source": [
        "# Transformer QA\n",
        "beto_qa = pipeline('question-answering', \n",
        "        model='mrm8488/distill-bert-base-spanish-wwm-cased-finetuned-spa-squad2-es',\n",
        "        tokenizer=('mrm8488/distill-bert-base-spanish-wwm-cased-finetuned-spa-squad2-es', {\"use_fast\": False})\n",
        "    )\n"
      ],
      "metadata": {
        "id": "DwFUWjcuKbrF",
        "colab": {
          "base_uri": "https://localhost:8080/",
          "height": 177,
          "referenced_widgets": [
            "e6e53af44aac4a89b8d436529dd163ad",
            "47e6c89a9d364876adbc03ac929bb1cb",
            "664f010858c94abbb641254be90939a9",
            "2fc9ecca17c447acb8a454603e4e280d",
            "37cf1b89381a41359bc5b81a1075708d",
            "0a2d98627b04429bb83f6df3eed64d70",
            "f3581df75022443fbc2b899d10d0a790",
            "e32f7c73804e40cba174e0ada791bba0",
            "34ee50ff3939410ea26c6d76c90b1944",
            "120915e3e68e4a12a2da88b843f9019a",
            "32952eb8099848ea8006752722e4c6ee",
            "acd699d3825f468ab15be2f6fa01c8f2",
            "70278d97734d4c48a80951fba7ae430c",
            "7766748802cf4134916655f1b13520a5",
            "28711943525d4fdf9fc2ef9081e74765",
            "538da85e92bb4cfdb68a3107e0d3e0dc",
            "280150ea3c644f8584fe2c603bdd84a1",
            "8cf3d0d3e49f491880c0c868af8f928e",
            "50e12632bb7846099a5037f68ac41181",
            "173ce5ccc0294c6496c5d289a5ba4d26",
            "d9326c4eef064e758a349cce8abd7bcd",
            "3190b1aba236465280b6e1c91192b6e6",
            "ab9da06168c1426a914b5e901fc5aeed",
            "5744226a3a3c4d518a27bfb873df7142",
            "63e937fca51542c7950e04b88fdda087",
            "d9935157851742658f337753d617d27f",
            "ab035ff26e844f508e551ec9aec6f2cd",
            "a57ef9b8fdbf43b9a119cea7fd143b78",
            "11be0b5b52524050a37e5ab5756fe633",
            "29bd838938aa48a3bbee9a2119001a71",
            "bfa13951af1b4372935a0017b4708315",
            "cb2a835676024d7598d7f472d3a2d8c0",
            "12679819e6a943ce8e039fa8778325d1",
            "5adc4cfd72fa4f32b352354dff6e4fb5",
            "67faef2362fe4f7cbac80c883a269958",
            "e04e1a4e276446a2a6bd427ad9a5c029",
            "f82c6bcb9c4f4af98bec19a845c4330e",
            "d6c013af373f48ae8a8172c2ffff00ed",
            "50aafd2976644ba6a438dfd14da31069",
            "2aff73af26144abb92150af55c091942",
            "14ba6be0233a4a7f8035366bc3a49fb9",
            "ed6a32ee6ae1402883aed3296d6e5638",
            "f55af503b37d44b185c43c1df271a45c",
            "836b5800429e4bfeaec18f7fa5d87d61",
            "fbbc6a9f3c1e4372b52526c8d7b36952",
            "5073c32eeab64959bd3779911f97d939",
            "dcc73aef66ba4cbf9163dbdbfcc64755",
            "5620cbb853d84984bb809d15ed90a2d3",
            "79a2b37dc74e47449b9af7b6876c82d7",
            "08a68a93abef41a1ac8e4fe77ac0df46",
            "ca979476a7d449a9ab2c859f1a42ad98",
            "0ab23512a90c42b1b61ebdf959f4be83",
            "85a6c2627ad04bb3a24f074ead4d9aa9",
            "23a1fb0994094dbdba6d63a77ee102bd",
            "f724d2de3dc74a159a0833ca864ff45e"
          ]
        },
        "outputId": "c3069d1d-0d05-4170-a994-ee3952da1694"
      },
      "execution_count": null,
      "outputs": [
        {
          "output_type": "display_data",
          "data": {
            "application/vnd.jupyter.widget-view+json": {
              "model_id": "e6e53af44aac4a89b8d436529dd163ad",
              "version_minor": 0,
              "version_major": 2
            },
            "text/plain": [
              "Downloading:   0%|          | 0.00/465 [00:00<?, ?B/s]"
            ]
          },
          "metadata": {}
        },
        {
          "output_type": "display_data",
          "data": {
            "application/vnd.jupyter.widget-view+json": {
              "model_id": "acd699d3825f468ab15be2f6fa01c8f2",
              "version_minor": 0,
              "version_major": 2
            },
            "text/plain": [
              "Downloading:   0%|          | 0.00/419M [00:00<?, ?B/s]"
            ]
          },
          "metadata": {}
        },
        {
          "output_type": "display_data",
          "data": {
            "application/vnd.jupyter.widget-view+json": {
              "model_id": "ab9da06168c1426a914b5e901fc5aeed",
              "version_minor": 0,
              "version_major": 2
            },
            "text/plain": [
              "Downloading:   0%|          | 0.00/135 [00:00<?, ?B/s]"
            ]
          },
          "metadata": {}
        },
        {
          "output_type": "display_data",
          "data": {
            "application/vnd.jupyter.widget-view+json": {
              "model_id": "5adc4cfd72fa4f32b352354dff6e4fb5",
              "version_minor": 0,
              "version_major": 2
            },
            "text/plain": [
              "Downloading:   0%|          | 0.00/237k [00:00<?, ?B/s]"
            ]
          },
          "metadata": {}
        },
        {
          "output_type": "display_data",
          "data": {
            "application/vnd.jupyter.widget-view+json": {
              "model_id": "fbbc6a9f3c1e4372b52526c8d7b36952",
              "version_minor": 0,
              "version_major": 2
            },
            "text/plain": [
              "Downloading:   0%|          | 0.00/112 [00:00<?, ?B/s]"
            ]
          },
          "metadata": {}
        }
      ]
    },
    {
      "cell_type": "code",
      "source": [
        "context_text = \"\"\n",
        "for index, row in qa.iterrows():\n",
        "  context_text = context_text + \". \" + row['Respuesta']"
      ],
      "metadata": {
        "id": "Y8UqM2IvQPt5"
      },
      "execution_count": null,
      "outputs": []
    },
    {
      "cell_type": "code",
      "source": [
        "def beto_get_answer(question):\n",
        "  respuesta = beto_qa({'question': question, 'context': context_text})\n",
        "  if respuesta['score'] < 0.01:\n",
        "    return \"Perdón, pero no tengo respuesta para esa pregunta.\"\n",
        "  else:\n",
        "    return respuesta['answer']"
      ],
      "metadata": {
        "id": "gcAONrwZBpAM"
      },
      "execution_count": null,
      "outputs": []
    },
    {
      "cell_type": "markdown",
      "source": [
        "## 3.2 Reporte el tipo de red, y las métricas de entrenamiento usadas"
      ],
      "metadata": {
        "id": "mRSEUuUJHlOe"
      }
    },
    {
      "cell_type": "markdown",
      "source": [
        "## 3.3 Reporte el resultado con los textos de prueba."
      ],
      "metadata": {
        "id": "Gr5t043nHs4o"
      }
    },
    {
      "cell_type": "code",
      "source": [
        "print('¿Sólo las empresas pueden tener una cuenta con Chilexpress?')\n",
        "print(beto_get_answer('¿Sólo las empresas pueden tener una cuenta con Chilexpress?')+\"\\n\")\n",
        "print('¿puedo retirar un giro de dinero?')\n",
        "print(beto_get_answer('¿puedo retirar un giro de dinero?')+\"\\n\")\n",
        "print('Puede otra persona retirar mi pedido')\n",
        "print(beto_get_answer('Puede otra persona retirar mi pedido')+\"\\n\")\n",
        "print('¿Qué es la Orden de Transporte (OT)?')\n",
        "print(beto_get_answer('¿Qué es la Orden de Transporte (OT)?')+\"\\n\")\n",
        "print('¿Qué es un envío sobredimensionado?')\n",
        "print(beto_get_answer('¿Qué es un envío sobredimensionado?')+\"\\n\")\n",
        "print('¿Quién ganará la próxima elección?')\n",
        "print(beto_get_answer('¿Quién ganará la próxima elección?')+\"\\n\")"
      ],
      "metadata": {
        "colab": {
          "base_uri": "https://localhost:8080/"
        },
        "id": "r0tRjpyEAZVX",
        "outputId": "c9fc9d58-a6bb-48d5-a735-9edb86c937a6"
      },
      "execution_count": null,
      "outputs": [
        {
          "output_type": "stream",
          "name": "stdout",
          "text": [
            "¿Sólo las empresas pueden tener una cuenta con Chilexpress?\n",
            "Sí, sólo las empresas pueden obtener una cuenta con Chilexpress.\n",
            "\n",
            "¿puedo retirar un giro de dinero?\n",
            "Perdón, pero no tengo respuesta para esa pregunta.\n",
            "\n",
            "Puede otra persona retirar mi pedido\n",
            "Una tercera persona puede retirar un envío por pagar\n",
            "\n",
            "¿Qué es la Orden de Transporte (OT)?\n",
            "el número asociado al envío.\n",
            "\n",
            "¿Qué es un envío sobredimensionado?\n",
            "embalaje irregular,\n",
            "\n",
            "¿Quién ganará la próxima elección?\n",
            "Perdón, pero no tengo respuesta para esa pregunta.\n",
            "\n"
          ]
        }
      ]
    },
    {
      "cell_type": "markdown",
      "source": [
        "# Conclusión"
      ],
      "metadata": {
        "id": "2JwboiqsFaoS"
      }
    }
  ]
}