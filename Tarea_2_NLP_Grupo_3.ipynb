{
  "nbformat": 4,
  "nbformat_minor": 0,
  "metadata": {
    "colab": {
      "name": "Tarea 2  NLP -  Grupo 3",
      "provenance": [],
      "collapsed_sections": [
        "mRSEUuUJHlOe"
      ],
      "machine_shape": "hm"
    },
    "kernelspec": {
      "name": "python3",
      "display_name": "Python 3"
    },
    "language_info": {
      "name": "python"
    },
    "accelerator": "GPU",
    "widgets": {
      "application/vnd.jupyter.widget-state+json": {
        "627542ea7e17456db614d5a9d85a07b0": {
          "model_module": "@jupyter-widgets/controls",
          "model_name": "HBoxModel",
          "model_module_version": "1.5.0",
          "state": {
            "_view_name": "HBoxView",
            "_dom_classes": [],
            "_model_name": "HBoxModel",
            "_view_module": "@jupyter-widgets/controls",
            "_model_module_version": "1.5.0",
            "_view_count": null,
            "_view_module_version": "1.5.0",
            "box_style": "",
            "layout": "IPY_MODEL_5c10dc90954e4ec88a27db2934baa21b",
            "_model_module": "@jupyter-widgets/controls",
            "children": [
              "IPY_MODEL_866d74bd76114764bbcf5482f15f531e",
              "IPY_MODEL_a670a3e1090149369f5a9735347573af",
              "IPY_MODEL_6a59b0b14259419fac6234bdb3642165"
            ]
          }
        },
        "5c10dc90954e4ec88a27db2934baa21b": {
          "model_module": "@jupyter-widgets/base",
          "model_name": "LayoutModel",
          "model_module_version": "1.2.0",
          "state": {
            "_view_name": "LayoutView",
            "grid_template_rows": null,
            "right": null,
            "justify_content": null,
            "_view_module": "@jupyter-widgets/base",
            "overflow": null,
            "_model_module_version": "1.2.0",
            "_view_count": null,
            "flex_flow": null,
            "width": null,
            "min_width": null,
            "border": null,
            "align_items": null,
            "bottom": null,
            "_model_module": "@jupyter-widgets/base",
            "top": null,
            "grid_column": null,
            "overflow_y": null,
            "overflow_x": null,
            "grid_auto_flow": null,
            "grid_area": null,
            "grid_template_columns": null,
            "flex": null,
            "_model_name": "LayoutModel",
            "justify_items": null,
            "grid_row": null,
            "max_height": null,
            "align_content": null,
            "visibility": null,
            "align_self": null,
            "height": null,
            "min_height": null,
            "padding": null,
            "grid_auto_rows": null,
            "grid_gap": null,
            "max_width": null,
            "order": null,
            "_view_module_version": "1.2.0",
            "grid_template_areas": null,
            "object_position": null,
            "object_fit": null,
            "grid_auto_columns": null,
            "margin": null,
            "display": null,
            "left": null
          }
        },
        "866d74bd76114764bbcf5482f15f531e": {
          "model_module": "@jupyter-widgets/controls",
          "model_name": "HTMLModel",
          "model_module_version": "1.5.0",
          "state": {
            "_view_name": "HTMLView",
            "style": "IPY_MODEL_38b05e2a9f5c49d79fbef88e14187375",
            "_dom_classes": [],
            "description": "",
            "_model_name": "HTMLModel",
            "placeholder": "​",
            "_view_module": "@jupyter-widgets/controls",
            "_model_module_version": "1.5.0",
            "value": "Downloading: 100%",
            "_view_count": null,
            "_view_module_version": "1.5.0",
            "description_tooltip": null,
            "_model_module": "@jupyter-widgets/controls",
            "layout": "IPY_MODEL_e693fe08e87049ffae89208f7f6d2e57"
          }
        },
        "a670a3e1090149369f5a9735347573af": {
          "model_module": "@jupyter-widgets/controls",
          "model_name": "FloatProgressModel",
          "model_module_version": "1.5.0",
          "state": {
            "_view_name": "ProgressView",
            "style": "IPY_MODEL_e6fca41f300b42178e004b570addc491",
            "_dom_classes": [],
            "description": "",
            "_model_name": "FloatProgressModel",
            "bar_style": "success",
            "max": 465,
            "_view_module": "@jupyter-widgets/controls",
            "_model_module_version": "1.5.0",
            "value": 465,
            "_view_count": null,
            "_view_module_version": "1.5.0",
            "orientation": "horizontal",
            "min": 0,
            "description_tooltip": null,
            "_model_module": "@jupyter-widgets/controls",
            "layout": "IPY_MODEL_acc26849c9364b5eac88a96335e228d6"
          }
        },
        "6a59b0b14259419fac6234bdb3642165": {
          "model_module": "@jupyter-widgets/controls",
          "model_name": "HTMLModel",
          "model_module_version": "1.5.0",
          "state": {
            "_view_name": "HTMLView",
            "style": "IPY_MODEL_58f242bf4e2e4bffa61db6327c34beca",
            "_dom_classes": [],
            "description": "",
            "_model_name": "HTMLModel",
            "placeholder": "​",
            "_view_module": "@jupyter-widgets/controls",
            "_model_module_version": "1.5.0",
            "value": " 465/465 [00:00&lt;00:00, 14.8kB/s]",
            "_view_count": null,
            "_view_module_version": "1.5.0",
            "description_tooltip": null,
            "_model_module": "@jupyter-widgets/controls",
            "layout": "IPY_MODEL_663ee2bb9f3a4ba0b30c0413d974026b"
          }
        },
        "38b05e2a9f5c49d79fbef88e14187375": {
          "model_module": "@jupyter-widgets/controls",
          "model_name": "DescriptionStyleModel",
          "model_module_version": "1.5.0",
          "state": {
            "_view_name": "StyleView",
            "_model_name": "DescriptionStyleModel",
            "description_width": "",
            "_view_module": "@jupyter-widgets/base",
            "_model_module_version": "1.5.0",
            "_view_count": null,
            "_view_module_version": "1.2.0",
            "_model_module": "@jupyter-widgets/controls"
          }
        },
        "e693fe08e87049ffae89208f7f6d2e57": {
          "model_module": "@jupyter-widgets/base",
          "model_name": "LayoutModel",
          "model_module_version": "1.2.0",
          "state": {
            "_view_name": "LayoutView",
            "grid_template_rows": null,
            "right": null,
            "justify_content": null,
            "_view_module": "@jupyter-widgets/base",
            "overflow": null,
            "_model_module_version": "1.2.0",
            "_view_count": null,
            "flex_flow": null,
            "width": null,
            "min_width": null,
            "border": null,
            "align_items": null,
            "bottom": null,
            "_model_module": "@jupyter-widgets/base",
            "top": null,
            "grid_column": null,
            "overflow_y": null,
            "overflow_x": null,
            "grid_auto_flow": null,
            "grid_area": null,
            "grid_template_columns": null,
            "flex": null,
            "_model_name": "LayoutModel",
            "justify_items": null,
            "grid_row": null,
            "max_height": null,
            "align_content": null,
            "visibility": null,
            "align_self": null,
            "height": null,
            "min_height": null,
            "padding": null,
            "grid_auto_rows": null,
            "grid_gap": null,
            "max_width": null,
            "order": null,
            "_view_module_version": "1.2.0",
            "grid_template_areas": null,
            "object_position": null,
            "object_fit": null,
            "grid_auto_columns": null,
            "margin": null,
            "display": null,
            "left": null
          }
        },
        "e6fca41f300b42178e004b570addc491": {
          "model_module": "@jupyter-widgets/controls",
          "model_name": "ProgressStyleModel",
          "model_module_version": "1.5.0",
          "state": {
            "_view_name": "StyleView",
            "_model_name": "ProgressStyleModel",
            "description_width": "",
            "_view_module": "@jupyter-widgets/base",
            "_model_module_version": "1.5.0",
            "_view_count": null,
            "_view_module_version": "1.2.0",
            "bar_color": null,
            "_model_module": "@jupyter-widgets/controls"
          }
        },
        "acc26849c9364b5eac88a96335e228d6": {
          "model_module": "@jupyter-widgets/base",
          "model_name": "LayoutModel",
          "model_module_version": "1.2.0",
          "state": {
            "_view_name": "LayoutView",
            "grid_template_rows": null,
            "right": null,
            "justify_content": null,
            "_view_module": "@jupyter-widgets/base",
            "overflow": null,
            "_model_module_version": "1.2.0",
            "_view_count": null,
            "flex_flow": null,
            "width": null,
            "min_width": null,
            "border": null,
            "align_items": null,
            "bottom": null,
            "_model_module": "@jupyter-widgets/base",
            "top": null,
            "grid_column": null,
            "overflow_y": null,
            "overflow_x": null,
            "grid_auto_flow": null,
            "grid_area": null,
            "grid_template_columns": null,
            "flex": null,
            "_model_name": "LayoutModel",
            "justify_items": null,
            "grid_row": null,
            "max_height": null,
            "align_content": null,
            "visibility": null,
            "align_self": null,
            "height": null,
            "min_height": null,
            "padding": null,
            "grid_auto_rows": null,
            "grid_gap": null,
            "max_width": null,
            "order": null,
            "_view_module_version": "1.2.0",
            "grid_template_areas": null,
            "object_position": null,
            "object_fit": null,
            "grid_auto_columns": null,
            "margin": null,
            "display": null,
            "left": null
          }
        },
        "58f242bf4e2e4bffa61db6327c34beca": {
          "model_module": "@jupyter-widgets/controls",
          "model_name": "DescriptionStyleModel",
          "model_module_version": "1.5.0",
          "state": {
            "_view_name": "StyleView",
            "_model_name": "DescriptionStyleModel",
            "description_width": "",
            "_view_module": "@jupyter-widgets/base",
            "_model_module_version": "1.5.0",
            "_view_count": null,
            "_view_module_version": "1.2.0",
            "_model_module": "@jupyter-widgets/controls"
          }
        },
        "663ee2bb9f3a4ba0b30c0413d974026b": {
          "model_module": "@jupyter-widgets/base",
          "model_name": "LayoutModel",
          "model_module_version": "1.2.0",
          "state": {
            "_view_name": "LayoutView",
            "grid_template_rows": null,
            "right": null,
            "justify_content": null,
            "_view_module": "@jupyter-widgets/base",
            "overflow": null,
            "_model_module_version": "1.2.0",
            "_view_count": null,
            "flex_flow": null,
            "width": null,
            "min_width": null,
            "border": null,
            "align_items": null,
            "bottom": null,
            "_model_module": "@jupyter-widgets/base",
            "top": null,
            "grid_column": null,
            "overflow_y": null,
            "overflow_x": null,
            "grid_auto_flow": null,
            "grid_area": null,
            "grid_template_columns": null,
            "flex": null,
            "_model_name": "LayoutModel",
            "justify_items": null,
            "grid_row": null,
            "max_height": null,
            "align_content": null,
            "visibility": null,
            "align_self": null,
            "height": null,
            "min_height": null,
            "padding": null,
            "grid_auto_rows": null,
            "grid_gap": null,
            "max_width": null,
            "order": null,
            "_view_module_version": "1.2.0",
            "grid_template_areas": null,
            "object_position": null,
            "object_fit": null,
            "grid_auto_columns": null,
            "margin": null,
            "display": null,
            "left": null
          }
        },
        "35ccf3e83b18485c833d28d9b391e57c": {
          "model_module": "@jupyter-widgets/controls",
          "model_name": "HBoxModel",
          "model_module_version": "1.5.0",
          "state": {
            "_view_name": "HBoxView",
            "_dom_classes": [],
            "_model_name": "HBoxModel",
            "_view_module": "@jupyter-widgets/controls",
            "_model_module_version": "1.5.0",
            "_view_count": null,
            "_view_module_version": "1.5.0",
            "box_style": "",
            "layout": "IPY_MODEL_7811782c1baf4bd3ac8676e92cf9f9d9",
            "_model_module": "@jupyter-widgets/controls",
            "children": [
              "IPY_MODEL_3fabbdaef448491c84dc4db388cdfb64",
              "IPY_MODEL_3be0b489c348427788b2a2f78028fd0b",
              "IPY_MODEL_4481739738244361909bb4d6525cea0d"
            ]
          }
        },
        "7811782c1baf4bd3ac8676e92cf9f9d9": {
          "model_module": "@jupyter-widgets/base",
          "model_name": "LayoutModel",
          "model_module_version": "1.2.0",
          "state": {
            "_view_name": "LayoutView",
            "grid_template_rows": null,
            "right": null,
            "justify_content": null,
            "_view_module": "@jupyter-widgets/base",
            "overflow": null,
            "_model_module_version": "1.2.0",
            "_view_count": null,
            "flex_flow": null,
            "width": null,
            "min_width": null,
            "border": null,
            "align_items": null,
            "bottom": null,
            "_model_module": "@jupyter-widgets/base",
            "top": null,
            "grid_column": null,
            "overflow_y": null,
            "overflow_x": null,
            "grid_auto_flow": null,
            "grid_area": null,
            "grid_template_columns": null,
            "flex": null,
            "_model_name": "LayoutModel",
            "justify_items": null,
            "grid_row": null,
            "max_height": null,
            "align_content": null,
            "visibility": null,
            "align_self": null,
            "height": null,
            "min_height": null,
            "padding": null,
            "grid_auto_rows": null,
            "grid_gap": null,
            "max_width": null,
            "order": null,
            "_view_module_version": "1.2.0",
            "grid_template_areas": null,
            "object_position": null,
            "object_fit": null,
            "grid_auto_columns": null,
            "margin": null,
            "display": null,
            "left": null
          }
        },
        "3fabbdaef448491c84dc4db388cdfb64": {
          "model_module": "@jupyter-widgets/controls",
          "model_name": "HTMLModel",
          "model_module_version": "1.5.0",
          "state": {
            "_view_name": "HTMLView",
            "style": "IPY_MODEL_0b02f909bc3a46e0b6113c81128a75ce",
            "_dom_classes": [],
            "description": "",
            "_model_name": "HTMLModel",
            "placeholder": "​",
            "_view_module": "@jupyter-widgets/controls",
            "_model_module_version": "1.5.0",
            "value": "Downloading: 100%",
            "_view_count": null,
            "_view_module_version": "1.5.0",
            "description_tooltip": null,
            "_model_module": "@jupyter-widgets/controls",
            "layout": "IPY_MODEL_274b1b529dbd448b832b09d5d8a6198e"
          }
        },
        "3be0b489c348427788b2a2f78028fd0b": {
          "model_module": "@jupyter-widgets/controls",
          "model_name": "FloatProgressModel",
          "model_module_version": "1.5.0",
          "state": {
            "_view_name": "ProgressView",
            "style": "IPY_MODEL_292045f0d60a4361a1aaf3ecbc32a159",
            "_dom_classes": [],
            "description": "",
            "_model_name": "FloatProgressModel",
            "bar_style": "success",
            "max": 439457860,
            "_view_module": "@jupyter-widgets/controls",
            "_model_module_version": "1.5.0",
            "value": 439457860,
            "_view_count": null,
            "_view_module_version": "1.5.0",
            "orientation": "horizontal",
            "min": 0,
            "description_tooltip": null,
            "_model_module": "@jupyter-widgets/controls",
            "layout": "IPY_MODEL_7b2d3cb30f6d4f28a0772b53285a20f1"
          }
        },
        "4481739738244361909bb4d6525cea0d": {
          "model_module": "@jupyter-widgets/controls",
          "model_name": "HTMLModel",
          "model_module_version": "1.5.0",
          "state": {
            "_view_name": "HTMLView",
            "style": "IPY_MODEL_c588c8e1b4724dbe879c0b4c716ff2bb",
            "_dom_classes": [],
            "description": "",
            "_model_name": "HTMLModel",
            "placeholder": "​",
            "_view_module": "@jupyter-widgets/controls",
            "_model_module_version": "1.5.0",
            "value": " 419M/419M [00:10&lt;00:00, 41.7MB/s]",
            "_view_count": null,
            "_view_module_version": "1.5.0",
            "description_tooltip": null,
            "_model_module": "@jupyter-widgets/controls",
            "layout": "IPY_MODEL_934027da1f7e4ae18c765b5aa2ff62fb"
          }
        },
        "0b02f909bc3a46e0b6113c81128a75ce": {
          "model_module": "@jupyter-widgets/controls",
          "model_name": "DescriptionStyleModel",
          "model_module_version": "1.5.0",
          "state": {
            "_view_name": "StyleView",
            "_model_name": "DescriptionStyleModel",
            "description_width": "",
            "_view_module": "@jupyter-widgets/base",
            "_model_module_version": "1.5.0",
            "_view_count": null,
            "_view_module_version": "1.2.0",
            "_model_module": "@jupyter-widgets/controls"
          }
        },
        "274b1b529dbd448b832b09d5d8a6198e": {
          "model_module": "@jupyter-widgets/base",
          "model_name": "LayoutModel",
          "model_module_version": "1.2.0",
          "state": {
            "_view_name": "LayoutView",
            "grid_template_rows": null,
            "right": null,
            "justify_content": null,
            "_view_module": "@jupyter-widgets/base",
            "overflow": null,
            "_model_module_version": "1.2.0",
            "_view_count": null,
            "flex_flow": null,
            "width": null,
            "min_width": null,
            "border": null,
            "align_items": null,
            "bottom": null,
            "_model_module": "@jupyter-widgets/base",
            "top": null,
            "grid_column": null,
            "overflow_y": null,
            "overflow_x": null,
            "grid_auto_flow": null,
            "grid_area": null,
            "grid_template_columns": null,
            "flex": null,
            "_model_name": "LayoutModel",
            "justify_items": null,
            "grid_row": null,
            "max_height": null,
            "align_content": null,
            "visibility": null,
            "align_self": null,
            "height": null,
            "min_height": null,
            "padding": null,
            "grid_auto_rows": null,
            "grid_gap": null,
            "max_width": null,
            "order": null,
            "_view_module_version": "1.2.0",
            "grid_template_areas": null,
            "object_position": null,
            "object_fit": null,
            "grid_auto_columns": null,
            "margin": null,
            "display": null,
            "left": null
          }
        },
        "292045f0d60a4361a1aaf3ecbc32a159": {
          "model_module": "@jupyter-widgets/controls",
          "model_name": "ProgressStyleModel",
          "model_module_version": "1.5.0",
          "state": {
            "_view_name": "StyleView",
            "_model_name": "ProgressStyleModel",
            "description_width": "",
            "_view_module": "@jupyter-widgets/base",
            "_model_module_version": "1.5.0",
            "_view_count": null,
            "_view_module_version": "1.2.0",
            "bar_color": null,
            "_model_module": "@jupyter-widgets/controls"
          }
        },
        "7b2d3cb30f6d4f28a0772b53285a20f1": {
          "model_module": "@jupyter-widgets/base",
          "model_name": "LayoutModel",
          "model_module_version": "1.2.0",
          "state": {
            "_view_name": "LayoutView",
            "grid_template_rows": null,
            "right": null,
            "justify_content": null,
            "_view_module": "@jupyter-widgets/base",
            "overflow": null,
            "_model_module_version": "1.2.0",
            "_view_count": null,
            "flex_flow": null,
            "width": null,
            "min_width": null,
            "border": null,
            "align_items": null,
            "bottom": null,
            "_model_module": "@jupyter-widgets/base",
            "top": null,
            "grid_column": null,
            "overflow_y": null,
            "overflow_x": null,
            "grid_auto_flow": null,
            "grid_area": null,
            "grid_template_columns": null,
            "flex": null,
            "_model_name": "LayoutModel",
            "justify_items": null,
            "grid_row": null,
            "max_height": null,
            "align_content": null,
            "visibility": null,
            "align_self": null,
            "height": null,
            "min_height": null,
            "padding": null,
            "grid_auto_rows": null,
            "grid_gap": null,
            "max_width": null,
            "order": null,
            "_view_module_version": "1.2.0",
            "grid_template_areas": null,
            "object_position": null,
            "object_fit": null,
            "grid_auto_columns": null,
            "margin": null,
            "display": null,
            "left": null
          }
        },
        "c588c8e1b4724dbe879c0b4c716ff2bb": {
          "model_module": "@jupyter-widgets/controls",
          "model_name": "DescriptionStyleModel",
          "model_module_version": "1.5.0",
          "state": {
            "_view_name": "StyleView",
            "_model_name": "DescriptionStyleModel",
            "description_width": "",
            "_view_module": "@jupyter-widgets/base",
            "_model_module_version": "1.5.0",
            "_view_count": null,
            "_view_module_version": "1.2.0",
            "_model_module": "@jupyter-widgets/controls"
          }
        },
        "934027da1f7e4ae18c765b5aa2ff62fb": {
          "model_module": "@jupyter-widgets/base",
          "model_name": "LayoutModel",
          "model_module_version": "1.2.0",
          "state": {
            "_view_name": "LayoutView",
            "grid_template_rows": null,
            "right": null,
            "justify_content": null,
            "_view_module": "@jupyter-widgets/base",
            "overflow": null,
            "_model_module_version": "1.2.0",
            "_view_count": null,
            "flex_flow": null,
            "width": null,
            "min_width": null,
            "border": null,
            "align_items": null,
            "bottom": null,
            "_model_module": "@jupyter-widgets/base",
            "top": null,
            "grid_column": null,
            "overflow_y": null,
            "overflow_x": null,
            "grid_auto_flow": null,
            "grid_area": null,
            "grid_template_columns": null,
            "flex": null,
            "_model_name": "LayoutModel",
            "justify_items": null,
            "grid_row": null,
            "max_height": null,
            "align_content": null,
            "visibility": null,
            "align_self": null,
            "height": null,
            "min_height": null,
            "padding": null,
            "grid_auto_rows": null,
            "grid_gap": null,
            "max_width": null,
            "order": null,
            "_view_module_version": "1.2.0",
            "grid_template_areas": null,
            "object_position": null,
            "object_fit": null,
            "grid_auto_columns": null,
            "margin": null,
            "display": null,
            "left": null
          }
        },
        "a632e3db61db4c71910441a353b977e8": {
          "model_module": "@jupyter-widgets/controls",
          "model_name": "HBoxModel",
          "model_module_version": "1.5.0",
          "state": {
            "_view_name": "HBoxView",
            "_dom_classes": [],
            "_model_name": "HBoxModel",
            "_view_module": "@jupyter-widgets/controls",
            "_model_module_version": "1.5.0",
            "_view_count": null,
            "_view_module_version": "1.5.0",
            "box_style": "",
            "layout": "IPY_MODEL_1fcdc6358d9448639d7e6ed34d690902",
            "_model_module": "@jupyter-widgets/controls",
            "children": [
              "IPY_MODEL_1755848a54084681b6c759a895ad966b",
              "IPY_MODEL_6d4c2a4cff0e46e38ac4c264d7fd5b00",
              "IPY_MODEL_8a3a2da5f305474dbb84e639543d6189"
            ]
          }
        },
        "1fcdc6358d9448639d7e6ed34d690902": {
          "model_module": "@jupyter-widgets/base",
          "model_name": "LayoutModel",
          "model_module_version": "1.2.0",
          "state": {
            "_view_name": "LayoutView",
            "grid_template_rows": null,
            "right": null,
            "justify_content": null,
            "_view_module": "@jupyter-widgets/base",
            "overflow": null,
            "_model_module_version": "1.2.0",
            "_view_count": null,
            "flex_flow": null,
            "width": null,
            "min_width": null,
            "border": null,
            "align_items": null,
            "bottom": null,
            "_model_module": "@jupyter-widgets/base",
            "top": null,
            "grid_column": null,
            "overflow_y": null,
            "overflow_x": null,
            "grid_auto_flow": null,
            "grid_area": null,
            "grid_template_columns": null,
            "flex": null,
            "_model_name": "LayoutModel",
            "justify_items": null,
            "grid_row": null,
            "max_height": null,
            "align_content": null,
            "visibility": null,
            "align_self": null,
            "height": null,
            "min_height": null,
            "padding": null,
            "grid_auto_rows": null,
            "grid_gap": null,
            "max_width": null,
            "order": null,
            "_view_module_version": "1.2.0",
            "grid_template_areas": null,
            "object_position": null,
            "object_fit": null,
            "grid_auto_columns": null,
            "margin": null,
            "display": null,
            "left": null
          }
        },
        "1755848a54084681b6c759a895ad966b": {
          "model_module": "@jupyter-widgets/controls",
          "model_name": "HTMLModel",
          "model_module_version": "1.5.0",
          "state": {
            "_view_name": "HTMLView",
            "style": "IPY_MODEL_4a8be6751cde472f8cbf1b38b6c7d99e",
            "_dom_classes": [],
            "description": "",
            "_model_name": "HTMLModel",
            "placeholder": "​",
            "_view_module": "@jupyter-widgets/controls",
            "_model_module_version": "1.5.0",
            "value": "Downloading: 100%",
            "_view_count": null,
            "_view_module_version": "1.5.0",
            "description_tooltip": null,
            "_model_module": "@jupyter-widgets/controls",
            "layout": "IPY_MODEL_cc94b86a685d4b298ba967cfdcc32169"
          }
        },
        "6d4c2a4cff0e46e38ac4c264d7fd5b00": {
          "model_module": "@jupyter-widgets/controls",
          "model_name": "FloatProgressModel",
          "model_module_version": "1.5.0",
          "state": {
            "_view_name": "ProgressView",
            "style": "IPY_MODEL_a2c39e1be8824553b18e2fb7265c1be1",
            "_dom_classes": [],
            "description": "",
            "_model_name": "FloatProgressModel",
            "bar_style": "success",
            "max": 135,
            "_view_module": "@jupyter-widgets/controls",
            "_model_module_version": "1.5.0",
            "value": 135,
            "_view_count": null,
            "_view_module_version": "1.5.0",
            "orientation": "horizontal",
            "min": 0,
            "description_tooltip": null,
            "_model_module": "@jupyter-widgets/controls",
            "layout": "IPY_MODEL_3df454b7facd439b988445dd8fd2abbf"
          }
        },
        "8a3a2da5f305474dbb84e639543d6189": {
          "model_module": "@jupyter-widgets/controls",
          "model_name": "HTMLModel",
          "model_module_version": "1.5.0",
          "state": {
            "_view_name": "HTMLView",
            "style": "IPY_MODEL_7d2197bf2fab41c2a578bbb0ea8cd9fc",
            "_dom_classes": [],
            "description": "",
            "_model_name": "HTMLModel",
            "placeholder": "​",
            "_view_module": "@jupyter-widgets/controls",
            "_model_module_version": "1.5.0",
            "value": " 135/135 [00:00&lt;00:00, 4.02kB/s]",
            "_view_count": null,
            "_view_module_version": "1.5.0",
            "description_tooltip": null,
            "_model_module": "@jupyter-widgets/controls",
            "layout": "IPY_MODEL_b8dc0fa2211943d092a2bdb7949fcbe8"
          }
        },
        "4a8be6751cde472f8cbf1b38b6c7d99e": {
          "model_module": "@jupyter-widgets/controls",
          "model_name": "DescriptionStyleModel",
          "model_module_version": "1.5.0",
          "state": {
            "_view_name": "StyleView",
            "_model_name": "DescriptionStyleModel",
            "description_width": "",
            "_view_module": "@jupyter-widgets/base",
            "_model_module_version": "1.5.0",
            "_view_count": null,
            "_view_module_version": "1.2.0",
            "_model_module": "@jupyter-widgets/controls"
          }
        },
        "cc94b86a685d4b298ba967cfdcc32169": {
          "model_module": "@jupyter-widgets/base",
          "model_name": "LayoutModel",
          "model_module_version": "1.2.0",
          "state": {
            "_view_name": "LayoutView",
            "grid_template_rows": null,
            "right": null,
            "justify_content": null,
            "_view_module": "@jupyter-widgets/base",
            "overflow": null,
            "_model_module_version": "1.2.0",
            "_view_count": null,
            "flex_flow": null,
            "width": null,
            "min_width": null,
            "border": null,
            "align_items": null,
            "bottom": null,
            "_model_module": "@jupyter-widgets/base",
            "top": null,
            "grid_column": null,
            "overflow_y": null,
            "overflow_x": null,
            "grid_auto_flow": null,
            "grid_area": null,
            "grid_template_columns": null,
            "flex": null,
            "_model_name": "LayoutModel",
            "justify_items": null,
            "grid_row": null,
            "max_height": null,
            "align_content": null,
            "visibility": null,
            "align_self": null,
            "height": null,
            "min_height": null,
            "padding": null,
            "grid_auto_rows": null,
            "grid_gap": null,
            "max_width": null,
            "order": null,
            "_view_module_version": "1.2.0",
            "grid_template_areas": null,
            "object_position": null,
            "object_fit": null,
            "grid_auto_columns": null,
            "margin": null,
            "display": null,
            "left": null
          }
        },
        "a2c39e1be8824553b18e2fb7265c1be1": {
          "model_module": "@jupyter-widgets/controls",
          "model_name": "ProgressStyleModel",
          "model_module_version": "1.5.0",
          "state": {
            "_view_name": "StyleView",
            "_model_name": "ProgressStyleModel",
            "description_width": "",
            "_view_module": "@jupyter-widgets/base",
            "_model_module_version": "1.5.0",
            "_view_count": null,
            "_view_module_version": "1.2.0",
            "bar_color": null,
            "_model_module": "@jupyter-widgets/controls"
          }
        },
        "3df454b7facd439b988445dd8fd2abbf": {
          "model_module": "@jupyter-widgets/base",
          "model_name": "LayoutModel",
          "model_module_version": "1.2.0",
          "state": {
            "_view_name": "LayoutView",
            "grid_template_rows": null,
            "right": null,
            "justify_content": null,
            "_view_module": "@jupyter-widgets/base",
            "overflow": null,
            "_model_module_version": "1.2.0",
            "_view_count": null,
            "flex_flow": null,
            "width": null,
            "min_width": null,
            "border": null,
            "align_items": null,
            "bottom": null,
            "_model_module": "@jupyter-widgets/base",
            "top": null,
            "grid_column": null,
            "overflow_y": null,
            "overflow_x": null,
            "grid_auto_flow": null,
            "grid_area": null,
            "grid_template_columns": null,
            "flex": null,
            "_model_name": "LayoutModel",
            "justify_items": null,
            "grid_row": null,
            "max_height": null,
            "align_content": null,
            "visibility": null,
            "align_self": null,
            "height": null,
            "min_height": null,
            "padding": null,
            "grid_auto_rows": null,
            "grid_gap": null,
            "max_width": null,
            "order": null,
            "_view_module_version": "1.2.0",
            "grid_template_areas": null,
            "object_position": null,
            "object_fit": null,
            "grid_auto_columns": null,
            "margin": null,
            "display": null,
            "left": null
          }
        },
        "7d2197bf2fab41c2a578bbb0ea8cd9fc": {
          "model_module": "@jupyter-widgets/controls",
          "model_name": "DescriptionStyleModel",
          "model_module_version": "1.5.0",
          "state": {
            "_view_name": "StyleView",
            "_model_name": "DescriptionStyleModel",
            "description_width": "",
            "_view_module": "@jupyter-widgets/base",
            "_model_module_version": "1.5.0",
            "_view_count": null,
            "_view_module_version": "1.2.0",
            "_model_module": "@jupyter-widgets/controls"
          }
        },
        "b8dc0fa2211943d092a2bdb7949fcbe8": {
          "model_module": "@jupyter-widgets/base",
          "model_name": "LayoutModel",
          "model_module_version": "1.2.0",
          "state": {
            "_view_name": "LayoutView",
            "grid_template_rows": null,
            "right": null,
            "justify_content": null,
            "_view_module": "@jupyter-widgets/base",
            "overflow": null,
            "_model_module_version": "1.2.0",
            "_view_count": null,
            "flex_flow": null,
            "width": null,
            "min_width": null,
            "border": null,
            "align_items": null,
            "bottom": null,
            "_model_module": "@jupyter-widgets/base",
            "top": null,
            "grid_column": null,
            "overflow_y": null,
            "overflow_x": null,
            "grid_auto_flow": null,
            "grid_area": null,
            "grid_template_columns": null,
            "flex": null,
            "_model_name": "LayoutModel",
            "justify_items": null,
            "grid_row": null,
            "max_height": null,
            "align_content": null,
            "visibility": null,
            "align_self": null,
            "height": null,
            "min_height": null,
            "padding": null,
            "grid_auto_rows": null,
            "grid_gap": null,
            "max_width": null,
            "order": null,
            "_view_module_version": "1.2.0",
            "grid_template_areas": null,
            "object_position": null,
            "object_fit": null,
            "grid_auto_columns": null,
            "margin": null,
            "display": null,
            "left": null
          }
        },
        "1615c7abdf8d4a33bf1db0cdf23d9419": {
          "model_module": "@jupyter-widgets/controls",
          "model_name": "HBoxModel",
          "model_module_version": "1.5.0",
          "state": {
            "_view_name": "HBoxView",
            "_dom_classes": [],
            "_model_name": "HBoxModel",
            "_view_module": "@jupyter-widgets/controls",
            "_model_module_version": "1.5.0",
            "_view_count": null,
            "_view_module_version": "1.5.0",
            "box_style": "",
            "layout": "IPY_MODEL_c3497fcbb9014c9ab8b6cd388c5e8691",
            "_model_module": "@jupyter-widgets/controls",
            "children": [
              "IPY_MODEL_fb76fd4435594afc8487d70a2d4cdf4a",
              "IPY_MODEL_95a223679c4e4bbab752ccbf43ce1e1b",
              "IPY_MODEL_a3363357b1764bbcb80fcd1e7b21406d"
            ]
          }
        },
        "c3497fcbb9014c9ab8b6cd388c5e8691": {
          "model_module": "@jupyter-widgets/base",
          "model_name": "LayoutModel",
          "model_module_version": "1.2.0",
          "state": {
            "_view_name": "LayoutView",
            "grid_template_rows": null,
            "right": null,
            "justify_content": null,
            "_view_module": "@jupyter-widgets/base",
            "overflow": null,
            "_model_module_version": "1.2.0",
            "_view_count": null,
            "flex_flow": null,
            "width": null,
            "min_width": null,
            "border": null,
            "align_items": null,
            "bottom": null,
            "_model_module": "@jupyter-widgets/base",
            "top": null,
            "grid_column": null,
            "overflow_y": null,
            "overflow_x": null,
            "grid_auto_flow": null,
            "grid_area": null,
            "grid_template_columns": null,
            "flex": null,
            "_model_name": "LayoutModel",
            "justify_items": null,
            "grid_row": null,
            "max_height": null,
            "align_content": null,
            "visibility": null,
            "align_self": null,
            "height": null,
            "min_height": null,
            "padding": null,
            "grid_auto_rows": null,
            "grid_gap": null,
            "max_width": null,
            "order": null,
            "_view_module_version": "1.2.0",
            "grid_template_areas": null,
            "object_position": null,
            "object_fit": null,
            "grid_auto_columns": null,
            "margin": null,
            "display": null,
            "left": null
          }
        },
        "fb76fd4435594afc8487d70a2d4cdf4a": {
          "model_module": "@jupyter-widgets/controls",
          "model_name": "HTMLModel",
          "model_module_version": "1.5.0",
          "state": {
            "_view_name": "HTMLView",
            "style": "IPY_MODEL_ec8aafff31d942c58aedb4b5205c604a",
            "_dom_classes": [],
            "description": "",
            "_model_name": "HTMLModel",
            "placeholder": "​",
            "_view_module": "@jupyter-widgets/controls",
            "_model_module_version": "1.5.0",
            "value": "Downloading: 100%",
            "_view_count": null,
            "_view_module_version": "1.5.0",
            "description_tooltip": null,
            "_model_module": "@jupyter-widgets/controls",
            "layout": "IPY_MODEL_0f9d0e4f232c49159727b0915ea1a9d5"
          }
        },
        "95a223679c4e4bbab752ccbf43ce1e1b": {
          "model_module": "@jupyter-widgets/controls",
          "model_name": "FloatProgressModel",
          "model_module_version": "1.5.0",
          "state": {
            "_view_name": "ProgressView",
            "style": "IPY_MODEL_049270076ffb46f9a815c07258a12170",
            "_dom_classes": [],
            "description": "",
            "_model_name": "FloatProgressModel",
            "bar_style": "success",
            "max": 242349,
            "_view_module": "@jupyter-widgets/controls",
            "_model_module_version": "1.5.0",
            "value": 242349,
            "_view_count": null,
            "_view_module_version": "1.5.0",
            "orientation": "horizontal",
            "min": 0,
            "description_tooltip": null,
            "_model_module": "@jupyter-widgets/controls",
            "layout": "IPY_MODEL_d96f54695fc94e1b9c5998fd011bd374"
          }
        },
        "a3363357b1764bbcb80fcd1e7b21406d": {
          "model_module": "@jupyter-widgets/controls",
          "model_name": "HTMLModel",
          "model_module_version": "1.5.0",
          "state": {
            "_view_name": "HTMLView",
            "style": "IPY_MODEL_f60f7428af584a008bca455d6591b877",
            "_dom_classes": [],
            "description": "",
            "_model_name": "HTMLModel",
            "placeholder": "​",
            "_view_module": "@jupyter-widgets/controls",
            "_model_module_version": "1.5.0",
            "value": " 237k/237k [00:00&lt;00:00, 961kB/s]",
            "_view_count": null,
            "_view_module_version": "1.5.0",
            "description_tooltip": null,
            "_model_module": "@jupyter-widgets/controls",
            "layout": "IPY_MODEL_79277bb5055d4a2585318184b0c28def"
          }
        },
        "ec8aafff31d942c58aedb4b5205c604a": {
          "model_module": "@jupyter-widgets/controls",
          "model_name": "DescriptionStyleModel",
          "model_module_version": "1.5.0",
          "state": {
            "_view_name": "StyleView",
            "_model_name": "DescriptionStyleModel",
            "description_width": "",
            "_view_module": "@jupyter-widgets/base",
            "_model_module_version": "1.5.0",
            "_view_count": null,
            "_view_module_version": "1.2.0",
            "_model_module": "@jupyter-widgets/controls"
          }
        },
        "0f9d0e4f232c49159727b0915ea1a9d5": {
          "model_module": "@jupyter-widgets/base",
          "model_name": "LayoutModel",
          "model_module_version": "1.2.0",
          "state": {
            "_view_name": "LayoutView",
            "grid_template_rows": null,
            "right": null,
            "justify_content": null,
            "_view_module": "@jupyter-widgets/base",
            "overflow": null,
            "_model_module_version": "1.2.0",
            "_view_count": null,
            "flex_flow": null,
            "width": null,
            "min_width": null,
            "border": null,
            "align_items": null,
            "bottom": null,
            "_model_module": "@jupyter-widgets/base",
            "top": null,
            "grid_column": null,
            "overflow_y": null,
            "overflow_x": null,
            "grid_auto_flow": null,
            "grid_area": null,
            "grid_template_columns": null,
            "flex": null,
            "_model_name": "LayoutModel",
            "justify_items": null,
            "grid_row": null,
            "max_height": null,
            "align_content": null,
            "visibility": null,
            "align_self": null,
            "height": null,
            "min_height": null,
            "padding": null,
            "grid_auto_rows": null,
            "grid_gap": null,
            "max_width": null,
            "order": null,
            "_view_module_version": "1.2.0",
            "grid_template_areas": null,
            "object_position": null,
            "object_fit": null,
            "grid_auto_columns": null,
            "margin": null,
            "display": null,
            "left": null
          }
        },
        "049270076ffb46f9a815c07258a12170": {
          "model_module": "@jupyter-widgets/controls",
          "model_name": "ProgressStyleModel",
          "model_module_version": "1.5.0",
          "state": {
            "_view_name": "StyleView",
            "_model_name": "ProgressStyleModel",
            "description_width": "",
            "_view_module": "@jupyter-widgets/base",
            "_model_module_version": "1.5.0",
            "_view_count": null,
            "_view_module_version": "1.2.0",
            "bar_color": null,
            "_model_module": "@jupyter-widgets/controls"
          }
        },
        "d96f54695fc94e1b9c5998fd011bd374": {
          "model_module": "@jupyter-widgets/base",
          "model_name": "LayoutModel",
          "model_module_version": "1.2.0",
          "state": {
            "_view_name": "LayoutView",
            "grid_template_rows": null,
            "right": null,
            "justify_content": null,
            "_view_module": "@jupyter-widgets/base",
            "overflow": null,
            "_model_module_version": "1.2.0",
            "_view_count": null,
            "flex_flow": null,
            "width": null,
            "min_width": null,
            "border": null,
            "align_items": null,
            "bottom": null,
            "_model_module": "@jupyter-widgets/base",
            "top": null,
            "grid_column": null,
            "overflow_y": null,
            "overflow_x": null,
            "grid_auto_flow": null,
            "grid_area": null,
            "grid_template_columns": null,
            "flex": null,
            "_model_name": "LayoutModel",
            "justify_items": null,
            "grid_row": null,
            "max_height": null,
            "align_content": null,
            "visibility": null,
            "align_self": null,
            "height": null,
            "min_height": null,
            "padding": null,
            "grid_auto_rows": null,
            "grid_gap": null,
            "max_width": null,
            "order": null,
            "_view_module_version": "1.2.0",
            "grid_template_areas": null,
            "object_position": null,
            "object_fit": null,
            "grid_auto_columns": null,
            "margin": null,
            "display": null,
            "left": null
          }
        },
        "f60f7428af584a008bca455d6591b877": {
          "model_module": "@jupyter-widgets/controls",
          "model_name": "DescriptionStyleModel",
          "model_module_version": "1.5.0",
          "state": {
            "_view_name": "StyleView",
            "_model_name": "DescriptionStyleModel",
            "description_width": "",
            "_view_module": "@jupyter-widgets/base",
            "_model_module_version": "1.5.0",
            "_view_count": null,
            "_view_module_version": "1.2.0",
            "_model_module": "@jupyter-widgets/controls"
          }
        },
        "79277bb5055d4a2585318184b0c28def": {
          "model_module": "@jupyter-widgets/base",
          "model_name": "LayoutModel",
          "model_module_version": "1.2.0",
          "state": {
            "_view_name": "LayoutView",
            "grid_template_rows": null,
            "right": null,
            "justify_content": null,
            "_view_module": "@jupyter-widgets/base",
            "overflow": null,
            "_model_module_version": "1.2.0",
            "_view_count": null,
            "flex_flow": null,
            "width": null,
            "min_width": null,
            "border": null,
            "align_items": null,
            "bottom": null,
            "_model_module": "@jupyter-widgets/base",
            "top": null,
            "grid_column": null,
            "overflow_y": null,
            "overflow_x": null,
            "grid_auto_flow": null,
            "grid_area": null,
            "grid_template_columns": null,
            "flex": null,
            "_model_name": "LayoutModel",
            "justify_items": null,
            "grid_row": null,
            "max_height": null,
            "align_content": null,
            "visibility": null,
            "align_self": null,
            "height": null,
            "min_height": null,
            "padding": null,
            "grid_auto_rows": null,
            "grid_gap": null,
            "max_width": null,
            "order": null,
            "_view_module_version": "1.2.0",
            "grid_template_areas": null,
            "object_position": null,
            "object_fit": null,
            "grid_auto_columns": null,
            "margin": null,
            "display": null,
            "left": null
          }
        },
        "72d0af28f3144a94b273e04c4d3a00f4": {
          "model_module": "@jupyter-widgets/controls",
          "model_name": "HBoxModel",
          "model_module_version": "1.5.0",
          "state": {
            "_view_name": "HBoxView",
            "_dom_classes": [],
            "_model_name": "HBoxModel",
            "_view_module": "@jupyter-widgets/controls",
            "_model_module_version": "1.5.0",
            "_view_count": null,
            "_view_module_version": "1.5.0",
            "box_style": "",
            "layout": "IPY_MODEL_03dc04205a2646689ef982198228514c",
            "_model_module": "@jupyter-widgets/controls",
            "children": [
              "IPY_MODEL_6c31b5a882cc4f89b68bd4dfa9312cf0",
              "IPY_MODEL_42111fd3b2d847fcb23cc8617ae20d3f",
              "IPY_MODEL_7375209dd1c6437f9aab4af83c5d5c05"
            ]
          }
        },
        "03dc04205a2646689ef982198228514c": {
          "model_module": "@jupyter-widgets/base",
          "model_name": "LayoutModel",
          "model_module_version": "1.2.0",
          "state": {
            "_view_name": "LayoutView",
            "grid_template_rows": null,
            "right": null,
            "justify_content": null,
            "_view_module": "@jupyter-widgets/base",
            "overflow": null,
            "_model_module_version": "1.2.0",
            "_view_count": null,
            "flex_flow": null,
            "width": null,
            "min_width": null,
            "border": null,
            "align_items": null,
            "bottom": null,
            "_model_module": "@jupyter-widgets/base",
            "top": null,
            "grid_column": null,
            "overflow_y": null,
            "overflow_x": null,
            "grid_auto_flow": null,
            "grid_area": null,
            "grid_template_columns": null,
            "flex": null,
            "_model_name": "LayoutModel",
            "justify_items": null,
            "grid_row": null,
            "max_height": null,
            "align_content": null,
            "visibility": null,
            "align_self": null,
            "height": null,
            "min_height": null,
            "padding": null,
            "grid_auto_rows": null,
            "grid_gap": null,
            "max_width": null,
            "order": null,
            "_view_module_version": "1.2.0",
            "grid_template_areas": null,
            "object_position": null,
            "object_fit": null,
            "grid_auto_columns": null,
            "margin": null,
            "display": null,
            "left": null
          }
        },
        "6c31b5a882cc4f89b68bd4dfa9312cf0": {
          "model_module": "@jupyter-widgets/controls",
          "model_name": "HTMLModel",
          "model_module_version": "1.5.0",
          "state": {
            "_view_name": "HTMLView",
            "style": "IPY_MODEL_8f742360461d4291b857e60bc4eb0a1e",
            "_dom_classes": [],
            "description": "",
            "_model_name": "HTMLModel",
            "placeholder": "​",
            "_view_module": "@jupyter-widgets/controls",
            "_model_module_version": "1.5.0",
            "value": "Downloading: 100%",
            "_view_count": null,
            "_view_module_version": "1.5.0",
            "description_tooltip": null,
            "_model_module": "@jupyter-widgets/controls",
            "layout": "IPY_MODEL_edd10ce422b246a6b5a3d234c0f945e0"
          }
        },
        "42111fd3b2d847fcb23cc8617ae20d3f": {
          "model_module": "@jupyter-widgets/controls",
          "model_name": "FloatProgressModel",
          "model_module_version": "1.5.0",
          "state": {
            "_view_name": "ProgressView",
            "style": "IPY_MODEL_22e039fa32c84f1bb659887a905fc694",
            "_dom_classes": [],
            "description": "",
            "_model_name": "FloatProgressModel",
            "bar_style": "success",
            "max": 112,
            "_view_module": "@jupyter-widgets/controls",
            "_model_module_version": "1.5.0",
            "value": 112,
            "_view_count": null,
            "_view_module_version": "1.5.0",
            "orientation": "horizontal",
            "min": 0,
            "description_tooltip": null,
            "_model_module": "@jupyter-widgets/controls",
            "layout": "IPY_MODEL_ee8c88608f5e4996b0e2690da707f204"
          }
        },
        "7375209dd1c6437f9aab4af83c5d5c05": {
          "model_module": "@jupyter-widgets/controls",
          "model_name": "HTMLModel",
          "model_module_version": "1.5.0",
          "state": {
            "_view_name": "HTMLView",
            "style": "IPY_MODEL_216f2ff3a4ad42c5bcf771e87ab68019",
            "_dom_classes": [],
            "description": "",
            "_model_name": "HTMLModel",
            "placeholder": "​",
            "_view_module": "@jupyter-widgets/controls",
            "_model_module_version": "1.5.0",
            "value": " 112/112 [00:00&lt;00:00, 3.67kB/s]",
            "_view_count": null,
            "_view_module_version": "1.5.0",
            "description_tooltip": null,
            "_model_module": "@jupyter-widgets/controls",
            "layout": "IPY_MODEL_e46acae48fa84187bd61d47896fb858a"
          }
        },
        "8f742360461d4291b857e60bc4eb0a1e": {
          "model_module": "@jupyter-widgets/controls",
          "model_name": "DescriptionStyleModel",
          "model_module_version": "1.5.0",
          "state": {
            "_view_name": "StyleView",
            "_model_name": "DescriptionStyleModel",
            "description_width": "",
            "_view_module": "@jupyter-widgets/base",
            "_model_module_version": "1.5.0",
            "_view_count": null,
            "_view_module_version": "1.2.0",
            "_model_module": "@jupyter-widgets/controls"
          }
        },
        "edd10ce422b246a6b5a3d234c0f945e0": {
          "model_module": "@jupyter-widgets/base",
          "model_name": "LayoutModel",
          "model_module_version": "1.2.0",
          "state": {
            "_view_name": "LayoutView",
            "grid_template_rows": null,
            "right": null,
            "justify_content": null,
            "_view_module": "@jupyter-widgets/base",
            "overflow": null,
            "_model_module_version": "1.2.0",
            "_view_count": null,
            "flex_flow": null,
            "width": null,
            "min_width": null,
            "border": null,
            "align_items": null,
            "bottom": null,
            "_model_module": "@jupyter-widgets/base",
            "top": null,
            "grid_column": null,
            "overflow_y": null,
            "overflow_x": null,
            "grid_auto_flow": null,
            "grid_area": null,
            "grid_template_columns": null,
            "flex": null,
            "_model_name": "LayoutModel",
            "justify_items": null,
            "grid_row": null,
            "max_height": null,
            "align_content": null,
            "visibility": null,
            "align_self": null,
            "height": null,
            "min_height": null,
            "padding": null,
            "grid_auto_rows": null,
            "grid_gap": null,
            "max_width": null,
            "order": null,
            "_view_module_version": "1.2.0",
            "grid_template_areas": null,
            "object_position": null,
            "object_fit": null,
            "grid_auto_columns": null,
            "margin": null,
            "display": null,
            "left": null
          }
        },
        "22e039fa32c84f1bb659887a905fc694": {
          "model_module": "@jupyter-widgets/controls",
          "model_name": "ProgressStyleModel",
          "model_module_version": "1.5.0",
          "state": {
            "_view_name": "StyleView",
            "_model_name": "ProgressStyleModel",
            "description_width": "",
            "_view_module": "@jupyter-widgets/base",
            "_model_module_version": "1.5.0",
            "_view_count": null,
            "_view_module_version": "1.2.0",
            "bar_color": null,
            "_model_module": "@jupyter-widgets/controls"
          }
        },
        "ee8c88608f5e4996b0e2690da707f204": {
          "model_module": "@jupyter-widgets/base",
          "model_name": "LayoutModel",
          "model_module_version": "1.2.0",
          "state": {
            "_view_name": "LayoutView",
            "grid_template_rows": null,
            "right": null,
            "justify_content": null,
            "_view_module": "@jupyter-widgets/base",
            "overflow": null,
            "_model_module_version": "1.2.0",
            "_view_count": null,
            "flex_flow": null,
            "width": null,
            "min_width": null,
            "border": null,
            "align_items": null,
            "bottom": null,
            "_model_module": "@jupyter-widgets/base",
            "top": null,
            "grid_column": null,
            "overflow_y": null,
            "overflow_x": null,
            "grid_auto_flow": null,
            "grid_area": null,
            "grid_template_columns": null,
            "flex": null,
            "_model_name": "LayoutModel",
            "justify_items": null,
            "grid_row": null,
            "max_height": null,
            "align_content": null,
            "visibility": null,
            "align_self": null,
            "height": null,
            "min_height": null,
            "padding": null,
            "grid_auto_rows": null,
            "grid_gap": null,
            "max_width": null,
            "order": null,
            "_view_module_version": "1.2.0",
            "grid_template_areas": null,
            "object_position": null,
            "object_fit": null,
            "grid_auto_columns": null,
            "margin": null,
            "display": null,
            "left": null
          }
        },
        "216f2ff3a4ad42c5bcf771e87ab68019": {
          "model_module": "@jupyter-widgets/controls",
          "model_name": "DescriptionStyleModel",
          "model_module_version": "1.5.0",
          "state": {
            "_view_name": "StyleView",
            "_model_name": "DescriptionStyleModel",
            "description_width": "",
            "_view_module": "@jupyter-widgets/base",
            "_model_module_version": "1.5.0",
            "_view_count": null,
            "_view_module_version": "1.2.0",
            "_model_module": "@jupyter-widgets/controls"
          }
        },
        "e46acae48fa84187bd61d47896fb858a": {
          "model_module": "@jupyter-widgets/base",
          "model_name": "LayoutModel",
          "model_module_version": "1.2.0",
          "state": {
            "_view_name": "LayoutView",
            "grid_template_rows": null,
            "right": null,
            "justify_content": null,
            "_view_module": "@jupyter-widgets/base",
            "overflow": null,
            "_model_module_version": "1.2.0",
            "_view_count": null,
            "flex_flow": null,
            "width": null,
            "min_width": null,
            "border": null,
            "align_items": null,
            "bottom": null,
            "_model_module": "@jupyter-widgets/base",
            "top": null,
            "grid_column": null,
            "overflow_y": null,
            "overflow_x": null,
            "grid_auto_flow": null,
            "grid_area": null,
            "grid_template_columns": null,
            "flex": null,
            "_model_name": "LayoutModel",
            "justify_items": null,
            "grid_row": null,
            "max_height": null,
            "align_content": null,
            "visibility": null,
            "align_self": null,
            "height": null,
            "min_height": null,
            "padding": null,
            "grid_auto_rows": null,
            "grid_gap": null,
            "max_width": null,
            "order": null,
            "_view_module_version": "1.2.0",
            "grid_template_areas": null,
            "object_position": null,
            "object_fit": null,
            "grid_auto_columns": null,
            "margin": null,
            "display": null,
            "left": null
          }
        }
      }
    }
  },
  "cells": [
    {
      "cell_type": "markdown",
      "metadata": {
        "id": "93-Rg2V5Q__d"
      },
      "source": [
        "# Tarea 2: Procesamiento de Lenguaje Natural\n",
        "\n"
      ]
    },
    {
      "cell_type": "markdown",
      "source": [
        "Integrantes:\n",
        "\n",
        "* Sebastián Alday (Rut: 18294095-K)\n",
        "* Paula Canales G. (Rut: 18845155-1)\n",
        "* Álvaro Neira R. (Rut: 13757209-5)\n",
        "* Matias Rodriguez U. (Rut: 18362815-1)"
      ],
      "metadata": {
        "id": "bV8mxLYPE5EC"
      }
    },
    {
      "cell_type": "markdown",
      "source": [
        "# Introducción"
      ],
      "metadata": {
        "id": "VtPPoj2_FLJ8"
      }
    },
    {
      "cell_type": "code",
      "source": [
        "!pip install transformers\n",
        "from transformers import pipeline, AutoTokenizer, Trainer, TrainingArguments, AutoModel, AutoModelForSequenceClassification"
      ],
      "metadata": {
        "colab": {
          "base_uri": "https://localhost:8080/"
        },
        "id": "9LAo5hNNQV7P",
        "outputId": "c16ca406-b518-46e3-f767-86ad3f879492"
      },
      "execution_count": 1,
      "outputs": [
        {
          "output_type": "stream",
          "name": "stdout",
          "text": [
            "Collecting transformers\n",
            "  Downloading transformers-4.15.0-py3-none-any.whl (3.4 MB)\n",
            "\u001b[K     |████████████████████████████████| 3.4 MB 10.0 MB/s \n",
            "\u001b[?25hCollecting pyyaml>=5.1\n",
            "  Downloading PyYAML-6.0-cp37-cp37m-manylinux_2_5_x86_64.manylinux1_x86_64.manylinux_2_12_x86_64.manylinux2010_x86_64.whl (596 kB)\n",
            "\u001b[K     |████████████████████████████████| 596 kB 62.5 MB/s \n",
            "\u001b[?25hRequirement already satisfied: tqdm>=4.27 in /usr/local/lib/python3.7/dist-packages (from transformers) (4.62.3)\n",
            "Collecting sacremoses\n",
            "  Downloading sacremoses-0.0.46-py3-none-any.whl (895 kB)\n",
            "\u001b[K     |████████████████████████████████| 895 kB 60.3 MB/s \n",
            "\u001b[?25hRequirement already satisfied: regex!=2019.12.17 in /usr/local/lib/python3.7/dist-packages (from transformers) (2019.12.20)\n",
            "Requirement already satisfied: packaging>=20.0 in /usr/local/lib/python3.7/dist-packages (from transformers) (21.3)\n",
            "Collecting tokenizers<0.11,>=0.10.1\n",
            "  Downloading tokenizers-0.10.3-cp37-cp37m-manylinux_2_5_x86_64.manylinux1_x86_64.manylinux_2_12_x86_64.manylinux2010_x86_64.whl (3.3 MB)\n",
            "\u001b[K     |████████████████████████████████| 3.3 MB 50.8 MB/s \n",
            "\u001b[?25hRequirement already satisfied: importlib-metadata in /usr/local/lib/python3.7/dist-packages (from transformers) (4.8.2)\n",
            "Requirement already satisfied: filelock in /usr/local/lib/python3.7/dist-packages (from transformers) (3.4.0)\n",
            "Requirement already satisfied: numpy>=1.17 in /usr/local/lib/python3.7/dist-packages (from transformers) (1.19.5)\n",
            "Collecting huggingface-hub<1.0,>=0.1.0\n",
            "  Downloading huggingface_hub-0.2.1-py3-none-any.whl (61 kB)\n",
            "\u001b[K     |████████████████████████████████| 61 kB 502 kB/s \n",
            "\u001b[?25hRequirement already satisfied: requests in /usr/local/lib/python3.7/dist-packages (from transformers) (2.23.0)\n",
            "Requirement already satisfied: typing-extensions>=3.7.4.3 in /usr/local/lib/python3.7/dist-packages (from huggingface-hub<1.0,>=0.1.0->transformers) (3.10.0.2)\n",
            "Requirement already satisfied: pyparsing!=3.0.5,>=2.0.2 in /usr/local/lib/python3.7/dist-packages (from packaging>=20.0->transformers) (3.0.6)\n",
            "Requirement already satisfied: zipp>=0.5 in /usr/local/lib/python3.7/dist-packages (from importlib-metadata->transformers) (3.6.0)\n",
            "Requirement already satisfied: idna<3,>=2.5 in /usr/local/lib/python3.7/dist-packages (from requests->transformers) (2.10)\n",
            "Requirement already satisfied: chardet<4,>=3.0.2 in /usr/local/lib/python3.7/dist-packages (from requests->transformers) (3.0.4)\n",
            "Requirement already satisfied: urllib3!=1.25.0,!=1.25.1,<1.26,>=1.21.1 in /usr/local/lib/python3.7/dist-packages (from requests->transformers) (1.24.3)\n",
            "Requirement already satisfied: certifi>=2017.4.17 in /usr/local/lib/python3.7/dist-packages (from requests->transformers) (2021.10.8)\n",
            "Requirement already satisfied: six in /usr/local/lib/python3.7/dist-packages (from sacremoses->transformers) (1.15.0)\n",
            "Requirement already satisfied: click in /usr/local/lib/python3.7/dist-packages (from sacremoses->transformers) (7.1.2)\n",
            "Requirement already satisfied: joblib in /usr/local/lib/python3.7/dist-packages (from sacremoses->transformers) (1.1.0)\n",
            "Installing collected packages: pyyaml, tokenizers, sacremoses, huggingface-hub, transformers\n",
            "  Attempting uninstall: pyyaml\n",
            "    Found existing installation: PyYAML 3.13\n",
            "    Uninstalling PyYAML-3.13:\n",
            "      Successfully uninstalled PyYAML-3.13\n",
            "Successfully installed huggingface-hub-0.2.1 pyyaml-6.0 sacremoses-0.0.46 tokenizers-0.10.3 transformers-4.15.0\n"
          ]
        }
      ]
    },
    {
      "cell_type": "markdown",
      "source": [
        "# 1. Creacion y limpieza de la base de datos "
      ],
      "metadata": {
        "id": "NnIrZRjoFO3a"
      }
    },
    {
      "cell_type": "markdown",
      "source": [
        "## 1.1 Elija una organización que cuenta con una lista de preguntas y respuestas"
      ],
      "metadata": {
        "id": "5ZYeSc93FyGX"
      }
    },
    {
      "cell_type": "markdown",
      "source": [
        "Chilexpress\n",
        "https://centrodeayuda.chilexpress.cl/home"
      ],
      "metadata": {
        "id": "pk0QdTdzUETd"
      }
    },
    {
      "cell_type": "markdown",
      "source": [
        "## 1.2 Genere una tabla (tablaQA.xls) con las preguntas y respuestas de la organización seleccionada."
      ],
      "metadata": {
        "id": "cih2PxSMF0J9"
      }
    },
    {
      "cell_type": "code",
      "source": [
        "!wget https://www.dropbox.com/s/9zty4fuh8boofda/tablaQA.csv"
      ],
      "metadata": {
        "colab": {
          "base_uri": "https://localhost:8080/"
        },
        "id": "b_fdDPowbPzD",
        "outputId": "c9101486-ac4b-4b7d-c831-32b85dcac50d"
      },
      "execution_count": 2,
      "outputs": [
        {
          "output_type": "stream",
          "name": "stdout",
          "text": [
            "--2021-12-29 17:38:43--  https://www.dropbox.com/s/9zty4fuh8boofda/tablaQA.csv\n",
            "Resolving www.dropbox.com (www.dropbox.com)... 162.125.1.18, 2620:100:6016:18::a27d:112\n",
            "Connecting to www.dropbox.com (www.dropbox.com)|162.125.1.18|:443... connected.\n",
            "HTTP request sent, awaiting response... 301 Moved Permanently\n",
            "Location: /s/raw/9zty4fuh8boofda/tablaQA.csv [following]\n",
            "--2021-12-29 17:38:43--  https://www.dropbox.com/s/raw/9zty4fuh8boofda/tablaQA.csv\n",
            "Reusing existing connection to www.dropbox.com:443.\n",
            "HTTP request sent, awaiting response... 302 Found\n",
            "Location: https://uc386f7b2e523f67114dcf450b94.dl.dropboxusercontent.com/cd/0/inline/BczWPXsrAOZtLpyG62ZRmGqMq1y9aiPTWKW_oTuSsdYRJYwWq_y8Eo0npRbzjSBfxMBjw7bVeaVw3482onuXmEP3FGUJMrcp5h85B0Jx_hWUhr9VctGbduIxX38XsBGVgs6ugL7LRck4cwyw0NrtYnK0/file# [following]\n",
            "--2021-12-29 17:38:43--  https://uc386f7b2e523f67114dcf450b94.dl.dropboxusercontent.com/cd/0/inline/BczWPXsrAOZtLpyG62ZRmGqMq1y9aiPTWKW_oTuSsdYRJYwWq_y8Eo0npRbzjSBfxMBjw7bVeaVw3482onuXmEP3FGUJMrcp5h85B0Jx_hWUhr9VctGbduIxX38XsBGVgs6ugL7LRck4cwyw0NrtYnK0/file\n",
            "Resolving uc386f7b2e523f67114dcf450b94.dl.dropboxusercontent.com (uc386f7b2e523f67114dcf450b94.dl.dropboxusercontent.com)... 162.125.1.15, 2620:100:6016:15::a27d:10f\n",
            "Connecting to uc386f7b2e523f67114dcf450b94.dl.dropboxusercontent.com (uc386f7b2e523f67114dcf450b94.dl.dropboxusercontent.com)|162.125.1.15|:443... connected.\n",
            "HTTP request sent, awaiting response... 200 OK\n",
            "Length: 14811 (14K) [text/plain]\n",
            "Saving to: ‘tablaQA.csv’\n",
            "\n",
            "tablaQA.csv         100%[===================>]  14.46K  --.-KB/s    in 0s      \n",
            "\n",
            "2021-12-29 17:38:44 (220 MB/s) - ‘tablaQA.csv’ saved [14811/14811]\n",
            "\n"
          ]
        }
      ]
    },
    {
      "cell_type": "code",
      "source": [
        "import pandas as pd\n",
        "qa = pd.read_csv('/content/tablaQA.csv', sep=';')\n",
        "qa.head()"
      ],
      "metadata": {
        "colab": {
          "base_uri": "https://localhost:8080/",
          "height": 206
        },
        "id": "Bw2lQ44cbjYa",
        "outputId": "595cc045-6c8d-4567-9db2-3f572fd2c995"
      },
      "execution_count": 3,
      "outputs": [
        {
          "output_type": "execute_result",
          "data": {
            "text/html": [
              "\n",
              "  <div id=\"df-3dd00f7e-78bf-4ecf-86c1-05260a49b6c0\">\n",
              "    <div class=\"colab-df-container\">\n",
              "      <div>\n",
              "<style scoped>\n",
              "    .dataframe tbody tr th:only-of-type {\n",
              "        vertical-align: middle;\n",
              "    }\n",
              "\n",
              "    .dataframe tbody tr th {\n",
              "        vertical-align: top;\n",
              "    }\n",
              "\n",
              "    .dataframe thead th {\n",
              "        text-align: right;\n",
              "    }\n",
              "</style>\n",
              "<table border=\"1\" class=\"dataframe\">\n",
              "  <thead>\n",
              "    <tr style=\"text-align: right;\">\n",
              "      <th></th>\n",
              "      <th>Pregunta</th>\n",
              "      <th>Respuesta</th>\n",
              "    </tr>\n",
              "  </thead>\n",
              "  <tbody>\n",
              "    <tr>\n",
              "      <th>0</th>\n",
              "      <td>¿Qué es la Orden de Transporte (OT)?</td>\n",
              "      <td>La Orden de Transporte (OT) es el número asoci...</td>\n",
              "    </tr>\n",
              "    <tr>\n",
              "      <th>1</th>\n",
              "      <td>¿Cuál es el plazo para retirar un envío desde ...</td>\n",
              "      <td>El plazo para retirar un envío desde una sucur...</td>\n",
              "    </tr>\n",
              "    <tr>\n",
              "      <th>2</th>\n",
              "      <td>¿Puede otra persona retirar mi envío de una su...</td>\n",
              "      <td>Para que una persona que no es el destinatario...</td>\n",
              "    </tr>\n",
              "    <tr>\n",
              "      <th>3</th>\n",
              "      <td>¿Se puede modificar la dirección de envío?</td>\n",
              "      <td>Sí, el cambio puede ser solicitado por el remi...</td>\n",
              "    </tr>\n",
              "    <tr>\n",
              "      <th>4</th>\n",
              "      <td>¿Puedo cambiar el destino del envío desde una ...</td>\n",
              "      <td>Sí, el cambio puede ser solicitado por el remi...</td>\n",
              "    </tr>\n",
              "  </tbody>\n",
              "</table>\n",
              "</div>\n",
              "      <button class=\"colab-df-convert\" onclick=\"convertToInteractive('df-3dd00f7e-78bf-4ecf-86c1-05260a49b6c0')\"\n",
              "              title=\"Convert this dataframe to an interactive table.\"\n",
              "              style=\"display:none;\">\n",
              "        \n",
              "  <svg xmlns=\"http://www.w3.org/2000/svg\" height=\"24px\"viewBox=\"0 0 24 24\"\n",
              "       width=\"24px\">\n",
              "    <path d=\"M0 0h24v24H0V0z\" fill=\"none\"/>\n",
              "    <path d=\"M18.56 5.44l.94 2.06.94-2.06 2.06-.94-2.06-.94-.94-2.06-.94 2.06-2.06.94zm-11 1L8.5 8.5l.94-2.06 2.06-.94-2.06-.94L8.5 2.5l-.94 2.06-2.06.94zm10 10l.94 2.06.94-2.06 2.06-.94-2.06-.94-.94-2.06-.94 2.06-2.06.94z\"/><path d=\"M17.41 7.96l-1.37-1.37c-.4-.4-.92-.59-1.43-.59-.52 0-1.04.2-1.43.59L10.3 9.45l-7.72 7.72c-.78.78-.78 2.05 0 2.83L4 21.41c.39.39.9.59 1.41.59.51 0 1.02-.2 1.41-.59l7.78-7.78 2.81-2.81c.8-.78.8-2.07 0-2.86zM5.41 20L4 18.59l7.72-7.72 1.47 1.35L5.41 20z\"/>\n",
              "  </svg>\n",
              "      </button>\n",
              "      \n",
              "  <style>\n",
              "    .colab-df-container {\n",
              "      display:flex;\n",
              "      flex-wrap:wrap;\n",
              "      gap: 12px;\n",
              "    }\n",
              "\n",
              "    .colab-df-convert {\n",
              "      background-color: #E8F0FE;\n",
              "      border: none;\n",
              "      border-radius: 50%;\n",
              "      cursor: pointer;\n",
              "      display: none;\n",
              "      fill: #1967D2;\n",
              "      height: 32px;\n",
              "      padding: 0 0 0 0;\n",
              "      width: 32px;\n",
              "    }\n",
              "\n",
              "    .colab-df-convert:hover {\n",
              "      background-color: #E2EBFA;\n",
              "      box-shadow: 0px 1px 2px rgba(60, 64, 67, 0.3), 0px 1px 3px 1px rgba(60, 64, 67, 0.15);\n",
              "      fill: #174EA6;\n",
              "    }\n",
              "\n",
              "    [theme=dark] .colab-df-convert {\n",
              "      background-color: #3B4455;\n",
              "      fill: #D2E3FC;\n",
              "    }\n",
              "\n",
              "    [theme=dark] .colab-df-convert:hover {\n",
              "      background-color: #434B5C;\n",
              "      box-shadow: 0px 1px 3px 1px rgba(0, 0, 0, 0.15);\n",
              "      filter: drop-shadow(0px 1px 2px rgba(0, 0, 0, 0.3));\n",
              "      fill: #FFFFFF;\n",
              "    }\n",
              "  </style>\n",
              "\n",
              "      <script>\n",
              "        const buttonEl =\n",
              "          document.querySelector('#df-3dd00f7e-78bf-4ecf-86c1-05260a49b6c0 button.colab-df-convert');\n",
              "        buttonEl.style.display =\n",
              "          google.colab.kernel.accessAllowed ? 'block' : 'none';\n",
              "\n",
              "        async function convertToInteractive(key) {\n",
              "          const element = document.querySelector('#df-3dd00f7e-78bf-4ecf-86c1-05260a49b6c0');\n",
              "          const dataTable =\n",
              "            await google.colab.kernel.invokeFunction('convertToInteractive',\n",
              "                                                     [key], {});\n",
              "          if (!dataTable) return;\n",
              "\n",
              "          const docLinkHtml = 'Like what you see? Visit the ' +\n",
              "            '<a target=\"_blank\" href=https://colab.research.google.com/notebooks/data_table.ipynb>data table notebook</a>'\n",
              "            + ' to learn more about interactive tables.';\n",
              "          element.innerHTML = '';\n",
              "          dataTable['output_type'] = 'display_data';\n",
              "          await google.colab.output.renderOutput(dataTable, element);\n",
              "          const docLink = document.createElement('div');\n",
              "          docLink.innerHTML = docLinkHtml;\n",
              "          element.appendChild(docLink);\n",
              "        }\n",
              "      </script>\n",
              "    </div>\n",
              "  </div>\n",
              "  "
            ],
            "text/plain": [
              "                                            Pregunta                                          Respuesta\n",
              "0               ¿Qué es la Orden de Transporte (OT)?  La Orden de Transporte (OT) es el número asoci...\n",
              "1  ¿Cuál es el plazo para retirar un envío desde ...  El plazo para retirar un envío desde una sucur...\n",
              "2  ¿Puede otra persona retirar mi envío de una su...  Para que una persona que no es el destinatario...\n",
              "3         ¿Se puede modificar la dirección de envío?  Sí, el cambio puede ser solicitado por el remi...\n",
              "4  ¿Puedo cambiar el destino del envío desde una ...  Sí, el cambio puede ser solicitado por el remi..."
            ]
          },
          "metadata": {},
          "execution_count": 3
        }
      ]
    },
    {
      "cell_type": "code",
      "source": [
        "qa.info()"
      ],
      "metadata": {
        "colab": {
          "base_uri": "https://localhost:8080/"
        },
        "id": "BdgNtDGyb608",
        "outputId": "ca8c8aad-ac31-4882-f994-38f32e133862"
      },
      "execution_count": 4,
      "outputs": [
        {
          "output_type": "stream",
          "name": "stdout",
          "text": [
            "<class 'pandas.core.frame.DataFrame'>\n",
            "RangeIndex: 46 entries, 0 to 45\n",
            "Data columns (total 2 columns):\n",
            " #   Column     Non-Null Count  Dtype \n",
            "---  ------     --------------  ----- \n",
            " 0   Pregunta   46 non-null     object\n",
            " 1   Respuesta  46 non-null     object\n",
            "dtypes: object(2)\n",
            "memory usage: 864.0+ bytes\n"
          ]
        }
      ]
    },
    {
      "cell_type": "markdown",
      "source": [
        "## 1.3 Genere una tabla (tiposmensajes.xls) con ejemplos de las siguientes clases de mensaje: \"saludo\", \"despedida\", \"nombre\", \"informacion\""
      ],
      "metadata": {
        "id": "Dxd1ZhwnGBzn"
      }
    },
    {
      "cell_type": "code",
      "source": [
        "!wget https://www.dropbox.com/s/wqmpjpdin6jmp3a/tiposmensajes.csv"
      ],
      "metadata": {
        "colab": {
          "base_uri": "https://localhost:8080/"
        },
        "id": "igsR0QmXN3d8",
        "outputId": "2c01b19c-6bea-4b87-e789-d77c32cf5f4d"
      },
      "execution_count": 5,
      "outputs": [
        {
          "output_type": "stream",
          "name": "stdout",
          "text": [
            "--2021-12-29 17:39:20--  https://www.dropbox.com/s/wqmpjpdin6jmp3a/tiposmensajes.csv\n",
            "Resolving www.dropbox.com (www.dropbox.com)... 162.125.1.18, 2620:100:6016:18::a27d:112\n",
            "Connecting to www.dropbox.com (www.dropbox.com)|162.125.1.18|:443... connected.\n",
            "HTTP request sent, awaiting response... 301 Moved Permanently\n",
            "Location: /s/raw/wqmpjpdin6jmp3a/tiposmensajes.csv [following]\n",
            "--2021-12-29 17:39:20--  https://www.dropbox.com/s/raw/wqmpjpdin6jmp3a/tiposmensajes.csv\n",
            "Reusing existing connection to www.dropbox.com:443.\n",
            "HTTP request sent, awaiting response... 302 Found\n",
            "Location: https://uc137a6bed0f55c870160747cc89.dl.dropboxusercontent.com/cd/0/inline/BczviOuOGXQ5ZWfsrgOaxu0o3hzbIJleA0_NdojzBr4sSlXxE4lBWE3HBuQubQ5TRwFGT7bDMIbg5ruqpvw5RzjUqsDkuXWNeU0TIKKeJ8XI3DsmD1f69PQ44563hw6DKfW560UNEDh9hld6RbVzHhMT/file# [following]\n",
            "--2021-12-29 17:39:21--  https://uc137a6bed0f55c870160747cc89.dl.dropboxusercontent.com/cd/0/inline/BczviOuOGXQ5ZWfsrgOaxu0o3hzbIJleA0_NdojzBr4sSlXxE4lBWE3HBuQubQ5TRwFGT7bDMIbg5ruqpvw5RzjUqsDkuXWNeU0TIKKeJ8XI3DsmD1f69PQ44563hw6DKfW560UNEDh9hld6RbVzHhMT/file\n",
            "Resolving uc137a6bed0f55c870160747cc89.dl.dropboxusercontent.com (uc137a6bed0f55c870160747cc89.dl.dropboxusercontent.com)... 162.125.1.15, 2620:100:6016:15::a27d:10f\n",
            "Connecting to uc137a6bed0f55c870160747cc89.dl.dropboxusercontent.com (uc137a6bed0f55c870160747cc89.dl.dropboxusercontent.com)|162.125.1.15|:443... connected.\n",
            "HTTP request sent, awaiting response... 200 OK\n",
            "Length: 4212 (4.1K) [text/plain]\n",
            "Saving to: ‘tiposmensajes.csv’\n",
            "\n",
            "tiposmensajes.csv   100%[===================>]   4.11K  --.-KB/s    in 0s      \n",
            "\n",
            "2021-12-29 17:39:21 (404 MB/s) - ‘tiposmensajes.csv’ saved [4212/4212]\n",
            "\n"
          ]
        }
      ]
    },
    {
      "cell_type": "code",
      "source": [
        "messages = pd.read_csv('/content/tiposmensajes.csv', sep=',')\n",
        "messages.head()"
      ],
      "metadata": {
        "colab": {
          "base_uri": "https://localhost:8080/",
          "height": 206
        },
        "id": "SfaFFiPLOD85",
        "outputId": "916a9595-8dd2-46d9-df34-2c303d373327"
      },
      "execution_count": 6,
      "outputs": [
        {
          "output_type": "execute_result",
          "data": {
            "text/html": [
              "\n",
              "  <div id=\"df-c89c5fec-7c93-4799-adbf-123bcd20b064\">\n",
              "    <div class=\"colab-df-container\">\n",
              "      <div>\n",
              "<style scoped>\n",
              "    .dataframe tbody tr th:only-of-type {\n",
              "        vertical-align: middle;\n",
              "    }\n",
              "\n",
              "    .dataframe tbody tr th {\n",
              "        vertical-align: top;\n",
              "    }\n",
              "\n",
              "    .dataframe thead th {\n",
              "        text-align: right;\n",
              "    }\n",
              "</style>\n",
              "<table border=\"1\" class=\"dataframe\">\n",
              "  <thead>\n",
              "    <tr style=\"text-align: right;\">\n",
              "      <th></th>\n",
              "      <th>Clase</th>\n",
              "      <th>Mensaje</th>\n",
              "    </tr>\n",
              "  </thead>\n",
              "  <tbody>\n",
              "    <tr>\n",
              "      <th>0</th>\n",
              "      <td>saludo</td>\n",
              "      <td>Hola</td>\n",
              "    </tr>\n",
              "    <tr>\n",
              "      <th>1</th>\n",
              "      <td>saludo</td>\n",
              "      <td>Hi</td>\n",
              "    </tr>\n",
              "    <tr>\n",
              "      <th>2</th>\n",
              "      <td>saludo</td>\n",
              "      <td>Buenos días</td>\n",
              "    </tr>\n",
              "    <tr>\n",
              "      <th>3</th>\n",
              "      <td>saludo</td>\n",
              "      <td>Buenas tardes</td>\n",
              "    </tr>\n",
              "    <tr>\n",
              "      <th>4</th>\n",
              "      <td>saludo</td>\n",
              "      <td>Como estas</td>\n",
              "    </tr>\n",
              "  </tbody>\n",
              "</table>\n",
              "</div>\n",
              "      <button class=\"colab-df-convert\" onclick=\"convertToInteractive('df-c89c5fec-7c93-4799-adbf-123bcd20b064')\"\n",
              "              title=\"Convert this dataframe to an interactive table.\"\n",
              "              style=\"display:none;\">\n",
              "        \n",
              "  <svg xmlns=\"http://www.w3.org/2000/svg\" height=\"24px\"viewBox=\"0 0 24 24\"\n",
              "       width=\"24px\">\n",
              "    <path d=\"M0 0h24v24H0V0z\" fill=\"none\"/>\n",
              "    <path d=\"M18.56 5.44l.94 2.06.94-2.06 2.06-.94-2.06-.94-.94-2.06-.94 2.06-2.06.94zm-11 1L8.5 8.5l.94-2.06 2.06-.94-2.06-.94L8.5 2.5l-.94 2.06-2.06.94zm10 10l.94 2.06.94-2.06 2.06-.94-2.06-.94-.94-2.06-.94 2.06-2.06.94z\"/><path d=\"M17.41 7.96l-1.37-1.37c-.4-.4-.92-.59-1.43-.59-.52 0-1.04.2-1.43.59L10.3 9.45l-7.72 7.72c-.78.78-.78 2.05 0 2.83L4 21.41c.39.39.9.59 1.41.59.51 0 1.02-.2 1.41-.59l7.78-7.78 2.81-2.81c.8-.78.8-2.07 0-2.86zM5.41 20L4 18.59l7.72-7.72 1.47 1.35L5.41 20z\"/>\n",
              "  </svg>\n",
              "      </button>\n",
              "      \n",
              "  <style>\n",
              "    .colab-df-container {\n",
              "      display:flex;\n",
              "      flex-wrap:wrap;\n",
              "      gap: 12px;\n",
              "    }\n",
              "\n",
              "    .colab-df-convert {\n",
              "      background-color: #E8F0FE;\n",
              "      border: none;\n",
              "      border-radius: 50%;\n",
              "      cursor: pointer;\n",
              "      display: none;\n",
              "      fill: #1967D2;\n",
              "      height: 32px;\n",
              "      padding: 0 0 0 0;\n",
              "      width: 32px;\n",
              "    }\n",
              "\n",
              "    .colab-df-convert:hover {\n",
              "      background-color: #E2EBFA;\n",
              "      box-shadow: 0px 1px 2px rgba(60, 64, 67, 0.3), 0px 1px 3px 1px rgba(60, 64, 67, 0.15);\n",
              "      fill: #174EA6;\n",
              "    }\n",
              "\n",
              "    [theme=dark] .colab-df-convert {\n",
              "      background-color: #3B4455;\n",
              "      fill: #D2E3FC;\n",
              "    }\n",
              "\n",
              "    [theme=dark] .colab-df-convert:hover {\n",
              "      background-color: #434B5C;\n",
              "      box-shadow: 0px 1px 3px 1px rgba(0, 0, 0, 0.15);\n",
              "      filter: drop-shadow(0px 1px 2px rgba(0, 0, 0, 0.3));\n",
              "      fill: #FFFFFF;\n",
              "    }\n",
              "  </style>\n",
              "\n",
              "      <script>\n",
              "        const buttonEl =\n",
              "          document.querySelector('#df-c89c5fec-7c93-4799-adbf-123bcd20b064 button.colab-df-convert');\n",
              "        buttonEl.style.display =\n",
              "          google.colab.kernel.accessAllowed ? 'block' : 'none';\n",
              "\n",
              "        async function convertToInteractive(key) {\n",
              "          const element = document.querySelector('#df-c89c5fec-7c93-4799-adbf-123bcd20b064');\n",
              "          const dataTable =\n",
              "            await google.colab.kernel.invokeFunction('convertToInteractive',\n",
              "                                                     [key], {});\n",
              "          if (!dataTable) return;\n",
              "\n",
              "          const docLinkHtml = 'Like what you see? Visit the ' +\n",
              "            '<a target=\"_blank\" href=https://colab.research.google.com/notebooks/data_table.ipynb>data table notebook</a>'\n",
              "            + ' to learn more about interactive tables.';\n",
              "          element.innerHTML = '';\n",
              "          dataTable['output_type'] = 'display_data';\n",
              "          await google.colab.output.renderOutput(dataTable, element);\n",
              "          const docLink = document.createElement('div');\n",
              "          docLink.innerHTML = docLinkHtml;\n",
              "          element.appendChild(docLink);\n",
              "        }\n",
              "      </script>\n",
              "    </div>\n",
              "  </div>\n",
              "  "
            ],
            "text/plain": [
              "    Clase        Mensaje\n",
              "0  saludo           Hola\n",
              "1  saludo             Hi\n",
              "2  saludo    Buenos días\n",
              "3  saludo  Buenas tardes\n",
              "4  saludo     Como estas"
            ]
          },
          "metadata": {},
          "execution_count": 6
        }
      ]
    },
    {
      "cell_type": "markdown",
      "source": [
        "## 1.4 Genere respuestas predeterminadas (respuestasDefecto.xls) para los mensajes de tipo \"saludo\", \"despedida\", \"nombre\""
      ],
      "metadata": {
        "id": "ozGp6P_TGU0r"
      }
    },
    {
      "cell_type": "code",
      "source": [
        "!wget https://www.dropbox.com/s/kukxrqpjxi0l4ei/respuestasDefecto.csv"
      ],
      "metadata": {
        "colab": {
          "base_uri": "https://localhost:8080/"
        },
        "id": "bXuKEL2SP8PT",
        "outputId": "b78f1d12-3b95-4cce-9b68-a1c410baa53e"
      },
      "execution_count": 7,
      "outputs": [
        {
          "output_type": "stream",
          "name": "stdout",
          "text": [
            "--2021-12-29 17:40:53--  https://www.dropbox.com/s/kukxrqpjxi0l4ei/respuestasDefecto.csv\n",
            "Resolving www.dropbox.com (www.dropbox.com)... 162.125.1.18, 2620:100:6031:18::a27d:5112\n",
            "Connecting to www.dropbox.com (www.dropbox.com)|162.125.1.18|:443... connected.\n",
            "HTTP request sent, awaiting response... 301 Moved Permanently\n",
            "Location: /s/raw/kukxrqpjxi0l4ei/respuestasDefecto.csv [following]\n",
            "--2021-12-29 17:40:53--  https://www.dropbox.com/s/raw/kukxrqpjxi0l4ei/respuestasDefecto.csv\n",
            "Reusing existing connection to www.dropbox.com:443.\n",
            "HTTP request sent, awaiting response... 302 Found\n",
            "Location: https://uc75848f7797303a71a51741fb85.dl.dropboxusercontent.com/cd/0/inline/Bcxl1dlfmO2MwJIgo8ZzZrQywAebO6lr5P1l2VjU5GlBUtBKQ_DZsf6ZPbI0SNhSZvlx_rOAIxyY8hQJKKfup3fh0AwrvLurcdaGe1jfs_6hdg1gvmytEanXyaynZUiD6XZPTIOceVv1jaqOjsh9_VvT/file# [following]\n",
            "--2021-12-29 17:40:54--  https://uc75848f7797303a71a51741fb85.dl.dropboxusercontent.com/cd/0/inline/Bcxl1dlfmO2MwJIgo8ZzZrQywAebO6lr5P1l2VjU5GlBUtBKQ_DZsf6ZPbI0SNhSZvlx_rOAIxyY8hQJKKfup3fh0AwrvLurcdaGe1jfs_6hdg1gvmytEanXyaynZUiD6XZPTIOceVv1jaqOjsh9_VvT/file\n",
            "Resolving uc75848f7797303a71a51741fb85.dl.dropboxusercontent.com (uc75848f7797303a71a51741fb85.dl.dropboxusercontent.com)... 162.125.1.15, 2620:100:6016:15::a27d:10f\n",
            "Connecting to uc75848f7797303a71a51741fb85.dl.dropboxusercontent.com (uc75848f7797303a71a51741fb85.dl.dropboxusercontent.com)|162.125.1.15|:443... connected.\n",
            "HTTP request sent, awaiting response... 200 OK\n",
            "Length: 646 [text/plain]\n",
            "Saving to: ‘respuestasDefecto.csv’\n",
            "\n",
            "respuestasDefecto.c 100%[===================>]     646  --.-KB/s    in 0s      \n",
            "\n",
            "2021-12-29 17:40:54 (148 MB/s) - ‘respuestasDefecto.csv’ saved [646/646]\n",
            "\n"
          ]
        }
      ]
    },
    {
      "cell_type": "code",
      "source": [
        "answers = pd.read_csv('/content/respuestasDefecto.csv', sep=',')\n",
        "answers.head()"
      ],
      "metadata": {
        "colab": {
          "base_uri": "https://localhost:8080/",
          "height": 426
        },
        "id": "FsGsYLnTQ9Ya",
        "outputId": "a2b039bc-3f00-4538-f6d8-c4fd09f4690f"
      },
      "execution_count": 9,
      "outputs": [
        {
          "output_type": "execute_result",
          "data": {
            "text/html": [
              "\n",
              "  <div id=\"df-287cf4a1-c1b4-4d12-b065-000737d9c431\">\n",
              "    <div class=\"colab-df-container\">\n",
              "      <div>\n",
              "<style scoped>\n",
              "    .dataframe tbody tr th:only-of-type {\n",
              "        vertical-align: middle;\n",
              "    }\n",
              "\n",
              "    .dataframe tbody tr th {\n",
              "        vertical-align: top;\n",
              "    }\n",
              "\n",
              "    .dataframe thead th {\n",
              "        text-align: right;\n",
              "    }\n",
              "</style>\n",
              "<table border=\"1\" class=\"dataframe\">\n",
              "  <thead>\n",
              "    <tr style=\"text-align: right;\">\n",
              "      <th></th>\n",
              "      <th>Clase</th>\n",
              "      <th>Mensaje</th>\n",
              "    </tr>\n",
              "  </thead>\n",
              "  <tbody>\n",
              "    <tr>\n",
              "      <th>1</th>\n",
              "      <td>saludo</td>\n",
              "      <td>Hola, cuentame qué necetias</td>\n",
              "    </tr>\n",
              "    <tr>\n",
              "      <th>2</th>\n",
              "      <td>saludo</td>\n",
              "      <td>Buenos días, en qué puedo ayudarte?</td>\n",
              "    </tr>\n",
              "    <tr>\n",
              "      <th>3</th>\n",
              "      <td>saludo</td>\n",
              "      <td>Buenas tardes, en qué puedo ayudarte?</td>\n",
              "    </tr>\n",
              "    <tr>\n",
              "      <th>4</th>\n",
              "      <td>saludo</td>\n",
              "      <td>Un gusto saludar, en qué puedo ayudarte?</td>\n",
              "    </tr>\n",
              "    <tr>\n",
              "      <th>5</th>\n",
              "      <td>despedida</td>\n",
              "      <td>Gracias por contactarte con nosotros</td>\n",
              "    </tr>\n",
              "    <tr>\n",
              "      <th>6</th>\n",
              "      <td>despedida</td>\n",
              "      <td>Adios, que esté muy bien</td>\n",
              "    </tr>\n",
              "    <tr>\n",
              "      <th>7</th>\n",
              "      <td>despedida</td>\n",
              "      <td>Hasta luego, gracias por tu tiempo</td>\n",
              "    </tr>\n",
              "    <tr>\n",
              "      <th>8</th>\n",
              "      <td>despedida</td>\n",
              "      <td>Adios, espero hayamos resuelto tu inquietud</td>\n",
              "    </tr>\n",
              "    <tr>\n",
              "      <th>9</th>\n",
              "      <td>despedida</td>\n",
              "      <td>Gracias por tu tiempo, ¡hasta luego!</td>\n",
              "    </tr>\n",
              "    <tr>\n",
              "      <th>10</th>\n",
              "      <td>nombre</td>\n",
              "      <td>Mi nombre es Eva, estoy aquí para ayudarte</td>\n",
              "    </tr>\n",
              "    <tr>\n",
              "      <th>11</th>\n",
              "      <td>nombre</td>\n",
              "      <td>Soy Eva, ¿En qué puedo ayudar?</td>\n",
              "    </tr>\n",
              "    <tr>\n",
              "      <th>12</th>\n",
              "      <td>nombre</td>\n",
              "      <td>Soy Eva tu asistente virtual y estoy aquí para...</td>\n",
              "    </tr>\n",
              "  </tbody>\n",
              "</table>\n",
              "</div>\n",
              "      <button class=\"colab-df-convert\" onclick=\"convertToInteractive('df-287cf4a1-c1b4-4d12-b065-000737d9c431')\"\n",
              "              title=\"Convert this dataframe to an interactive table.\"\n",
              "              style=\"display:none;\">\n",
              "        \n",
              "  <svg xmlns=\"http://www.w3.org/2000/svg\" height=\"24px\"viewBox=\"0 0 24 24\"\n",
              "       width=\"24px\">\n",
              "    <path d=\"M0 0h24v24H0V0z\" fill=\"none\"/>\n",
              "    <path d=\"M18.56 5.44l.94 2.06.94-2.06 2.06-.94-2.06-.94-.94-2.06-.94 2.06-2.06.94zm-11 1L8.5 8.5l.94-2.06 2.06-.94-2.06-.94L8.5 2.5l-.94 2.06-2.06.94zm10 10l.94 2.06.94-2.06 2.06-.94-2.06-.94-.94-2.06-.94 2.06-2.06.94z\"/><path d=\"M17.41 7.96l-1.37-1.37c-.4-.4-.92-.59-1.43-.59-.52 0-1.04.2-1.43.59L10.3 9.45l-7.72 7.72c-.78.78-.78 2.05 0 2.83L4 21.41c.39.39.9.59 1.41.59.51 0 1.02-.2 1.41-.59l7.78-7.78 2.81-2.81c.8-.78.8-2.07 0-2.86zM5.41 20L4 18.59l7.72-7.72 1.47 1.35L5.41 20z\"/>\n",
              "  </svg>\n",
              "      </button>\n",
              "      \n",
              "  <style>\n",
              "    .colab-df-container {\n",
              "      display:flex;\n",
              "      flex-wrap:wrap;\n",
              "      gap: 12px;\n",
              "    }\n",
              "\n",
              "    .colab-df-convert {\n",
              "      background-color: #E8F0FE;\n",
              "      border: none;\n",
              "      border-radius: 50%;\n",
              "      cursor: pointer;\n",
              "      display: none;\n",
              "      fill: #1967D2;\n",
              "      height: 32px;\n",
              "      padding: 0 0 0 0;\n",
              "      width: 32px;\n",
              "    }\n",
              "\n",
              "    .colab-df-convert:hover {\n",
              "      background-color: #E2EBFA;\n",
              "      box-shadow: 0px 1px 2px rgba(60, 64, 67, 0.3), 0px 1px 3px 1px rgba(60, 64, 67, 0.15);\n",
              "      fill: #174EA6;\n",
              "    }\n",
              "\n",
              "    [theme=dark] .colab-df-convert {\n",
              "      background-color: #3B4455;\n",
              "      fill: #D2E3FC;\n",
              "    }\n",
              "\n",
              "    [theme=dark] .colab-df-convert:hover {\n",
              "      background-color: #434B5C;\n",
              "      box-shadow: 0px 1px 3px 1px rgba(0, 0, 0, 0.15);\n",
              "      filter: drop-shadow(0px 1px 2px rgba(0, 0, 0, 0.3));\n",
              "      fill: #FFFFFF;\n",
              "    }\n",
              "  </style>\n",
              "\n",
              "      <script>\n",
              "        const buttonEl =\n",
              "          document.querySelector('#df-287cf4a1-c1b4-4d12-b065-000737d9c431 button.colab-df-convert');\n",
              "        buttonEl.style.display =\n",
              "          google.colab.kernel.accessAllowed ? 'block' : 'none';\n",
              "\n",
              "        async function convertToInteractive(key) {\n",
              "          const element = document.querySelector('#df-287cf4a1-c1b4-4d12-b065-000737d9c431');\n",
              "          const dataTable =\n",
              "            await google.colab.kernel.invokeFunction('convertToInteractive',\n",
              "                                                     [key], {});\n",
              "          if (!dataTable) return;\n",
              "\n",
              "          const docLinkHtml = 'Like what you see? Visit the ' +\n",
              "            '<a target=\"_blank\" href=https://colab.research.google.com/notebooks/data_table.ipynb>data table notebook</a>'\n",
              "            + ' to learn more about interactive tables.';\n",
              "          element.innerHTML = '';\n",
              "          dataTable['output_type'] = 'display_data';\n",
              "          await google.colab.output.renderOutput(dataTable, element);\n",
              "          const docLink = document.createElement('div');\n",
              "          docLink.innerHTML = docLinkHtml;\n",
              "          element.appendChild(docLink);\n",
              "        }\n",
              "      </script>\n",
              "    </div>\n",
              "  </div>\n",
              "  "
            ],
            "text/plain": [
              "        Clase                                            Mensaje\n",
              "1      saludo                        Hola, cuentame qué necetias\n",
              "2      saludo                Buenos días, en qué puedo ayudarte?\n",
              "3      saludo              Buenas tardes, en qué puedo ayudarte?\n",
              "4      saludo           Un gusto saludar, en qué puedo ayudarte?\n",
              "5   despedida               Gracias por contactarte con nosotros\n",
              "6   despedida                           Adios, que esté muy bien\n",
              "7   despedida                 Hasta luego, gracias por tu tiempo\n",
              "8   despedida        Adios, espero hayamos resuelto tu inquietud\n",
              "9   despedida               Gracias por tu tiempo, ¡hasta luego!\n",
              "10     nombre         Mi nombre es Eva, estoy aquí para ayudarte\n",
              "11     nombre                     Soy Eva, ¿En qué puedo ayudar?\n",
              "12     nombre  Soy Eva tu asistente virtual y estoy aquí para..."
            ]
          },
          "metadata": {},
          "execution_count": 9
        }
      ]
    },
    {
      "cell_type": "markdown",
      "source": [
        "## 1.5 Describa en términos generales las tablas que construyó."
      ],
      "metadata": {
        "id": "kjLZLGDTGvZ6"
      }
    },
    {
      "cell_type": "markdown",
      "source": [
        "\n",
        "\n",
        "*   Tabla QA: Se construyó en base a las preguntas y respuestas del centro de ayuda de Chilexpress https://centrodeayuda.chilexpress.cl/home . Se extrajo cada pregunta y respuesta de cada categoría (Envíos Nacionales, Envíos y retiros en App, Envíos internacionales, Giros en Chile y el mundo, Atención en sucursal, Cuenta empresa) y se eliminaron las preguntas repetidas. \n",
        "*   Tipos de mensajes: se construyó con mensajes tipo de saludo, despedida y nombre. Para la información se utilizó las preguntas obtenidas en la Tabla QA.\n",
        "*   Respuestas por defecto: se construyó con respuestas tipo de saludo, despedida y nombre de nuestro bot Eva\n",
        "\n"
      ],
      "metadata": {
        "id": "DFkQxa-iRYcr"
      }
    },
    {
      "cell_type": "markdown",
      "source": [
        "# 2. Análisis de distancia"
      ],
      "metadata": {
        "id": "kQCgD-fNFWZ3"
      }
    },
    {
      "cell_type": "markdown",
      "source": [
        "Para el primer chatbot utilizará una métrica de su elección para responder\n",
        "a cada pregunta/texto del usuario."
      ],
      "metadata": {
        "id": "I9aCVeAjG6-j"
      }
    },
    {
      "cell_type": "markdown",
      "source": [
        "## 2.1 Utilice algún embeddings utilizado en el curso para codificar el texto de entrada"
      ],
      "metadata": {
        "id": "lJat6tmEG-_g"
      }
    },
    {
      "cell_type": "markdown",
      "source": [
        "### 2.1.1 Word2Vec"
      ],
      "metadata": {
        "id": "QkpU-dumwfg9"
      }
    },
    {
      "cell_type": "code",
      "source": [
        "import nltk\n",
        "import gensim\n",
        "import re\n",
        "import pandas as pd\n",
        "import sklearn\n",
        "import numpy as np\n",
        "\n",
        "import sklearn.linear_model\n",
        "import sklearn.model_selection\n",
        "from sklearn.svm import LinearSVC\n",
        "from sklearn.pipeline import make_pipeline\n",
        "from sklearn.preprocessing import StandardScaler"
      ],
      "metadata": {
        "id": "bwY8pldbS2_u"
      },
      "execution_count": 10,
      "outputs": []
    },
    {
      "cell_type": "code",
      "source": [
        "def normalizer(text): #normalizes a given string to lowercase and changes all vowels to their base form\n",
        "    text = text.lower() #string lowering\n",
        "    text = re.sub(r'[^A-Za-zñáéíóú]', ' ', text) #replaces every punctuation with a space\n",
        "    text = re.sub('á', 'a', text) #replaces special vowels to their base forms\n",
        "    text = re.sub('é', 'e', text)\n",
        "    text = re.sub('í', 'i', text)\n",
        "    text = re.sub('ó', 'o', text)\n",
        "    text = re.sub('ú', 'u', text)\n",
        "    return text\n",
        "\n",
        "def preprocessor(text):\n",
        "  text = normalizer(text)\n",
        "  tokens = nltk.tokenize.casual_tokenize(text)\n",
        "  #if len(tokens)==1:\n",
        "  #  tokens=text\n",
        "  return tokens\n",
        "\n",
        "def vectorizer(text, model): #returns a vector representation from a list of words and a given model\n",
        "    vectors = []\n",
        "    for i in text:\n",
        "        try:\n",
        "            vectors.append(model.wv[i])\n",
        "        except:\n",
        "            pass\n",
        "    return(np.nan_to_num(np.mean(vectors,axis=0)))"
      ],
      "metadata": {
        "id": "QJJ5MgBsS8Ca"
      },
      "execution_count": 11,
      "outputs": []
    },
    {
      "cell_type": "code",
      "source": [
        "corpus = messages.Mensaje.tolist()\n",
        "corpus_preprocessed = list(map(preprocessor,corpus))\n"
      ],
      "metadata": {
        "id": "NfZYkhRoU0-F"
      },
      "execution_count": 12,
      "outputs": []
    },
    {
      "cell_type": "code",
      "source": [
        "word2vec_model = gensim.models.word2vec.Word2Vec(sentences = corpus_preprocessed, min_count=1)"
      ],
      "metadata": {
        "id": "EaEAIqHFbMF0"
      },
      "execution_count": 13,
      "outputs": []
    },
    {
      "cell_type": "markdown",
      "source": [
        "## 2.2 Con el texto de entrada codificado y usando embeddings proponga una manera de identificar la clase del texto de entrada."
      ],
      "metadata": {
        "id": "acCU7jNxHFUN"
      }
    },
    {
      "cell_type": "code",
      "source": [
        "def predict_class(question):\n",
        "  tokens = preprocessor(question)\n",
        "  vector = vectorizer(tokens, word2vec_model).reshape(1, -1)\n",
        "  return clf.predict(vector)"
      ],
      "metadata": {
        "id": "W89Jfer1xd4D"
      },
      "execution_count": 14,
      "outputs": []
    },
    {
      "cell_type": "markdown",
      "source": [
        "### 2.2.1 Word2Vec"
      ],
      "metadata": {
        "id": "oc9gAcTAnL-x"
      }
    },
    {
      "cell_type": "code",
      "source": [
        "features = np.zeros(shape=(len(messages), word2vec_model.wv.vectors.shape[1]))\n",
        "for i,msg in enumerate(messages.Mensaje):\n",
        "  features[i,:] = vectorizer(preprocessor(msg), word2vec_model)\n",
        "\n",
        "cv_results = sklearn.model_selection.cross_validate(sklearn.linear_model.LogisticRegression(max_iter=10000),features,messages.Clase)\n",
        "cv_results[\"test_score\"].mean()"
      ],
      "metadata": {
        "colab": {
          "base_uri": "https://localhost:8080/"
        },
        "id": "NIRKBuHyVV8k",
        "outputId": "7ec16f53-e77e-4785-da9f-8d3fc55e0c8f"
      },
      "execution_count": 15,
      "outputs": [
        {
          "output_type": "stream",
          "name": "stderr",
          "text": [
            "/usr/local/lib/python3.7/dist-packages/sklearn/model_selection/_split.py:680: UserWarning: The least populated class in y has only 4 members, which is less than n_splits=5.\n",
            "  UserWarning,\n"
          ]
        },
        {
          "output_type": "execute_result",
          "data": {
            "text/plain": [
              "0.7666666666666667"
            ]
          },
          "metadata": {},
          "execution_count": 15
        }
      ]
    },
    {
      "cell_type": "code",
      "source": [
        "clf = make_pipeline(StandardScaler(),LinearSVC(random_state=0, tol=1e-5))\n",
        "clf.fit(features,np.array(messages.Clase))"
      ],
      "metadata": {
        "colab": {
          "base_uri": "https://localhost:8080/"
        },
        "id": "gPDU514jYCkB",
        "outputId": "d7193fdc-4bcf-46cd-910f-a1d8e8b95f03"
      },
      "execution_count": 16,
      "outputs": [
        {
          "output_type": "execute_result",
          "data": {
            "text/plain": [
              "Pipeline(steps=[('standardscaler', StandardScaler()),\n",
              "                ('linearsvc', LinearSVC(random_state=0, tol=1e-05))])"
            ]
          },
          "metadata": {},
          "execution_count": 16
        }
      ]
    },
    {
      "cell_type": "code",
      "source": [
        "print(predict_class('¿Sólo las empresas pueden tener una cuenta con Chilexpress?'))\n",
        "print(predict_class('Mi nombre es'))\n",
        "print(predict_class('hola buenas'))\n",
        "print(predict_class('hola'))\n",
        "print(predict_class('¿puedo retirar un giro de dinero?'))\n",
        "print(predict_class('Puede otra persona retirar mi pedido'))\n",
        "print(predict_class('hasta luego'))\n",
        "print(predict_class('adios'))"
      ],
      "metadata": {
        "colab": {
          "base_uri": "https://localhost:8080/"
        },
        "id": "FCXJ9dgVYZtF",
        "outputId": "995f5821-1ffc-46c4-8ca4-d9e1f227a642"
      },
      "execution_count": 17,
      "outputs": [
        {
          "output_type": "stream",
          "name": "stdout",
          "text": [
            "['información']\n",
            "['nombre']\n",
            "['saludo']\n",
            "['saludo']\n",
            "['información']\n",
            "['información']\n",
            "['despedida']\n",
            "['despedida']\n"
          ]
        }
      ]
    },
    {
      "cell_type": "markdown",
      "source": [
        "## 2.3 Si el texto de entrada es del tipo \"información”, busque ahora la pregunta mas similar y retorne la respuesta asociada."
      ],
      "metadata": {
        "id": "PXxNCsxwHKKi"
      }
    },
    {
      "cell_type": "code",
      "source": [
        "import nltk\n",
        "\n",
        "nltk.download('punkt')\n",
        "nltk.download('stopwords')"
      ],
      "metadata": {
        "colab": {
          "base_uri": "https://localhost:8080/"
        },
        "id": "bdfwR9NXFP_n",
        "outputId": "dd35dc0c-8441-4c27-fa89-f5a04436291c"
      },
      "execution_count": 18,
      "outputs": [
        {
          "output_type": "stream",
          "name": "stdout",
          "text": [
            "[nltk_data] Downloading package punkt to /root/nltk_data...\n",
            "[nltk_data]   Unzipping tokenizers/punkt.zip.\n",
            "[nltk_data] Downloading package stopwords to /root/nltk_data...\n",
            "[nltk_data]   Unzipping corpora/stopwords.zip.\n"
          ]
        },
        {
          "output_type": "execute_result",
          "data": {
            "text/plain": [
              "True"
            ]
          },
          "metadata": {},
          "execution_count": 18
        }
      ]
    },
    {
      "cell_type": "code",
      "source": [
        "pattern = r\"\"\"(?x)                   # set flag to allow verbose regexps\n",
        "              (?:[A-Z]\\.)+           # abbreviations, e.g. U.S.A.\n",
        "              |\\$?\\d+(?:[.,]\\d+)?%?  # numbers, incl. currency and percentages\n",
        "              |\\w+(?:[-']\\w+)*       # words w/ optional internal hyphens/apostrophe\n",
        "              |(?:[+/\\-@&*¡!.,])     # special characters with meanings\n",
        "            \"\"\"\n",
        "\n",
        "def normalizer(text, remove_tildes = True): #normalizes a given string to lowercase and changes all vowels to their base form\n",
        "    text = text.lower() #string lowering\n",
        "    text = re.sub(r'[^A-Za-zñáéíóú]', ' ', text) #replaces every punctuation with a space\n",
        "    text = nltk.regexp_tokenize(text, pattern)\n",
        "    text = ' '.join(text)\n",
        "    if remove_tildes:\n",
        "        text = re.sub('á', 'a', text) #replaces special vowels to their base forms\n",
        "        text = re.sub('é', 'e', text)\n",
        "        text = re.sub('í', 'i', text)\n",
        "        text = re.sub('ó', 'o', text)\n",
        "        text = re.sub('ú', 'u', text)\n",
        "    return text"
      ],
      "metadata": {
        "id": "w6K8S1c2FTta"
      },
      "execution_count": 19,
      "outputs": []
    },
    {
      "cell_type": "code",
      "source": [
        "nltk_stopwords = nltk.corpus.stopwords.words('spanish')\n",
        "stopwords_normalized = [normalizer(word) for word in nltk_stopwords]\n",
        "\n",
        "def no_stopwords(processed):\n",
        "  '''\n",
        "  Función para eliminar las stopwords de un texto\n",
        "  '''\n",
        "  result = []\n",
        "  for w in processed:\n",
        "    if w not in stopwords_normalized:\n",
        "      result.append(w)\n",
        "\n",
        "  return result"
      ],
      "metadata": {
        "id": "wN1jmmTLFV-1"
      },
      "execution_count": 20,
      "outputs": []
    },
    {
      "cell_type": "code",
      "source": [
        "corpus_question = qa.Pregunta.tolist()\n",
        "questions_processed = []\n",
        "for question in corpus_question:\n",
        "  pre = preprocessor(question)\n",
        "  pre = no_stopwords(pre)\n",
        "  questions_processed.append(' '.join(pre))"
      ],
      "metadata": {
        "id": "tM67W7T_FYM7"
      },
      "execution_count": 21,
      "outputs": []
    },
    {
      "cell_type": "code",
      "source": [
        "questions_processed[:5]"
      ],
      "metadata": {
        "colab": {
          "base_uri": "https://localhost:8080/"
        },
        "id": "OfPhj4aqL6B0",
        "outputId": "02229a77-dac9-4905-e640-c7977fbd7cb4"
      },
      "execution_count": 22,
      "outputs": [
        {
          "output_type": "execute_result",
          "data": {
            "text/plain": [
              "['orden transporte ot',\n",
              " 'plazo retirar envio sucursal chilexpress',\n",
              " 'puede persona retirar envio sucursal chilexpress',\n",
              " 'puede modificar direccion envio',\n",
              " 'puedo cambiar destino envio direccion particular sucursal chilexpress']"
            ]
          },
          "metadata": {},
          "execution_count": 22
        }
      ]
    },
    {
      "cell_type": "markdown",
      "source": [
        "ref: https://www.linkedin.com/pulse/how-find-semantic-similar-sentences-from-your-dataset-jayaraman/"
      ],
      "metadata": {
        "id": "e6WE5mvJFk_E"
      }
    },
    {
      "cell_type": "code",
      "source": [
        "from gensim.models.doc2vec import Doc2Vec, TaggedDocument\n",
        "from nltk.tokenize import word_tokenize\n",
        "\n",
        "tagged_data = [TaggedDocument(words=word_tokenize(_d.lower()), tags=[str(i)]) for i, _d in enumerate(questions_processed)]\n",
        "\n",
        "# hyper parameters\n",
        "max_epochs = 2000\n",
        "vec_size = 200\n",
        "alpha = 0.1\n",
        "minimum_alpha = 0.025\n",
        "reduce_alpha = 0.002\n",
        "\n",
        "model = Doc2Vec(vector_size=vec_size,\n",
        "                alpha=alpha, \n",
        "                min_alpha=minimum_alpha,\n",
        "                dm =1)\n",
        "model.build_vocab(tagged_data)\n",
        "\n",
        "# Train the model based on epochs parameter\n",
        "for epoch in range(max_epochs):\n",
        "    model.train(tagged_data,\n",
        "                total_examples=model.corpus_count,\n",
        "                epochs=model.iter)\n",
        "\n",
        "# Save model. \n",
        "model.save(\"similar_sentence.model3\")"
      ],
      "metadata": {
        "colab": {
          "base_uri": "https://localhost:8080/"
        },
        "id": "gYAF66wrFi2F",
        "outputId": "fcb98bfa-f979-4da3-bc4c-31cbf1763eeb"
      },
      "execution_count": 23,
      "outputs": [
        {
          "output_type": "stream",
          "name": "stderr",
          "text": [
            "/usr/local/lib/python3.7/dist-packages/ipykernel_launcher.py:23: DeprecationWarning: Call to deprecated `iter` (Attribute will be removed in 4.0.0, use self.epochs instead).\n"
          ]
        }
      ]
    },
    {
      "cell_type": "code",
      "source": [
        "model= Doc2Vec.load(\"similar_sentence.model3\")\n",
        "\n",
        "def best_five_answers(question):\n",
        "  tokens = preprocessor(question)\n",
        "  tokens = no_stopwords(tokens)\n",
        "  vector = model.infer_vector(tokens)\n",
        "  most_similar = model.docvecs.most_similar([vector]) \n",
        "  answers = qa.Respuesta.tolist()\n",
        "  print(tokens)\n",
        "  for index,value in most_similar[:5]:\n",
        "    print('---------')\n",
        "    print(corpus_question[int(index)])\n",
        "    print(questions_processed[int(index)])\n",
        "    print(answers[int(index)])\n",
        "    print('---------')\n",
        "\n",
        "def best_answers(question):\n",
        "  tokens = preprocessor(question)\n",
        "  tokens = no_stopwords(tokens)\n",
        "  vector = model.infer_vector(tokens)\n",
        "  most_similar = model.docvecs.most_similar([vector]) \n",
        "  answers = qa.Respuesta.tolist()\n",
        "  for index,value in most_similar[:1]:\n",
        "    print(corpus_question[int(index)])\n",
        "    print(answers[int(index)])"
      ],
      "metadata": {
        "id": "tdb-cRQcFovJ"
      },
      "execution_count": 24,
      "outputs": []
    },
    {
      "cell_type": "code",
      "source": [
        "best_five_answers('¿Qué es la Orden de Transporte (OT)?')"
      ],
      "metadata": {
        "colab": {
          "base_uri": "https://localhost:8080/"
        },
        "id": "xj45VnaqFu5Q",
        "outputId": "c78fae11-c650-488b-a8d2-072f638c16ca"
      },
      "execution_count": 25,
      "outputs": [
        {
          "output_type": "stream",
          "name": "stdout",
          "text": [
            "['orden', 'transporte', 'ot']\n",
            "---------\n",
            "Hice un giro online pero ingresé mal el nombre del destinatario ¿cómo puedo corregirlo?\n",
            "hice giro online ingrese mal nombre destinatario puedo corregirlo\n",
            "Para corregir el nombre del destinatario de un giro online ,debes ingresar a https://te-ayudamos.chilexpress.cl/. Luego seleccionar \"ingresa un reclamo\", posteriormente seleccionar \"envíos de dinero\" y luego \"quiero modificar los datos de mi envío de dinero\".\n",
            "\n",
            "---------\n",
            "---------\n",
            "Si hice un Giro online y no he recibido el MTCN, ¿puedo solicitarlo por teléfono?\n",
            "hice giro online recibido mtcn puedo solicitarlo telefono\n",
            "Si no recibiste tu MTCN vía SMS o por correo electrónico ahora puedes conocer el estado, historial y número de MTCN de todos tus envíos de dinero en la sección Mis Giros en www.chilexpress.cl\n",
            "\n",
            "---------\n",
            "---------\n",
            "¿Qué pasa si el destinatario no puede recibir el envío en su dirección?\n",
            "pasa destinatario puede recibir envio direccion\n",
            "Chilexpress realiza dos intentos de entrega en el domicilio, en dos días hábiles y horarios distintos, los que son notificados al destinatario mediante un email. Si no se puede efectuar la entrega, el envío será devuelto al remitente.\n",
            "\n",
            "---------\n",
            "---------\n",
            "Si el destinatario no se encuentra en la dirección de envío, ¿puede recibirlo otra persona?\n",
            "destinatario encuentra direccion envio puede recibirlo persona\n",
            "Sí, puede recibirlo cualquier persona adulta que esté en el domicilio, indicando su Rut y su nombre.\n",
            "\n",
            "---------\n",
            "---------\n",
            "Si me envían un giro en dólares ¿en qué moneda lo retiro?\n",
            "envian giro dolares moneda retiro\n",
            "Los giros en dólares pueden retirarse en moneda del país de destino o en dólares. Si eres el destinatario del giro, debes preguntar en la sucursal de Chilexpress donde estás retirando tu giro si está habilitado el pago en dólares.\n",
            "\n",
            "---------\n"
          ]
        }
      ]
    },
    {
      "cell_type": "code",
      "source": [
        "best_five_answers('¿Qué es un envío sobredimensionado?')"
      ],
      "metadata": {
        "colab": {
          "base_uri": "https://localhost:8080/"
        },
        "id": "7SlEeQ5jFw6L",
        "outputId": "7938ef26-7260-45d6-fce4-5f4d3c951717"
      },
      "execution_count": 26,
      "outputs": [
        {
          "output_type": "stream",
          "name": "stdout",
          "text": [
            "['envio', 'sobredimensionado']\n",
            "---------\n",
            "Si el destinatario no se encuentra en la dirección de envío, ¿puede recibirlo otra persona?\n",
            "destinatario encuentra direccion envio puede recibirlo persona\n",
            "Sí, puede recibirlo cualquier persona adulta que esté en el domicilio, indicando su Rut y su nombre.\n",
            "\n",
            "---------\n",
            "---------\n",
            "¿El destinatario puede cambiar la dirección del envío?\n",
            "destinatario puede cambiar direccion envio\n",
            "No es posible. Sin embargo, si un envío no puede ser entregado en la dirección de destino original, el destinatario podrá solicitar que sea derivado a una sucursal Chilexpress ubicada en la misma comuna del despacho original.\n",
            "\n",
            "---------\n",
            "---------\n",
            "¿Qué pasa si el destinatario no puede recibir el envío en su dirección?\n",
            "pasa destinatario puede recibir envio direccion\n",
            "Chilexpress realiza dos intentos de entrega en el domicilio, en dos días hábiles y horarios distintos, los que son notificados al destinatario mediante un email. Si no se puede efectuar la entrega, el envío será devuelto al remitente.\n",
            "\n",
            "---------\n",
            "---------\n",
            "¿Cuáles son los plazos de entrega asociados a un envío internacional?\n",
            "cuales plazos entrega asociados envio internacional\n",
            "Los plazos de entrega varían según el lugar de destino. Estos varían de entre 4 días hábiles, a 8 días hábiles dependiendo del país y ciudad al que se desee exportar o importar. Es importante también considerar, que las retenciones asociadas a falta de información, documentación o condiciones aduaneras, podrían extender estos plazos.\n",
            "\n",
            "---------\n",
            "---------\n",
            "¿Qué es un envío sobredimensionado?\n",
            "envio sobredimensionado\n",
            "Es toda encomienda que no cumpla el estándar establecido por Chilexpress, ya que posee una o más de las siguientes características: tiene un embalaje irregular, pesa más de 50 kilos y sobrepasa alguna de estas tres medidas: 1,2 metros (largo) x 0,8 metros (ancho) x 0,8 metros (alto). Puedes revisar las sucursales disponibles para estos envíos en la sección Sucursales en www.chilexpress.cl\n",
            "\n",
            "---------\n"
          ]
        }
      ]
    },
    {
      "cell_type": "markdown",
      "source": [
        "## 2.4 Reporte el resultado con textos de prueba."
      ],
      "metadata": {
        "id": "ccIjPIjmHSwx"
      }
    },
    {
      "cell_type": "markdown",
      "source": [
        "# 3. Análisis transformer "
      ],
      "metadata": {
        "id": "6Iqr3LsaFezF"
      }
    },
    {
      "cell_type": "markdown",
      "source": [
        "Para el segundo chatbot utilice un transformer (por ejemplo BERT)."
      ],
      "metadata": {
        "id": "iv-Oe3aiGA9H"
      }
    },
    {
      "cell_type": "markdown",
      "source": [
        "## 3.1 Utilice el modelo transformer para clasificar el texto de entrada, y para extraer la respuesta de la tabla de preguntas y respuestas cuando el mensaje sea del tipo “información”."
      ],
      "metadata": {
        "id": "imXEWWfaHdCI"
      }
    },
    {
      "cell_type": "markdown",
      "source": [
        "### 3.1.1 Clasificador"
      ],
      "metadata": {
        "id": "dzWlnz4R3RPa"
      }
    },
    {
      "cell_type": "markdown",
      "source": [
        "<font color='red'>**Pendiente**</font>."
      ],
      "metadata": {
        "id": "Rdd5wj0I3EQ_"
      }
    },
    {
      "cell_type": "markdown",
      "source": [
        "### 3.1.2 Extraccion de respuestas para el caso \"informacion\""
      ],
      "metadata": {
        "id": "KE0I3oiY4RZj"
      }
    },
    {
      "cell_type": "code",
      "source": [
        "# Transformer QA\n",
        "beto_qa = pipeline('question-answering', \n",
        "        model='mrm8488/distill-bert-base-spanish-wwm-cased-finetuned-spa-squad2-es',\n",
        "        tokenizer=('mrm8488/distill-bert-base-spanish-wwm-cased-finetuned-spa-squad2-es', {\"use_fast\": False})\n",
        "    )\n"
      ],
      "metadata": {
        "id": "DwFUWjcuKbrF",
        "colab": {
          "base_uri": "https://localhost:8080/",
          "height": 177,
          "referenced_widgets": [
            "627542ea7e17456db614d5a9d85a07b0",
            "5c10dc90954e4ec88a27db2934baa21b",
            "866d74bd76114764bbcf5482f15f531e",
            "a670a3e1090149369f5a9735347573af",
            "6a59b0b14259419fac6234bdb3642165",
            "38b05e2a9f5c49d79fbef88e14187375",
            "e693fe08e87049ffae89208f7f6d2e57",
            "e6fca41f300b42178e004b570addc491",
            "acc26849c9364b5eac88a96335e228d6",
            "58f242bf4e2e4bffa61db6327c34beca",
            "663ee2bb9f3a4ba0b30c0413d974026b",
            "35ccf3e83b18485c833d28d9b391e57c",
            "7811782c1baf4bd3ac8676e92cf9f9d9",
            "3fabbdaef448491c84dc4db388cdfb64",
            "3be0b489c348427788b2a2f78028fd0b",
            "4481739738244361909bb4d6525cea0d",
            "0b02f909bc3a46e0b6113c81128a75ce",
            "274b1b529dbd448b832b09d5d8a6198e",
            "292045f0d60a4361a1aaf3ecbc32a159",
            "7b2d3cb30f6d4f28a0772b53285a20f1",
            "c588c8e1b4724dbe879c0b4c716ff2bb",
            "934027da1f7e4ae18c765b5aa2ff62fb",
            "a632e3db61db4c71910441a353b977e8",
            "1fcdc6358d9448639d7e6ed34d690902",
            "1755848a54084681b6c759a895ad966b",
            "6d4c2a4cff0e46e38ac4c264d7fd5b00",
            "8a3a2da5f305474dbb84e639543d6189",
            "4a8be6751cde472f8cbf1b38b6c7d99e",
            "cc94b86a685d4b298ba967cfdcc32169",
            "a2c39e1be8824553b18e2fb7265c1be1",
            "3df454b7facd439b988445dd8fd2abbf",
            "7d2197bf2fab41c2a578bbb0ea8cd9fc",
            "b8dc0fa2211943d092a2bdb7949fcbe8",
            "1615c7abdf8d4a33bf1db0cdf23d9419",
            "c3497fcbb9014c9ab8b6cd388c5e8691",
            "fb76fd4435594afc8487d70a2d4cdf4a",
            "95a223679c4e4bbab752ccbf43ce1e1b",
            "a3363357b1764bbcb80fcd1e7b21406d",
            "ec8aafff31d942c58aedb4b5205c604a",
            "0f9d0e4f232c49159727b0915ea1a9d5",
            "049270076ffb46f9a815c07258a12170",
            "d96f54695fc94e1b9c5998fd011bd374",
            "f60f7428af584a008bca455d6591b877",
            "79277bb5055d4a2585318184b0c28def",
            "72d0af28f3144a94b273e04c4d3a00f4",
            "03dc04205a2646689ef982198228514c",
            "6c31b5a882cc4f89b68bd4dfa9312cf0",
            "42111fd3b2d847fcb23cc8617ae20d3f",
            "7375209dd1c6437f9aab4af83c5d5c05",
            "8f742360461d4291b857e60bc4eb0a1e",
            "edd10ce422b246a6b5a3d234c0f945e0",
            "22e039fa32c84f1bb659887a905fc694",
            "ee8c88608f5e4996b0e2690da707f204",
            "216f2ff3a4ad42c5bcf771e87ab68019",
            "e46acae48fa84187bd61d47896fb858a"
          ]
        },
        "outputId": "2bcfaf36-56e2-4509-f0b8-d19ec273e04c"
      },
      "execution_count": 27,
      "outputs": [
        {
          "output_type": "display_data",
          "data": {
            "application/vnd.jupyter.widget-view+json": {
              "model_id": "627542ea7e17456db614d5a9d85a07b0",
              "version_minor": 0,
              "version_major": 2
            },
            "text/plain": [
              "Downloading:   0%|          | 0.00/465 [00:00<?, ?B/s]"
            ]
          },
          "metadata": {}
        },
        {
          "output_type": "display_data",
          "data": {
            "application/vnd.jupyter.widget-view+json": {
              "model_id": "35ccf3e83b18485c833d28d9b391e57c",
              "version_minor": 0,
              "version_major": 2
            },
            "text/plain": [
              "Downloading:   0%|          | 0.00/419M [00:00<?, ?B/s]"
            ]
          },
          "metadata": {}
        },
        {
          "output_type": "display_data",
          "data": {
            "application/vnd.jupyter.widget-view+json": {
              "model_id": "a632e3db61db4c71910441a353b977e8",
              "version_minor": 0,
              "version_major": 2
            },
            "text/plain": [
              "Downloading:   0%|          | 0.00/135 [00:00<?, ?B/s]"
            ]
          },
          "metadata": {}
        },
        {
          "output_type": "display_data",
          "data": {
            "application/vnd.jupyter.widget-view+json": {
              "model_id": "1615c7abdf8d4a33bf1db0cdf23d9419",
              "version_minor": 0,
              "version_major": 2
            },
            "text/plain": [
              "Downloading:   0%|          | 0.00/237k [00:00<?, ?B/s]"
            ]
          },
          "metadata": {}
        },
        {
          "output_type": "display_data",
          "data": {
            "application/vnd.jupyter.widget-view+json": {
              "model_id": "72d0af28f3144a94b273e04c4d3a00f4",
              "version_minor": 0,
              "version_major": 2
            },
            "text/plain": [
              "Downloading:   0%|          | 0.00/112 [00:00<?, ?B/s]"
            ]
          },
          "metadata": {}
        }
      ]
    },
    {
      "cell_type": "code",
      "source": [
        "context_text = \"\"\n",
        "for index, row in qa.iterrows():\n",
        "  context_text = context_text + \". \" + row['Respuesta']"
      ],
      "metadata": {
        "id": "Y8UqM2IvQPt5"
      },
      "execution_count": 28,
      "outputs": []
    },
    {
      "cell_type": "code",
      "source": [
        "def beto_get_answer(question):\n",
        "  respuesta = beto_qa({'question': question, 'context': context_text})\n",
        "  if respuesta['score'] < 0.01:\n",
        "    return \"Perdón, pero no tengo respuesta para esa pregunta.\"\n",
        "  else:\n",
        "    return respuesta['answer']"
      ],
      "metadata": {
        "id": "gcAONrwZBpAM"
      },
      "execution_count": 29,
      "outputs": []
    },
    {
      "cell_type": "markdown",
      "source": [
        "## 3.2 Reporte el tipo de red, y las métricas de entrenamiento usadas"
      ],
      "metadata": {
        "id": "mRSEUuUJHlOe"
      }
    },
    {
      "cell_type": "markdown",
      "source": [
        "## 3.3 Reporte el resultado con los textos de prueba."
      ],
      "metadata": {
        "id": "Gr5t043nHs4o"
      }
    },
    {
      "cell_type": "code",
      "source": [
        "print(beto_get_answer('¿Sólo las empresas pueden tener una cuenta con Chilexpress?')+\"\\n\")\n",
        "print(beto_get_answer('¿puedo retirar un giro de dinero?')+\"\\n\")\n",
        "print(beto_get_answer('Puede otra persona retirar mi pedido')+\"\\n\")\n",
        "print(beto_get_answer('¿Qué es la Orden de Transporte (OT)?')+\"\\n\")\n",
        "print(beto_get_answer('¿Qué es un envío sobredimensionado?')+\"\\n\")\n",
        "print(beto_get_answer('¿Quién ganará la próxima elección?')+\"\\n\")"
      ],
      "metadata": {
        "colab": {
          "base_uri": "https://localhost:8080/"
        },
        "id": "r0tRjpyEAZVX",
        "outputId": "8cf1e6e2-9434-4467-bb70-76315058ad7b"
      },
      "execution_count": 30,
      "outputs": [
        {
          "output_type": "stream",
          "name": "stdout",
          "text": [
            "Sí,\n",
            "\n",
            "Perdón, pero no tengo respuesta para esa pregunta.\n",
            "\n",
            "Una tercera persona puede retirar un envío por pagar\n",
            "\n",
            "el número asociado al envío.\n",
            "\n",
            "embalaje irregular,\n",
            "\n",
            "Perdón, pero no tengo respuesta para esa pregunta.\n",
            "\n"
          ]
        }
      ]
    },
    {
      "cell_type": "markdown",
      "source": [
        "# Conclusión"
      ],
      "metadata": {
        "id": "2JwboiqsFaoS"
      }
    }
  ]
}