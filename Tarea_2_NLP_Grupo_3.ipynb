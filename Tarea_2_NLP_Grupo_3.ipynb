{
  "nbformat": 4,
  "nbformat_minor": 0,
  "metadata": {
    "colab": {
      "name": "Tarea_2_NLP_Grupo_3.ipynb",
      "provenance": [],
      "collapsed_sections": [],
      "machine_shape": "hm"
    },
    "kernelspec": {
      "name": "python3",
      "display_name": "Python 3"
    },
    "language_info": {
      "name": "python"
    },
    "accelerator": "GPU"
  },
  "cells": [
    {
      "cell_type": "markdown",
      "metadata": {
        "id": "93-Rg2V5Q__d"
      },
      "source": [
        "# Tarea 2: Procesamiento de Lenguaje Natural\n",
        "\n"
      ]
    },
    {
      "cell_type": "markdown",
      "source": [
        "Integrantes:\n",
        "\n",
        "* Sebastián Alday (Rut: 18294095-K)\n",
        "* Paula Canales G. (Rut: 18845155-1)\n",
        "* Álvaro Neira R. (Rut: 13757209-5)\n",
        "* Matias Rodriguez U. (Rut: 18362815-1)"
      ],
      "metadata": {
        "id": "bV8mxLYPE5EC"
      }
    },
    {
      "cell_type": "markdown",
      "source": [
        "# Introducción"
      ],
      "metadata": {
        "id": "VtPPoj2_FLJ8"
      }
    },
    {
      "cell_type": "code",
      "source": [
        "def print_full(x):\n",
        "    pd.set_option('display.max_rows', len(x))\n",
        "    print(x)\n",
        "    pd.reset_option('display.max_rows')"
      ],
      "metadata": {
        "id": "g2SHYRSX0q7v"
      },
      "execution_count": 34,
      "outputs": []
    },
    {
      "cell_type": "markdown",
      "source": [
        "# 1. Creacion y limpieza de la base de datos "
      ],
      "metadata": {
        "id": "NnIrZRjoFO3a"
      }
    },
    {
      "cell_type": "markdown",
      "source": [
        "## 1.1 Elija una organización que cuenta con una lista de preguntas y respuestas"
      ],
      "metadata": {
        "id": "5ZYeSc93FyGX"
      }
    },
    {
      "cell_type": "markdown",
      "source": [
        "Chilexpress\n",
        "https://centrodeayuda.chilexpress.cl/home"
      ],
      "metadata": {
        "id": "pk0QdTdzUETd"
      }
    },
    {
      "cell_type": "markdown",
      "source": [
        "## 1.2 Genere una tabla (tablaQA.xls) con las preguntas y respuestas de la organización seleccionada."
      ],
      "metadata": {
        "id": "cih2PxSMF0J9"
      }
    },
    {
      "cell_type": "code",
      "source": [
        "!wget https://www.dropbox.com/s/9zty4fuh8boofda/tablaQA.csv"
      ],
      "metadata": {
        "colab": {
          "base_uri": "https://localhost:8080/"
        },
        "id": "b_fdDPowbPzD",
        "outputId": "a0ebc08f-03fa-4970-bd3e-8a67404fef4b"
      },
      "execution_count": 1,
      "outputs": [
        {
          "output_type": "stream",
          "name": "stdout",
          "text": [
            "--2021-12-28 06:26:09--  https://www.dropbox.com/s/9zty4fuh8boofda/tablaQA.csv\n",
            "Resolving www.dropbox.com (www.dropbox.com)... 162.125.1.18, 2620:100:6016:18::a27d:112\n",
            "Connecting to www.dropbox.com (www.dropbox.com)|162.125.1.18|:443... connected.\n",
            "HTTP request sent, awaiting response... 301 Moved Permanently\n",
            "Location: /s/raw/9zty4fuh8boofda/tablaQA.csv [following]\n",
            "--2021-12-28 06:26:09--  https://www.dropbox.com/s/raw/9zty4fuh8boofda/tablaQA.csv\n",
            "Reusing existing connection to www.dropbox.com:443.\n",
            "HTTP request sent, awaiting response... 302 Found\n",
            "Location: https://ucde1f2a001bbc0c490f1392c644.dl.dropboxusercontent.com/cd/0/inline/BcqayjUIxshIIhcnnRCxHoS6D8ZigGuszCqdYcz33wi61LyOHkwd5VKiUu19TGOj7ZkjrKVirStGNvPy6RpmRjgCmzBEVaFvFZ1YepJISDkszL7ehTxPat0nN256nHF_rDQHFKYLJVU3U6u57vQHrBBC/file# [following]\n",
            "--2021-12-28 06:26:09--  https://ucde1f2a001bbc0c490f1392c644.dl.dropboxusercontent.com/cd/0/inline/BcqayjUIxshIIhcnnRCxHoS6D8ZigGuszCqdYcz33wi61LyOHkwd5VKiUu19TGOj7ZkjrKVirStGNvPy6RpmRjgCmzBEVaFvFZ1YepJISDkszL7ehTxPat0nN256nHF_rDQHFKYLJVU3U6u57vQHrBBC/file\n",
            "Resolving ucde1f2a001bbc0c490f1392c644.dl.dropboxusercontent.com (ucde1f2a001bbc0c490f1392c644.dl.dropboxusercontent.com)... 162.125.1.15, 2620:100:6016:15::a27d:10f\n",
            "Connecting to ucde1f2a001bbc0c490f1392c644.dl.dropboxusercontent.com (ucde1f2a001bbc0c490f1392c644.dl.dropboxusercontent.com)|162.125.1.15|:443... connected.\n",
            "HTTP request sent, awaiting response... 200 OK\n",
            "Length: 14811 (14K) [text/plain]\n",
            "Saving to: ‘tablaQA.csv’\n",
            "\n",
            "tablaQA.csv         100%[===================>]  14.46K  --.-KB/s    in 0s      \n",
            "\n",
            "2021-12-28 06:26:10 (398 MB/s) - ‘tablaQA.csv’ saved [14811/14811]\n",
            "\n"
          ]
        }
      ]
    },
    {
      "cell_type": "code",
      "source": [
        "import pandas as pd\n",
        "qa = pd.read_csv('/content/tablaQA.csv', sep=';')\n",
        "qa.tail(45)"
      ],
      "metadata": {
        "colab": {
          "base_uri": "https://localhost:8080/",
          "height": 1000
        },
        "id": "Bw2lQ44cbjYa",
        "outputId": "a3ab57c4-a0da-4ea6-8255-0cd1e3426756"
      },
      "execution_count": 38,
      "outputs": [
        {
          "output_type": "execute_result",
          "data": {
            "text/html": [
              "\n",
              "  <div id=\"df-41154b2a-f846-4bc4-a42c-c9ecf4591ff7\">\n",
              "    <div class=\"colab-df-container\">\n",
              "      <div>\n",
              "<style scoped>\n",
              "    .dataframe tbody tr th:only-of-type {\n",
              "        vertical-align: middle;\n",
              "    }\n",
              "\n",
              "    .dataframe tbody tr th {\n",
              "        vertical-align: top;\n",
              "    }\n",
              "\n",
              "    .dataframe thead th {\n",
              "        text-align: right;\n",
              "    }\n",
              "</style>\n",
              "<table border=\"1\" class=\"dataframe\">\n",
              "  <thead>\n",
              "    <tr style=\"text-align: right;\">\n",
              "      <th></th>\n",
              "      <th>Pregunta</th>\n",
              "      <th>Respuesta</th>\n",
              "    </tr>\n",
              "  </thead>\n",
              "  <tbody>\n",
              "    <tr>\n",
              "      <th>1</th>\n",
              "      <td>¿Cuál es el plazo para retirar un envío desde ...</td>\n",
              "      <td>El plazo para retirar un envío desde una sucur...</td>\n",
              "    </tr>\n",
              "    <tr>\n",
              "      <th>2</th>\n",
              "      <td>¿Puede otra persona retirar mi envío de una su...</td>\n",
              "      <td>Para que una persona que no es el destinatario...</td>\n",
              "    </tr>\n",
              "    <tr>\n",
              "      <th>3</th>\n",
              "      <td>¿Se puede modificar la dirección de envío?</td>\n",
              "      <td>Sí, el cambio puede ser solicitado por el remi...</td>\n",
              "    </tr>\n",
              "    <tr>\n",
              "      <th>4</th>\n",
              "      <td>¿Puedo cambiar el destino del envío desde una ...</td>\n",
              "      <td>Sí, el cambio puede ser solicitado por el remi...</td>\n",
              "    </tr>\n",
              "    <tr>\n",
              "      <th>5</th>\n",
              "      <td>¿El destinatario puede cambiar la dirección de...</td>\n",
              "      <td>No es posible. Sin embargo, si un envío no pue...</td>\n",
              "    </tr>\n",
              "    <tr>\n",
              "      <th>6</th>\n",
              "      <td>Si el destinatario no se encuentra en la direc...</td>\n",
              "      <td>Sí, puede recibirlo cualquier persona adulta q...</td>\n",
              "    </tr>\n",
              "    <tr>\n",
              "      <th>7</th>\n",
              "      <td>¿Qué pasa si el destinatario no puede recibir ...</td>\n",
              "      <td>Chilexpress realiza dos intentos de entrega en...</td>\n",
              "    </tr>\n",
              "    <tr>\n",
              "      <th>8</th>\n",
              "      <td>¿Cuántos intentos de entrega en el domicilio r...</td>\n",
              "      <td>Chilexpress realiza dos intentos de entrega en...</td>\n",
              "    </tr>\n",
              "    <tr>\n",
              "      <th>9</th>\n",
              "      <td>¿Chilexpress solicita el RUT del destinatario ...</td>\n",
              "      <td>No es necesario para un envío nacional, pero d...</td>\n",
              "    </tr>\n",
              "    <tr>\n",
              "      <th>10</th>\n",
              "      <td>¿Qué es un envío sobredimensionado?</td>\n",
              "      <td>Es toda encomienda que no cumpla el estándar e...</td>\n",
              "    </tr>\n",
              "    <tr>\n",
              "      <th>11</th>\n",
              "      <td>¿Cuánto cuesta un envío sobredimensionado?</td>\n",
              "      <td>El costo del servicio corresponderá al valor p...</td>\n",
              "    </tr>\n",
              "    <tr>\n",
              "      <th>12</th>\n",
              "      <td>¿Existen restricciones en los tiempos de entre...</td>\n",
              "      <td>Sí, para los envíos sobredimensionados no está...</td>\n",
              "    </tr>\n",
              "    <tr>\n",
              "      <th>13</th>\n",
              "      <td>¿Cuál es la diferencia entre un documento y un...</td>\n",
              "      <td>Para que un envío sea considerado documento de...</td>\n",
              "    </tr>\n",
              "    <tr>\n",
              "      <th>14</th>\n",
              "      <td>¿Dónde puedo revisar las normas nacionales e i...</td>\n",
              "      <td>Los envíos nacionales e internacionales se rig...</td>\n",
              "    </tr>\n",
              "    <tr>\n",
              "      <th>15</th>\n",
              "      <td>¿Cómo puedo hacer seguimiento de un envío?</td>\n",
              "      <td>Puedes hacerlo a través de nuestra página web ...</td>\n",
              "    </tr>\n",
              "    <tr>\n",
              "      <th>16</th>\n",
              "      <td>¿Puedo hacer seguimiento a un envío sin la ord...</td>\n",
              "      <td>No es posible hacer seguimiento de un envío si...</td>\n",
              "    </tr>\n",
              "    <tr>\n",
              "      <th>17</th>\n",
              "      <td>¿Puedo enviar un documento o encomienda a otro...</td>\n",
              "      <td>Sí, Chilexpress recibe tus envíos para hacerlo...</td>\n",
              "    </tr>\n",
              "    <tr>\n",
              "      <th>18</th>\n",
              "      <td>¿Qué requisito debe cumplir un envío internaci...</td>\n",
              "      <td>Debes contar con nombre y dirección completa, ...</td>\n",
              "    </tr>\n",
              "    <tr>\n",
              "      <th>19</th>\n",
              "      <td>¿Cuáles son los plazos de entrega asociados a ...</td>\n",
              "      <td>Los plazos de entrega varían según el lugar de...</td>\n",
              "    </tr>\n",
              "    <tr>\n",
              "      <th>20</th>\n",
              "      <td>Para un envío internacional, ¿cuál es la difer...</td>\n",
              "      <td>Las ciudades principales poseen un proceso ope...</td>\n",
              "    </tr>\n",
              "    <tr>\n",
              "      <th>21</th>\n",
              "      <td>¿Cuáles son los medios de pago de los servicio...</td>\n",
              "      <td>Cuando utilizas un servicio online en www.chil...</td>\n",
              "    </tr>\n",
              "    <tr>\n",
              "      <th>22</th>\n",
              "      <td>¿Es necesario ser cliente con cuenta Chilexpre...</td>\n",
              "      <td>No es necesario ser un cliente con cuenta Chil...</td>\n",
              "    </tr>\n",
              "    <tr>\n",
              "      <th>23</th>\n",
              "      <td>Si soy menor de edad, ¿puedo retirar un giro d...</td>\n",
              "      <td>Sí, puedes hacerlo si cumples con la siguiente...</td>\n",
              "    </tr>\n",
              "    <tr>\n",
              "      <th>24</th>\n",
              "      <td>¿En cuánto tiempo está disponible un giro para...</td>\n",
              "      <td>El dinero podrá ser retirado por su destinatar...</td>\n",
              "    </tr>\n",
              "    <tr>\n",
              "      <th>25</th>\n",
              "      <td>¿Puedo cobrar un giro en cualquier sucursal de...</td>\n",
              "      <td>No, sólo en las sucursales Chilexpress con sis...</td>\n",
              "    </tr>\n",
              "    <tr>\n",
              "      <th>26</th>\n",
              "      <td>Si me envían un giro en dólares ¿en qué moneda...</td>\n",
              "      <td>Los giros en dólares pueden retirarse en moned...</td>\n",
              "    </tr>\n",
              "    <tr>\n",
              "      <th>27</th>\n",
              "      <td>Si perdí mi contraseña con la que me registré ...</td>\n",
              "      <td>Puedes recuperar tu contraseña en nuestro siti...</td>\n",
              "    </tr>\n",
              "    <tr>\n",
              "      <th>28</th>\n",
              "      <td>¿Qué es el MTCN?</td>\n",
              "      <td>El MTCN es el número de control de envío de di...</td>\n",
              "    </tr>\n",
              "    <tr>\n",
              "      <th>29</th>\n",
              "      <td>Si hice un Giro online y no he recibido el MTC...</td>\n",
              "      <td>Si no recibiste tu MTCN vía SMS o por correo e...</td>\n",
              "    </tr>\n",
              "    <tr>\n",
              "      <th>30</th>\n",
              "      <td>Hice un giro online pero ingresé mal el nombre...</td>\n",
              "      <td>Para corregir el nombre del destinatario de un...</td>\n",
              "    </tr>\n",
              "    <tr>\n",
              "      <th>31</th>\n",
              "      <td>¿Puedo ir a retirar una encomienda a cualquier...</td>\n",
              "      <td>No. Debes retirar tu encomienda o documento en...</td>\n",
              "    </tr>\n",
              "    <tr>\n",
              "      <th>32</th>\n",
              "      <td>¿Puedo ir a retirar un documento a cualquier o...</td>\n",
              "      <td>No. Debes retirar tu encomienda o documento en...</td>\n",
              "    </tr>\n",
              "    <tr>\n",
              "      <th>33</th>\n",
              "      <td>¿Qué debe hacer el destinatario para retirar s...</td>\n",
              "      <td>Una vez que el envío haya sido notificado, el ...</td>\n",
              "    </tr>\n",
              "    <tr>\n",
              "      <th>34</th>\n",
              "      <td>¿Puede una tercera persona retirar un envío po...</td>\n",
              "      <td>Una tercera persona puede retirar un envío por...</td>\n",
              "    </tr>\n",
              "    <tr>\n",
              "      <th>35</th>\n",
              "      <td>¿Qué sucursales no están habilitadas para reci...</td>\n",
              "      <td>Puedes revisar las sucursales habilitadas para...</td>\n",
              "    </tr>\n",
              "    <tr>\n",
              "      <th>36</th>\n",
              "      <td>¿Puedo solicitar materiales telefónicamente?</td>\n",
              "      <td>Las empresas que poseen una cuenta con Chilexp...</td>\n",
              "    </tr>\n",
              "    <tr>\n",
              "      <th>37</th>\n",
              "      <td>¿Cómo programo los retiros habituales?</td>\n",
              "      <td>Las empresas que poseen una cuenta con Chilexp...</td>\n",
              "    </tr>\n",
              "    <tr>\n",
              "      <th>38</th>\n",
              "      <td>Cuando solicito un retiro a través del Portal ...</td>\n",
              "      <td>Una vez solicitado el retiro en el Portal Empr...</td>\n",
              "    </tr>\n",
              "    <tr>\n",
              "      <th>39</th>\n",
              "      <td>Al generar un envío masivo, ¿cómo obtengo la O...</td>\n",
              "      <td>Al generar un envío masivo, en el paso número ...</td>\n",
              "    </tr>\n",
              "    <tr>\n",
              "      <th>40</th>\n",
              "      <td>¿Cómo puedo abrir una cuenta empresa con Chile...</td>\n",
              "      <td>Para abrir una cuenta empresa debes registrart...</td>\n",
              "    </tr>\n",
              "    <tr>\n",
              "      <th>41</th>\n",
              "      <td>¿Cuánto tiempo tarda en ser habilitada mi cuen...</td>\n",
              "      <td>La cuenta Chilexpress se habilita, aproximadam...</td>\n",
              "    </tr>\n",
              "    <tr>\n",
              "      <th>42</th>\n",
              "      <td>¿Cuál es el costo mínimo mensual de la cuenta ...</td>\n",
              "      <td>La cuenta empresa Chilexpress no tiene costo, ...</td>\n",
              "    </tr>\n",
              "    <tr>\n",
              "      <th>43</th>\n",
              "      <td>¿Cuántas veces al mes se facturan los envíos r...</td>\n",
              "      <td>Los envíos se facturan una vez al mes el prime...</td>\n",
              "    </tr>\n",
              "    <tr>\n",
              "      <th>44</th>\n",
              "      <td>¿Sólo las empresas pueden tener una cuenta con...</td>\n",
              "      <td>Sí, sólo las empresas pueden obtener una cuent...</td>\n",
              "    </tr>\n",
              "    <tr>\n",
              "      <th>45</th>\n",
              "      <td>¿Cómo obtengo mi usuario y contraseña de clien...</td>\n",
              "      <td>Para obtener el usuario debes registrarte con ...</td>\n",
              "    </tr>\n",
              "  </tbody>\n",
              "</table>\n",
              "</div>\n",
              "      <button class=\"colab-df-convert\" onclick=\"convertToInteractive('df-41154b2a-f846-4bc4-a42c-c9ecf4591ff7')\"\n",
              "              title=\"Convert this dataframe to an interactive table.\"\n",
              "              style=\"display:none;\">\n",
              "        \n",
              "  <svg xmlns=\"http://www.w3.org/2000/svg\" height=\"24px\"viewBox=\"0 0 24 24\"\n",
              "       width=\"24px\">\n",
              "    <path d=\"M0 0h24v24H0V0z\" fill=\"none\"/>\n",
              "    <path d=\"M18.56 5.44l.94 2.06.94-2.06 2.06-.94-2.06-.94-.94-2.06-.94 2.06-2.06.94zm-11 1L8.5 8.5l.94-2.06 2.06-.94-2.06-.94L8.5 2.5l-.94 2.06-2.06.94zm10 10l.94 2.06.94-2.06 2.06-.94-2.06-.94-.94-2.06-.94 2.06-2.06.94z\"/><path d=\"M17.41 7.96l-1.37-1.37c-.4-.4-.92-.59-1.43-.59-.52 0-1.04.2-1.43.59L10.3 9.45l-7.72 7.72c-.78.78-.78 2.05 0 2.83L4 21.41c.39.39.9.59 1.41.59.51 0 1.02-.2 1.41-.59l7.78-7.78 2.81-2.81c.8-.78.8-2.07 0-2.86zM5.41 20L4 18.59l7.72-7.72 1.47 1.35L5.41 20z\"/>\n",
              "  </svg>\n",
              "      </button>\n",
              "      \n",
              "  <style>\n",
              "    .colab-df-container {\n",
              "      display:flex;\n",
              "      flex-wrap:wrap;\n",
              "      gap: 12px;\n",
              "    }\n",
              "\n",
              "    .colab-df-convert {\n",
              "      background-color: #E8F0FE;\n",
              "      border: none;\n",
              "      border-radius: 50%;\n",
              "      cursor: pointer;\n",
              "      display: none;\n",
              "      fill: #1967D2;\n",
              "      height: 32px;\n",
              "      padding: 0 0 0 0;\n",
              "      width: 32px;\n",
              "    }\n",
              "\n",
              "    .colab-df-convert:hover {\n",
              "      background-color: #E2EBFA;\n",
              "      box-shadow: 0px 1px 2px rgba(60, 64, 67, 0.3), 0px 1px 3px 1px rgba(60, 64, 67, 0.15);\n",
              "      fill: #174EA6;\n",
              "    }\n",
              "\n",
              "    [theme=dark] .colab-df-convert {\n",
              "      background-color: #3B4455;\n",
              "      fill: #D2E3FC;\n",
              "    }\n",
              "\n",
              "    [theme=dark] .colab-df-convert:hover {\n",
              "      background-color: #434B5C;\n",
              "      box-shadow: 0px 1px 3px 1px rgba(0, 0, 0, 0.15);\n",
              "      filter: drop-shadow(0px 1px 2px rgba(0, 0, 0, 0.3));\n",
              "      fill: #FFFFFF;\n",
              "    }\n",
              "  </style>\n",
              "\n",
              "      <script>\n",
              "        const buttonEl =\n",
              "          document.querySelector('#df-41154b2a-f846-4bc4-a42c-c9ecf4591ff7 button.colab-df-convert');\n",
              "        buttonEl.style.display =\n",
              "          google.colab.kernel.accessAllowed ? 'block' : 'none';\n",
              "\n",
              "        async function convertToInteractive(key) {\n",
              "          const element = document.querySelector('#df-41154b2a-f846-4bc4-a42c-c9ecf4591ff7');\n",
              "          const dataTable =\n",
              "            await google.colab.kernel.invokeFunction('convertToInteractive',\n",
              "                                                     [key], {});\n",
              "          if (!dataTable) return;\n",
              "\n",
              "          const docLinkHtml = 'Like what you see? Visit the ' +\n",
              "            '<a target=\"_blank\" href=https://colab.research.google.com/notebooks/data_table.ipynb>data table notebook</a>'\n",
              "            + ' to learn more about interactive tables.';\n",
              "          element.innerHTML = '';\n",
              "          dataTable['output_type'] = 'display_data';\n",
              "          await google.colab.output.renderOutput(dataTable, element);\n",
              "          const docLink = document.createElement('div');\n",
              "          docLink.innerHTML = docLinkHtml;\n",
              "          element.appendChild(docLink);\n",
              "        }\n",
              "      </script>\n",
              "    </div>\n",
              "  </div>\n",
              "  "
            ],
            "text/plain": [
              "                                             Pregunta                                          Respuesta\n",
              "1   ¿Cuál es el plazo para retirar un envío desde ...  El plazo para retirar un envío desde una sucur...\n",
              "2   ¿Puede otra persona retirar mi envío de una su...  Para que una persona que no es el destinatario...\n",
              "3          ¿Se puede modificar la dirección de envío?  Sí, el cambio puede ser solicitado por el remi...\n",
              "4   ¿Puedo cambiar el destino del envío desde una ...  Sí, el cambio puede ser solicitado por el remi...\n",
              "5   ¿El destinatario puede cambiar la dirección de...  No es posible. Sin embargo, si un envío no pue...\n",
              "6   Si el destinatario no se encuentra en la direc...  Sí, puede recibirlo cualquier persona adulta q...\n",
              "7   ¿Qué pasa si el destinatario no puede recibir ...  Chilexpress realiza dos intentos de entrega en...\n",
              "8   ¿Cuántos intentos de entrega en el domicilio r...  Chilexpress realiza dos intentos de entrega en...\n",
              "9   ¿Chilexpress solicita el RUT del destinatario ...  No es necesario para un envío nacional, pero d...\n",
              "10                ¿Qué es un envío sobredimensionado?  Es toda encomienda que no cumpla el estándar e...\n",
              "11         ¿Cuánto cuesta un envío sobredimensionado?  El costo del servicio corresponderá al valor p...\n",
              "12  ¿Existen restricciones en los tiempos de entre...  Sí, para los envíos sobredimensionados no está...\n",
              "13  ¿Cuál es la diferencia entre un documento y un...  Para que un envío sea considerado documento de...\n",
              "14  ¿Dónde puedo revisar las normas nacionales e i...  Los envíos nacionales e internacionales se rig...\n",
              "15         ¿Cómo puedo hacer seguimiento de un envío?  Puedes hacerlo a través de nuestra página web ...\n",
              "16  ¿Puedo hacer seguimiento a un envío sin la ord...  No es posible hacer seguimiento de un envío si...\n",
              "17  ¿Puedo enviar un documento o encomienda a otro...  Sí, Chilexpress recibe tus envíos para hacerlo...\n",
              "18  ¿Qué requisito debe cumplir un envío internaci...  Debes contar con nombre y dirección completa, ...\n",
              "19  ¿Cuáles son los plazos de entrega asociados a ...  Los plazos de entrega varían según el lugar de...\n",
              "20  Para un envío internacional, ¿cuál es la difer...  Las ciudades principales poseen un proceso ope...\n",
              "21  ¿Cuáles son los medios de pago de los servicio...  Cuando utilizas un servicio online en www.chil...\n",
              "22  ¿Es necesario ser cliente con cuenta Chilexpre...  No es necesario ser un cliente con cuenta Chil...\n",
              "23  Si soy menor de edad, ¿puedo retirar un giro d...  Sí, puedes hacerlo si cumples con la siguiente...\n",
              "24  ¿En cuánto tiempo está disponible un giro para...  El dinero podrá ser retirado por su destinatar...\n",
              "25  ¿Puedo cobrar un giro en cualquier sucursal de...  No, sólo en las sucursales Chilexpress con sis...\n",
              "26  Si me envían un giro en dólares ¿en qué moneda...  Los giros en dólares pueden retirarse en moned...\n",
              "27  Si perdí mi contraseña con la que me registré ...  Puedes recuperar tu contraseña en nuestro siti...\n",
              "28                                   ¿Qué es el MTCN?  El MTCN es el número de control de envío de di...\n",
              "29  Si hice un Giro online y no he recibido el MTC...  Si no recibiste tu MTCN vía SMS o por correo e...\n",
              "30  Hice un giro online pero ingresé mal el nombre...  Para corregir el nombre del destinatario de un...\n",
              "31  ¿Puedo ir a retirar una encomienda a cualquier...  No. Debes retirar tu encomienda o documento en...\n",
              "32  ¿Puedo ir a retirar un documento a cualquier o...  No. Debes retirar tu encomienda o documento en...\n",
              "33  ¿Qué debe hacer el destinatario para retirar s...  Una vez que el envío haya sido notificado, el ...\n",
              "34  ¿Puede una tercera persona retirar un envío po...  Una tercera persona puede retirar un envío por...\n",
              "35  ¿Qué sucursales no están habilitadas para reci...  Puedes revisar las sucursales habilitadas para...\n",
              "36       ¿Puedo solicitar materiales telefónicamente?  Las empresas que poseen una cuenta con Chilexp...\n",
              "37             ¿Cómo programo los retiros habituales?  Las empresas que poseen una cuenta con Chilexp...\n",
              "38  Cuando solicito un retiro a través del Portal ...  Una vez solicitado el retiro en el Portal Empr...\n",
              "39  Al generar un envío masivo, ¿cómo obtengo la O...  Al generar un envío masivo, en el paso número ...\n",
              "40  ¿Cómo puedo abrir una cuenta empresa con Chile...  Para abrir una cuenta empresa debes registrart...\n",
              "41  ¿Cuánto tiempo tarda en ser habilitada mi cuen...  La cuenta Chilexpress se habilita, aproximadam...\n",
              "42  ¿Cuál es el costo mínimo mensual de la cuenta ...  La cuenta empresa Chilexpress no tiene costo, ...\n",
              "43  ¿Cuántas veces al mes se facturan los envíos r...  Los envíos se facturan una vez al mes el prime...\n",
              "44  ¿Sólo las empresas pueden tener una cuenta con...  Sí, sólo las empresas pueden obtener una cuent...\n",
              "45  ¿Cómo obtengo mi usuario y contraseña de clien...  Para obtener el usuario debes registrarte con ..."
            ]
          },
          "metadata": {},
          "execution_count": 38
        }
      ]
    },
    {
      "cell_type": "code",
      "source": [
        "qa.info()"
      ],
      "metadata": {
        "colab": {
          "base_uri": "https://localhost:8080/"
        },
        "id": "BdgNtDGyb608",
        "outputId": "c001ef60-989c-470c-b6be-387a63f7d0bc"
      },
      "execution_count": 3,
      "outputs": [
        {
          "output_type": "stream",
          "name": "stdout",
          "text": [
            "<class 'pandas.core.frame.DataFrame'>\n",
            "RangeIndex: 46 entries, 0 to 45\n",
            "Data columns (total 2 columns):\n",
            " #   Column     Non-Null Count  Dtype \n",
            "---  ------     --------------  ----- \n",
            " 0   Pregunta   46 non-null     object\n",
            " 1   Respuesta  46 non-null     object\n",
            "dtypes: object(2)\n",
            "memory usage: 864.0+ bytes\n"
          ]
        }
      ]
    },
    {
      "cell_type": "markdown",
      "source": [
        "## 1.3 Genere una tabla (tiposmensajes.xls) con ejemplos de las siguientes clases de mensaje: \"saludo\", \"despedida\", \"nombre\", \"informacion\""
      ],
      "metadata": {
        "id": "Dxd1ZhwnGBzn"
      }
    },
    {
      "cell_type": "code",
      "source": [
        "!wget https://www.dropbox.com/s/wqmpjpdin6jmp3a/tiposmensajes.csv"
      ],
      "metadata": {
        "colab": {
          "base_uri": "https://localhost:8080/"
        },
        "id": "igsR0QmXN3d8",
        "outputId": "6e5a45d8-cdc4-446c-8923-df322e9c1c67"
      },
      "execution_count": 39,
      "outputs": [
        {
          "output_type": "stream",
          "name": "stdout",
          "text": [
            "--2021-12-28 06:58:10--  https://www.dropbox.com/s/wqmpjpdin6jmp3a/tiposmensajes.csv\n",
            "Resolving www.dropbox.com (www.dropbox.com)... 162.125.1.18, 2620:100:6016:18::a27d:112\n",
            "Connecting to www.dropbox.com (www.dropbox.com)|162.125.1.18|:443... connected.\n",
            "HTTP request sent, awaiting response... 301 Moved Permanently\n",
            "Location: /s/raw/wqmpjpdin6jmp3a/tiposmensajes.csv [following]\n",
            "--2021-12-28 06:58:10--  https://www.dropbox.com/s/raw/wqmpjpdin6jmp3a/tiposmensajes.csv\n",
            "Reusing existing connection to www.dropbox.com:443.\n",
            "HTTP request sent, awaiting response... 302 Found\n",
            "Location: https://uc209972176e80b0affefb358cbe.dl.dropboxusercontent.com/cd/0/inline/BcpkIJvqstCWgOpngRyJaJpjdpBkQBW_Rvpqcs9k7JAHkJcHSMRz8HjWbcqKvz8OfSctmBFzDEGxRbjn-DLT2OQt7QW501AZeYqVYH5R1GcfDlYddjn6O-JB-_ETWWGyd6nIjES8hTc75IOSymRGUzjR/file# [following]\n",
            "--2021-12-28 06:58:10--  https://uc209972176e80b0affefb358cbe.dl.dropboxusercontent.com/cd/0/inline/BcpkIJvqstCWgOpngRyJaJpjdpBkQBW_Rvpqcs9k7JAHkJcHSMRz8HjWbcqKvz8OfSctmBFzDEGxRbjn-DLT2OQt7QW501AZeYqVYH5R1GcfDlYddjn6O-JB-_ETWWGyd6nIjES8hTc75IOSymRGUzjR/file\n",
            "Resolving uc209972176e80b0affefb358cbe.dl.dropboxusercontent.com (uc209972176e80b0affefb358cbe.dl.dropboxusercontent.com)... 162.125.1.15, 2620:100:6016:15::a27d:10f\n",
            "Connecting to uc209972176e80b0affefb358cbe.dl.dropboxusercontent.com (uc209972176e80b0affefb358cbe.dl.dropboxusercontent.com)|162.125.1.15|:443... connected.\n",
            "HTTP request sent, awaiting response... 200 OK\n",
            "Length: 4212 (4.1K) [text/plain]\n",
            "Saving to: ‘tiposmensajes.csv.1’\n",
            "\n",
            "tiposmensajes.csv.1 100%[===================>]   4.11K  --.-KB/s    in 0s      \n",
            "\n",
            "2021-12-28 06:58:10 (539 MB/s) - ‘tiposmensajes.csv.1’ saved [4212/4212]\n",
            "\n"
          ]
        }
      ]
    },
    {
      "cell_type": "code",
      "source": [
        "messages = pd.read_csv('/content/tiposmensajes.csv', sep=',')\n",
        "messages.tail(59)"
      ],
      "metadata": {
        "colab": {
          "base_uri": "https://localhost:8080/",
          "height": 1000
        },
        "id": "SfaFFiPLOD85",
        "outputId": "cdb88a9b-fc8c-4f45-e968-8982c24e93bd"
      },
      "execution_count": 42,
      "outputs": [
        {
          "output_type": "execute_result",
          "data": {
            "text/html": [
              "\n",
              "  <div id=\"df-5b47422d-c696-4543-9705-9f85525435ad\">\n",
              "    <div class=\"colab-df-container\">\n",
              "      <div>\n",
              "<style scoped>\n",
              "    .dataframe tbody tr th:only-of-type {\n",
              "        vertical-align: middle;\n",
              "    }\n",
              "\n",
              "    .dataframe tbody tr th {\n",
              "        vertical-align: top;\n",
              "    }\n",
              "\n",
              "    .dataframe thead th {\n",
              "        text-align: right;\n",
              "    }\n",
              "</style>\n",
              "<table border=\"1\" class=\"dataframe\">\n",
              "  <thead>\n",
              "    <tr style=\"text-align: right;\">\n",
              "      <th></th>\n",
              "      <th>Clase</th>\n",
              "      <th>Mensaje</th>\n",
              "    </tr>\n",
              "  </thead>\n",
              "  <tbody>\n",
              "    <tr>\n",
              "      <th>1</th>\n",
              "      <td>saludo</td>\n",
              "      <td>Hi</td>\n",
              "    </tr>\n",
              "    <tr>\n",
              "      <th>2</th>\n",
              "      <td>saludo</td>\n",
              "      <td>Buenos días</td>\n",
              "    </tr>\n",
              "    <tr>\n",
              "      <th>3</th>\n",
              "      <td>saludo</td>\n",
              "      <td>Buenas tardes</td>\n",
              "    </tr>\n",
              "    <tr>\n",
              "      <th>4</th>\n",
              "      <td>saludo</td>\n",
              "      <td>Como estas</td>\n",
              "    </tr>\n",
              "    <tr>\n",
              "      <th>5</th>\n",
              "      <td>despedida</td>\n",
              "      <td>Chao</td>\n",
              "    </tr>\n",
              "    <tr>\n",
              "      <th>6</th>\n",
              "      <td>despedida</td>\n",
              "      <td>Adiós</td>\n",
              "    </tr>\n",
              "    <tr>\n",
              "      <th>7</th>\n",
              "      <td>despedida</td>\n",
              "      <td>Hasta luego</td>\n",
              "    </tr>\n",
              "    <tr>\n",
              "      <th>8</th>\n",
              "      <td>despedida</td>\n",
              "      <td>Nos vemos</td>\n",
              "    </tr>\n",
              "    <tr>\n",
              "      <th>9</th>\n",
              "      <td>despedida</td>\n",
              "      <td>Bye</td>\n",
              "    </tr>\n",
              "    <tr>\n",
              "      <th>10</th>\n",
              "      <td>nombre</td>\n",
              "      <td>Mi nombre es</td>\n",
              "    </tr>\n",
              "    <tr>\n",
              "      <th>11</th>\n",
              "      <td>nombre</td>\n",
              "      <td>Mi usuario es</td>\n",
              "    </tr>\n",
              "    <tr>\n",
              "      <th>12</th>\n",
              "      <td>nombre</td>\n",
              "      <td>Yo soy</td>\n",
              "    </tr>\n",
              "    <tr>\n",
              "      <th>13</th>\n",
              "      <td>nombre</td>\n",
              "      <td>Me llamo</td>\n",
              "    </tr>\n",
              "    <tr>\n",
              "      <th>14</th>\n",
              "      <td>información</td>\n",
              "      <td>¿Qué es la Orden de Transporte (OT)?</td>\n",
              "    </tr>\n",
              "    <tr>\n",
              "      <th>15</th>\n",
              "      <td>información</td>\n",
              "      <td>¿Cuál es el plazo para retirar un envío desde ...</td>\n",
              "    </tr>\n",
              "    <tr>\n",
              "      <th>16</th>\n",
              "      <td>información</td>\n",
              "      <td>¿Puede otra persona retirar mi envío de una su...</td>\n",
              "    </tr>\n",
              "    <tr>\n",
              "      <th>17</th>\n",
              "      <td>información</td>\n",
              "      <td>¿Se puede modificar la dirección de envío?</td>\n",
              "    </tr>\n",
              "    <tr>\n",
              "      <th>18</th>\n",
              "      <td>información</td>\n",
              "      <td>¿Puedo cambiar el destino del envío desde una ...</td>\n",
              "    </tr>\n",
              "    <tr>\n",
              "      <th>19</th>\n",
              "      <td>información</td>\n",
              "      <td>¿El destinatario puede cambiar la dirección de...</td>\n",
              "    </tr>\n",
              "    <tr>\n",
              "      <th>20</th>\n",
              "      <td>información</td>\n",
              "      <td>Si el destinatario no se encuentra en la direc...</td>\n",
              "    </tr>\n",
              "    <tr>\n",
              "      <th>21</th>\n",
              "      <td>información</td>\n",
              "      <td>¿Qué pasa si el destinatario no puede recibir ...</td>\n",
              "    </tr>\n",
              "    <tr>\n",
              "      <th>22</th>\n",
              "      <td>información</td>\n",
              "      <td>¿Cuántos intentos de entrega en el domicilio r...</td>\n",
              "    </tr>\n",
              "    <tr>\n",
              "      <th>23</th>\n",
              "      <td>información</td>\n",
              "      <td>¿Chilexpress solicita el RUT del destinatario ...</td>\n",
              "    </tr>\n",
              "    <tr>\n",
              "      <th>24</th>\n",
              "      <td>información</td>\n",
              "      <td>¿Qué es un envío sobredimensionado?</td>\n",
              "    </tr>\n",
              "    <tr>\n",
              "      <th>25</th>\n",
              "      <td>información</td>\n",
              "      <td>¿Cuánto cuesta un envío sobredimensionado?</td>\n",
              "    </tr>\n",
              "    <tr>\n",
              "      <th>26</th>\n",
              "      <td>información</td>\n",
              "      <td>¿Existen restricciones en los tiempos de entre...</td>\n",
              "    </tr>\n",
              "    <tr>\n",
              "      <th>27</th>\n",
              "      <td>información</td>\n",
              "      <td>¿Cuál es la diferencia entre un documento y un...</td>\n",
              "    </tr>\n",
              "    <tr>\n",
              "      <th>28</th>\n",
              "      <td>información</td>\n",
              "      <td>¿Dónde puedo revisar las normas nacionales e i...</td>\n",
              "    </tr>\n",
              "    <tr>\n",
              "      <th>29</th>\n",
              "      <td>información</td>\n",
              "      <td>¿Cómo puedo hacer seguimiento de un envío?</td>\n",
              "    </tr>\n",
              "    <tr>\n",
              "      <th>30</th>\n",
              "      <td>información</td>\n",
              "      <td>¿Puedo hacer seguimiento a un envío sin la ord...</td>\n",
              "    </tr>\n",
              "    <tr>\n",
              "      <th>31</th>\n",
              "      <td>información</td>\n",
              "      <td>¿Puedo enviar un documento o encomienda a otro...</td>\n",
              "    </tr>\n",
              "    <tr>\n",
              "      <th>32</th>\n",
              "      <td>información</td>\n",
              "      <td>¿Qué requisito debe cumplir un envío internaci...</td>\n",
              "    </tr>\n",
              "    <tr>\n",
              "      <th>33</th>\n",
              "      <td>información</td>\n",
              "      <td>¿Cuáles son los plazos de entrega asociados a ...</td>\n",
              "    </tr>\n",
              "    <tr>\n",
              "      <th>34</th>\n",
              "      <td>información</td>\n",
              "      <td>Para un envío internacional, ¿cuál es la difer...</td>\n",
              "    </tr>\n",
              "    <tr>\n",
              "      <th>35</th>\n",
              "      <td>información</td>\n",
              "      <td>¿Cuáles son los medios de pago de los servicio...</td>\n",
              "    </tr>\n",
              "    <tr>\n",
              "      <th>36</th>\n",
              "      <td>información</td>\n",
              "      <td>¿Es necesario ser cliente con cuenta Chilexpre...</td>\n",
              "    </tr>\n",
              "    <tr>\n",
              "      <th>37</th>\n",
              "      <td>información</td>\n",
              "      <td>Si soy menor de edad, ¿puedo retirar un giro d...</td>\n",
              "    </tr>\n",
              "    <tr>\n",
              "      <th>38</th>\n",
              "      <td>información</td>\n",
              "      <td>¿En cuánto tiempo está disponible un giro para...</td>\n",
              "    </tr>\n",
              "    <tr>\n",
              "      <th>39</th>\n",
              "      <td>información</td>\n",
              "      <td>¿Puedo cobrar un giro en cualquier sucursal de...</td>\n",
              "    </tr>\n",
              "    <tr>\n",
              "      <th>40</th>\n",
              "      <td>información</td>\n",
              "      <td>Si me envían un giro en dólares ¿en qué moneda...</td>\n",
              "    </tr>\n",
              "    <tr>\n",
              "      <th>41</th>\n",
              "      <td>información</td>\n",
              "      <td>Si perdí mi contraseña con la que me registré ...</td>\n",
              "    </tr>\n",
              "    <tr>\n",
              "      <th>42</th>\n",
              "      <td>información</td>\n",
              "      <td>¿Qué es el MTCN?</td>\n",
              "    </tr>\n",
              "    <tr>\n",
              "      <th>43</th>\n",
              "      <td>información</td>\n",
              "      <td>Si hice un Giro online y no he recibido el MTC...</td>\n",
              "    </tr>\n",
              "    <tr>\n",
              "      <th>44</th>\n",
              "      <td>información</td>\n",
              "      <td>Hice un giro online pero ingresé mal el nombre...</td>\n",
              "    </tr>\n",
              "    <tr>\n",
              "      <th>45</th>\n",
              "      <td>información</td>\n",
              "      <td>¿Puedo ir a retirar una encomienda a cualquier...</td>\n",
              "    </tr>\n",
              "    <tr>\n",
              "      <th>46</th>\n",
              "      <td>información</td>\n",
              "      <td>¿Puedo ir a retirar un documento a cualquier o...</td>\n",
              "    </tr>\n",
              "    <tr>\n",
              "      <th>47</th>\n",
              "      <td>información</td>\n",
              "      <td>¿Qué debe hacer el destinatario para retirar s...</td>\n",
              "    </tr>\n",
              "    <tr>\n",
              "      <th>48</th>\n",
              "      <td>información</td>\n",
              "      <td>¿Puede una tercera persona retirar un envío po...</td>\n",
              "    </tr>\n",
              "    <tr>\n",
              "      <th>49</th>\n",
              "      <td>información</td>\n",
              "      <td>¿Qué sucursales no están habilitadas para reci...</td>\n",
              "    </tr>\n",
              "    <tr>\n",
              "      <th>50</th>\n",
              "      <td>información</td>\n",
              "      <td>¿Puedo solicitar materiales telefónicamente?</td>\n",
              "    </tr>\n",
              "    <tr>\n",
              "      <th>51</th>\n",
              "      <td>información</td>\n",
              "      <td>¿Cómo programo los retiros habituales?</td>\n",
              "    </tr>\n",
              "    <tr>\n",
              "      <th>52</th>\n",
              "      <td>información</td>\n",
              "      <td>Cuando solicito un retiro a través del Portal ...</td>\n",
              "    </tr>\n",
              "    <tr>\n",
              "      <th>53</th>\n",
              "      <td>información</td>\n",
              "      <td>Al generar un envío masivo, ¿cómo obtengo la O...</td>\n",
              "    </tr>\n",
              "    <tr>\n",
              "      <th>54</th>\n",
              "      <td>información</td>\n",
              "      <td>¿Cómo puedo abrir una cuenta empresa con Chile...</td>\n",
              "    </tr>\n",
              "    <tr>\n",
              "      <th>55</th>\n",
              "      <td>información</td>\n",
              "      <td>¿Cuánto tiempo tarda en ser habilitada mi cuen...</td>\n",
              "    </tr>\n",
              "    <tr>\n",
              "      <th>56</th>\n",
              "      <td>información</td>\n",
              "      <td>¿Cuál es el costo mínimo mensual de la cuenta ...</td>\n",
              "    </tr>\n",
              "    <tr>\n",
              "      <th>57</th>\n",
              "      <td>información</td>\n",
              "      <td>¿Cuántas veces al mes se facturan los envíos r...</td>\n",
              "    </tr>\n",
              "    <tr>\n",
              "      <th>58</th>\n",
              "      <td>información</td>\n",
              "      <td>¿Sólo las empresas pueden tener una cuenta con...</td>\n",
              "    </tr>\n",
              "    <tr>\n",
              "      <th>59</th>\n",
              "      <td>información</td>\n",
              "      <td>¿Cómo obtengo mi usuario y contraseña de clien...</td>\n",
              "    </tr>\n",
              "  </tbody>\n",
              "</table>\n",
              "</div>\n",
              "      <button class=\"colab-df-convert\" onclick=\"convertToInteractive('df-5b47422d-c696-4543-9705-9f85525435ad')\"\n",
              "              title=\"Convert this dataframe to an interactive table.\"\n",
              "              style=\"display:none;\">\n",
              "        \n",
              "  <svg xmlns=\"http://www.w3.org/2000/svg\" height=\"24px\"viewBox=\"0 0 24 24\"\n",
              "       width=\"24px\">\n",
              "    <path d=\"M0 0h24v24H0V0z\" fill=\"none\"/>\n",
              "    <path d=\"M18.56 5.44l.94 2.06.94-2.06 2.06-.94-2.06-.94-.94-2.06-.94 2.06-2.06.94zm-11 1L8.5 8.5l.94-2.06 2.06-.94-2.06-.94L8.5 2.5l-.94 2.06-2.06.94zm10 10l.94 2.06.94-2.06 2.06-.94-2.06-.94-.94-2.06-.94 2.06-2.06.94z\"/><path d=\"M17.41 7.96l-1.37-1.37c-.4-.4-.92-.59-1.43-.59-.52 0-1.04.2-1.43.59L10.3 9.45l-7.72 7.72c-.78.78-.78 2.05 0 2.83L4 21.41c.39.39.9.59 1.41.59.51 0 1.02-.2 1.41-.59l7.78-7.78 2.81-2.81c.8-.78.8-2.07 0-2.86zM5.41 20L4 18.59l7.72-7.72 1.47 1.35L5.41 20z\"/>\n",
              "  </svg>\n",
              "      </button>\n",
              "      \n",
              "  <style>\n",
              "    .colab-df-container {\n",
              "      display:flex;\n",
              "      flex-wrap:wrap;\n",
              "      gap: 12px;\n",
              "    }\n",
              "\n",
              "    .colab-df-convert {\n",
              "      background-color: #E8F0FE;\n",
              "      border: none;\n",
              "      border-radius: 50%;\n",
              "      cursor: pointer;\n",
              "      display: none;\n",
              "      fill: #1967D2;\n",
              "      height: 32px;\n",
              "      padding: 0 0 0 0;\n",
              "      width: 32px;\n",
              "    }\n",
              "\n",
              "    .colab-df-convert:hover {\n",
              "      background-color: #E2EBFA;\n",
              "      box-shadow: 0px 1px 2px rgba(60, 64, 67, 0.3), 0px 1px 3px 1px rgba(60, 64, 67, 0.15);\n",
              "      fill: #174EA6;\n",
              "    }\n",
              "\n",
              "    [theme=dark] .colab-df-convert {\n",
              "      background-color: #3B4455;\n",
              "      fill: #D2E3FC;\n",
              "    }\n",
              "\n",
              "    [theme=dark] .colab-df-convert:hover {\n",
              "      background-color: #434B5C;\n",
              "      box-shadow: 0px 1px 3px 1px rgba(0, 0, 0, 0.15);\n",
              "      filter: drop-shadow(0px 1px 2px rgba(0, 0, 0, 0.3));\n",
              "      fill: #FFFFFF;\n",
              "    }\n",
              "  </style>\n",
              "\n",
              "      <script>\n",
              "        const buttonEl =\n",
              "          document.querySelector('#df-5b47422d-c696-4543-9705-9f85525435ad button.colab-df-convert');\n",
              "        buttonEl.style.display =\n",
              "          google.colab.kernel.accessAllowed ? 'block' : 'none';\n",
              "\n",
              "        async function convertToInteractive(key) {\n",
              "          const element = document.querySelector('#df-5b47422d-c696-4543-9705-9f85525435ad');\n",
              "          const dataTable =\n",
              "            await google.colab.kernel.invokeFunction('convertToInteractive',\n",
              "                                                     [key], {});\n",
              "          if (!dataTable) return;\n",
              "\n",
              "          const docLinkHtml = 'Like what you see? Visit the ' +\n",
              "            '<a target=\"_blank\" href=https://colab.research.google.com/notebooks/data_table.ipynb>data table notebook</a>'\n",
              "            + ' to learn more about interactive tables.';\n",
              "          element.innerHTML = '';\n",
              "          dataTable['output_type'] = 'display_data';\n",
              "          await google.colab.output.renderOutput(dataTable, element);\n",
              "          const docLink = document.createElement('div');\n",
              "          docLink.innerHTML = docLinkHtml;\n",
              "          element.appendChild(docLink);\n",
              "        }\n",
              "      </script>\n",
              "    </div>\n",
              "  </div>\n",
              "  "
            ],
            "text/plain": [
              "          Clase                                            Mensaje\n",
              "1        saludo                                                 Hi\n",
              "2        saludo                                        Buenos días\n",
              "3        saludo                                      Buenas tardes\n",
              "4        saludo                                         Como estas\n",
              "5     despedida                                               Chao\n",
              "6     despedida                                              Adiós\n",
              "7     despedida                                        Hasta luego\n",
              "8     despedida                                          Nos vemos\n",
              "9     despedida                                                Bye\n",
              "10       nombre                                       Mi nombre es\n",
              "11       nombre                                      Mi usuario es\n",
              "12       nombre                                             Yo soy\n",
              "13       nombre                                           Me llamo\n",
              "14  información               ¿Qué es la Orden de Transporte (OT)?\n",
              "15  información  ¿Cuál es el plazo para retirar un envío desde ...\n",
              "16  información  ¿Puede otra persona retirar mi envío de una su...\n",
              "17  información         ¿Se puede modificar la dirección de envío?\n",
              "18  información  ¿Puedo cambiar el destino del envío desde una ...\n",
              "19  información  ¿El destinatario puede cambiar la dirección de...\n",
              "20  información  Si el destinatario no se encuentra en la direc...\n",
              "21  información  ¿Qué pasa si el destinatario no puede recibir ...\n",
              "22  información  ¿Cuántos intentos de entrega en el domicilio r...\n",
              "23  información  ¿Chilexpress solicita el RUT del destinatario ...\n",
              "24  información                ¿Qué es un envío sobredimensionado?\n",
              "25  información         ¿Cuánto cuesta un envío sobredimensionado?\n",
              "26  información  ¿Existen restricciones en los tiempos de entre...\n",
              "27  información  ¿Cuál es la diferencia entre un documento y un...\n",
              "28  información  ¿Dónde puedo revisar las normas nacionales e i...\n",
              "29  información         ¿Cómo puedo hacer seguimiento de un envío?\n",
              "30  información  ¿Puedo hacer seguimiento a un envío sin la ord...\n",
              "31  información  ¿Puedo enviar un documento o encomienda a otro...\n",
              "32  información  ¿Qué requisito debe cumplir un envío internaci...\n",
              "33  información  ¿Cuáles son los plazos de entrega asociados a ...\n",
              "34  información  Para un envío internacional, ¿cuál es la difer...\n",
              "35  información  ¿Cuáles son los medios de pago de los servicio...\n",
              "36  información  ¿Es necesario ser cliente con cuenta Chilexpre...\n",
              "37  información  Si soy menor de edad, ¿puedo retirar un giro d...\n",
              "38  información  ¿En cuánto tiempo está disponible un giro para...\n",
              "39  información  ¿Puedo cobrar un giro en cualquier sucursal de...\n",
              "40  información  Si me envían un giro en dólares ¿en qué moneda...\n",
              "41  información  Si perdí mi contraseña con la que me registré ...\n",
              "42  información                                   ¿Qué es el MTCN?\n",
              "43  información  Si hice un Giro online y no he recibido el MTC...\n",
              "44  información  Hice un giro online pero ingresé mal el nombre...\n",
              "45  información  ¿Puedo ir a retirar una encomienda a cualquier...\n",
              "46  información  ¿Puedo ir a retirar un documento a cualquier o...\n",
              "47  información  ¿Qué debe hacer el destinatario para retirar s...\n",
              "48  información  ¿Puede una tercera persona retirar un envío po...\n",
              "49  información  ¿Qué sucursales no están habilitadas para reci...\n",
              "50  información       ¿Puedo solicitar materiales telefónicamente?\n",
              "51  información             ¿Cómo programo los retiros habituales?\n",
              "52  información  Cuando solicito un retiro a través del Portal ...\n",
              "53  información  Al generar un envío masivo, ¿cómo obtengo la O...\n",
              "54  información  ¿Cómo puedo abrir una cuenta empresa con Chile...\n",
              "55  información  ¿Cuánto tiempo tarda en ser habilitada mi cuen...\n",
              "56  información  ¿Cuál es el costo mínimo mensual de la cuenta ...\n",
              "57  información  ¿Cuántas veces al mes se facturan los envíos r...\n",
              "58  información  ¿Sólo las empresas pueden tener una cuenta con...\n",
              "59  información  ¿Cómo obtengo mi usuario y contraseña de clien..."
            ]
          },
          "metadata": {},
          "execution_count": 42
        }
      ]
    },
    {
      "cell_type": "markdown",
      "source": [
        "## 1.4 Genere respuestas predeterminadas (respuestasDefecto.xls) para los mensajes de tipo \"saludo\", \"despedida\", \"nombre\""
      ],
      "metadata": {
        "id": "ozGp6P_TGU0r"
      }
    },
    {
      "cell_type": "code",
      "source": [
        "!wget https://github.com/alvaro-neira/nlp-homework2/blob/main/respuestasDefecto.csv -O /content/respuestasDefecto.csv"
      ],
      "metadata": {
        "colab": {
          "base_uri": "https://localhost:8080/"
        },
        "id": "bXuKEL2SP8PT",
        "outputId": "0958f731-13bf-49f2-f8ec-0f5a55be8b9c"
      },
      "execution_count": 51,
      "outputs": [
        {
          "output_type": "stream",
          "name": "stdout",
          "text": [
            "--2021-12-28 07:09:45--  https://github.com/alvaro-neira/nlp-homework2/blob/main/respuestasDefecto.csv\n",
            "Resolving github.com (github.com)... 192.30.255.112\n",
            "Connecting to github.com (github.com)|192.30.255.112|:443... connected.\n",
            "HTTP request sent, awaiting response... 200 OK\n",
            "Length: unspecified [text/html]\n",
            "Saving to: ‘/content/respuestasDefecto.csv’\n",
            "\n",
            "/content/respuestas     [ <=>                ] 162.47K  --.-KB/s    in 0.02s   \n",
            "\n",
            "2021-12-28 07:09:45 (7.25 MB/s) - ‘/content/respuestasDefecto.csv’ saved [166372]\n",
            "\n"
          ]
        }
      ]
    },
    {
      "cell_type": "code",
      "source": [
        "answers = pd.read_csv('/content/respuestasDefecto.csv', sep=',')\n",
        "answers.tail(12)"
      ],
      "metadata": {
        "colab": {
          "base_uri": "https://localhost:8080/",
          "height": 503
        },
        "id": "FsGsYLnTQ9Ya",
        "outputId": "2ae42ab5-4ba8-4b61-be33-66a5d768a745"
      },
      "execution_count": 52,
      "outputs": [
        {
          "output_type": "error",
          "ename": "ParserError",
          "evalue": "ignored",
          "traceback": [
            "\u001b[0;31m---------------------------------------------------------------------------\u001b[0m",
            "\u001b[0;31mParserError\u001b[0m                               Traceback (most recent call last)",
            "\u001b[0;32m<ipython-input-52-b89f7ca9a6ad>\u001b[0m in \u001b[0;36m<module>\u001b[0;34m()\u001b[0m\n\u001b[0;32m----> 1\u001b[0;31m \u001b[0manswers\u001b[0m \u001b[0;34m=\u001b[0m \u001b[0mpd\u001b[0m\u001b[0;34m.\u001b[0m\u001b[0mread_csv\u001b[0m\u001b[0;34m(\u001b[0m\u001b[0;34m'/content/respuestasDefecto.csv'\u001b[0m\u001b[0;34m,\u001b[0m \u001b[0msep\u001b[0m\u001b[0;34m=\u001b[0m\u001b[0;34m','\u001b[0m\u001b[0;34m)\u001b[0m\u001b[0;34m\u001b[0m\u001b[0;34m\u001b[0m\u001b[0m\n\u001b[0m\u001b[1;32m      2\u001b[0m \u001b[0manswers\u001b[0m\u001b[0;34m.\u001b[0m\u001b[0mtail\u001b[0m\u001b[0;34m(\u001b[0m\u001b[0;36m12\u001b[0m\u001b[0;34m)\u001b[0m\u001b[0;34m\u001b[0m\u001b[0;34m\u001b[0m\u001b[0m\n",
            "\u001b[0;32m/usr/local/lib/python3.7/dist-packages/pandas/io/parsers.py\u001b[0m in \u001b[0;36mread_csv\u001b[0;34m(filepath_or_buffer, sep, delimiter, header, names, index_col, usecols, squeeze, prefix, mangle_dupe_cols, dtype, engine, converters, true_values, false_values, skipinitialspace, skiprows, skipfooter, nrows, na_values, keep_default_na, na_filter, verbose, skip_blank_lines, parse_dates, infer_datetime_format, keep_date_col, date_parser, dayfirst, cache_dates, iterator, chunksize, compression, thousands, decimal, lineterminator, quotechar, quoting, doublequote, escapechar, comment, encoding, dialect, error_bad_lines, warn_bad_lines, delim_whitespace, low_memory, memory_map, float_precision)\u001b[0m\n\u001b[1;32m    686\u001b[0m     )\n\u001b[1;32m    687\u001b[0m \u001b[0;34m\u001b[0m\u001b[0m\n\u001b[0;32m--> 688\u001b[0;31m     \u001b[0;32mreturn\u001b[0m \u001b[0m_read\u001b[0m\u001b[0;34m(\u001b[0m\u001b[0mfilepath_or_buffer\u001b[0m\u001b[0;34m,\u001b[0m \u001b[0mkwds\u001b[0m\u001b[0;34m)\u001b[0m\u001b[0;34m\u001b[0m\u001b[0;34m\u001b[0m\u001b[0m\n\u001b[0m\u001b[1;32m    689\u001b[0m \u001b[0;34m\u001b[0m\u001b[0m\n\u001b[1;32m    690\u001b[0m \u001b[0;34m\u001b[0m\u001b[0m\n",
            "\u001b[0;32m/usr/local/lib/python3.7/dist-packages/pandas/io/parsers.py\u001b[0m in \u001b[0;36m_read\u001b[0;34m(filepath_or_buffer, kwds)\u001b[0m\n\u001b[1;32m    458\u001b[0m \u001b[0;34m\u001b[0m\u001b[0m\n\u001b[1;32m    459\u001b[0m     \u001b[0;32mtry\u001b[0m\u001b[0;34m:\u001b[0m\u001b[0;34m\u001b[0m\u001b[0;34m\u001b[0m\u001b[0m\n\u001b[0;32m--> 460\u001b[0;31m         \u001b[0mdata\u001b[0m \u001b[0;34m=\u001b[0m \u001b[0mparser\u001b[0m\u001b[0;34m.\u001b[0m\u001b[0mread\u001b[0m\u001b[0;34m(\u001b[0m\u001b[0mnrows\u001b[0m\u001b[0;34m)\u001b[0m\u001b[0;34m\u001b[0m\u001b[0;34m\u001b[0m\u001b[0m\n\u001b[0m\u001b[1;32m    461\u001b[0m     \u001b[0;32mfinally\u001b[0m\u001b[0;34m:\u001b[0m\u001b[0;34m\u001b[0m\u001b[0;34m\u001b[0m\u001b[0m\n\u001b[1;32m    462\u001b[0m         \u001b[0mparser\u001b[0m\u001b[0;34m.\u001b[0m\u001b[0mclose\u001b[0m\u001b[0;34m(\u001b[0m\u001b[0;34m)\u001b[0m\u001b[0;34m\u001b[0m\u001b[0;34m\u001b[0m\u001b[0m\n",
            "\u001b[0;32m/usr/local/lib/python3.7/dist-packages/pandas/io/parsers.py\u001b[0m in \u001b[0;36mread\u001b[0;34m(self, nrows)\u001b[0m\n\u001b[1;32m   1196\u001b[0m     \u001b[0;32mdef\u001b[0m \u001b[0mread\u001b[0m\u001b[0;34m(\u001b[0m\u001b[0mself\u001b[0m\u001b[0;34m,\u001b[0m \u001b[0mnrows\u001b[0m\u001b[0;34m=\u001b[0m\u001b[0;32mNone\u001b[0m\u001b[0;34m)\u001b[0m\u001b[0;34m:\u001b[0m\u001b[0;34m\u001b[0m\u001b[0;34m\u001b[0m\u001b[0m\n\u001b[1;32m   1197\u001b[0m         \u001b[0mnrows\u001b[0m \u001b[0;34m=\u001b[0m \u001b[0m_validate_integer\u001b[0m\u001b[0;34m(\u001b[0m\u001b[0;34m\"nrows\"\u001b[0m\u001b[0;34m,\u001b[0m \u001b[0mnrows\u001b[0m\u001b[0;34m)\u001b[0m\u001b[0;34m\u001b[0m\u001b[0;34m\u001b[0m\u001b[0m\n\u001b[0;32m-> 1198\u001b[0;31m         \u001b[0mret\u001b[0m \u001b[0;34m=\u001b[0m \u001b[0mself\u001b[0m\u001b[0;34m.\u001b[0m\u001b[0m_engine\u001b[0m\u001b[0;34m.\u001b[0m\u001b[0mread\u001b[0m\u001b[0;34m(\u001b[0m\u001b[0mnrows\u001b[0m\u001b[0;34m)\u001b[0m\u001b[0;34m\u001b[0m\u001b[0;34m\u001b[0m\u001b[0m\n\u001b[0m\u001b[1;32m   1199\u001b[0m \u001b[0;34m\u001b[0m\u001b[0m\n\u001b[1;32m   1200\u001b[0m         \u001b[0;31m# May alter columns / col_dict\u001b[0m\u001b[0;34m\u001b[0m\u001b[0;34m\u001b[0m\u001b[0;34m\u001b[0m\u001b[0m\n",
            "\u001b[0;32m/usr/local/lib/python3.7/dist-packages/pandas/io/parsers.py\u001b[0m in \u001b[0;36mread\u001b[0;34m(self, nrows)\u001b[0m\n\u001b[1;32m   2155\u001b[0m     \u001b[0;32mdef\u001b[0m \u001b[0mread\u001b[0m\u001b[0;34m(\u001b[0m\u001b[0mself\u001b[0m\u001b[0;34m,\u001b[0m \u001b[0mnrows\u001b[0m\u001b[0;34m=\u001b[0m\u001b[0;32mNone\u001b[0m\u001b[0;34m)\u001b[0m\u001b[0;34m:\u001b[0m\u001b[0;34m\u001b[0m\u001b[0;34m\u001b[0m\u001b[0m\n\u001b[1;32m   2156\u001b[0m         \u001b[0;32mtry\u001b[0m\u001b[0;34m:\u001b[0m\u001b[0;34m\u001b[0m\u001b[0;34m\u001b[0m\u001b[0m\n\u001b[0;32m-> 2157\u001b[0;31m             \u001b[0mdata\u001b[0m \u001b[0;34m=\u001b[0m \u001b[0mself\u001b[0m\u001b[0;34m.\u001b[0m\u001b[0m_reader\u001b[0m\u001b[0;34m.\u001b[0m\u001b[0mread\u001b[0m\u001b[0;34m(\u001b[0m\u001b[0mnrows\u001b[0m\u001b[0;34m)\u001b[0m\u001b[0;34m\u001b[0m\u001b[0;34m\u001b[0m\u001b[0m\n\u001b[0m\u001b[1;32m   2158\u001b[0m         \u001b[0;32mexcept\u001b[0m \u001b[0mStopIteration\u001b[0m\u001b[0;34m:\u001b[0m\u001b[0;34m\u001b[0m\u001b[0;34m\u001b[0m\u001b[0m\n\u001b[1;32m   2159\u001b[0m             \u001b[0;32mif\u001b[0m \u001b[0mself\u001b[0m\u001b[0;34m.\u001b[0m\u001b[0m_first_chunk\u001b[0m\u001b[0;34m:\u001b[0m\u001b[0;34m\u001b[0m\u001b[0;34m\u001b[0m\u001b[0m\n",
            "\u001b[0;32mpandas/_libs/parsers.pyx\u001b[0m in \u001b[0;36mpandas._libs.parsers.TextReader.read\u001b[0;34m()\u001b[0m\n",
            "\u001b[0;32mpandas/_libs/parsers.pyx\u001b[0m in \u001b[0;36mpandas._libs.parsers.TextReader._read_low_memory\u001b[0;34m()\u001b[0m\n",
            "\u001b[0;32mpandas/_libs/parsers.pyx\u001b[0m in \u001b[0;36mpandas._libs.parsers.TextReader._read_rows\u001b[0;34m()\u001b[0m\n",
            "\u001b[0;32mpandas/_libs/parsers.pyx\u001b[0m in \u001b[0;36mpandas._libs.parsers.TextReader._tokenize_rows\u001b[0;34m()\u001b[0m\n",
            "\u001b[0;32mpandas/_libs/parsers.pyx\u001b[0m in \u001b[0;36mpandas._libs.parsers.raise_parser_error\u001b[0;34m()\u001b[0m\n",
            "\u001b[0;31mParserError\u001b[0m: Error tokenizing data. C error: Expected 1 fields in line 129, saw 2\n"
          ]
        }
      ]
    },
    {
      "cell_type": "markdown",
      "source": [
        "## 1.5 Describa en términos generales las tablas que construyó."
      ],
      "metadata": {
        "id": "kjLZLGDTGvZ6"
      }
    },
    {
      "cell_type": "markdown",
      "source": [
        "\n",
        "\n",
        "*   Tabla QA: Se construyó en base a las preguntas y respuestas del centro de ayuda de Chilexpress https://centrodeayuda.chilexpress.cl/home . Se extrajo cada pregunta y respuesta de cada categoría (Envíos Nacionales, Envíos y retiros en App, Envíos internacionales, Giros en Chile y el mundo, Atención en sucursal, Cuenta empresa) y se eliminaron las preguntas repetidas. \n",
        "*   Tipos de mensajes: se construyó con mensajes tipo de saludo, despedida y nombre. Para la información se utilizó las preguntas obtenidas en la Tabla QA.\n",
        "*   Respuestas por defecto: se construyó con respuestas tipo de saludo, despedida y nombre de nuestro bot Eva\n",
        "\n"
      ],
      "metadata": {
        "id": "DFkQxa-iRYcr"
      }
    },
    {
      "cell_type": "markdown",
      "source": [
        "# 2. Análisis de distancia"
      ],
      "metadata": {
        "id": "kQCgD-fNFWZ3"
      }
    },
    {
      "cell_type": "markdown",
      "source": [
        "Para el primer chatbot utilizará una métrica de su elección para responder\n",
        "a cada pregunta/texto del usuario."
      ],
      "metadata": {
        "id": "I9aCVeAjG6-j"
      }
    },
    {
      "cell_type": "markdown",
      "source": [
        "## 2.1 Utilice algún embeddings utilizado en el curso para codificar el texto de entrada"
      ],
      "metadata": {
        "id": "lJat6tmEG-_g"
      }
    },
    {
      "cell_type": "markdown",
      "source": [
        "### 2.1.1 Word2Vec"
      ],
      "metadata": {
        "id": "QkpU-dumwfg9"
      }
    },
    {
      "cell_type": "code",
      "source": [
        "import nltk\n",
        "import gensim\n",
        "import re\n",
        "import pandas as pd\n",
        "import sklearn\n",
        "import numpy as np\n",
        "\n",
        "import sklearn.linear_model\n",
        "import sklearn.model_selection\n",
        "from sklearn.svm import LinearSVC\n",
        "from sklearn.pipeline import make_pipeline\n",
        "from sklearn.preprocessing import StandardScaler"
      ],
      "metadata": {
        "id": "bwY8pldbS2_u"
      },
      "execution_count": 12,
      "outputs": []
    },
    {
      "cell_type": "code",
      "source": [
        "def normalizer(text): #normalizes a given string to lowercase and changes all vowels to their base form\n",
        "    text = text.lower() #string lowering\n",
        "    text = re.sub(r'[^A-Za-zñáéíóú]', ' ', text) #replaces every punctuation with a space\n",
        "    text = re.sub('á', 'a', text) #replaces special vowels to their base forms\n",
        "    text = re.sub('é', 'e', text)\n",
        "    text = re.sub('í', 'i', text)\n",
        "    text = re.sub('ó', 'o', text)\n",
        "    text = re.sub('ú', 'u', text)\n",
        "    return text\n",
        "\n",
        "def preprocessor(text):\n",
        "  text = normalizer(text)\n",
        "  tokens = nltk.tokenize.casual_tokenize(text)\n",
        "  #if len(tokens)==1:\n",
        "  #  tokens=text\n",
        "  return tokens\n",
        "\n",
        "def vectorizer(text, model): #returns a vector representation from a list of words and a given model\n",
        "    vectors = []\n",
        "    for i in text:\n",
        "        try:\n",
        "            vectors.append(model.wv[i])\n",
        "        except:\n",
        "            pass\n",
        "    return(np.nan_to_num(np.mean(vectors,axis=0)))"
      ],
      "metadata": {
        "id": "QJJ5MgBsS8Ca"
      },
      "execution_count": 13,
      "outputs": []
    },
    {
      "cell_type": "code",
      "source": [
        "corpus = messages.Mensaje.tolist()\n",
        "corpus_preprocessed = list(map(preprocessor,corpus))\n"
      ],
      "metadata": {
        "id": "NfZYkhRoU0-F"
      },
      "execution_count": 14,
      "outputs": []
    },
    {
      "cell_type": "code",
      "source": [
        "model = gensim.models.word2vec.Word2Vec(sentences = corpus_preprocessed)\n"
      ],
      "metadata": {
        "id": "EaEAIqHFbMF0"
      },
      "execution_count": 15,
      "outputs": []
    },
    {
      "cell_type": "markdown",
      "source": [
        "### 2.1.2 ELMO"
      ],
      "metadata": {
        "id": "IGXf3pPMwi5V"
      }
    },
    {
      "cell_type": "code",
      "source": [
        "!pip install overrides==3.1.0\n",
        "!pip install elmoformanylangs"
      ],
      "metadata": {
        "colab": {
          "base_uri": "https://localhost:8080/"
        },
        "id": "7xJ6KejWcsx0",
        "outputId": "00a12681-80ff-4b4c-9b5c-e7542ec44525"
      },
      "execution_count": 16,
      "outputs": [
        {
          "output_type": "stream",
          "name": "stdout",
          "text": [
            "Collecting overrides==3.1.0\n",
            "  Downloading overrides-3.1.0.tar.gz (11 kB)\n",
            "Building wheels for collected packages: overrides\n",
            "  Building wheel for overrides (setup.py) ... \u001b[?25l\u001b[?25hdone\n",
            "  Created wheel for overrides: filename=overrides-3.1.0-py3-none-any.whl size=10186 sha256=742f5eee485daca4c38e22688cf2ef7c41faea29912d36f4e9fb6fd71bb61b05\n",
            "  Stored in directory: /root/.cache/pip/wheels/3a/0d/38/01a9bc6e20dcfaf0a6a7b552d03137558ba1c38aea47644682\n",
            "Successfully built overrides\n",
            "Installing collected packages: overrides\n",
            "Successfully installed overrides-3.1.0\n",
            "Collecting elmoformanylangs\n",
            "  Downloading elmoformanylangs-0.0.4.post2-py3-none-any.whl (42 kB)\n",
            "\u001b[K     |████████████████████████████████| 42 kB 955 kB/s \n",
            "\u001b[?25hRequirement already satisfied: h5py in /usr/local/lib/python3.7/dist-packages (from elmoformanylangs) (3.1.0)\n",
            "Requirement already satisfied: torch in /usr/local/lib/python3.7/dist-packages (from elmoformanylangs) (1.10.0+cu111)\n",
            "Requirement already satisfied: overrides in /usr/local/lib/python3.7/dist-packages (from elmoformanylangs) (3.1.0)\n",
            "Requirement already satisfied: numpy in /usr/local/lib/python3.7/dist-packages (from elmoformanylangs) (1.19.5)\n",
            "Requirement already satisfied: cached-property in /usr/local/lib/python3.7/dist-packages (from h5py->elmoformanylangs) (1.5.2)\n",
            "Requirement already satisfied: typing-extensions in /usr/local/lib/python3.7/dist-packages (from torch->elmoformanylangs) (3.10.0.2)\n",
            "Installing collected packages: elmoformanylangs\n",
            "Successfully installed elmoformanylangs-0.0.4.post2\n"
          ]
        }
      ]
    },
    {
      "cell_type": "code",
      "source": [
        "!wget http://vectors.nlpl.eu/repository/11/145.zip\n",
        "!unzip 145.zip"
      ],
      "metadata": {
        "colab": {
          "base_uri": "https://localhost:8080/"
        },
        "id": "eUg71z6FctT_",
        "outputId": "020441ff-2175-4ba7-de27-bc42922998e4"
      },
      "execution_count": 17,
      "outputs": [
        {
          "output_type": "stream",
          "name": "stdout",
          "text": [
            "--2021-12-28 06:31:52--  http://vectors.nlpl.eu/repository/11/145.zip\n",
            "Resolving vectors.nlpl.eu (vectors.nlpl.eu)... 129.240.189.181\n",
            "Connecting to vectors.nlpl.eu (vectors.nlpl.eu)|129.240.189.181|:80... connected.\n",
            "HTTP request sent, awaiting response... 200 OK\n",
            "Length: 419687058 (400M) [application/zip]\n",
            "Saving to: ‘145.zip’\n",
            "\n",
            "145.zip             100%[===================>] 400.24M  18.6MB/s    in 23s     \n",
            "\n",
            "2021-12-28 06:32:16 (17.2 MB/s) - ‘145.zip’ saved [419687058/419687058]\n",
            "\n",
            "Archive:  145.zip\n",
            "  inflating: char.dic                \n",
            "  inflating: config.json             \n",
            "  inflating: encoder.pkl             \n",
            "  inflating: meta.json               \n",
            "  inflating: README                  \n",
            "  inflating: token_embedder.pkl      \n",
            "  inflating: word.dic                \n"
          ]
        }
      ]
    },
    {
      "cell_type": "code",
      "source": [
        "import elmoformanylangs"
      ],
      "metadata": {
        "id": "O9UtlaiUc0Tk"
      },
      "execution_count": 18,
      "outputs": []
    },
    {
      "cell_type": "code",
      "source": [
        "e = elmoformanylangs.Embedder('')"
      ],
      "metadata": {
        "colab": {
          "base_uri": "https://localhost:8080/"
        },
        "id": "boh8BFJxc2Cd",
        "outputId": "c6b17f9e-1a40-48e9-9809-fa2418d4e7d2"
      },
      "execution_count": 19,
      "outputs": [
        {
          "output_type": "stream",
          "name": "stderr",
          "text": [
            "2021-12-28 06:32:31,135 WARNING: Could not find config.  Trying cnn_50_100_512_4096_sample.json\n",
            "2021-12-28 06:32:31,138 WARNING: Could not find config.  Trying /usr/local/lib/python3.7/dist-packages/elmoformanylangs/configs/cnn_50_100_512_4096_sample.json\n",
            "2021-12-28 06:32:31,219 INFO: char embedding size: 2637\n",
            "2021-12-28 06:32:32,312 INFO: word embedding size: 185214\n",
            "2021-12-28 06:32:44,274 INFO: Model(\n",
            "  (token_embedder): ConvTokenEmbedder(\n",
            "    (word_emb_layer): EmbeddingLayer(\n",
            "      (embedding): Embedding(185214, 100, padding_idx=3)\n",
            "    )\n",
            "    (char_emb_layer): EmbeddingLayer(\n",
            "      (embedding): Embedding(2637, 50, padding_idx=2634)\n",
            "    )\n",
            "    (convolutions): ModuleList(\n",
            "      (0): Conv1d(50, 32, kernel_size=(1,), stride=(1,))\n",
            "      (1): Conv1d(50, 32, kernel_size=(2,), stride=(1,))\n",
            "      (2): Conv1d(50, 64, kernel_size=(3,), stride=(1,))\n",
            "      (3): Conv1d(50, 128, kernel_size=(4,), stride=(1,))\n",
            "      (4): Conv1d(50, 256, kernel_size=(5,), stride=(1,))\n",
            "      (5): Conv1d(50, 512, kernel_size=(6,), stride=(1,))\n",
            "      (6): Conv1d(50, 1024, kernel_size=(7,), stride=(1,))\n",
            "    )\n",
            "    (highways): Highway(\n",
            "      (_layers): ModuleList(\n",
            "        (0): Linear(in_features=2048, out_features=4096, bias=True)\n",
            "        (1): Linear(in_features=2048, out_features=4096, bias=True)\n",
            "      )\n",
            "    )\n",
            "    (projection): Linear(in_features=2148, out_features=512, bias=True)\n",
            "  )\n",
            "  (encoder): ElmobiLm(\n",
            "    (forward_layer_0): LstmCellWithProjection(\n",
            "      (input_linearity): Linear(in_features=512, out_features=16384, bias=False)\n",
            "      (state_linearity): Linear(in_features=512, out_features=16384, bias=True)\n",
            "      (state_projection): Linear(in_features=4096, out_features=512, bias=False)\n",
            "    )\n",
            "    (backward_layer_0): LstmCellWithProjection(\n",
            "      (input_linearity): Linear(in_features=512, out_features=16384, bias=False)\n",
            "      (state_linearity): Linear(in_features=512, out_features=16384, bias=True)\n",
            "      (state_projection): Linear(in_features=4096, out_features=512, bias=False)\n",
            "    )\n",
            "    (forward_layer_1): LstmCellWithProjection(\n",
            "      (input_linearity): Linear(in_features=512, out_features=16384, bias=False)\n",
            "      (state_linearity): Linear(in_features=512, out_features=16384, bias=True)\n",
            "      (state_projection): Linear(in_features=4096, out_features=512, bias=False)\n",
            "    )\n",
            "    (backward_layer_1): LstmCellWithProjection(\n",
            "      (input_linearity): Linear(in_features=512, out_features=16384, bias=False)\n",
            "      (state_linearity): Linear(in_features=512, out_features=16384, bias=True)\n",
            "      (state_projection): Linear(in_features=4096, out_features=512, bias=False)\n",
            "    )\n",
            "  )\n",
            ")\n"
          ]
        }
      ]
    },
    {
      "cell_type": "code",
      "source": [
        "sentences = list(map(preprocessor,messages.Mensaje))\n",
        "features_raw = e.sents2elmo(sentences)"
      ],
      "metadata": {
        "colab": {
          "base_uri": "https://localhost:8080/"
        },
        "id": "numtIqblc80Z",
        "outputId": "06672a8a-bb9c-4ee6-8677-16bcb8ea88a9"
      },
      "execution_count": 20,
      "outputs": [
        {
          "output_type": "stream",
          "name": "stderr",
          "text": [
            "2021-12-28 06:32:53,953 INFO: 1 batches, avg len: 10.8\n"
          ]
        }
      ]
    },
    {
      "cell_type": "markdown",
      "source": [
        "## 2.2 Con el texto de entrada codificado y usando embeddings proponga una manera de identificar la clase del texto de entrada."
      ],
      "metadata": {
        "id": "acCU7jNxHFUN"
      }
    },
    {
      "cell_type": "code",
      "source": [
        "def predict_class(question):\n",
        "  tokens = preprocessor(question)\n",
        "  vector = vectorizer(tokens,model).reshape(1, -1)\n",
        "  return clf.predict(vector)"
      ],
      "metadata": {
        "id": "W89Jfer1xd4D"
      },
      "execution_count": 21,
      "outputs": []
    },
    {
      "cell_type": "markdown",
      "source": [
        "### 2.2.1 Word2Vec"
      ],
      "metadata": {
        "id": "oc9gAcTAnL-x"
      }
    },
    {
      "cell_type": "code",
      "source": [
        "messages"
      ],
      "metadata": {
        "colab": {
          "base_uri": "https://localhost:8080/",
          "height": 1000
        },
        "id": "m7hHb9GiYcyh",
        "outputId": "87500d00-5f3a-45a9-b1bc-3dfb78c5c6e2"
      },
      "execution_count": 22,
      "outputs": [
        {
          "output_type": "execute_result",
          "data": {
            "text/html": [
              "\n",
              "  <div id=\"df-08111079-c8ad-4a1a-a982-fc6c4e57cc29\">\n",
              "    <div class=\"colab-df-container\">\n",
              "      <div>\n",
              "<style scoped>\n",
              "    .dataframe tbody tr th:only-of-type {\n",
              "        vertical-align: middle;\n",
              "    }\n",
              "\n",
              "    .dataframe tbody tr th {\n",
              "        vertical-align: top;\n",
              "    }\n",
              "\n",
              "    .dataframe thead th {\n",
              "        text-align: right;\n",
              "    }\n",
              "</style>\n",
              "<table border=\"1\" class=\"dataframe\">\n",
              "  <thead>\n",
              "    <tr style=\"text-align: right;\">\n",
              "      <th></th>\n",
              "      <th>Clase</th>\n",
              "      <th>Mensaje</th>\n",
              "    </tr>\n",
              "  </thead>\n",
              "  <tbody>\n",
              "    <tr>\n",
              "      <th>0</th>\n",
              "      <td>saludo</td>\n",
              "      <td>Hola</td>\n",
              "    </tr>\n",
              "    <tr>\n",
              "      <th>1</th>\n",
              "      <td>saludo</td>\n",
              "      <td>Hi</td>\n",
              "    </tr>\n",
              "    <tr>\n",
              "      <th>2</th>\n",
              "      <td>saludo</td>\n",
              "      <td>Buenos días</td>\n",
              "    </tr>\n",
              "    <tr>\n",
              "      <th>3</th>\n",
              "      <td>saludo</td>\n",
              "      <td>Buenas tardes</td>\n",
              "    </tr>\n",
              "    <tr>\n",
              "      <th>4</th>\n",
              "      <td>saludo</td>\n",
              "      <td>Como estas</td>\n",
              "    </tr>\n",
              "    <tr>\n",
              "      <th>5</th>\n",
              "      <td>despedida</td>\n",
              "      <td>Chao</td>\n",
              "    </tr>\n",
              "    <tr>\n",
              "      <th>6</th>\n",
              "      <td>despedida</td>\n",
              "      <td>Adiós</td>\n",
              "    </tr>\n",
              "    <tr>\n",
              "      <th>7</th>\n",
              "      <td>despedida</td>\n",
              "      <td>Hasta luego</td>\n",
              "    </tr>\n",
              "    <tr>\n",
              "      <th>8</th>\n",
              "      <td>despedida</td>\n",
              "      <td>Nos vemos</td>\n",
              "    </tr>\n",
              "    <tr>\n",
              "      <th>9</th>\n",
              "      <td>despedida</td>\n",
              "      <td>Bye</td>\n",
              "    </tr>\n",
              "    <tr>\n",
              "      <th>10</th>\n",
              "      <td>nombre</td>\n",
              "      <td>Mi nombre es</td>\n",
              "    </tr>\n",
              "    <tr>\n",
              "      <th>11</th>\n",
              "      <td>nombre</td>\n",
              "      <td>Mi usuario es</td>\n",
              "    </tr>\n",
              "    <tr>\n",
              "      <th>12</th>\n",
              "      <td>nombre</td>\n",
              "      <td>Yo soy</td>\n",
              "    </tr>\n",
              "    <tr>\n",
              "      <th>13</th>\n",
              "      <td>nombre</td>\n",
              "      <td>Me llamo</td>\n",
              "    </tr>\n",
              "    <tr>\n",
              "      <th>14</th>\n",
              "      <td>información</td>\n",
              "      <td>¿Qué es la Orden de Transporte (OT)?</td>\n",
              "    </tr>\n",
              "    <tr>\n",
              "      <th>15</th>\n",
              "      <td>información</td>\n",
              "      <td>¿Cuál es el plazo para retirar un envío desde ...</td>\n",
              "    </tr>\n",
              "    <tr>\n",
              "      <th>16</th>\n",
              "      <td>información</td>\n",
              "      <td>¿Puede otra persona retirar mi envío de una su...</td>\n",
              "    </tr>\n",
              "    <tr>\n",
              "      <th>17</th>\n",
              "      <td>información</td>\n",
              "      <td>¿Se puede modificar la dirección de envío?</td>\n",
              "    </tr>\n",
              "    <tr>\n",
              "      <th>18</th>\n",
              "      <td>información</td>\n",
              "      <td>¿Puedo cambiar el destino del envío desde una ...</td>\n",
              "    </tr>\n",
              "    <tr>\n",
              "      <th>19</th>\n",
              "      <td>información</td>\n",
              "      <td>¿El destinatario puede cambiar la dirección de...</td>\n",
              "    </tr>\n",
              "    <tr>\n",
              "      <th>20</th>\n",
              "      <td>información</td>\n",
              "      <td>Si el destinatario no se encuentra en la direc...</td>\n",
              "    </tr>\n",
              "    <tr>\n",
              "      <th>21</th>\n",
              "      <td>información</td>\n",
              "      <td>¿Qué pasa si el destinatario no puede recibir ...</td>\n",
              "    </tr>\n",
              "    <tr>\n",
              "      <th>22</th>\n",
              "      <td>información</td>\n",
              "      <td>¿Cuántos intentos de entrega en el domicilio r...</td>\n",
              "    </tr>\n",
              "    <tr>\n",
              "      <th>23</th>\n",
              "      <td>información</td>\n",
              "      <td>¿Chilexpress solicita el RUT del destinatario ...</td>\n",
              "    </tr>\n",
              "    <tr>\n",
              "      <th>24</th>\n",
              "      <td>información</td>\n",
              "      <td>¿Qué es un envío sobredimensionado?</td>\n",
              "    </tr>\n",
              "    <tr>\n",
              "      <th>25</th>\n",
              "      <td>información</td>\n",
              "      <td>¿Cuánto cuesta un envío sobredimensionado?</td>\n",
              "    </tr>\n",
              "    <tr>\n",
              "      <th>26</th>\n",
              "      <td>información</td>\n",
              "      <td>¿Existen restricciones en los tiempos de entre...</td>\n",
              "    </tr>\n",
              "    <tr>\n",
              "      <th>27</th>\n",
              "      <td>información</td>\n",
              "      <td>¿Cuál es la diferencia entre un documento y un...</td>\n",
              "    </tr>\n",
              "    <tr>\n",
              "      <th>28</th>\n",
              "      <td>información</td>\n",
              "      <td>¿Dónde puedo revisar las normas nacionales e i...</td>\n",
              "    </tr>\n",
              "    <tr>\n",
              "      <th>29</th>\n",
              "      <td>información</td>\n",
              "      <td>¿Cómo puedo hacer seguimiento de un envío?</td>\n",
              "    </tr>\n",
              "    <tr>\n",
              "      <th>30</th>\n",
              "      <td>información</td>\n",
              "      <td>¿Puedo hacer seguimiento a un envío sin la ord...</td>\n",
              "    </tr>\n",
              "    <tr>\n",
              "      <th>31</th>\n",
              "      <td>información</td>\n",
              "      <td>¿Puedo enviar un documento o encomienda a otro...</td>\n",
              "    </tr>\n",
              "    <tr>\n",
              "      <th>32</th>\n",
              "      <td>información</td>\n",
              "      <td>¿Qué requisito debe cumplir un envío internaci...</td>\n",
              "    </tr>\n",
              "    <tr>\n",
              "      <th>33</th>\n",
              "      <td>información</td>\n",
              "      <td>¿Cuáles son los plazos de entrega asociados a ...</td>\n",
              "    </tr>\n",
              "    <tr>\n",
              "      <th>34</th>\n",
              "      <td>información</td>\n",
              "      <td>Para un envío internacional, ¿cuál es la difer...</td>\n",
              "    </tr>\n",
              "    <tr>\n",
              "      <th>35</th>\n",
              "      <td>información</td>\n",
              "      <td>¿Cuáles son los medios de pago de los servicio...</td>\n",
              "    </tr>\n",
              "    <tr>\n",
              "      <th>36</th>\n",
              "      <td>información</td>\n",
              "      <td>¿Es necesario ser cliente con cuenta Chilexpre...</td>\n",
              "    </tr>\n",
              "    <tr>\n",
              "      <th>37</th>\n",
              "      <td>información</td>\n",
              "      <td>Si soy menor de edad, ¿puedo retirar un giro d...</td>\n",
              "    </tr>\n",
              "    <tr>\n",
              "      <th>38</th>\n",
              "      <td>información</td>\n",
              "      <td>¿En cuánto tiempo está disponible un giro para...</td>\n",
              "    </tr>\n",
              "    <tr>\n",
              "      <th>39</th>\n",
              "      <td>información</td>\n",
              "      <td>¿Puedo cobrar un giro en cualquier sucursal de...</td>\n",
              "    </tr>\n",
              "    <tr>\n",
              "      <th>40</th>\n",
              "      <td>información</td>\n",
              "      <td>Si me envían un giro en dólares ¿en qué moneda...</td>\n",
              "    </tr>\n",
              "    <tr>\n",
              "      <th>41</th>\n",
              "      <td>información</td>\n",
              "      <td>Si perdí mi contraseña con la que me registré ...</td>\n",
              "    </tr>\n",
              "    <tr>\n",
              "      <th>42</th>\n",
              "      <td>información</td>\n",
              "      <td>¿Qué es el MTCN?</td>\n",
              "    </tr>\n",
              "    <tr>\n",
              "      <th>43</th>\n",
              "      <td>información</td>\n",
              "      <td>Si hice un Giro online y no he recibido el MTC...</td>\n",
              "    </tr>\n",
              "    <tr>\n",
              "      <th>44</th>\n",
              "      <td>información</td>\n",
              "      <td>Hice un giro online pero ingresé mal el nombre...</td>\n",
              "    </tr>\n",
              "    <tr>\n",
              "      <th>45</th>\n",
              "      <td>información</td>\n",
              "      <td>¿Puedo ir a retirar una encomienda a cualquier...</td>\n",
              "    </tr>\n",
              "    <tr>\n",
              "      <th>46</th>\n",
              "      <td>información</td>\n",
              "      <td>¿Puedo ir a retirar un documento a cualquier o...</td>\n",
              "    </tr>\n",
              "    <tr>\n",
              "      <th>47</th>\n",
              "      <td>información</td>\n",
              "      <td>¿Qué debe hacer el destinatario para retirar s...</td>\n",
              "    </tr>\n",
              "    <tr>\n",
              "      <th>48</th>\n",
              "      <td>información</td>\n",
              "      <td>¿Puede una tercera persona retirar un envío po...</td>\n",
              "    </tr>\n",
              "    <tr>\n",
              "      <th>49</th>\n",
              "      <td>información</td>\n",
              "      <td>¿Qué sucursales no están habilitadas para reci...</td>\n",
              "    </tr>\n",
              "    <tr>\n",
              "      <th>50</th>\n",
              "      <td>información</td>\n",
              "      <td>¿Puedo solicitar materiales telefónicamente?</td>\n",
              "    </tr>\n",
              "    <tr>\n",
              "      <th>51</th>\n",
              "      <td>información</td>\n",
              "      <td>¿Cómo programo los retiros habituales?</td>\n",
              "    </tr>\n",
              "    <tr>\n",
              "      <th>52</th>\n",
              "      <td>información</td>\n",
              "      <td>Cuando solicito un retiro a través del Portal ...</td>\n",
              "    </tr>\n",
              "    <tr>\n",
              "      <th>53</th>\n",
              "      <td>información</td>\n",
              "      <td>Al generar un envío masivo, ¿cómo obtengo la O...</td>\n",
              "    </tr>\n",
              "    <tr>\n",
              "      <th>54</th>\n",
              "      <td>información</td>\n",
              "      <td>¿Cómo puedo abrir una cuenta empresa con Chile...</td>\n",
              "    </tr>\n",
              "    <tr>\n",
              "      <th>55</th>\n",
              "      <td>información</td>\n",
              "      <td>¿Cuánto tiempo tarda en ser habilitada mi cuen...</td>\n",
              "    </tr>\n",
              "    <tr>\n",
              "      <th>56</th>\n",
              "      <td>información</td>\n",
              "      <td>¿Cuál es el costo mínimo mensual de la cuenta ...</td>\n",
              "    </tr>\n",
              "    <tr>\n",
              "      <th>57</th>\n",
              "      <td>información</td>\n",
              "      <td>¿Cuántas veces al mes se facturan los envíos r...</td>\n",
              "    </tr>\n",
              "    <tr>\n",
              "      <th>58</th>\n",
              "      <td>información</td>\n",
              "      <td>¿Sólo las empresas pueden tener una cuenta con...</td>\n",
              "    </tr>\n",
              "    <tr>\n",
              "      <th>59</th>\n",
              "      <td>información</td>\n",
              "      <td>¿Cómo obtengo mi usuario y contraseña de clien...</td>\n",
              "    </tr>\n",
              "  </tbody>\n",
              "</table>\n",
              "</div>\n",
              "      <button class=\"colab-df-convert\" onclick=\"convertToInteractive('df-08111079-c8ad-4a1a-a982-fc6c4e57cc29')\"\n",
              "              title=\"Convert this dataframe to an interactive table.\"\n",
              "              style=\"display:none;\">\n",
              "        \n",
              "  <svg xmlns=\"http://www.w3.org/2000/svg\" height=\"24px\"viewBox=\"0 0 24 24\"\n",
              "       width=\"24px\">\n",
              "    <path d=\"M0 0h24v24H0V0z\" fill=\"none\"/>\n",
              "    <path d=\"M18.56 5.44l.94 2.06.94-2.06 2.06-.94-2.06-.94-.94-2.06-.94 2.06-2.06.94zm-11 1L8.5 8.5l.94-2.06 2.06-.94-2.06-.94L8.5 2.5l-.94 2.06-2.06.94zm10 10l.94 2.06.94-2.06 2.06-.94-2.06-.94-.94-2.06-.94 2.06-2.06.94z\"/><path d=\"M17.41 7.96l-1.37-1.37c-.4-.4-.92-.59-1.43-.59-.52 0-1.04.2-1.43.59L10.3 9.45l-7.72 7.72c-.78.78-.78 2.05 0 2.83L4 21.41c.39.39.9.59 1.41.59.51 0 1.02-.2 1.41-.59l7.78-7.78 2.81-2.81c.8-.78.8-2.07 0-2.86zM5.41 20L4 18.59l7.72-7.72 1.47 1.35L5.41 20z\"/>\n",
              "  </svg>\n",
              "      </button>\n",
              "      \n",
              "  <style>\n",
              "    .colab-df-container {\n",
              "      display:flex;\n",
              "      flex-wrap:wrap;\n",
              "      gap: 12px;\n",
              "    }\n",
              "\n",
              "    .colab-df-convert {\n",
              "      background-color: #E8F0FE;\n",
              "      border: none;\n",
              "      border-radius: 50%;\n",
              "      cursor: pointer;\n",
              "      display: none;\n",
              "      fill: #1967D2;\n",
              "      height: 32px;\n",
              "      padding: 0 0 0 0;\n",
              "      width: 32px;\n",
              "    }\n",
              "\n",
              "    .colab-df-convert:hover {\n",
              "      background-color: #E2EBFA;\n",
              "      box-shadow: 0px 1px 2px rgba(60, 64, 67, 0.3), 0px 1px 3px 1px rgba(60, 64, 67, 0.15);\n",
              "      fill: #174EA6;\n",
              "    }\n",
              "\n",
              "    [theme=dark] .colab-df-convert {\n",
              "      background-color: #3B4455;\n",
              "      fill: #D2E3FC;\n",
              "    }\n",
              "\n",
              "    [theme=dark] .colab-df-convert:hover {\n",
              "      background-color: #434B5C;\n",
              "      box-shadow: 0px 1px 3px 1px rgba(0, 0, 0, 0.15);\n",
              "      filter: drop-shadow(0px 1px 2px rgba(0, 0, 0, 0.3));\n",
              "      fill: #FFFFFF;\n",
              "    }\n",
              "  </style>\n",
              "\n",
              "      <script>\n",
              "        const buttonEl =\n",
              "          document.querySelector('#df-08111079-c8ad-4a1a-a982-fc6c4e57cc29 button.colab-df-convert');\n",
              "        buttonEl.style.display =\n",
              "          google.colab.kernel.accessAllowed ? 'block' : 'none';\n",
              "\n",
              "        async function convertToInteractive(key) {\n",
              "          const element = document.querySelector('#df-08111079-c8ad-4a1a-a982-fc6c4e57cc29');\n",
              "          const dataTable =\n",
              "            await google.colab.kernel.invokeFunction('convertToInteractive',\n",
              "                                                     [key], {});\n",
              "          if (!dataTable) return;\n",
              "\n",
              "          const docLinkHtml = 'Like what you see? Visit the ' +\n",
              "            '<a target=\"_blank\" href=https://colab.research.google.com/notebooks/data_table.ipynb>data table notebook</a>'\n",
              "            + ' to learn more about interactive tables.';\n",
              "          element.innerHTML = '';\n",
              "          dataTable['output_type'] = 'display_data';\n",
              "          await google.colab.output.renderOutput(dataTable, element);\n",
              "          const docLink = document.createElement('div');\n",
              "          docLink.innerHTML = docLinkHtml;\n",
              "          element.appendChild(docLink);\n",
              "        }\n",
              "      </script>\n",
              "    </div>\n",
              "  </div>\n",
              "  "
            ],
            "text/plain": [
              "          Clase                                            Mensaje\n",
              "0        saludo                                               Hola\n",
              "1        saludo                                                 Hi\n",
              "2        saludo                                        Buenos días\n",
              "3        saludo                                      Buenas tardes\n",
              "4        saludo                                         Como estas\n",
              "5     despedida                                               Chao\n",
              "6     despedida                                              Adiós\n",
              "7     despedida                                        Hasta luego\n",
              "8     despedida                                          Nos vemos\n",
              "9     despedida                                                Bye\n",
              "10       nombre                                       Mi nombre es\n",
              "11       nombre                                      Mi usuario es\n",
              "12       nombre                                             Yo soy\n",
              "13       nombre                                           Me llamo\n",
              "14  información               ¿Qué es la Orden de Transporte (OT)?\n",
              "15  información  ¿Cuál es el plazo para retirar un envío desde ...\n",
              "16  información  ¿Puede otra persona retirar mi envío de una su...\n",
              "17  información         ¿Se puede modificar la dirección de envío?\n",
              "18  información  ¿Puedo cambiar el destino del envío desde una ...\n",
              "19  información  ¿El destinatario puede cambiar la dirección de...\n",
              "20  información  Si el destinatario no se encuentra en la direc...\n",
              "21  información  ¿Qué pasa si el destinatario no puede recibir ...\n",
              "22  información  ¿Cuántos intentos de entrega en el domicilio r...\n",
              "23  información  ¿Chilexpress solicita el RUT del destinatario ...\n",
              "24  información                ¿Qué es un envío sobredimensionado?\n",
              "25  información         ¿Cuánto cuesta un envío sobredimensionado?\n",
              "26  información  ¿Existen restricciones en los tiempos de entre...\n",
              "27  información  ¿Cuál es la diferencia entre un documento y un...\n",
              "28  información  ¿Dónde puedo revisar las normas nacionales e i...\n",
              "29  información         ¿Cómo puedo hacer seguimiento de un envío?\n",
              "30  información  ¿Puedo hacer seguimiento a un envío sin la ord...\n",
              "31  información  ¿Puedo enviar un documento o encomienda a otro...\n",
              "32  información  ¿Qué requisito debe cumplir un envío internaci...\n",
              "33  información  ¿Cuáles son los plazos de entrega asociados a ...\n",
              "34  información  Para un envío internacional, ¿cuál es la difer...\n",
              "35  información  ¿Cuáles son los medios de pago de los servicio...\n",
              "36  información  ¿Es necesario ser cliente con cuenta Chilexpre...\n",
              "37  información  Si soy menor de edad, ¿puedo retirar un giro d...\n",
              "38  información  ¿En cuánto tiempo está disponible un giro para...\n",
              "39  información  ¿Puedo cobrar un giro en cualquier sucursal de...\n",
              "40  información  Si me envían un giro en dólares ¿en qué moneda...\n",
              "41  información  Si perdí mi contraseña con la que me registré ...\n",
              "42  información                                   ¿Qué es el MTCN?\n",
              "43  información  Si hice un Giro online y no he recibido el MTC...\n",
              "44  información  Hice un giro online pero ingresé mal el nombre...\n",
              "45  información  ¿Puedo ir a retirar una encomienda a cualquier...\n",
              "46  información  ¿Puedo ir a retirar un documento a cualquier o...\n",
              "47  información  ¿Qué debe hacer el destinatario para retirar s...\n",
              "48  información  ¿Puede una tercera persona retirar un envío po...\n",
              "49  información  ¿Qué sucursales no están habilitadas para reci...\n",
              "50  información       ¿Puedo solicitar materiales telefónicamente?\n",
              "51  información             ¿Cómo programo los retiros habituales?\n",
              "52  información  Cuando solicito un retiro a través del Portal ...\n",
              "53  información  Al generar un envío masivo, ¿cómo obtengo la O...\n",
              "54  información  ¿Cómo puedo abrir una cuenta empresa con Chile...\n",
              "55  información  ¿Cuánto tiempo tarda en ser habilitada mi cuen...\n",
              "56  información  ¿Cuál es el costo mínimo mensual de la cuenta ...\n",
              "57  información  ¿Cuántas veces al mes se facturan los envíos r...\n",
              "58  información  ¿Sólo las empresas pueden tener una cuenta con...\n",
              "59  información  ¿Cómo obtengo mi usuario y contraseña de clien..."
            ]
          },
          "metadata": {},
          "execution_count": 22
        }
      ]
    },
    {
      "cell_type": "code",
      "source": [
        "features = np.zeros(shape=(len(messages),model.wv.vectors.shape[1]))\n",
        "for i,msg in enumerate(messages.Mensaje):\n",
        "  features[i,:] = vectorizer(preprocessor(msg),model)\n",
        "\n",
        "cv_results = sklearn.model_selection.cross_validate(sklearn.linear_model.LogisticRegression(max_iter=10000),features,messages.Clase)\n",
        "cv_results[\"test_score\"].mean()"
      ],
      "metadata": {
        "colab": {
          "base_uri": "https://localhost:8080/"
        },
        "id": "NIRKBuHyVV8k",
        "outputId": "1e52a9ae-b03f-44fd-9fcd-ad3d48ab081a"
      },
      "execution_count": 23,
      "outputs": [
        {
          "output_type": "stream",
          "name": "stderr",
          "text": [
            "/usr/local/lib/python3.7/dist-packages/numpy/core/fromnumeric.py:3373: RuntimeWarning: Mean of empty slice.\n",
            "  out=out, **kwargs)\n",
            "/usr/local/lib/python3.7/dist-packages/numpy/core/_methods.py:170: RuntimeWarning: invalid value encountered in double_scalars\n",
            "  ret = ret.dtype.type(ret / rcount)\n",
            "/usr/local/lib/python3.7/dist-packages/sklearn/model_selection/_split.py:680: UserWarning: The least populated class in y has only 4 members, which is less than n_splits=5.\n",
            "  UserWarning,\n"
          ]
        },
        {
          "output_type": "execute_result",
          "data": {
            "text/plain": [
              "0.7666666666666667"
            ]
          },
          "metadata": {},
          "execution_count": 23
        }
      ]
    },
    {
      "cell_type": "code",
      "source": [
        "#clf = sklearn.linear_model.LogisticRegression()\n",
        "#clf.fit(features,messages.Clase)\n",
        "clf = make_pipeline(StandardScaler(),LinearSVC(random_state=0, tol=1e-5))\n",
        "clf.fit(features,np.array(messages.Clase))"
      ],
      "metadata": {
        "colab": {
          "base_uri": "https://localhost:8080/"
        },
        "id": "gPDU514jYCkB",
        "outputId": "c24c35df-f6f5-4f1c-8b49-707d22403630"
      },
      "execution_count": 24,
      "outputs": [
        {
          "output_type": "stream",
          "name": "stderr",
          "text": [
            "/usr/local/lib/python3.7/dist-packages/sklearn/svm/_base.py:1208: ConvergenceWarning: Liblinear failed to converge, increase the number of iterations.\n",
            "  ConvergenceWarning,\n"
          ]
        },
        {
          "output_type": "execute_result",
          "data": {
            "text/plain": [
              "Pipeline(steps=[('standardscaler', StandardScaler()),\n",
              "                ('linearsvc', LinearSVC(random_state=0, tol=1e-05))])"
            ]
          },
          "metadata": {},
          "execution_count": 24
        }
      ]
    },
    {
      "cell_type": "code",
      "source": [
        "vectorprueba = vectorizer(preprocessor(\"Hola buenas\"),model).reshape(1, -1)\n",
        "vectorprueba"
      ],
      "metadata": {
        "colab": {
          "base_uri": "https://localhost:8080/"
        },
        "id": "1Jjh9J-VTvGX",
        "outputId": "e487390d-7d13-4006-fe52-a69a06266877"
      },
      "execution_count": 25,
      "outputs": [
        {
          "output_type": "stream",
          "name": "stderr",
          "text": [
            "/usr/local/lib/python3.7/dist-packages/numpy/core/fromnumeric.py:3373: RuntimeWarning: Mean of empty slice.\n",
            "  out=out, **kwargs)\n",
            "/usr/local/lib/python3.7/dist-packages/numpy/core/_methods.py:170: RuntimeWarning: invalid value encountered in double_scalars\n",
            "  ret = ret.dtype.type(ret / rcount)\n"
          ]
        },
        {
          "output_type": "execute_result",
          "data": {
            "text/plain": [
              "array([[0.]])"
            ]
          },
          "metadata": {},
          "execution_count": 25
        }
      ]
    },
    {
      "cell_type": "code",
      "source": [
        "preprocessor(\"Hola buenas\")"
      ],
      "metadata": {
        "colab": {
          "base_uri": "https://localhost:8080/"
        },
        "id": "i2rP5gokUVmN",
        "outputId": "637343f1-c752-459e-f094-23440382d7bc"
      },
      "execution_count": 26,
      "outputs": [
        {
          "output_type": "execute_result",
          "data": {
            "text/plain": [
              "['hola', 'buenas']"
            ]
          },
          "metadata": {},
          "execution_count": 26
        }
      ]
    },
    {
      "cell_type": "code",
      "source": [
        "vectorsprueba = []\n",
        "for i in ['mi',\"nombre\",\"es\"]:\n",
        "    try:\n",
        "        vectorsprueba.append(model.wv[i])\n",
        "\n",
        "        #print(i)\n",
        "        #print(vectorsprueba)\n",
        "    except:\n",
        "        pass\n",
        "print(model.wv[\"mi\"])\n",
        "#print(vectorsprueba)\n",
        "#print(np.nan_to_num(np.mean(vectorsprueba,axis=0)))"
      ],
      "metadata": {
        "colab": {
          "base_uri": "https://localhost:8080/"
        },
        "id": "t_Xy9CLgUGbn",
        "outputId": "9ffdea05-0c81-45d3-e8bb-ab44dc7da4c4"
      },
      "execution_count": 27,
      "outputs": [
        {
          "output_type": "stream",
          "name": "stdout",
          "text": [
            "[-1.6995457e-03 -9.2877977e-04  1.4382645e-03  6.6863821e-04\n",
            " -4.4397870e-03 -3.1323459e-03 -1.8924028e-04 -4.8062871e-03\n",
            "  1.9674178e-03  4.3180734e-03  2.4309296e-03 -3.5227091e-05\n",
            "  3.0498535e-03 -2.7709205e-03  1.7612906e-03 -9.4162548e-05\n",
            "  5.0396142e-05  2.1838555e-03 -4.2359806e-03  3.6459793e-03\n",
            " -1.9686059e-03 -7.3772017e-04 -4.0274179e-03 -4.3230434e-03\n",
            " -2.4793739e-03  3.8916268e-03  3.7436390e-03 -6.4668345e-04\n",
            " -2.4535090e-03  2.0095126e-03 -1.1312971e-03  3.3694546e-04\n",
            "  2.7787308e-03  4.7811880e-03  6.7428315e-05 -1.3106432e-03\n",
            " -3.8366899e-04  1.9044249e-03  2.8945138e-03 -2.2313038e-03\n",
            " -1.3034992e-03  4.7142333e-03  2.8349233e-03  2.2681574e-03\n",
            " -2.0405012e-03  4.9323267e-03 -3.7786434e-03  8.3870755e-04\n",
            "  4.6378993e-03  3.0539746e-03 -2.4690051e-04  4.0654968e-03\n",
            "  8.9473266e-04 -4.1607022e-03 -2.3382432e-03 -1.9727917e-04\n",
            " -9.2634431e-04 -4.2552315e-03 -1.9927928e-03  1.1907857e-03\n",
            " -6.9371244e-04  4.7849882e-03 -1.1189398e-03  6.7974947e-04\n",
            "  2.2912347e-03  4.4314426e-04  2.5250466e-04  7.8841094e-06\n",
            " -3.8064949e-03  2.1032959e-03  1.0228846e-03  3.8228522e-03\n",
            " -3.5665240e-03 -3.4885912e-03 -3.6662866e-03  2.1195102e-03\n",
            "  2.3374944e-03 -4.7002281e-03  2.5888681e-03 -1.9791753e-03\n",
            "  1.5144570e-03 -5.5647246e-04 -3.9586099e-03  3.9790752e-03\n",
            " -5.6593580e-04  3.4418853e-03 -1.3636432e-03  3.0032548e-03\n",
            " -2.6167564e-03 -6.5463514e-04  4.5951884e-03 -4.6786633e-03\n",
            "  1.7605785e-03 -7.2437001e-04  2.7774386e-03 -2.8697943e-04\n",
            " -3.3527527e-03  8.8499946e-05  2.5748473e-03 -3.4574367e-04]\n"
          ]
        }
      ]
    },
    {
      "cell_type": "code",
      "source": [
        "print(predict_class('¿Sólo las empresas pueden tener una cuenta con Chilexpress?'))\n",
        "print(predict_class('Mi nombre es'))\n",
        "# print(predict_class('hola buenas'))\n",
        "print(predict_class('¿puedo retirar un giro de dinero?'))\n",
        "print(predict_class('Puede otra persona retirar mi pedido'))"
      ],
      "metadata": {
        "colab": {
          "base_uri": "https://localhost:8080/"
        },
        "id": "FCXJ9dgVYZtF",
        "outputId": "9e0a7389-abbe-407d-f4c7-171644a938d9"
      },
      "execution_count": 29,
      "outputs": [
        {
          "output_type": "stream",
          "name": "stdout",
          "text": [
            "['información']\n",
            "['nombre']\n",
            "['información']\n",
            "['información']\n"
          ]
        }
      ]
    },
    {
      "cell_type": "markdown",
      "source": [
        "### 2.2.2 ELMO"
      ],
      "metadata": {
        "id": "rMQQV9fqnTYQ"
      }
    },
    {
      "cell_type": "code",
      "source": [
        "features_elmo = []\n",
        "for doc in features_raw:\n",
        "  features_elmo.append(doc.mean(0))\n",
        "features_elmo = np.vstack(features_elmo)\n",
        "\n",
        "cv_results = sklearn.model_selection.cross_validate(sklearn.linear_model.LogisticRegression(max_iter=1000),features_elmo,messages.Clase)\n",
        "cv_results[\"test_score\"].mean()"
      ],
      "metadata": {
        "id": "GwiGvWAZxL2x",
        "colab": {
          "base_uri": "https://localhost:8080/"
        },
        "outputId": "c1a2f28c-7cbd-46f8-d019-45f08a5ed561"
      },
      "execution_count": 30,
      "outputs": [
        {
          "output_type": "stream",
          "name": "stderr",
          "text": [
            "/usr/local/lib/python3.7/dist-packages/sklearn/model_selection/_split.py:680: UserWarning: The least populated class in y has only 4 members, which is less than n_splits=5.\n",
            "  UserWarning,\n"
          ]
        },
        {
          "output_type": "execute_result",
          "data": {
            "text/plain": [
              "0.8833333333333334"
            ]
          },
          "metadata": {},
          "execution_count": 30
        }
      ]
    },
    {
      "cell_type": "code",
      "source": [
        "clf = sklearn.linear_model.LogisticRegression()\n",
        "clf.fit(features_elmo,messages.Clase)"
      ],
      "metadata": {
        "id": "pawwIQMarGaA",
        "colab": {
          "base_uri": "https://localhost:8080/"
        },
        "outputId": "7b3b8c55-9b4a-4832-eab5-81d5f93a68fb"
      },
      "execution_count": 31,
      "outputs": [
        {
          "output_type": "execute_result",
          "data": {
            "text/plain": [
              "LogisticRegression()"
            ]
          },
          "metadata": {},
          "execution_count": 31
        }
      ]
    },
    {
      "cell_type": "code",
      "source": [
        "# print(predict_class('¿Sólo las empresas pueden tener una cuenta con Chilexpress?'))\n",
        "# print(predict_class('Hola buen día como estas'))\n",
        "# print(predict_class('Mi nombre es Paula'))\n",
        "# print(predict_class('¿puedo retirar un giro de dinero?'))\n",
        "# print(predict_class('Puede otra persona retirar mi pedido'))"
      ],
      "metadata": {
        "id": "LM2BnVSWvpur"
      },
      "execution_count": 33,
      "outputs": []
    },
    {
      "cell_type": "markdown",
      "source": [
        "## 2.3 Si el texto de entrada es del tipo \"información”, busque ahora la pregunta mas similar y retorne la respuesta asociada."
      ],
      "metadata": {
        "id": "PXxNCsxwHKKi"
      }
    },
    {
      "cell_type": "markdown",
      "source": [
        "## 2.4 Reporte el resultado con textos de prueba."
      ],
      "metadata": {
        "id": "ccIjPIjmHSwx"
      }
    },
    {
      "cell_type": "markdown",
      "source": [
        "# 3. Análisis transformer "
      ],
      "metadata": {
        "id": "6Iqr3LsaFezF"
      }
    },
    {
      "cell_type": "markdown",
      "source": [
        "Para el segundo chatbot utilice un transformer (por ejemplo BERT)."
      ],
      "metadata": {
        "id": "iv-Oe3aiGA9H"
      }
    },
    {
      "cell_type": "markdown",
      "source": [
        "## 3.1 Utilice el modelo transformer para clasificar el texto de entrada, y para extraer la respuesta de la tabla de preguntas y respuestas cuando el mensaje sea del tipo “información”."
      ],
      "metadata": {
        "id": "imXEWWfaHdCI"
      }
    },
    {
      "cell_type": "markdown",
      "source": [
        "## 3.2 Reporte el tipo de red, y las métricas de entrenamiento usadas"
      ],
      "metadata": {
        "id": "mRSEUuUJHlOe"
      }
    },
    {
      "cell_type": "markdown",
      "source": [
        "## 3.3 Reporte el resultado con los textos de prueba."
      ],
      "metadata": {
        "id": "Gr5t043nHs4o"
      }
    },
    {
      "cell_type": "markdown",
      "source": [
        "# Conclusión"
      ],
      "metadata": {
        "id": "2JwboiqsFaoS"
      }
    }
  ]
}