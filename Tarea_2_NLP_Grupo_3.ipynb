{
  "nbformat": 4,
  "nbformat_minor": 0,
  "metadata": {
    "colab": {
      "name": "Tarea 2  NLP -  Grupo 3",
      "provenance": [],
      "collapsed_sections": [
        "QkpU-dumwfg9",
        "IGXf3pPMwi5V"
      ]
    },
    "kernelspec": {
      "name": "python3",
      "display_name": "Python 3"
    },
    "language_info": {
      "name": "python"
    },
    "accelerator": "GPU"
  },
  "cells": [
    {
      "cell_type": "markdown",
      "metadata": {
        "id": "93-Rg2V5Q__d"
      },
      "source": [
        "# Tarea 2: Procesamiento de Lenguaje Natural\n",
        "\n"
      ]
    },
    {
      "cell_type": "markdown",
      "source": [
        "Integrantes:\n",
        "\n",
        "* Sebastián Alday (Rut: 18294095-K)\n",
        "* Paula Canales G. (Rut: 18845155-1)\n",
        "* Álvaro Neira R. (Rut: 13757209-5)\n",
        "* Matias Rodriguez U. (Rut: 18362815-1)"
      ],
      "metadata": {
        "id": "bV8mxLYPE5EC"
      }
    },
    {
      "cell_type": "markdown",
      "source": [
        "# Introducción"
      ],
      "metadata": {
        "id": "VtPPoj2_FLJ8"
      }
    },
    {
      "cell_type": "markdown",
      "source": [
        "# 1. Creacion y limpieza de la base de datos "
      ],
      "metadata": {
        "id": "NnIrZRjoFO3a"
      }
    },
    {
      "cell_type": "markdown",
      "source": [
        "## 1.1 Elija una organización que cuenta con una lista de preguntas y respuestas"
      ],
      "metadata": {
        "id": "5ZYeSc93FyGX"
      }
    },
    {
      "cell_type": "markdown",
      "source": [
        "Chilexpress\n",
        "https://centrodeayuda.chilexpress.cl/home"
      ],
      "metadata": {
        "id": "pk0QdTdzUETd"
      }
    },
    {
      "cell_type": "markdown",
      "source": [
        "## 1.2 Genere una tabla (tablaQA.xls) con las preguntas y respuestas de la organización seleccionada."
      ],
      "metadata": {
        "id": "cih2PxSMF0J9"
      }
    },
    {
      "cell_type": "code",
      "source": [
        "!wget https://www.dropbox.com/s/9zty4fuh8boofda/tablaQA.csv"
      ],
      "metadata": {
        "colab": {
          "base_uri": "https://localhost:8080/"
        },
        "id": "b_fdDPowbPzD",
        "outputId": "c92f5ca5-58d6-49e1-8f99-2350679c31a7"
      },
      "execution_count": null,
      "outputs": [
        {
          "output_type": "stream",
          "name": "stdout",
          "text": [
            "--2021-12-29 12:05:29--  https://www.dropbox.com/s/9zty4fuh8boofda/tablaQA.csv\n",
            "Resolving www.dropbox.com (www.dropbox.com)... 162.125.3.18, 2620:100:601b:18::a27d:812\n",
            "Connecting to www.dropbox.com (www.dropbox.com)|162.125.3.18|:443... connected.\n",
            "HTTP request sent, awaiting response... 301 Moved Permanently\n",
            "Location: /s/raw/9zty4fuh8boofda/tablaQA.csv [following]\n",
            "--2021-12-29 12:05:29--  https://www.dropbox.com/s/raw/9zty4fuh8boofda/tablaQA.csv\n",
            "Reusing existing connection to www.dropbox.com:443.\n",
            "HTTP request sent, awaiting response... 302 Found\n",
            "Location: https://uc4b6d713e46d7758d36e4ce97f9.dl.dropboxusercontent.com/cd/0/inline/Bcyo95Ct2BjUVDpvW6xUzwBBFR_AomExjNHahITzOGHMgCPc9y_yV4wQu54y9273WCmo3ohtyqBRjuryeEFx086NoAkn0tyEKDuyVCEujGWd-q4rnSH3tEdpm1DjecXq8p11JRId0G6YLZrdM9DF2LuJ/file# [following]\n",
            "--2021-12-29 12:05:30--  https://uc4b6d713e46d7758d36e4ce97f9.dl.dropboxusercontent.com/cd/0/inline/Bcyo95Ct2BjUVDpvW6xUzwBBFR_AomExjNHahITzOGHMgCPc9y_yV4wQu54y9273WCmo3ohtyqBRjuryeEFx086NoAkn0tyEKDuyVCEujGWd-q4rnSH3tEdpm1DjecXq8p11JRId0G6YLZrdM9DF2LuJ/file\n",
            "Resolving uc4b6d713e46d7758d36e4ce97f9.dl.dropboxusercontent.com (uc4b6d713e46d7758d36e4ce97f9.dl.dropboxusercontent.com)... 162.125.3.15, 2620:100:601b:15::a27d:80f\n",
            "Connecting to uc4b6d713e46d7758d36e4ce97f9.dl.dropboxusercontent.com (uc4b6d713e46d7758d36e4ce97f9.dl.dropboxusercontent.com)|162.125.3.15|:443... connected.\n",
            "HTTP request sent, awaiting response... 200 OK\n",
            "Length: 14811 (14K) [text/plain]\n",
            "Saving to: ‘tablaQA.csv’\n",
            "\n",
            "tablaQA.csv         100%[===================>]  14.46K  --.-KB/s    in 0s      \n",
            "\n",
            "2021-12-29 12:05:30 (275 MB/s) - ‘tablaQA.csv’ saved [14811/14811]\n",
            "\n"
          ]
        }
      ]
    },
    {
      "cell_type": "code",
      "source": [
        "import pandas as pd\n",
        "qa = pd.read_csv('/content/tablaQA.csv', sep=';')\n",
        "qa.head()"
      ],
      "metadata": {
        "colab": {
          "base_uri": "https://localhost:8080/",
          "height": 206
        },
        "id": "Bw2lQ44cbjYa",
        "outputId": "0095f884-96a8-4e0d-f2f8-9d66c9a55e43"
      },
      "execution_count": null,
      "outputs": [
        {
          "output_type": "execute_result",
          "data": {
            "text/html": [
              "\n",
              "  <div id=\"df-4c6b6c3a-b248-48ea-a9cb-17bcc99ffd60\">\n",
              "    <div class=\"colab-df-container\">\n",
              "      <div>\n",
              "<style scoped>\n",
              "    .dataframe tbody tr th:only-of-type {\n",
              "        vertical-align: middle;\n",
              "    }\n",
              "\n",
              "    .dataframe tbody tr th {\n",
              "        vertical-align: top;\n",
              "    }\n",
              "\n",
              "    .dataframe thead th {\n",
              "        text-align: right;\n",
              "    }\n",
              "</style>\n",
              "<table border=\"1\" class=\"dataframe\">\n",
              "  <thead>\n",
              "    <tr style=\"text-align: right;\">\n",
              "      <th></th>\n",
              "      <th>Pregunta</th>\n",
              "      <th>Respuesta</th>\n",
              "    </tr>\n",
              "  </thead>\n",
              "  <tbody>\n",
              "    <tr>\n",
              "      <th>0</th>\n",
              "      <td>¿Qué es la Orden de Transporte (OT)?</td>\n",
              "      <td>La Orden de Transporte (OT) es el número asoci...</td>\n",
              "    </tr>\n",
              "    <tr>\n",
              "      <th>1</th>\n",
              "      <td>¿Cuál es el plazo para retirar un envío desde ...</td>\n",
              "      <td>El plazo para retirar un envío desde una sucur...</td>\n",
              "    </tr>\n",
              "    <tr>\n",
              "      <th>2</th>\n",
              "      <td>¿Puede otra persona retirar mi envío de una su...</td>\n",
              "      <td>Para que una persona que no es el destinatario...</td>\n",
              "    </tr>\n",
              "    <tr>\n",
              "      <th>3</th>\n",
              "      <td>¿Se puede modificar la dirección de envío?</td>\n",
              "      <td>Sí, el cambio puede ser solicitado por el remi...</td>\n",
              "    </tr>\n",
              "    <tr>\n",
              "      <th>4</th>\n",
              "      <td>¿Puedo cambiar el destino del envío desde una ...</td>\n",
              "      <td>Sí, el cambio puede ser solicitado por el remi...</td>\n",
              "    </tr>\n",
              "  </tbody>\n",
              "</table>\n",
              "</div>\n",
              "      <button class=\"colab-df-convert\" onclick=\"convertToInteractive('df-4c6b6c3a-b248-48ea-a9cb-17bcc99ffd60')\"\n",
              "              title=\"Convert this dataframe to an interactive table.\"\n",
              "              style=\"display:none;\">\n",
              "        \n",
              "  <svg xmlns=\"http://www.w3.org/2000/svg\" height=\"24px\"viewBox=\"0 0 24 24\"\n",
              "       width=\"24px\">\n",
              "    <path d=\"M0 0h24v24H0V0z\" fill=\"none\"/>\n",
              "    <path d=\"M18.56 5.44l.94 2.06.94-2.06 2.06-.94-2.06-.94-.94-2.06-.94 2.06-2.06.94zm-11 1L8.5 8.5l.94-2.06 2.06-.94-2.06-.94L8.5 2.5l-.94 2.06-2.06.94zm10 10l.94 2.06.94-2.06 2.06-.94-2.06-.94-.94-2.06-.94 2.06-2.06.94z\"/><path d=\"M17.41 7.96l-1.37-1.37c-.4-.4-.92-.59-1.43-.59-.52 0-1.04.2-1.43.59L10.3 9.45l-7.72 7.72c-.78.78-.78 2.05 0 2.83L4 21.41c.39.39.9.59 1.41.59.51 0 1.02-.2 1.41-.59l7.78-7.78 2.81-2.81c.8-.78.8-2.07 0-2.86zM5.41 20L4 18.59l7.72-7.72 1.47 1.35L5.41 20z\"/>\n",
              "  </svg>\n",
              "      </button>\n",
              "      \n",
              "  <style>\n",
              "    .colab-df-container {\n",
              "      display:flex;\n",
              "      flex-wrap:wrap;\n",
              "      gap: 12px;\n",
              "    }\n",
              "\n",
              "    .colab-df-convert {\n",
              "      background-color: #E8F0FE;\n",
              "      border: none;\n",
              "      border-radius: 50%;\n",
              "      cursor: pointer;\n",
              "      display: none;\n",
              "      fill: #1967D2;\n",
              "      height: 32px;\n",
              "      padding: 0 0 0 0;\n",
              "      width: 32px;\n",
              "    }\n",
              "\n",
              "    .colab-df-convert:hover {\n",
              "      background-color: #E2EBFA;\n",
              "      box-shadow: 0px 1px 2px rgba(60, 64, 67, 0.3), 0px 1px 3px 1px rgba(60, 64, 67, 0.15);\n",
              "      fill: #174EA6;\n",
              "    }\n",
              "\n",
              "    [theme=dark] .colab-df-convert {\n",
              "      background-color: #3B4455;\n",
              "      fill: #D2E3FC;\n",
              "    }\n",
              "\n",
              "    [theme=dark] .colab-df-convert:hover {\n",
              "      background-color: #434B5C;\n",
              "      box-shadow: 0px 1px 3px 1px rgba(0, 0, 0, 0.15);\n",
              "      filter: drop-shadow(0px 1px 2px rgba(0, 0, 0, 0.3));\n",
              "      fill: #FFFFFF;\n",
              "    }\n",
              "  </style>\n",
              "\n",
              "      <script>\n",
              "        const buttonEl =\n",
              "          document.querySelector('#df-4c6b6c3a-b248-48ea-a9cb-17bcc99ffd60 button.colab-df-convert');\n",
              "        buttonEl.style.display =\n",
              "          google.colab.kernel.accessAllowed ? 'block' : 'none';\n",
              "\n",
              "        async function convertToInteractive(key) {\n",
              "          const element = document.querySelector('#df-4c6b6c3a-b248-48ea-a9cb-17bcc99ffd60');\n",
              "          const dataTable =\n",
              "            await google.colab.kernel.invokeFunction('convertToInteractive',\n",
              "                                                     [key], {});\n",
              "          if (!dataTable) return;\n",
              "\n",
              "          const docLinkHtml = 'Like what you see? Visit the ' +\n",
              "            '<a target=\"_blank\" href=https://colab.research.google.com/notebooks/data_table.ipynb>data table notebook</a>'\n",
              "            + ' to learn more about interactive tables.';\n",
              "          element.innerHTML = '';\n",
              "          dataTable['output_type'] = 'display_data';\n",
              "          await google.colab.output.renderOutput(dataTable, element);\n",
              "          const docLink = document.createElement('div');\n",
              "          docLink.innerHTML = docLinkHtml;\n",
              "          element.appendChild(docLink);\n",
              "        }\n",
              "      </script>\n",
              "    </div>\n",
              "  </div>\n",
              "  "
            ],
            "text/plain": [
              "                                            Pregunta                                          Respuesta\n",
              "0               ¿Qué es la Orden de Transporte (OT)?  La Orden de Transporte (OT) es el número asoci...\n",
              "1  ¿Cuál es el plazo para retirar un envío desde ...  El plazo para retirar un envío desde una sucur...\n",
              "2  ¿Puede otra persona retirar mi envío de una su...  Para que una persona que no es el destinatario...\n",
              "3         ¿Se puede modificar la dirección de envío?  Sí, el cambio puede ser solicitado por el remi...\n",
              "4  ¿Puedo cambiar el destino del envío desde una ...  Sí, el cambio puede ser solicitado por el remi..."
            ]
          },
          "metadata": {},
          "execution_count": 2
        }
      ]
    },
    {
      "cell_type": "code",
      "source": [
        "qa.info()"
      ],
      "metadata": {
        "colab": {
          "base_uri": "https://localhost:8080/"
        },
        "id": "BdgNtDGyb608",
        "outputId": "955230ed-a53c-442e-8e99-424e5bb94aa5"
      },
      "execution_count": null,
      "outputs": [
        {
          "output_type": "stream",
          "name": "stdout",
          "text": [
            "<class 'pandas.core.frame.DataFrame'>\n",
            "RangeIndex: 46 entries, 0 to 45\n",
            "Data columns (total 2 columns):\n",
            " #   Column     Non-Null Count  Dtype \n",
            "---  ------     --------------  ----- \n",
            " 0   Pregunta   46 non-null     object\n",
            " 1   Respuesta  46 non-null     object\n",
            "dtypes: object(2)\n",
            "memory usage: 864.0+ bytes\n"
          ]
        }
      ]
    },
    {
      "cell_type": "markdown",
      "source": [
        "## 1.3 Genere una tabla (tiposmensajes.xls) con ejemplos de las siguientes clases de mensaje: \"saludo\", \"despedida\", \"nombre\", \"informacion\""
      ],
      "metadata": {
        "id": "Dxd1ZhwnGBzn"
      }
    },
    {
      "cell_type": "code",
      "source": [
        "!wget https://www.dropbox.com/s/wqmpjpdin6jmp3a/tiposmensajes.csv"
      ],
      "metadata": {
        "colab": {
          "base_uri": "https://localhost:8080/"
        },
        "id": "igsR0QmXN3d8",
        "outputId": "b8fb0869-ee4c-48a2-b027-bb0efe1906c3"
      },
      "execution_count": null,
      "outputs": [
        {
          "output_type": "stream",
          "name": "stdout",
          "text": [
            "--2021-12-29 12:05:30--  https://www.dropbox.com/s/wqmpjpdin6jmp3a/tiposmensajes.csv\n",
            "Resolving www.dropbox.com (www.dropbox.com)... 162.125.3.18, 2620:100:601b:18::a27d:812\n",
            "Connecting to www.dropbox.com (www.dropbox.com)|162.125.3.18|:443... connected.\n",
            "HTTP request sent, awaiting response... 301 Moved Permanently\n",
            "Location: /s/raw/wqmpjpdin6jmp3a/tiposmensajes.csv [following]\n",
            "--2021-12-29 12:05:30--  https://www.dropbox.com/s/raw/wqmpjpdin6jmp3a/tiposmensajes.csv\n",
            "Reusing existing connection to www.dropbox.com:443.\n",
            "HTTP request sent, awaiting response... 302 Found\n",
            "Location: https://uc3d0bb6f68d8453dc2f50bb7767.dl.dropboxusercontent.com/cd/0/inline/Bcx-78bkmZ552i4yaZFBDFIU7rSOUd1woCaU8farFLews4gqr03mixpLK-IXli-_AnCKy7PZHT6Y7UZCBqM2lF77gYlq4rRq-sDtLbcp3SHsFcDJ6IEYBw1w4HKMKwPEsSP2CZEPBlqccyj1dwJIPm5e/file# [following]\n",
            "--2021-12-29 12:05:31--  https://uc3d0bb6f68d8453dc2f50bb7767.dl.dropboxusercontent.com/cd/0/inline/Bcx-78bkmZ552i4yaZFBDFIU7rSOUd1woCaU8farFLews4gqr03mixpLK-IXli-_AnCKy7PZHT6Y7UZCBqM2lF77gYlq4rRq-sDtLbcp3SHsFcDJ6IEYBw1w4HKMKwPEsSP2CZEPBlqccyj1dwJIPm5e/file\n",
            "Resolving uc3d0bb6f68d8453dc2f50bb7767.dl.dropboxusercontent.com (uc3d0bb6f68d8453dc2f50bb7767.dl.dropboxusercontent.com)... 162.125.3.15, 2620:100:601b:15::a27d:80f\n",
            "Connecting to uc3d0bb6f68d8453dc2f50bb7767.dl.dropboxusercontent.com (uc3d0bb6f68d8453dc2f50bb7767.dl.dropboxusercontent.com)|162.125.3.15|:443... connected.\n",
            "HTTP request sent, awaiting response... 200 OK\n",
            "Length: 4212 (4.1K) [text/plain]\n",
            "Saving to: ‘tiposmensajes.csv’\n",
            "\n",
            "tiposmensajes.csv   100%[===================>]   4.11K  --.-KB/s    in 0s      \n",
            "\n",
            "2021-12-29 12:05:31 (388 MB/s) - ‘tiposmensajes.csv’ saved [4212/4212]\n",
            "\n"
          ]
        }
      ]
    },
    {
      "cell_type": "code",
      "source": [
        "messages = pd.read_csv('/content/tiposmensajes.csv', sep=',')\n",
        "messages.head()"
      ],
      "metadata": {
        "colab": {
          "base_uri": "https://localhost:8080/",
          "height": 206
        },
        "id": "SfaFFiPLOD85",
        "outputId": "81d91e09-9390-43d0-c68a-99df0715cf27"
      },
      "execution_count": null,
      "outputs": [
        {
          "output_type": "execute_result",
          "data": {
            "text/html": [
              "\n",
              "  <div id=\"df-9421bbc4-1125-47cf-8487-f970a611226c\">\n",
              "    <div class=\"colab-df-container\">\n",
              "      <div>\n",
              "<style scoped>\n",
              "    .dataframe tbody tr th:only-of-type {\n",
              "        vertical-align: middle;\n",
              "    }\n",
              "\n",
              "    .dataframe tbody tr th {\n",
              "        vertical-align: top;\n",
              "    }\n",
              "\n",
              "    .dataframe thead th {\n",
              "        text-align: right;\n",
              "    }\n",
              "</style>\n",
              "<table border=\"1\" class=\"dataframe\">\n",
              "  <thead>\n",
              "    <tr style=\"text-align: right;\">\n",
              "      <th></th>\n",
              "      <th>Clase</th>\n",
              "      <th>Mensaje</th>\n",
              "    </tr>\n",
              "  </thead>\n",
              "  <tbody>\n",
              "    <tr>\n",
              "      <th>0</th>\n",
              "      <td>saludo</td>\n",
              "      <td>Hola</td>\n",
              "    </tr>\n",
              "    <tr>\n",
              "      <th>1</th>\n",
              "      <td>saludo</td>\n",
              "      <td>Hi</td>\n",
              "    </tr>\n",
              "    <tr>\n",
              "      <th>2</th>\n",
              "      <td>saludo</td>\n",
              "      <td>Buenos días</td>\n",
              "    </tr>\n",
              "    <tr>\n",
              "      <th>3</th>\n",
              "      <td>saludo</td>\n",
              "      <td>Buenas tardes</td>\n",
              "    </tr>\n",
              "    <tr>\n",
              "      <th>4</th>\n",
              "      <td>saludo</td>\n",
              "      <td>Como estas</td>\n",
              "    </tr>\n",
              "  </tbody>\n",
              "</table>\n",
              "</div>\n",
              "      <button class=\"colab-df-convert\" onclick=\"convertToInteractive('df-9421bbc4-1125-47cf-8487-f970a611226c')\"\n",
              "              title=\"Convert this dataframe to an interactive table.\"\n",
              "              style=\"display:none;\">\n",
              "        \n",
              "  <svg xmlns=\"http://www.w3.org/2000/svg\" height=\"24px\"viewBox=\"0 0 24 24\"\n",
              "       width=\"24px\">\n",
              "    <path d=\"M0 0h24v24H0V0z\" fill=\"none\"/>\n",
              "    <path d=\"M18.56 5.44l.94 2.06.94-2.06 2.06-.94-2.06-.94-.94-2.06-.94 2.06-2.06.94zm-11 1L8.5 8.5l.94-2.06 2.06-.94-2.06-.94L8.5 2.5l-.94 2.06-2.06.94zm10 10l.94 2.06.94-2.06 2.06-.94-2.06-.94-.94-2.06-.94 2.06-2.06.94z\"/><path d=\"M17.41 7.96l-1.37-1.37c-.4-.4-.92-.59-1.43-.59-.52 0-1.04.2-1.43.59L10.3 9.45l-7.72 7.72c-.78.78-.78 2.05 0 2.83L4 21.41c.39.39.9.59 1.41.59.51 0 1.02-.2 1.41-.59l7.78-7.78 2.81-2.81c.8-.78.8-2.07 0-2.86zM5.41 20L4 18.59l7.72-7.72 1.47 1.35L5.41 20z\"/>\n",
              "  </svg>\n",
              "      </button>\n",
              "      \n",
              "  <style>\n",
              "    .colab-df-container {\n",
              "      display:flex;\n",
              "      flex-wrap:wrap;\n",
              "      gap: 12px;\n",
              "    }\n",
              "\n",
              "    .colab-df-convert {\n",
              "      background-color: #E8F0FE;\n",
              "      border: none;\n",
              "      border-radius: 50%;\n",
              "      cursor: pointer;\n",
              "      display: none;\n",
              "      fill: #1967D2;\n",
              "      height: 32px;\n",
              "      padding: 0 0 0 0;\n",
              "      width: 32px;\n",
              "    }\n",
              "\n",
              "    .colab-df-convert:hover {\n",
              "      background-color: #E2EBFA;\n",
              "      box-shadow: 0px 1px 2px rgba(60, 64, 67, 0.3), 0px 1px 3px 1px rgba(60, 64, 67, 0.15);\n",
              "      fill: #174EA6;\n",
              "    }\n",
              "\n",
              "    [theme=dark] .colab-df-convert {\n",
              "      background-color: #3B4455;\n",
              "      fill: #D2E3FC;\n",
              "    }\n",
              "\n",
              "    [theme=dark] .colab-df-convert:hover {\n",
              "      background-color: #434B5C;\n",
              "      box-shadow: 0px 1px 3px 1px rgba(0, 0, 0, 0.15);\n",
              "      filter: drop-shadow(0px 1px 2px rgba(0, 0, 0, 0.3));\n",
              "      fill: #FFFFFF;\n",
              "    }\n",
              "  </style>\n",
              "\n",
              "      <script>\n",
              "        const buttonEl =\n",
              "          document.querySelector('#df-9421bbc4-1125-47cf-8487-f970a611226c button.colab-df-convert');\n",
              "        buttonEl.style.display =\n",
              "          google.colab.kernel.accessAllowed ? 'block' : 'none';\n",
              "\n",
              "        async function convertToInteractive(key) {\n",
              "          const element = document.querySelector('#df-9421bbc4-1125-47cf-8487-f970a611226c');\n",
              "          const dataTable =\n",
              "            await google.colab.kernel.invokeFunction('convertToInteractive',\n",
              "                                                     [key], {});\n",
              "          if (!dataTable) return;\n",
              "\n",
              "          const docLinkHtml = 'Like what you see? Visit the ' +\n",
              "            '<a target=\"_blank\" href=https://colab.research.google.com/notebooks/data_table.ipynb>data table notebook</a>'\n",
              "            + ' to learn more about interactive tables.';\n",
              "          element.innerHTML = '';\n",
              "          dataTable['output_type'] = 'display_data';\n",
              "          await google.colab.output.renderOutput(dataTable, element);\n",
              "          const docLink = document.createElement('div');\n",
              "          docLink.innerHTML = docLinkHtml;\n",
              "          element.appendChild(docLink);\n",
              "        }\n",
              "      </script>\n",
              "    </div>\n",
              "  </div>\n",
              "  "
            ],
            "text/plain": [
              "    Clase        Mensaje\n",
              "0  saludo           Hola\n",
              "1  saludo             Hi\n",
              "2  saludo    Buenos días\n",
              "3  saludo  Buenas tardes\n",
              "4  saludo     Como estas"
            ]
          },
          "metadata": {},
          "execution_count": 5
        }
      ]
    },
    {
      "cell_type": "markdown",
      "source": [
        "## 1.4 Genere respuestas predeterminadas (respuestasDefecto.xls) para los mensajes de tipo \"saludo\", \"despedida\", \"nombre\""
      ],
      "metadata": {
        "id": "ozGp6P_TGU0r"
      }
    },
    {
      "cell_type": "code",
      "source": [
        "!wget https://www.dropbox.com/s/kukxrqpjxi0l4ei/respuestasDefecto.csv"
      ],
      "metadata": {
        "colab": {
          "base_uri": "https://localhost:8080/"
        },
        "id": "bXuKEL2SP8PT",
        "outputId": "413a517f-8c89-44a3-b434-a0779bfdc3fc"
      },
      "execution_count": null,
      "outputs": [
        {
          "output_type": "stream",
          "name": "stdout",
          "text": [
            "--2021-12-29 12:05:31--  https://www.dropbox.com/s/kukxrqpjxi0l4ei/respuestasDefecto.csv\n",
            "Resolving www.dropbox.com (www.dropbox.com)... 162.125.3.18, 2620:100:601b:18::a27d:812\n",
            "Connecting to www.dropbox.com (www.dropbox.com)|162.125.3.18|:443... connected.\n",
            "HTTP request sent, awaiting response... 301 Moved Permanently\n",
            "Location: /s/raw/kukxrqpjxi0l4ei/respuestasDefecto.csv [following]\n",
            "--2021-12-29 12:05:31--  https://www.dropbox.com/s/raw/kukxrqpjxi0l4ei/respuestasDefecto.csv\n",
            "Reusing existing connection to www.dropbox.com:443.\n",
            "HTTP request sent, awaiting response... 302 Found\n",
            "Location: https://uc6928b2ed6bc665061c4112b9bd.dl.dropboxusercontent.com/cd/0/inline/BcwFMVVj94ZhAYFKmpuUrLZr3l14h72EGabgpNuu5ADif8_IEzbAU6XPLU-T-AVIkvN6qHr8N-UW84sRnwVbbdv-qUNVzTq01Dxd-WNHPTPrK2RcL-qoXYA5kuP-UvIVWq0UhUM8qz44nBtDjkRTXKdh/file# [following]\n",
            "--2021-12-29 12:05:31--  https://uc6928b2ed6bc665061c4112b9bd.dl.dropboxusercontent.com/cd/0/inline/BcwFMVVj94ZhAYFKmpuUrLZr3l14h72EGabgpNuu5ADif8_IEzbAU6XPLU-T-AVIkvN6qHr8N-UW84sRnwVbbdv-qUNVzTq01Dxd-WNHPTPrK2RcL-qoXYA5kuP-UvIVWq0UhUM8qz44nBtDjkRTXKdh/file\n",
            "Resolving uc6928b2ed6bc665061c4112b9bd.dl.dropboxusercontent.com (uc6928b2ed6bc665061c4112b9bd.dl.dropboxusercontent.com)... 162.125.3.15, 2620:100:601b:15::a27d:80f\n",
            "Connecting to uc6928b2ed6bc665061c4112b9bd.dl.dropboxusercontent.com (uc6928b2ed6bc665061c4112b9bd.dl.dropboxusercontent.com)|162.125.3.15|:443... connected.\n",
            "HTTP request sent, awaiting response... 200 OK\n",
            "Length: 646 [text/plain]\n",
            "Saving to: ‘respuestasDefecto.csv’\n",
            "\n",
            "respuestasDefecto.c 100%[===================>]     646  --.-KB/s    in 0s      \n",
            "\n",
            "2021-12-29 12:05:32 (80.4 MB/s) - ‘respuestasDefecto.csv’ saved [646/646]\n",
            "\n"
          ]
        }
      ]
    },
    {
      "cell_type": "code",
      "source": [
        "answers = pd.read_csv('/content/respuestasDefecto.csv', sep=',')\n",
        "answers.head()"
      ],
      "metadata": {
        "colab": {
          "base_uri": "https://localhost:8080/",
          "height": 206
        },
        "id": "FsGsYLnTQ9Ya",
        "outputId": "c9a8c609-6835-4b7b-c6b8-0a9916e9c171"
      },
      "execution_count": null,
      "outputs": [
        {
          "output_type": "execute_result",
          "data": {
            "text/html": [
              "\n",
              "  <div id=\"df-44eee11f-bf5b-4ddc-9ab9-606ec7c11d2b\">\n",
              "    <div class=\"colab-df-container\">\n",
              "      <div>\n",
              "<style scoped>\n",
              "    .dataframe tbody tr th:only-of-type {\n",
              "        vertical-align: middle;\n",
              "    }\n",
              "\n",
              "    .dataframe tbody tr th {\n",
              "        vertical-align: top;\n",
              "    }\n",
              "\n",
              "    .dataframe thead th {\n",
              "        text-align: right;\n",
              "    }\n",
              "</style>\n",
              "<table border=\"1\" class=\"dataframe\">\n",
              "  <thead>\n",
              "    <tr style=\"text-align: right;\">\n",
              "      <th></th>\n",
              "      <th>Clase</th>\n",
              "      <th>Mensaje</th>\n",
              "    </tr>\n",
              "  </thead>\n",
              "  <tbody>\n",
              "    <tr>\n",
              "      <th>0</th>\n",
              "      <td>saludo</td>\n",
              "      <td>Hola, en qué puedo ayudarte?</td>\n",
              "    </tr>\n",
              "    <tr>\n",
              "      <th>1</th>\n",
              "      <td>saludo</td>\n",
              "      <td>Hola, cuentame qué necetias</td>\n",
              "    </tr>\n",
              "    <tr>\n",
              "      <th>2</th>\n",
              "      <td>saludo</td>\n",
              "      <td>Buenos días, en qué puedo ayudarte?</td>\n",
              "    </tr>\n",
              "    <tr>\n",
              "      <th>3</th>\n",
              "      <td>saludo</td>\n",
              "      <td>Buenas tardes, en qué puedo ayudarte?</td>\n",
              "    </tr>\n",
              "    <tr>\n",
              "      <th>4</th>\n",
              "      <td>saludo</td>\n",
              "      <td>Un gusto saludar, en qué puedo ayudarte?</td>\n",
              "    </tr>\n",
              "  </tbody>\n",
              "</table>\n",
              "</div>\n",
              "      <button class=\"colab-df-convert\" onclick=\"convertToInteractive('df-44eee11f-bf5b-4ddc-9ab9-606ec7c11d2b')\"\n",
              "              title=\"Convert this dataframe to an interactive table.\"\n",
              "              style=\"display:none;\">\n",
              "        \n",
              "  <svg xmlns=\"http://www.w3.org/2000/svg\" height=\"24px\"viewBox=\"0 0 24 24\"\n",
              "       width=\"24px\">\n",
              "    <path d=\"M0 0h24v24H0V0z\" fill=\"none\"/>\n",
              "    <path d=\"M18.56 5.44l.94 2.06.94-2.06 2.06-.94-2.06-.94-.94-2.06-.94 2.06-2.06.94zm-11 1L8.5 8.5l.94-2.06 2.06-.94-2.06-.94L8.5 2.5l-.94 2.06-2.06.94zm10 10l.94 2.06.94-2.06 2.06-.94-2.06-.94-.94-2.06-.94 2.06-2.06.94z\"/><path d=\"M17.41 7.96l-1.37-1.37c-.4-.4-.92-.59-1.43-.59-.52 0-1.04.2-1.43.59L10.3 9.45l-7.72 7.72c-.78.78-.78 2.05 0 2.83L4 21.41c.39.39.9.59 1.41.59.51 0 1.02-.2 1.41-.59l7.78-7.78 2.81-2.81c.8-.78.8-2.07 0-2.86zM5.41 20L4 18.59l7.72-7.72 1.47 1.35L5.41 20z\"/>\n",
              "  </svg>\n",
              "      </button>\n",
              "      \n",
              "  <style>\n",
              "    .colab-df-container {\n",
              "      display:flex;\n",
              "      flex-wrap:wrap;\n",
              "      gap: 12px;\n",
              "    }\n",
              "\n",
              "    .colab-df-convert {\n",
              "      background-color: #E8F0FE;\n",
              "      border: none;\n",
              "      border-radius: 50%;\n",
              "      cursor: pointer;\n",
              "      display: none;\n",
              "      fill: #1967D2;\n",
              "      height: 32px;\n",
              "      padding: 0 0 0 0;\n",
              "      width: 32px;\n",
              "    }\n",
              "\n",
              "    .colab-df-convert:hover {\n",
              "      background-color: #E2EBFA;\n",
              "      box-shadow: 0px 1px 2px rgba(60, 64, 67, 0.3), 0px 1px 3px 1px rgba(60, 64, 67, 0.15);\n",
              "      fill: #174EA6;\n",
              "    }\n",
              "\n",
              "    [theme=dark] .colab-df-convert {\n",
              "      background-color: #3B4455;\n",
              "      fill: #D2E3FC;\n",
              "    }\n",
              "\n",
              "    [theme=dark] .colab-df-convert:hover {\n",
              "      background-color: #434B5C;\n",
              "      box-shadow: 0px 1px 3px 1px rgba(0, 0, 0, 0.15);\n",
              "      filter: drop-shadow(0px 1px 2px rgba(0, 0, 0, 0.3));\n",
              "      fill: #FFFFFF;\n",
              "    }\n",
              "  </style>\n",
              "\n",
              "      <script>\n",
              "        const buttonEl =\n",
              "          document.querySelector('#df-44eee11f-bf5b-4ddc-9ab9-606ec7c11d2b button.colab-df-convert');\n",
              "        buttonEl.style.display =\n",
              "          google.colab.kernel.accessAllowed ? 'block' : 'none';\n",
              "\n",
              "        async function convertToInteractive(key) {\n",
              "          const element = document.querySelector('#df-44eee11f-bf5b-4ddc-9ab9-606ec7c11d2b');\n",
              "          const dataTable =\n",
              "            await google.colab.kernel.invokeFunction('convertToInteractive',\n",
              "                                                     [key], {});\n",
              "          if (!dataTable) return;\n",
              "\n",
              "          const docLinkHtml = 'Like what you see? Visit the ' +\n",
              "            '<a target=\"_blank\" href=https://colab.research.google.com/notebooks/data_table.ipynb>data table notebook</a>'\n",
              "            + ' to learn more about interactive tables.';\n",
              "          element.innerHTML = '';\n",
              "          dataTable['output_type'] = 'display_data';\n",
              "          await google.colab.output.renderOutput(dataTable, element);\n",
              "          const docLink = document.createElement('div');\n",
              "          docLink.innerHTML = docLinkHtml;\n",
              "          element.appendChild(docLink);\n",
              "        }\n",
              "      </script>\n",
              "    </div>\n",
              "  </div>\n",
              "  "
            ],
            "text/plain": [
              "    Clase                                   Mensaje\n",
              "0  saludo              Hola, en qué puedo ayudarte?\n",
              "1  saludo               Hola, cuentame qué necetias\n",
              "2  saludo       Buenos días, en qué puedo ayudarte?\n",
              "3  saludo     Buenas tardes, en qué puedo ayudarte?\n",
              "4  saludo  Un gusto saludar, en qué puedo ayudarte?"
            ]
          },
          "metadata": {},
          "execution_count": 7
        }
      ]
    },
    {
      "cell_type": "markdown",
      "source": [
        "## 1.5 Describa en términos generales las tablas que construyó."
      ],
      "metadata": {
        "id": "kjLZLGDTGvZ6"
      }
    },
    {
      "cell_type": "markdown",
      "source": [
        "\n",
        "\n",
        "*   Tabla QA: Se construyó en base a las preguntas y respuestas del centro de ayuda de Chilexpress https://centrodeayuda.chilexpress.cl/home . Se extrajo cada pregunta y respuesta de cada categoría (Envíos Nacionales, Envíos y retiros en App, Envíos internacionales, Giros en Chile y el mundo, Atención en sucursal, Cuenta empresa) y se eliminaron las preguntas repetidas. \n",
        "*   Tipos de mensajes: se construyó con mensajes tipo de saludo, despedida y nombre. Para la información se utilizó las preguntas obtenidas en la Tabla QA.\n",
        "*   Respuestas por defecto: se construyó con respuestas tipo de saludo, despedida y nombre de nuestro bot Eva\n",
        "\n"
      ],
      "metadata": {
        "id": "DFkQxa-iRYcr"
      }
    },
    {
      "cell_type": "markdown",
      "source": [
        "# 2. Análisis de distancia"
      ],
      "metadata": {
        "id": "kQCgD-fNFWZ3"
      }
    },
    {
      "cell_type": "markdown",
      "source": [
        "Para el primer chatbot utilizará una métrica de su elección para responder\n",
        "a cada pregunta/texto del usuario."
      ],
      "metadata": {
        "id": "I9aCVeAjG6-j"
      }
    },
    {
      "cell_type": "markdown",
      "source": [
        "## 2.1 Utilice algún embeddings utilizado en el curso para codificar el texto de entrada"
      ],
      "metadata": {
        "id": "lJat6tmEG-_g"
      }
    },
    {
      "cell_type": "markdown",
      "source": [
        "### 2.1.1 Word2Vec"
      ],
      "metadata": {
        "id": "QkpU-dumwfg9"
      }
    },
    {
      "cell_type": "code",
      "source": [
        "import nltk\n",
        "import gensim\n",
        "import re\n",
        "import pandas as pd\n",
        "import sklearn\n",
        "import numpy as np\n",
        "\n",
        "import sklearn.linear_model\n",
        "import sklearn.model_selection\n",
        "from sklearn.svm import LinearSVC\n",
        "from sklearn.pipeline import make_pipeline\n",
        "from sklearn.preprocessing import StandardScaler"
      ],
      "metadata": {
        "id": "bwY8pldbS2_u"
      },
      "execution_count": null,
      "outputs": []
    },
    {
      "cell_type": "code",
      "source": [
        "def normalizer(text): #normalizes a given string to lowercase and changes all vowels to their base form\n",
        "    text = text.lower() #string lowering\n",
        "    text = re.sub(r'[^A-Za-zñáéíóú]', ' ', text) #replaces every punctuation with a space\n",
        "    text = re.sub('á', 'a', text) #replaces special vowels to their base forms\n",
        "    text = re.sub('é', 'e', text)\n",
        "    text = re.sub('í', 'i', text)\n",
        "    text = re.sub('ó', 'o', text)\n",
        "    text = re.sub('ú', 'u', text)\n",
        "    return text\n",
        "\n",
        "def preprocessor(text):\n",
        "  text = normalizer(text)\n",
        "  tokens = nltk.tokenize.casual_tokenize(text)\n",
        "  #if len(tokens)==1:\n",
        "  #  tokens=text\n",
        "  return tokens\n",
        "\n",
        "def vectorizer(text, model): #returns a vector representation from a list of words and a given model\n",
        "    vectors = []\n",
        "    for i in text:\n",
        "        try:\n",
        "            vectors.append(model.wv[i])\n",
        "        except:\n",
        "            pass\n",
        "    return(np.nan_to_num(np.mean(vectors,axis=0)))"
      ],
      "metadata": {
        "id": "QJJ5MgBsS8Ca"
      },
      "execution_count": null,
      "outputs": []
    },
    {
      "cell_type": "code",
      "source": [
        "corpus = messages.Mensaje.tolist()\n",
        "corpus_preprocessed = list(map(preprocessor,corpus))\n"
      ],
      "metadata": {
        "id": "NfZYkhRoU0-F"
      },
      "execution_count": null,
      "outputs": []
    },
    {
      "cell_type": "code",
      "source": [
        "model = gensim.models.word2vec.Word2Vec(sentences = corpus_preprocessed, min_count=1)"
      ],
      "metadata": {
        "id": "EaEAIqHFbMF0"
      },
      "execution_count": null,
      "outputs": []
    },
    {
      "cell_type": "markdown",
      "source": [
        "## 2.2 Con el texto de entrada codificado y usando embeddings proponga una manera de identificar la clase del texto de entrada."
      ],
      "metadata": {
        "id": "acCU7jNxHFUN"
      }
    },
    {
      "cell_type": "code",
      "source": [
        "def predict_class(question):\n",
        "  tokens = preprocessor(question)\n",
        "  vector = vectorizer(tokens,model).reshape(1, -1)\n",
        "  return clf.predict(vector)"
      ],
      "metadata": {
        "id": "W89Jfer1xd4D"
      },
      "execution_count": null,
      "outputs": []
    },
    {
      "cell_type": "markdown",
      "source": [
        "### 2.2.1 Word2Vec"
      ],
      "metadata": {
        "id": "oc9gAcTAnL-x"
      }
    },
    {
      "cell_type": "code",
      "source": [
        "features = np.zeros(shape=(len(messages),model.wv.vectors.shape[1]))\n",
        "for i,msg in enumerate(messages.Mensaje):\n",
        "  features[i,:] = vectorizer(preprocessor(msg),model)\n",
        "\n",
        "cv_results = sklearn.model_selection.cross_validate(sklearn.linear_model.LogisticRegression(max_iter=10000),features,messages.Clase)\n",
        "cv_results[\"test_score\"].mean()"
      ],
      "metadata": {
        "colab": {
          "base_uri": "https://localhost:8080/"
        },
        "id": "NIRKBuHyVV8k",
        "outputId": "b4343daa-f7bb-482e-a62e-5516bb9ce57b"
      },
      "execution_count": null,
      "outputs": [
        {
          "output_type": "stream",
          "name": "stderr",
          "text": [
            "/usr/local/lib/python3.7/dist-packages/sklearn/model_selection/_split.py:680: UserWarning: The least populated class in y has only 4 members, which is less than n_splits=5.\n",
            "  UserWarning,\n"
          ]
        },
        {
          "output_type": "execute_result",
          "data": {
            "text/plain": [
              "0.7666666666666667"
            ]
          },
          "metadata": {},
          "execution_count": 13
        }
      ]
    },
    {
      "cell_type": "code",
      "source": [
        "clf = make_pipeline(StandardScaler(),LinearSVC(random_state=0, tol=1e-5))\n",
        "clf.fit(features,np.array(messages.Clase))"
      ],
      "metadata": {
        "colab": {
          "base_uri": "https://localhost:8080/"
        },
        "id": "gPDU514jYCkB",
        "outputId": "4207560d-787e-437c-8670-68b0a4ff05e1"
      },
      "execution_count": null,
      "outputs": [
        {
          "output_type": "execute_result",
          "data": {
            "text/plain": [
              "Pipeline(steps=[('standardscaler', StandardScaler()),\n",
              "                ('linearsvc', LinearSVC(random_state=0, tol=1e-05))])"
            ]
          },
          "metadata": {},
          "execution_count": 14
        }
      ]
    },
    {
      "cell_type": "code",
      "source": [
        "print(predict_class('¿Sólo las empresas pueden tener una cuenta con Chilexpress?'))\n",
        "print(predict_class('Mi nombre es'))\n",
        "print(predict_class('hola buenas'))\n",
        "print(predict_class('hola'))\n",
        "print(predict_class('¿puedo retirar un giro de dinero?'))\n",
        "print(predict_class('Puede otra persona retirar mi pedido'))\n",
        "print(predict_class('hasta luego'))\n",
        "print(predict_class('adios'))"
      ],
      "metadata": {
        "colab": {
          "base_uri": "https://localhost:8080/"
        },
        "id": "FCXJ9dgVYZtF",
        "outputId": "1adbdeb7-08c1-4910-c0cf-cc4cfa2d62be"
      },
      "execution_count": null,
      "outputs": [
        {
          "output_type": "stream",
          "name": "stdout",
          "text": [
            "['información']\n",
            "['nombre']\n",
            "['saludo']\n",
            "['saludo']\n",
            "['información']\n",
            "['información']\n",
            "['despedida']\n",
            "['despedida']\n"
          ]
        }
      ]
    },
    {
      "cell_type": "markdown",
      "source": [
        "## 2.3 Si el texto de entrada es del tipo \"información”, busque ahora la pregunta mas similar y retorne la respuesta asociada."
      ],
      "metadata": {
        "id": "PXxNCsxwHKKi"
      }
    },
    {
      "cell_type": "code",
      "source": [
        "import nltk\n",
        "\n",
        "nltk.download('punkt')\n",
        "nltk.download('stopwords')"
      ],
      "metadata": {
        "colab": {
          "base_uri": "https://localhost:8080/"
        },
        "id": "bdfwR9NXFP_n",
        "outputId": "e5838178-49a0-4d25-c845-2d7b88ebf713"
      },
      "execution_count": null,
      "outputs": [
        {
          "output_type": "stream",
          "name": "stdout",
          "text": [
            "[nltk_data] Downloading package punkt to /root/nltk_data...\n",
            "[nltk_data]   Unzipping tokenizers/punkt.zip.\n",
            "[nltk_data] Downloading package stopwords to /root/nltk_data...\n",
            "[nltk_data]   Unzipping corpora/stopwords.zip.\n"
          ]
        },
        {
          "output_type": "execute_result",
          "data": {
            "text/plain": [
              "True"
            ]
          },
          "metadata": {},
          "execution_count": 16
        }
      ]
    },
    {
      "cell_type": "code",
      "source": [
        "pattern = r\"\"\"(?x)                   # set flag to allow verbose regexps\n",
        "              (?:[A-Z]\\.)+           # abbreviations, e.g. U.S.A.\n",
        "              |\\$?\\d+(?:[.,]\\d+)?%?  # numbers, incl. currency and percentages\n",
        "              |\\w+(?:[-']\\w+)*       # words w/ optional internal hyphens/apostrophe\n",
        "              |(?:[+/\\-@&*¡!.,])     # special characters with meanings\n",
        "            \"\"\"\n",
        "\n",
        "def normalizer(text, remove_tildes = True): #normalizes a given string to lowercase and changes all vowels to their base form\n",
        "    text = text.lower() #string lowering\n",
        "    text = re.sub(r'[^A-Za-zñáéíóú]', ' ', text) #replaces every punctuation with a space\n",
        "    text = nltk.regexp_tokenize(text, pattern)\n",
        "    text = ' '.join(text)\n",
        "    if remove_tildes:\n",
        "        text = re.sub('á', 'a', text) #replaces special vowels to their base forms\n",
        "        text = re.sub('é', 'e', text)\n",
        "        text = re.sub('í', 'i', text)\n",
        "        text = re.sub('ó', 'o', text)\n",
        "        text = re.sub('ú', 'u', text)\n",
        "    return text"
      ],
      "metadata": {
        "id": "w6K8S1c2FTta"
      },
      "execution_count": null,
      "outputs": []
    },
    {
      "cell_type": "code",
      "source": [
        "nltk_stopwords = nltk.corpus.stopwords.words('spanish')\n",
        "stopwords_normalized = [normalizer(word) for word in nltk_stopwords]\n",
        "\n",
        "def no_stopwords(processed):\n",
        "  '''\n",
        "  Función para eliminar las stopwords de un texto\n",
        "  '''\n",
        "  result = []\n",
        "  for w in processed:\n",
        "    if w not in stopwords_normalized:\n",
        "      result.append(w)\n",
        "\n",
        "  return result"
      ],
      "metadata": {
        "id": "wN1jmmTLFV-1"
      },
      "execution_count": null,
      "outputs": []
    },
    {
      "cell_type": "code",
      "source": [
        "corpus_question = qa.Pregunta.tolist()\n",
        "questions_processed = []\n",
        "for question in corpus_question:\n",
        "  pre = preprocessor(question)\n",
        "  pre = no_stopwords(pre)\n",
        "  questions_processed.append(' '.join(pre))"
      ],
      "metadata": {
        "id": "tM67W7T_FYM7"
      },
      "execution_count": null,
      "outputs": []
    },
    {
      "cell_type": "code",
      "source": [
        "questions_processed[:5]"
      ],
      "metadata": {
        "colab": {
          "base_uri": "https://localhost:8080/"
        },
        "id": "OfPhj4aqL6B0",
        "outputId": "43dad9f5-e8b5-463e-f3dc-cc55bfe6775a"
      },
      "execution_count": null,
      "outputs": [
        {
          "output_type": "execute_result",
          "data": {
            "text/plain": [
              "['orden transporte ot',\n",
              " 'plazo retirar envio sucursal chilexpress',\n",
              " 'puede persona retirar envio sucursal chilexpress',\n",
              " 'puede modificar direccion envio',\n",
              " 'puedo cambiar destino envio direccion particular sucursal chilexpress']"
            ]
          },
          "metadata": {},
          "execution_count": 53
        }
      ]
    },
    {
      "cell_type": "markdown",
      "source": [
        "ref: https://www.linkedin.com/pulse/how-find-semantic-similar-sentences-from-your-dataset-jayaraman/"
      ],
      "metadata": {
        "id": "e6WE5mvJFk_E"
      }
    },
    {
      "cell_type": "code",
      "source": [
        "from gensim.models.doc2vec import Doc2Vec, TaggedDocument\n",
        "from nltk.tokenize import word_tokenize\n",
        "\n",
        "tagged_data = [TaggedDocument(words=word_tokenize(_d.lower()), tags=[str(i)]) for i, _d in enumerate(questions_processed)]\n",
        "\n",
        "# hyper parameters\n",
        "max_epochs = 2000\n",
        "vec_size = 200\n",
        "alpha = 0.1\n",
        "minimum_alpha = 0.025\n",
        "reduce_alpha = 0.002\n",
        "\n",
        "model = Doc2Vec(vector_size=vec_size,\n",
        "                alpha=alpha, \n",
        "                min_alpha=minimum_alpha,\n",
        "                dm =1)\n",
        "model.build_vocab(tagged_data)\n",
        "\n",
        "# Train the model based on epochs parameter\n",
        "for epoch in range(max_epochs):\n",
        "    model.train(tagged_data,\n",
        "                total_examples=model.corpus_count,\n",
        "                epochs=model.iter)\n",
        "\n",
        "# Save model. \n",
        "model.save(\"similar_sentence.model3\")"
      ],
      "metadata": {
        "colab": {
          "base_uri": "https://localhost:8080/"
        },
        "id": "gYAF66wrFi2F",
        "outputId": "8e63e3b2-250d-4ff0-86e7-2169c2073cb3"
      },
      "execution_count": null,
      "outputs": [
        {
          "output_type": "stream",
          "name": "stderr",
          "text": [
            "/usr/local/lib/python3.7/dist-packages/ipykernel_launcher.py:23: DeprecationWarning: Call to deprecated `iter` (Attribute will be removed in 4.0.0, use self.epochs instead).\n"
          ]
        }
      ]
    },
    {
      "cell_type": "code",
      "source": [
        "model= Doc2Vec.load(\"similar_sentence.model3\")\n",
        "\n",
        "def best_five_answers(question):\n",
        "  tokens = preprocessor(question)\n",
        "  tokens = no_stopwords(tokens)\n",
        "  vector = model.infer_vector(tokens)\n",
        "  most_similar = model.docvecs.most_similar([vector]) \n",
        "  answers = qa.Respuesta.tolist()\n",
        "  print(tokens)\n",
        "  for index,value in most_similar[:5]:\n",
        "    print('---------')\n",
        "    print(corpus_question[int(index)])\n",
        "    print(questions_processed[int(index)])\n",
        "    print(answers[int(index)])\n",
        "    print('---------')\n",
        "\n",
        "def best_answers(question):\n",
        "  tokens = preprocessor(question)\n",
        "  tokens = no_stopwords(tokens)\n",
        "  vector = model.infer_vector(tokens)\n",
        "  most_similar = model.docvecs.most_similar([vector]) \n",
        "  answers = qa.Respuesta.tolist()\n",
        "  for index,value in most_similar[:1]:\n",
        "    print(corpus_question[int(index)])\n",
        "    print(answers[int(index)])"
      ],
      "metadata": {
        "id": "tdb-cRQcFovJ"
      },
      "execution_count": null,
      "outputs": []
    },
    {
      "cell_type": "code",
      "source": [
        "best_five_answers('¿Qué es la Orden de Transporte (OT)?')"
      ],
      "metadata": {
        "colab": {
          "base_uri": "https://localhost:8080/"
        },
        "id": "xj45VnaqFu5Q",
        "outputId": "80e0396f-992f-43e0-e058-3d48267575e3"
      },
      "execution_count": null,
      "outputs": [
        {
          "output_type": "stream",
          "name": "stdout",
          "text": [
            "['orden', 'transporte', 'ot']\n",
            "---------\n",
            "¿Cómo programo los retiros habituales?\n",
            "programo retiros habituales\n",
            "Las empresas que poseen una cuenta con Chilexpress pueden solicitar retiros habituales a través su ejecutivo de cuentas asignado.\n",
            "\n",
            "---------\n",
            "---------\n",
            "¿Cuáles son los medios de pago de los servicios online?\n",
            "cuales medios pago servicios online\n",
            "Cuando utilizas un servicio online en www.chilexpress.cl, puedes pagar con tarjetas de crédito, débito o transferencia electrónica.\n",
            "\n",
            "---------\n",
            "---------\n",
            "¿Qué es el MTCN?\n",
            "mtcn\n",
            "El MTCN es el número de control de envío de dinero, y es único para cada giro. El destinatario necesita conocer el MTCN para retirar el dinero en la sucursal que requiera, mientras que al remitente, le permite hacer seguimiento del envío de dinero.\n",
            "\n",
            "---------\n",
            "---------\n",
            "¿Qué requisito debe cumplir un envío internacional para que sea entregado en el destino?\n",
            "requisito debe cumplir envio internacional entregado destino\n",
            "Debes contar con nombre y dirección completa, además de código postal, teléfono de contacto, ciudad y país de destino. En algunos casos también el RUT o DNI (número de identificación) del destinatario.\n",
            "\n",
            "---------\n",
            "---------\n",
            "¿Qué sucursales no están habilitadas para recibir un envío por pagar?\n",
            "sucursales habilitadas recibir envio pagar\n",
            "Puedes revisar las sucursales habilitadas para realizar envíos por pagar en www.chilexpress.cl\n",
            "\n",
            "---------\n"
          ]
        }
      ]
    },
    {
      "cell_type": "code",
      "source": [
        "best_five_answers('¿Qué es un envío sobredimensionado?')"
      ],
      "metadata": {
        "colab": {
          "base_uri": "https://localhost:8080/"
        },
        "id": "7SlEeQ5jFw6L",
        "outputId": "e938a0c9-06d5-4043-9e75-f975454c736e"
      },
      "execution_count": null,
      "outputs": [
        {
          "output_type": "stream",
          "name": "stdout",
          "text": [
            "['envio', 'sobredimensionado']\n",
            "---------\n",
            "¿Puedo ir a retirar una encomienda a cualquier oficina de Chilexpress?\n",
            "puedo ir retirar encomienda cualquier oficina chilexpress\n",
            "No. Debes retirar tu encomienda o documento en la sucursal donde se encuentra disponible para retiro. Ésta es aquella que fue seleccionada cuando se contrató el servicio.\n",
            "\n",
            "---------\n",
            "---------\n",
            "¿Puedo ir a retirar un documento a cualquier oficina de Chilexpress?\n",
            "puedo ir retirar documento cualquier oficina chilexpress\n",
            "No. Debes retirar tu encomienda o documento en la sucursal donde se encuentra disponible para retiro. Ésta es aquella que fue seleccionada cuando se contrató el servicio.\n",
            "\n",
            "---------\n",
            "---------\n",
            "¿Cuál es el plazo para retirar un envío desde una sucursal de Chilexpress?\n",
            "plazo retirar envio sucursal chilexpress\n",
            "El plazo para retirar un envío desde una sucursal es de 5 días hábiles. Una vez finalizado dicho plazo, el envío será devuelto al origen. Si el envío se generó en una oficina comercial será devuelto a la misma oficina, en cambio si se generó desde un retiro, será devuelto al domicilio.\n",
            "\n",
            "---------\n",
            "---------\n",
            "¿Cómo puedo hacer seguimiento de un envío?\n",
            "puedo hacer seguimiento envio\n",
            "Puedes hacerlo a través de nuestra página web en la sección “Rastrea tu envío”, ingresando el número de la Orden de Transporte del envío. También puedes hacer seguimiento desde el Centro de Ayuda o desde nuestra App. https://centrodeayuda.chilexpress.cl/home\n",
            "\n",
            "---------\n",
            "---------\n",
            "¿Qué debe hacer el destinatario para retirar su envío por pagar?\n",
            "debe hacer destinatario retirar envio pagar\n",
            "Una vez que el envío haya sido notificado, el destinatario tendrá un plazo de 5 días hábiles para acudir a la sucursal de destino establecida por el remitente . Allí el destinatario deberá presentar su Cédula de Identidad y pagar el costo del envío.\n",
            "\n",
            "---------\n"
          ]
        }
      ]
    },
    {
      "cell_type": "markdown",
      "source": [
        "## 2.4 Reporte el resultado con textos de prueba."
      ],
      "metadata": {
        "id": "ccIjPIjmHSwx"
      }
    },
    {
      "cell_type": "markdown",
      "source": [
        "# 3. Análisis transformer "
      ],
      "metadata": {
        "id": "6Iqr3LsaFezF"
      }
    },
    {
      "cell_type": "markdown",
      "source": [
        "Para el segundo chatbot utilice un transformer (por ejemplo BERT)."
      ],
      "metadata": {
        "id": "iv-Oe3aiGA9H"
      }
    },
    {
      "cell_type": "markdown",
      "source": [
        "## 3.1 Utilice el modelo transformer para clasificar el texto de entrada, y para extraer la respuesta de la tabla de preguntas y respuestas cuando el mensaje sea del tipo “información”."
      ],
      "metadata": {
        "id": "imXEWWfaHdCI"
      }
    },
    {
      "cell_type": "markdown",
      "source": [
        "## 3.2 Reporte el tipo de red, y las métricas de entrenamiento usadas"
      ],
      "metadata": {
        "id": "mRSEUuUJHlOe"
      }
    },
    {
      "cell_type": "markdown",
      "source": [
        "## 3.3 Reporte el resultado con los textos de prueba."
      ],
      "metadata": {
        "id": "Gr5t043nHs4o"
      }
    },
    {
      "cell_type": "markdown",
      "source": [
        "# Conclusión"
      ],
      "metadata": {
        "id": "2JwboiqsFaoS"
      }
    }
  ]
}