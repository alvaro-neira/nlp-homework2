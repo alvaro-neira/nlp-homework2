{
  "nbformat": 4,
  "nbformat_minor": 0,
  "metadata": {
    "colab": {
      "name": "Tarea 2  NLP -  Grupo 3",
      "provenance": [],
      "collapsed_sections": [],
      "machine_shape": "hm"
    },
    "kernelspec": {
      "name": "python3",
      "display_name": "Python 3"
    },
    "language_info": {
      "name": "python"
    },
    "accelerator": "GPU",
    "widgets": {
      "application/vnd.jupyter.widget-state+json": {
        "bb2bad59071b45a4abeaf65f263a8988": {
          "model_module": "@jupyter-widgets/controls",
          "model_name": "HBoxModel",
          "model_module_version": "1.5.0",
          "state": {
            "_view_name": "HBoxView",
            "_dom_classes": [],
            "_model_name": "HBoxModel",
            "_view_module": "@jupyter-widgets/controls",
            "_model_module_version": "1.5.0",
            "_view_count": null,
            "_view_module_version": "1.5.0",
            "box_style": "",
            "layout": "IPY_MODEL_cc10a81fdbdd46a09db654d94e151bb8",
            "_model_module": "@jupyter-widgets/controls",
            "children": [
              "IPY_MODEL_342c3c43a792497db74d927bab6d3565",
              "IPY_MODEL_17d4feb52a9f4887882b7ca4dc2346cd",
              "IPY_MODEL_262dc4c8379b46a58f2947fc6d914139"
            ]
          }
        },
        "cc10a81fdbdd46a09db654d94e151bb8": {
          "model_module": "@jupyter-widgets/base",
          "model_name": "LayoutModel",
          "model_module_version": "1.2.0",
          "state": {
            "_view_name": "LayoutView",
            "grid_template_rows": null,
            "right": null,
            "justify_content": null,
            "_view_module": "@jupyter-widgets/base",
            "overflow": null,
            "_model_module_version": "1.2.0",
            "_view_count": null,
            "flex_flow": null,
            "width": null,
            "min_width": null,
            "border": null,
            "align_items": null,
            "bottom": null,
            "_model_module": "@jupyter-widgets/base",
            "top": null,
            "grid_column": null,
            "overflow_y": null,
            "overflow_x": null,
            "grid_auto_flow": null,
            "grid_area": null,
            "grid_template_columns": null,
            "flex": null,
            "_model_name": "LayoutModel",
            "justify_items": null,
            "grid_row": null,
            "max_height": null,
            "align_content": null,
            "visibility": null,
            "align_self": null,
            "height": null,
            "min_height": null,
            "padding": null,
            "grid_auto_rows": null,
            "grid_gap": null,
            "max_width": null,
            "order": null,
            "_view_module_version": "1.2.0",
            "grid_template_areas": null,
            "object_position": null,
            "object_fit": null,
            "grid_auto_columns": null,
            "margin": null,
            "display": null,
            "left": null
          }
        },
        "342c3c43a792497db74d927bab6d3565": {
          "model_module": "@jupyter-widgets/controls",
          "model_name": "HTMLModel",
          "model_module_version": "1.5.0",
          "state": {
            "_view_name": "HTMLView",
            "style": "IPY_MODEL_3c507a7ddb8a4bdf88dc21e867764c52",
            "_dom_classes": [],
            "description": "",
            "_model_name": "HTMLModel",
            "placeholder": "​",
            "_view_module": "@jupyter-widgets/controls",
            "_model_module_version": "1.5.0",
            "value": "Downloading: 100%",
            "_view_count": null,
            "_view_module_version": "1.5.0",
            "description_tooltip": null,
            "_model_module": "@jupyter-widgets/controls",
            "layout": "IPY_MODEL_3100c490d85c456db7b9fa75aafeae76"
          }
        },
        "17d4feb52a9f4887882b7ca4dc2346cd": {
          "model_module": "@jupyter-widgets/controls",
          "model_name": "FloatProgressModel",
          "model_module_version": "1.5.0",
          "state": {
            "_view_name": "ProgressView",
            "style": "IPY_MODEL_ea87f08119084163b7fb908746b88783",
            "_dom_classes": [],
            "description": "",
            "_model_name": "FloatProgressModel",
            "bar_style": "success",
            "max": 465,
            "_view_module": "@jupyter-widgets/controls",
            "_model_module_version": "1.5.0",
            "value": 465,
            "_view_count": null,
            "_view_module_version": "1.5.0",
            "orientation": "horizontal",
            "min": 0,
            "description_tooltip": null,
            "_model_module": "@jupyter-widgets/controls",
            "layout": "IPY_MODEL_d9ee33c68d1d4726b6df5df0454166fc"
          }
        },
        "262dc4c8379b46a58f2947fc6d914139": {
          "model_module": "@jupyter-widgets/controls",
          "model_name": "HTMLModel",
          "model_module_version": "1.5.0",
          "state": {
            "_view_name": "HTMLView",
            "style": "IPY_MODEL_51d9692a176c421c9ef18a0d4e638619",
            "_dom_classes": [],
            "description": "",
            "_model_name": "HTMLModel",
            "placeholder": "​",
            "_view_module": "@jupyter-widgets/controls",
            "_model_module_version": "1.5.0",
            "value": " 465/465 [00:00&lt;00:00, 13.7kB/s]",
            "_view_count": null,
            "_view_module_version": "1.5.0",
            "description_tooltip": null,
            "_model_module": "@jupyter-widgets/controls",
            "layout": "IPY_MODEL_2edf02a86bc34c75899f4ae321d51d1d"
          }
        },
        "3c507a7ddb8a4bdf88dc21e867764c52": {
          "model_module": "@jupyter-widgets/controls",
          "model_name": "DescriptionStyleModel",
          "model_module_version": "1.5.0",
          "state": {
            "_view_name": "StyleView",
            "_model_name": "DescriptionStyleModel",
            "description_width": "",
            "_view_module": "@jupyter-widgets/base",
            "_model_module_version": "1.5.0",
            "_view_count": null,
            "_view_module_version": "1.2.0",
            "_model_module": "@jupyter-widgets/controls"
          }
        },
        "3100c490d85c456db7b9fa75aafeae76": {
          "model_module": "@jupyter-widgets/base",
          "model_name": "LayoutModel",
          "model_module_version": "1.2.0",
          "state": {
            "_view_name": "LayoutView",
            "grid_template_rows": null,
            "right": null,
            "justify_content": null,
            "_view_module": "@jupyter-widgets/base",
            "overflow": null,
            "_model_module_version": "1.2.0",
            "_view_count": null,
            "flex_flow": null,
            "width": null,
            "min_width": null,
            "border": null,
            "align_items": null,
            "bottom": null,
            "_model_module": "@jupyter-widgets/base",
            "top": null,
            "grid_column": null,
            "overflow_y": null,
            "overflow_x": null,
            "grid_auto_flow": null,
            "grid_area": null,
            "grid_template_columns": null,
            "flex": null,
            "_model_name": "LayoutModel",
            "justify_items": null,
            "grid_row": null,
            "max_height": null,
            "align_content": null,
            "visibility": null,
            "align_self": null,
            "height": null,
            "min_height": null,
            "padding": null,
            "grid_auto_rows": null,
            "grid_gap": null,
            "max_width": null,
            "order": null,
            "_view_module_version": "1.2.0",
            "grid_template_areas": null,
            "object_position": null,
            "object_fit": null,
            "grid_auto_columns": null,
            "margin": null,
            "display": null,
            "left": null
          }
        },
        "ea87f08119084163b7fb908746b88783": {
          "model_module": "@jupyter-widgets/controls",
          "model_name": "ProgressStyleModel",
          "model_module_version": "1.5.0",
          "state": {
            "_view_name": "StyleView",
            "_model_name": "ProgressStyleModel",
            "description_width": "",
            "_view_module": "@jupyter-widgets/base",
            "_model_module_version": "1.5.0",
            "_view_count": null,
            "_view_module_version": "1.2.0",
            "bar_color": null,
            "_model_module": "@jupyter-widgets/controls"
          }
        },
        "d9ee33c68d1d4726b6df5df0454166fc": {
          "model_module": "@jupyter-widgets/base",
          "model_name": "LayoutModel",
          "model_module_version": "1.2.0",
          "state": {
            "_view_name": "LayoutView",
            "grid_template_rows": null,
            "right": null,
            "justify_content": null,
            "_view_module": "@jupyter-widgets/base",
            "overflow": null,
            "_model_module_version": "1.2.0",
            "_view_count": null,
            "flex_flow": null,
            "width": null,
            "min_width": null,
            "border": null,
            "align_items": null,
            "bottom": null,
            "_model_module": "@jupyter-widgets/base",
            "top": null,
            "grid_column": null,
            "overflow_y": null,
            "overflow_x": null,
            "grid_auto_flow": null,
            "grid_area": null,
            "grid_template_columns": null,
            "flex": null,
            "_model_name": "LayoutModel",
            "justify_items": null,
            "grid_row": null,
            "max_height": null,
            "align_content": null,
            "visibility": null,
            "align_self": null,
            "height": null,
            "min_height": null,
            "padding": null,
            "grid_auto_rows": null,
            "grid_gap": null,
            "max_width": null,
            "order": null,
            "_view_module_version": "1.2.0",
            "grid_template_areas": null,
            "object_position": null,
            "object_fit": null,
            "grid_auto_columns": null,
            "margin": null,
            "display": null,
            "left": null
          }
        },
        "51d9692a176c421c9ef18a0d4e638619": {
          "model_module": "@jupyter-widgets/controls",
          "model_name": "DescriptionStyleModel",
          "model_module_version": "1.5.0",
          "state": {
            "_view_name": "StyleView",
            "_model_name": "DescriptionStyleModel",
            "description_width": "",
            "_view_module": "@jupyter-widgets/base",
            "_model_module_version": "1.5.0",
            "_view_count": null,
            "_view_module_version": "1.2.0",
            "_model_module": "@jupyter-widgets/controls"
          }
        },
        "2edf02a86bc34c75899f4ae321d51d1d": {
          "model_module": "@jupyter-widgets/base",
          "model_name": "LayoutModel",
          "model_module_version": "1.2.0",
          "state": {
            "_view_name": "LayoutView",
            "grid_template_rows": null,
            "right": null,
            "justify_content": null,
            "_view_module": "@jupyter-widgets/base",
            "overflow": null,
            "_model_module_version": "1.2.0",
            "_view_count": null,
            "flex_flow": null,
            "width": null,
            "min_width": null,
            "border": null,
            "align_items": null,
            "bottom": null,
            "_model_module": "@jupyter-widgets/base",
            "top": null,
            "grid_column": null,
            "overflow_y": null,
            "overflow_x": null,
            "grid_auto_flow": null,
            "grid_area": null,
            "grid_template_columns": null,
            "flex": null,
            "_model_name": "LayoutModel",
            "justify_items": null,
            "grid_row": null,
            "max_height": null,
            "align_content": null,
            "visibility": null,
            "align_self": null,
            "height": null,
            "min_height": null,
            "padding": null,
            "grid_auto_rows": null,
            "grid_gap": null,
            "max_width": null,
            "order": null,
            "_view_module_version": "1.2.0",
            "grid_template_areas": null,
            "object_position": null,
            "object_fit": null,
            "grid_auto_columns": null,
            "margin": null,
            "display": null,
            "left": null
          }
        },
        "6ed5ec4912ff4b2dbf3113fad625fc90": {
          "model_module": "@jupyter-widgets/controls",
          "model_name": "HBoxModel",
          "model_module_version": "1.5.0",
          "state": {
            "_view_name": "HBoxView",
            "_dom_classes": [],
            "_model_name": "HBoxModel",
            "_view_module": "@jupyter-widgets/controls",
            "_model_module_version": "1.5.0",
            "_view_count": null,
            "_view_module_version": "1.5.0",
            "box_style": "",
            "layout": "IPY_MODEL_4b9381adfd934c7fa74c6d38b028a55f",
            "_model_module": "@jupyter-widgets/controls",
            "children": [
              "IPY_MODEL_59e0167657bd4eb290261838a6b3d356",
              "IPY_MODEL_b4aee096fbad470f9f6a0a622170c8a8",
              "IPY_MODEL_e21329094625405db39d6fe9117216d3"
            ]
          }
        },
        "4b9381adfd934c7fa74c6d38b028a55f": {
          "model_module": "@jupyter-widgets/base",
          "model_name": "LayoutModel",
          "model_module_version": "1.2.0",
          "state": {
            "_view_name": "LayoutView",
            "grid_template_rows": null,
            "right": null,
            "justify_content": null,
            "_view_module": "@jupyter-widgets/base",
            "overflow": null,
            "_model_module_version": "1.2.0",
            "_view_count": null,
            "flex_flow": null,
            "width": null,
            "min_width": null,
            "border": null,
            "align_items": null,
            "bottom": null,
            "_model_module": "@jupyter-widgets/base",
            "top": null,
            "grid_column": null,
            "overflow_y": null,
            "overflow_x": null,
            "grid_auto_flow": null,
            "grid_area": null,
            "grid_template_columns": null,
            "flex": null,
            "_model_name": "LayoutModel",
            "justify_items": null,
            "grid_row": null,
            "max_height": null,
            "align_content": null,
            "visibility": null,
            "align_self": null,
            "height": null,
            "min_height": null,
            "padding": null,
            "grid_auto_rows": null,
            "grid_gap": null,
            "max_width": null,
            "order": null,
            "_view_module_version": "1.2.0",
            "grid_template_areas": null,
            "object_position": null,
            "object_fit": null,
            "grid_auto_columns": null,
            "margin": null,
            "display": null,
            "left": null
          }
        },
        "59e0167657bd4eb290261838a6b3d356": {
          "model_module": "@jupyter-widgets/controls",
          "model_name": "HTMLModel",
          "model_module_version": "1.5.0",
          "state": {
            "_view_name": "HTMLView",
            "style": "IPY_MODEL_8abe30997c374e279a0f7070b89dc5ac",
            "_dom_classes": [],
            "description": "",
            "_model_name": "HTMLModel",
            "placeholder": "​",
            "_view_module": "@jupyter-widgets/controls",
            "_model_module_version": "1.5.0",
            "value": "Downloading: 100%",
            "_view_count": null,
            "_view_module_version": "1.5.0",
            "description_tooltip": null,
            "_model_module": "@jupyter-widgets/controls",
            "layout": "IPY_MODEL_38571196fef4434fa0a3655492dc3490"
          }
        },
        "b4aee096fbad470f9f6a0a622170c8a8": {
          "model_module": "@jupyter-widgets/controls",
          "model_name": "FloatProgressModel",
          "model_module_version": "1.5.0",
          "state": {
            "_view_name": "ProgressView",
            "style": "IPY_MODEL_d45c75b368194ffab0713091e13191b7",
            "_dom_classes": [],
            "description": "",
            "_model_name": "FloatProgressModel",
            "bar_style": "success",
            "max": 439457860,
            "_view_module": "@jupyter-widgets/controls",
            "_model_module_version": "1.5.0",
            "value": 439457860,
            "_view_count": null,
            "_view_module_version": "1.5.0",
            "orientation": "horizontal",
            "min": 0,
            "description_tooltip": null,
            "_model_module": "@jupyter-widgets/controls",
            "layout": "IPY_MODEL_1fb1b42066f44ab1b758f48e3b4becab"
          }
        },
        "e21329094625405db39d6fe9117216d3": {
          "model_module": "@jupyter-widgets/controls",
          "model_name": "HTMLModel",
          "model_module_version": "1.5.0",
          "state": {
            "_view_name": "HTMLView",
            "style": "IPY_MODEL_d9b1adcc9e26415989a92f5a72a3ea71",
            "_dom_classes": [],
            "description": "",
            "_model_name": "HTMLModel",
            "placeholder": "​",
            "_view_module": "@jupyter-widgets/controls",
            "_model_module_version": "1.5.0",
            "value": " 419M/419M [00:11&lt;00:00, 41.6MB/s]",
            "_view_count": null,
            "_view_module_version": "1.5.0",
            "description_tooltip": null,
            "_model_module": "@jupyter-widgets/controls",
            "layout": "IPY_MODEL_a2678a23a7504fe080ac0eb181f574da"
          }
        },
        "8abe30997c374e279a0f7070b89dc5ac": {
          "model_module": "@jupyter-widgets/controls",
          "model_name": "DescriptionStyleModel",
          "model_module_version": "1.5.0",
          "state": {
            "_view_name": "StyleView",
            "_model_name": "DescriptionStyleModel",
            "description_width": "",
            "_view_module": "@jupyter-widgets/base",
            "_model_module_version": "1.5.0",
            "_view_count": null,
            "_view_module_version": "1.2.0",
            "_model_module": "@jupyter-widgets/controls"
          }
        },
        "38571196fef4434fa0a3655492dc3490": {
          "model_module": "@jupyter-widgets/base",
          "model_name": "LayoutModel",
          "model_module_version": "1.2.0",
          "state": {
            "_view_name": "LayoutView",
            "grid_template_rows": null,
            "right": null,
            "justify_content": null,
            "_view_module": "@jupyter-widgets/base",
            "overflow": null,
            "_model_module_version": "1.2.0",
            "_view_count": null,
            "flex_flow": null,
            "width": null,
            "min_width": null,
            "border": null,
            "align_items": null,
            "bottom": null,
            "_model_module": "@jupyter-widgets/base",
            "top": null,
            "grid_column": null,
            "overflow_y": null,
            "overflow_x": null,
            "grid_auto_flow": null,
            "grid_area": null,
            "grid_template_columns": null,
            "flex": null,
            "_model_name": "LayoutModel",
            "justify_items": null,
            "grid_row": null,
            "max_height": null,
            "align_content": null,
            "visibility": null,
            "align_self": null,
            "height": null,
            "min_height": null,
            "padding": null,
            "grid_auto_rows": null,
            "grid_gap": null,
            "max_width": null,
            "order": null,
            "_view_module_version": "1.2.0",
            "grid_template_areas": null,
            "object_position": null,
            "object_fit": null,
            "grid_auto_columns": null,
            "margin": null,
            "display": null,
            "left": null
          }
        },
        "d45c75b368194ffab0713091e13191b7": {
          "model_module": "@jupyter-widgets/controls",
          "model_name": "ProgressStyleModel",
          "model_module_version": "1.5.0",
          "state": {
            "_view_name": "StyleView",
            "_model_name": "ProgressStyleModel",
            "description_width": "",
            "_view_module": "@jupyter-widgets/base",
            "_model_module_version": "1.5.0",
            "_view_count": null,
            "_view_module_version": "1.2.0",
            "bar_color": null,
            "_model_module": "@jupyter-widgets/controls"
          }
        },
        "1fb1b42066f44ab1b758f48e3b4becab": {
          "model_module": "@jupyter-widgets/base",
          "model_name": "LayoutModel",
          "model_module_version": "1.2.0",
          "state": {
            "_view_name": "LayoutView",
            "grid_template_rows": null,
            "right": null,
            "justify_content": null,
            "_view_module": "@jupyter-widgets/base",
            "overflow": null,
            "_model_module_version": "1.2.0",
            "_view_count": null,
            "flex_flow": null,
            "width": null,
            "min_width": null,
            "border": null,
            "align_items": null,
            "bottom": null,
            "_model_module": "@jupyter-widgets/base",
            "top": null,
            "grid_column": null,
            "overflow_y": null,
            "overflow_x": null,
            "grid_auto_flow": null,
            "grid_area": null,
            "grid_template_columns": null,
            "flex": null,
            "_model_name": "LayoutModel",
            "justify_items": null,
            "grid_row": null,
            "max_height": null,
            "align_content": null,
            "visibility": null,
            "align_self": null,
            "height": null,
            "min_height": null,
            "padding": null,
            "grid_auto_rows": null,
            "grid_gap": null,
            "max_width": null,
            "order": null,
            "_view_module_version": "1.2.0",
            "grid_template_areas": null,
            "object_position": null,
            "object_fit": null,
            "grid_auto_columns": null,
            "margin": null,
            "display": null,
            "left": null
          }
        },
        "d9b1adcc9e26415989a92f5a72a3ea71": {
          "model_module": "@jupyter-widgets/controls",
          "model_name": "DescriptionStyleModel",
          "model_module_version": "1.5.0",
          "state": {
            "_view_name": "StyleView",
            "_model_name": "DescriptionStyleModel",
            "description_width": "",
            "_view_module": "@jupyter-widgets/base",
            "_model_module_version": "1.5.0",
            "_view_count": null,
            "_view_module_version": "1.2.0",
            "_model_module": "@jupyter-widgets/controls"
          }
        },
        "a2678a23a7504fe080ac0eb181f574da": {
          "model_module": "@jupyter-widgets/base",
          "model_name": "LayoutModel",
          "model_module_version": "1.2.0",
          "state": {
            "_view_name": "LayoutView",
            "grid_template_rows": null,
            "right": null,
            "justify_content": null,
            "_view_module": "@jupyter-widgets/base",
            "overflow": null,
            "_model_module_version": "1.2.0",
            "_view_count": null,
            "flex_flow": null,
            "width": null,
            "min_width": null,
            "border": null,
            "align_items": null,
            "bottom": null,
            "_model_module": "@jupyter-widgets/base",
            "top": null,
            "grid_column": null,
            "overflow_y": null,
            "overflow_x": null,
            "grid_auto_flow": null,
            "grid_area": null,
            "grid_template_columns": null,
            "flex": null,
            "_model_name": "LayoutModel",
            "justify_items": null,
            "grid_row": null,
            "max_height": null,
            "align_content": null,
            "visibility": null,
            "align_self": null,
            "height": null,
            "min_height": null,
            "padding": null,
            "grid_auto_rows": null,
            "grid_gap": null,
            "max_width": null,
            "order": null,
            "_view_module_version": "1.2.0",
            "grid_template_areas": null,
            "object_position": null,
            "object_fit": null,
            "grid_auto_columns": null,
            "margin": null,
            "display": null,
            "left": null
          }
        },
        "99caa9d249d84358a5375571ec2f1d89": {
          "model_module": "@jupyter-widgets/controls",
          "model_name": "HBoxModel",
          "model_module_version": "1.5.0",
          "state": {
            "_view_name": "HBoxView",
            "_dom_classes": [],
            "_model_name": "HBoxModel",
            "_view_module": "@jupyter-widgets/controls",
            "_model_module_version": "1.5.0",
            "_view_count": null,
            "_view_module_version": "1.5.0",
            "box_style": "",
            "layout": "IPY_MODEL_c98a51d28fd941c786689867bfd9eab7",
            "_model_module": "@jupyter-widgets/controls",
            "children": [
              "IPY_MODEL_872a0a4bacfc4851928984bb5675d09d",
              "IPY_MODEL_5e3abea9519b4442ad9a017b726fce23",
              "IPY_MODEL_74c25474bbb74502bcb0aa748567e2dc"
            ]
          }
        },
        "c98a51d28fd941c786689867bfd9eab7": {
          "model_module": "@jupyter-widgets/base",
          "model_name": "LayoutModel",
          "model_module_version": "1.2.0",
          "state": {
            "_view_name": "LayoutView",
            "grid_template_rows": null,
            "right": null,
            "justify_content": null,
            "_view_module": "@jupyter-widgets/base",
            "overflow": null,
            "_model_module_version": "1.2.0",
            "_view_count": null,
            "flex_flow": null,
            "width": null,
            "min_width": null,
            "border": null,
            "align_items": null,
            "bottom": null,
            "_model_module": "@jupyter-widgets/base",
            "top": null,
            "grid_column": null,
            "overflow_y": null,
            "overflow_x": null,
            "grid_auto_flow": null,
            "grid_area": null,
            "grid_template_columns": null,
            "flex": null,
            "_model_name": "LayoutModel",
            "justify_items": null,
            "grid_row": null,
            "max_height": null,
            "align_content": null,
            "visibility": null,
            "align_self": null,
            "height": null,
            "min_height": null,
            "padding": null,
            "grid_auto_rows": null,
            "grid_gap": null,
            "max_width": null,
            "order": null,
            "_view_module_version": "1.2.0",
            "grid_template_areas": null,
            "object_position": null,
            "object_fit": null,
            "grid_auto_columns": null,
            "margin": null,
            "display": null,
            "left": null
          }
        },
        "872a0a4bacfc4851928984bb5675d09d": {
          "model_module": "@jupyter-widgets/controls",
          "model_name": "HTMLModel",
          "model_module_version": "1.5.0",
          "state": {
            "_view_name": "HTMLView",
            "style": "IPY_MODEL_bcc931fdfa8b410ba5304245e7f8d42e",
            "_dom_classes": [],
            "description": "",
            "_model_name": "HTMLModel",
            "placeholder": "​",
            "_view_module": "@jupyter-widgets/controls",
            "_model_module_version": "1.5.0",
            "value": "Downloading: 100%",
            "_view_count": null,
            "_view_module_version": "1.5.0",
            "description_tooltip": null,
            "_model_module": "@jupyter-widgets/controls",
            "layout": "IPY_MODEL_12bd91b9b6734374b49aa8c9cfb90756"
          }
        },
        "5e3abea9519b4442ad9a017b726fce23": {
          "model_module": "@jupyter-widgets/controls",
          "model_name": "FloatProgressModel",
          "model_module_version": "1.5.0",
          "state": {
            "_view_name": "ProgressView",
            "style": "IPY_MODEL_e4b04d17296c4e14bc1a4509526b2e31",
            "_dom_classes": [],
            "description": "",
            "_model_name": "FloatProgressModel",
            "bar_style": "success",
            "max": 135,
            "_view_module": "@jupyter-widgets/controls",
            "_model_module_version": "1.5.0",
            "value": 135,
            "_view_count": null,
            "_view_module_version": "1.5.0",
            "orientation": "horizontal",
            "min": 0,
            "description_tooltip": null,
            "_model_module": "@jupyter-widgets/controls",
            "layout": "IPY_MODEL_4eed180c96c949b0a1681b40016aaa4c"
          }
        },
        "74c25474bbb74502bcb0aa748567e2dc": {
          "model_module": "@jupyter-widgets/controls",
          "model_name": "HTMLModel",
          "model_module_version": "1.5.0",
          "state": {
            "_view_name": "HTMLView",
            "style": "IPY_MODEL_0d423d85c46c41f6a49220786cad7a20",
            "_dom_classes": [],
            "description": "",
            "_model_name": "HTMLModel",
            "placeholder": "​",
            "_view_module": "@jupyter-widgets/controls",
            "_model_module_version": "1.5.0",
            "value": " 135/135 [00:00&lt;00:00, 4.11kB/s]",
            "_view_count": null,
            "_view_module_version": "1.5.0",
            "description_tooltip": null,
            "_model_module": "@jupyter-widgets/controls",
            "layout": "IPY_MODEL_f40086c1380f418aa47be25a056601b0"
          }
        },
        "bcc931fdfa8b410ba5304245e7f8d42e": {
          "model_module": "@jupyter-widgets/controls",
          "model_name": "DescriptionStyleModel",
          "model_module_version": "1.5.0",
          "state": {
            "_view_name": "StyleView",
            "_model_name": "DescriptionStyleModel",
            "description_width": "",
            "_view_module": "@jupyter-widgets/base",
            "_model_module_version": "1.5.0",
            "_view_count": null,
            "_view_module_version": "1.2.0",
            "_model_module": "@jupyter-widgets/controls"
          }
        },
        "12bd91b9b6734374b49aa8c9cfb90756": {
          "model_module": "@jupyter-widgets/base",
          "model_name": "LayoutModel",
          "model_module_version": "1.2.0",
          "state": {
            "_view_name": "LayoutView",
            "grid_template_rows": null,
            "right": null,
            "justify_content": null,
            "_view_module": "@jupyter-widgets/base",
            "overflow": null,
            "_model_module_version": "1.2.0",
            "_view_count": null,
            "flex_flow": null,
            "width": null,
            "min_width": null,
            "border": null,
            "align_items": null,
            "bottom": null,
            "_model_module": "@jupyter-widgets/base",
            "top": null,
            "grid_column": null,
            "overflow_y": null,
            "overflow_x": null,
            "grid_auto_flow": null,
            "grid_area": null,
            "grid_template_columns": null,
            "flex": null,
            "_model_name": "LayoutModel",
            "justify_items": null,
            "grid_row": null,
            "max_height": null,
            "align_content": null,
            "visibility": null,
            "align_self": null,
            "height": null,
            "min_height": null,
            "padding": null,
            "grid_auto_rows": null,
            "grid_gap": null,
            "max_width": null,
            "order": null,
            "_view_module_version": "1.2.0",
            "grid_template_areas": null,
            "object_position": null,
            "object_fit": null,
            "grid_auto_columns": null,
            "margin": null,
            "display": null,
            "left": null
          }
        },
        "e4b04d17296c4e14bc1a4509526b2e31": {
          "model_module": "@jupyter-widgets/controls",
          "model_name": "ProgressStyleModel",
          "model_module_version": "1.5.0",
          "state": {
            "_view_name": "StyleView",
            "_model_name": "ProgressStyleModel",
            "description_width": "",
            "_view_module": "@jupyter-widgets/base",
            "_model_module_version": "1.5.0",
            "_view_count": null,
            "_view_module_version": "1.2.0",
            "bar_color": null,
            "_model_module": "@jupyter-widgets/controls"
          }
        },
        "4eed180c96c949b0a1681b40016aaa4c": {
          "model_module": "@jupyter-widgets/base",
          "model_name": "LayoutModel",
          "model_module_version": "1.2.0",
          "state": {
            "_view_name": "LayoutView",
            "grid_template_rows": null,
            "right": null,
            "justify_content": null,
            "_view_module": "@jupyter-widgets/base",
            "overflow": null,
            "_model_module_version": "1.2.0",
            "_view_count": null,
            "flex_flow": null,
            "width": null,
            "min_width": null,
            "border": null,
            "align_items": null,
            "bottom": null,
            "_model_module": "@jupyter-widgets/base",
            "top": null,
            "grid_column": null,
            "overflow_y": null,
            "overflow_x": null,
            "grid_auto_flow": null,
            "grid_area": null,
            "grid_template_columns": null,
            "flex": null,
            "_model_name": "LayoutModel",
            "justify_items": null,
            "grid_row": null,
            "max_height": null,
            "align_content": null,
            "visibility": null,
            "align_self": null,
            "height": null,
            "min_height": null,
            "padding": null,
            "grid_auto_rows": null,
            "grid_gap": null,
            "max_width": null,
            "order": null,
            "_view_module_version": "1.2.0",
            "grid_template_areas": null,
            "object_position": null,
            "object_fit": null,
            "grid_auto_columns": null,
            "margin": null,
            "display": null,
            "left": null
          }
        },
        "0d423d85c46c41f6a49220786cad7a20": {
          "model_module": "@jupyter-widgets/controls",
          "model_name": "DescriptionStyleModel",
          "model_module_version": "1.5.0",
          "state": {
            "_view_name": "StyleView",
            "_model_name": "DescriptionStyleModel",
            "description_width": "",
            "_view_module": "@jupyter-widgets/base",
            "_model_module_version": "1.5.0",
            "_view_count": null,
            "_view_module_version": "1.2.0",
            "_model_module": "@jupyter-widgets/controls"
          }
        },
        "f40086c1380f418aa47be25a056601b0": {
          "model_module": "@jupyter-widgets/base",
          "model_name": "LayoutModel",
          "model_module_version": "1.2.0",
          "state": {
            "_view_name": "LayoutView",
            "grid_template_rows": null,
            "right": null,
            "justify_content": null,
            "_view_module": "@jupyter-widgets/base",
            "overflow": null,
            "_model_module_version": "1.2.0",
            "_view_count": null,
            "flex_flow": null,
            "width": null,
            "min_width": null,
            "border": null,
            "align_items": null,
            "bottom": null,
            "_model_module": "@jupyter-widgets/base",
            "top": null,
            "grid_column": null,
            "overflow_y": null,
            "overflow_x": null,
            "grid_auto_flow": null,
            "grid_area": null,
            "grid_template_columns": null,
            "flex": null,
            "_model_name": "LayoutModel",
            "justify_items": null,
            "grid_row": null,
            "max_height": null,
            "align_content": null,
            "visibility": null,
            "align_self": null,
            "height": null,
            "min_height": null,
            "padding": null,
            "grid_auto_rows": null,
            "grid_gap": null,
            "max_width": null,
            "order": null,
            "_view_module_version": "1.2.0",
            "grid_template_areas": null,
            "object_position": null,
            "object_fit": null,
            "grid_auto_columns": null,
            "margin": null,
            "display": null,
            "left": null
          }
        },
        "44b3701ad4e0472f996f0f967f2d43f2": {
          "model_module": "@jupyter-widgets/controls",
          "model_name": "HBoxModel",
          "model_module_version": "1.5.0",
          "state": {
            "_view_name": "HBoxView",
            "_dom_classes": [],
            "_model_name": "HBoxModel",
            "_view_module": "@jupyter-widgets/controls",
            "_model_module_version": "1.5.0",
            "_view_count": null,
            "_view_module_version": "1.5.0",
            "box_style": "",
            "layout": "IPY_MODEL_76fae0a8f12a433abc201c13b42651e1",
            "_model_module": "@jupyter-widgets/controls",
            "children": [
              "IPY_MODEL_4455b1b2848e4cedafb68178e1b8dfba",
              "IPY_MODEL_f15dbdf3ece34ee2a97c9c957a7ce67e",
              "IPY_MODEL_647846276ab0478c819f8e6e3d08385f"
            ]
          }
        },
        "76fae0a8f12a433abc201c13b42651e1": {
          "model_module": "@jupyter-widgets/base",
          "model_name": "LayoutModel",
          "model_module_version": "1.2.0",
          "state": {
            "_view_name": "LayoutView",
            "grid_template_rows": null,
            "right": null,
            "justify_content": null,
            "_view_module": "@jupyter-widgets/base",
            "overflow": null,
            "_model_module_version": "1.2.0",
            "_view_count": null,
            "flex_flow": null,
            "width": null,
            "min_width": null,
            "border": null,
            "align_items": null,
            "bottom": null,
            "_model_module": "@jupyter-widgets/base",
            "top": null,
            "grid_column": null,
            "overflow_y": null,
            "overflow_x": null,
            "grid_auto_flow": null,
            "grid_area": null,
            "grid_template_columns": null,
            "flex": null,
            "_model_name": "LayoutModel",
            "justify_items": null,
            "grid_row": null,
            "max_height": null,
            "align_content": null,
            "visibility": null,
            "align_self": null,
            "height": null,
            "min_height": null,
            "padding": null,
            "grid_auto_rows": null,
            "grid_gap": null,
            "max_width": null,
            "order": null,
            "_view_module_version": "1.2.0",
            "grid_template_areas": null,
            "object_position": null,
            "object_fit": null,
            "grid_auto_columns": null,
            "margin": null,
            "display": null,
            "left": null
          }
        },
        "4455b1b2848e4cedafb68178e1b8dfba": {
          "model_module": "@jupyter-widgets/controls",
          "model_name": "HTMLModel",
          "model_module_version": "1.5.0",
          "state": {
            "_view_name": "HTMLView",
            "style": "IPY_MODEL_f8e3f74ea22b4eacb5fe9a12123bede5",
            "_dom_classes": [],
            "description": "",
            "_model_name": "HTMLModel",
            "placeholder": "​",
            "_view_module": "@jupyter-widgets/controls",
            "_model_module_version": "1.5.0",
            "value": "Downloading: 100%",
            "_view_count": null,
            "_view_module_version": "1.5.0",
            "description_tooltip": null,
            "_model_module": "@jupyter-widgets/controls",
            "layout": "IPY_MODEL_0724f1ec9e984800b2aeff65eb15cbc6"
          }
        },
        "f15dbdf3ece34ee2a97c9c957a7ce67e": {
          "model_module": "@jupyter-widgets/controls",
          "model_name": "FloatProgressModel",
          "model_module_version": "1.5.0",
          "state": {
            "_view_name": "ProgressView",
            "style": "IPY_MODEL_e0ee4101570043f48595dbd7a4e86565",
            "_dom_classes": [],
            "description": "",
            "_model_name": "FloatProgressModel",
            "bar_style": "success",
            "max": 242349,
            "_view_module": "@jupyter-widgets/controls",
            "_model_module_version": "1.5.0",
            "value": 242349,
            "_view_count": null,
            "_view_module_version": "1.5.0",
            "orientation": "horizontal",
            "min": 0,
            "description_tooltip": null,
            "_model_module": "@jupyter-widgets/controls",
            "layout": "IPY_MODEL_d6b5db43924d413db2f2fb6232a0030c"
          }
        },
        "647846276ab0478c819f8e6e3d08385f": {
          "model_module": "@jupyter-widgets/controls",
          "model_name": "HTMLModel",
          "model_module_version": "1.5.0",
          "state": {
            "_view_name": "HTMLView",
            "style": "IPY_MODEL_a0f58541d3924458aefe57de9f40f0c6",
            "_dom_classes": [],
            "description": "",
            "_model_name": "HTMLModel",
            "placeholder": "​",
            "_view_module": "@jupyter-widgets/controls",
            "_model_module_version": "1.5.0",
            "value": " 237k/237k [00:00&lt;00:00, 852kB/s]",
            "_view_count": null,
            "_view_module_version": "1.5.0",
            "description_tooltip": null,
            "_model_module": "@jupyter-widgets/controls",
            "layout": "IPY_MODEL_b003b45ef312419bbbfb3383588673ea"
          }
        },
        "f8e3f74ea22b4eacb5fe9a12123bede5": {
          "model_module": "@jupyter-widgets/controls",
          "model_name": "DescriptionStyleModel",
          "model_module_version": "1.5.0",
          "state": {
            "_view_name": "StyleView",
            "_model_name": "DescriptionStyleModel",
            "description_width": "",
            "_view_module": "@jupyter-widgets/base",
            "_model_module_version": "1.5.0",
            "_view_count": null,
            "_view_module_version": "1.2.0",
            "_model_module": "@jupyter-widgets/controls"
          }
        },
        "0724f1ec9e984800b2aeff65eb15cbc6": {
          "model_module": "@jupyter-widgets/base",
          "model_name": "LayoutModel",
          "model_module_version": "1.2.0",
          "state": {
            "_view_name": "LayoutView",
            "grid_template_rows": null,
            "right": null,
            "justify_content": null,
            "_view_module": "@jupyter-widgets/base",
            "overflow": null,
            "_model_module_version": "1.2.0",
            "_view_count": null,
            "flex_flow": null,
            "width": null,
            "min_width": null,
            "border": null,
            "align_items": null,
            "bottom": null,
            "_model_module": "@jupyter-widgets/base",
            "top": null,
            "grid_column": null,
            "overflow_y": null,
            "overflow_x": null,
            "grid_auto_flow": null,
            "grid_area": null,
            "grid_template_columns": null,
            "flex": null,
            "_model_name": "LayoutModel",
            "justify_items": null,
            "grid_row": null,
            "max_height": null,
            "align_content": null,
            "visibility": null,
            "align_self": null,
            "height": null,
            "min_height": null,
            "padding": null,
            "grid_auto_rows": null,
            "grid_gap": null,
            "max_width": null,
            "order": null,
            "_view_module_version": "1.2.0",
            "grid_template_areas": null,
            "object_position": null,
            "object_fit": null,
            "grid_auto_columns": null,
            "margin": null,
            "display": null,
            "left": null
          }
        },
        "e0ee4101570043f48595dbd7a4e86565": {
          "model_module": "@jupyter-widgets/controls",
          "model_name": "ProgressStyleModel",
          "model_module_version": "1.5.0",
          "state": {
            "_view_name": "StyleView",
            "_model_name": "ProgressStyleModel",
            "description_width": "",
            "_view_module": "@jupyter-widgets/base",
            "_model_module_version": "1.5.0",
            "_view_count": null,
            "_view_module_version": "1.2.0",
            "bar_color": null,
            "_model_module": "@jupyter-widgets/controls"
          }
        },
        "d6b5db43924d413db2f2fb6232a0030c": {
          "model_module": "@jupyter-widgets/base",
          "model_name": "LayoutModel",
          "model_module_version": "1.2.0",
          "state": {
            "_view_name": "LayoutView",
            "grid_template_rows": null,
            "right": null,
            "justify_content": null,
            "_view_module": "@jupyter-widgets/base",
            "overflow": null,
            "_model_module_version": "1.2.0",
            "_view_count": null,
            "flex_flow": null,
            "width": null,
            "min_width": null,
            "border": null,
            "align_items": null,
            "bottom": null,
            "_model_module": "@jupyter-widgets/base",
            "top": null,
            "grid_column": null,
            "overflow_y": null,
            "overflow_x": null,
            "grid_auto_flow": null,
            "grid_area": null,
            "grid_template_columns": null,
            "flex": null,
            "_model_name": "LayoutModel",
            "justify_items": null,
            "grid_row": null,
            "max_height": null,
            "align_content": null,
            "visibility": null,
            "align_self": null,
            "height": null,
            "min_height": null,
            "padding": null,
            "grid_auto_rows": null,
            "grid_gap": null,
            "max_width": null,
            "order": null,
            "_view_module_version": "1.2.0",
            "grid_template_areas": null,
            "object_position": null,
            "object_fit": null,
            "grid_auto_columns": null,
            "margin": null,
            "display": null,
            "left": null
          }
        },
        "a0f58541d3924458aefe57de9f40f0c6": {
          "model_module": "@jupyter-widgets/controls",
          "model_name": "DescriptionStyleModel",
          "model_module_version": "1.5.0",
          "state": {
            "_view_name": "StyleView",
            "_model_name": "DescriptionStyleModel",
            "description_width": "",
            "_view_module": "@jupyter-widgets/base",
            "_model_module_version": "1.5.0",
            "_view_count": null,
            "_view_module_version": "1.2.0",
            "_model_module": "@jupyter-widgets/controls"
          }
        },
        "b003b45ef312419bbbfb3383588673ea": {
          "model_module": "@jupyter-widgets/base",
          "model_name": "LayoutModel",
          "model_module_version": "1.2.0",
          "state": {
            "_view_name": "LayoutView",
            "grid_template_rows": null,
            "right": null,
            "justify_content": null,
            "_view_module": "@jupyter-widgets/base",
            "overflow": null,
            "_model_module_version": "1.2.0",
            "_view_count": null,
            "flex_flow": null,
            "width": null,
            "min_width": null,
            "border": null,
            "align_items": null,
            "bottom": null,
            "_model_module": "@jupyter-widgets/base",
            "top": null,
            "grid_column": null,
            "overflow_y": null,
            "overflow_x": null,
            "grid_auto_flow": null,
            "grid_area": null,
            "grid_template_columns": null,
            "flex": null,
            "_model_name": "LayoutModel",
            "justify_items": null,
            "grid_row": null,
            "max_height": null,
            "align_content": null,
            "visibility": null,
            "align_self": null,
            "height": null,
            "min_height": null,
            "padding": null,
            "grid_auto_rows": null,
            "grid_gap": null,
            "max_width": null,
            "order": null,
            "_view_module_version": "1.2.0",
            "grid_template_areas": null,
            "object_position": null,
            "object_fit": null,
            "grid_auto_columns": null,
            "margin": null,
            "display": null,
            "left": null
          }
        },
        "60a27468b8954448bb61933cd7661eeb": {
          "model_module": "@jupyter-widgets/controls",
          "model_name": "HBoxModel",
          "model_module_version": "1.5.0",
          "state": {
            "_view_name": "HBoxView",
            "_dom_classes": [],
            "_model_name": "HBoxModel",
            "_view_module": "@jupyter-widgets/controls",
            "_model_module_version": "1.5.0",
            "_view_count": null,
            "_view_module_version": "1.5.0",
            "box_style": "",
            "layout": "IPY_MODEL_84d4c7592662493c92cda65cb3edd64f",
            "_model_module": "@jupyter-widgets/controls",
            "children": [
              "IPY_MODEL_884b79c7db0b459daa751d555442bf28",
              "IPY_MODEL_d991688e948a40939230edd81e2c5be2",
              "IPY_MODEL_6f9624ed33954578a6a37ff67f7dae62"
            ]
          }
        },
        "84d4c7592662493c92cda65cb3edd64f": {
          "model_module": "@jupyter-widgets/base",
          "model_name": "LayoutModel",
          "model_module_version": "1.2.0",
          "state": {
            "_view_name": "LayoutView",
            "grid_template_rows": null,
            "right": null,
            "justify_content": null,
            "_view_module": "@jupyter-widgets/base",
            "overflow": null,
            "_model_module_version": "1.2.0",
            "_view_count": null,
            "flex_flow": null,
            "width": null,
            "min_width": null,
            "border": null,
            "align_items": null,
            "bottom": null,
            "_model_module": "@jupyter-widgets/base",
            "top": null,
            "grid_column": null,
            "overflow_y": null,
            "overflow_x": null,
            "grid_auto_flow": null,
            "grid_area": null,
            "grid_template_columns": null,
            "flex": null,
            "_model_name": "LayoutModel",
            "justify_items": null,
            "grid_row": null,
            "max_height": null,
            "align_content": null,
            "visibility": null,
            "align_self": null,
            "height": null,
            "min_height": null,
            "padding": null,
            "grid_auto_rows": null,
            "grid_gap": null,
            "max_width": null,
            "order": null,
            "_view_module_version": "1.2.0",
            "grid_template_areas": null,
            "object_position": null,
            "object_fit": null,
            "grid_auto_columns": null,
            "margin": null,
            "display": null,
            "left": null
          }
        },
        "884b79c7db0b459daa751d555442bf28": {
          "model_module": "@jupyter-widgets/controls",
          "model_name": "HTMLModel",
          "model_module_version": "1.5.0",
          "state": {
            "_view_name": "HTMLView",
            "style": "IPY_MODEL_6193d997d305409bbbc1477004ff677d",
            "_dom_classes": [],
            "description": "",
            "_model_name": "HTMLModel",
            "placeholder": "​",
            "_view_module": "@jupyter-widgets/controls",
            "_model_module_version": "1.5.0",
            "value": "Downloading: 100%",
            "_view_count": null,
            "_view_module_version": "1.5.0",
            "description_tooltip": null,
            "_model_module": "@jupyter-widgets/controls",
            "layout": "IPY_MODEL_f5b1ee9849574356ae86af8ac721b0d9"
          }
        },
        "d991688e948a40939230edd81e2c5be2": {
          "model_module": "@jupyter-widgets/controls",
          "model_name": "FloatProgressModel",
          "model_module_version": "1.5.0",
          "state": {
            "_view_name": "ProgressView",
            "style": "IPY_MODEL_59539ded9bbc466195967b59180e9a86",
            "_dom_classes": [],
            "description": "",
            "_model_name": "FloatProgressModel",
            "bar_style": "success",
            "max": 112,
            "_view_module": "@jupyter-widgets/controls",
            "_model_module_version": "1.5.0",
            "value": 112,
            "_view_count": null,
            "_view_module_version": "1.5.0",
            "orientation": "horizontal",
            "min": 0,
            "description_tooltip": null,
            "_model_module": "@jupyter-widgets/controls",
            "layout": "IPY_MODEL_a7b8569455af424589735c62dc4d4e37"
          }
        },
        "6f9624ed33954578a6a37ff67f7dae62": {
          "model_module": "@jupyter-widgets/controls",
          "model_name": "HTMLModel",
          "model_module_version": "1.5.0",
          "state": {
            "_view_name": "HTMLView",
            "style": "IPY_MODEL_8f09cb5e675744859e0d6676b061d35b",
            "_dom_classes": [],
            "description": "",
            "_model_name": "HTMLModel",
            "placeholder": "​",
            "_view_module": "@jupyter-widgets/controls",
            "_model_module_version": "1.5.0",
            "value": " 112/112 [00:00&lt;00:00, 3.33kB/s]",
            "_view_count": null,
            "_view_module_version": "1.5.0",
            "description_tooltip": null,
            "_model_module": "@jupyter-widgets/controls",
            "layout": "IPY_MODEL_84672e52fdbc4e479afceef2613e8c99"
          }
        },
        "6193d997d305409bbbc1477004ff677d": {
          "model_module": "@jupyter-widgets/controls",
          "model_name": "DescriptionStyleModel",
          "model_module_version": "1.5.0",
          "state": {
            "_view_name": "StyleView",
            "_model_name": "DescriptionStyleModel",
            "description_width": "",
            "_view_module": "@jupyter-widgets/base",
            "_model_module_version": "1.5.0",
            "_view_count": null,
            "_view_module_version": "1.2.0",
            "_model_module": "@jupyter-widgets/controls"
          }
        },
        "f5b1ee9849574356ae86af8ac721b0d9": {
          "model_module": "@jupyter-widgets/base",
          "model_name": "LayoutModel",
          "model_module_version": "1.2.0",
          "state": {
            "_view_name": "LayoutView",
            "grid_template_rows": null,
            "right": null,
            "justify_content": null,
            "_view_module": "@jupyter-widgets/base",
            "overflow": null,
            "_model_module_version": "1.2.0",
            "_view_count": null,
            "flex_flow": null,
            "width": null,
            "min_width": null,
            "border": null,
            "align_items": null,
            "bottom": null,
            "_model_module": "@jupyter-widgets/base",
            "top": null,
            "grid_column": null,
            "overflow_y": null,
            "overflow_x": null,
            "grid_auto_flow": null,
            "grid_area": null,
            "grid_template_columns": null,
            "flex": null,
            "_model_name": "LayoutModel",
            "justify_items": null,
            "grid_row": null,
            "max_height": null,
            "align_content": null,
            "visibility": null,
            "align_self": null,
            "height": null,
            "min_height": null,
            "padding": null,
            "grid_auto_rows": null,
            "grid_gap": null,
            "max_width": null,
            "order": null,
            "_view_module_version": "1.2.0",
            "grid_template_areas": null,
            "object_position": null,
            "object_fit": null,
            "grid_auto_columns": null,
            "margin": null,
            "display": null,
            "left": null
          }
        },
        "59539ded9bbc466195967b59180e9a86": {
          "model_module": "@jupyter-widgets/controls",
          "model_name": "ProgressStyleModel",
          "model_module_version": "1.5.0",
          "state": {
            "_view_name": "StyleView",
            "_model_name": "ProgressStyleModel",
            "description_width": "",
            "_view_module": "@jupyter-widgets/base",
            "_model_module_version": "1.5.0",
            "_view_count": null,
            "_view_module_version": "1.2.0",
            "bar_color": null,
            "_model_module": "@jupyter-widgets/controls"
          }
        },
        "a7b8569455af424589735c62dc4d4e37": {
          "model_module": "@jupyter-widgets/base",
          "model_name": "LayoutModel",
          "model_module_version": "1.2.0",
          "state": {
            "_view_name": "LayoutView",
            "grid_template_rows": null,
            "right": null,
            "justify_content": null,
            "_view_module": "@jupyter-widgets/base",
            "overflow": null,
            "_model_module_version": "1.2.0",
            "_view_count": null,
            "flex_flow": null,
            "width": null,
            "min_width": null,
            "border": null,
            "align_items": null,
            "bottom": null,
            "_model_module": "@jupyter-widgets/base",
            "top": null,
            "grid_column": null,
            "overflow_y": null,
            "overflow_x": null,
            "grid_auto_flow": null,
            "grid_area": null,
            "grid_template_columns": null,
            "flex": null,
            "_model_name": "LayoutModel",
            "justify_items": null,
            "grid_row": null,
            "max_height": null,
            "align_content": null,
            "visibility": null,
            "align_self": null,
            "height": null,
            "min_height": null,
            "padding": null,
            "grid_auto_rows": null,
            "grid_gap": null,
            "max_width": null,
            "order": null,
            "_view_module_version": "1.2.0",
            "grid_template_areas": null,
            "object_position": null,
            "object_fit": null,
            "grid_auto_columns": null,
            "margin": null,
            "display": null,
            "left": null
          }
        },
        "8f09cb5e675744859e0d6676b061d35b": {
          "model_module": "@jupyter-widgets/controls",
          "model_name": "DescriptionStyleModel",
          "model_module_version": "1.5.0",
          "state": {
            "_view_name": "StyleView",
            "_model_name": "DescriptionStyleModel",
            "description_width": "",
            "_view_module": "@jupyter-widgets/base",
            "_model_module_version": "1.5.0",
            "_view_count": null,
            "_view_module_version": "1.2.0",
            "_model_module": "@jupyter-widgets/controls"
          }
        },
        "84672e52fdbc4e479afceef2613e8c99": {
          "model_module": "@jupyter-widgets/base",
          "model_name": "LayoutModel",
          "model_module_version": "1.2.0",
          "state": {
            "_view_name": "LayoutView",
            "grid_template_rows": null,
            "right": null,
            "justify_content": null,
            "_view_module": "@jupyter-widgets/base",
            "overflow": null,
            "_model_module_version": "1.2.0",
            "_view_count": null,
            "flex_flow": null,
            "width": null,
            "min_width": null,
            "border": null,
            "align_items": null,
            "bottom": null,
            "_model_module": "@jupyter-widgets/base",
            "top": null,
            "grid_column": null,
            "overflow_y": null,
            "overflow_x": null,
            "grid_auto_flow": null,
            "grid_area": null,
            "grid_template_columns": null,
            "flex": null,
            "_model_name": "LayoutModel",
            "justify_items": null,
            "grid_row": null,
            "max_height": null,
            "align_content": null,
            "visibility": null,
            "align_self": null,
            "height": null,
            "min_height": null,
            "padding": null,
            "grid_auto_rows": null,
            "grid_gap": null,
            "max_width": null,
            "order": null,
            "_view_module_version": "1.2.0",
            "grid_template_areas": null,
            "object_position": null,
            "object_fit": null,
            "grid_auto_columns": null,
            "margin": null,
            "display": null,
            "left": null
          }
        }
      }
    }
  },
  "cells": [
    {
      "cell_type": "markdown",
      "metadata": {
        "id": "93-Rg2V5Q__d"
      },
      "source": [
        "# Tarea 2: Procesamiento de Lenguaje Natural\n",
        "\n"
      ]
    },
    {
      "cell_type": "markdown",
      "source": [
        "Integrantes:\n",
        "\n",
        "* Sebastián Alday (Rut: 18294095-K)\n",
        "* Paula Canales G. (Rut: 18845155-1)\n",
        "* Álvaro Neira R. (Rut: 13757209-5)\n",
        "* Matias Rodriguez U. (Rut: 18362815-1)"
      ],
      "metadata": {
        "id": "bV8mxLYPE5EC"
      }
    },
    {
      "cell_type": "markdown",
      "source": [
        "# Introducción"
      ],
      "metadata": {
        "id": "VtPPoj2_FLJ8"
      }
    },
    {
      "cell_type": "markdown",
      "source": [
        "El siguiente trabajo consiste en el desarrollo de un bot que conteste las preguntas de los clientes de una empresa de servicios. En este caso, se ha escogido la empresa Chilexpress. El bot 'Eva' ha sido entrenado de dos formas distintas, con un embedding (como Word2Vec o Elmo) y mediante un transformer."
      ],
      "metadata": {
        "id": "gIOMHqd7fzh7"
      }
    },
    {
      "cell_type": "markdown",
      "source": [
        "# 1. Creación y limpieza de la base de datos "
      ],
      "metadata": {
        "id": "NnIrZRjoFO3a"
      }
    },
    {
      "cell_type": "markdown",
      "source": [
        "## 1.1 Elija una organización que cuenta con una lista de preguntas y respuestas"
      ],
      "metadata": {
        "id": "5ZYeSc93FyGX"
      }
    },
    {
      "cell_type": "markdown",
      "source": [
        "La compañía escogida para realizar este trabajo es Chilexpress. Su sección de preguntas y respuestas se muestra en el siguiente enlace:\n",
        "\n",
        "Chilexpress\n",
        "https://centrodeayuda.chilexpress.cl/home"
      ],
      "metadata": {
        "id": "pk0QdTdzUETd"
      }
    },
    {
      "cell_type": "markdown",
      "source": [
        "## 1.2 Genere una tabla (tablaQA.xls) con las preguntas y respuestas de la organización seleccionada."
      ],
      "metadata": {
        "id": "cih2PxSMF0J9"
      }
    },
    {
      "cell_type": "markdown",
      "source": [
        "La tabla 'tablaQA.csv' consiste en una columna con pregunta y otra con respuestas. Como se observa en esta sección, la tabla consiste en 46 preguntas y sus respectivas respuestas.  "
      ],
      "metadata": {
        "id": "eSz2Yj9iiK9e"
      }
    },
    {
      "cell_type": "code",
      "source": [
        "!wget https://raw.githubusercontent.com/alvaro-neira/nlp-homework2/main/tablaQA.csv -O /content/tablaQA.csv"
      ],
      "metadata": {
        "colab": {
          "base_uri": "https://localhost:8080/"
        },
        "id": "b_fdDPowbPzD",
        "outputId": "b37e46fd-bb03-41c2-e0fa-5a319fe7fe38"
      },
      "execution_count": 4,
      "outputs": [
        {
          "output_type": "stream",
          "name": "stdout",
          "text": [
            "--2021-12-31 00:28:02--  https://raw.githubusercontent.com/alvaro-neira/nlp-homework2/main/tablaQA.csv\n",
            "Resolving raw.githubusercontent.com (raw.githubusercontent.com)... 185.199.109.133, 185.199.110.133, 185.199.111.133, ...\n",
            "Connecting to raw.githubusercontent.com (raw.githubusercontent.com)|185.199.109.133|:443... connected.\n",
            "HTTP request sent, awaiting response... 200 OK\n",
            "Length: 14591 (14K) [text/plain]\n",
            "Saving to: ‘/content/tablaQA.csv’\n",
            "\n",
            "\r/content/tablaQA.cs   0%[                    ]       0  --.-KB/s               \r/content/tablaQA.cs 100%[===================>]  14.25K  --.-KB/s    in 0s      \n",
            "\n",
            "2021-12-31 00:28:02 (52.9 MB/s) - ‘/content/tablaQA.csv’ saved [14591/14591]\n",
            "\n"
          ]
        }
      ]
    },
    {
      "cell_type": "code",
      "source": [
        "import pandas as pd\n",
        "qa = pd.read_csv('/content/tablaQA.csv', sep='\\t')\n",
        "qa.head()"
      ],
      "metadata": {
        "colab": {
          "base_uri": "https://localhost:8080/",
          "height": 206
        },
        "id": "Bw2lQ44cbjYa",
        "outputId": "06821878-fbed-41e9-c21f-2570c988b52e"
      },
      "execution_count": 7,
      "outputs": [
        {
          "output_type": "execute_result",
          "data": {
            "text/html": [
              "\n",
              "  <div id=\"df-702d7818-7b06-4c98-b054-b9fb06d21e22\">\n",
              "    <div class=\"colab-df-container\">\n",
              "      <div>\n",
              "<style scoped>\n",
              "    .dataframe tbody tr th:only-of-type {\n",
              "        vertical-align: middle;\n",
              "    }\n",
              "\n",
              "    .dataframe tbody tr th {\n",
              "        vertical-align: top;\n",
              "    }\n",
              "\n",
              "    .dataframe thead th {\n",
              "        text-align: right;\n",
              "    }\n",
              "</style>\n",
              "<table border=\"1\" class=\"dataframe\">\n",
              "  <thead>\n",
              "    <tr style=\"text-align: right;\">\n",
              "      <th></th>\n",
              "      <th>Pregunta</th>\n",
              "      <th>Respuesta</th>\n",
              "    </tr>\n",
              "  </thead>\n",
              "  <tbody>\n",
              "    <tr>\n",
              "      <th>0</th>\n",
              "      <td>¿Qué es la Orden de Transporte (OT)?</td>\n",
              "      <td>La Orden de Transporte (OT) es el número asoci...</td>\n",
              "    </tr>\n",
              "    <tr>\n",
              "      <th>1</th>\n",
              "      <td>¿Cuál es el plazo para retirar un envío desde ...</td>\n",
              "      <td>El plazo para retirar un envío desde una sucur...</td>\n",
              "    </tr>\n",
              "    <tr>\n",
              "      <th>2</th>\n",
              "      <td>¿Puede otra persona retirar mi envío de una su...</td>\n",
              "      <td>Para que una persona que no es el destinatario...</td>\n",
              "    </tr>\n",
              "    <tr>\n",
              "      <th>3</th>\n",
              "      <td>¿Se puede modificar la dirección de envío?</td>\n",
              "      <td>Sí, el cambio puede ser solicitado por el remi...</td>\n",
              "    </tr>\n",
              "    <tr>\n",
              "      <th>4</th>\n",
              "      <td>¿Puedo cambiar el destino del envío desde una ...</td>\n",
              "      <td>Sí, el cambio puede ser solicitado por el remi...</td>\n",
              "    </tr>\n",
              "  </tbody>\n",
              "</table>\n",
              "</div>\n",
              "      <button class=\"colab-df-convert\" onclick=\"convertToInteractive('df-702d7818-7b06-4c98-b054-b9fb06d21e22')\"\n",
              "              title=\"Convert this dataframe to an interactive table.\"\n",
              "              style=\"display:none;\">\n",
              "        \n",
              "  <svg xmlns=\"http://www.w3.org/2000/svg\" height=\"24px\"viewBox=\"0 0 24 24\"\n",
              "       width=\"24px\">\n",
              "    <path d=\"M0 0h24v24H0V0z\" fill=\"none\"/>\n",
              "    <path d=\"M18.56 5.44l.94 2.06.94-2.06 2.06-.94-2.06-.94-.94-2.06-.94 2.06-2.06.94zm-11 1L8.5 8.5l.94-2.06 2.06-.94-2.06-.94L8.5 2.5l-.94 2.06-2.06.94zm10 10l.94 2.06.94-2.06 2.06-.94-2.06-.94-.94-2.06-.94 2.06-2.06.94z\"/><path d=\"M17.41 7.96l-1.37-1.37c-.4-.4-.92-.59-1.43-.59-.52 0-1.04.2-1.43.59L10.3 9.45l-7.72 7.72c-.78.78-.78 2.05 0 2.83L4 21.41c.39.39.9.59 1.41.59.51 0 1.02-.2 1.41-.59l7.78-7.78 2.81-2.81c.8-.78.8-2.07 0-2.86zM5.41 20L4 18.59l7.72-7.72 1.47 1.35L5.41 20z\"/>\n",
              "  </svg>\n",
              "      </button>\n",
              "      \n",
              "  <style>\n",
              "    .colab-df-container {\n",
              "      display:flex;\n",
              "      flex-wrap:wrap;\n",
              "      gap: 12px;\n",
              "    }\n",
              "\n",
              "    .colab-df-convert {\n",
              "      background-color: #E8F0FE;\n",
              "      border: none;\n",
              "      border-radius: 50%;\n",
              "      cursor: pointer;\n",
              "      display: none;\n",
              "      fill: #1967D2;\n",
              "      height: 32px;\n",
              "      padding: 0 0 0 0;\n",
              "      width: 32px;\n",
              "    }\n",
              "\n",
              "    .colab-df-convert:hover {\n",
              "      background-color: #E2EBFA;\n",
              "      box-shadow: 0px 1px 2px rgba(60, 64, 67, 0.3), 0px 1px 3px 1px rgba(60, 64, 67, 0.15);\n",
              "      fill: #174EA6;\n",
              "    }\n",
              "\n",
              "    [theme=dark] .colab-df-convert {\n",
              "      background-color: #3B4455;\n",
              "      fill: #D2E3FC;\n",
              "    }\n",
              "\n",
              "    [theme=dark] .colab-df-convert:hover {\n",
              "      background-color: #434B5C;\n",
              "      box-shadow: 0px 1px 3px 1px rgba(0, 0, 0, 0.15);\n",
              "      filter: drop-shadow(0px 1px 2px rgba(0, 0, 0, 0.3));\n",
              "      fill: #FFFFFF;\n",
              "    }\n",
              "  </style>\n",
              "\n",
              "      <script>\n",
              "        const buttonEl =\n",
              "          document.querySelector('#df-702d7818-7b06-4c98-b054-b9fb06d21e22 button.colab-df-convert');\n",
              "        buttonEl.style.display =\n",
              "          google.colab.kernel.accessAllowed ? 'block' : 'none';\n",
              "\n",
              "        async function convertToInteractive(key) {\n",
              "          const element = document.querySelector('#df-702d7818-7b06-4c98-b054-b9fb06d21e22');\n",
              "          const dataTable =\n",
              "            await google.colab.kernel.invokeFunction('convertToInteractive',\n",
              "                                                     [key], {});\n",
              "          if (!dataTable) return;\n",
              "\n",
              "          const docLinkHtml = 'Like what you see? Visit the ' +\n",
              "            '<a target=\"_blank\" href=https://colab.research.google.com/notebooks/data_table.ipynb>data table notebook</a>'\n",
              "            + ' to learn more about interactive tables.';\n",
              "          element.innerHTML = '';\n",
              "          dataTable['output_type'] = 'display_data';\n",
              "          await google.colab.output.renderOutput(dataTable, element);\n",
              "          const docLink = document.createElement('div');\n",
              "          docLink.innerHTML = docLinkHtml;\n",
              "          element.appendChild(docLink);\n",
              "        }\n",
              "      </script>\n",
              "    </div>\n",
              "  </div>\n",
              "  "
            ],
            "text/plain": [
              "                                            Pregunta                                          Respuesta\n",
              "0               ¿Qué es la Orden de Transporte (OT)?  La Orden de Transporte (OT) es el número asoci...\n",
              "1  ¿Cuál es el plazo para retirar un envío desde ...  El plazo para retirar un envío desde una sucur...\n",
              "2  ¿Puede otra persona retirar mi envío de una su...  Para que una persona que no es el destinatario...\n",
              "3         ¿Se puede modificar la dirección de envío?  Sí, el cambio puede ser solicitado por el remi...\n",
              "4  ¿Puedo cambiar el destino del envío desde una ...  Sí, el cambio puede ser solicitado por el remi..."
            ]
          },
          "metadata": {},
          "execution_count": 7
        }
      ]
    },
    {
      "cell_type": "code",
      "source": [
        "qa.info()"
      ],
      "metadata": {
        "colab": {
          "base_uri": "https://localhost:8080/"
        },
        "id": "BdgNtDGyb608",
        "outputId": "5784eb11-03ac-4fa3-aca2-98a04ae7f7af"
      },
      "execution_count": null,
      "outputs": [
        {
          "output_type": "stream",
          "name": "stdout",
          "text": [
            "<class 'pandas.core.frame.DataFrame'>\n",
            "RangeIndex: 46 entries, 0 to 45\n",
            "Data columns (total 2 columns):\n",
            " #   Column     Non-Null Count  Dtype \n",
            "---  ------     --------------  ----- \n",
            " 0   Pregunta   46 non-null     object\n",
            " 1   Respuesta  46 non-null     object\n",
            "dtypes: object(2)\n",
            "memory usage: 864.0+ bytes\n"
          ]
        }
      ]
    },
    {
      "cell_type": "markdown",
      "source": [
        "## 1.3 Genere una tabla (tiposmensajes.xls) con ejemplos de las siguientes clases de mensaje: \"saludo\", \"despedida\", \"nombre\", \"informacion\""
      ],
      "metadata": {
        "id": "Dxd1ZhwnGBzn"
      }
    },
    {
      "cell_type": "markdown",
      "source": [
        "La siguiente tabla corresponde a las preguntas de la sección QA de Chilexpress con la clase \"información\" y se han inventado los ejemplos de las clases \"saludo\", \"despedida\" y \"nombre\"."
      ],
      "metadata": {
        "id": "tsoGoFPcN6bb"
      }
    },
    {
      "cell_type": "code",
      "source": [
        "!wget https://raw.githubusercontent.com/alvaro-neira/nlp-homework2/main/tiposmensajes.csv -O /content/tiposmensajes.csv"
      ],
      "metadata": {
        "colab": {
          "base_uri": "https://localhost:8080/"
        },
        "id": "igsR0QmXN3d8",
        "outputId": "59b890ea-e5ec-420f-e9bb-4c8000d4f1f2"
      },
      "execution_count": 5,
      "outputs": [
        {
          "output_type": "stream",
          "name": "stdout",
          "text": [
            "--2021-12-31 00:28:06--  https://raw.githubusercontent.com/alvaro-neira/nlp-homework2/main/tiposmensajes.csv\n",
            "Resolving raw.githubusercontent.com (raw.githubusercontent.com)... 185.199.109.133, 185.199.110.133, 185.199.108.133, ...\n",
            "Connecting to raw.githubusercontent.com (raw.githubusercontent.com)|185.199.109.133|:443... connected.\n",
            "HTTP request sent, awaiting response... 200 OK\n",
            "Length: 7505 (7.3K) [text/plain]\n",
            "Saving to: ‘/content/tiposmensajes.csv’\n",
            "\n",
            "\r          /content/   0%[                    ]       0  --.-KB/s               \r/content/tiposmensa 100%[===================>]   7.33K  --.-KB/s    in 0s      \n",
            "\n",
            "2021-12-31 00:28:06 (67.9 MB/s) - ‘/content/tiposmensajes.csv’ saved [7505/7505]\n",
            "\n"
          ]
        }
      ]
    },
    {
      "cell_type": "code",
      "source": [
        "messages = pd.read_csv('/content/tiposmensajes.csv', sep=';')\n",
        "messages.head()"
      ],
      "metadata": {
        "colab": {
          "base_uri": "https://localhost:8080/",
          "height": 206
        },
        "id": "SfaFFiPLOD85",
        "outputId": "460900fc-3c41-4954-a8a8-6501680040ff"
      },
      "execution_count": 8,
      "outputs": [
        {
          "output_type": "execute_result",
          "data": {
            "text/html": [
              "\n",
              "  <div id=\"df-0551b0be-c091-48be-a755-f216f17fee16\">\n",
              "    <div class=\"colab-df-container\">\n",
              "      <div>\n",
              "<style scoped>\n",
              "    .dataframe tbody tr th:only-of-type {\n",
              "        vertical-align: middle;\n",
              "    }\n",
              "\n",
              "    .dataframe tbody tr th {\n",
              "        vertical-align: top;\n",
              "    }\n",
              "\n",
              "    .dataframe thead th {\n",
              "        text-align: right;\n",
              "    }\n",
              "</style>\n",
              "<table border=\"1\" class=\"dataframe\">\n",
              "  <thead>\n",
              "    <tr style=\"text-align: right;\">\n",
              "      <th></th>\n",
              "      <th>Clase</th>\n",
              "      <th>Mensaje</th>\n",
              "    </tr>\n",
              "  </thead>\n",
              "  <tbody>\n",
              "    <tr>\n",
              "      <th>0</th>\n",
              "      <td>saludo</td>\n",
              "      <td>Hola</td>\n",
              "    </tr>\n",
              "    <tr>\n",
              "      <th>1</th>\n",
              "      <td>saludo</td>\n",
              "      <td>Buenas noches</td>\n",
              "    </tr>\n",
              "    <tr>\n",
              "      <th>2</th>\n",
              "      <td>saludo</td>\n",
              "      <td>Buenos días</td>\n",
              "    </tr>\n",
              "    <tr>\n",
              "      <th>3</th>\n",
              "      <td>saludo</td>\n",
              "      <td>Buen día</td>\n",
              "    </tr>\n",
              "    <tr>\n",
              "      <th>4</th>\n",
              "      <td>saludo</td>\n",
              "      <td>Buen Lunes</td>\n",
              "    </tr>\n",
              "  </tbody>\n",
              "</table>\n",
              "</div>\n",
              "      <button class=\"colab-df-convert\" onclick=\"convertToInteractive('df-0551b0be-c091-48be-a755-f216f17fee16')\"\n",
              "              title=\"Convert this dataframe to an interactive table.\"\n",
              "              style=\"display:none;\">\n",
              "        \n",
              "  <svg xmlns=\"http://www.w3.org/2000/svg\" height=\"24px\"viewBox=\"0 0 24 24\"\n",
              "       width=\"24px\">\n",
              "    <path d=\"M0 0h24v24H0V0z\" fill=\"none\"/>\n",
              "    <path d=\"M18.56 5.44l.94 2.06.94-2.06 2.06-.94-2.06-.94-.94-2.06-.94 2.06-2.06.94zm-11 1L8.5 8.5l.94-2.06 2.06-.94-2.06-.94L8.5 2.5l-.94 2.06-2.06.94zm10 10l.94 2.06.94-2.06 2.06-.94-2.06-.94-.94-2.06-.94 2.06-2.06.94z\"/><path d=\"M17.41 7.96l-1.37-1.37c-.4-.4-.92-.59-1.43-.59-.52 0-1.04.2-1.43.59L10.3 9.45l-7.72 7.72c-.78.78-.78 2.05 0 2.83L4 21.41c.39.39.9.59 1.41.59.51 0 1.02-.2 1.41-.59l7.78-7.78 2.81-2.81c.8-.78.8-2.07 0-2.86zM5.41 20L4 18.59l7.72-7.72 1.47 1.35L5.41 20z\"/>\n",
              "  </svg>\n",
              "      </button>\n",
              "      \n",
              "  <style>\n",
              "    .colab-df-container {\n",
              "      display:flex;\n",
              "      flex-wrap:wrap;\n",
              "      gap: 12px;\n",
              "    }\n",
              "\n",
              "    .colab-df-convert {\n",
              "      background-color: #E8F0FE;\n",
              "      border: none;\n",
              "      border-radius: 50%;\n",
              "      cursor: pointer;\n",
              "      display: none;\n",
              "      fill: #1967D2;\n",
              "      height: 32px;\n",
              "      padding: 0 0 0 0;\n",
              "      width: 32px;\n",
              "    }\n",
              "\n",
              "    .colab-df-convert:hover {\n",
              "      background-color: #E2EBFA;\n",
              "      box-shadow: 0px 1px 2px rgba(60, 64, 67, 0.3), 0px 1px 3px 1px rgba(60, 64, 67, 0.15);\n",
              "      fill: #174EA6;\n",
              "    }\n",
              "\n",
              "    [theme=dark] .colab-df-convert {\n",
              "      background-color: #3B4455;\n",
              "      fill: #D2E3FC;\n",
              "    }\n",
              "\n",
              "    [theme=dark] .colab-df-convert:hover {\n",
              "      background-color: #434B5C;\n",
              "      box-shadow: 0px 1px 3px 1px rgba(0, 0, 0, 0.15);\n",
              "      filter: drop-shadow(0px 1px 2px rgba(0, 0, 0, 0.3));\n",
              "      fill: #FFFFFF;\n",
              "    }\n",
              "  </style>\n",
              "\n",
              "      <script>\n",
              "        const buttonEl =\n",
              "          document.querySelector('#df-0551b0be-c091-48be-a755-f216f17fee16 button.colab-df-convert');\n",
              "        buttonEl.style.display =\n",
              "          google.colab.kernel.accessAllowed ? 'block' : 'none';\n",
              "\n",
              "        async function convertToInteractive(key) {\n",
              "          const element = document.querySelector('#df-0551b0be-c091-48be-a755-f216f17fee16');\n",
              "          const dataTable =\n",
              "            await google.colab.kernel.invokeFunction('convertToInteractive',\n",
              "                                                     [key], {});\n",
              "          if (!dataTable) return;\n",
              "\n",
              "          const docLinkHtml = 'Like what you see? Visit the ' +\n",
              "            '<a target=\"_blank\" href=https://colab.research.google.com/notebooks/data_table.ipynb>data table notebook</a>'\n",
              "            + ' to learn more about interactive tables.';\n",
              "          element.innerHTML = '';\n",
              "          dataTable['output_type'] = 'display_data';\n",
              "          await google.colab.output.renderOutput(dataTable, element);\n",
              "          const docLink = document.createElement('div');\n",
              "          docLink.innerHTML = docLinkHtml;\n",
              "          element.appendChild(docLink);\n",
              "        }\n",
              "      </script>\n",
              "    </div>\n",
              "  </div>\n",
              "  "
            ],
            "text/plain": [
              "    Clase        Mensaje\n",
              "0  saludo           Hola\n",
              "1  saludo  Buenas noches\n",
              "2  saludo    Buenos días\n",
              "3  saludo       Buen día\n",
              "4  saludo     Buen Lunes"
            ]
          },
          "metadata": {},
          "execution_count": 8
        }
      ]
    },
    {
      "cell_type": "markdown",
      "source": [
        "## 1.4 Genere respuestas predeterminadas (respuestasDefecto.xls) para los mensajes de tipo \"saludo\", \"despedida\", \"nombre\""
      ],
      "metadata": {
        "id": "ozGp6P_TGU0r"
      }
    },
    {
      "cell_type": "markdown",
      "source": [
        "Se generan respuestas por defecto para cada clase que hemos inventado, de esta forma, Eva puede responder a una pregunta de esta clase con una de las respuestas de esta lista. "
      ],
      "metadata": {
        "id": "n8152WqnQWdh"
      }
    },
    {
      "cell_type": "code",
      "source": [
        "!wget https://raw.githubusercontent.com/alvaro-neira/nlp-homework2/main/respuestasDefecto.csv -O /content/respuestasDefecto.csv"
      ],
      "metadata": {
        "colab": {
          "base_uri": "https://localhost:8080/"
        },
        "id": "bXuKEL2SP8PT",
        "outputId": "d076cbe0-b284-48a0-b70a-be11d987d931"
      },
      "execution_count": null,
      "outputs": [
        {
          "output_type": "stream",
          "name": "stdout",
          "text": [
            "--2021-12-31 00:00:35--  https://raw.githubusercontent.com/alvaro-neira/nlp-homework2/main/respuestasDefecto.csv\n",
            "Resolving raw.githubusercontent.com (raw.githubusercontent.com)... 185.199.108.133, 185.199.109.133, 185.199.110.133, ...\n",
            "Connecting to raw.githubusercontent.com (raw.githubusercontent.com)|185.199.108.133|:443... connected.\n",
            "HTTP request sent, awaiting response... 200 OK\n",
            "Length: 2281 (2.2K) [text/plain]\n",
            "Saving to: ‘/content/respuestasDefecto.csv’\n",
            "\n",
            "\r          /content/   0%[                    ]       0  --.-KB/s               \r/content/respuestas 100%[===================>]   2.23K  --.-KB/s    in 0s      \n",
            "\n",
            "2021-12-31 00:00:35 (47.8 MB/s) - ‘/content/respuestasDefecto.csv’ saved [2281/2281]\n",
            "\n"
          ]
        }
      ]
    },
    {
      "cell_type": "code",
      "source": [
        "answers = pd.read_csv('/content/respuestasDefecto.csv', sep=';')\n",
        "answers.head()"
      ],
      "metadata": {
        "colab": {
          "base_uri": "https://localhost:8080/",
          "height": 206
        },
        "id": "FsGsYLnTQ9Ya",
        "outputId": "e1585d37-408d-41fc-94d1-ed7f1d4eee53"
      },
      "execution_count": null,
      "outputs": [
        {
          "output_type": "execute_result",
          "data": {
            "text/html": [
              "\n",
              "  <div id=\"df-7026d3fd-9e85-4726-9e73-efb6df434ca9\">\n",
              "    <div class=\"colab-df-container\">\n",
              "      <div>\n",
              "<style scoped>\n",
              "    .dataframe tbody tr th:only-of-type {\n",
              "        vertical-align: middle;\n",
              "    }\n",
              "\n",
              "    .dataframe tbody tr th {\n",
              "        vertical-align: top;\n",
              "    }\n",
              "\n",
              "    .dataframe thead th {\n",
              "        text-align: right;\n",
              "    }\n",
              "</style>\n",
              "<table border=\"1\" class=\"dataframe\">\n",
              "  <thead>\n",
              "    <tr style=\"text-align: right;\">\n",
              "      <th></th>\n",
              "      <th>Clase</th>\n",
              "      <th>Mensaje</th>\n",
              "    </tr>\n",
              "  </thead>\n",
              "  <tbody>\n",
              "    <tr>\n",
              "      <th>0</th>\n",
              "      <td>saludo</td>\n",
              "      <td>Hola, ¿en qué puedo ayudarte?</td>\n",
              "    </tr>\n",
              "    <tr>\n",
              "      <th>1</th>\n",
              "      <td>saludo</td>\n",
              "      <td>Hola, ¿en qué puedo ayudarlo?</td>\n",
              "    </tr>\n",
              "    <tr>\n",
              "      <th>2</th>\n",
              "      <td>saludo</td>\n",
              "      <td>Hola, cuéntame qué necesitas</td>\n",
              "    </tr>\n",
              "    <tr>\n",
              "      <th>3</th>\n",
              "      <td>saludo</td>\n",
              "      <td>Hola, cuénteme qué necesita</td>\n",
              "    </tr>\n",
              "    <tr>\n",
              "      <th>4</th>\n",
              "      <td>saludo</td>\n",
              "      <td>Hola, cuéntame en qué puedo ayudarte</td>\n",
              "    </tr>\n",
              "  </tbody>\n",
              "</table>\n",
              "</div>\n",
              "      <button class=\"colab-df-convert\" onclick=\"convertToInteractive('df-7026d3fd-9e85-4726-9e73-efb6df434ca9')\"\n",
              "              title=\"Convert this dataframe to an interactive table.\"\n",
              "              style=\"display:none;\">\n",
              "        \n",
              "  <svg xmlns=\"http://www.w3.org/2000/svg\" height=\"24px\"viewBox=\"0 0 24 24\"\n",
              "       width=\"24px\">\n",
              "    <path d=\"M0 0h24v24H0V0z\" fill=\"none\"/>\n",
              "    <path d=\"M18.56 5.44l.94 2.06.94-2.06 2.06-.94-2.06-.94-.94-2.06-.94 2.06-2.06.94zm-11 1L8.5 8.5l.94-2.06 2.06-.94-2.06-.94L8.5 2.5l-.94 2.06-2.06.94zm10 10l.94 2.06.94-2.06 2.06-.94-2.06-.94-.94-2.06-.94 2.06-2.06.94z\"/><path d=\"M17.41 7.96l-1.37-1.37c-.4-.4-.92-.59-1.43-.59-.52 0-1.04.2-1.43.59L10.3 9.45l-7.72 7.72c-.78.78-.78 2.05 0 2.83L4 21.41c.39.39.9.59 1.41.59.51 0 1.02-.2 1.41-.59l7.78-7.78 2.81-2.81c.8-.78.8-2.07 0-2.86zM5.41 20L4 18.59l7.72-7.72 1.47 1.35L5.41 20z\"/>\n",
              "  </svg>\n",
              "      </button>\n",
              "      \n",
              "  <style>\n",
              "    .colab-df-container {\n",
              "      display:flex;\n",
              "      flex-wrap:wrap;\n",
              "      gap: 12px;\n",
              "    }\n",
              "\n",
              "    .colab-df-convert {\n",
              "      background-color: #E8F0FE;\n",
              "      border: none;\n",
              "      border-radius: 50%;\n",
              "      cursor: pointer;\n",
              "      display: none;\n",
              "      fill: #1967D2;\n",
              "      height: 32px;\n",
              "      padding: 0 0 0 0;\n",
              "      width: 32px;\n",
              "    }\n",
              "\n",
              "    .colab-df-convert:hover {\n",
              "      background-color: #E2EBFA;\n",
              "      box-shadow: 0px 1px 2px rgba(60, 64, 67, 0.3), 0px 1px 3px 1px rgba(60, 64, 67, 0.15);\n",
              "      fill: #174EA6;\n",
              "    }\n",
              "\n",
              "    [theme=dark] .colab-df-convert {\n",
              "      background-color: #3B4455;\n",
              "      fill: #D2E3FC;\n",
              "    }\n",
              "\n",
              "    [theme=dark] .colab-df-convert:hover {\n",
              "      background-color: #434B5C;\n",
              "      box-shadow: 0px 1px 3px 1px rgba(0, 0, 0, 0.15);\n",
              "      filter: drop-shadow(0px 1px 2px rgba(0, 0, 0, 0.3));\n",
              "      fill: #FFFFFF;\n",
              "    }\n",
              "  </style>\n",
              "\n",
              "      <script>\n",
              "        const buttonEl =\n",
              "          document.querySelector('#df-7026d3fd-9e85-4726-9e73-efb6df434ca9 button.colab-df-convert');\n",
              "        buttonEl.style.display =\n",
              "          google.colab.kernel.accessAllowed ? 'block' : 'none';\n",
              "\n",
              "        async function convertToInteractive(key) {\n",
              "          const element = document.querySelector('#df-7026d3fd-9e85-4726-9e73-efb6df434ca9');\n",
              "          const dataTable =\n",
              "            await google.colab.kernel.invokeFunction('convertToInteractive',\n",
              "                                                     [key], {});\n",
              "          if (!dataTable) return;\n",
              "\n",
              "          const docLinkHtml = 'Like what you see? Visit the ' +\n",
              "            '<a target=\"_blank\" href=https://colab.research.google.com/notebooks/data_table.ipynb>data table notebook</a>'\n",
              "            + ' to learn more about interactive tables.';\n",
              "          element.innerHTML = '';\n",
              "          dataTable['output_type'] = 'display_data';\n",
              "          await google.colab.output.renderOutput(dataTable, element);\n",
              "          const docLink = document.createElement('div');\n",
              "          docLink.innerHTML = docLinkHtml;\n",
              "          element.appendChild(docLink);\n",
              "        }\n",
              "      </script>\n",
              "    </div>\n",
              "  </div>\n",
              "  "
            ],
            "text/plain": [
              "    Clase                               Mensaje\n",
              "0  saludo         Hola, ¿en qué puedo ayudarte?\n",
              "1  saludo         Hola, ¿en qué puedo ayudarlo?\n",
              "2  saludo          Hola, cuéntame qué necesitas\n",
              "3  saludo           Hola, cuénteme qué necesita\n",
              "4  saludo  Hola, cuéntame en qué puedo ayudarte"
            ]
          },
          "metadata": {},
          "execution_count": 7
        }
      ]
    },
    {
      "cell_type": "markdown",
      "source": [
        "## 1.5 Describa en términos generales las tablas que construyó."
      ],
      "metadata": {
        "id": "kjLZLGDTGvZ6"
      }
    },
    {
      "cell_type": "markdown",
      "source": [
        "\n",
        "\n",
        "*   Tabla QA: Se construyó en base a las preguntas y respuestas del centro de ayuda de Chilexpress https://centrodeayuda.chilexpress.cl/home . Se extrajo cada pregunta y respuesta de cada categoría (Envíos Nacionales, Envíos y retiros en App, Envíos internacionales, Giros en Chile y el mundo, Atención en sucursal, Cuenta empresa) y se eliminaron las preguntas repetidas. \n",
        "*   Tipos de mensajes: se construyó con mensajes tipo de saludo, despedida y nombre. Para la información se utilizó las preguntas obtenidas en la Tabla QA.\n",
        "*   Respuestas por defecto: se construyó con respuestas tipo de saludo, despedida y nombre de nuestro bot Eva.\n",
        "\n"
      ],
      "metadata": {
        "id": "DFkQxa-iRYcr"
      }
    },
    {
      "cell_type": "markdown",
      "source": [
        "# 2. Análisis de distancia"
      ],
      "metadata": {
        "id": "kQCgD-fNFWZ3"
      }
    },
    {
      "cell_type": "markdown",
      "source": [
        "Para el primer chatbot utilizará una métrica de su elección para responder\n",
        "a cada pregunta/texto del usuario."
      ],
      "metadata": {
        "id": "I9aCVeAjG6-j"
      }
    },
    {
      "cell_type": "markdown",
      "source": [
        "## 2.1 Utilice algún embeddings utilizado en el curso para codificar el texto de entrada"
      ],
      "metadata": {
        "id": "lJat6tmEG-_g"
      }
    },
    {
      "cell_type": "markdown",
      "source": [
        "### 2.1.1 Word2Vec"
      ],
      "metadata": {
        "id": "QkpU-dumwfg9"
      }
    },
    {
      "cell_type": "markdown",
      "source": [
        "El embedding utilizado para codificar el texto de entrada es Wor2Vec. Para ello, primero se preprocesa con un normalizador y un tokenizador. "
      ],
      "metadata": {
        "id": "4AWmpjo8RUVM"
      }
    },
    {
      "cell_type": "code",
      "source": [
        "import nltk\n",
        "import gensim\n",
        "import re\n",
        "import pandas as pd\n",
        "import sklearn\n",
        "import numpy as np\n",
        "\n",
        "import sklearn.linear_model\n",
        "import sklearn.model_selection\n",
        "from sklearn.svm import LinearSVC\n",
        "from sklearn.pipeline import make_pipeline\n",
        "from sklearn.preprocessing import StandardScaler"
      ],
      "metadata": {
        "id": "bwY8pldbS2_u"
      },
      "execution_count": null,
      "outputs": []
    },
    {
      "cell_type": "code",
      "source": [
        "def normalizer(text): #normalizes a given string to lowercase and changes all vowels to their base form\n",
        "    text = text.lower() #string lowering\n",
        "    text = re.sub(r'[^A-Za-zñáéíóú]', ' ', text) #replaces every punctuation with a space\n",
        "    text = re.sub('á', 'a', text) #replaces special vowels to their base forms\n",
        "    text = re.sub('é', 'e', text)\n",
        "    text = re.sub('í', 'i', text)\n",
        "    text = re.sub('ó', 'o', text)\n",
        "    text = re.sub('ú', 'u', text)\n",
        "    return text\n",
        "\n",
        "def preprocessor(text):\n",
        "  text = normalizer(text)\n",
        "  tokens = nltk.tokenize.casual_tokenize(text)\n",
        "  #if len(tokens)==1:\n",
        "  #  tokens=text\n",
        "  return tokens\n",
        "\n",
        "def vectorizer(text, model): #returns a vector representation from a list of words and a given model\n",
        "    vectors = []\n",
        "    for i in text:\n",
        "        try:\n",
        "            vectors.append(model.wv[i])\n",
        "        except:\n",
        "            pass\n",
        "    return(np.nan_to_num(np.mean(vectors,axis=0)))"
      ],
      "metadata": {
        "id": "QJJ5MgBsS8Ca"
      },
      "execution_count": null,
      "outputs": []
    },
    {
      "cell_type": "code",
      "source": [
        "corpus = messages.Mensaje.tolist()\n",
        "corpus_preprocessed = list(map(preprocessor,corpus))\n"
      ],
      "metadata": {
        "id": "NfZYkhRoU0-F"
      },
      "execution_count": null,
      "outputs": []
    },
    {
      "cell_type": "code",
      "source": [
        "word2vec_model = gensim.models.word2vec.Word2Vec(sentences = corpus_preprocessed, min_count=1)"
      ],
      "metadata": {
        "id": "EaEAIqHFbMF0"
      },
      "execution_count": null,
      "outputs": []
    },
    {
      "cell_type": "markdown",
      "source": [
        "## 2.2 Con el texto de entrada codificado y usando embeddings proponga una manera de identificar la clase del texto de entrada."
      ],
      "metadata": {
        "id": "acCU7jNxHFUN"
      }
    },
    {
      "cell_type": "markdown",
      "source": [
        "Se define la función para predecir la clase del texto de entrada. "
      ],
      "metadata": {
        "id": "jfbC9lB9X2NA"
      }
    },
    {
      "cell_type": "markdown",
      "source": [
        "### 2.2.1 Word2Vec"
      ],
      "metadata": {
        "id": "oc9gAcTAnL-x"
      }
    },
    {
      "cell_type": "markdown",
      "source": [
        "Se ajusta el modelo con los mensajes preprocesados. "
      ],
      "metadata": {
        "id": "kPEv9q58YNoX"
      }
    },
    {
      "cell_type": "code",
      "source": [
        "features = np.zeros(shape=(len(messages), word2vec_model.wv.vectors.shape[1]))\n",
        "for i,msg in enumerate(messages.Mensaje):\n",
        "  features[i,:] = vectorizer(preprocessor(msg), word2vec_model)\n",
        "\n",
        "cv_results = sklearn.model_selection.cross_validate(sklearn.linear_model.LogisticRegression(max_iter=10000),features,messages.Clase)\n",
        "cv_results[\"test_score\"].mean()"
      ],
      "metadata": {
        "colab": {
          "base_uri": "https://localhost:8080/"
        },
        "id": "NIRKBuHyVV8k",
        "outputId": "58880a52-5097-4674-87c7-0998e9158630"
      },
      "execution_count": null,
      "outputs": [
        {
          "output_type": "execute_result",
          "data": {
            "text/plain": [
              "0.5010510510510511"
            ]
          },
          "metadata": {},
          "execution_count": 12
        }
      ]
    },
    {
      "cell_type": "code",
      "source": [
        "def predict_class(question):\n",
        "  tokens = preprocessor(question)\n",
        "  vector = vectorizer(tokens, word2vec_model).reshape(1, -1)\n",
        "  return clf.predict(vector)"
      ],
      "metadata": {
        "id": "W89Jfer1xd4D"
      },
      "execution_count": null,
      "outputs": []
    },
    {
      "cell_type": "code",
      "source": [
        "clf = make_pipeline(StandardScaler(),LinearSVC(random_state=0, tol=1e-5))\n",
        "clf.fit(features,np.array(messages.Clase))"
      ],
      "metadata": {
        "colab": {
          "base_uri": "https://localhost:8080/"
        },
        "id": "gPDU514jYCkB",
        "outputId": "410fe4f0-703d-412f-d346-376dc7e0bbfe"
      },
      "execution_count": null,
      "outputs": [
        {
          "output_type": "execute_result",
          "data": {
            "text/plain": [
              "Pipeline(steps=[('standardscaler', StandardScaler()),\n",
              "                ('linearsvc', LinearSVC(random_state=0, tol=1e-05))])"
            ]
          },
          "metadata": {},
          "execution_count": 14
        }
      ]
    },
    {
      "cell_type": "markdown",
      "source": [
        "Ejemplo de las preguntas y las clases obtenidas para cada una de ellas con el modelo. "
      ],
      "metadata": {
        "id": "llcuMh-HZSgP"
      }
    },
    {
      "cell_type": "code",
      "source": [
        "print(predict_class('¿Sólo las empresas pueden tener una cuenta con Chilexpress?'))\n",
        "print(predict_class('Mi nombre es'))\n",
        "print(predict_class('hola buenas'))\n",
        "print(predict_class('hola'))\n",
        "print(predict_class('¿puedo retirar un giro de dinero?'))\n",
        "print(predict_class('Puede otra persona retirar mi pedido'))\n",
        "print(predict_class('hasta luego'))\n",
        "print(predict_class('adios'))"
      ],
      "metadata": {
        "colab": {
          "base_uri": "https://localhost:8080/"
        },
        "id": "FCXJ9dgVYZtF",
        "outputId": "fcf8b74f-5c10-45a4-a8c3-880976a685a5"
      },
      "execution_count": null,
      "outputs": [
        {
          "output_type": "stream",
          "name": "stdout",
          "text": [
            "['información']\n",
            "['nombre']\n",
            "['saludo']\n",
            "['saludo']\n",
            "['información']\n",
            "['información']\n",
            "['despedida']\n",
            "['despedida']\n"
          ]
        }
      ]
    },
    {
      "cell_type": "markdown",
      "source": [
        "## 2.3 Si el texto de entrada es del tipo \"información”, busque ahora la pregunta mas similar y retorne la respuesta asociada."
      ],
      "metadata": {
        "id": "PXxNCsxwHKKi"
      }
    },
    {
      "cell_type": "markdown",
      "source": [
        "Primero, se preprocesa el texto de la misma forma que en el punto anterior, pero se agrega la eliminación de stopwords. "
      ],
      "metadata": {
        "id": "IHjSd69QZeNY"
      }
    },
    {
      "cell_type": "code",
      "source": [
        "import nltk\n",
        "\n",
        "nltk.download('punkt')\n",
        "nltk.download('stopwords')"
      ],
      "metadata": {
        "colab": {
          "base_uri": "https://localhost:8080/"
        },
        "id": "bdfwR9NXFP_n",
        "outputId": "12707ddd-d576-4045-b5ef-c62efda963b2"
      },
      "execution_count": null,
      "outputs": [
        {
          "output_type": "stream",
          "name": "stdout",
          "text": [
            "[nltk_data] Downloading package punkt to /root/nltk_data...\n",
            "[nltk_data]   Unzipping tokenizers/punkt.zip.\n",
            "[nltk_data] Downloading package stopwords to /root/nltk_data...\n",
            "[nltk_data]   Unzipping corpora/stopwords.zip.\n"
          ]
        },
        {
          "output_type": "execute_result",
          "data": {
            "text/plain": [
              "True"
            ]
          },
          "metadata": {},
          "execution_count": 16
        }
      ]
    },
    {
      "cell_type": "code",
      "source": [
        "pattern = r\"\"\"(?x)                   # set flag to allow verbose regexps\n",
        "              (?:[A-Z]\\.)+           # abbreviations, e.g. U.S.A.\n",
        "              |\\$?\\d+(?:[.,]\\d+)?%?  # numbers, incl. currency and percentages\n",
        "              |\\w+(?:[-']\\w+)*       # words w/ optional internal hyphens/apostrophe\n",
        "              |(?:[+/\\-@&*¡!.,])     # special characters with meanings\n",
        "            \"\"\"\n",
        "\n",
        "def normalizer(text, remove_tildes = True): #normalizes a given string to lowercase and changes all vowels to their base form\n",
        "    text = text.lower() #string lowering\n",
        "    text = re.sub(r'[^A-Za-zñáéíóú]', ' ', text) #replaces every punctuation with a space\n",
        "    text = nltk.regexp_tokenize(text, pattern)\n",
        "    text = ' '.join(text)\n",
        "    if remove_tildes:\n",
        "        text = re.sub('á', 'a', text) #replaces special vowels to their base forms\n",
        "        text = re.sub('é', 'e', text)\n",
        "        text = re.sub('í', 'i', text)\n",
        "        text = re.sub('ó', 'o', text)\n",
        "        text = re.sub('ú', 'u', text)\n",
        "    return text"
      ],
      "metadata": {
        "id": "w6K8S1c2FTta"
      },
      "execution_count": null,
      "outputs": []
    },
    {
      "cell_type": "code",
      "source": [
        "nltk_stopwords = nltk.corpus.stopwords.words('spanish')\n",
        "stopwords_normalized = [normalizer(word) for word in nltk_stopwords]\n",
        "\n",
        "def no_stopwords(processed):\n",
        "  '''\n",
        "  Función para eliminar las stopwords de un texto\n",
        "  '''\n",
        "  result = []\n",
        "  for w in processed:\n",
        "    if w not in stopwords_normalized:\n",
        "      result.append(w)\n",
        "\n",
        "  return result"
      ],
      "metadata": {
        "id": "wN1jmmTLFV-1"
      },
      "execution_count": null,
      "outputs": []
    },
    {
      "cell_type": "code",
      "source": [
        "corpus_question = qa.Pregunta.tolist()\n",
        "questions_processed = []\n",
        "for question in corpus_question:\n",
        "  pre = preprocessor(question)\n",
        "  pre = no_stopwords(pre)\n",
        "  questions_processed.append(' '.join(pre))"
      ],
      "metadata": {
        "id": "tM67W7T_FYM7"
      },
      "execution_count": null,
      "outputs": []
    },
    {
      "cell_type": "markdown",
      "source": [
        "Ejemplo de las preguntas preprocesadas."
      ],
      "metadata": {
        "id": "KEGXhxBwa10P"
      }
    },
    {
      "cell_type": "code",
      "source": [
        "questions_processed[:5]"
      ],
      "metadata": {
        "colab": {
          "base_uri": "https://localhost:8080/"
        },
        "id": "OfPhj4aqL6B0",
        "outputId": "7fab34db-eb57-4803-9a7b-554c857f2eb7"
      },
      "execution_count": null,
      "outputs": [
        {
          "output_type": "execute_result",
          "data": {
            "text/plain": [
              "['orden transporte ot',\n",
              " 'plazo retirar envio sucursal chilexpress',\n",
              " 'puede persona retirar envio sucursal chilexpress',\n",
              " 'puede modificar direccion envio',\n",
              " 'puedo cambiar destino envio direccion particular sucursal chilexpress']"
            ]
          },
          "metadata": {},
          "execution_count": 20
        }
      ]
    },
    {
      "cell_type": "markdown",
      "source": [
        "En esta sección se realiza una modificación del modelo Word2Vec para utilizar Doc2Vec para identificar la pregunta en la base de datos que sea más similar a la que se ha preguntado.\n",
        "\n",
        "Referencias: \n",
        "* https://www.linkedin.com/pulse/how-find-semantic-similar-sentences-from-your-dataset-jayaraman/\n",
        "* https://radimrehurek.com/gensim/models/doc2vec.html"
      ],
      "metadata": {
        "id": "e6WE5mvJFk_E"
      }
    },
    {
      "cell_type": "code",
      "source": [
        "# <1 min\n",
        "from gensim.models.doc2vec import Doc2Vec, TaggedDocument\n",
        "from nltk.tokenize import word_tokenize\n",
        "\n",
        "tagged_data = [TaggedDocument(words=word_tokenize(_d.lower()), tags=[str(i)]) for i, _d in enumerate(questions_processed)]\n",
        "\n",
        "max_epochs = 2000\n",
        "\n",
        "doc2_model = Doc2Vec(\n",
        "    vector_size=150,\n",
        "    alpha=0.001, \n",
        "    min_alpha=0.002,\n",
        "    dm=1,\n",
        "    window=2,\n",
        "    min_count=1,\n",
        "    workers=4\n",
        ")\n",
        "doc2_model.build_vocab(tagged_data)\n",
        "\n",
        "# Train the model based on epochs parameter\n",
        "for epoch in range(max_epochs):\n",
        "    doc2_model.train(tagged_data,\n",
        "                total_examples=doc2_model.corpus_count,\n",
        "                epochs=doc2_model.epochs)\n",
        "\n",
        "# Save model. \n",
        "doc2_model.save(\"similar_sentence.doc2_model\")"
      ],
      "metadata": {
        "id": "gYAF66wrFi2F"
      },
      "execution_count": null,
      "outputs": []
    },
    {
      "cell_type": "markdown",
      "source": [
        "Se crea una función get_answer que entrega la respuesta asociada a la predicción con el modelo doc2vec. Recibe tres parámetros:\n",
        "* question: la pregunta que se espera obtener la respuesta. (requerida)\n",
        "* topn: top n mejores resultados encontrados. (opcional)\n",
        "* debug: Verdadero para imprimir más detalles de los resultados. (opcional)"
      ],
      "metadata": {
        "id": "c-kdLo7nt_zi"
      }
    },
    {
      "cell_type": "code",
      "source": [
        "doc2_model= Doc2Vec.load(\"similar_sentence.doc2_model\")\n",
        "\n",
        "def get_answer(question, topn=1, debug=False):\n",
        "  tokens = preprocessor(question)\n",
        "  tokens = no_stopwords(tokens)\n",
        "  vector = doc2_model.infer_vector(tokens)\n",
        "  most_similar = doc2_model.docvecs.most_similar([vector], topn=topn)\n",
        "  list_answers = qa.Respuesta.tolist()\n",
        "  top = 1\n",
        "  for index,value in most_similar:\n",
        "    log = \"\"\"\n",
        "    --Top {}------------------------------\n",
        "      pregunta similar    : {}\n",
        "      respuesta asosciada : {}\n",
        "      valor similitud     : {}\n",
        "    --------------------------------------\n",
        "    \"\"\".format(\n",
        "        top,\n",
        "        corpus_question[int(index)],\n",
        "        list_answers[int(index)],\n",
        "        value\n",
        "    )\n",
        "    if debug:\n",
        "      print(log)\n",
        "    else:\n",
        "      print(list_answers[int(index)])\n",
        "    top += 1\n"
      ],
      "metadata": {
        "id": "tdb-cRQcFovJ"
      },
      "execution_count": null,
      "outputs": []
    },
    {
      "cell_type": "markdown",
      "source": [
        "Algunos ejemplos de las preguntas realizadas y las 3 primeras identificaciones en la base de datos (pregunta-respuesta-valor). "
      ],
      "metadata": {
        "id": "LEPN0IIpGhTt"
      }
    },
    {
      "cell_type": "code",
      "source": [
        "get_answer('¿Qué es la Orden de Transporte (OT)?', 3, True)"
      ],
      "metadata": {
        "colab": {
          "base_uri": "https://localhost:8080/"
        },
        "id": "xj45VnaqFu5Q",
        "outputId": "ab33504d-ddca-45d8-dd76-6beac2391e86"
      },
      "execution_count": null,
      "outputs": [
        {
          "output_type": "stream",
          "name": "stdout",
          "text": [
            "\n",
            "    --Top 1------------------------------\n",
            "      pregunta similar    : ¿Qué pasa si el destinatario no puede recibir el envío en su dirección?\n",
            "      respuesta asosciada : Chilexpress realiza dos intentos de entrega en el domicilio, en dos días hábiles y horarios distintos, los que son notificados al destinatario mediante un email. Si no se puede efectuar la entrega, el envío será devuelto al remitente.\n",
            "      valor similitud     : 0.574269711971283\n",
            "    --------------------------------------\n",
            "    \n",
            "\n",
            "    --Top 2------------------------------\n",
            "      pregunta similar    : ¿Se puede modificar la dirección de envío?\n",
            "      respuesta asosciada : Sí, el cambio puede ser solicitado por el remitente siempre y cuando lo haga el mismo día que contrató el servicio y la nueva dirección corresponda a la misma comuna del despacho original. Para realizar el cambio de dirección debes llamar a nuestro Call Center 600 2000 102. En el caso de una compra online, se debe solicitar el cambio de dirección de despacho directamente al comercio y su modificación está sujeta a las políticas del vendedor.\n",
            "      valor similitud     : 0.546913743019104\n",
            "    --------------------------------------\n",
            "    \n",
            "\n",
            "    --Top 3------------------------------\n",
            "      pregunta similar    : ¿El destinatario puede cambiar la dirección del envío?\n",
            "      respuesta asosciada : No es posible. Sin embargo, si un envío no puede ser entregado en la dirección de destino original, el destinatario podrá solicitar que sea derivado a una sucursal Chilexpress ubicada en la misma comuna del despacho original.\n",
            "      valor similitud     : 0.5271185636520386\n",
            "    --------------------------------------\n",
            "    \n"
          ]
        }
      ]
    },
    {
      "cell_type": "code",
      "source": [
        "get_answer('¿Puedo solicitar materiales telefónicamente?', 3, True)"
      ],
      "metadata": {
        "colab": {
          "base_uri": "https://localhost:8080/"
        },
        "id": "7SlEeQ5jFw6L",
        "outputId": "ed521d2f-8e56-4600-e2c7-2c0e930c945a"
      },
      "execution_count": null,
      "outputs": [
        {
          "output_type": "stream",
          "name": "stdout",
          "text": [
            "\n",
            "    --Top 1------------------------------\n",
            "      pregunta similar    : ¿Puedo solicitar materiales telefónicamente?\n",
            "      respuesta asosciada : Las empresas que poseen una cuenta con Chilexpress pueden solicitar embalajes y materiales a través de nuestro Portal Empresas en la sección Empresas de www.chilexpress.cl\n",
            "      valor similitud     : 0.5392841696739197\n",
            "    --------------------------------------\n",
            "    \n",
            "\n",
            "    --Top 2------------------------------\n",
            "      pregunta similar    : ¿Existen restricciones en los tiempos de entrega para un envío sobredimensionado?\n",
            "      respuesta asosciada : Sí, para los envíos sobredimensionados no están disponibles los siguientes servicios: entrega en 2 horas, ultra rápido ni AM/PM. A su vez, debido al peso y a las dimensiones de este tipo de encomiendas, se sumará un día hábil en la promesa de entrega contratada.\n",
            "      valor similitud     : 0.3486579656600952\n",
            "    --------------------------------------\n",
            "    \n",
            "\n",
            "    --Top 3------------------------------\n",
            "      pregunta similar    : ¿Qué es un envío sobredimensionado?\n",
            "      respuesta asosciada : Es toda encomienda que no cumpla el estándar establecido por Chilexpress, ya que posee una o más de las siguientes características: tiene un embalaje irregular, pesa más de 50 kilos y sobrepasa alguna de estas tres medidas: 1,2 metros (largo) x 0,8 metros (ancho) x 0,8 metros (alto). Puedes revisar las sucursales disponibles para estos envíos en la sección Sucursales en www.chilexpress.cl\n",
            "      valor similitud     : 0.31930848956108093\n",
            "    --------------------------------------\n",
            "    \n"
          ]
        }
      ]
    },
    {
      "cell_type": "code",
      "source": [
        "get_answer('¿Qué es un envío sobredimensionado?', 3, True)"
      ],
      "metadata": {
        "colab": {
          "base_uri": "https://localhost:8080/"
        },
        "id": "mzFqUCSfqFp5",
        "outputId": "80529aff-ab6c-4410-9a78-59e12a506951"
      },
      "execution_count": null,
      "outputs": [
        {
          "output_type": "stream",
          "name": "stdout",
          "text": [
            "\n",
            "    --Top 1------------------------------\n",
            "      pregunta similar    : ¿Qué es un envío sobredimensionado?\n",
            "      respuesta asosciada : Es toda encomienda que no cumpla el estándar establecido por Chilexpress, ya que posee una o más de las siguientes características: tiene un embalaje irregular, pesa más de 50 kilos y sobrepasa alguna de estas tres medidas: 1,2 metros (largo) x 0,8 metros (ancho) x 0,8 metros (alto). Puedes revisar las sucursales disponibles para estos envíos en la sección Sucursales en www.chilexpress.cl\n",
            "      valor similitud     : 0.6297675967216492\n",
            "    --------------------------------------\n",
            "    \n",
            "\n",
            "    --Top 2------------------------------\n",
            "      pregunta similar    : ¿Cuánto cuesta un envío sobredimensionado?\n",
            "      respuesta asosciada : El costo del servicio corresponderá al valor propio del envío, más un cobro adicional fijo de $3.500 + IVA dado que requiere un manejo distinto en nuestro Centro de Distribución.\n",
            "      valor similitud     : 0.6245648264884949\n",
            "    --------------------------------------\n",
            "    \n",
            "\n",
            "    --Top 3------------------------------\n",
            "      pregunta similar    : ¿Cuáles son los plazos de entrega asociados a un envío internacional?\n",
            "      respuesta asosciada : Los plazos de entrega varían según el lugar de destino. Estos varían de entre 4 días hábiles, a 8 días hábiles dependiendo del país y ciudad al que se desee exportar o importar. Es importante también considerar, que las retenciones asociadas a falta de información, documentación o condiciones aduaneras, podrían extender estos plazos.\n",
            "      valor similitud     : 0.6059964299201965\n",
            "    --------------------------------------\n",
            "    \n"
          ]
        }
      ]
    },
    {
      "cell_type": "code",
      "source": [
        "get_answer('¿Puedo cobrar un giro en cualquier sucursal de Chilexpress?', 3, True)"
      ],
      "metadata": {
        "colab": {
          "base_uri": "https://localhost:8080/"
        },
        "id": "VYEErkRLqIqS",
        "outputId": "12ff1b83-1c27-4f62-e08f-a183666fa590"
      },
      "execution_count": null,
      "outputs": [
        {
          "output_type": "stream",
          "name": "stdout",
          "text": [
            "\n",
            "    --Top 1------------------------------\n",
            "      pregunta similar    : ¿Puedo cobrar un giro en cualquier sucursal de Chilexpress?\n",
            "      respuesta asosciada : No, sólo en las sucursales Chilexpress con sistema Western Union. Si eres el destinatario, deberás presentar tu documento de identificación junto al número de MTCN. Puedes revisar las sucursales que tienen el servicio giros disponible en www.chilexpress.cl\n",
            "      valor similitud     : 0.6743813157081604\n",
            "    --------------------------------------\n",
            "    \n",
            "\n",
            "    --Top 2------------------------------\n",
            "      pregunta similar    : ¿Puedo ir a retirar un documento a cualquier oficina de Chilexpress?\n",
            "      respuesta asosciada : No. Debes retirar tu documento en la sucursal donde se encuentra disponible para retiro. Ésta es aquella que fue seleccionada cuando se contrató el servicio.\n",
            "      valor similitud     : 0.600417971611023\n",
            "    --------------------------------------\n",
            "    \n",
            "\n",
            "    --Top 3------------------------------\n",
            "      pregunta similar    : ¿Puedo ir a retirar una encomienda a cualquier oficina de Chilexpress?\n",
            "      respuesta asosciada : No. Debes retirar tu encomienda en la sucursal donde se encuentra disponible para retiro. Ésta es aquella que fue seleccionada cuando se contrató el servicio.\n",
            "      valor similitud     : 0.5974888205528259\n",
            "    --------------------------------------\n",
            "    \n"
          ]
        }
      ]
    },
    {
      "cell_type": "markdown",
      "source": [
        "## 2.4 Reporte el resultado con textos de prueba."
      ],
      "metadata": {
        "id": "ccIjPIjmHSwx"
      }
    },
    {
      "cell_type": "markdown",
      "source": [
        "Se indican los siguientes ejemplos utilizando el modelo Doc2Vec (modificación de Word2Vec)."
      ],
      "metadata": {
        "id": "3JVJavMmGw9W"
      }
    },
    {
      "cell_type": "code",
      "source": [
        "text = 'puedo cambiar la dirección de envío?'\n",
        "get_answer(text)"
      ],
      "metadata": {
        "colab": {
          "base_uri": "https://localhost:8080/"
        },
        "id": "IHG6xHecjw3Q",
        "outputId": "cb909bf2-5b4f-4f7d-f9c7-2c266585f5a2"
      },
      "execution_count": null,
      "outputs": [
        {
          "output_type": "stream",
          "name": "stdout",
          "text": [
            "No es posible. Sin embargo, si un envío no puede ser entregado en la dirección de destino original, el destinatario podrá solicitar que sea derivado a una sucursal Chilexpress ubicada en la misma comuna del despacho original.\n"
          ]
        }
      ]
    },
    {
      "cell_type": "code",
      "source": [
        "text = 'como hago seguimiento?'\n",
        "get_answer(text)"
      ],
      "metadata": {
        "colab": {
          "base_uri": "https://localhost:8080/"
        },
        "id": "nZkoopSMsLnj",
        "outputId": "33db3c3e-3618-400a-cb8c-7d12cf51be09"
      },
      "execution_count": null,
      "outputs": [
        {
          "output_type": "stream",
          "name": "stdout",
          "text": [
            "No es posible hacer seguimiento de un envío sin la Orden de Transporte. Puedes obtenerlo iniciando tu sesión en www.chilexpress.cl o revisar en tu App el Histórico de envíos.\n"
          ]
        }
      ]
    },
    {
      "cell_type": "code",
      "source": [
        "text = 'quiero retirar una encomienda a otra sucursal'\n",
        "get_answer(text)"
      ],
      "metadata": {
        "colab": {
          "base_uri": "https://localhost:8080/"
        },
        "id": "p-mDP4gbsVtd",
        "outputId": "bcabe260-c1f2-4ad1-ab71-053ee4f067ff"
      },
      "execution_count": null,
      "outputs": [
        {
          "output_type": "stream",
          "name": "stdout",
          "text": [
            "No, sólo en las sucursales Chilexpress con sistema Western Union. Si eres el destinatario, deberás presentar tu documento de identificación junto al número de MTCN. Puedes revisar las sucursales que tienen el servicio giros disponible en www.chilexpress.cl\n"
          ]
        }
      ]
    },
    {
      "cell_type": "code",
      "source": [
        "text = 'puede ir otra persona a buscar mi pedido'\n",
        "get_answer(text)"
      ],
      "metadata": {
        "colab": {
          "base_uri": "https://localhost:8080/"
        },
        "id": "z0bWecmIsq61",
        "outputId": "d1d2f3d5-0e65-4653-a59d-1d4f44503912"
      },
      "execution_count": null,
      "outputs": [
        {
          "output_type": "stream",
          "name": "stdout",
          "text": [
            "Sí, Chilexpress recibe tus envíos para hacerlos llegar a los distintos lugares del mundo. Puedes enviar tanto documentos como muestras al extranjero; esta última corresponde a todo aquello que no es considerado como documento y que se encuentre en el rango de 2,5 kilos a 50 kilos. Toda muestra debe venir valorada comercialmente por el remitente mediante el uso de una “Factura Comercial” expresada en dólares. Revisa más detalles en la Guía de Servicio.\n"
          ]
        }
      ]
    },
    {
      "cell_type": "code",
      "source": [
        "text = 'como retiro mi envío por pagar'\n",
        "get_answer(text)"
      ],
      "metadata": {
        "colab": {
          "base_uri": "https://localhost:8080/"
        },
        "id": "OBY5eW1vtfkL",
        "outputId": "1e717c29-2128-46fc-edcb-ea63f1a6c142"
      },
      "execution_count": null,
      "outputs": [
        {
          "output_type": "stream",
          "name": "stdout",
          "text": [
            "Una vez solicitado el retiro en el Portal Empresas, debes ir dentro del mismo sitio a la sección OT Digital. Para conocer cómo utilizarlo bajo el manual disponible en la sección correspondiente.\n"
          ]
        }
      ]
    },
    {
      "cell_type": "markdown",
      "source": [
        "# 3. Análisis transformer "
      ],
      "metadata": {
        "id": "6Iqr3LsaFezF"
      }
    },
    {
      "cell_type": "markdown",
      "source": [
        "Para el segundo chatbot utilice un transformer (por ejemplo BERT)."
      ],
      "metadata": {
        "id": "iv-Oe3aiGA9H"
      }
    },
    {
      "cell_type": "code",
      "source": [
        "!pip install transformers\n",
        "from transformers import pipeline, AutoTokenizer, Trainer, TrainingArguments, AutoModel, AutoModelForSequenceClassification"
      ],
      "metadata": {
        "colab": {
          "base_uri": "https://localhost:8080/"
        },
        "id": "9LAo5hNNQV7P",
        "outputId": "cd1f502b-cd29-470c-88e7-b4a36f5686b0"
      },
      "execution_count": 1,
      "outputs": [
        {
          "output_type": "stream",
          "name": "stdout",
          "text": [
            "Requirement already satisfied: transformers in /usr/local/lib/python3.7/dist-packages (4.15.0)\n",
            "Requirement already satisfied: tokenizers<0.11,>=0.10.1 in /usr/local/lib/python3.7/dist-packages (from transformers) (0.10.3)\n",
            "Requirement already satisfied: packaging>=20.0 in /usr/local/lib/python3.7/dist-packages (from transformers) (21.3)\n",
            "Requirement already satisfied: requests in /usr/local/lib/python3.7/dist-packages (from transformers) (2.23.0)\n",
            "Requirement already satisfied: numpy>=1.17 in /usr/local/lib/python3.7/dist-packages (from transformers) (1.19.5)\n",
            "Requirement already satisfied: pyyaml>=5.1 in /usr/local/lib/python3.7/dist-packages (from transformers) (6.0)\n",
            "Requirement already satisfied: huggingface-hub<1.0,>=0.1.0 in /usr/local/lib/python3.7/dist-packages (from transformers) (0.2.1)\n",
            "Requirement already satisfied: sacremoses in /usr/local/lib/python3.7/dist-packages (from transformers) (0.0.46)\n",
            "Requirement already satisfied: importlib-metadata in /usr/local/lib/python3.7/dist-packages (from transformers) (4.8.2)\n",
            "Requirement already satisfied: tqdm>=4.27 in /usr/local/lib/python3.7/dist-packages (from transformers) (4.62.3)\n",
            "Requirement already satisfied: regex!=2019.12.17 in /usr/local/lib/python3.7/dist-packages (from transformers) (2019.12.20)\n",
            "Requirement already satisfied: filelock in /usr/local/lib/python3.7/dist-packages (from transformers) (3.4.0)\n",
            "Requirement already satisfied: typing-extensions>=3.7.4.3 in /usr/local/lib/python3.7/dist-packages (from huggingface-hub<1.0,>=0.1.0->transformers) (3.10.0.2)\n",
            "Requirement already satisfied: pyparsing!=3.0.5,>=2.0.2 in /usr/local/lib/python3.7/dist-packages (from packaging>=20.0->transformers) (3.0.6)\n",
            "Requirement already satisfied: zipp>=0.5 in /usr/local/lib/python3.7/dist-packages (from importlib-metadata->transformers) (3.6.0)\n",
            "Requirement already satisfied: urllib3!=1.25.0,!=1.25.1,<1.26,>=1.21.1 in /usr/local/lib/python3.7/dist-packages (from requests->transformers) (1.25.10)\n",
            "Requirement already satisfied: certifi>=2017.4.17 in /usr/local/lib/python3.7/dist-packages (from requests->transformers) (2021.10.8)\n",
            "Requirement already satisfied: chardet<4,>=3.0.2 in /usr/local/lib/python3.7/dist-packages (from requests->transformers) (3.0.4)\n",
            "Requirement already satisfied: idna<3,>=2.5 in /usr/local/lib/python3.7/dist-packages (from requests->transformers) (2.10)\n",
            "Requirement already satisfied: click in /usr/local/lib/python3.7/dist-packages (from sacremoses->transformers) (7.1.2)\n",
            "Requirement already satisfied: joblib in /usr/local/lib/python3.7/dist-packages (from sacremoses->transformers) (1.1.0)\n",
            "Requirement already satisfied: six in /usr/local/lib/python3.7/dist-packages (from sacremoses->transformers) (1.15.0)\n"
          ]
        }
      ]
    },
    {
      "cell_type": "markdown",
      "source": [
        "## 3.1 Utilice el modelo transformer para clasificar el texto de entrada, y para extraer la respuesta de la tabla de preguntas y respuestas cuando el mensaje sea del tipo “información”."
      ],
      "metadata": {
        "id": "imXEWWfaHdCI"
      }
    },
    {
      "cell_type": "markdown",
      "source": [
        "### 3.1.1 Clasificador"
      ],
      "metadata": {
        "id": "dzWlnz4R3RPa"
      }
    },
    {
      "cell_type": "markdown",
      "source": [
        "En la presente sección se entrena un clasificador con una modificación de BERT en español: BETO. Se han utilizado los pesos preentrenados de BETO desarrollados por el DCC para el tokenizador. \n",
        "\n",
        "ref: https://benjad.github.io/2020/08/04/clasificador-sentimiento-BERT/"
      ],
      "metadata": {
        "id": "eXFrT1szHASg"
      }
    },
    {
      "cell_type": "code",
      "source": [
        "import torch\n",
        "from transformers import  BertTokenizer\n",
        "from torch.utils.data import TensorDataset\n",
        "from torch.utils.data import DataLoader, SequentialSampler\n",
        "from transformers import BertForSequenceClassification, AdamW\n",
        "from transformers import get_linear_schedule_with_warmup\n",
        "from sklearn.model_selection import train_test_split\n",
        "import torch.optim\n",
        "import numpy as np\n",
        "import pandas as pd\n",
        "import time\n",
        "import datetime\n",
        "import random\n",
        "from sklearn.metrics import confusion_matrix\n"
      ],
      "metadata": {
        "id": "xCB4EQ-qjuxi"
      },
      "execution_count": 2,
      "outputs": []
    },
    {
      "cell_type": "code",
      "source": [
        "# Select cpu or cuda\n",
        "run_on = 'cpu'\n",
        "device = torch.device(run_on)\n",
        "\n",
        "# Load the dataset into a pandas dataframe.\n",
        "messages['class'] = messages['Clase'].map({'información':0, 'nombre':1, 'saludo':2, 'despedida':3,})\n",
        "clase = messages['class']\n",
        "mensaje = messages['Mensaje']\n",
        "\n",
        "# Split dataset\n",
        "X_train, X_val, y_train, y_val = train_test_split(mensaje, \n",
        "clase, stratify=clase, test_size=0.2, random_state=42)\n",
        "\n",
        "# Report datasets lenghts\n",
        "print('Training set length : {}'.format(len(X_train)))\n",
        "print('Validation set length : {}'.format(len(X_val)))"
      ],
      "metadata": {
        "colab": {
          "base_uri": "https://localhost:8080/"
        },
        "id": "gxjYePsJxAEO",
        "outputId": "785b31fd-bc0c-4e93-a267-1742d9ccf313"
      },
      "execution_count": 9,
      "outputs": [
        {
          "output_type": "stream",
          "name": "stdout",
          "text": [
            "Training set length : 147\n",
            "Validation set length : 37\n"
          ]
        }
      ]
    },
    {
      "cell_type": "code",
      "source": [
        "# < 2 min\n",
        "# Tokenization  \n",
        "%cd /content\n",
        "!pip install urllib3==1.25.10\n",
        "!rm -rf transformers\n",
        "!git clone https://github.com/huggingface/transformers \\\n",
        "&& cd transformers \\\n",
        "&& git checkout a3085020ed0d81d4903c50967687192e3101e770\n",
        "\n",
        "!pip install transformers\n",
        "!wget https://users.dcc.uchile.cl/~jperez/beto/cased_2M/pytorch_weights.tar.gz -O pytorch_weights.tar.gz\n",
        "!wget https://users.dcc.uchile.cl/~jperez/beto/cased_2M/vocab.txt -O vocab.txt\n",
        "!wget https://users.dcc.uchile.cl/~jperez/beto/cased_2M/config.json -O config.json\n",
        "!tar -xzvf pytorch_weights.tar.gz\n",
        "!mv config.json pytorch/.\n",
        "!mv vocab.txt pytorch/.\n",
        "\n",
        "tokenizer = BertTokenizer.from_pretrained(\"pytorch/\", do_lower_case=True)\n",
        "\n",
        "def preprocessing(dataset):\n",
        "    input_ids = []\n",
        "    attention_mask = []\n",
        "    for doc in dataset:\n",
        "        encoded_doc = tokenizer.encode_plus(doc,\n",
        "                   add_special_tokens=True, max_length=115,\n",
        "                   truncation=True,pad_to_max_length=True)\n",
        "        input_ids.append(encoded_doc['input_ids'])\n",
        "        attention_mask.append(encoded_doc['attention_mask'])\n",
        "    return (torch.tensor(input_ids),\n",
        "           torch.tensor(attention_mask))\n",
        "\n",
        "# Apply preprocessing to dataset\n",
        "X_train_inputs, X_train_masks = preprocessing(X_train)\n",
        "X_val_inputs, X_val_masks = preprocessing(X_val)\n",
        "\n",
        "# Report max n° tokens in a sentence\n",
        "max_len = max([torch.sum(sen) for sen in X_train_masks])\n",
        "print('Max n°tokens in a sentence: {0}'.format(max_len))"
      ],
      "metadata": {
        "colab": {
          "base_uri": "https://localhost:8080/"
        },
        "id": "rLbHp0dHB5Nj",
        "outputId": "f7154157-0dbb-412e-9e39-ea9fce4bb81a"
      },
      "execution_count": 10,
      "outputs": [
        {
          "output_type": "stream",
          "name": "stdout",
          "text": [
            "/content\n",
            "Requirement already satisfied: urllib3==1.25.10 in /usr/local/lib/python3.7/dist-packages (1.25.10)\n",
            "Cloning into 'transformers'...\n",
            "remote: Enumerating objects: 94773, done.\u001b[K\n",
            "remote: Counting objects: 100% (76/76), done.\u001b[K\n",
            "remote: Compressing objects: 100% (23/23), done.\u001b[K\n",
            "remote: Total 94773 (delta 42), reused 61 (delta 41), pack-reused 94697\u001b[K\n",
            "Receiving objects: 100% (94773/94773), 80.08 MiB | 24.43 MiB/s, done.\n",
            "Resolving deltas: 100% (68803/68803), done.\n",
            "Note: checking out 'a3085020ed0d81d4903c50967687192e3101e770'.\n",
            "\n",
            "You are in 'detached HEAD' state. You can look around, make experimental\n",
            "changes and commit them, and you can discard any commits you make in this\n",
            "state without impacting any branches by performing another checkout.\n",
            "\n",
            "If you want to create a new branch to retain commits you create, you may\n",
            "do so (now or later) by using -b with the checkout command again. Example:\n",
            "\n",
            "  git checkout -b <new-branch-name>\n",
            "\n",
            "HEAD is now at a3085020e Added repetition penalty to PPLM example (#2436)\n",
            "Requirement already satisfied: transformers in /usr/local/lib/python3.7/dist-packages (4.15.0)\n",
            "Requirement already satisfied: regex!=2019.12.17 in /usr/local/lib/python3.7/dist-packages (from transformers) (2019.12.20)\n",
            "Requirement already satisfied: huggingface-hub<1.0,>=0.1.0 in /usr/local/lib/python3.7/dist-packages (from transformers) (0.2.1)\n",
            "Requirement already satisfied: packaging>=20.0 in /usr/local/lib/python3.7/dist-packages (from transformers) (21.3)\n",
            "Requirement already satisfied: importlib-metadata in /usr/local/lib/python3.7/dist-packages (from transformers) (4.8.2)\n",
            "Requirement already satisfied: pyyaml>=5.1 in /usr/local/lib/python3.7/dist-packages (from transformers) (6.0)\n",
            "Requirement already satisfied: tqdm>=4.27 in /usr/local/lib/python3.7/dist-packages (from transformers) (4.62.3)\n",
            "Requirement already satisfied: numpy>=1.17 in /usr/local/lib/python3.7/dist-packages (from transformers) (1.19.5)\n",
            "Requirement already satisfied: requests in /usr/local/lib/python3.7/dist-packages (from transformers) (2.23.0)\n",
            "Requirement already satisfied: filelock in /usr/local/lib/python3.7/dist-packages (from transformers) (3.4.0)\n",
            "Requirement already satisfied: tokenizers<0.11,>=0.10.1 in /usr/local/lib/python3.7/dist-packages (from transformers) (0.10.3)\n",
            "Requirement already satisfied: sacremoses in /usr/local/lib/python3.7/dist-packages (from transformers) (0.0.46)\n",
            "Requirement already satisfied: typing-extensions>=3.7.4.3 in /usr/local/lib/python3.7/dist-packages (from huggingface-hub<1.0,>=0.1.0->transformers) (3.10.0.2)\n",
            "Requirement already satisfied: pyparsing!=3.0.5,>=2.0.2 in /usr/local/lib/python3.7/dist-packages (from packaging>=20.0->transformers) (3.0.6)\n",
            "Requirement already satisfied: zipp>=0.5 in /usr/local/lib/python3.7/dist-packages (from importlib-metadata->transformers) (3.6.0)\n",
            "Requirement already satisfied: idna<3,>=2.5 in /usr/local/lib/python3.7/dist-packages (from requests->transformers) (2.10)\n",
            "Requirement already satisfied: certifi>=2017.4.17 in /usr/local/lib/python3.7/dist-packages (from requests->transformers) (2021.10.8)\n",
            "Requirement already satisfied: chardet<4,>=3.0.2 in /usr/local/lib/python3.7/dist-packages (from requests->transformers) (3.0.4)\n",
            "Requirement already satisfied: urllib3!=1.25.0,!=1.25.1,<1.26,>=1.21.1 in /usr/local/lib/python3.7/dist-packages (from requests->transformers) (1.25.10)\n",
            "Requirement already satisfied: six in /usr/local/lib/python3.7/dist-packages (from sacremoses->transformers) (1.15.0)\n",
            "Requirement already satisfied: click in /usr/local/lib/python3.7/dist-packages (from sacremoses->transformers) (7.1.2)\n",
            "Requirement already satisfied: joblib in /usr/local/lib/python3.7/dist-packages (from sacremoses->transformers) (1.1.0)\n",
            "--2021-12-31 00:28:54--  https://users.dcc.uchile.cl/~jperez/beto/cased_2M/pytorch_weights.tar.gz\n",
            "Resolving users.dcc.uchile.cl (users.dcc.uchile.cl)... 192.80.24.4, 200.9.99.211\n",
            "Connecting to users.dcc.uchile.cl (users.dcc.uchile.cl)|192.80.24.4|:443... connected.\n",
            "HTTP request sent, awaiting response... 200 OK\n",
            "Length: 409871727 (391M) [application/x-gzip]\n",
            "Saving to: ‘pytorch_weights.tar.gz’\n",
            "\n",
            "pytorch_weights.tar 100%[===================>] 390.88M  6.28MB/s    in 79s     \n",
            "\n",
            "2021-12-31 00:30:14 (4.93 MB/s) - ‘pytorch_weights.tar.gz’ saved [409871727/409871727]\n",
            "\n",
            "--2021-12-31 00:30:14--  https://users.dcc.uchile.cl/~jperez/beto/cased_2M/vocab.txt\n",
            "Resolving users.dcc.uchile.cl (users.dcc.uchile.cl)... 200.9.99.211, 192.80.24.4\n",
            "Connecting to users.dcc.uchile.cl (users.dcc.uchile.cl)|200.9.99.211|:443... connected.\n",
            "HTTP request sent, awaiting response... 200 OK\n",
            "Length: 242120 (236K) [text/plain]\n",
            "Saving to: ‘vocab.txt’\n",
            "\n",
            "vocab.txt           100%[===================>] 236.45K   385KB/s    in 0.6s    \n",
            "\n",
            "2021-12-31 00:30:16 (385 KB/s) - ‘vocab.txt’ saved [242120/242120]\n",
            "\n",
            "--2021-12-31 00:30:16--  https://users.dcc.uchile.cl/~jperez/beto/cased_2M/config.json\n",
            "Resolving users.dcc.uchile.cl (users.dcc.uchile.cl)... 200.9.99.211, 192.80.24.4\n",
            "Connecting to users.dcc.uchile.cl (users.dcc.uchile.cl)|200.9.99.211|:443... connected.\n",
            "HTTP request sent, awaiting response... 200 OK\n",
            "Length: 313 [application/json]\n",
            "Saving to: ‘config.json’\n",
            "\n",
            "config.json         100%[===================>]     313  --.-KB/s    in 0s      \n",
            "\n",
            "2021-12-31 00:30:16 (85.0 MB/s) - ‘config.json’ saved [313/313]\n",
            "\n",
            "pytorch/\n",
            "pytorch/pytorch_model.bin\n",
            "Max n°tokens in a sentence: 29\n"
          ]
        },
        {
          "output_type": "stream",
          "name": "stderr",
          "text": [
            "/usr/local/lib/python3.7/dist-packages/transformers/tokenization_utils_base.py:2232: FutureWarning: The `pad_to_max_length` argument is deprecated and will be removed in a future version, use `padding=True` or `padding='longest'` to pad to the longest sequence in the batch, or use `padding='max_length'` to pad to a max length. In this case, you can give a specific length with `max_length` (e.g. `max_length=45`) or leave max_length to None to pad to the maximal input size of the model (e.g. 512 for Bert).\n",
            "  FutureWarning,\n"
          ]
        }
      ]
    },
    {
      "cell_type": "markdown",
      "source": [
        "Para el entrenamiento se utilizan batches de tamaño 2. El modelo corresponde a 'BertForSequenceClassification' y el optimizador es de tipo 'AdamW'.  "
      ],
      "metadata": {
        "id": "CIZdY0jCd48u"
      }
    },
    {
      "cell_type": "code",
      "source": [
        "# Data loaders\n",
        "batch_size = 2\n",
        "\n",
        "y_train_labels = torch.tensor(y_train.values)\n",
        "y_val_labels = torch.tensor(y_val.values)\n",
        "\n",
        "\n",
        "def dataloader(x_inputs, x_masks, y_labels):\n",
        "    data = TensorDataset(x_inputs, x_masks, y_labels)\n",
        "    sampler = SequentialSampler(data)\n",
        "    dataloader = DataLoader(data, sampler=sampler,\n",
        "                 batch_size=batch_size,\n",
        "                 num_workers=0)\n",
        "    return dataloader\n",
        "\n",
        "train_dataloader = dataloader(X_train_inputs, X_train_masks,\n",
        "                   y_train_labels)\n",
        "val_dataloader = dataloader(X_val_inputs, X_val_masks, \n",
        "                 y_val_labels)"
      ],
      "metadata": {
        "id": "48vnLdqiCAzQ"
      },
      "execution_count": 17,
      "outputs": []
    },
    {
      "cell_type": "code",
      "source": [
        "# set random seed\n",
        "def set_seed(value):\n",
        "    random.seed(value)\n",
        "    np.random.seed(value)\n",
        "    torch.manual_seed(value)\n",
        "    torch.cuda.manual_seed_all(value)\n",
        "set_seed(42)\n",
        "\n",
        "# Create model and optimizer\n",
        "model = BertForSequenceClassification.from_pretrained(\n",
        "        \"pytorch/\", num_labels=4, output_attentions=False,\n",
        "         output_hidden_states=False)\n",
        "\n",
        "optimizer = AdamW(model.parameters(),\n",
        "                  lr = 4e-5,\n",
        "                  eps = 1e-6\n",
        "                  )\n",
        "\n",
        "if run_on == 'cuda':\n",
        "    model.cuda()\n",
        "\n",
        "# Define number of epochs\n",
        "epochs = 3\n",
        "\n",
        "total_steps = len(train_dataloader) * epochs\n",
        "\n",
        "# Create the learning rate scheduler.\n",
        "scheduler = get_linear_schedule_with_warmup(optimizer,\n",
        "            num_warmup_steps = 0, \n",
        "            num_training_steps = total_steps)"
      ],
      "metadata": {
        "colab": {
          "base_uri": "https://localhost:8080/"
        },
        "id": "YCL0ybvPCITv",
        "outputId": "8c65e53f-1625-46ad-9d2f-9c5908255ad6"
      },
      "execution_count": 18,
      "outputs": [
        {
          "output_type": "stream",
          "name": "stderr",
          "text": [
            "Some weights of the model checkpoint at pytorch/ were not used when initializing BertForSequenceClassification: ['cls.predictions.bias', 'cls.seq_relationship.bias', 'cls.seq_relationship.weight', 'cls.predictions.transform.LayerNorm.weight', 'cls.predictions.transform.dense.weight', 'cls.predictions.transform.dense.bias', 'cls.predictions.decoder.weight', 'cls.predictions.transform.LayerNorm.bias']\n",
            "- This IS expected if you are initializing BertForSequenceClassification from the checkpoint of a model trained on another task or with another architecture (e.g. initializing a BertForSequenceClassification model from a BertForPreTraining model).\n",
            "- This IS NOT expected if you are initializing BertForSequenceClassification from the checkpoint of a model that you expect to be exactly identical (initializing a BertForSequenceClassification model from a BertForSequenceClassification model).\n",
            "Some weights of BertForSequenceClassification were not initialized from the model checkpoint at pytorch/ and are newly initialized: ['classifier.weight', 'classifier.bias']\n",
            "You should probably TRAIN this model on a down-stream task to be able to use it for predictions and inference.\n"
          ]
        }
      ]
    },
    {
      "cell_type": "code",
      "source": [
        "#fuction to format time\n",
        "def format_time(elapsed):\n",
        "    elapsed_rounded = int(round((elapsed)))\n",
        "    return str(datetime.timedelta(seconds=elapsed_rounded))\n",
        "\n",
        "#function to compute accuracy\n",
        "def flat_accuracy(preds, labels):\n",
        "    pred_flat = np.argmax(preds, axis=1).flatten()\n",
        "    labels_flat = labels.flatten()\n",
        "    return np.sum(pred_flat == labels_flat) / len(labels_flat)"
      ],
      "metadata": {
        "id": "x-eygpRFz1Me"
      },
      "execution_count": 19,
      "outputs": []
    },
    {
      "cell_type": "markdown",
      "source": [
        "Desarrollo del entrenamiento. "
      ],
      "metadata": {
        "id": "pW-YS9VjfMKY"
      }
    },
    {
      "cell_type": "code",
      "source": [
        "# ~8 min\n",
        "#function to train the model\n",
        "def training(n_epochs, training_dataloader,\n",
        "             validation_dataloader):\n",
        "    # ========================================\n",
        "    #               Training \n",
        "    # ========================================\n",
        "    print('======= Training =======')\n",
        "    for epoch_i in range(0,n_epochs):\n",
        "        # Perform one full pass over the training set\n",
        "        print(\"\")\n",
        "        print('======= Epoch {:} / {:} ======='.format(\n",
        "             epoch_i + 1, epochs))\n",
        "        # Measure how long the training epoch takes.\n",
        "        t0 = time.time()\n",
        "        # Reset the total loss for this epoch.\n",
        "        total_loss = 0\n",
        "        # Put the model into training mode.\n",
        "        model.train()\n",
        "        # For each batch of training data\n",
        "        for step, batch in enumerate(training_dataloader):\n",
        "            batch_loss = 0\n",
        "            # Unpack this training batch from dataloader\n",
        "            #   [0]: input ids, [1]: attention masks, \n",
        "            #   [2]: labels\n",
        "            b_input_ids,b_input_mask, b_labels = tuple(\n",
        "                                t.to(device) for t in batch)\n",
        "\n",
        "            # Clear any previously calculated gradients\n",
        "            model.zero_grad()\n",
        "\n",
        "            # Perform a forward pass \n",
        "            outputs = model(b_input_ids,\n",
        "                            token_type_ids=None,\n",
        "                            attention_mask=b_input_mask,\n",
        "                            labels=b_labels)\n",
        "\n",
        "            # pull loss value out of the output tuple\n",
        "            loss = outputs[0]\n",
        "            batch_loss += loss.item()\n",
        "            total_loss += loss.item()\n",
        "\n",
        "            # Perform a backward pass \n",
        "            loss.backward()\n",
        "\n",
        "            # Clip the norm of the gradients to 1.0.\n",
        "            torch.nn.utils.clip_grad_norm_(model.parameters(),\n",
        "                                            1.0)\n",
        "\n",
        "            # Update parameters\n",
        "            # ¿take a step using the computed gradient\n",
        "            optimizer.step()\n",
        "            scheduler.step()\n",
        "\n",
        "            print('batch loss: {0} | avg loss: {1}'.format(\n",
        "                  batch_loss, total_loss/(step+1)))\n",
        "        # Calculate the average loss over the training data.\n",
        "        avg_train_loss = total_loss / len(train_dataloader)\n",
        "\n",
        "\n",
        "        print(\"\")\n",
        "        print(\"  Average training loss: {0:.2f}\".\n",
        "             format(avg_train_loss))\n",
        "        print(\"  Training epoch took: {:}\".format(\n",
        "              format_time(time.time() - t0)))\n",
        "\n",
        "        # ========================================\n",
        "        #               Validation\n",
        "        # ========================================\n",
        "        # After the completion of each training epoch, \n",
        "        # measure accuracy on the validation set.\n",
        "\n",
        "        print(\"\")\n",
        "        print(\"======= Validation =======\")\n",
        "\n",
        "        t0 = time.time()\n",
        "\n",
        "        # Put the model in evaluation mode\n",
        "        model.eval()\n",
        "\n",
        "        # Tracking variables\n",
        "        eval_loss, eval_accuracy = 0, 0\n",
        "        all_logits = []\n",
        "        all_labels = []\n",
        "        # Evaluate data for one epoch\n",
        "        for step, batch in enumerate(validation_dataloader):\n",
        "            # Add batch to device\n",
        "            # Unpack this training batch from our dataloader.\n",
        "            #   [0]: input ids, [1]: attention masks,\n",
        "            #   [2]: labels\n",
        "            b_input_ids, b_input_mask, b_labels = tuple(\n",
        "                                t.to(device) for t in batch)\n",
        "\n",
        "\n",
        "            # Model will not to compute gradients\n",
        "            with torch.no_grad():\n",
        "                # Forward pass \n",
        "                # This will return the logits \n",
        "                outputs = model(b_input_ids,\n",
        "                                token_type_ids=None,\n",
        "                                attention_mask=b_input_mask)\n",
        "\n",
        "            # The \"logits\" are the output values \n",
        "            # prior to applying an activation function \n",
        "            logits = outputs[0]\n",
        "\n",
        "            # Move logits and labels to CPU\n",
        "            logits = logits.detach().cpu().numpy()\n",
        "            b_labels = b_labels.to('cpu').numpy()\n",
        "\n",
        "            # Save batch logits and labels \n",
        "            # We will use thoses in the confusion matrix\n",
        "            predict_labels = np.argmax(\n",
        "                             logits, axis=1).flatten()\n",
        "            all_logits.extend(predict_labels.tolist())\n",
        "            all_labels.extend(b_labels.tolist())\n",
        "\n",
        "            # Calculate the accuracy for this batch\n",
        "            tmp_eval_accuracy = flat_accuracy(\n",
        "                                logits, b_labels)\n",
        "            # Accumulate the total accuracy.\n",
        "            eval_accuracy += tmp_eval_accuracy\n",
        "\n",
        "        # Report the final accuracy for this validation run.\n",
        "        print(\"  Accuracy: {0:.2f}\".\n",
        "              format(eval_accuracy / (step+1)))\n",
        "        print(\"  Validation took: {:}\".format(\n",
        "             format_time(time.time() - t0)))\n",
        "\n",
        "    #print the confusion matrix\"\n",
        "    conf = confusion_matrix(\n",
        "           all_labels, all_logits, normalize='true')\n",
        "    print(conf)\n",
        "    print(\"\")\n",
        "    print(\"Training complete\")\n",
        "\n",
        "#call function to train the model\n",
        "training(epochs, train_dataloader, val_dataloader)"
      ],
      "metadata": {
        "id": "UiFWup0dz2nW",
        "colab": {
          "base_uri": "https://localhost:8080/"
        },
        "outputId": "1669519f-a3b4-438f-ddb4-31b75c911af7"
      },
      "execution_count": 20,
      "outputs": [
        {
          "output_type": "stream",
          "name": "stdout",
          "text": [
            "======= Training =======\n",
            "\n",
            "======= Epoch 1 / 3 =======\n",
            "batch loss: 1.4193904399871826 | avg loss: 1.4193904399871826\n",
            "batch loss: 1.2601104974746704 | avg loss: 1.3397504687309265\n",
            "batch loss: 1.452715277671814 | avg loss: 1.3774054050445557\n",
            "batch loss: 1.019685983657837 | avg loss: 1.287975549697876\n",
            "batch loss: 1.2431834936141968 | avg loss: 1.2790171384811402\n",
            "batch loss: 1.7542508840560913 | avg loss: 1.358222762743632\n",
            "batch loss: 0.9863739013671875 | avg loss: 1.3051014968327113\n",
            "batch loss: 0.9666337966918945 | avg loss: 1.2627930343151093\n",
            "batch loss: 0.8847402334213257 | avg loss: 1.2207871675491333\n",
            "batch loss: 0.4400166869163513 | avg loss: 1.142710119485855\n",
            "batch loss: 1.353920578956604 | avg loss: 1.1619110703468323\n",
            "batch loss: 1.319498896598816 | avg loss: 1.1750433892011642\n",
            "batch loss: 1.8486824035644531 | avg loss: 1.2268617749214172\n",
            "batch loss: 1.8884851932525635 | avg loss: 1.2741205905164992\n",
            "batch loss: 1.2667768001556396 | avg loss: 1.2736310044924417\n",
            "batch loss: 0.44859009981155396 | avg loss: 1.2220659479498863\n",
            "batch loss: 0.787411093711853 | avg loss: 1.196498015347649\n",
            "batch loss: 0.8077250123023987 | avg loss: 1.1748995151784685\n",
            "batch loss: 1.0046770572662354 | avg loss: 1.1659404384462457\n",
            "batch loss: 1.1575052738189697 | avg loss: 1.1655186802148818\n",
            "batch loss: 0.6205021739006042 | avg loss: 1.1395655132475353\n",
            "batch loss: 0.6883589625358582 | avg loss: 1.1190561245788226\n",
            "batch loss: 0.5072354078292847 | avg loss: 1.092455223850582\n",
            "batch loss: 0.46803972125053406 | avg loss: 1.0664379112422466\n",
            "batch loss: 0.9837595820426941 | avg loss: 1.0631307780742645\n",
            "batch loss: 0.532789945602417 | avg loss: 1.0427330537484243\n",
            "batch loss: 0.6169200539588928 | avg loss: 1.0269622019043676\n",
            "batch loss: 0.801106333732605 | avg loss: 1.018895920898233\n",
            "batch loss: 0.9472271800041199 | avg loss: 1.0164245850053326\n",
            "batch loss: 0.9793534278869629 | avg loss: 1.0151888797680537\n",
            "batch loss: 1.3719562292099 | avg loss: 1.026697503943597\n",
            "batch loss: 0.4726121723651886 | avg loss: 1.0093823373317719\n",
            "batch loss: 0.70742267370224 | avg loss: 1.0002320444945134\n",
            "batch loss: 1.1334692239761353 | avg loss: 1.0041507850675022\n",
            "batch loss: 0.7504224181175232 | avg loss: 0.9969014031546456\n",
            "batch loss: 0.7651416063308716 | avg loss: 0.9904636310206519\n",
            "batch loss: 0.6320258378982544 | avg loss: 0.980776123098425\n",
            "batch loss: 0.23120823502540588 | avg loss: 0.9610506523596613\n",
            "batch loss: 0.22795145213603973 | avg loss: 0.9422532369693121\n",
            "batch loss: 0.223897784948349 | avg loss: 0.924294350668788\n",
            "batch loss: 0.5844341516494751 | avg loss: 0.9160050775219755\n",
            "batch loss: 1.220118522644043 | avg loss: 0.9232458738344056\n",
            "batch loss: 0.10153474658727646 | avg loss: 0.9041363127356352\n",
            "batch loss: 0.8271746039390564 | avg loss: 0.9023871829902584\n",
            "batch loss: 0.5062631368637085 | avg loss: 0.8935844264096684\n",
            "batch loss: 1.0991913080215454 | avg loss: 0.8980541412273179\n",
            "batch loss: 0.22910062968730927 | avg loss: 0.8838210877902964\n",
            "batch loss: 0.2157418131828308 | avg loss: 0.8699027695693076\n",
            "batch loss: 0.7406443357467651 | avg loss: 0.8672648423484394\n",
            "batch loss: 1.2037920951843262 | avg loss: 0.8739953874051571\n",
            "batch loss: 0.17738758027553558 | avg loss: 0.8603364107947723\n",
            "batch loss: 0.1366121470928192 | avg loss: 0.8464186364928117\n",
            "batch loss: 1.1182647943496704 | avg loss: 0.8515478092825638\n",
            "batch loss: 0.7336639761924744 | avg loss: 0.849364775336451\n",
            "batch loss: 0.05936190485954285 | avg loss: 0.8350010867823254\n",
            "batch loss: 0.10260415077209473 | avg loss: 0.821922570067857\n",
            "batch loss: 0.4241548478603363 | avg loss: 0.814944188976497\n",
            "batch loss: 0.0881529301404953 | avg loss: 0.8024133052034624\n",
            "batch loss: 0.6114816069602966 | avg loss: 0.7991771747247648\n",
            "batch loss: 0.17004705965518951 | avg loss: 0.7886916728069385\n",
            "batch loss: 0.06661445647478104 | avg loss: 0.7768543413916572\n",
            "batch loss: 0.22335495054721832 | avg loss: 0.7679269318619082\n",
            "batch loss: 0.12633131444454193 | avg loss: 0.7577428744425849\n",
            "batch loss: 0.8359286785125732 | avg loss: 0.7589645276311785\n",
            "batch loss: 0.3496336042881012 | avg loss: 0.7526671288105158\n",
            "batch loss: 1.4920308589935303 | avg loss: 0.7638696095708645\n",
            "batch loss: 0.752336323261261 | avg loss: 0.7636974709692286\n",
            "batch loss: 0.18771496415138245 | avg loss: 0.7552271399866132\n",
            "batch loss: 0.5817305445671082 | avg loss: 0.7527126965747364\n",
            "batch loss: 0.24746644496917725 | avg loss: 0.7454948929803712\n",
            "batch loss: 0.028285840526223183 | avg loss: 0.7353933570303128\n",
            "batch loss: 0.07616734504699707 | avg loss: 0.7262374401972111\n",
            "batch loss: 0.9788009524345398 | avg loss: 0.7296972143374485\n",
            "batch loss: 0.026235420256853104 | avg loss: 0.7201909738769\n",
            "\n",
            "  Average training loss: 0.72\n",
            "  Training epoch took: 0:02:23\n",
            "\n",
            "======= Validation =======\n",
            "  Accuracy: 0.89\n",
            "  Validation took: 0:00:07\n",
            "\n",
            "======= Epoch 2 / 3 =======\n",
            "batch loss: 1.5204319953918457 | avg loss: 1.5204319953918457\n",
            "batch loss: 0.030293650925159454 | avg loss: 0.7753628231585026\n",
            "batch loss: 0.01883024163544178 | avg loss: 0.523185295984149\n",
            "batch loss: 1.6352492570877075 | avg loss: 0.8012012862600386\n",
            "batch loss: 0.016074247658252716 | avg loss: 0.6441758785396814\n",
            "batch loss: 0.40050968527793884 | avg loss: 0.603564846329391\n",
            "batch loss: 0.44427788257598877 | avg loss: 0.5808095657931907\n",
            "batch loss: 0.011228177696466446 | avg loss: 0.5096118922811002\n",
            "batch loss: 0.354489266872406 | avg loss: 0.4923760450134675\n",
            "batch loss: 0.012927746400237083 | avg loss: 0.44443121515214445\n",
            "batch loss: 0.1752224713563919 | avg loss: 0.4199576929888942\n",
            "batch loss: 0.29131919145584106 | avg loss: 0.4092378178611398\n",
            "batch loss: 0.398739218711853 | avg loss: 0.40843023331119466\n",
            "batch loss: 0.7479642629623413 | avg loss: 0.43268266400056227\n",
            "batch loss: 0.012666940689086914 | avg loss: 0.4046816157797972\n",
            "batch loss: 0.16906970739364624 | avg loss: 0.3899558715056628\n",
            "batch loss: 0.04505469650030136 | avg loss: 0.3696675670935827\n",
            "batch loss: 0.0887712761759758 | avg loss: 0.3540622175981601\n",
            "batch loss: 0.006986817345023155 | avg loss: 0.33579509126904766\n",
            "batch loss: 0.02800038643181324 | avg loss: 0.3204053560271859\n",
            "batch loss: 0.047449991106987 | avg loss: 0.30740748150717645\n",
            "batch loss: 0.014077715575695038 | avg loss: 0.29407431032847275\n",
            "batch loss: 0.00824095867574215 | avg loss: 0.28164677330009313\n",
            "batch loss: 0.006858568638563156 | avg loss: 0.2701972647725294\n",
            "batch loss: 0.06077994406223297 | avg loss: 0.26182057194411756\n",
            "batch loss: 0.018672121688723564 | avg loss: 0.25246870847275626\n",
            "batch loss: 0.049096520990133286 | avg loss: 0.24493640523265908\n",
            "batch loss: 0.05369598791003227 | avg loss: 0.23810639032827957\n",
            "batch loss: 0.046371351927518845 | avg loss: 0.23149483727997747\n",
            "batch loss: 0.1194400042295456 | avg loss: 0.2277596761782964\n",
            "batch loss: 0.0536777600646019 | avg loss: 0.2221441304972095\n",
            "batch loss: 0.02188195288181305 | avg loss: 0.21588593744672835\n",
            "batch loss: 0.023141156882047653 | avg loss: 0.2100451865205259\n",
            "batch loss: 1.420730471611023 | avg loss: 0.2456535772584817\n",
            "batch loss: 0.6058911681175232 | avg loss: 0.25594607985445433\n",
            "batch loss: 0.028364546597003937 | avg loss: 0.2496243705973029\n",
            "batch loss: 0.015092175453901291 | avg loss: 0.24328566262045423\n",
            "batch loss: 0.004710978828370571 | avg loss: 0.23700738146803096\n",
            "batch loss: 0.0064718653447926044 | avg loss: 0.23109621438794795\n",
            "batch loss: 0.004991143476217985 | avg loss: 0.22544358761515468\n",
            "batch loss: 0.01932571828365326 | avg loss: 0.2204163225095083\n",
            "batch loss: 0.023240627720952034 | avg loss: 0.21572166310978078\n",
            "batch loss: 0.003918827511370182 | avg loss: 0.21079601577028287\n",
            "batch loss: 1.5378848314285278 | avg loss: 0.24095712521706114\n",
            "batch loss: 0.01679423078894615 | avg loss: 0.23597572756310303\n",
            "batch loss: 0.010509413667023182 | avg loss: 0.23107428595666651\n",
            "batch loss: 0.008510087616741657 | avg loss: 0.22633887748134898\n",
            "batch loss: 0.008356999605894089 | avg loss: 0.22179758835894367\n",
            "batch loss: 0.011521674692630768 | avg loss: 0.21750624318208014\n",
            "batch loss: 0.4959490895271301 | avg loss: 0.22307510010898113\n",
            "batch loss: 0.006653474643826485 | avg loss: 0.21883153882535064\n",
            "batch loss: 0.006666724570095539 | avg loss: 0.21475144624351883\n",
            "batch loss: 0.01112663745880127 | avg loss: 0.21090946871927888\n",
            "batch loss: 0.010173525661230087 | avg loss: 0.2071921364404261\n",
            "batch loss: 0.00492653576657176 | avg loss: 0.20351458006453785\n",
            "batch loss: 0.004284036811441183 | avg loss: 0.1999568917921611\n",
            "batch loss: 0.15412259101867676 | avg loss: 0.19915278125227542\n",
            "batch loss: 0.004723807796835899 | avg loss: 0.19580055757200923\n",
            "batch loss: 0.0067583732306957245 | avg loss: 0.19259645275266493\n",
            "batch loss: 0.007025470957159996 | avg loss: 0.1895036030560732\n",
            "batch loss: 0.005669180769473314 | avg loss: 0.1864899240021945\n",
            "batch loss: 0.0077091995626688 | avg loss: 0.18360636393058924\n",
            "batch loss: 0.006002792622894049 | avg loss: 0.1807872596241179\n",
            "batch loss: 0.007259833626449108 | avg loss: 0.17807589359290432\n",
            "batch loss: 0.08850669860839844 | avg loss: 0.17669790597775809\n",
            "batch loss: 0.00557602709159255 | avg loss: 0.1741051502370586\n",
            "batch loss: 0.007036916445940733 | avg loss: 0.17161159450883295\n",
            "batch loss: 0.006726943887770176 | avg loss: 0.1691868202349938\n",
            "batch loss: 0.0073334649205207825 | avg loss: 0.16684111943333477\n",
            "batch loss: 0.004672280512750149 | avg loss: 0.16452442173446927\n",
            "batch loss: 0.0028666150756180286 | avg loss: 0.16224755121814743\n",
            "batch loss: 0.004744663834571838 | avg loss: 0.16006001111559776\n",
            "batch loss: 0.056923456490039825 | avg loss: 0.15864718160017915\n",
            "batch loss: 0.002764096949249506 | avg loss: 0.15654065342922066\n",
            "\n",
            "  Average training loss: 0.16\n",
            "  Training epoch took: 0:02:17\n",
            "\n",
            "======= Validation =======\n",
            "  Accuracy: 0.97\n",
            "  Validation took: 0:00:07\n",
            "\n",
            "======= Epoch 3 / 3 =======\n",
            "batch loss: 3.0661191940307617 | avg loss: 3.0661191940307617\n",
            "batch loss: 0.0021673620212823153 | avg loss: 1.534143278026022\n",
            "batch loss: 0.002560850465670228 | avg loss: 1.0236158021725714\n",
            "batch loss: 0.004184285644441843 | avg loss: 0.768757923040539\n",
            "batch loss: 0.0030005709268152714 | avg loss: 0.6156064526177942\n",
            "batch loss: 0.03282931074500084 | avg loss: 0.5184769289723287\n",
            "batch loss: 0.00407305546104908 | avg loss: 0.4449906613278602\n",
            "batch loss: 0.002800730522722006 | avg loss: 0.3897169199772179\n",
            "batch loss: 0.004713627975434065 | avg loss: 0.34693877642146415\n",
            "batch loss: 0.0033025345765054226 | avg loss: 0.3125751522369683\n",
            "batch loss: 0.004600742366164923 | avg loss: 0.2845774786123498\n",
            "batch loss: 0.005535912699997425 | avg loss: 0.26132401478632045\n",
            "batch loss: 0.004995544441044331 | avg loss: 0.2416064401443761\n",
            "batch loss: 0.005407812539488077 | avg loss: 0.22473510960116982\n",
            "batch loss: 0.0032143450807780027 | avg loss: 0.20996705863314372\n",
            "batch loss: 0.34646785259246826 | avg loss: 0.2184983582556015\n",
            "batch loss: 0.0037161330692470074 | avg loss: 0.2058641097152277\n",
            "batch loss: 0.005030802451074123 | avg loss: 0.19470670375610805\n",
            "batch loss: 0.0032145697623491287 | avg loss: 0.1846281703880155\n",
            "batch loss: 0.0032821581698954105 | avg loss: 0.17556086977710947\n",
            "batch loss: 0.0037117390893399715 | avg loss: 0.16737757783959664\n",
            "batch loss: 0.002904763910919428 | avg loss: 0.15990154084283859\n",
            "batch loss: 0.0036316383630037308 | avg loss: 0.1531071972567588\n",
            "batch loss: 0.002464290941134095 | avg loss: 0.1468304094936078\n",
            "batch loss: 0.004698540549725294 | avg loss: 0.14114513473585247\n",
            "batch loss: 0.004532738123089075 | avg loss: 0.13589081178920773\n",
            "batch loss: 0.004215169697999954 | avg loss: 0.13101393615620005\n",
            "batch loss: 0.005257751327008009 | avg loss: 0.12652264384087175\n",
            "batch loss: 0.005047940649092197 | avg loss: 0.12233386097218969\n",
            "batch loss: 0.00458268728107214 | avg loss: 0.11840882184915244\n",
            "batch loss: 0.0047422125935554504 | avg loss: 0.11474215703445577\n",
            "batch loss: 0.0037539293989539146 | avg loss: 0.11127377492084634\n",
            "batch loss: 0.0035100094974040985 | avg loss: 0.10800820627165111\n",
            "batch loss: 2.677748441696167 | avg loss: 0.18358880143119571\n",
            "batch loss: 0.003930249251425266 | avg loss: 0.17845569994034513\n",
            "batch loss: 0.00364526454359293 | avg loss: 0.17359985451265755\n",
            "batch loss: 0.004610090516507626 | avg loss: 0.1690325635938427\n",
            "batch loss: 0.0022773207165300846 | avg loss: 0.16464426772865026\n",
            "batch loss: 0.0026675648987293243 | avg loss: 0.16049101893813947\n",
            "batch loss: 0.0026489547453820705 | avg loss: 0.15654496733332052\n",
            "batch loss: 0.004045046865940094 | avg loss: 0.15282545707801856\n",
            "batch loss: 0.004110757727175951 | avg loss: 0.1492846309029985\n",
            "batch loss: 0.0027006000746041536 | avg loss: 0.14587569995350097\n",
            "batch loss: 0.006744670681655407 | avg loss: 0.14271363110641355\n",
            "batch loss: 0.005556823220103979 | avg loss: 0.13966570204227335\n",
            "batch loss: 0.004294794984161854 | avg loss: 0.13672285623666222\n",
            "batch loss: 0.0031703379936516285 | avg loss: 0.13388131329532157\n",
            "batch loss: 0.0030562751926481724 | avg loss: 0.13115579166818256\n",
            "batch loss: 0.0037128727417439222 | avg loss: 0.12855491577172462\n",
            "batch loss: 0.00409699697047472 | avg loss: 0.1260657573956996\n",
            "batch loss: 0.0025417273864150047 | avg loss: 0.123643717591596\n",
            "batch loss: 0.002902961103245616 | avg loss: 0.12132177996682003\n",
            "batch loss: 0.0054056113585829735 | avg loss: 0.1191346824459099\n",
            "batch loss: 0.004917663522064686 | avg loss: 0.11701955246583869\n",
            "batch loss: 0.0027117363642901182 | avg loss: 0.11494122853671962\n",
            "batch loss: 0.0024532657116651535 | avg loss: 0.11293251491484366\n",
            "batch loss: 0.005306542851030827 | avg loss: 0.11104433996635571\n",
            "batch loss: 0.0026752008125185966 | avg loss: 0.10917590653266886\n",
            "batch loss: 0.0037017841823399067 | avg loss: 0.10738820954368024\n",
            "batch loss: 0.003546146908774972 | avg loss: 0.10565750849976514\n",
            "batch loss: 0.0022728187032043934 | avg loss: 0.10396267751949366\n",
            "batch loss: 0.0028884410858154297 | avg loss: 0.10233244789959563\n",
            "batch loss: 0.0032974695786833763 | avg loss: 0.100760464116724\n",
            "batch loss: 0.0036780741065740585 | avg loss: 0.09924355177281541\n",
            "batch loss: 0.005556604824960232 | avg loss: 0.09780221412746379\n",
            "batch loss: 0.003490022849291563 | avg loss: 0.09637324153233996\n",
            "batch loss: 0.004705691244453192 | avg loss: 0.09500506913998345\n",
            "batch loss: 0.004712291061878204 | avg loss: 0.09367723416824661\n",
            "batch loss: 0.004809980280697346 | avg loss: 0.09238930295248503\n",
            "batch loss: 0.004048340953886509 | avg loss: 0.0911272892096479\n",
            "batch loss: 0.001866497565060854 | avg loss: 0.08987009496113259\n",
            "batch loss: 0.0035235085524618626 | avg loss: 0.08867083681656772\n",
            "batch loss: 0.0036907531321048737 | avg loss: 0.08750672608116412\n",
            "batch loss: 0.0033732913434505463 | avg loss: 0.08636978777389773\n",
            "\n",
            "  Average training loss: 0.09\n",
            "  Training epoch took: 0:02:19\n",
            "\n",
            "======= Validation =======\n",
            "  Accuracy: 0.97\n",
            "  Validation took: 0:00:08\n",
            "[[1.  0.  0.  0. ]\n",
            " [0.  1.  0.  0. ]\n",
            " [0.  0.  0.9 0.1]\n",
            " [0.  0.  0.  1. ]]\n",
            "\n",
            "Training complete\n"
          ]
        }
      ]
    },
    {
      "cell_type": "markdown",
      "source": [
        "### 3.1.2 Extraccion de respuestas para el caso \"informacion\""
      ],
      "metadata": {
        "id": "KE0I3oiY4RZj"
      }
    },
    {
      "cell_type": "markdown",
      "source": [
        "* Se copia la sección Q&A de la clase práctica de transformers. Es decir, el modelo de **huggingface**:\n",
        "[distill-bert-base-spanish-wwm-cased-finetuned-spa-squad2-es](https://https://huggingface.co/mrm8488/distill-bert-base-spanish-wwm-cased-finetuned-spa-squad2-es) \n",
        "con pipeline: **question-answering**."
      ],
      "metadata": {
        "id": "iKhmX6slOJue"
      }
    },
    {
      "cell_type": "code",
      "source": [
        "# Transformer QA\n",
        "beto_qa = pipeline('question-answering', \n",
        "        model='mrm8488/distill-bert-base-spanish-wwm-cased-finetuned-spa-squad2-es',\n",
        "        tokenizer=('mrm8488/distill-bert-base-spanish-wwm-cased-finetuned-spa-squad2-es', {\"use_fast\": False})\n",
        "    )\n"
      ],
      "metadata": {
        "id": "DwFUWjcuKbrF",
        "colab": {
          "base_uri": "https://localhost:8080/",
          "height": 177,
          "referenced_widgets": [
            "bb2bad59071b45a4abeaf65f263a8988",
            "cc10a81fdbdd46a09db654d94e151bb8",
            "342c3c43a792497db74d927bab6d3565",
            "17d4feb52a9f4887882b7ca4dc2346cd",
            "262dc4c8379b46a58f2947fc6d914139",
            "3c507a7ddb8a4bdf88dc21e867764c52",
            "3100c490d85c456db7b9fa75aafeae76",
            "ea87f08119084163b7fb908746b88783",
            "d9ee33c68d1d4726b6df5df0454166fc",
            "51d9692a176c421c9ef18a0d4e638619",
            "2edf02a86bc34c75899f4ae321d51d1d",
            "6ed5ec4912ff4b2dbf3113fad625fc90",
            "4b9381adfd934c7fa74c6d38b028a55f",
            "59e0167657bd4eb290261838a6b3d356",
            "b4aee096fbad470f9f6a0a622170c8a8",
            "e21329094625405db39d6fe9117216d3",
            "8abe30997c374e279a0f7070b89dc5ac",
            "38571196fef4434fa0a3655492dc3490",
            "d45c75b368194ffab0713091e13191b7",
            "1fb1b42066f44ab1b758f48e3b4becab",
            "d9b1adcc9e26415989a92f5a72a3ea71",
            "a2678a23a7504fe080ac0eb181f574da",
            "99caa9d249d84358a5375571ec2f1d89",
            "c98a51d28fd941c786689867bfd9eab7",
            "872a0a4bacfc4851928984bb5675d09d",
            "5e3abea9519b4442ad9a017b726fce23",
            "74c25474bbb74502bcb0aa748567e2dc",
            "bcc931fdfa8b410ba5304245e7f8d42e",
            "12bd91b9b6734374b49aa8c9cfb90756",
            "e4b04d17296c4e14bc1a4509526b2e31",
            "4eed180c96c949b0a1681b40016aaa4c",
            "0d423d85c46c41f6a49220786cad7a20",
            "f40086c1380f418aa47be25a056601b0",
            "44b3701ad4e0472f996f0f967f2d43f2",
            "76fae0a8f12a433abc201c13b42651e1",
            "4455b1b2848e4cedafb68178e1b8dfba",
            "f15dbdf3ece34ee2a97c9c957a7ce67e",
            "647846276ab0478c819f8e6e3d08385f",
            "f8e3f74ea22b4eacb5fe9a12123bede5",
            "0724f1ec9e984800b2aeff65eb15cbc6",
            "e0ee4101570043f48595dbd7a4e86565",
            "d6b5db43924d413db2f2fb6232a0030c",
            "a0f58541d3924458aefe57de9f40f0c6",
            "b003b45ef312419bbbfb3383588673ea",
            "60a27468b8954448bb61933cd7661eeb",
            "84d4c7592662493c92cda65cb3edd64f",
            "884b79c7db0b459daa751d555442bf28",
            "d991688e948a40939230edd81e2c5be2",
            "6f9624ed33954578a6a37ff67f7dae62",
            "6193d997d305409bbbc1477004ff677d",
            "f5b1ee9849574356ae86af8ac721b0d9",
            "59539ded9bbc466195967b59180e9a86",
            "a7b8569455af424589735c62dc4d4e37",
            "8f09cb5e675744859e0d6676b061d35b",
            "84672e52fdbc4e479afceef2613e8c99"
          ]
        },
        "outputId": "305e67a5-93d2-4d36-bf24-4326a117f855"
      },
      "execution_count": 21,
      "outputs": [
        {
          "output_type": "display_data",
          "data": {
            "application/vnd.jupyter.widget-view+json": {
              "model_id": "bb2bad59071b45a4abeaf65f263a8988",
              "version_minor": 0,
              "version_major": 2
            },
            "text/plain": [
              "Downloading:   0%|          | 0.00/465 [00:00<?, ?B/s]"
            ]
          },
          "metadata": {}
        },
        {
          "output_type": "display_data",
          "data": {
            "application/vnd.jupyter.widget-view+json": {
              "model_id": "6ed5ec4912ff4b2dbf3113fad625fc90",
              "version_minor": 0,
              "version_major": 2
            },
            "text/plain": [
              "Downloading:   0%|          | 0.00/419M [00:00<?, ?B/s]"
            ]
          },
          "metadata": {}
        },
        {
          "output_type": "display_data",
          "data": {
            "application/vnd.jupyter.widget-view+json": {
              "model_id": "99caa9d249d84358a5375571ec2f1d89",
              "version_minor": 0,
              "version_major": 2
            },
            "text/plain": [
              "Downloading:   0%|          | 0.00/135 [00:00<?, ?B/s]"
            ]
          },
          "metadata": {}
        },
        {
          "output_type": "display_data",
          "data": {
            "application/vnd.jupyter.widget-view+json": {
              "model_id": "44b3701ad4e0472f996f0f967f2d43f2",
              "version_minor": 0,
              "version_major": 2
            },
            "text/plain": [
              "Downloading:   0%|          | 0.00/237k [00:00<?, ?B/s]"
            ]
          },
          "metadata": {}
        },
        {
          "output_type": "display_data",
          "data": {
            "application/vnd.jupyter.widget-view+json": {
              "model_id": "60a27468b8954448bb61933cd7661eeb",
              "version_minor": 0,
              "version_major": 2
            },
            "text/plain": [
              "Downloading:   0%|          | 0.00/112 [00:00<?, ?B/s]"
            ]
          },
          "metadata": {}
        }
      ]
    },
    {
      "cell_type": "markdown",
      "source": [
        "* Para el texto del contexto, simplemente, se concatenan todas las respuestas de testQA.csv y se genera un solo string:"
      ],
      "metadata": {
        "id": "eJjtM06XOQGy"
      }
    },
    {
      "cell_type": "code",
      "source": [
        "context_text='. '.join(qa.Respuesta.tolist())"
      ],
      "metadata": {
        "id": "Y8UqM2IvQPt5"
      },
      "execution_count": 31,
      "outputs": []
    },
    {
      "cell_type": "markdown",
      "source": [
        "* La función **beto_get_answer()** se utiliza para entregar una respuesta mas amigable al usuario en caso de estar utilizando un chat bot real y que no encuentre una respuesta adecuada."
      ],
      "metadata": {
        "id": "savyr6vROpv7"
      }
    },
    {
      "cell_type": "code",
      "source": [
        "def beto_get_answer(question):\n",
        "  respuesta = beto_qa({'question': question, 'context': context_text})\n",
        "  if respuesta['score'] < 0.01:\n",
        "    return \"Perdón, pero no tengo respuesta para esa pregunta.\"\n",
        "  else:\n",
        "    return respuesta['answer']"
      ],
      "metadata": {
        "id": "gcAONrwZBpAM"
      },
      "execution_count": 34,
      "outputs": []
    },
    {
      "cell_type": "markdown",
      "source": [
        "## 3.2 Reporte el tipo de red, y las métricas de entrenamiento usadas"
      ],
      "metadata": {
        "id": "mRSEUuUJHlOe"
      }
    },
    {
      "cell_type": "markdown",
      "source": [
        "### 3.2.1\n",
        "\n",
        "* Para la sección 3.1.1 (BertForSequenceClassification) se entrenó el modelo con los pesos preentrenados de BETO (BERT para español) en el tokenizador. La métrica utilizada para optimizar el clasificador fue accuracy. Se obtuvo un accuracy de 0.97.- En general, identifica todos los textos correspondientes a 'información', 'nombre' y 'despedida', y obtiene 0.9 de accuracy para la clase 'saludo'. \n"
      ],
      "metadata": {
        "id": "LyPeBhVGPJ4_"
      }
    },
    {
      "cell_type": "markdown",
      "source": [
        "### 3.2.2"
      ],
      "metadata": {
        "id": "RfD8A2tQPP4F"
      }
    },
    {
      "cell_type": "markdown",
      "source": [
        "* Para la seccion 3.1.2 (Q&A), el modelo de **huggingface**:\\\n",
        "[distill-bert-base-spanish-wwm-cased-finetuned-spa-squad2-es](https://huggingface.co/mrm8488/distill-bert-base-spanish-wwm-cased-finetuned-spa-squad2-es) también está basado en BETO.\n",
        "\n",
        "* La versión de BETO que utiliza es [dccuchile/bert-base-spanish-wwm-cased](https://huggingface.co/dccuchile/bert-base-spanish-wwm-cased)\n",
        "* Sobre esto se le aplica *fine tuning* utilizando el dataset [SQuAD 2.0 en Español](https://github.com/ccasimiro88/TranslateAlignRetrieve/blob/master/SQuAD-es-v2.0/) (consistente en preguntas y respuestas) para re-entrenar.\n",
        "*   Aplicada *Distillation* que otorga mejora comprobada en accuracy. Y mejora reportada en eficiencia al entrenar. "
      ],
      "metadata": {
        "id": "T4NLJueMKkE3"
      }
    },
    {
      "cell_type": "markdown",
      "source": [
        "## 3.3 Reporte el resultado con los textos de prueba."
      ],
      "metadata": {
        "id": "Gr5t043nHs4o"
      }
    },
    {
      "cell_type": "code",
      "source": [
        "print('¿Sólo las empresas pueden tener una cuenta con Chilexpress?')\n",
        "print(beto_get_answer('¿Sólo las empresas pueden tener una cuenta con Chilexpress?')+\"\\n\")\n",
        "print('¿puedo retirar un giro de dinero?')\n",
        "print(beto_get_answer('¿puedo retirar un giro de dinero?')+\"\\n\")\n",
        "print('Puede otra persona retirar mi pedido')\n",
        "print(beto_get_answer('Puede otra persona retirar mi pedido')+\"\\n\")\n",
        "print('¿Qué es la Orden de Transporte (OT)?')\n",
        "print(beto_get_answer('¿Qué es la Orden de Transporte (OT)?')+\"\\n\")\n",
        "print('¿Qué es un envío sobredimensionado?')\n",
        "print(beto_get_answer('¿Qué es un envío sobredimensionado?')+\"\\n\")\n",
        "print('¿Quién ganará la próxima elección?')\n",
        "print(beto_get_answer('¿Quién ganará la próxima elección?')+\"\\n\")"
      ],
      "metadata": {
        "colab": {
          "base_uri": "https://localhost:8080/"
        },
        "id": "r0tRjpyEAZVX",
        "outputId": "dd557fb5-2891-4452-92ec-351b29214131"
      },
      "execution_count": 36,
      "outputs": [
        {
          "output_type": "stream",
          "name": "stdout",
          "text": [
            "¿Sólo las empresas pueden tener una cuenta con Chilexpress?\n",
            "Sí, sólo las empresas pueden obtener una cuenta con Chilexpress.\n",
            "\n",
            "¿puedo retirar un giro de dinero?\n",
            "Una tercera persona puede retirar un envío por pagar\n",
            "\n",
            "Puede otra persona retirar mi pedido\n",
            "Debes retirar tu encomienda en la sucursal donde se encuentra disponible para retiro.\n",
            "\n",
            "¿Qué es la Orden de Transporte (OT)?\n",
            "el número asociado al envío.\n",
            "\n",
            "¿Qué es un envío sobredimensionado?\n",
            "Perdón, pero no tengo respuesta para esa pregunta.\n",
            "\n",
            "¿Quién ganará la próxima elección?\n",
            "Perdón, pero no tengo respuesta para esa pregunta.\n",
            "\n"
          ]
        }
      ]
    },
    {
      "cell_type": "markdown",
      "source": [
        "# Conclusión\n",
        "\n",
        "El desarrollo de esta tarea permite concluir que los métodos anteriores a transformers, en los que se utilizan embeddings como Word2Vec (desarrollado en esta tarea) o Elmo, tiene una mayor dificultad lograr entrenar un modelo que pueda identificar el tipo de preguntas o cuáles son las palabras claves de ellas. Se necesita una gran cantidad de ejemplos clasificados para lograr buenos resultados. \n",
        "\n",
        "En el caso de las redes tipo transformers, se utiliza un modelo preentrenado como BERT o BETO (BERT en español) como tokenizador. De esta forma, se utiliza un modelo entrenado en *todo* el idioma con lo que se pueden identificar las clases de las frases con una mayor precisión, con la misma cantidad de datos. "
      ],
      "metadata": {
        "id": "2JwboiqsFaoS"
      }
    }
  ]
}